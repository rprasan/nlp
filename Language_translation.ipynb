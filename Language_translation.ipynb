{
  "nbformat": 4,
  "nbformat_minor": 0,
  "metadata": {
    "colab": {
      "provenance": [],
      "machine_shape": "hm",
      "gpuType": "T4"
    },
    "kernelspec": {
      "name": "python3",
      "display_name": "Python 3"
    },
    "language_info": {
      "name": "python"
    },
    "widgets": {
      "application/vnd.jupyter.widget-state+json": {
        "5a89036d7eab4d399bc3bace665e505d": {
          "model_module": "@jupyter-widgets/controls",
          "model_name": "HBoxModel",
          "model_module_version": "1.5.0",
          "state": {
            "_dom_classes": [],
            "_model_module": "@jupyter-widgets/controls",
            "_model_module_version": "1.5.0",
            "_model_name": "HBoxModel",
            "_view_count": null,
            "_view_module": "@jupyter-widgets/controls",
            "_view_module_version": "1.5.0",
            "_view_name": "HBoxView",
            "box_style": "",
            "children": [
              "IPY_MODEL_1b8b9df6f2a84579a12d7360d6cb70c6",
              "IPY_MODEL_b276dd411388444cbe598e9d33142781",
              "IPY_MODEL_578bd714df324f7ca0f3682802966abb"
            ],
            "layout": "IPY_MODEL_5b93eb2e094146a8b9c3afd6c84c4f4b"
          }
        },
        "1b8b9df6f2a84579a12d7360d6cb70c6": {
          "model_module": "@jupyter-widgets/controls",
          "model_name": "HTMLModel",
          "model_module_version": "1.5.0",
          "state": {
            "_dom_classes": [],
            "_model_module": "@jupyter-widgets/controls",
            "_model_module_version": "1.5.0",
            "_model_name": "HTMLModel",
            "_view_count": null,
            "_view_module": "@jupyter-widgets/controls",
            "_view_module_version": "1.5.0",
            "_view_name": "HTMLView",
            "description": "",
            "description_tooltip": null,
            "layout": "IPY_MODEL_081fed92e7a5460a950f6a28e226cba2",
            "placeholder": "​",
            "style": "IPY_MODEL_02feae23c9ff49b5b2ed95d2e10819f8",
            "value": "Map: 100%"
          }
        },
        "b276dd411388444cbe598e9d33142781": {
          "model_module": "@jupyter-widgets/controls",
          "model_name": "FloatProgressModel",
          "model_module_version": "1.5.0",
          "state": {
            "_dom_classes": [],
            "_model_module": "@jupyter-widgets/controls",
            "_model_module_version": "1.5.0",
            "_model_name": "FloatProgressModel",
            "_view_count": null,
            "_view_module": "@jupyter-widgets/controls",
            "_view_module_version": "1.5.0",
            "_view_name": "ProgressView",
            "bar_style": "success",
            "description": "",
            "description_tooltip": null,
            "layout": "IPY_MODEL_e72f754079364f36b5e8db07d0417cfe",
            "max": 1014,
            "min": 0,
            "orientation": "horizontal",
            "style": "IPY_MODEL_3810d0e5d15e44c5809512c7f7c9102d",
            "value": 1014
          }
        },
        "578bd714df324f7ca0f3682802966abb": {
          "model_module": "@jupyter-widgets/controls",
          "model_name": "HTMLModel",
          "model_module_version": "1.5.0",
          "state": {
            "_dom_classes": [],
            "_model_module": "@jupyter-widgets/controls",
            "_model_module_version": "1.5.0",
            "_model_name": "HTMLModel",
            "_view_count": null,
            "_view_module": "@jupyter-widgets/controls",
            "_view_module_version": "1.5.0",
            "_view_name": "HTMLView",
            "description": "",
            "description_tooltip": null,
            "layout": "IPY_MODEL_7cb7c1f4f9c9490f85792483fd7d50cd",
            "placeholder": "​",
            "style": "IPY_MODEL_619f4137961548a6b646d2d582b83175",
            "value": " 1014/1014 [00:00&lt;00:00, 2541.95 examples/s]"
          }
        },
        "5b93eb2e094146a8b9c3afd6c84c4f4b": {
          "model_module": "@jupyter-widgets/base",
          "model_name": "LayoutModel",
          "model_module_version": "1.2.0",
          "state": {
            "_model_module": "@jupyter-widgets/base",
            "_model_module_version": "1.2.0",
            "_model_name": "LayoutModel",
            "_view_count": null,
            "_view_module": "@jupyter-widgets/base",
            "_view_module_version": "1.2.0",
            "_view_name": "LayoutView",
            "align_content": null,
            "align_items": null,
            "align_self": null,
            "border": null,
            "bottom": null,
            "display": null,
            "flex": null,
            "flex_flow": null,
            "grid_area": null,
            "grid_auto_columns": null,
            "grid_auto_flow": null,
            "grid_auto_rows": null,
            "grid_column": null,
            "grid_gap": null,
            "grid_row": null,
            "grid_template_areas": null,
            "grid_template_columns": null,
            "grid_template_rows": null,
            "height": null,
            "justify_content": null,
            "justify_items": null,
            "left": null,
            "margin": null,
            "max_height": null,
            "max_width": null,
            "min_height": null,
            "min_width": null,
            "object_fit": null,
            "object_position": null,
            "order": null,
            "overflow": null,
            "overflow_x": null,
            "overflow_y": null,
            "padding": null,
            "right": null,
            "top": null,
            "visibility": null,
            "width": null
          }
        },
        "081fed92e7a5460a950f6a28e226cba2": {
          "model_module": "@jupyter-widgets/base",
          "model_name": "LayoutModel",
          "model_module_version": "1.2.0",
          "state": {
            "_model_module": "@jupyter-widgets/base",
            "_model_module_version": "1.2.0",
            "_model_name": "LayoutModel",
            "_view_count": null,
            "_view_module": "@jupyter-widgets/base",
            "_view_module_version": "1.2.0",
            "_view_name": "LayoutView",
            "align_content": null,
            "align_items": null,
            "align_self": null,
            "border": null,
            "bottom": null,
            "display": null,
            "flex": null,
            "flex_flow": null,
            "grid_area": null,
            "grid_auto_columns": null,
            "grid_auto_flow": null,
            "grid_auto_rows": null,
            "grid_column": null,
            "grid_gap": null,
            "grid_row": null,
            "grid_template_areas": null,
            "grid_template_columns": null,
            "grid_template_rows": null,
            "height": null,
            "justify_content": null,
            "justify_items": null,
            "left": null,
            "margin": null,
            "max_height": null,
            "max_width": null,
            "min_height": null,
            "min_width": null,
            "object_fit": null,
            "object_position": null,
            "order": null,
            "overflow": null,
            "overflow_x": null,
            "overflow_y": null,
            "padding": null,
            "right": null,
            "top": null,
            "visibility": null,
            "width": null
          }
        },
        "02feae23c9ff49b5b2ed95d2e10819f8": {
          "model_module": "@jupyter-widgets/controls",
          "model_name": "DescriptionStyleModel",
          "model_module_version": "1.5.0",
          "state": {
            "_model_module": "@jupyter-widgets/controls",
            "_model_module_version": "1.5.0",
            "_model_name": "DescriptionStyleModel",
            "_view_count": null,
            "_view_module": "@jupyter-widgets/base",
            "_view_module_version": "1.2.0",
            "_view_name": "StyleView",
            "description_width": ""
          }
        },
        "e72f754079364f36b5e8db07d0417cfe": {
          "model_module": "@jupyter-widgets/base",
          "model_name": "LayoutModel",
          "model_module_version": "1.2.0",
          "state": {
            "_model_module": "@jupyter-widgets/base",
            "_model_module_version": "1.2.0",
            "_model_name": "LayoutModel",
            "_view_count": null,
            "_view_module": "@jupyter-widgets/base",
            "_view_module_version": "1.2.0",
            "_view_name": "LayoutView",
            "align_content": null,
            "align_items": null,
            "align_self": null,
            "border": null,
            "bottom": null,
            "display": null,
            "flex": null,
            "flex_flow": null,
            "grid_area": null,
            "grid_auto_columns": null,
            "grid_auto_flow": null,
            "grid_auto_rows": null,
            "grid_column": null,
            "grid_gap": null,
            "grid_row": null,
            "grid_template_areas": null,
            "grid_template_columns": null,
            "grid_template_rows": null,
            "height": null,
            "justify_content": null,
            "justify_items": null,
            "left": null,
            "margin": null,
            "max_height": null,
            "max_width": null,
            "min_height": null,
            "min_width": null,
            "object_fit": null,
            "object_position": null,
            "order": null,
            "overflow": null,
            "overflow_x": null,
            "overflow_y": null,
            "padding": null,
            "right": null,
            "top": null,
            "visibility": null,
            "width": null
          }
        },
        "3810d0e5d15e44c5809512c7f7c9102d": {
          "model_module": "@jupyter-widgets/controls",
          "model_name": "ProgressStyleModel",
          "model_module_version": "1.5.0",
          "state": {
            "_model_module": "@jupyter-widgets/controls",
            "_model_module_version": "1.5.0",
            "_model_name": "ProgressStyleModel",
            "_view_count": null,
            "_view_module": "@jupyter-widgets/base",
            "_view_module_version": "1.2.0",
            "_view_name": "StyleView",
            "bar_color": null,
            "description_width": ""
          }
        },
        "7cb7c1f4f9c9490f85792483fd7d50cd": {
          "model_module": "@jupyter-widgets/base",
          "model_name": "LayoutModel",
          "model_module_version": "1.2.0",
          "state": {
            "_model_module": "@jupyter-widgets/base",
            "_model_module_version": "1.2.0",
            "_model_name": "LayoutModel",
            "_view_count": null,
            "_view_module": "@jupyter-widgets/base",
            "_view_module_version": "1.2.0",
            "_view_name": "LayoutView",
            "align_content": null,
            "align_items": null,
            "align_self": null,
            "border": null,
            "bottom": null,
            "display": null,
            "flex": null,
            "flex_flow": null,
            "grid_area": null,
            "grid_auto_columns": null,
            "grid_auto_flow": null,
            "grid_auto_rows": null,
            "grid_column": null,
            "grid_gap": null,
            "grid_row": null,
            "grid_template_areas": null,
            "grid_template_columns": null,
            "grid_template_rows": null,
            "height": null,
            "justify_content": null,
            "justify_items": null,
            "left": null,
            "margin": null,
            "max_height": null,
            "max_width": null,
            "min_height": null,
            "min_width": null,
            "object_fit": null,
            "object_position": null,
            "order": null,
            "overflow": null,
            "overflow_x": null,
            "overflow_y": null,
            "padding": null,
            "right": null,
            "top": null,
            "visibility": null,
            "width": null
          }
        },
        "619f4137961548a6b646d2d582b83175": {
          "model_module": "@jupyter-widgets/controls",
          "model_name": "DescriptionStyleModel",
          "model_module_version": "1.5.0",
          "state": {
            "_model_module": "@jupyter-widgets/controls",
            "_model_module_version": "1.5.0",
            "_model_name": "DescriptionStyleModel",
            "_view_count": null,
            "_view_module": "@jupyter-widgets/base",
            "_view_module_version": "1.2.0",
            "_view_name": "StyleView",
            "description_width": ""
          }
        },
        "1e6496f0f9a44ba7b22d83ac5779216c": {
          "model_module": "@jupyter-widgets/controls",
          "model_name": "HBoxModel",
          "model_module_version": "1.5.0",
          "state": {
            "_dom_classes": [],
            "_model_module": "@jupyter-widgets/controls",
            "_model_module_version": "1.5.0",
            "_model_name": "HBoxModel",
            "_view_count": null,
            "_view_module": "@jupyter-widgets/controls",
            "_view_module_version": "1.5.0",
            "_view_name": "HBoxView",
            "box_style": "",
            "children": [
              "IPY_MODEL_e28228684ea84c3f817b667129e24731",
              "IPY_MODEL_9b389bc6aed84f3c8543241681d64090",
              "IPY_MODEL_16b944608ba74549a926d839e05bb3b5"
            ],
            "layout": "IPY_MODEL_c559f71447484a93b4181945dad737ae"
          }
        },
        "e28228684ea84c3f817b667129e24731": {
          "model_module": "@jupyter-widgets/controls",
          "model_name": "HTMLModel",
          "model_module_version": "1.5.0",
          "state": {
            "_dom_classes": [],
            "_model_module": "@jupyter-widgets/controls",
            "_model_module_version": "1.5.0",
            "_model_name": "HTMLModel",
            "_view_count": null,
            "_view_module": "@jupyter-widgets/controls",
            "_view_module_version": "1.5.0",
            "_view_name": "HTMLView",
            "description": "",
            "description_tooltip": null,
            "layout": "IPY_MODEL_a39ddce30c524341aaa94d4ea3295e4c",
            "placeholder": "​",
            "style": "IPY_MODEL_59d6c87afacb42399bf17b685899efda",
            "value": "Map: 100%"
          }
        },
        "9b389bc6aed84f3c8543241681d64090": {
          "model_module": "@jupyter-widgets/controls",
          "model_name": "FloatProgressModel",
          "model_module_version": "1.5.0",
          "state": {
            "_dom_classes": [],
            "_model_module": "@jupyter-widgets/controls",
            "_model_module_version": "1.5.0",
            "_model_name": "FloatProgressModel",
            "_view_count": null,
            "_view_module": "@jupyter-widgets/controls",
            "_view_module_version": "1.5.0",
            "_view_name": "ProgressView",
            "bar_style": "success",
            "description": "",
            "description_tooltip": null,
            "layout": "IPY_MODEL_b704bf29c7dd4755a8dfa2a83ff487b7",
            "max": 1000,
            "min": 0,
            "orientation": "horizontal",
            "style": "IPY_MODEL_bb17818fe9754c2abfc08d1e0494c142",
            "value": 1000
          }
        },
        "16b944608ba74549a926d839e05bb3b5": {
          "model_module": "@jupyter-widgets/controls",
          "model_name": "HTMLModel",
          "model_module_version": "1.5.0",
          "state": {
            "_dom_classes": [],
            "_model_module": "@jupyter-widgets/controls",
            "_model_module_version": "1.5.0",
            "_model_name": "HTMLModel",
            "_view_count": null,
            "_view_module": "@jupyter-widgets/controls",
            "_view_module_version": "1.5.0",
            "_view_name": "HTMLView",
            "description": "",
            "description_tooltip": null,
            "layout": "IPY_MODEL_e584c421cc044196b25bdf60f1adc561",
            "placeholder": "​",
            "style": "IPY_MODEL_7a88a5b261fa44a992b73eb1eea492dc",
            "value": " 1000/1000 [00:00&lt;00:00, 3277.69 examples/s]"
          }
        },
        "c559f71447484a93b4181945dad737ae": {
          "model_module": "@jupyter-widgets/base",
          "model_name": "LayoutModel",
          "model_module_version": "1.2.0",
          "state": {
            "_model_module": "@jupyter-widgets/base",
            "_model_module_version": "1.2.0",
            "_model_name": "LayoutModel",
            "_view_count": null,
            "_view_module": "@jupyter-widgets/base",
            "_view_module_version": "1.2.0",
            "_view_name": "LayoutView",
            "align_content": null,
            "align_items": null,
            "align_self": null,
            "border": null,
            "bottom": null,
            "display": null,
            "flex": null,
            "flex_flow": null,
            "grid_area": null,
            "grid_auto_columns": null,
            "grid_auto_flow": null,
            "grid_auto_rows": null,
            "grid_column": null,
            "grid_gap": null,
            "grid_row": null,
            "grid_template_areas": null,
            "grid_template_columns": null,
            "grid_template_rows": null,
            "height": null,
            "justify_content": null,
            "justify_items": null,
            "left": null,
            "margin": null,
            "max_height": null,
            "max_width": null,
            "min_height": null,
            "min_width": null,
            "object_fit": null,
            "object_position": null,
            "order": null,
            "overflow": null,
            "overflow_x": null,
            "overflow_y": null,
            "padding": null,
            "right": null,
            "top": null,
            "visibility": null,
            "width": null
          }
        },
        "a39ddce30c524341aaa94d4ea3295e4c": {
          "model_module": "@jupyter-widgets/base",
          "model_name": "LayoutModel",
          "model_module_version": "1.2.0",
          "state": {
            "_model_module": "@jupyter-widgets/base",
            "_model_module_version": "1.2.0",
            "_model_name": "LayoutModel",
            "_view_count": null,
            "_view_module": "@jupyter-widgets/base",
            "_view_module_version": "1.2.0",
            "_view_name": "LayoutView",
            "align_content": null,
            "align_items": null,
            "align_self": null,
            "border": null,
            "bottom": null,
            "display": null,
            "flex": null,
            "flex_flow": null,
            "grid_area": null,
            "grid_auto_columns": null,
            "grid_auto_flow": null,
            "grid_auto_rows": null,
            "grid_column": null,
            "grid_gap": null,
            "grid_row": null,
            "grid_template_areas": null,
            "grid_template_columns": null,
            "grid_template_rows": null,
            "height": null,
            "justify_content": null,
            "justify_items": null,
            "left": null,
            "margin": null,
            "max_height": null,
            "max_width": null,
            "min_height": null,
            "min_width": null,
            "object_fit": null,
            "object_position": null,
            "order": null,
            "overflow": null,
            "overflow_x": null,
            "overflow_y": null,
            "padding": null,
            "right": null,
            "top": null,
            "visibility": null,
            "width": null
          }
        },
        "59d6c87afacb42399bf17b685899efda": {
          "model_module": "@jupyter-widgets/controls",
          "model_name": "DescriptionStyleModel",
          "model_module_version": "1.5.0",
          "state": {
            "_model_module": "@jupyter-widgets/controls",
            "_model_module_version": "1.5.0",
            "_model_name": "DescriptionStyleModel",
            "_view_count": null,
            "_view_module": "@jupyter-widgets/base",
            "_view_module_version": "1.2.0",
            "_view_name": "StyleView",
            "description_width": ""
          }
        },
        "b704bf29c7dd4755a8dfa2a83ff487b7": {
          "model_module": "@jupyter-widgets/base",
          "model_name": "LayoutModel",
          "model_module_version": "1.2.0",
          "state": {
            "_model_module": "@jupyter-widgets/base",
            "_model_module_version": "1.2.0",
            "_model_name": "LayoutModel",
            "_view_count": null,
            "_view_module": "@jupyter-widgets/base",
            "_view_module_version": "1.2.0",
            "_view_name": "LayoutView",
            "align_content": null,
            "align_items": null,
            "align_self": null,
            "border": null,
            "bottom": null,
            "display": null,
            "flex": null,
            "flex_flow": null,
            "grid_area": null,
            "grid_auto_columns": null,
            "grid_auto_flow": null,
            "grid_auto_rows": null,
            "grid_column": null,
            "grid_gap": null,
            "grid_row": null,
            "grid_template_areas": null,
            "grid_template_columns": null,
            "grid_template_rows": null,
            "height": null,
            "justify_content": null,
            "justify_items": null,
            "left": null,
            "margin": null,
            "max_height": null,
            "max_width": null,
            "min_height": null,
            "min_width": null,
            "object_fit": null,
            "object_position": null,
            "order": null,
            "overflow": null,
            "overflow_x": null,
            "overflow_y": null,
            "padding": null,
            "right": null,
            "top": null,
            "visibility": null,
            "width": null
          }
        },
        "bb17818fe9754c2abfc08d1e0494c142": {
          "model_module": "@jupyter-widgets/controls",
          "model_name": "ProgressStyleModel",
          "model_module_version": "1.5.0",
          "state": {
            "_model_module": "@jupyter-widgets/controls",
            "_model_module_version": "1.5.0",
            "_model_name": "ProgressStyleModel",
            "_view_count": null,
            "_view_module": "@jupyter-widgets/base",
            "_view_module_version": "1.2.0",
            "_view_name": "StyleView",
            "bar_color": null,
            "description_width": ""
          }
        },
        "e584c421cc044196b25bdf60f1adc561": {
          "model_module": "@jupyter-widgets/base",
          "model_name": "LayoutModel",
          "model_module_version": "1.2.0",
          "state": {
            "_model_module": "@jupyter-widgets/base",
            "_model_module_version": "1.2.0",
            "_model_name": "LayoutModel",
            "_view_count": null,
            "_view_module": "@jupyter-widgets/base",
            "_view_module_version": "1.2.0",
            "_view_name": "LayoutView",
            "align_content": null,
            "align_items": null,
            "align_self": null,
            "border": null,
            "bottom": null,
            "display": null,
            "flex": null,
            "flex_flow": null,
            "grid_area": null,
            "grid_auto_columns": null,
            "grid_auto_flow": null,
            "grid_auto_rows": null,
            "grid_column": null,
            "grid_gap": null,
            "grid_row": null,
            "grid_template_areas": null,
            "grid_template_columns": null,
            "grid_template_rows": null,
            "height": null,
            "justify_content": null,
            "justify_items": null,
            "left": null,
            "margin": null,
            "max_height": null,
            "max_width": null,
            "min_height": null,
            "min_width": null,
            "object_fit": null,
            "object_position": null,
            "order": null,
            "overflow": null,
            "overflow_x": null,
            "overflow_y": null,
            "padding": null,
            "right": null,
            "top": null,
            "visibility": null,
            "width": null
          }
        },
        "7a88a5b261fa44a992b73eb1eea492dc": {
          "model_module": "@jupyter-widgets/controls",
          "model_name": "DescriptionStyleModel",
          "model_module_version": "1.5.0",
          "state": {
            "_model_module": "@jupyter-widgets/controls",
            "_model_module_version": "1.5.0",
            "_model_name": "DescriptionStyleModel",
            "_view_count": null,
            "_view_module": "@jupyter-widgets/base",
            "_view_module_version": "1.2.0",
            "_view_name": "StyleView",
            "description_width": ""
          }
        },
        "c4e6a1c9074d4c5ba1f2aa052ca9bcc8": {
          "model_module": "@jupyter-widgets/controls",
          "model_name": "HBoxModel",
          "model_module_version": "1.5.0",
          "state": {
            "_dom_classes": [],
            "_model_module": "@jupyter-widgets/controls",
            "_model_module_version": "1.5.0",
            "_model_name": "HBoxModel",
            "_view_count": null,
            "_view_module": "@jupyter-widgets/controls",
            "_view_module_version": "1.5.0",
            "_view_name": "HBoxView",
            "box_style": "",
            "children": [
              "IPY_MODEL_bdee83022f584692902d4d8365dc6893",
              "IPY_MODEL_54fe431a0c1c40c392618067542df43d",
              "IPY_MODEL_810c2f7773734af28eb2fbf36de9673a"
            ],
            "layout": "IPY_MODEL_188d3ec3003744c8a73e4c6feec94b07"
          }
        },
        "bdee83022f584692902d4d8365dc6893": {
          "model_module": "@jupyter-widgets/controls",
          "model_name": "HTMLModel",
          "model_module_version": "1.5.0",
          "state": {
            "_dom_classes": [],
            "_model_module": "@jupyter-widgets/controls",
            "_model_module_version": "1.5.0",
            "_model_name": "HTMLModel",
            "_view_count": null,
            "_view_module": "@jupyter-widgets/controls",
            "_view_module_version": "1.5.0",
            "_view_name": "HTMLView",
            "description": "",
            "description_tooltip": null,
            "layout": "IPY_MODEL_da77222884544af6982431fe1ae7f64a",
            "placeholder": "​",
            "style": "IPY_MODEL_22c8624bf4d44058bfc1695aa381d2f0",
            "value": "Map: 100%"
          }
        },
        "54fe431a0c1c40c392618067542df43d": {
          "model_module": "@jupyter-widgets/controls",
          "model_name": "FloatProgressModel",
          "model_module_version": "1.5.0",
          "state": {
            "_dom_classes": [],
            "_model_module": "@jupyter-widgets/controls",
            "_model_module_version": "1.5.0",
            "_model_name": "FloatProgressModel",
            "_view_count": null,
            "_view_module": "@jupyter-widgets/controls",
            "_view_module_version": "1.5.0",
            "_view_name": "ProgressView",
            "bar_style": "success",
            "description": "",
            "description_tooltip": null,
            "layout": "IPY_MODEL_05b2ab6bb7e24409b2913e0a8bfb4c9f",
            "max": 1014,
            "min": 0,
            "orientation": "horizontal",
            "style": "IPY_MODEL_f38963fea4654eca8a82c60e9962e0dc",
            "value": 1014
          }
        },
        "810c2f7773734af28eb2fbf36de9673a": {
          "model_module": "@jupyter-widgets/controls",
          "model_name": "HTMLModel",
          "model_module_version": "1.5.0",
          "state": {
            "_dom_classes": [],
            "_model_module": "@jupyter-widgets/controls",
            "_model_module_version": "1.5.0",
            "_model_name": "HTMLModel",
            "_view_count": null,
            "_view_module": "@jupyter-widgets/controls",
            "_view_module_version": "1.5.0",
            "_view_name": "HTMLView",
            "description": "",
            "description_tooltip": null,
            "layout": "IPY_MODEL_3ed396fc4aec4590a9ae7a5afca56751",
            "placeholder": "​",
            "style": "IPY_MODEL_79a563eab57645ea8d98c3e1c2d7de8f",
            "value": " 1014/1014 [00:00&lt;00:00, 8116.84 examples/s]"
          }
        },
        "188d3ec3003744c8a73e4c6feec94b07": {
          "model_module": "@jupyter-widgets/base",
          "model_name": "LayoutModel",
          "model_module_version": "1.2.0",
          "state": {
            "_model_module": "@jupyter-widgets/base",
            "_model_module_version": "1.2.0",
            "_model_name": "LayoutModel",
            "_view_count": null,
            "_view_module": "@jupyter-widgets/base",
            "_view_module_version": "1.2.0",
            "_view_name": "LayoutView",
            "align_content": null,
            "align_items": null,
            "align_self": null,
            "border": null,
            "bottom": null,
            "display": null,
            "flex": null,
            "flex_flow": null,
            "grid_area": null,
            "grid_auto_columns": null,
            "grid_auto_flow": null,
            "grid_auto_rows": null,
            "grid_column": null,
            "grid_gap": null,
            "grid_row": null,
            "grid_template_areas": null,
            "grid_template_columns": null,
            "grid_template_rows": null,
            "height": null,
            "justify_content": null,
            "justify_items": null,
            "left": null,
            "margin": null,
            "max_height": null,
            "max_width": null,
            "min_height": null,
            "min_width": null,
            "object_fit": null,
            "object_position": null,
            "order": null,
            "overflow": null,
            "overflow_x": null,
            "overflow_y": null,
            "padding": null,
            "right": null,
            "top": null,
            "visibility": null,
            "width": null
          }
        },
        "da77222884544af6982431fe1ae7f64a": {
          "model_module": "@jupyter-widgets/base",
          "model_name": "LayoutModel",
          "model_module_version": "1.2.0",
          "state": {
            "_model_module": "@jupyter-widgets/base",
            "_model_module_version": "1.2.0",
            "_model_name": "LayoutModel",
            "_view_count": null,
            "_view_module": "@jupyter-widgets/base",
            "_view_module_version": "1.2.0",
            "_view_name": "LayoutView",
            "align_content": null,
            "align_items": null,
            "align_self": null,
            "border": null,
            "bottom": null,
            "display": null,
            "flex": null,
            "flex_flow": null,
            "grid_area": null,
            "grid_auto_columns": null,
            "grid_auto_flow": null,
            "grid_auto_rows": null,
            "grid_column": null,
            "grid_gap": null,
            "grid_row": null,
            "grid_template_areas": null,
            "grid_template_columns": null,
            "grid_template_rows": null,
            "height": null,
            "justify_content": null,
            "justify_items": null,
            "left": null,
            "margin": null,
            "max_height": null,
            "max_width": null,
            "min_height": null,
            "min_width": null,
            "object_fit": null,
            "object_position": null,
            "order": null,
            "overflow": null,
            "overflow_x": null,
            "overflow_y": null,
            "padding": null,
            "right": null,
            "top": null,
            "visibility": null,
            "width": null
          }
        },
        "22c8624bf4d44058bfc1695aa381d2f0": {
          "model_module": "@jupyter-widgets/controls",
          "model_name": "DescriptionStyleModel",
          "model_module_version": "1.5.0",
          "state": {
            "_model_module": "@jupyter-widgets/controls",
            "_model_module_version": "1.5.0",
            "_model_name": "DescriptionStyleModel",
            "_view_count": null,
            "_view_module": "@jupyter-widgets/base",
            "_view_module_version": "1.2.0",
            "_view_name": "StyleView",
            "description_width": ""
          }
        },
        "05b2ab6bb7e24409b2913e0a8bfb4c9f": {
          "model_module": "@jupyter-widgets/base",
          "model_name": "LayoutModel",
          "model_module_version": "1.2.0",
          "state": {
            "_model_module": "@jupyter-widgets/base",
            "_model_module_version": "1.2.0",
            "_model_name": "LayoutModel",
            "_view_count": null,
            "_view_module": "@jupyter-widgets/base",
            "_view_module_version": "1.2.0",
            "_view_name": "LayoutView",
            "align_content": null,
            "align_items": null,
            "align_self": null,
            "border": null,
            "bottom": null,
            "display": null,
            "flex": null,
            "flex_flow": null,
            "grid_area": null,
            "grid_auto_columns": null,
            "grid_auto_flow": null,
            "grid_auto_rows": null,
            "grid_column": null,
            "grid_gap": null,
            "grid_row": null,
            "grid_template_areas": null,
            "grid_template_columns": null,
            "grid_template_rows": null,
            "height": null,
            "justify_content": null,
            "justify_items": null,
            "left": null,
            "margin": null,
            "max_height": null,
            "max_width": null,
            "min_height": null,
            "min_width": null,
            "object_fit": null,
            "object_position": null,
            "order": null,
            "overflow": null,
            "overflow_x": null,
            "overflow_y": null,
            "padding": null,
            "right": null,
            "top": null,
            "visibility": null,
            "width": null
          }
        },
        "f38963fea4654eca8a82c60e9962e0dc": {
          "model_module": "@jupyter-widgets/controls",
          "model_name": "ProgressStyleModel",
          "model_module_version": "1.5.0",
          "state": {
            "_model_module": "@jupyter-widgets/controls",
            "_model_module_version": "1.5.0",
            "_model_name": "ProgressStyleModel",
            "_view_count": null,
            "_view_module": "@jupyter-widgets/base",
            "_view_module_version": "1.2.0",
            "_view_name": "StyleView",
            "bar_color": null,
            "description_width": ""
          }
        },
        "3ed396fc4aec4590a9ae7a5afca56751": {
          "model_module": "@jupyter-widgets/base",
          "model_name": "LayoutModel",
          "model_module_version": "1.2.0",
          "state": {
            "_model_module": "@jupyter-widgets/base",
            "_model_module_version": "1.2.0",
            "_model_name": "LayoutModel",
            "_view_count": null,
            "_view_module": "@jupyter-widgets/base",
            "_view_module_version": "1.2.0",
            "_view_name": "LayoutView",
            "align_content": null,
            "align_items": null,
            "align_self": null,
            "border": null,
            "bottom": null,
            "display": null,
            "flex": null,
            "flex_flow": null,
            "grid_area": null,
            "grid_auto_columns": null,
            "grid_auto_flow": null,
            "grid_auto_rows": null,
            "grid_column": null,
            "grid_gap": null,
            "grid_row": null,
            "grid_template_areas": null,
            "grid_template_columns": null,
            "grid_template_rows": null,
            "height": null,
            "justify_content": null,
            "justify_items": null,
            "left": null,
            "margin": null,
            "max_height": null,
            "max_width": null,
            "min_height": null,
            "min_width": null,
            "object_fit": null,
            "object_position": null,
            "order": null,
            "overflow": null,
            "overflow_x": null,
            "overflow_y": null,
            "padding": null,
            "right": null,
            "top": null,
            "visibility": null,
            "width": null
          }
        },
        "79a563eab57645ea8d98c3e1c2d7de8f": {
          "model_module": "@jupyter-widgets/controls",
          "model_name": "DescriptionStyleModel",
          "model_module_version": "1.5.0",
          "state": {
            "_model_module": "@jupyter-widgets/controls",
            "_model_module_version": "1.5.0",
            "_model_name": "DescriptionStyleModel",
            "_view_count": null,
            "_view_module": "@jupyter-widgets/base",
            "_view_module_version": "1.2.0",
            "_view_name": "StyleView",
            "description_width": ""
          }
        },
        "346011cc0c2a45b9b3107a6c01c70eb9": {
          "model_module": "@jupyter-widgets/controls",
          "model_name": "HBoxModel",
          "model_module_version": "1.5.0",
          "state": {
            "_dom_classes": [],
            "_model_module": "@jupyter-widgets/controls",
            "_model_module_version": "1.5.0",
            "_model_name": "HBoxModel",
            "_view_count": null,
            "_view_module": "@jupyter-widgets/controls",
            "_view_module_version": "1.5.0",
            "_view_name": "HBoxView",
            "box_style": "",
            "children": [
              "IPY_MODEL_4c27125da4a749829aef623505b68ad1",
              "IPY_MODEL_2f4ec5ef66474ceb93d833f0585dd284",
              "IPY_MODEL_7fc97271c7bb47978a78c103585b0862"
            ],
            "layout": "IPY_MODEL_0c57bbc9720f40318eaad6fb2f37feb6"
          }
        },
        "4c27125da4a749829aef623505b68ad1": {
          "model_module": "@jupyter-widgets/controls",
          "model_name": "HTMLModel",
          "model_module_version": "1.5.0",
          "state": {
            "_dom_classes": [],
            "_model_module": "@jupyter-widgets/controls",
            "_model_module_version": "1.5.0",
            "_model_name": "HTMLModel",
            "_view_count": null,
            "_view_module": "@jupyter-widgets/controls",
            "_view_module_version": "1.5.0",
            "_view_name": "HTMLView",
            "description": "",
            "description_tooltip": null,
            "layout": "IPY_MODEL_b8925bd2a5d848e880025fcf5718baf0",
            "placeholder": "​",
            "style": "IPY_MODEL_a41bd7b0f7c14209a199fa00d8100beb",
            "value": "Map: 100%"
          }
        },
        "2f4ec5ef66474ceb93d833f0585dd284": {
          "model_module": "@jupyter-widgets/controls",
          "model_name": "FloatProgressModel",
          "model_module_version": "1.5.0",
          "state": {
            "_dom_classes": [],
            "_model_module": "@jupyter-widgets/controls",
            "_model_module_version": "1.5.0",
            "_model_name": "FloatProgressModel",
            "_view_count": null,
            "_view_module": "@jupyter-widgets/controls",
            "_view_module_version": "1.5.0",
            "_view_name": "ProgressView",
            "bar_style": "success",
            "description": "",
            "description_tooltip": null,
            "layout": "IPY_MODEL_afc26a4b01584135b6d623e841b456de",
            "max": 1000,
            "min": 0,
            "orientation": "horizontal",
            "style": "IPY_MODEL_11c3fab3f7a04c82bf351e164a9238b5",
            "value": 1000
          }
        },
        "7fc97271c7bb47978a78c103585b0862": {
          "model_module": "@jupyter-widgets/controls",
          "model_name": "HTMLModel",
          "model_module_version": "1.5.0",
          "state": {
            "_dom_classes": [],
            "_model_module": "@jupyter-widgets/controls",
            "_model_module_version": "1.5.0",
            "_model_name": "HTMLModel",
            "_view_count": null,
            "_view_module": "@jupyter-widgets/controls",
            "_view_module_version": "1.5.0",
            "_view_name": "HTMLView",
            "description": "",
            "description_tooltip": null,
            "layout": "IPY_MODEL_052cd802c9c040a3aac50b3271777779",
            "placeholder": "​",
            "style": "IPY_MODEL_275da54dc96142b5b6dc55b3919debf8",
            "value": " 1000/1000 [00:00&lt;00:00, 8307.71 examples/s]"
          }
        },
        "0c57bbc9720f40318eaad6fb2f37feb6": {
          "model_module": "@jupyter-widgets/base",
          "model_name": "LayoutModel",
          "model_module_version": "1.2.0",
          "state": {
            "_model_module": "@jupyter-widgets/base",
            "_model_module_version": "1.2.0",
            "_model_name": "LayoutModel",
            "_view_count": null,
            "_view_module": "@jupyter-widgets/base",
            "_view_module_version": "1.2.0",
            "_view_name": "LayoutView",
            "align_content": null,
            "align_items": null,
            "align_self": null,
            "border": null,
            "bottom": null,
            "display": null,
            "flex": null,
            "flex_flow": null,
            "grid_area": null,
            "grid_auto_columns": null,
            "grid_auto_flow": null,
            "grid_auto_rows": null,
            "grid_column": null,
            "grid_gap": null,
            "grid_row": null,
            "grid_template_areas": null,
            "grid_template_columns": null,
            "grid_template_rows": null,
            "height": null,
            "justify_content": null,
            "justify_items": null,
            "left": null,
            "margin": null,
            "max_height": null,
            "max_width": null,
            "min_height": null,
            "min_width": null,
            "object_fit": null,
            "object_position": null,
            "order": null,
            "overflow": null,
            "overflow_x": null,
            "overflow_y": null,
            "padding": null,
            "right": null,
            "top": null,
            "visibility": null,
            "width": null
          }
        },
        "b8925bd2a5d848e880025fcf5718baf0": {
          "model_module": "@jupyter-widgets/base",
          "model_name": "LayoutModel",
          "model_module_version": "1.2.0",
          "state": {
            "_model_module": "@jupyter-widgets/base",
            "_model_module_version": "1.2.0",
            "_model_name": "LayoutModel",
            "_view_count": null,
            "_view_module": "@jupyter-widgets/base",
            "_view_module_version": "1.2.0",
            "_view_name": "LayoutView",
            "align_content": null,
            "align_items": null,
            "align_self": null,
            "border": null,
            "bottom": null,
            "display": null,
            "flex": null,
            "flex_flow": null,
            "grid_area": null,
            "grid_auto_columns": null,
            "grid_auto_flow": null,
            "grid_auto_rows": null,
            "grid_column": null,
            "grid_gap": null,
            "grid_row": null,
            "grid_template_areas": null,
            "grid_template_columns": null,
            "grid_template_rows": null,
            "height": null,
            "justify_content": null,
            "justify_items": null,
            "left": null,
            "margin": null,
            "max_height": null,
            "max_width": null,
            "min_height": null,
            "min_width": null,
            "object_fit": null,
            "object_position": null,
            "order": null,
            "overflow": null,
            "overflow_x": null,
            "overflow_y": null,
            "padding": null,
            "right": null,
            "top": null,
            "visibility": null,
            "width": null
          }
        },
        "a41bd7b0f7c14209a199fa00d8100beb": {
          "model_module": "@jupyter-widgets/controls",
          "model_name": "DescriptionStyleModel",
          "model_module_version": "1.5.0",
          "state": {
            "_model_module": "@jupyter-widgets/controls",
            "_model_module_version": "1.5.0",
            "_model_name": "DescriptionStyleModel",
            "_view_count": null,
            "_view_module": "@jupyter-widgets/base",
            "_view_module_version": "1.2.0",
            "_view_name": "StyleView",
            "description_width": ""
          }
        },
        "afc26a4b01584135b6d623e841b456de": {
          "model_module": "@jupyter-widgets/base",
          "model_name": "LayoutModel",
          "model_module_version": "1.2.0",
          "state": {
            "_model_module": "@jupyter-widgets/base",
            "_model_module_version": "1.2.0",
            "_model_name": "LayoutModel",
            "_view_count": null,
            "_view_module": "@jupyter-widgets/base",
            "_view_module_version": "1.2.0",
            "_view_name": "LayoutView",
            "align_content": null,
            "align_items": null,
            "align_self": null,
            "border": null,
            "bottom": null,
            "display": null,
            "flex": null,
            "flex_flow": null,
            "grid_area": null,
            "grid_auto_columns": null,
            "grid_auto_flow": null,
            "grid_auto_rows": null,
            "grid_column": null,
            "grid_gap": null,
            "grid_row": null,
            "grid_template_areas": null,
            "grid_template_columns": null,
            "grid_template_rows": null,
            "height": null,
            "justify_content": null,
            "justify_items": null,
            "left": null,
            "margin": null,
            "max_height": null,
            "max_width": null,
            "min_height": null,
            "min_width": null,
            "object_fit": null,
            "object_position": null,
            "order": null,
            "overflow": null,
            "overflow_x": null,
            "overflow_y": null,
            "padding": null,
            "right": null,
            "top": null,
            "visibility": null,
            "width": null
          }
        },
        "11c3fab3f7a04c82bf351e164a9238b5": {
          "model_module": "@jupyter-widgets/controls",
          "model_name": "ProgressStyleModel",
          "model_module_version": "1.5.0",
          "state": {
            "_model_module": "@jupyter-widgets/controls",
            "_model_module_version": "1.5.0",
            "_model_name": "ProgressStyleModel",
            "_view_count": null,
            "_view_module": "@jupyter-widgets/base",
            "_view_module_version": "1.2.0",
            "_view_name": "StyleView",
            "bar_color": null,
            "description_width": ""
          }
        },
        "052cd802c9c040a3aac50b3271777779": {
          "model_module": "@jupyter-widgets/base",
          "model_name": "LayoutModel",
          "model_module_version": "1.2.0",
          "state": {
            "_model_module": "@jupyter-widgets/base",
            "_model_module_version": "1.2.0",
            "_model_name": "LayoutModel",
            "_view_count": null,
            "_view_module": "@jupyter-widgets/base",
            "_view_module_version": "1.2.0",
            "_view_name": "LayoutView",
            "align_content": null,
            "align_items": null,
            "align_self": null,
            "border": null,
            "bottom": null,
            "display": null,
            "flex": null,
            "flex_flow": null,
            "grid_area": null,
            "grid_auto_columns": null,
            "grid_auto_flow": null,
            "grid_auto_rows": null,
            "grid_column": null,
            "grid_gap": null,
            "grid_row": null,
            "grid_template_areas": null,
            "grid_template_columns": null,
            "grid_template_rows": null,
            "height": null,
            "justify_content": null,
            "justify_items": null,
            "left": null,
            "margin": null,
            "max_height": null,
            "max_width": null,
            "min_height": null,
            "min_width": null,
            "object_fit": null,
            "object_position": null,
            "order": null,
            "overflow": null,
            "overflow_x": null,
            "overflow_y": null,
            "padding": null,
            "right": null,
            "top": null,
            "visibility": null,
            "width": null
          }
        },
        "275da54dc96142b5b6dc55b3919debf8": {
          "model_module": "@jupyter-widgets/controls",
          "model_name": "DescriptionStyleModel",
          "model_module_version": "1.5.0",
          "state": {
            "_model_module": "@jupyter-widgets/controls",
            "_model_module_version": "1.5.0",
            "_model_name": "DescriptionStyleModel",
            "_view_count": null,
            "_view_module": "@jupyter-widgets/base",
            "_view_module_version": "1.2.0",
            "_view_name": "StyleView",
            "description_width": ""
          }
        }
      }
    },
    "accelerator": "GPU"
  },
  "cells": [
    {
      "cell_type": "markdown",
      "source": [
        "# **Encoder-decoder model for sequence to sequence translation from German to English**"
      ],
      "metadata": {
        "id": "nitL5qkOS3LQ"
      }
    },
    {
      "cell_type": "markdown",
      "source": [
        "## Import modules and packages\n",
        "Import all the necessary modules and packages necessary to build, train, and evaluate the model. Also, set random seeds so that the program can be run for multiple seeds to check how variant the model's performance is."
      ],
      "metadata": {
        "id": "C40F5zGzTeUp"
      }
    },
    {
      "cell_type": "code",
      "source": [
        "#Add the Google Drive location of all files to system path\n",
        "import os,sys\n",
        "from google.colab import drive\n",
        "drive.mount('/content/drive/')\n",
        "GOOGLE_DRIVE_PATH_AFTER_MYDRIVE='Colab Notebooks/Sequence to sequence'\n",
        "GOOGLE_DRIVE_PATH=os.path.join('drive','My Drive',GOOGLE_DRIVE_PATH_AFTER_MYDRIVE)\n",
        "print(os.listdir(GOOGLE_DRIVE_PATH))\n",
        "sys.path.append(GOOGLE_DRIVE_PATH)"
      ],
      "metadata": {
        "colab": {
          "base_uri": "https://localhost:8080/"
        },
        "id": "LA-rSxTYJ1XY",
        "outputId": "f7f12d2c-9ce8-440e-e03d-e866fe429592"
      },
      "execution_count": 17,
      "outputs": [
        {
          "output_type": "stream",
          "name": "stdout",
          "text": [
            "Drive already mounted at /content/drive/; to attempt to forcibly remount, call drive.mount(\"/content/drive/\", force_remount=True).\n",
            "['2 - Learning Phrase Representations using RNN Encoder-Decoder for Statistical Machine Translation.ipynb', '3 - Neural Machine Translation by Jointly Learning to Align and Translate.ipynb', 'requirements.txt', 'README.md', 'assets', 'legacy', '1 - Sequence to Sequence Learning with Neural Networks.ipynb']\n"
          ]
        }
      ]
    },
    {
      "cell_type": "code",
      "source": [
        "!pip install datasets evaluate --upgrade\n",
        "!python -m spacy download de_core_news_sm\n",
        "!pip install -U torchtext==0.15.2\n",
        "!pip install -r requirements.txt\n",
        "\n",
        "#Download the tokeniers for Englisha and German\n",
        "!python -m spacy download en_core_web_sm\n",
        "!python -m spacy download de_core_news_sm\n",
        "\n",
        "import collections,random,time\n",
        "import numpy as np\n",
        "import datasets\n",
        "#import evaluate\n",
        "import spacy\n",
        "import tqdm\n",
        "import torchtext\n",
        "import torchtext.vocab as ttv\n",
        "import torch\n",
        "import torch.nn as nn\n",
        "import torch.optim as optim\n",
        "import torch.functional as F\n",
        "from torch.utils.data import Dataset\n",
        "\n",
        "#Set the environment time\n",
        "os.environ['TZ/']='US/Central'\n",
        "time.tzset()\n",
        "\n",
        "#Set the seed\n",
        "sd=random.randint(0,50)\n",
        "sd=1234\n",
        "random.seed(sd)\n",
        "np.random.seed(sd)\n",
        "torch.manual_seed(sd)\n",
        "torch.cuda.manual_seed(sd)\n",
        "torch.backends.cudnn.deterministic=True\n",
        "\n",
        "#Check GPU availability\n",
        "if torch.cuda.is_available():\n",
        "  print('\\n\\nThe GPU available is a {}.'.format(torch.cuda.get_device_name(0)))\n",
        "  print('\\nProgram execution started on: {}'.format(time.ctime()))\n",
        "else:print('To ensure GPU availability, try Edit -> Notebook Settings.')"
      ],
      "metadata": {
        "colab": {
          "base_uri": "https://localhost:8080/",
          "height": 1000
        },
        "id": "BB8K9LR-S3et",
        "outputId": "ef2384be-dd96-4c97-a462-6d78b1bc3572"
      },
      "execution_count": 18,
      "outputs": [
        {
          "output_type": "stream",
          "name": "stdout",
          "text": [
            "Requirement already satisfied: datasets in /usr/local/lib/python3.10/dist-packages (3.0.1)\n",
            "Requirement already satisfied: evaluate in /usr/local/lib/python3.10/dist-packages (0.4.3)\n",
            "Requirement already satisfied: filelock in /usr/local/lib/python3.10/dist-packages (from datasets) (3.16.1)\n",
            "Requirement already satisfied: numpy>=1.17 in /usr/local/lib/python3.10/dist-packages (from datasets) (1.26.4)\n",
            "Requirement already satisfied: pyarrow>=15.0.0 in /usr/local/lib/python3.10/dist-packages (from datasets) (16.1.0)\n",
            "Requirement already satisfied: dill<0.3.9,>=0.3.0 in /usr/local/lib/python3.10/dist-packages (from datasets) (0.3.8)\n",
            "Requirement already satisfied: pandas in /usr/local/lib/python3.10/dist-packages (from datasets) (2.2.2)\n",
            "Requirement already satisfied: requests>=2.32.2 in /usr/local/lib/python3.10/dist-packages (from datasets) (2.32.3)\n",
            "Requirement already satisfied: tqdm>=4.66.3 in /usr/local/lib/python3.10/dist-packages (from datasets) (4.66.5)\n",
            "Requirement already satisfied: xxhash in /usr/local/lib/python3.10/dist-packages (from datasets) (3.5.0)\n",
            "Requirement already satisfied: multiprocess in /usr/local/lib/python3.10/dist-packages (from datasets) (0.70.16)\n",
            "Requirement already satisfied: fsspec<=2024.6.1,>=2023.1.0 in /usr/local/lib/python3.10/dist-packages (from fsspec[http]<=2024.6.1,>=2023.1.0->datasets) (2024.6.1)\n",
            "Requirement already satisfied: aiohttp in /usr/local/lib/python3.10/dist-packages (from datasets) (3.10.9)\n",
            "Requirement already satisfied: huggingface-hub>=0.22.0 in /usr/local/lib/python3.10/dist-packages (from datasets) (0.24.7)\n",
            "Requirement already satisfied: packaging in /usr/local/lib/python3.10/dist-packages (from datasets) (24.1)\n",
            "Requirement already satisfied: pyyaml>=5.1 in /usr/local/lib/python3.10/dist-packages (from datasets) (6.0.2)\n",
            "Requirement already satisfied: aiohappyeyeballs>=2.3.0 in /usr/local/lib/python3.10/dist-packages (from aiohttp->datasets) (2.4.3)\n",
            "Requirement already satisfied: aiosignal>=1.1.2 in /usr/local/lib/python3.10/dist-packages (from aiohttp->datasets) (1.3.1)\n",
            "Requirement already satisfied: attrs>=17.3.0 in /usr/local/lib/python3.10/dist-packages (from aiohttp->datasets) (24.2.0)\n",
            "Requirement already satisfied: frozenlist>=1.1.1 in /usr/local/lib/python3.10/dist-packages (from aiohttp->datasets) (1.4.1)\n",
            "Requirement already satisfied: multidict<7.0,>=4.5 in /usr/local/lib/python3.10/dist-packages (from aiohttp->datasets) (6.1.0)\n",
            "Requirement already satisfied: yarl<2.0,>=1.12.0 in /usr/local/lib/python3.10/dist-packages (from aiohttp->datasets) (1.13.1)\n",
            "Requirement already satisfied: async-timeout<5.0,>=4.0 in /usr/local/lib/python3.10/dist-packages (from aiohttp->datasets) (4.0.3)\n",
            "Requirement already satisfied: typing-extensions>=3.7.4.3 in /usr/local/lib/python3.10/dist-packages (from huggingface-hub>=0.22.0->datasets) (4.12.2)\n",
            "Requirement already satisfied: charset-normalizer<4,>=2 in /usr/local/lib/python3.10/dist-packages (from requests>=2.32.2->datasets) (3.3.2)\n",
            "Requirement already satisfied: idna<4,>=2.5 in /usr/local/lib/python3.10/dist-packages (from requests>=2.32.2->datasets) (3.10)\n",
            "Requirement already satisfied: urllib3<3,>=1.21.1 in /usr/local/lib/python3.10/dist-packages (from requests>=2.32.2->datasets) (2.2.3)\n",
            "Requirement already satisfied: certifi>=2017.4.17 in /usr/local/lib/python3.10/dist-packages (from requests>=2.32.2->datasets) (2024.8.30)\n",
            "Requirement already satisfied: python-dateutil>=2.8.2 in /usr/local/lib/python3.10/dist-packages (from pandas->datasets) (2.8.2)\n",
            "Requirement already satisfied: pytz>=2020.1 in /usr/local/lib/python3.10/dist-packages (from pandas->datasets) (2024.2)\n",
            "Requirement already satisfied: tzdata>=2022.7 in /usr/local/lib/python3.10/dist-packages (from pandas->datasets) (2024.2)\n",
            "Requirement already satisfied: six>=1.5 in /usr/local/lib/python3.10/dist-packages (from python-dateutil>=2.8.2->pandas->datasets) (1.16.0)\n",
            "Collecting de-core-news-sm==3.7.0\n",
            "  Downloading https://github.com/explosion/spacy-models/releases/download/de_core_news_sm-3.7.0/de_core_news_sm-3.7.0-py3-none-any.whl (14.6 MB)\n",
            "\u001b[2K     \u001b[90m━━━━━━━━━━━━━━━━━━━━━━━━━━━━━━━━━━━━━━━━\u001b[0m \u001b[32m14.6/14.6 MB\u001b[0m \u001b[31m61.3 MB/s\u001b[0m eta \u001b[36m0:00:00\u001b[0m\n",
            "\u001b[?25hRequirement already satisfied: spacy<3.8.0,>=3.7.0 in /usr/local/lib/python3.10/dist-packages (from de-core-news-sm==3.7.0) (3.7.5)\n",
            "Requirement already satisfied: spacy-legacy<3.1.0,>=3.0.11 in /usr/local/lib/python3.10/dist-packages (from spacy<3.8.0,>=3.7.0->de-core-news-sm==3.7.0) (3.0.12)\n",
            "Requirement already satisfied: spacy-loggers<2.0.0,>=1.0.0 in /usr/local/lib/python3.10/dist-packages (from spacy<3.8.0,>=3.7.0->de-core-news-sm==3.7.0) (1.0.5)\n",
            "Requirement already satisfied: murmurhash<1.1.0,>=0.28.0 in /usr/local/lib/python3.10/dist-packages (from spacy<3.8.0,>=3.7.0->de-core-news-sm==3.7.0) (1.0.10)\n",
            "Requirement already satisfied: cymem<2.1.0,>=2.0.2 in /usr/local/lib/python3.10/dist-packages (from spacy<3.8.0,>=3.7.0->de-core-news-sm==3.7.0) (2.0.8)\n",
            "Requirement already satisfied: preshed<3.1.0,>=3.0.2 in /usr/local/lib/python3.10/dist-packages (from spacy<3.8.0,>=3.7.0->de-core-news-sm==3.7.0) (3.0.9)\n",
            "Requirement already satisfied: thinc<8.3.0,>=8.2.2 in /usr/local/lib/python3.10/dist-packages (from spacy<3.8.0,>=3.7.0->de-core-news-sm==3.7.0) (8.2.5)\n",
            "Requirement already satisfied: wasabi<1.2.0,>=0.9.1 in /usr/local/lib/python3.10/dist-packages (from spacy<3.8.0,>=3.7.0->de-core-news-sm==3.7.0) (1.1.3)\n",
            "Requirement already satisfied: srsly<3.0.0,>=2.4.3 in /usr/local/lib/python3.10/dist-packages (from spacy<3.8.0,>=3.7.0->de-core-news-sm==3.7.0) (2.4.8)\n",
            "Requirement already satisfied: catalogue<2.1.0,>=2.0.6 in /usr/local/lib/python3.10/dist-packages (from spacy<3.8.0,>=3.7.0->de-core-news-sm==3.7.0) (2.0.10)\n",
            "Requirement already satisfied: weasel<0.5.0,>=0.1.0 in /usr/local/lib/python3.10/dist-packages (from spacy<3.8.0,>=3.7.0->de-core-news-sm==3.7.0) (0.4.1)\n",
            "Requirement already satisfied: typer<1.0.0,>=0.3.0 in /usr/local/lib/python3.10/dist-packages (from spacy<3.8.0,>=3.7.0->de-core-news-sm==3.7.0) (0.12.5)\n",
            "Requirement already satisfied: tqdm<5.0.0,>=4.38.0 in /usr/local/lib/python3.10/dist-packages (from spacy<3.8.0,>=3.7.0->de-core-news-sm==3.7.0) (4.66.5)\n",
            "Requirement already satisfied: requests<3.0.0,>=2.13.0 in /usr/local/lib/python3.10/dist-packages (from spacy<3.8.0,>=3.7.0->de-core-news-sm==3.7.0) (2.32.3)\n",
            "Requirement already satisfied: pydantic!=1.8,!=1.8.1,<3.0.0,>=1.7.4 in /usr/local/lib/python3.10/dist-packages (from spacy<3.8.0,>=3.7.0->de-core-news-sm==3.7.0) (2.9.2)\n",
            "Requirement already satisfied: jinja2 in /usr/local/lib/python3.10/dist-packages (from spacy<3.8.0,>=3.7.0->de-core-news-sm==3.7.0) (3.1.4)\n",
            "Requirement already satisfied: setuptools in /usr/local/lib/python3.10/dist-packages (from spacy<3.8.0,>=3.7.0->de-core-news-sm==3.7.0) (71.0.4)\n",
            "Requirement already satisfied: packaging>=20.0 in /usr/local/lib/python3.10/dist-packages (from spacy<3.8.0,>=3.7.0->de-core-news-sm==3.7.0) (24.1)\n",
            "Requirement already satisfied: langcodes<4.0.0,>=3.2.0 in /usr/local/lib/python3.10/dist-packages (from spacy<3.8.0,>=3.7.0->de-core-news-sm==3.7.0) (3.4.1)\n",
            "Requirement already satisfied: numpy>=1.19.0 in /usr/local/lib/python3.10/dist-packages (from spacy<3.8.0,>=3.7.0->de-core-news-sm==3.7.0) (1.26.4)\n",
            "Requirement already satisfied: language-data>=1.2 in /usr/local/lib/python3.10/dist-packages (from langcodes<4.0.0,>=3.2.0->spacy<3.8.0,>=3.7.0->de-core-news-sm==3.7.0) (1.2.0)\n",
            "Requirement already satisfied: annotated-types>=0.6.0 in /usr/local/lib/python3.10/dist-packages (from pydantic!=1.8,!=1.8.1,<3.0.0,>=1.7.4->spacy<3.8.0,>=3.7.0->de-core-news-sm==3.7.0) (0.7.0)\n",
            "Requirement already satisfied: pydantic-core==2.23.4 in /usr/local/lib/python3.10/dist-packages (from pydantic!=1.8,!=1.8.1,<3.0.0,>=1.7.4->spacy<3.8.0,>=3.7.0->de-core-news-sm==3.7.0) (2.23.4)\n",
            "Requirement already satisfied: typing-extensions>=4.6.1 in /usr/local/lib/python3.10/dist-packages (from pydantic!=1.8,!=1.8.1,<3.0.0,>=1.7.4->spacy<3.8.0,>=3.7.0->de-core-news-sm==3.7.0) (4.12.2)\n",
            "Requirement already satisfied: charset-normalizer<4,>=2 in /usr/local/lib/python3.10/dist-packages (from requests<3.0.0,>=2.13.0->spacy<3.8.0,>=3.7.0->de-core-news-sm==3.7.0) (3.3.2)\n",
            "Requirement already satisfied: idna<4,>=2.5 in /usr/local/lib/python3.10/dist-packages (from requests<3.0.0,>=2.13.0->spacy<3.8.0,>=3.7.0->de-core-news-sm==3.7.0) (3.10)\n",
            "Requirement already satisfied: urllib3<3,>=1.21.1 in /usr/local/lib/python3.10/dist-packages (from requests<3.0.0,>=2.13.0->spacy<3.8.0,>=3.7.0->de-core-news-sm==3.7.0) (2.2.3)\n",
            "Requirement already satisfied: certifi>=2017.4.17 in /usr/local/lib/python3.10/dist-packages (from requests<3.0.0,>=2.13.0->spacy<3.8.0,>=3.7.0->de-core-news-sm==3.7.0) (2024.8.30)\n",
            "Requirement already satisfied: blis<0.8.0,>=0.7.8 in /usr/local/lib/python3.10/dist-packages (from thinc<8.3.0,>=8.2.2->spacy<3.8.0,>=3.7.0->de-core-news-sm==3.7.0) (0.7.11)\n",
            "Requirement already satisfied: confection<1.0.0,>=0.0.1 in /usr/local/lib/python3.10/dist-packages (from thinc<8.3.0,>=8.2.2->spacy<3.8.0,>=3.7.0->de-core-news-sm==3.7.0) (0.1.5)\n",
            "Requirement already satisfied: click>=8.0.0 in /usr/local/lib/python3.10/dist-packages (from typer<1.0.0,>=0.3.0->spacy<3.8.0,>=3.7.0->de-core-news-sm==3.7.0) (8.1.7)\n",
            "Requirement already satisfied: shellingham>=1.3.0 in /usr/local/lib/python3.10/dist-packages (from typer<1.0.0,>=0.3.0->spacy<3.8.0,>=3.7.0->de-core-news-sm==3.7.0) (1.5.4)\n",
            "Requirement already satisfied: rich>=10.11.0 in /usr/local/lib/python3.10/dist-packages (from typer<1.0.0,>=0.3.0->spacy<3.8.0,>=3.7.0->de-core-news-sm==3.7.0) (13.9.2)\n",
            "Requirement already satisfied: cloudpathlib<1.0.0,>=0.7.0 in /usr/local/lib/python3.10/dist-packages (from weasel<0.5.0,>=0.1.0->spacy<3.8.0,>=3.7.0->de-core-news-sm==3.7.0) (0.19.0)\n",
            "Requirement already satisfied: smart-open<8.0.0,>=5.2.1 in /usr/local/lib/python3.10/dist-packages (from weasel<0.5.0,>=0.1.0->spacy<3.8.0,>=3.7.0->de-core-news-sm==3.7.0) (7.0.5)\n",
            "Requirement already satisfied: MarkupSafe>=2.0 in /usr/local/lib/python3.10/dist-packages (from jinja2->spacy<3.8.0,>=3.7.0->de-core-news-sm==3.7.0) (2.1.5)\n",
            "Requirement already satisfied: marisa-trie>=0.7.7 in /usr/local/lib/python3.10/dist-packages (from language-data>=1.2->langcodes<4.0.0,>=3.2.0->spacy<3.8.0,>=3.7.0->de-core-news-sm==3.7.0) (1.2.0)\n",
            "Requirement already satisfied: markdown-it-py>=2.2.0 in /usr/local/lib/python3.10/dist-packages (from rich>=10.11.0->typer<1.0.0,>=0.3.0->spacy<3.8.0,>=3.7.0->de-core-news-sm==3.7.0) (3.0.0)\n",
            "Requirement already satisfied: pygments<3.0.0,>=2.13.0 in /usr/local/lib/python3.10/dist-packages (from rich>=10.11.0->typer<1.0.0,>=0.3.0->spacy<3.8.0,>=3.7.0->de-core-news-sm==3.7.0) (2.18.0)\n",
            "Requirement already satisfied: wrapt in /usr/local/lib/python3.10/dist-packages (from smart-open<8.0.0,>=5.2.1->weasel<0.5.0,>=0.1.0->spacy<3.8.0,>=3.7.0->de-core-news-sm==3.7.0) (1.16.0)\n",
            "Requirement already satisfied: mdurl~=0.1 in /usr/local/lib/python3.10/dist-packages (from markdown-it-py>=2.2.0->rich>=10.11.0->typer<1.0.0,>=0.3.0->spacy<3.8.0,>=3.7.0->de-core-news-sm==3.7.0) (0.1.2)\n",
            "\u001b[38;5;2m✔ Download and installation successful\u001b[0m\n",
            "You can now load the package via spacy.load('de_core_news_sm')\n",
            "\u001b[38;5;3m⚠ Restart to reload dependencies\u001b[0m\n",
            "If you are in a Jupyter or Colab notebook, you may need to restart Python in\n",
            "order to load all the package's dependencies. You can do this by selecting the\n",
            "'Restart kernel' or 'Restart runtime' option.\n",
            "Requirement already satisfied: torchtext==0.15.2 in /usr/local/lib/python3.10/dist-packages (0.15.2)\n",
            "Requirement already satisfied: tqdm in /usr/local/lib/python3.10/dist-packages (from torchtext==0.15.2) (4.66.5)\n",
            "Requirement already satisfied: requests in /usr/local/lib/python3.10/dist-packages (from torchtext==0.15.2) (2.32.3)\n",
            "Collecting torch==2.0.1 (from torchtext==0.15.2)\n",
            "  Using cached torch-2.0.1-cp310-cp310-manylinux1_x86_64.whl.metadata (24 kB)\n",
            "Requirement already satisfied: numpy in /usr/local/lib/python3.10/dist-packages (from torchtext==0.15.2) (1.26.4)\n",
            "Requirement already satisfied: torchdata==0.6.1 in /usr/local/lib/python3.10/dist-packages (from torchtext==0.15.2) (0.6.1)\n",
            "Requirement already satisfied: filelock in /usr/local/lib/python3.10/dist-packages (from torch==2.0.1->torchtext==0.15.2) (3.16.1)\n",
            "Requirement already satisfied: typing-extensions in /usr/local/lib/python3.10/dist-packages (from torch==2.0.1->torchtext==0.15.2) (4.12.2)\n",
            "Requirement already satisfied: sympy in /usr/local/lib/python3.10/dist-packages (from torch==2.0.1->torchtext==0.15.2) (1.13.3)\n",
            "Requirement already satisfied: networkx in /usr/local/lib/python3.10/dist-packages (from torch==2.0.1->torchtext==0.15.2) (3.3)\n",
            "Requirement already satisfied: jinja2 in /usr/local/lib/python3.10/dist-packages (from torch==2.0.1->torchtext==0.15.2) (3.1.4)\n",
            "Requirement already satisfied: nvidia-cuda-nvrtc-cu11==11.7.99 in /usr/local/lib/python3.10/dist-packages (from torch==2.0.1->torchtext==0.15.2) (11.7.99)\n",
            "Requirement already satisfied: nvidia-cuda-runtime-cu11==11.7.99 in /usr/local/lib/python3.10/dist-packages (from torch==2.0.1->torchtext==0.15.2) (11.7.99)\n",
            "Requirement already satisfied: nvidia-cuda-cupti-cu11==11.7.101 in /usr/local/lib/python3.10/dist-packages (from torch==2.0.1->torchtext==0.15.2) (11.7.101)\n",
            "Requirement already satisfied: nvidia-cudnn-cu11==8.5.0.96 in /usr/local/lib/python3.10/dist-packages (from torch==2.0.1->torchtext==0.15.2) (8.5.0.96)\n",
            "Requirement already satisfied: nvidia-cublas-cu11==11.10.3.66 in /usr/local/lib/python3.10/dist-packages (from torch==2.0.1->torchtext==0.15.2) (11.10.3.66)\n",
            "Requirement already satisfied: nvidia-cufft-cu11==10.9.0.58 in /usr/local/lib/python3.10/dist-packages (from torch==2.0.1->torchtext==0.15.2) (10.9.0.58)\n",
            "Requirement already satisfied: nvidia-curand-cu11==10.2.10.91 in /usr/local/lib/python3.10/dist-packages (from torch==2.0.1->torchtext==0.15.2) (10.2.10.91)\n",
            "Requirement already satisfied: nvidia-cusolver-cu11==11.4.0.1 in /usr/local/lib/python3.10/dist-packages (from torch==2.0.1->torchtext==0.15.2) (11.4.0.1)\n",
            "Requirement already satisfied: nvidia-cusparse-cu11==11.7.4.91 in /usr/local/lib/python3.10/dist-packages (from torch==2.0.1->torchtext==0.15.2) (11.7.4.91)\n",
            "Requirement already satisfied: nvidia-nccl-cu11==2.14.3 in /usr/local/lib/python3.10/dist-packages (from torch==2.0.1->torchtext==0.15.2) (2.14.3)\n",
            "Requirement already satisfied: nvidia-nvtx-cu11==11.7.91 in /usr/local/lib/python3.10/dist-packages (from torch==2.0.1->torchtext==0.15.2) (11.7.91)\n",
            "Collecting triton==2.0.0 (from torch==2.0.1->torchtext==0.15.2)\n",
            "  Using cached triton-2.0.0-1-cp310-cp310-manylinux2014_x86_64.manylinux_2_17_x86_64.whl.metadata (1.0 kB)\n",
            "Requirement already satisfied: urllib3>=1.25 in /usr/local/lib/python3.10/dist-packages (from torchdata==0.6.1->torchtext==0.15.2) (2.2.3)\n",
            "Requirement already satisfied: setuptools in /usr/local/lib/python3.10/dist-packages (from nvidia-cublas-cu11==11.10.3.66->torch==2.0.1->torchtext==0.15.2) (71.0.4)\n",
            "Requirement already satisfied: wheel in /usr/local/lib/python3.10/dist-packages (from nvidia-cublas-cu11==11.10.3.66->torch==2.0.1->torchtext==0.15.2) (0.44.0)\n",
            "Requirement already satisfied: cmake in /usr/local/lib/python3.10/dist-packages (from triton==2.0.0->torch==2.0.1->torchtext==0.15.2) (3.30.4)\n",
            "Requirement already satisfied: lit in /usr/local/lib/python3.10/dist-packages (from triton==2.0.0->torch==2.0.1->torchtext==0.15.2) (18.1.8)\n",
            "Requirement already satisfied: charset-normalizer<4,>=2 in /usr/local/lib/python3.10/dist-packages (from requests->torchtext==0.15.2) (3.3.2)\n",
            "Requirement already satisfied: idna<4,>=2.5 in /usr/local/lib/python3.10/dist-packages (from requests->torchtext==0.15.2) (3.10)\n",
            "Requirement already satisfied: certifi>=2017.4.17 in /usr/local/lib/python3.10/dist-packages (from requests->torchtext==0.15.2) (2024.8.30)\n",
            "Requirement already satisfied: MarkupSafe>=2.0 in /usr/local/lib/python3.10/dist-packages (from jinja2->torch==2.0.1->torchtext==0.15.2) (2.1.5)\n",
            "Requirement already satisfied: mpmath<1.4,>=1.1.0 in /usr/local/lib/python3.10/dist-packages (from sympy->torch==2.0.1->torchtext==0.15.2) (1.3.0)\n",
            "Using cached torch-2.0.1-cp310-cp310-manylinux1_x86_64.whl (619.9 MB)\n",
            "Using cached triton-2.0.0-1-cp310-cp310-manylinux2014_x86_64.manylinux_2_17_x86_64.whl (63.3 MB)\n",
            "Installing collected packages: triton, torch\n",
            "  Attempting uninstall: triton\n",
            "    Found existing installation: triton 3.0.0\n",
            "    Uninstalling triton-3.0.0:\n",
            "      Successfully uninstalled triton-3.0.0\n",
            "  Attempting uninstall: torch\n",
            "    Found existing installation: torch 2.4.1\n",
            "    Uninstalling torch-2.4.1:\n",
            "      Successfully uninstalled torch-2.4.1\n",
            "\u001b[31mERROR: pip's dependency resolver does not currently take into account all the packages that are installed. This behaviour is the source of the following dependency conflicts.\n",
            "torchaudio 2.4.1+cu121 requires torch==2.4.1, but you have torch 2.0.1 which is incompatible.\n",
            "torchvision 0.19.1+cu121 requires torch==2.4.1, but you have torch 2.0.1 which is incompatible.\u001b[0m\u001b[31m\n",
            "\u001b[0mSuccessfully installed torch-2.0.1 triton-2.0.0\n"
          ]
        },
        {
          "output_type": "display_data",
          "data": {
            "application/vnd.colab-display-data+json": {
              "pip_warning": {
                "packages": [
                  "nvfuser",
                  "torch",
                  "torchgen"
                ]
              },
              "id": "8e79f0f305f0492487b2daa06cbabf93"
            }
          },
          "metadata": {}
        },
        {
          "output_type": "stream",
          "name": "stdout",
          "text": [
            "Requirement already satisfied: torch in /usr/local/lib/python3.10/dist-packages (from -r requirements.txt (line 1)) (2.0.1)\n",
            "Requirement already satisfied: numpy in /usr/local/lib/python3.10/dist-packages (from -r requirements.txt (line 2)) (1.26.4)\n",
            "Requirement already satisfied: spacy in /usr/local/lib/python3.10/dist-packages (from -r requirements.txt (line 3)) (3.7.5)\n",
            "Requirement already satisfied: datasets in /usr/local/lib/python3.10/dist-packages (from -r requirements.txt (line 4)) (3.0.1)\n",
            "Requirement already satisfied: torchtext in /usr/local/lib/python3.10/dist-packages (from -r requirements.txt (line 5)) (0.15.2)\n",
            "Requirement already satisfied: tqdm in /usr/local/lib/python3.10/dist-packages (from -r requirements.txt (line 6)) (4.66.5)\n",
            "Requirement already satisfied: matplotlib in /usr/local/lib/python3.10/dist-packages (from -r requirements.txt (line 7)) (3.7.1)\n",
            "Requirement already satisfied: evaluate in /usr/local/lib/python3.10/dist-packages (from -r requirements.txt (line 8)) (0.4.3)\n",
            "Requirement already satisfied: filelock in /usr/local/lib/python3.10/dist-packages (from torch->-r requirements.txt (line 1)) (3.16.1)\n",
            "Requirement already satisfied: typing-extensions in /usr/local/lib/python3.10/dist-packages (from torch->-r requirements.txt (line 1)) (4.12.2)\n",
            "Requirement already satisfied: sympy in /usr/local/lib/python3.10/dist-packages (from torch->-r requirements.txt (line 1)) (1.13.3)\n",
            "Requirement already satisfied: networkx in /usr/local/lib/python3.10/dist-packages (from torch->-r requirements.txt (line 1)) (3.3)\n",
            "Requirement already satisfied: jinja2 in /usr/local/lib/python3.10/dist-packages (from torch->-r requirements.txt (line 1)) (3.1.4)\n",
            "Requirement already satisfied: nvidia-cuda-nvrtc-cu11==11.7.99 in /usr/local/lib/python3.10/dist-packages (from torch->-r requirements.txt (line 1)) (11.7.99)\n",
            "Requirement already satisfied: nvidia-cuda-runtime-cu11==11.7.99 in /usr/local/lib/python3.10/dist-packages (from torch->-r requirements.txt (line 1)) (11.7.99)\n",
            "Requirement already satisfied: nvidia-cuda-cupti-cu11==11.7.101 in /usr/local/lib/python3.10/dist-packages (from torch->-r requirements.txt (line 1)) (11.7.101)\n",
            "Requirement already satisfied: nvidia-cudnn-cu11==8.5.0.96 in /usr/local/lib/python3.10/dist-packages (from torch->-r requirements.txt (line 1)) (8.5.0.96)\n",
            "Requirement already satisfied: nvidia-cublas-cu11==11.10.3.66 in /usr/local/lib/python3.10/dist-packages (from torch->-r requirements.txt (line 1)) (11.10.3.66)\n",
            "Requirement already satisfied: nvidia-cufft-cu11==10.9.0.58 in /usr/local/lib/python3.10/dist-packages (from torch->-r requirements.txt (line 1)) (10.9.0.58)\n",
            "Requirement already satisfied: nvidia-curand-cu11==10.2.10.91 in /usr/local/lib/python3.10/dist-packages (from torch->-r requirements.txt (line 1)) (10.2.10.91)\n",
            "Requirement already satisfied: nvidia-cusolver-cu11==11.4.0.1 in /usr/local/lib/python3.10/dist-packages (from torch->-r requirements.txt (line 1)) (11.4.0.1)\n",
            "Requirement already satisfied: nvidia-cusparse-cu11==11.7.4.91 in /usr/local/lib/python3.10/dist-packages (from torch->-r requirements.txt (line 1)) (11.7.4.91)\n",
            "Requirement already satisfied: nvidia-nccl-cu11==2.14.3 in /usr/local/lib/python3.10/dist-packages (from torch->-r requirements.txt (line 1)) (2.14.3)\n",
            "Requirement already satisfied: nvidia-nvtx-cu11==11.7.91 in /usr/local/lib/python3.10/dist-packages (from torch->-r requirements.txt (line 1)) (11.7.91)\n",
            "Requirement already satisfied: triton==2.0.0 in /usr/local/lib/python3.10/dist-packages (from torch->-r requirements.txt (line 1)) (2.0.0)\n",
            "Requirement already satisfied: setuptools in /usr/local/lib/python3.10/dist-packages (from nvidia-cublas-cu11==11.10.3.66->torch->-r requirements.txt (line 1)) (71.0.4)\n",
            "Requirement already satisfied: wheel in /usr/local/lib/python3.10/dist-packages (from nvidia-cublas-cu11==11.10.3.66->torch->-r requirements.txt (line 1)) (0.44.0)\n",
            "Requirement already satisfied: cmake in /usr/local/lib/python3.10/dist-packages (from triton==2.0.0->torch->-r requirements.txt (line 1)) (3.30.4)\n",
            "Requirement already satisfied: lit in /usr/local/lib/python3.10/dist-packages (from triton==2.0.0->torch->-r requirements.txt (line 1)) (18.1.8)\n",
            "Requirement already satisfied: spacy-legacy<3.1.0,>=3.0.11 in /usr/local/lib/python3.10/dist-packages (from spacy->-r requirements.txt (line 3)) (3.0.12)\n",
            "Requirement already satisfied: spacy-loggers<2.0.0,>=1.0.0 in /usr/local/lib/python3.10/dist-packages (from spacy->-r requirements.txt (line 3)) (1.0.5)\n",
            "Requirement already satisfied: murmurhash<1.1.0,>=0.28.0 in /usr/local/lib/python3.10/dist-packages (from spacy->-r requirements.txt (line 3)) (1.0.10)\n",
            "Requirement already satisfied: cymem<2.1.0,>=2.0.2 in /usr/local/lib/python3.10/dist-packages (from spacy->-r requirements.txt (line 3)) (2.0.8)\n",
            "Requirement already satisfied: preshed<3.1.0,>=3.0.2 in /usr/local/lib/python3.10/dist-packages (from spacy->-r requirements.txt (line 3)) (3.0.9)\n",
            "Requirement already satisfied: thinc<8.3.0,>=8.2.2 in /usr/local/lib/python3.10/dist-packages (from spacy->-r requirements.txt (line 3)) (8.2.5)\n",
            "Requirement already satisfied: wasabi<1.2.0,>=0.9.1 in /usr/local/lib/python3.10/dist-packages (from spacy->-r requirements.txt (line 3)) (1.1.3)\n",
            "Requirement already satisfied: srsly<3.0.0,>=2.4.3 in /usr/local/lib/python3.10/dist-packages (from spacy->-r requirements.txt (line 3)) (2.4.8)\n",
            "Requirement already satisfied: catalogue<2.1.0,>=2.0.6 in /usr/local/lib/python3.10/dist-packages (from spacy->-r requirements.txt (line 3)) (2.0.10)\n",
            "Requirement already satisfied: weasel<0.5.0,>=0.1.0 in /usr/local/lib/python3.10/dist-packages (from spacy->-r requirements.txt (line 3)) (0.4.1)\n",
            "Requirement already satisfied: typer<1.0.0,>=0.3.0 in /usr/local/lib/python3.10/dist-packages (from spacy->-r requirements.txt (line 3)) (0.12.5)\n",
            "Requirement already satisfied: requests<3.0.0,>=2.13.0 in /usr/local/lib/python3.10/dist-packages (from spacy->-r requirements.txt (line 3)) (2.32.3)\n",
            "Requirement already satisfied: pydantic!=1.8,!=1.8.1,<3.0.0,>=1.7.4 in /usr/local/lib/python3.10/dist-packages (from spacy->-r requirements.txt (line 3)) (2.9.2)\n",
            "Requirement already satisfied: packaging>=20.0 in /usr/local/lib/python3.10/dist-packages (from spacy->-r requirements.txt (line 3)) (24.1)\n",
            "Requirement already satisfied: langcodes<4.0.0,>=3.2.0 in /usr/local/lib/python3.10/dist-packages (from spacy->-r requirements.txt (line 3)) (3.4.1)\n",
            "Requirement already satisfied: pyarrow>=15.0.0 in /usr/local/lib/python3.10/dist-packages (from datasets->-r requirements.txt (line 4)) (16.1.0)\n",
            "Requirement already satisfied: dill<0.3.9,>=0.3.0 in /usr/local/lib/python3.10/dist-packages (from datasets->-r requirements.txt (line 4)) (0.3.8)\n",
            "Requirement already satisfied: pandas in /usr/local/lib/python3.10/dist-packages (from datasets->-r requirements.txt (line 4)) (2.2.2)\n",
            "Requirement already satisfied: xxhash in /usr/local/lib/python3.10/dist-packages (from datasets->-r requirements.txt (line 4)) (3.5.0)\n",
            "Requirement already satisfied: multiprocess in /usr/local/lib/python3.10/dist-packages (from datasets->-r requirements.txt (line 4)) (0.70.16)\n",
            "Requirement already satisfied: fsspec<=2024.6.1,>=2023.1.0 in /usr/local/lib/python3.10/dist-packages (from fsspec[http]<=2024.6.1,>=2023.1.0->datasets->-r requirements.txt (line 4)) (2024.6.1)\n",
            "Requirement already satisfied: aiohttp in /usr/local/lib/python3.10/dist-packages (from datasets->-r requirements.txt (line 4)) (3.10.9)\n",
            "Requirement already satisfied: huggingface-hub>=0.22.0 in /usr/local/lib/python3.10/dist-packages (from datasets->-r requirements.txt (line 4)) (0.24.7)\n",
            "Requirement already satisfied: pyyaml>=5.1 in /usr/local/lib/python3.10/dist-packages (from datasets->-r requirements.txt (line 4)) (6.0.2)\n",
            "Requirement already satisfied: torchdata==0.6.1 in /usr/local/lib/python3.10/dist-packages (from torchtext->-r requirements.txt (line 5)) (0.6.1)\n",
            "Requirement already satisfied: urllib3>=1.25 in /usr/local/lib/python3.10/dist-packages (from torchdata==0.6.1->torchtext->-r requirements.txt (line 5)) (2.2.3)\n",
            "Requirement already satisfied: contourpy>=1.0.1 in /usr/local/lib/python3.10/dist-packages (from matplotlib->-r requirements.txt (line 7)) (1.3.0)\n",
            "Requirement already satisfied: cycler>=0.10 in /usr/local/lib/python3.10/dist-packages (from matplotlib->-r requirements.txt (line 7)) (0.12.1)\n",
            "Requirement already satisfied: fonttools>=4.22.0 in /usr/local/lib/python3.10/dist-packages (from matplotlib->-r requirements.txt (line 7)) (4.54.1)\n",
            "Requirement already satisfied: kiwisolver>=1.0.1 in /usr/local/lib/python3.10/dist-packages (from matplotlib->-r requirements.txt (line 7)) (1.4.7)\n",
            "Requirement already satisfied: pillow>=6.2.0 in /usr/local/lib/python3.10/dist-packages (from matplotlib->-r requirements.txt (line 7)) (10.4.0)\n",
            "Requirement already satisfied: pyparsing>=2.3.1 in /usr/local/lib/python3.10/dist-packages (from matplotlib->-r requirements.txt (line 7)) (3.1.4)\n",
            "Requirement already satisfied: python-dateutil>=2.7 in /usr/local/lib/python3.10/dist-packages (from matplotlib->-r requirements.txt (line 7)) (2.8.2)\n",
            "Requirement already satisfied: aiohappyeyeballs>=2.3.0 in /usr/local/lib/python3.10/dist-packages (from aiohttp->datasets->-r requirements.txt (line 4)) (2.4.3)\n",
            "Requirement already satisfied: aiosignal>=1.1.2 in /usr/local/lib/python3.10/dist-packages (from aiohttp->datasets->-r requirements.txt (line 4)) (1.3.1)\n",
            "Requirement already satisfied: attrs>=17.3.0 in /usr/local/lib/python3.10/dist-packages (from aiohttp->datasets->-r requirements.txt (line 4)) (24.2.0)\n",
            "Requirement already satisfied: frozenlist>=1.1.1 in /usr/local/lib/python3.10/dist-packages (from aiohttp->datasets->-r requirements.txt (line 4)) (1.4.1)\n",
            "Requirement already satisfied: multidict<7.0,>=4.5 in /usr/local/lib/python3.10/dist-packages (from aiohttp->datasets->-r requirements.txt (line 4)) (6.1.0)\n",
            "Requirement already satisfied: yarl<2.0,>=1.12.0 in /usr/local/lib/python3.10/dist-packages (from aiohttp->datasets->-r requirements.txt (line 4)) (1.13.1)\n",
            "Requirement already satisfied: async-timeout<5.0,>=4.0 in /usr/local/lib/python3.10/dist-packages (from aiohttp->datasets->-r requirements.txt (line 4)) (4.0.3)\n",
            "Requirement already satisfied: language-data>=1.2 in /usr/local/lib/python3.10/dist-packages (from langcodes<4.0.0,>=3.2.0->spacy->-r requirements.txt (line 3)) (1.2.0)\n",
            "Requirement already satisfied: annotated-types>=0.6.0 in /usr/local/lib/python3.10/dist-packages (from pydantic!=1.8,!=1.8.1,<3.0.0,>=1.7.4->spacy->-r requirements.txt (line 3)) (0.7.0)\n",
            "Requirement already satisfied: pydantic-core==2.23.4 in /usr/local/lib/python3.10/dist-packages (from pydantic!=1.8,!=1.8.1,<3.0.0,>=1.7.4->spacy->-r requirements.txt (line 3)) (2.23.4)\n",
            "Requirement already satisfied: six>=1.5 in /usr/local/lib/python3.10/dist-packages (from python-dateutil>=2.7->matplotlib->-r requirements.txt (line 7)) (1.16.0)\n",
            "Requirement already satisfied: charset-normalizer<4,>=2 in /usr/local/lib/python3.10/dist-packages (from requests<3.0.0,>=2.13.0->spacy->-r requirements.txt (line 3)) (3.3.2)\n",
            "Requirement already satisfied: idna<4,>=2.5 in /usr/local/lib/python3.10/dist-packages (from requests<3.0.0,>=2.13.0->spacy->-r requirements.txt (line 3)) (3.10)\n",
            "Requirement already satisfied: certifi>=2017.4.17 in /usr/local/lib/python3.10/dist-packages (from requests<3.0.0,>=2.13.0->spacy->-r requirements.txt (line 3)) (2024.8.30)\n",
            "Requirement already satisfied: blis<0.8.0,>=0.7.8 in /usr/local/lib/python3.10/dist-packages (from thinc<8.3.0,>=8.2.2->spacy->-r requirements.txt (line 3)) (0.7.11)\n",
            "Requirement already satisfied: confection<1.0.0,>=0.0.1 in /usr/local/lib/python3.10/dist-packages (from thinc<8.3.0,>=8.2.2->spacy->-r requirements.txt (line 3)) (0.1.5)\n",
            "Requirement already satisfied: click>=8.0.0 in /usr/local/lib/python3.10/dist-packages (from typer<1.0.0,>=0.3.0->spacy->-r requirements.txt (line 3)) (8.1.7)\n",
            "Requirement already satisfied: shellingham>=1.3.0 in /usr/local/lib/python3.10/dist-packages (from typer<1.0.0,>=0.3.0->spacy->-r requirements.txt (line 3)) (1.5.4)\n",
            "Requirement already satisfied: rich>=10.11.0 in /usr/local/lib/python3.10/dist-packages (from typer<1.0.0,>=0.3.0->spacy->-r requirements.txt (line 3)) (13.9.2)\n",
            "Requirement already satisfied: cloudpathlib<1.0.0,>=0.7.0 in /usr/local/lib/python3.10/dist-packages (from weasel<0.5.0,>=0.1.0->spacy->-r requirements.txt (line 3)) (0.19.0)\n",
            "Requirement already satisfied: smart-open<8.0.0,>=5.2.1 in /usr/local/lib/python3.10/dist-packages (from weasel<0.5.0,>=0.1.0->spacy->-r requirements.txt (line 3)) (7.0.5)\n",
            "Requirement already satisfied: MarkupSafe>=2.0 in /usr/local/lib/python3.10/dist-packages (from jinja2->torch->-r requirements.txt (line 1)) (2.1.5)\n",
            "Requirement already satisfied: pytz>=2020.1 in /usr/local/lib/python3.10/dist-packages (from pandas->datasets->-r requirements.txt (line 4)) (2024.2)\n",
            "Requirement already satisfied: tzdata>=2022.7 in /usr/local/lib/python3.10/dist-packages (from pandas->datasets->-r requirements.txt (line 4)) (2024.2)\n",
            "Requirement already satisfied: mpmath<1.4,>=1.1.0 in /usr/local/lib/python3.10/dist-packages (from sympy->torch->-r requirements.txt (line 1)) (1.3.0)\n",
            "Requirement already satisfied: marisa-trie>=0.7.7 in /usr/local/lib/python3.10/dist-packages (from language-data>=1.2->langcodes<4.0.0,>=3.2.0->spacy->-r requirements.txt (line 3)) (1.2.0)\n",
            "Requirement already satisfied: markdown-it-py>=2.2.0 in /usr/local/lib/python3.10/dist-packages (from rich>=10.11.0->typer<1.0.0,>=0.3.0->spacy->-r requirements.txt (line 3)) (3.0.0)\n",
            "Requirement already satisfied: pygments<3.0.0,>=2.13.0 in /usr/local/lib/python3.10/dist-packages (from rich>=10.11.0->typer<1.0.0,>=0.3.0->spacy->-r requirements.txt (line 3)) (2.18.0)\n",
            "Requirement already satisfied: wrapt in /usr/local/lib/python3.10/dist-packages (from smart-open<8.0.0,>=5.2.1->weasel<0.5.0,>=0.1.0->spacy->-r requirements.txt (line 3)) (1.16.0)\n",
            "Requirement already satisfied: mdurl~=0.1 in /usr/local/lib/python3.10/dist-packages (from markdown-it-py>=2.2.0->rich>=10.11.0->typer<1.0.0,>=0.3.0->spacy->-r requirements.txt (line 3)) (0.1.2)\n",
            "Collecting en-core-web-sm==3.7.1\n",
            "  Downloading https://github.com/explosion/spacy-models/releases/download/en_core_web_sm-3.7.1/en_core_web_sm-3.7.1-py3-none-any.whl (12.8 MB)\n",
            "\u001b[2K     \u001b[90m━━━━━━━━━━━━━━━━━━━━━━━━━━━━━━━━━━━━━━━━\u001b[0m \u001b[32m12.8/12.8 MB\u001b[0m \u001b[31m68.8 MB/s\u001b[0m eta \u001b[36m0:00:00\u001b[0m\n",
            "\u001b[?25hRequirement already satisfied: spacy<3.8.0,>=3.7.2 in /usr/local/lib/python3.10/dist-packages (from en-core-web-sm==3.7.1) (3.7.5)\n",
            "Requirement already satisfied: spacy-legacy<3.1.0,>=3.0.11 in /usr/local/lib/python3.10/dist-packages (from spacy<3.8.0,>=3.7.2->en-core-web-sm==3.7.1) (3.0.12)\n",
            "Requirement already satisfied: spacy-loggers<2.0.0,>=1.0.0 in /usr/local/lib/python3.10/dist-packages (from spacy<3.8.0,>=3.7.2->en-core-web-sm==3.7.1) (1.0.5)\n",
            "Requirement already satisfied: murmurhash<1.1.0,>=0.28.0 in /usr/local/lib/python3.10/dist-packages (from spacy<3.8.0,>=3.7.2->en-core-web-sm==3.7.1) (1.0.10)\n",
            "Requirement already satisfied: cymem<2.1.0,>=2.0.2 in /usr/local/lib/python3.10/dist-packages (from spacy<3.8.0,>=3.7.2->en-core-web-sm==3.7.1) (2.0.8)\n",
            "Requirement already satisfied: preshed<3.1.0,>=3.0.2 in /usr/local/lib/python3.10/dist-packages (from spacy<3.8.0,>=3.7.2->en-core-web-sm==3.7.1) (3.0.9)\n",
            "Requirement already satisfied: thinc<8.3.0,>=8.2.2 in /usr/local/lib/python3.10/dist-packages (from spacy<3.8.0,>=3.7.2->en-core-web-sm==3.7.1) (8.2.5)\n",
            "Requirement already satisfied: wasabi<1.2.0,>=0.9.1 in /usr/local/lib/python3.10/dist-packages (from spacy<3.8.0,>=3.7.2->en-core-web-sm==3.7.1) (1.1.3)\n",
            "Requirement already satisfied: srsly<3.0.0,>=2.4.3 in /usr/local/lib/python3.10/dist-packages (from spacy<3.8.0,>=3.7.2->en-core-web-sm==3.7.1) (2.4.8)\n",
            "Requirement already satisfied: catalogue<2.1.0,>=2.0.6 in /usr/local/lib/python3.10/dist-packages (from spacy<3.8.0,>=3.7.2->en-core-web-sm==3.7.1) (2.0.10)\n",
            "Requirement already satisfied: weasel<0.5.0,>=0.1.0 in /usr/local/lib/python3.10/dist-packages (from spacy<3.8.0,>=3.7.2->en-core-web-sm==3.7.1) (0.4.1)\n",
            "Requirement already satisfied: typer<1.0.0,>=0.3.0 in /usr/local/lib/python3.10/dist-packages (from spacy<3.8.0,>=3.7.2->en-core-web-sm==3.7.1) (0.12.5)\n",
            "Requirement already satisfied: tqdm<5.0.0,>=4.38.0 in /usr/local/lib/python3.10/dist-packages (from spacy<3.8.0,>=3.7.2->en-core-web-sm==3.7.1) (4.66.5)\n",
            "Requirement already satisfied: requests<3.0.0,>=2.13.0 in /usr/local/lib/python3.10/dist-packages (from spacy<3.8.0,>=3.7.2->en-core-web-sm==3.7.1) (2.32.3)\n",
            "Requirement already satisfied: pydantic!=1.8,!=1.8.1,<3.0.0,>=1.7.4 in /usr/local/lib/python3.10/dist-packages (from spacy<3.8.0,>=3.7.2->en-core-web-sm==3.7.1) (2.9.2)\n",
            "Requirement already satisfied: jinja2 in /usr/local/lib/python3.10/dist-packages (from spacy<3.8.0,>=3.7.2->en-core-web-sm==3.7.1) (3.1.4)\n",
            "Requirement already satisfied: setuptools in /usr/local/lib/python3.10/dist-packages (from spacy<3.8.0,>=3.7.2->en-core-web-sm==3.7.1) (71.0.4)\n",
            "Requirement already satisfied: packaging>=20.0 in /usr/local/lib/python3.10/dist-packages (from spacy<3.8.0,>=3.7.2->en-core-web-sm==3.7.1) (24.1)\n",
            "Requirement already satisfied: langcodes<4.0.0,>=3.2.0 in /usr/local/lib/python3.10/dist-packages (from spacy<3.8.0,>=3.7.2->en-core-web-sm==3.7.1) (3.4.1)\n",
            "Requirement already satisfied: numpy>=1.19.0 in /usr/local/lib/python3.10/dist-packages (from spacy<3.8.0,>=3.7.2->en-core-web-sm==3.7.1) (1.26.4)\n",
            "Requirement already satisfied: language-data>=1.2 in /usr/local/lib/python3.10/dist-packages (from langcodes<4.0.0,>=3.2.0->spacy<3.8.0,>=3.7.2->en-core-web-sm==3.7.1) (1.2.0)\n",
            "Requirement already satisfied: annotated-types>=0.6.0 in /usr/local/lib/python3.10/dist-packages (from pydantic!=1.8,!=1.8.1,<3.0.0,>=1.7.4->spacy<3.8.0,>=3.7.2->en-core-web-sm==3.7.1) (0.7.0)\n",
            "Requirement already satisfied: pydantic-core==2.23.4 in /usr/local/lib/python3.10/dist-packages (from pydantic!=1.8,!=1.8.1,<3.0.0,>=1.7.4->spacy<3.8.0,>=3.7.2->en-core-web-sm==3.7.1) (2.23.4)\n",
            "Requirement already satisfied: typing-extensions>=4.6.1 in /usr/local/lib/python3.10/dist-packages (from pydantic!=1.8,!=1.8.1,<3.0.0,>=1.7.4->spacy<3.8.0,>=3.7.2->en-core-web-sm==3.7.1) (4.12.2)\n",
            "Requirement already satisfied: charset-normalizer<4,>=2 in /usr/local/lib/python3.10/dist-packages (from requests<3.0.0,>=2.13.0->spacy<3.8.0,>=3.7.2->en-core-web-sm==3.7.1) (3.3.2)\n",
            "Requirement already satisfied: idna<4,>=2.5 in /usr/local/lib/python3.10/dist-packages (from requests<3.0.0,>=2.13.0->spacy<3.8.0,>=3.7.2->en-core-web-sm==3.7.1) (3.10)\n",
            "Requirement already satisfied: urllib3<3,>=1.21.1 in /usr/local/lib/python3.10/dist-packages (from requests<3.0.0,>=2.13.0->spacy<3.8.0,>=3.7.2->en-core-web-sm==3.7.1) (2.2.3)\n",
            "Requirement already satisfied: certifi>=2017.4.17 in /usr/local/lib/python3.10/dist-packages (from requests<3.0.0,>=2.13.0->spacy<3.8.0,>=3.7.2->en-core-web-sm==3.7.1) (2024.8.30)\n",
            "Requirement already satisfied: blis<0.8.0,>=0.7.8 in /usr/local/lib/python3.10/dist-packages (from thinc<8.3.0,>=8.2.2->spacy<3.8.0,>=3.7.2->en-core-web-sm==3.7.1) (0.7.11)\n",
            "Requirement already satisfied: confection<1.0.0,>=0.0.1 in /usr/local/lib/python3.10/dist-packages (from thinc<8.3.0,>=8.2.2->spacy<3.8.0,>=3.7.2->en-core-web-sm==3.7.1) (0.1.5)\n",
            "Requirement already satisfied: click>=8.0.0 in /usr/local/lib/python3.10/dist-packages (from typer<1.0.0,>=0.3.0->spacy<3.8.0,>=3.7.2->en-core-web-sm==3.7.1) (8.1.7)\n",
            "Requirement already satisfied: shellingham>=1.3.0 in /usr/local/lib/python3.10/dist-packages (from typer<1.0.0,>=0.3.0->spacy<3.8.0,>=3.7.2->en-core-web-sm==3.7.1) (1.5.4)\n",
            "Requirement already satisfied: rich>=10.11.0 in /usr/local/lib/python3.10/dist-packages (from typer<1.0.0,>=0.3.0->spacy<3.8.0,>=3.7.2->en-core-web-sm==3.7.1) (13.9.2)\n",
            "Requirement already satisfied: cloudpathlib<1.0.0,>=0.7.0 in /usr/local/lib/python3.10/dist-packages (from weasel<0.5.0,>=0.1.0->spacy<3.8.0,>=3.7.2->en-core-web-sm==3.7.1) (0.19.0)\n",
            "Requirement already satisfied: smart-open<8.0.0,>=5.2.1 in /usr/local/lib/python3.10/dist-packages (from weasel<0.5.0,>=0.1.0->spacy<3.8.0,>=3.7.2->en-core-web-sm==3.7.1) (7.0.5)\n",
            "Requirement already satisfied: MarkupSafe>=2.0 in /usr/local/lib/python3.10/dist-packages (from jinja2->spacy<3.8.0,>=3.7.2->en-core-web-sm==3.7.1) (2.1.5)\n",
            "Requirement already satisfied: marisa-trie>=0.7.7 in /usr/local/lib/python3.10/dist-packages (from language-data>=1.2->langcodes<4.0.0,>=3.2.0->spacy<3.8.0,>=3.7.2->en-core-web-sm==3.7.1) (1.2.0)\n",
            "Requirement already satisfied: markdown-it-py>=2.2.0 in /usr/local/lib/python3.10/dist-packages (from rich>=10.11.0->typer<1.0.0,>=0.3.0->spacy<3.8.0,>=3.7.2->en-core-web-sm==3.7.1) (3.0.0)\n",
            "Requirement already satisfied: pygments<3.0.0,>=2.13.0 in /usr/local/lib/python3.10/dist-packages (from rich>=10.11.0->typer<1.0.0,>=0.3.0->spacy<3.8.0,>=3.7.2->en-core-web-sm==3.7.1) (2.18.0)\n",
            "Requirement already satisfied: wrapt in /usr/local/lib/python3.10/dist-packages (from smart-open<8.0.0,>=5.2.1->weasel<0.5.0,>=0.1.0->spacy<3.8.0,>=3.7.2->en-core-web-sm==3.7.1) (1.16.0)\n",
            "Requirement already satisfied: mdurl~=0.1 in /usr/local/lib/python3.10/dist-packages (from markdown-it-py>=2.2.0->rich>=10.11.0->typer<1.0.0,>=0.3.0->spacy<3.8.0,>=3.7.2->en-core-web-sm==3.7.1) (0.1.2)\n",
            "\u001b[38;5;2m✔ Download and installation successful\u001b[0m\n",
            "You can now load the package via spacy.load('en_core_web_sm')\n",
            "\u001b[38;5;3m⚠ Restart to reload dependencies\u001b[0m\n",
            "If you are in a Jupyter or Colab notebook, you may need to restart Python in\n",
            "order to load all the package's dependencies. You can do this by selecting the\n",
            "'Restart kernel' or 'Restart runtime' option.\n",
            "Collecting de-core-news-sm==3.7.0\n",
            "  Using cached https://github.com/explosion/spacy-models/releases/download/de_core_news_sm-3.7.0/de_core_news_sm-3.7.0-py3-none-any.whl (14.6 MB)\n",
            "Requirement already satisfied: spacy<3.8.0,>=3.7.0 in /usr/local/lib/python3.10/dist-packages (from de-core-news-sm==3.7.0) (3.7.5)\n",
            "Requirement already satisfied: spacy-legacy<3.1.0,>=3.0.11 in /usr/local/lib/python3.10/dist-packages (from spacy<3.8.0,>=3.7.0->de-core-news-sm==3.7.0) (3.0.12)\n",
            "Requirement already satisfied: spacy-loggers<2.0.0,>=1.0.0 in /usr/local/lib/python3.10/dist-packages (from spacy<3.8.0,>=3.7.0->de-core-news-sm==3.7.0) (1.0.5)\n",
            "Requirement already satisfied: murmurhash<1.1.0,>=0.28.0 in /usr/local/lib/python3.10/dist-packages (from spacy<3.8.0,>=3.7.0->de-core-news-sm==3.7.0) (1.0.10)\n",
            "Requirement already satisfied: cymem<2.1.0,>=2.0.2 in /usr/local/lib/python3.10/dist-packages (from spacy<3.8.0,>=3.7.0->de-core-news-sm==3.7.0) (2.0.8)\n",
            "Requirement already satisfied: preshed<3.1.0,>=3.0.2 in /usr/local/lib/python3.10/dist-packages (from spacy<3.8.0,>=3.7.0->de-core-news-sm==3.7.0) (3.0.9)\n",
            "Requirement already satisfied: thinc<8.3.0,>=8.2.2 in /usr/local/lib/python3.10/dist-packages (from spacy<3.8.0,>=3.7.0->de-core-news-sm==3.7.0) (8.2.5)\n",
            "Requirement already satisfied: wasabi<1.2.0,>=0.9.1 in /usr/local/lib/python3.10/dist-packages (from spacy<3.8.0,>=3.7.0->de-core-news-sm==3.7.0) (1.1.3)\n",
            "Requirement already satisfied: srsly<3.0.0,>=2.4.3 in /usr/local/lib/python3.10/dist-packages (from spacy<3.8.0,>=3.7.0->de-core-news-sm==3.7.0) (2.4.8)\n",
            "Requirement already satisfied: catalogue<2.1.0,>=2.0.6 in /usr/local/lib/python3.10/dist-packages (from spacy<3.8.0,>=3.7.0->de-core-news-sm==3.7.0) (2.0.10)\n",
            "Requirement already satisfied: weasel<0.5.0,>=0.1.0 in /usr/local/lib/python3.10/dist-packages (from spacy<3.8.0,>=3.7.0->de-core-news-sm==3.7.0) (0.4.1)\n",
            "Requirement already satisfied: typer<1.0.0,>=0.3.0 in /usr/local/lib/python3.10/dist-packages (from spacy<3.8.0,>=3.7.0->de-core-news-sm==3.7.0) (0.12.5)\n",
            "Requirement already satisfied: tqdm<5.0.0,>=4.38.0 in /usr/local/lib/python3.10/dist-packages (from spacy<3.8.0,>=3.7.0->de-core-news-sm==3.7.0) (4.66.5)\n",
            "Requirement already satisfied: requests<3.0.0,>=2.13.0 in /usr/local/lib/python3.10/dist-packages (from spacy<3.8.0,>=3.7.0->de-core-news-sm==3.7.0) (2.32.3)\n",
            "Requirement already satisfied: pydantic!=1.8,!=1.8.1,<3.0.0,>=1.7.4 in /usr/local/lib/python3.10/dist-packages (from spacy<3.8.0,>=3.7.0->de-core-news-sm==3.7.0) (2.9.2)\n",
            "Requirement already satisfied: jinja2 in /usr/local/lib/python3.10/dist-packages (from spacy<3.8.0,>=3.7.0->de-core-news-sm==3.7.0) (3.1.4)\n",
            "Requirement already satisfied: setuptools in /usr/local/lib/python3.10/dist-packages (from spacy<3.8.0,>=3.7.0->de-core-news-sm==3.7.0) (71.0.4)\n",
            "Requirement already satisfied: packaging>=20.0 in /usr/local/lib/python3.10/dist-packages (from spacy<3.8.0,>=3.7.0->de-core-news-sm==3.7.0) (24.1)\n",
            "Requirement already satisfied: langcodes<4.0.0,>=3.2.0 in /usr/local/lib/python3.10/dist-packages (from spacy<3.8.0,>=3.7.0->de-core-news-sm==3.7.0) (3.4.1)\n",
            "Requirement already satisfied: numpy>=1.19.0 in /usr/local/lib/python3.10/dist-packages (from spacy<3.8.0,>=3.7.0->de-core-news-sm==3.7.0) (1.26.4)\n",
            "Requirement already satisfied: language-data>=1.2 in /usr/local/lib/python3.10/dist-packages (from langcodes<4.0.0,>=3.2.0->spacy<3.8.0,>=3.7.0->de-core-news-sm==3.7.0) (1.2.0)\n",
            "Requirement already satisfied: annotated-types>=0.6.0 in /usr/local/lib/python3.10/dist-packages (from pydantic!=1.8,!=1.8.1,<3.0.0,>=1.7.4->spacy<3.8.0,>=3.7.0->de-core-news-sm==3.7.0) (0.7.0)\n",
            "Requirement already satisfied: pydantic-core==2.23.4 in /usr/local/lib/python3.10/dist-packages (from pydantic!=1.8,!=1.8.1,<3.0.0,>=1.7.4->spacy<3.8.0,>=3.7.0->de-core-news-sm==3.7.0) (2.23.4)\n",
            "Requirement already satisfied: typing-extensions>=4.6.1 in /usr/local/lib/python3.10/dist-packages (from pydantic!=1.8,!=1.8.1,<3.0.0,>=1.7.4->spacy<3.8.0,>=3.7.0->de-core-news-sm==3.7.0) (4.12.2)\n",
            "Requirement already satisfied: charset-normalizer<4,>=2 in /usr/local/lib/python3.10/dist-packages (from requests<3.0.0,>=2.13.0->spacy<3.8.0,>=3.7.0->de-core-news-sm==3.7.0) (3.3.2)\n",
            "Requirement already satisfied: idna<4,>=2.5 in /usr/local/lib/python3.10/dist-packages (from requests<3.0.0,>=2.13.0->spacy<3.8.0,>=3.7.0->de-core-news-sm==3.7.0) (3.10)\n",
            "Requirement already satisfied: urllib3<3,>=1.21.1 in /usr/local/lib/python3.10/dist-packages (from requests<3.0.0,>=2.13.0->spacy<3.8.0,>=3.7.0->de-core-news-sm==3.7.0) (2.2.3)\n",
            "Requirement already satisfied: certifi>=2017.4.17 in /usr/local/lib/python3.10/dist-packages (from requests<3.0.0,>=2.13.0->spacy<3.8.0,>=3.7.0->de-core-news-sm==3.7.0) (2024.8.30)\n",
            "Requirement already satisfied: blis<0.8.0,>=0.7.8 in /usr/local/lib/python3.10/dist-packages (from thinc<8.3.0,>=8.2.2->spacy<3.8.0,>=3.7.0->de-core-news-sm==3.7.0) (0.7.11)\n",
            "Requirement already satisfied: confection<1.0.0,>=0.0.1 in /usr/local/lib/python3.10/dist-packages (from thinc<8.3.0,>=8.2.2->spacy<3.8.0,>=3.7.0->de-core-news-sm==3.7.0) (0.1.5)\n",
            "Requirement already satisfied: click>=8.0.0 in /usr/local/lib/python3.10/dist-packages (from typer<1.0.0,>=0.3.0->spacy<3.8.0,>=3.7.0->de-core-news-sm==3.7.0) (8.1.7)\n",
            "Requirement already satisfied: shellingham>=1.3.0 in /usr/local/lib/python3.10/dist-packages (from typer<1.0.0,>=0.3.0->spacy<3.8.0,>=3.7.0->de-core-news-sm==3.7.0) (1.5.4)\n",
            "Requirement already satisfied: rich>=10.11.0 in /usr/local/lib/python3.10/dist-packages (from typer<1.0.0,>=0.3.0->spacy<3.8.0,>=3.7.0->de-core-news-sm==3.7.0) (13.9.2)\n",
            "Requirement already satisfied: cloudpathlib<1.0.0,>=0.7.0 in /usr/local/lib/python3.10/dist-packages (from weasel<0.5.0,>=0.1.0->spacy<3.8.0,>=3.7.0->de-core-news-sm==3.7.0) (0.19.0)\n",
            "Requirement already satisfied: smart-open<8.0.0,>=5.2.1 in /usr/local/lib/python3.10/dist-packages (from weasel<0.5.0,>=0.1.0->spacy<3.8.0,>=3.7.0->de-core-news-sm==3.7.0) (7.0.5)\n",
            "Requirement already satisfied: MarkupSafe>=2.0 in /usr/local/lib/python3.10/dist-packages (from jinja2->spacy<3.8.0,>=3.7.0->de-core-news-sm==3.7.0) (2.1.5)\n",
            "Requirement already satisfied: marisa-trie>=0.7.7 in /usr/local/lib/python3.10/dist-packages (from language-data>=1.2->langcodes<4.0.0,>=3.2.0->spacy<3.8.0,>=3.7.0->de-core-news-sm==3.7.0) (1.2.0)\n",
            "Requirement already satisfied: markdown-it-py>=2.2.0 in /usr/local/lib/python3.10/dist-packages (from rich>=10.11.0->typer<1.0.0,>=0.3.0->spacy<3.8.0,>=3.7.0->de-core-news-sm==3.7.0) (3.0.0)\n",
            "Requirement already satisfied: pygments<3.0.0,>=2.13.0 in /usr/local/lib/python3.10/dist-packages (from rich>=10.11.0->typer<1.0.0,>=0.3.0->spacy<3.8.0,>=3.7.0->de-core-news-sm==3.7.0) (2.18.0)\n",
            "Requirement already satisfied: wrapt in /usr/local/lib/python3.10/dist-packages (from smart-open<8.0.0,>=5.2.1->weasel<0.5.0,>=0.1.0->spacy<3.8.0,>=3.7.0->de-core-news-sm==3.7.0) (1.16.0)\n",
            "Requirement already satisfied: mdurl~=0.1 in /usr/local/lib/python3.10/dist-packages (from markdown-it-py>=2.2.0->rich>=10.11.0->typer<1.0.0,>=0.3.0->spacy<3.8.0,>=3.7.0->de-core-news-sm==3.7.0) (0.1.2)\n",
            "\u001b[38;5;2m✔ Download and installation successful\u001b[0m\n",
            "You can now load the package via spacy.load('de_core_news_sm')\n",
            "\u001b[38;5;3m⚠ Restart to reload dependencies\u001b[0m\n",
            "If you are in a Jupyter or Colab notebook, you may need to restart Python in\n",
            "order to load all the package's dependencies. You can do this by selecting the\n",
            "'Restart kernel' or 'Restart runtime' option.\n",
            "\n",
            "\n",
            "The GPU available is a Tesla T4.\n",
            "\n",
            "Program execution started on: Fri Oct 11 07:10:44 2024\n"
          ]
        }
      ]
    },
    {
      "cell_type": "markdown",
      "source": [
        "## The dataset\n",
        "The dataset used is a subset of [Multi30k dataset](https://github.com/multi30k/dataset), which is from HuggingFace and hosted at [the page](https://huggingface.co/datasets/bentrevett/multi30k). The dataset contains about 30K parallel English and German sentences.\n"
      ],
      "metadata": {
        "id": "jeB0om6YTdme"
      }
    },
    {
      "cell_type": "markdown",
      "source": [
        "### Define the dataset\n",
        "Download the 'train' and 'test' splits of the dataset, and inspect its characteristics."
      ],
      "metadata": {
        "id": "mkFTJssaLvBT"
      }
    },
    {
      "cell_type": "code",
      "source": [
        "#Download the 'train', the 'validation', and the 'test' splits of the dataset\n",
        "trSet,valSet,tsSet=datasets.load_dataset('bentrevett/multi30k',split=['train','validation','test'])\n",
        "print('The respective sizes of the train, the validation, and the test datasets are {}, {}, and {} respectively.'.format(trSet.num_rows,valSet.num_rows,tsSet.num_rows))\n",
        "print('A sample picked from the train dataset would look as shown below:\\n\\n{}'.format(trSet[0]))"
      ],
      "metadata": {
        "colab": {
          "base_uri": "https://localhost:8080/"
        },
        "id": "Lx1Q7a1qLjL8",
        "outputId": "388f9b27-a30d-41da-8345-e7952cc76743"
      },
      "execution_count": 19,
      "outputs": [
        {
          "output_type": "stream",
          "name": "stdout",
          "text": [
            "The respective sizes of the train, the validation, and the test datasets are 29000, 1014, and 1000 respectively.\n",
            "A sample picked from the train dataset would look as shown below:\n",
            "\n",
            "{'en': 'Two young, White males are outside near many bushes.', 'de': 'Zwei junge weiße Männer sind im Freien in der Nähe vieler Büsche.'}\n"
          ]
        }
      ]
    },
    {
      "cell_type": "markdown",
      "source": [
        "### Tokenization\n",
        "Convert the datasets from collections of strings to collections of tokens so that it is possible for any machine learning model to process them after the tokens are transformed into numbers."
      ],
      "metadata": {
        "id": "ba5oa-e5QgAA"
      }
    },
    {
      "cell_type": "code",
      "source": [
        "#The function that tokenizes the datasets\n",
        "def tokenize(dataset,enTokenizer,deTokenizer,maxLn,lower,sos,eos):\n",
        "  enTokens=[token.text for token in enTokenizer.tokenizer(dataset['en'])][:maxLn]\n",
        "  deTokens=[token.text for token in deTokenizer.tokenizer(dataset['de'])][:maxLn]\n",
        "  if lower:                              #convert all uppercase tokens to lower if 'lower' is set\n",
        "    enTokens=[token.lower() for token in enTokens]\n",
        "    deTokens=[token.lower() for token in deTokens]\n",
        "  enTokens=[sos]+enTokens+[eos]\n",
        "  deTokens=[sos]+deTokens+[eos]\n",
        "  return {'enTokens':enTokens,'deTokens':deTokens}\n",
        "\n",
        "#Define the tokenizer and perform tokenization of the datasets\n",
        "maxLn=1000                               #maximum length of each token\n",
        "lower=True                               #whether to make all tokens lowercase or not\n",
        "sosToken,eosToken='<sos>','<eos>'        #start and end of string tokens\n",
        "enTokenizer=spacy.load('en_core_web_sm') #use 'tokenizer' in enTokenizer to tokenize\n",
        "deTokenizer=spacy.load('de_core_news_sm')#use 'tokenizer' in deTokenizer to tokenize\n",
        "print('Tokenizing the train dataset...')\n",
        "trSet=trSet.map(tokenize,fn_kwargs={'enTokenizer':enTokenizer,'deTokenizer':deTokenizer,'maxLn':maxLn,'lower':lower,'sos':sosToken,'eos':eosToken})\n",
        "print('Tokenizing the validation dataset...')\n",
        "valSet=valSet.map(tokenize,fn_kwargs={'enTokenizer':enTokenizer,'deTokenizer':deTokenizer,'maxLn':maxLn,'lower':lower,'sos':sosToken,'eos':eosToken})\n",
        "print('Tokenizing the test dataset...')\n",
        "tsSet=tsSet.map(tokenize,fn_kwargs={'enTokenizer':enTokenizer,'deTokenizer':deTokenizer,'maxLn':maxLn,'lower':lower,'sos':sosToken,'eos':eosToken})\n",
        "print('\\nThe contents of the tokenized datasets are as follows:\\n{}'.format(trSet))\n",
        "print('\\nA sample from the tokenized train dataset would look as shown below:\\n1. English:\\n{}'.format(trSet[0]['en']))\n",
        "print('2. English tokens:\\n{}'.format(trSet[0]['enTokens']))\n",
        "print('3. German:\\n{}'.format(trSet[0]['de']))\n",
        "print('4. German tokens:\\n{}'.format(trSet[0]['deTokens']))"
      ],
      "metadata": {
        "colab": {
          "base_uri": "https://localhost:8080/",
          "height": 466,
          "referenced_widgets": [
            "5a89036d7eab4d399bc3bace665e505d",
            "1b8b9df6f2a84579a12d7360d6cb70c6",
            "b276dd411388444cbe598e9d33142781",
            "578bd714df324f7ca0f3682802966abb",
            "5b93eb2e094146a8b9c3afd6c84c4f4b",
            "081fed92e7a5460a950f6a28e226cba2",
            "02feae23c9ff49b5b2ed95d2e10819f8",
            "e72f754079364f36b5e8db07d0417cfe",
            "3810d0e5d15e44c5809512c7f7c9102d",
            "7cb7c1f4f9c9490f85792483fd7d50cd",
            "619f4137961548a6b646d2d582b83175",
            "1e6496f0f9a44ba7b22d83ac5779216c",
            "e28228684ea84c3f817b667129e24731",
            "9b389bc6aed84f3c8543241681d64090",
            "16b944608ba74549a926d839e05bb3b5",
            "c559f71447484a93b4181945dad737ae",
            "a39ddce30c524341aaa94d4ea3295e4c",
            "59d6c87afacb42399bf17b685899efda",
            "b704bf29c7dd4755a8dfa2a83ff487b7",
            "bb17818fe9754c2abfc08d1e0494c142",
            "e584c421cc044196b25bdf60f1adc561",
            "7a88a5b261fa44a992b73eb1eea492dc"
          ]
        },
        "id": "H2hyVmInSaFr",
        "outputId": "5f406aef-ffbd-47c7-db7c-7016905740f5"
      },
      "execution_count": 20,
      "outputs": [
        {
          "output_type": "stream",
          "name": "stderr",
          "text": [
            "/usr/local/lib/python3.10/dist-packages/spacy/util.py:1740: UserWarning: [W111] Jupyter notebook detected: if using `prefer_gpu()` or `require_gpu()`, include it in the same cell right before `spacy.load()` to ensure that the model is loaded on the correct device. More information: http://spacy.io/usage/v3#jupyter-notebook-gpu\n",
            "  warnings.warn(Warnings.W111)\n"
          ]
        },
        {
          "output_type": "stream",
          "name": "stdout",
          "text": [
            "Tokenizing the train dataset...\n",
            "Tokenizing the validation dataset...\n"
          ]
        },
        {
          "output_type": "display_data",
          "data": {
            "text/plain": [
              "Map:   0%|          | 0/1014 [00:00<?, ? examples/s]"
            ],
            "application/vnd.jupyter.widget-view+json": {
              "version_major": 2,
              "version_minor": 0,
              "model_id": "5a89036d7eab4d399bc3bace665e505d"
            }
          },
          "metadata": {}
        },
        {
          "output_type": "stream",
          "name": "stdout",
          "text": [
            "Tokenizing the test dataset...\n"
          ]
        },
        {
          "output_type": "display_data",
          "data": {
            "text/plain": [
              "Map:   0%|          | 0/1000 [00:00<?, ? examples/s]"
            ],
            "application/vnd.jupyter.widget-view+json": {
              "version_major": 2,
              "version_minor": 0,
              "model_id": "1e6496f0f9a44ba7b22d83ac5779216c"
            }
          },
          "metadata": {}
        },
        {
          "output_type": "stream",
          "name": "stdout",
          "text": [
            "\n",
            "The contents of the tokenized datasets are as follows:\n",
            "Dataset({\n",
            "    features: ['en', 'de', 'enTokens', 'deTokens'],\n",
            "    num_rows: 29000\n",
            "})\n",
            "\n",
            "A sample from the tokenized train dataset would look as shown below:\n",
            "1. English:\n",
            "Two young, White males are outside near many bushes.\n",
            "2. English tokens:\n",
            "['<sos>', 'two', 'young', ',', 'white', 'males', 'are', 'outside', 'near', 'many', 'bushes', '.', '<eos>']\n",
            "3. German:\n",
            "Zwei junge weiße Männer sind im Freien in der Nähe vieler Büsche.\n",
            "4. German tokens:\n",
            "['<sos>', 'zwei', 'junge', 'weiße', 'männer', 'sind', 'im', 'freien', 'in', 'der', 'nähe', 'vieler', 'büsche', '.', '<eos>']\n"
          ]
        }
      ]
    },
    {
      "cell_type": "markdown",
      "source": [
        "### Vocabulary\n",
        "Convert the tokens into one-hot representations by defining a minimum threshold frequency of occurence for each token and the special tokens consisting of the unknown, the padding tokens, the SOS, and the EOS tokens."
      ],
      "metadata": {
        "id": "tQnhGT4xIl6o"
      }
    },
    {
      "cell_type": "code",
      "source": [
        "#Define the vocabularies for English and German\n",
        "threshold=2                                   #minimum frequency of occurence for a token to be assigned a one-hot representation\n",
        "spclTokens=['<unk>','<pad>',sosToken,eosToken]#to represent tokens with frequency<threshold and for padding to make all sentences have the same lengths\n",
        "enVocabulary=ttv.build_vocab_from_iterator(trSet['enTokens'],min_freq=threshold,specials=spclTokens)                       #English vocabulary\n",
        "deVocabulary=ttv.build_vocab_from_iterator(trSet['deTokens'],min_freq=threshold,specials=spclTokens)                       #German vocabulary\n",
        "print('The number of tokens in the vocabularies are as follows:\\n1. English: {}\\n2. German: {}'.format(len(enVocabulary),len(deVocabulary)))\n",
        "\n",
        "#The special tokens in the vocabularies\n",
        "enIdxUnk,enIdxPad,enIdxSos,enIdxEos=enVocabulary['<unk>'],enVocabulary['<pad>'],enVocabulary['<sos>'],enVocabulary['<eos>']#indices of special tokens in English vocabulary\n",
        "deIdxUnk,deIdxPad,deIdxSos,deIdxEos=deVocabulary['<unk>'],deVocabulary['<pad>'],deVocabulary['<sos>'],deVocabulary['<eos>']#indices of special tokens in German vocabulary\n",
        "assert enIdxUnk==deIdxUnk                     #in both vocabularies, the special tokens will be at indices 0,1,2, and 3 in the order they appear in 'spclTokens'. So, assert that\n",
        "assert enIdxPad==deIdxPad\n",
        "assert enIdxSos==deIdxSos\n",
        "assert enIdxEos==deIdxEos\n",
        "enVocabulary.set_default_index(enIdxUnk)      #set the default token for the English vocabulary\n",
        "deVocabulary.set_default_index(deIdxUnk)      #set the default token for the German vocabulary"
      ],
      "metadata": {
        "colab": {
          "base_uri": "https://localhost:8080/"
        },
        "id": "xcvo4QW5J3Fk",
        "outputId": "07604420-b2c9-4501-8265-1cf0d7875907"
      },
      "execution_count": 21,
      "outputs": [
        {
          "output_type": "stream",
          "name": "stdout",
          "text": [
            "The number of tokens in the vocabularies are as follows:\n",
            "1. English: 5893\n",
            "2. German: 7853\n"
          ]
        }
      ]
    },
    {
      "cell_type": "markdown",
      "source": [
        "### Numerize the vocabulary\n",
        "Convert the tokens into a numerical format so that they can be processed by neural networks."
      ],
      "metadata": {
        "id": "4qOO618tVigN"
      }
    },
    {
      "cell_type": "code",
      "source": [
        "#The function that numerizes the tokenized dataset\n",
        "def numerize(dataset,enVocab,deVocab):\n",
        "  enIndices=enVocab.lookup_indices(dataset['enTokens'])\n",
        "  deIndices=deVocab.lookup_indices(dataset['deTokens'])\n",
        "  return {'enIndices':enIndices,'deIndices':deIndices}\n",
        "\n",
        "#Numerize the datasets\n",
        "print('Numerizing the training dataset...')\n",
        "trSet=trSet.map(numerize,fn_kwargs={'enVocab':enVocabulary,'deVocab':deVocabulary})\n",
        "print('Numerizing the validation dataset...')\n",
        "valSet=valSet.map(numerize,fn_kwargs={'enVocab':enVocabulary,'deVocab':deVocabulary})\n",
        "print('Numerizing the testing dataset...')\n",
        "tsSet=tsSet.map(numerize,fn_kwargs={'enVocab':enVocabulary,'deVocab':deVocabulary})\n",
        "print('The contents of the numerized datasets are as follows:\\n{}.'.format(trSet))\n",
        "print('\\nA sample from the numerized dataset would look as shown below:\\n1. English:\\n{}'.format(trSet[0]['en']))\n",
        "print('2. English tokens:\\n{}'.format(trSet[0]['enTokens']))\n",
        "print('3. English indices:\\n{}'.format(trSet[0]['enIndices']))\n",
        "print('4. German:\\n{}'.format(trSet[0]['de']))\n",
        "print('5. German tokens:\\n{}'.format(trSet[0]['deTokens']))\n",
        "print('6. German indices:\\n{}'.format(trSet[0]['deIndices']))\n",
        "\n",
        "#Convert the datasets to tensors after retaining only 'label' and 'indices'\n",
        "trSet=trSet.with_format(type='torch',columns=['enIndices','deIndices'],output_all_columns=True)\n",
        "valSet=valSet.with_format(type='torch',columns=['enIndices','deIndices'],output_all_columns=True)\n",
        "tsSet=tsSet.with_format(type='torch',columns=['enIndices','deIndices'],output_all_columns=True)\n",
        "print('\\nThe numerized datasets\\' contents after their conversion to tensors are as follows:\\n{}.'.format(trSet))\n",
        "print('\\nA sample from the converted dataset would look as shown below:\\n1. English:\\n{}'.format(trSet[0]['en']))\n",
        "print('2. English tokens:\\n{}'.format(trSet[0]['enTokens']))\n",
        "print('3. English indices:\\n{}'.format(trSet[0]['enIndices']))\n",
        "print('4. German:\\n{}'.format(trSet[0]['de']))\n",
        "print('5. German tokens:\\n{}'.format(trSet[0]['deTokens']))\n",
        "print('6. German indices:\\n{}'.format(trSet[0]['deIndices']))"
      ],
      "metadata": {
        "colab": {
          "base_uri": "https://localhost:8080/",
          "height": 845,
          "referenced_widgets": [
            "c4e6a1c9074d4c5ba1f2aa052ca9bcc8",
            "bdee83022f584692902d4d8365dc6893",
            "54fe431a0c1c40c392618067542df43d",
            "810c2f7773734af28eb2fbf36de9673a",
            "188d3ec3003744c8a73e4c6feec94b07",
            "da77222884544af6982431fe1ae7f64a",
            "22c8624bf4d44058bfc1695aa381d2f0",
            "05b2ab6bb7e24409b2913e0a8bfb4c9f",
            "f38963fea4654eca8a82c60e9962e0dc",
            "3ed396fc4aec4590a9ae7a5afca56751",
            "79a563eab57645ea8d98c3e1c2d7de8f",
            "346011cc0c2a45b9b3107a6c01c70eb9",
            "4c27125da4a749829aef623505b68ad1",
            "2f4ec5ef66474ceb93d833f0585dd284",
            "7fc97271c7bb47978a78c103585b0862",
            "0c57bbc9720f40318eaad6fb2f37feb6",
            "b8925bd2a5d848e880025fcf5718baf0",
            "a41bd7b0f7c14209a199fa00d8100beb",
            "afc26a4b01584135b6d623e841b456de",
            "11c3fab3f7a04c82bf351e164a9238b5",
            "052cd802c9c040a3aac50b3271777779",
            "275da54dc96142b5b6dc55b3919debf8"
          ]
        },
        "id": "5aZxTnuCaYzO",
        "outputId": "794662b7-88fa-4c27-9288-3752d0dd5dcb"
      },
      "execution_count": 22,
      "outputs": [
        {
          "output_type": "stream",
          "name": "stdout",
          "text": [
            "Numerizing the training dataset...\n",
            "Numerizing the validation dataset...\n"
          ]
        },
        {
          "output_type": "display_data",
          "data": {
            "text/plain": [
              "Map:   0%|          | 0/1014 [00:00<?, ? examples/s]"
            ],
            "application/vnd.jupyter.widget-view+json": {
              "version_major": 2,
              "version_minor": 0,
              "model_id": "c4e6a1c9074d4c5ba1f2aa052ca9bcc8"
            }
          },
          "metadata": {}
        },
        {
          "output_type": "stream",
          "name": "stdout",
          "text": [
            "Numerizing the testing dataset...\n"
          ]
        },
        {
          "output_type": "display_data",
          "data": {
            "text/plain": [
              "Map:   0%|          | 0/1000 [00:00<?, ? examples/s]"
            ],
            "application/vnd.jupyter.widget-view+json": {
              "version_major": 2,
              "version_minor": 0,
              "model_id": "346011cc0c2a45b9b3107a6c01c70eb9"
            }
          },
          "metadata": {}
        },
        {
          "output_type": "stream",
          "name": "stdout",
          "text": [
            "The contents of the numerized datasets are as follows:\n",
            "Dataset({\n",
            "    features: ['en', 'de', 'enTokens', 'deTokens', 'enIndices', 'deIndices'],\n",
            "    num_rows: 29000\n",
            "}).\n",
            "\n",
            "A sample from the numerized dataset would look as shown below:\n",
            "1. English:\n",
            "Two young, White males are outside near many bushes.\n",
            "2. English tokens:\n",
            "['<sos>', 'two', 'young', ',', 'white', 'males', 'are', 'outside', 'near', 'many', 'bushes', '.', '<eos>']\n",
            "3. English indices:\n",
            "[2, 16, 24, 15, 25, 778, 17, 57, 80, 202, 1312, 5, 3]\n",
            "4. German:\n",
            "Zwei junge weiße Männer sind im Freien in der Nähe vieler Büsche.\n",
            "5. German tokens:\n",
            "['<sos>', 'zwei', 'junge', 'weiße', 'männer', 'sind', 'im', 'freien', 'in', 'der', 'nähe', 'vieler', 'büsche', '.', '<eos>']\n",
            "6. German indices:\n",
            "[2, 18, 26, 253, 30, 84, 20, 88, 7, 15, 110, 7647, 3171, 4, 3]\n",
            "\n",
            "The numerized datasets' contents after their conversion to tensors are as follows:\n",
            "Dataset({\n",
            "    features: ['en', 'de', 'enTokens', 'deTokens', 'enIndices', 'deIndices'],\n",
            "    num_rows: 29000\n",
            "}).\n",
            "\n",
            "A sample from the converted dataset would look as shown below:\n",
            "1. English:\n",
            "Two young, White males are outside near many bushes.\n",
            "2. English tokens:\n",
            "['<sos>', 'two', 'young', ',', 'white', 'males', 'are', 'outside', 'near', 'many', 'bushes', '.', '<eos>']\n",
            "3. English indices:\n",
            "tensor([   2,   16,   24,   15,   25,  778,   17,   57,   80,  202, 1312,    5,\n",
            "           3])\n",
            "4. German:\n",
            "Zwei junge weiße Männer sind im Freien in der Nähe vieler Büsche.\n",
            "5. German tokens:\n",
            "['<sos>', 'zwei', 'junge', 'weiße', 'männer', 'sind', 'im', 'freien', 'in', 'der', 'nähe', 'vieler', 'büsche', '.', '<eos>']\n",
            "6. German indices:\n",
            "tensor([   2,   18,   26,  253,   30,   84,   20,   88,    7,   15,  110, 7647,\n",
            "        3171,    4,    3])\n"
          ]
        }
      ]
    },
    {
      "cell_type": "markdown",
      "source": [
        "### Data loader\n",
        "The data loaders are iterated upon to return a batch of data. Each batch will be a dictionary containing numericalized English and German sentences represented as tensors."
      ],
      "metadata": {
        "id": "uUGQEL_YhoUz"
      }
    },
    {
      "cell_type": "code",
      "source": [
        "#The class prepares batches of data that can be iterated over by the data loader.\n",
        "#The batch is prepared by collating a group of data samples in the function\n",
        "#'collate'. The function also pads the shorter sequences in the batch with '<pad>'\n",
        "#to make their lengths equal to that of the batch's longest sequence. This\n",
        "#ensures that the neural network model's I/P dimension remains fixed.\n",
        "class languageDataset(Dataset):\n",
        "  def __init__(self,dataset,batchSize,enIdxPad,deIdxPad,shuffle=False) -> None:\n",
        "    self.dataset,self.batchSize=dataset,batchSize\n",
        "    self.enIdxPad,self.deIdxPad=enIdxPad,deIdxPad\n",
        "    self.shuffle=shuffle\n",
        "\n",
        "  def collate(self,batch):\n",
        "    batchEnIndices=[sample['enIndices'] for sample in batch]\n",
        "    batchDeIndices=[sample['deIndices'] for sample in batch]\n",
        "    batchEnIndices=nn.utils.rnn.pad_sequence(batchEnIndices,padding_value=self.enIdxPad)\n",
        "    batchDeIndices=nn.utils.rnn.pad_sequence(batchDeIndices,padding_value=self.deIdxPad)\n",
        "    print('Batch sizes for English and German are {} and {} respectively.'.format(batchEnIndices.shape,batchDeIndices.shape))\n",
        "    return {'enIndices':batchEnIndices,'deIndices':batchDeIndices}\n",
        "\n",
        "  def loadData(self):\n",
        "    dataLoader=torch.utils.data.DataLoader(dataset=self.dataset,batch_size=self.batchSize,collate_fn=self.collate,shuffle=self.shuffle)\n",
        "    return dataLoader\n",
        "\n",
        "def dataIterator(set,dataset,params):\n",
        "  if set=='train':obj=languageDataset(dataset,params['batchSize'],params['enIdxPad'],params['deIdxPad'],shuffle=True)\n",
        "  elif set=='validation':obj=languageDataset(dataset,params['batchSize'],params['enIdxPad'],params['deIdxPad'],shuffle=True)\n",
        "  elif set=='test':obj=languageDataset(dataset,params['batchSize'],params['enIdxPad'],params['deIdxPad'],shuffle=True)\n",
        "  return obj.loadData()"
      ],
      "metadata": {
        "id": "Oyb69nSBVnAx"
      },
      "execution_count": 23,
      "outputs": []
    },
    {
      "cell_type": "markdown",
      "source": [
        "## Sequence-to-sequence LSTM model for language translation\n",
        "The language translation model will use an LSTM-based encoder-decoder network arcitecture."
      ],
      "metadata": {
        "id": "LNrzvQb4DF2H"
      }
    },
    {
      "cell_type": "markdown",
      "source": [
        "### The encoder\n",
        "The model's encoder consists of an embedding layer, which accepts index representations of the source language, and one or more layers of LSTM units that generate context vectors to feedi the model's decoder."
      ],
      "metadata": {
        "id": "ijWn_ildp3XP"
      }
    },
    {
      "cell_type": "code",
      "source": [
        "class Encoder(nn.Module):\n",
        "  #Initialize the Encoder class\n",
        "  def __init__(self,ipDim,embDim,hiddenDim,L,rate,bi=False,batchFirst=False) -> None:\n",
        "    super(Encoder,self).__init__()\n",
        "    self.hiddenDim,self.L=hiddenDim,L\n",
        "    self.embed=nn.Embedding(ipDim,embDim)#I/P dimension is the length of the source language's vocabulary\n",
        "    self.lstm=nn.LSTM(embDim,hiddenDim,L,bidirectional=bi,dropout=rate,batch_first=batchFirst)\n",
        "    self.dropout=nn.Dropout(rate)\n",
        "\n",
        "  #Forward propagates a batch of indices (denoted by 'x') of size\n",
        "  #[seqLength,batchSize] through the network\n",
        "  def forward(self,x):\n",
        "    embedding=self.dropout(self.embed(x))#size is [seqLength,batchSize,embDim]\n",
        "    #Output sizes of the LSTM layer are:\n",
        "    #1. 'op': ht of all last layer units i.e., h^L_t; t=0,1,2,...,T. Its size is [seqLength,batchSize,hiddenDim*nDir]; 'nDir'=2 for bidirectional and 1 otherwise\n",
        "    #2. 'h': hT of all layers stacked together i.e., ht of the last units of all layers. Its size is [L*nDir,batchSize,hiddenDim]; 'nDir'=2 for bidirectional and 1 otherwise\n",
        "    #3. 'c': cT of all layers stacked together i.e., ct of the last units of all layers. Its size is [L*nDir,batchSize,hiddenDim]; 'nDir'=2 for bidirectional and 1 otherwise\n",
        "    op,(h,c)=self.lstm(embedding)        #h and c together form z, the context vector feed for the decoder. If initial 'h' and 'c' not given, nn.LSTM assumes them to be all zeros\n",
        "    return h,c"
      ],
      "metadata": {
        "id": "xeY5Pzn2q0eY"
      },
      "execution_count": 24,
      "outputs": []
    },
    {
      "cell_type": "markdown",
      "source": [
        "### The decoder\n",
        "The model's decoder consists of an embedding layer that accepts index representations of the true/model-predicted target language (based on teacher-forcing learning) and the same number of LSTM layers as the encoder, which predict a target-language token for the current time step with the help of a dense layer mapping."
      ],
      "metadata": {
        "id": "6F0NQkQ63rgk"
      }
    },
    {
      "cell_type": "code",
      "source": [
        "class Decoder(nn.Module):\n",
        "  #Initializes the Decoder class\n",
        "  def __init__(self,opDim,embDim,hiddenDim,L,rate,bi=False,batchFirst=False) -> None:\n",
        "    super(Decoder,self).__init__()\n",
        "    self.opDim,self.hiddenDim,self.L=opDim,hiddenDim,L\n",
        "    self.embed=nn.Embedding(opDim,embDim) #O/P dimension is the length of the target language's vocabulary\n",
        "    self.lstm=nn.LSTM(embDim,hiddenDim,L,bidirectional=bi,dropout=rate,batch_first=batchFirst)\n",
        "    self.linear=nn.Linear(hiddenDim,opDim)#O/P dimension is the length of the target language's vocabulary\n",
        "    self.dropout=nn.Dropout(rate)\n",
        "\n",
        "  #Forward propagates a batch of context vectors (denoted by 'x') through the\n",
        "  #network\n",
        "  def forward(self,x,h,c):\n",
        "    #Input sizes of the decoder are:\n",
        "    #1. 'x': True/predicted (based on teacher-forcing) word for time t-1. Its size is [batchSize], and it covers only the immediate previous time step since decoder translates one time step at a time.\n",
        "    #2. 'h': hT of all layers of the encoder stacked together i.e., ht of the last units of all layers in the encoder. Its size is [L*nDir,batchSize,hiddenDim]; 'nDir'=2 for bidirectional and 1 otherwise\n",
        "    #3. 'c': cT of all layers of the encoder stacked together i.e., ct of the last units of all layers in the encoder. Its size is [L*nDir,batchSize,hiddenDim]; 'nDir'=2 for bidirectional and 1 otherwise\n",
        "    #'h' and 'c' form the context vector I/P for the decoder\n",
        "    x=x.unsqueeze(0)                      #x's size changed to [1,batchSize] to explicitly represent the sequence length dimension for processing (seqLength=1 as x covers only the immediate previous time step).\n",
        "    embedding=self.dropout(self.embed(x)) #size is [1,batchSize,embDim]\n",
        "    #Output sizes of the LSTM layer are:\n",
        "    #1. 'op': ht of all last layer units i.e., h^L_t; t=0,1,2,...,T. Its size is [seqLength,batchSize,hiddenDim*nDir]; 'nDir' is always 1 for the decoder\n",
        "    #2. 'h': hT of all layers stacked together i.e., ht of the last units of all layers. Its size is [L*nDir,batchSize,hiddenDim]; 'nDir' is always 1 for the decoder\n",
        "    #3. 'c': cT of all layers stacked together i.e., ct of the last units of all layers. Its size is [L*nDir,batchSize,hiddenDim]; 'nDir' is always 1 for the decoder\n",
        "    op,(h,c)=self.lstm(embedding,(h,c))   #initial 'h' and 'c' are not assumed to be zeros since they are passed explicity to nn.LSTM\n",
        "    #As the decoder predicts the target sentence one word (current time-step) at\n",
        "    #a time, 'op' is stripped of the sequence length dimension before it is fed\n",
        "    #to the dense layer.\n",
        "    yHat=self.linear(op.squeeze(0))        #size is [batchSize,opDim]\n",
        "    return yHat,h,c"
      ],
      "metadata": {
        "id": "gvhINFC7_4oR"
      },
      "execution_count": 25,
      "outputs": []
    },
    {
      "cell_type": "markdown",
      "source": [
        "### The sequence-to-sequence architecture\n",
        "The architecture's"
      ],
      "metadata": {
        "id": "f8YjCjQ1__7e"
      }
    },
    {
      "cell_type": "code",
      "source": [
        "class Seq2seq(nn.Module):\n",
        "  #Initializes the sequence-to-sequence architecture class\n",
        "  def __init__(self,encoder,decoder,device) -> None:\n",
        "    super(Seq2seq,self).__init__()\n",
        "    self.encoder=encoder\n",
        "    self.decoder=decoder\n",
        "    self.device=device\n",
        "    assert(encoder.hiddenDim==decoder.hiddenDim),'The hidden dimensions of the encoder and the decoder must be equal'\n",
        "    assert(encoder.L==decoder.L),'The number of hidden layers of the encoder and the decoder must be equal'\n",
        "\n",
        "  #Forward propagates a batch of sentences in the source language, 'source',\n",
        "  #through the network\n",
        "  def forward(self,source,target,ratio=0):\n",
        "    #I/P sizes of the network are:\n",
        "    #1. 'source': A batch of sentences in the source language. Its size is [souSeqLength,batchSize].\n",
        "    #2. 'target': The batch of true sentences corresponding to 'source' in the target language. Its size is [tarSeqLength,batchSize]\n",
        "    targetLn,batchSize=target.shape[0],target.shape[1]\n",
        "    targetVocabSize=self.decoder.opDim                #the target language's vocabulary size\n",
        "    #Pass 'source' through the encoder\n",
        "    h,c=self.encoder(source)\n",
        "    #Pass the context vector and the teacher-forced target language word for the\n",
        "    #immediate previous time-step through the decoder. Note that the decoder\n",
        "    #predicts words one time step at a time, requiring the use of a loop\n",
        "    ops=torch.zeros(targetLn,batchSize,targetVocabSize).to(self.device)#stores decoder outputs\n",
        "    ip=target[0,:]                                    #decoder I/P for the first time-step for all sequences in the batch is <sos>\n",
        "    for t in range(1,targetLn):\n",
        "      #O/P sizes of the decoder have been explained previously\n",
        "      op,h,c=self.decoder(ip,h,c)\n",
        "      ops[t]=op                                       #store 'op' of size [batchSize,opDim] in 'ops' along the 'targetLn' dimension\n",
        "      tfFlag=random.random()<ratio                    #flag for teacher-forcing learning\n",
        "      if tfFlag:ip=target[t]                          #teacher-forced I/P is true immediate previous word if flag is set, and predicted immediate previous word otherwise\n",
        "      else:ip=op.argmax(1)                            #token with the highest probability score is the prediction for the current time-step. It also becomes teacher-forced I/P for the next time-step is flag is not set\n",
        "    return ops"
      ],
      "metadata": {
        "id": "8paHvUdSAM57"
      },
      "execution_count": 26,
      "outputs": []
    },
    {
      "cell_type": "markdown",
      "source": [
        "## Model training and evaluation\n",
        "The functions that train, validate, and evaluate the LSTM model are defined below."
      ],
      "metadata": {
        "id": "Y3hQx8WVpn1p"
      }
    },
    {
      "cell_type": "code",
      "source": [
        "#This function trains and validates the model\n",
        "def train(enVocabulary,deVocabulary,trDataLoader,valDataLoader,params):\n",
        "  #Define the model and initialize its weights\n",
        "  encoder=Encoder(params['ipDim'],params['encEmbDim'],params['hiddenDim'],params['numLayers'],params['encDORate'])\n",
        "  decoder=Decoder(params['opDim'],params['decEmbDim'],params['hiddenDim'],params['numLayers'],params['decDORate'])\n",
        "  model=Seq2seq(encoder,decoder,params['device']).to(params['device'])\n",
        "  model.apply(initWeights)\n",
        "  #Define the cost-function and the optimizer\n",
        "  optimizer=optim.Adam(model.parameters(),lr=params['alpha'])\n",
        "  costFun=nn.CrossEntropyLoss(ignore_index=params['enIdxPad']).to(params['device'])\n",
        "  #Start training the model\n",
        "  metrics=collections.defaultdict(list)\n",
        "  bestValLoss=float('inf')\n",
        "  model.to(params['device'])                                  #move the model to the GPU\n",
        "  model.train()                                               #configure the model for training\n",
        "  for epoch in range(params['epochs']):\n",
        "    model.train()                                             #configure the model for training\n",
        "    trLosses=[]\n",
        "    #Loop over each training batch\n",
        "    for batch in tqdm.tqdm(trDataLoader,desc='Model training in progress...'):\n",
        "      source=batch['deIndices'].to(params['device'])\n",
        "      target=batch['enIndices'].to(params['device'])\n",
        "      #Forward propagation\n",
        "      ops=model(source,target,params['teacherForcingRatio'])  #size is [tarSeqLength,batchSize,opDim]\n",
        "      ops=ops[1:].view(-1,params['opDim'])                    #strip off <sos> from predicted target before computing loss. New shape is [tarSeqLength-1,batchSize,opDim]\n",
        "      target=target[1:].view(-1)                              #change size of 'target' from [tarSeqLength,batchSize] to [(tarSeqLength-1)*batchSize]\n",
        "      #Backpropagation of loss\n",
        "      loss=costFun(ops,target)\n",
        "      optimizer.zero_grad()                                   #initialize all gradients to zero\n",
        "      loss.backward()\n",
        "      torch.nn.utils.clip_grad_norm_(model.parameters(),params['clip'])\n",
        "      optimizer.step()\n",
        "      #Update the losses\n",
        "      trLosses.append(loss.item())\n",
        "    metrics['train_losses'].append(np.mean(trLosses))\n",
        "    #Validate the model after each epoch\n",
        "    model.eval()                                              #configure the model for evaluation\n",
        "    valLosses=[]\n",
        "    with torch.no_grad():                                     #backpropagation not required\n",
        "      for batch in tqdm.tqdm(valDataLoader,desc='Model validation in progress...'):\n",
        "        source=batch['deIndices'].to(params['device'])\n",
        "        target=batch['enIndices'].to(params['device'])\n",
        "        #Forward propagation\n",
        "        ops=model(source,target)                              #teacher-forcing is 0 for validation and size is [tarSeqLength,batchSize,opDim]\n",
        "        ops=ops[1:].view(-1,params['opDim'])\n",
        "        target=target[1:].view(-1)\n",
        "        #Validation loss\n",
        "        loss=costFun(ops,target)\n",
        "        valLosses.append(loss.item())\n",
        "    metrics['valid_losses'].append(np.mean(valLosses))\n",
        "    if np.mean(valLosses)<bestValLoss:\n",
        "      bestValLoss=np.mean(valLosses)\n",
        "      torch.save(model.state_dict(),'seq2seq.pt')\n",
        "    print(f'Epoch: {epoch}')\n",
        "    print(f'Training loss: {np.mean(trLosses):.3f}')\n",
        "    print(f'Validation loss: {np.mean(valLosses):.3f}\\n\\n')\n",
        "  return model,costFun\n",
        "\n",
        "#This function initializes the network's weights from a uniform distribution\n",
        "def initWeights(model):\n",
        "  for layer,weights in model.named_parameters():\n",
        "    nn.init.uniform_(weights.data,-8e-2,8e-2)\n",
        "\n",
        "#This function evaluates the model\n",
        "def evaluate(model,enVocabulary,deVocabulary,tsDataLoader,costFun,params):\n",
        "  model.eval()                                                #configure the model for evaluation\n",
        "  tsLosses=[]\n",
        "  with torch.no_grad():                                       #backpropagation not required\n",
        "    for batch in tqdm.tqdm(tsDataLoader,desc='Model evaluation in progress...'):\n",
        "      source=batch['deIndices'].to(params['device'])\n",
        "      target=batch['enIndices'].to(params['device'])\n",
        "      #Forward propagation\n",
        "      ops=model(source,target)                              #teacher-forcing is 0 for validation and size is [tarSeqLength,batchSize,opDim]\n",
        "      ops=ops[1:].view(-1,params['opDim'])\n",
        "      target=target[1:].view(-1)\n",
        "      #Evaluation loss\n",
        "      loss=costFun(ops,target)\n",
        "      tsLosses.append(loss.item())\n",
        "  return np.mean(tsLosses)\n",
        "\n",
        "#This function translates sentences in one langugage to another andcalculates\n",
        "#the BLEU loss\n",
        "def translate(model,dataset,sourceTokenizer,targetTokenizer,sourceVocab,\n",
        "              targetVocab,sos,eos,lower,device,maxOPLn=25):\n",
        "  model.eval()                                                #configure the model for evaluation\n",
        "  translations=[]\n",
        "  #Start translating the sentences in the dataset\n",
        "  with torch.no_grad():                                       #backpropagation not required\n",
        "    for sentence in tqdm.tqdm(dataset):\n",
        "      sentence=sentence['de']\n",
        "      if isinstance(sentence,str):\n",
        "        tokens=[token.text for token in targetTokenizer.tokenizer(sentence)]\n",
        "      else:tokens=[]\n",
        "      if lower:tokens=[token.lower() for token in tokens]\n",
        "      tokens=[sos]+tokens+[eos]\n",
        "      indices=targetVocab.lookup_indices(tokens)\n",
        "      indices=torch.LongTensor(indices).unsqueeze(-1).to(device)\n",
        "      h,c=model.encoder(indices)\n",
        "      ips=sourceVocab.lookup_indices([sos])\n",
        "      for _ in range(maxOPLn):\n",
        "        op,h,c=model.decoder(torch.LongTensor([ips[-1]]).to(device),h,c)\n",
        "        yHat=op.argmax(-1).item()\n",
        "        ips.append(yHat)\n",
        "        if yHat==sourceVocab[eos]:break\n",
        "      tokens=sourceVocab.lookup_tokens(ips)\n",
        "    translations.append(tokens)\n",
        "  #Form the translations from tokens\n",
        "  translationsHat=[''.join(translation[1:-1]) for translation in translations]\n",
        "  translationsTrue=[[sentence['en']] for sentence in dataset]\n",
        "  return translationsHat,translationsTrue\n",
        "\n",
        "#This function returns the tokenizer function to claculate the BLEU loss\n",
        "def getTokenizer(tokenizer,lower):\n",
        "  def tokenizerFun(sentence):\n",
        "    tokens=[token.text for token in tokenizer.tokenizer(sentence)]\n",
        "    if lower():tokens=[token.lower() for token in tokens]\n",
        "    return tokens\n",
        "  return tokenizerFun"
      ],
      "metadata": {
        "id": "2hmTs5_0poOL"
      },
      "execution_count": 27,
      "outputs": []
    },
    {
      "cell_type": "markdown",
      "source": [
        "## Main function"
      ],
      "metadata": {
        "id": "EUuBEikliKFd"
      }
    },
    {
      "cell_type": "code",
      "source": [
        "if __name__=='__main__':\n",
        "  device=torch.device('cuda' if torch.cuda.is_available() else 'cpu')\n",
        "  params={'device':device,\n",
        "          'epochs':10,\n",
        "          'alpha':1e-3,\n",
        "          'batchSize':128,\n",
        "          'clip':1,\n",
        "          'teacherForcingRatio':5e-1,#percentage time for which immediate previous groud-truth is used by decoder instead of immediate previous prediction\n",
        "          'ipDim':len(deVocabulary),\n",
        "          'opDim':len(enVocabulary),\n",
        "          'encEmbDim':256,\n",
        "          'decEmbDim':256,\n",
        "          'hiddenDim':512,\n",
        "          'numLayers':2,\n",
        "          'encDORate':5e-1,\n",
        "          'decDORate':5e-1,\n",
        "          'enIdxUnk':enIdxUnk,\n",
        "          'enIdxPad':enIdxPad,\n",
        "          'deIdxUnk':deIdxUnk,\n",
        "          'deIdxPad':deIdxPad}\n",
        "#Data iterators\n",
        "trIterator=dataIterator('train',trSet,params)\n",
        "valIterator=dataIterator('validation',valSet,params)\n",
        "tsIterator=dataIterator('test',tsSet,params)\n",
        "#Train the sequence-to-sequence model for language translation\n",
        "model,costFun=train(enVocabulary,deVocabulary,trIterator,valIterator,params)\n",
        "print('Model training is complete, and the model has {} learnable parameters.\\n\\n'.format(sum(weight.numel() for weight in model.parameters() if weight.requires_grad==True)))\n",
        "#Evaluate the sequence-to-sequence model\n",
        "model.load_state_dict(torch.load('seq2seq.pt'))\n",
        "tsLoss=evaluate(model,enVocabulary,deVocabulary,tsIterator,costFun,params)\n",
        "print(f'Testing loss: {tsLoss:.3f}\\n\\n')\n",
        "#Evaluate the sequence-to-sequence model's langugage translation performance\n",
        "#translations=[translate(model,sentence['de'],enTokenizer,deTokenizer,\n",
        "#                        enVocabulary,deVocabulary,sosToken,eosToken,lower,\n",
        "#                        params['device']) for sentence in tqdm.tqdm(tsSet)]\n",
        "bleu=evaluate.load('bleu')\n",
        "transHat,trans=translate(model,tsSet,enTokenizer,deTokenizer,enVocabulary,\n",
        "                       deVocabulary,sosToken,eosToken,lower,params['device'])\n",
        "tokenizerFun=getTokenizer(enTokenizer,lower)\n",
        "evaluation=bleu.compute(predictions=transHat,references=trans,tokenizer=tokenizerFun)"
      ],
      "metadata": {
        "colab": {
          "base_uri": "https://localhost:8080/",
          "height": 1000
        },
        "id": "VAWKNOlRiK5Y",
        "outputId": "845b7543-eb7e-4820-a3d6-984cb6532bcb"
      },
      "execution_count": 28,
      "outputs": [
        {
          "metadata": {
            "tags": null
          },
          "name": "stderr",
          "output_type": "stream",
          "text": [
            "Model training in progress...:   0%|          | 1/227 [00:00<00:45,  4.95it/s]"
          ]
        },
        {
          "metadata": {
            "tags": null
          },
          "name": "stdout",
          "output_type": "stream",
          "text": [
            "Batch sizes for English and German are torch.Size([30, 128]) and torch.Size([28, 128]) respectively.\n",
            "Batch sizes for English and German are torch.Size([29, 128]) and torch.Size([32, 128]) respectively.\n"
          ]
        },
        {
          "metadata": {
            "tags": null
          },
          "name": "stderr",
          "output_type": "stream",
          "text": [
            "Model training in progress...:   1%|▏         | 3/227 [00:00<00:38,  5.84it/s]"
          ]
        },
        {
          "metadata": {
            "tags": null
          },
          "name": "stdout",
          "output_type": "stream",
          "text": [
            "Batch sizes for English and German are torch.Size([30, 128]) and torch.Size([27, 128]) respectively.\n",
            "Batch sizes for English and German are torch.Size([27, 128]) and torch.Size([33, 128]) respectively.\n"
          ]
        },
        {
          "metadata": {
            "tags": null
          },
          "name": "stderr",
          "output_type": "stream",
          "text": [
            "Model training in progress...:   2%|▏         | 5/227 [00:00<00:37,  5.88it/s]"
          ]
        },
        {
          "metadata": {
            "tags": null
          },
          "name": "stdout",
          "output_type": "stream",
          "text": [
            "Batch sizes for English and German are torch.Size([35, 128]) and torch.Size([35, 128]) respectively.\n",
            "Batch sizes for English and German are torch.Size([27, 128]) and torch.Size([24, 128]) respectively.\n"
          ]
        },
        {
          "metadata": {
            "tags": null
          },
          "name": "stderr",
          "output_type": "stream",
          "text": [
            "Model training in progress...:   3%|▎         | 7/227 [00:01<00:35,  6.20it/s]"
          ]
        },
        {
          "metadata": {
            "tags": null
          },
          "name": "stdout",
          "output_type": "stream",
          "text": [
            "Batch sizes for English and German are torch.Size([31, 128]) and torch.Size([31, 128]) respectively.\n",
            "Batch sizes for English and German are torch.Size([31, 128]) and torch.Size([36, 128]) respectively.\n"
          ]
        },
        {
          "metadata": {
            "tags": null
          },
          "name": "stderr",
          "output_type": "stream",
          "text": [
            "Model training in progress...:   4%|▍         | 9/227 [00:01<00:35,  6.22it/s]"
          ]
        },
        {
          "metadata": {
            "tags": null
          },
          "name": "stdout",
          "output_type": "stream",
          "text": [
            "Batch sizes for English and German are torch.Size([29, 128]) and torch.Size([29, 128]) respectively.\n",
            "Batch sizes for English and German are torch.Size([29, 128]) and torch.Size([26, 128]) respectively.\n"
          ]
        },
        {
          "metadata": {
            "tags": null
          },
          "name": "stderr",
          "output_type": "stream",
          "text": [
            "Model training in progress...:   5%|▍         | 11/227 [00:01<00:32,  6.65it/s]"
          ]
        },
        {
          "metadata": {
            "tags": null
          },
          "name": "stdout",
          "output_type": "stream",
          "text": [
            "Batch sizes for English and German are torch.Size([25, 128]) and torch.Size([29, 128]) respectively.\n",
            "Batch sizes for English and German are torch.Size([32, 128]) and torch.Size([36, 128]) respectively.\n"
          ]
        },
        {
          "metadata": {
            "tags": null
          },
          "name": "stderr",
          "output_type": "stream",
          "text": [
            "Model training in progress...:   6%|▌         | 13/227 [00:02<00:33,  6.31it/s]"
          ]
        },
        {
          "metadata": {
            "tags": null
          },
          "name": "stdout",
          "output_type": "stream",
          "text": [
            "Batch sizes for English and German are torch.Size([30, 128]) and torch.Size([30, 128]) respectively.\n",
            "Batch sizes for English and German are torch.Size([28, 128]) and torch.Size([29, 128]) respectively.\n"
          ]
        },
        {
          "metadata": {
            "tags": null
          },
          "name": "stderr",
          "output_type": "stream",
          "text": [
            "Model training in progress...:   7%|▋         | 15/227 [00:02<00:32,  6.60it/s]"
          ]
        },
        {
          "metadata": {
            "tags": null
          },
          "name": "stdout",
          "output_type": "stream",
          "text": [
            "Batch sizes for English and German are torch.Size([27, 128]) and torch.Size([23, 128]) respectively.\n",
            "Batch sizes for English and German are torch.Size([29, 128]) and torch.Size([30, 128]) respectively.\n"
          ]
        },
        {
          "metadata": {
            "tags": null
          },
          "name": "stderr",
          "output_type": "stream",
          "text": [
            "Model training in progress...:   7%|▋         | 17/227 [00:02<00:34,  6.04it/s]"
          ]
        },
        {
          "metadata": {
            "tags": null
          },
          "name": "stdout",
          "output_type": "stream",
          "text": [
            "Batch sizes for English and German are torch.Size([37, 128]) and torch.Size([36, 128]) respectively.\n",
            "Batch sizes for English and German are torch.Size([30, 128]) and torch.Size([27, 128]) respectively.\n"
          ]
        },
        {
          "metadata": {
            "tags": null
          },
          "name": "stderr",
          "output_type": "stream",
          "text": [
            "Model training in progress...:   8%|▊         | 19/227 [00:03<00:33,  6.21it/s]"
          ]
        },
        {
          "metadata": {
            "tags": null
          },
          "name": "stdout",
          "output_type": "stream",
          "text": [
            "Batch sizes for English and German are torch.Size([29, 128]) and torch.Size([27, 128]) respectively.\n",
            "Batch sizes for English and German are torch.Size([27, 128]) and torch.Size([28, 128]) respectively.\n"
          ]
        },
        {
          "metadata": {
            "tags": null
          },
          "name": "stderr",
          "output_type": "stream",
          "text": [
            "Model training in progress...:   9%|▉         | 21/227 [00:03<00:31,  6.49it/s]"
          ]
        },
        {
          "metadata": {
            "tags": null
          },
          "name": "stdout",
          "output_type": "stream",
          "text": [
            "Batch sizes for English and German are torch.Size([28, 128]) and torch.Size([27, 128]) respectively.\n",
            "Batch sizes for English and German are torch.Size([27, 128]) and torch.Size([27, 128]) respectively.\n"
          ]
        },
        {
          "metadata": {
            "tags": null
          },
          "name": "stderr",
          "output_type": "stream",
          "text": [
            "Model training in progress...:  10%|█         | 23/227 [00:03<00:29,  6.95it/s]"
          ]
        },
        {
          "metadata": {
            "tags": null
          },
          "name": "stdout",
          "output_type": "stream",
          "text": [
            "Batch sizes for English and German are torch.Size([24, 128]) and torch.Size([28, 128]) respectively.\n",
            "Batch sizes for English and German are torch.Size([30, 128]) and torch.Size([28, 128]) respectively.\n"
          ]
        },
        {
          "metadata": {
            "tags": null
          },
          "name": "stderr",
          "output_type": "stream",
          "text": [
            "Model training in progress...:  11%|█         | 25/227 [00:03<00:32,  6.13it/s]"
          ]
        },
        {
          "metadata": {
            "tags": null
          },
          "name": "stdout",
          "output_type": "stream",
          "text": [
            "Batch sizes for English and German are torch.Size([36, 128]) and torch.Size([34, 128]) respectively.\n",
            "Batch sizes for English and German are torch.Size([31, 128]) and torch.Size([30, 128]) respectively.\n"
          ]
        },
        {
          "metadata": {
            "tags": null
          },
          "name": "stderr",
          "output_type": "stream",
          "text": [
            "Model training in progress...:  12%|█▏        | 27/227 [00:04<00:31,  6.31it/s]"
          ]
        },
        {
          "metadata": {
            "tags": null
          },
          "name": "stdout",
          "output_type": "stream",
          "text": [
            "Batch sizes for English and German are torch.Size([28, 128]) and torch.Size([28, 128]) respectively.\n",
            "Batch sizes for English and German are torch.Size([26, 128]) and torch.Size([26, 128]) respectively.\n"
          ]
        },
        {
          "metadata": {
            "tags": null
          },
          "name": "stderr",
          "output_type": "stream",
          "text": [
            "Model training in progress...:  13%|█▎        | 29/227 [00:04<00:30,  6.48it/s]"
          ]
        },
        {
          "metadata": {
            "tags": null
          },
          "name": "stdout",
          "output_type": "stream",
          "text": [
            "Batch sizes for English and German are torch.Size([30, 128]) and torch.Size([30, 128]) respectively.\n",
            "Batch sizes for English and German are torch.Size([28, 128]) and torch.Size([28, 128]) respectively.\n"
          ]
        },
        {
          "metadata": {
            "tags": null
          },
          "name": "stderr",
          "output_type": "stream",
          "text": [
            "Model training in progress...:  14%|█▎        | 31/227 [00:04<00:31,  6.17it/s]"
          ]
        },
        {
          "metadata": {
            "tags": null
          },
          "name": "stdout",
          "output_type": "stream",
          "text": [
            "Batch sizes for English and German are torch.Size([34, 128]) and torch.Size([26, 128]) respectively.\n",
            "Batch sizes for English and German are torch.Size([26, 128]) and torch.Size([28, 128]) respectively.\n"
          ]
        },
        {
          "metadata": {
            "tags": null
          },
          "name": "stderr",
          "output_type": "stream",
          "text": [
            "Model training in progress...:  15%|█▍        | 33/227 [00:05<00:31,  6.14it/s]"
          ]
        },
        {
          "metadata": {
            "tags": null
          },
          "name": "stdout",
          "output_type": "stream",
          "text": [
            "Batch sizes for English and German are torch.Size([34, 128]) and torch.Size([28, 128]) respectively.\n",
            "Batch sizes for English and German are torch.Size([35, 128]) and torch.Size([32, 128]) respectively.\n"
          ]
        },
        {
          "metadata": {
            "tags": null
          },
          "name": "stderr",
          "output_type": "stream",
          "text": [
            "Model training in progress...:  15%|█▌        | 35/227 [00:05<00:32,  5.84it/s]"
          ]
        },
        {
          "metadata": {
            "tags": null
          },
          "name": "stdout",
          "output_type": "stream",
          "text": [
            "Batch sizes for English and German are torch.Size([32, 128]) and torch.Size([27, 128]) respectively.\n",
            "Batch sizes for English and German are torch.Size([29, 128]) and torch.Size([28, 128]) respectively.\n"
          ]
        },
        {
          "metadata": {
            "tags": null
          },
          "name": "stderr",
          "output_type": "stream",
          "text": [
            "Model training in progress...:  16%|█▋        | 37/227 [00:05<00:33,  5.75it/s]"
          ]
        },
        {
          "metadata": {
            "tags": null
          },
          "name": "stdout",
          "output_type": "stream",
          "text": [
            "Batch sizes for English and German are torch.Size([36, 128]) and torch.Size([38, 128]) respectively.\n",
            "Batch sizes for English and German are torch.Size([40, 128]) and torch.Size([37, 128]) respectively.\n"
          ]
        },
        {
          "metadata": {
            "tags": null
          },
          "name": "stderr",
          "output_type": "stream",
          "text": [
            "Model training in progress...:  17%|█▋        | 39/227 [00:06<00:34,  5.39it/s]"
          ]
        },
        {
          "metadata": {
            "tags": null
          },
          "name": "stdout",
          "output_type": "stream",
          "text": [
            "Batch sizes for English and German are torch.Size([35, 128]) and torch.Size([33, 128]) respectively.\n",
            "Batch sizes for English and German are torch.Size([26, 128]) and torch.Size([27, 128]) respectively.\n"
          ]
        },
        {
          "metadata": {
            "tags": null
          },
          "name": "stderr",
          "output_type": "stream",
          "text": [
            "Model training in progress...:  18%|█▊        | 41/227 [00:06<00:30,  6.16it/s]"
          ]
        },
        {
          "metadata": {
            "tags": null
          },
          "name": "stdout",
          "output_type": "stream",
          "text": [
            "Batch sizes for English and German are torch.Size([27, 128]) and torch.Size([29, 128]) respectively.\n",
            "Batch sizes for English and German are torch.Size([30, 128]) and torch.Size([28, 128]) respectively.\n"
          ]
        },
        {
          "metadata": {
            "tags": null
          },
          "name": "stderr",
          "output_type": "stream",
          "text": [
            "Model training in progress...:  19%|█▉        | 43/227 [00:06<00:31,  5.93it/s]"
          ]
        },
        {
          "metadata": {
            "tags": null
          },
          "name": "stdout",
          "output_type": "stream",
          "text": [
            "Batch sizes for English and German are torch.Size([36, 128]) and torch.Size([31, 128]) respectively.\n",
            "Batch sizes for English and German are torch.Size([29, 128]) and torch.Size([28, 128]) respectively.\n"
          ]
        },
        {
          "metadata": {
            "tags": null
          },
          "name": "stderr",
          "output_type": "stream",
          "text": [
            "Model training in progress...:  20%|█▉        | 45/227 [00:07<00:31,  5.81it/s]"
          ]
        },
        {
          "metadata": {
            "tags": null
          },
          "name": "stdout",
          "output_type": "stream",
          "text": [
            "Batch sizes for English and German are torch.Size([36, 128]) and torch.Size([37, 128]) respectively.\n",
            "Batch sizes for English and German are torch.Size([25, 128]) and torch.Size([26, 128]) respectively.\n"
          ]
        },
        {
          "metadata": {
            "tags": null
          },
          "name": "stderr",
          "output_type": "stream",
          "text": [
            "Model training in progress...:  21%|██        | 47/227 [00:07<00:27,  6.54it/s]"
          ]
        },
        {
          "metadata": {
            "tags": null
          },
          "name": "stdout",
          "output_type": "stream",
          "text": [
            "Batch sizes for English and German are torch.Size([26, 128]) and torch.Size([24, 128]) respectively.\n",
            "Batch sizes for English and German are torch.Size([27, 128]) and torch.Size([31, 128]) respectively.\n"
          ]
        },
        {
          "metadata": {
            "tags": null
          },
          "name": "stderr",
          "output_type": "stream",
          "text": [
            "Model training in progress...:  22%|██▏       | 49/227 [00:07<00:27,  6.52it/s]"
          ]
        },
        {
          "metadata": {
            "tags": null
          },
          "name": "stdout",
          "output_type": "stream",
          "text": [
            "Batch sizes for English and German are torch.Size([30, 128]) and torch.Size([30, 128]) respectively.\n",
            "Batch sizes for English and German are torch.Size([32, 128]) and torch.Size([32, 128]) respectively.\n"
          ]
        },
        {
          "metadata": {
            "tags": null
          },
          "name": "stderr",
          "output_type": "stream",
          "text": [
            "Model training in progress...:  22%|██▏       | 51/227 [00:08<00:28,  6.26it/s]"
          ]
        },
        {
          "metadata": {
            "tags": null
          },
          "name": "stdout",
          "output_type": "stream",
          "text": [
            "Batch sizes for English and German are torch.Size([31, 128]) and torch.Size([29, 128]) respectively.\n",
            "Batch sizes for English and German are torch.Size([33, 128]) and torch.Size([32, 128]) respectively.\n"
          ]
        },
        {
          "metadata": {
            "tags": null
          },
          "name": "stderr",
          "output_type": "stream",
          "text": [
            "Model training in progress...:  23%|██▎       | 53/227 [00:08<00:29,  5.80it/s]"
          ]
        },
        {
          "metadata": {
            "tags": null
          },
          "name": "stdout",
          "output_type": "stream",
          "text": [
            "Batch sizes for English and German are torch.Size([36, 128]) and torch.Size([37, 128]) respectively.\n",
            "Batch sizes for English and German are torch.Size([32, 128]) and torch.Size([37, 128]) respectively.\n"
          ]
        },
        {
          "metadata": {
            "tags": null
          },
          "name": "stderr",
          "output_type": "stream",
          "text": [
            "Model training in progress...:  24%|██▍       | 55/227 [00:08<00:28,  6.02it/s]"
          ]
        },
        {
          "metadata": {
            "tags": null
          },
          "name": "stdout",
          "output_type": "stream",
          "text": [
            "Batch sizes for English and German are torch.Size([29, 128]) and torch.Size([28, 128]) respectively.\n",
            "Batch sizes for English and German are torch.Size([26, 128]) and torch.Size([25, 128]) respectively.\n"
          ]
        },
        {
          "metadata": {
            "tags": null
          },
          "name": "stderr",
          "output_type": "stream",
          "text": [
            "Model training in progress...:  25%|██▌       | 57/227 [00:09<00:26,  6.46it/s]"
          ]
        },
        {
          "metadata": {
            "tags": null
          },
          "name": "stdout",
          "output_type": "stream",
          "text": [
            "Batch sizes for English and German are torch.Size([27, 128]) and torch.Size([29, 128]) respectively.\n",
            "Batch sizes for English and German are torch.Size([28, 128]) and torch.Size([26, 128]) respectively.\n"
          ]
        },
        {
          "metadata": {
            "tags": null
          },
          "name": "stderr",
          "output_type": "stream",
          "text": [
            "Model training in progress...:  26%|██▌       | 59/227 [00:09<00:25,  6.55it/s]"
          ]
        },
        {
          "metadata": {
            "tags": null
          },
          "name": "stdout",
          "output_type": "stream",
          "text": [
            "Batch sizes for English and German are torch.Size([28, 128]) and torch.Size([29, 128]) respectively.\n",
            "Batch sizes for English and German are torch.Size([29, 128]) and torch.Size([25, 128]) respectively.\n"
          ]
        },
        {
          "metadata": {
            "tags": null
          },
          "name": "stderr",
          "output_type": "stream",
          "text": [
            "Model training in progress...:  27%|██▋       | 61/227 [00:09<00:25,  6.44it/s]"
          ]
        },
        {
          "metadata": {
            "tags": null
          },
          "name": "stdout",
          "output_type": "stream",
          "text": [
            "Batch sizes for English and German are torch.Size([30, 128]) and torch.Size([25, 128]) respectively.\n",
            "Batch sizes for English and German are torch.Size([31, 128]) and torch.Size([30, 128]) respectively.\n"
          ]
        },
        {
          "metadata": {
            "tags": null
          },
          "name": "stderr",
          "output_type": "stream",
          "text": [
            "Model training in progress...:  28%|██▊       | 63/227 [00:10<00:26,  6.30it/s]"
          ]
        },
        {
          "metadata": {
            "tags": null
          },
          "name": "stdout",
          "output_type": "stream",
          "text": [
            "Batch sizes for English and German are torch.Size([29, 128]) and torch.Size([33, 128]) respectively.\n",
            "Batch sizes for English and German are torch.Size([27, 128]) and torch.Size([27, 128]) respectively.\n"
          ]
        },
        {
          "metadata": {
            "tags": null
          },
          "name": "stderr",
          "output_type": "stream",
          "text": [
            "Model training in progress...:  29%|██▊       | 65/227 [00:10<00:24,  6.69it/s]"
          ]
        },
        {
          "metadata": {
            "tags": null
          },
          "name": "stdout",
          "output_type": "stream",
          "text": [
            "Batch sizes for English and German are torch.Size([25, 128]) and torch.Size([25, 128]) respectively.\n",
            "Batch sizes for English and German are torch.Size([38, 128]) and torch.Size([28, 128]) respectively.\n"
          ]
        },
        {
          "metadata": {
            "tags": null
          },
          "name": "stderr",
          "output_type": "stream",
          "text": [
            "Model training in progress...:  30%|██▉       | 67/227 [00:10<00:26,  6.03it/s]"
          ]
        },
        {
          "metadata": {
            "tags": null
          },
          "name": "stdout",
          "output_type": "stream",
          "text": [
            "Batch sizes for English and German are torch.Size([30, 128]) and torch.Size([29, 128]) respectively.\n",
            "Batch sizes for English and German are torch.Size([31, 128]) and torch.Size([33, 128]) respectively.\n"
          ]
        },
        {
          "metadata": {
            "tags": null
          },
          "name": "stderr",
          "output_type": "stream",
          "text": [
            "Model training in progress...:  30%|███       | 69/227 [00:11<00:26,  5.90it/s]"
          ]
        },
        {
          "metadata": {
            "tags": null
          },
          "name": "stdout",
          "output_type": "stream",
          "text": [
            "Batch sizes for English and German are torch.Size([32, 128]) and torch.Size([28, 128]) respectively.\n",
            "Batch sizes for English and German are torch.Size([27, 128]) and torch.Size([33, 128]) respectively.\n"
          ]
        },
        {
          "metadata": {
            "tags": null
          },
          "name": "stderr",
          "output_type": "stream",
          "text": [
            "Model training in progress...:  31%|███▏      | 71/227 [00:11<00:25,  6.04it/s]"
          ]
        },
        {
          "metadata": {
            "tags": null
          },
          "name": "stdout",
          "output_type": "stream",
          "text": [
            "Batch sizes for English and German are torch.Size([32, 128]) and torch.Size([24, 128]) respectively.\n",
            "Batch sizes for English and German are torch.Size([32, 128]) and torch.Size([31, 128]) respectively.\n"
          ]
        },
        {
          "metadata": {
            "tags": null
          },
          "name": "stderr",
          "output_type": "stream",
          "text": [
            "Model training in progress...:  32%|███▏      | 73/227 [00:11<00:27,  5.70it/s]"
          ]
        },
        {
          "metadata": {
            "tags": null
          },
          "name": "stdout",
          "output_type": "stream",
          "text": [
            "Batch sizes for English and German are torch.Size([35, 128]) and torch.Size([33, 128]) respectively.\n",
            "Batch sizes for English and German are torch.Size([27, 128]) and torch.Size([26, 128]) respectively.\n"
          ]
        },
        {
          "metadata": {
            "tags": null
          },
          "name": "stderr",
          "output_type": "stream",
          "text": [
            "Model training in progress...:  33%|███▎      | 75/227 [00:12<00:24,  6.33it/s]"
          ]
        },
        {
          "metadata": {
            "tags": null
          },
          "name": "stdout",
          "output_type": "stream",
          "text": [
            "Batch sizes for English and German are torch.Size([26, 128]) and torch.Size([26, 128]) respectively.\n",
            "Batch sizes for English and German are torch.Size([37, 128]) and torch.Size([38, 128]) respectively.\n"
          ]
        },
        {
          "metadata": {
            "tags": null
          },
          "name": "stderr",
          "output_type": "stream",
          "text": [
            "Model training in progress...:  34%|███▍      | 77/227 [00:12<00:25,  5.87it/s]"
          ]
        },
        {
          "metadata": {
            "tags": null
          },
          "name": "stdout",
          "output_type": "stream",
          "text": [
            "Batch sizes for English and German are torch.Size([31, 128]) and torch.Size([29, 128]) respectively.\n",
            "Batch sizes for English and German are torch.Size([30, 128]) and torch.Size([31, 128]) respectively.\n"
          ]
        },
        {
          "metadata": {
            "tags": null
          },
          "name": "stderr",
          "output_type": "stream",
          "text": [
            "Model training in progress...:  35%|███▍      | 79/227 [00:12<00:24,  6.15it/s]"
          ]
        },
        {
          "metadata": {
            "tags": null
          },
          "name": "stdout",
          "output_type": "stream",
          "text": [
            "Batch sizes for English and German are torch.Size([29, 128]) and torch.Size([31, 128]) respectively.\n",
            "Batch sizes for English and German are torch.Size([28, 128]) and torch.Size([28, 128]) respectively.\n"
          ]
        },
        {
          "metadata": {
            "tags": null
          },
          "name": "stderr",
          "output_type": "stream",
          "text": [
            "Model training in progress...:  36%|███▌      | 81/227 [00:13<00:25,  5.82it/s]"
          ]
        },
        {
          "metadata": {
            "tags": null
          },
          "name": "stdout",
          "output_type": "stream",
          "text": [
            "Batch sizes for English and German are torch.Size([37, 128]) and torch.Size([35, 128]) respectively.\n",
            "Batch sizes for English and German are torch.Size([38, 128]) and torch.Size([36, 128]) respectively.\n"
          ]
        },
        {
          "metadata": {
            "tags": null
          },
          "name": "stderr",
          "output_type": "stream",
          "text": [
            "Model training in progress...:  37%|███▋      | 83/227 [00:13<00:25,  5.59it/s]"
          ]
        },
        {
          "metadata": {
            "tags": null
          },
          "name": "stdout",
          "output_type": "stream",
          "text": [
            "Batch sizes for English and German are torch.Size([31, 128]) and torch.Size([30, 128]) respectively.\n",
            "Batch sizes for English and German are torch.Size([29, 128]) and torch.Size([26, 128]) respectively.\n"
          ]
        },
        {
          "metadata": {
            "tags": null
          },
          "name": "stderr",
          "output_type": "stream",
          "text": [
            "\rModel training in progress...:  37%|███▋      | 84/227 [00:13<00:24,  5.85it/s]"
          ]
        },
        {
          "metadata": {
            "tags": null
          },
          "name": "stdout",
          "output_type": "stream",
          "text": [
            "Batch sizes for English and German are torch.Size([41, 128]) and torch.Size([34, 128]) respectively.\n"
          ]
        },
        {
          "metadata": {
            "tags": null
          },
          "name": "stderr",
          "output_type": "stream",
          "text": [
            "Model training in progress...:  38%|███▊      | 86/227 [00:14<00:24,  5.84it/s]"
          ]
        },
        {
          "metadata": {
            "tags": null
          },
          "name": "stdout",
          "output_type": "stream",
          "text": [
            "Batch sizes for English and German are torch.Size([25, 128]) and torch.Size([29, 128]) respectively.\n",
            "Batch sizes for English and German are torch.Size([31, 128]) and torch.Size([29, 128]) respectively.\n"
          ]
        },
        {
          "metadata": {
            "tags": null
          },
          "name": "stderr",
          "output_type": "stream",
          "text": [
            "Model training in progress...:  39%|███▉      | 88/227 [00:14<00:23,  5.90it/s]"
          ]
        },
        {
          "metadata": {
            "tags": null
          },
          "name": "stdout",
          "output_type": "stream",
          "text": [
            "Batch sizes for English and German are torch.Size([32, 128]) and torch.Size([31, 128]) respectively.\n",
            "Batch sizes for English and German are torch.Size([26, 128]) and torch.Size([25, 128]) respectively.\n"
          ]
        },
        {
          "metadata": {
            "tags": null
          },
          "name": "stderr",
          "output_type": "stream",
          "text": [
            "Model training in progress...:  40%|███▉      | 90/227 [00:14<00:21,  6.28it/s]"
          ]
        },
        {
          "metadata": {
            "tags": null
          },
          "name": "stdout",
          "output_type": "stream",
          "text": [
            "Batch sizes for English and German are torch.Size([30, 128]) and torch.Size([29, 128]) respectively.\n",
            "Batch sizes for English and German are torch.Size([33, 128]) and torch.Size([34, 128]) respectively.\n"
          ]
        },
        {
          "metadata": {
            "tags": null
          },
          "name": "stderr",
          "output_type": "stream",
          "text": [
            "Model training in progress...:  41%|████      | 92/227 [00:15<00:22,  6.11it/s]"
          ]
        },
        {
          "metadata": {
            "tags": null
          },
          "name": "stdout",
          "output_type": "stream",
          "text": [
            "Batch sizes for English and German are torch.Size([30, 128]) and torch.Size([33, 128]) respectively.\n",
            "Batch sizes for English and German are torch.Size([29, 128]) and torch.Size([28, 128]) respectively.\n"
          ]
        },
        {
          "metadata": {
            "tags": null
          },
          "name": "stderr",
          "output_type": "stream",
          "text": [
            "Model training in progress...:  41%|████▏     | 94/227 [00:15<00:21,  6.17it/s]"
          ]
        },
        {
          "metadata": {
            "tags": null
          },
          "name": "stdout",
          "output_type": "stream",
          "text": [
            "Batch sizes for English and German are torch.Size([31, 128]) and torch.Size([28, 128]) respectively.\n",
            "Batch sizes for English and German are torch.Size([36, 128]) and torch.Size([32, 128]) respectively.\n"
          ]
        },
        {
          "metadata": {
            "tags": null
          },
          "name": "stderr",
          "output_type": "stream",
          "text": [
            "Model training in progress...:  42%|████▏     | 96/227 [00:15<00:21,  6.22it/s]"
          ]
        },
        {
          "metadata": {
            "tags": null
          },
          "name": "stdout",
          "output_type": "stream",
          "text": [
            "Batch sizes for English and German are torch.Size([26, 128]) and torch.Size([28, 128]) respectively.\n",
            "Batch sizes for English and German are torch.Size([28, 128]) and torch.Size([33, 128]) respectively.\n"
          ]
        },
        {
          "metadata": {
            "tags": null
          },
          "name": "stderr",
          "output_type": "stream",
          "text": [
            "Model training in progress...:  43%|████▎     | 98/227 [00:15<00:20,  6.30it/s]"
          ]
        },
        {
          "metadata": {
            "tags": null
          },
          "name": "stdout",
          "output_type": "stream",
          "text": [
            "Batch sizes for English and German are torch.Size([30, 128]) and torch.Size([33, 128]) respectively.\n",
            "Batch sizes for English and German are torch.Size([30, 128]) and torch.Size([27, 128]) respectively.\n"
          ]
        },
        {
          "metadata": {
            "tags": null
          },
          "name": "stderr",
          "output_type": "stream",
          "text": [
            "Model training in progress...:  44%|████▍     | 100/227 [00:16<00:21,  5.91it/s]"
          ]
        },
        {
          "metadata": {
            "tags": null
          },
          "name": "stdout",
          "output_type": "stream",
          "text": [
            "Batch sizes for English and German are torch.Size([34, 128]) and torch.Size([33, 128]) respectively.\n",
            "Batch sizes for English and German are torch.Size([25, 128]) and torch.Size([26, 128]) respectively.\n"
          ]
        },
        {
          "metadata": {
            "tags": null
          },
          "name": "stderr",
          "output_type": "stream",
          "text": [
            "Model training in progress...:  45%|████▍     | 102/227 [00:16<00:20,  6.18it/s]"
          ]
        },
        {
          "metadata": {
            "tags": null
          },
          "name": "stdout",
          "output_type": "stream",
          "text": [
            "Batch sizes for English and German are torch.Size([32, 128]) and torch.Size([28, 128]) respectively.\n",
            "Batch sizes for English and German are torch.Size([28, 128]) and torch.Size([28, 128]) respectively.\n"
          ]
        },
        {
          "metadata": {
            "tags": null
          },
          "name": "stderr",
          "output_type": "stream",
          "text": [
            "Model training in progress...:  46%|████▌     | 104/227 [00:16<00:19,  6.37it/s]"
          ]
        },
        {
          "metadata": {
            "tags": null
          },
          "name": "stdout",
          "output_type": "stream",
          "text": [
            "Batch sizes for English and German are torch.Size([29, 128]) and torch.Size([31, 128]) respectively.\n",
            "Batch sizes for English and German are torch.Size([33, 128]) and torch.Size([35, 128]) respectively.\n"
          ]
        },
        {
          "metadata": {
            "tags": null
          },
          "name": "stderr",
          "output_type": "stream",
          "text": [
            "Model training in progress...:  47%|████▋     | 106/227 [00:17<00:19,  6.26it/s]"
          ]
        },
        {
          "metadata": {
            "tags": null
          },
          "name": "stdout",
          "output_type": "stream",
          "text": [
            "Batch sizes for English and German are torch.Size([28, 128]) and torch.Size([26, 128]) respectively.\n",
            "Batch sizes for English and German are torch.Size([42, 128]) and torch.Size([41, 128]) respectively.\n"
          ]
        },
        {
          "metadata": {
            "tags": null
          },
          "name": "stderr",
          "output_type": "stream",
          "text": [
            "Model training in progress...:  48%|████▊     | 108/227 [00:17<00:21,  5.63it/s]"
          ]
        },
        {
          "metadata": {
            "tags": null
          },
          "name": "stdout",
          "output_type": "stream",
          "text": [
            "Batch sizes for English and German are torch.Size([32, 128]) and torch.Size([29, 128]) respectively.\n",
            "Batch sizes for English and German are torch.Size([26, 128]) and torch.Size([28, 128]) respectively.\n"
          ]
        },
        {
          "metadata": {
            "tags": null
          },
          "name": "stderr",
          "output_type": "stream",
          "text": [
            "Model training in progress...:  48%|████▊     | 110/227 [00:17<00:19,  5.97it/s]"
          ]
        },
        {
          "metadata": {
            "tags": null
          },
          "name": "stdout",
          "output_type": "stream",
          "text": [
            "Batch sizes for English and German are torch.Size([32, 128]) and torch.Size([32, 128]) respectively.\n",
            "Batch sizes for English and German are torch.Size([24, 128]) and torch.Size([22, 128]) respectively.\n"
          ]
        },
        {
          "metadata": {
            "tags": null
          },
          "name": "stderr",
          "output_type": "stream",
          "text": [
            "Model training in progress...:  49%|████▉     | 112/227 [00:18<00:18,  6.30it/s]"
          ]
        },
        {
          "metadata": {
            "tags": null
          },
          "name": "stdout",
          "output_type": "stream",
          "text": [
            "Batch sizes for English and German are torch.Size([31, 128]) and torch.Size([32, 128]) respectively.\n",
            "Batch sizes for English and German are torch.Size([29, 128]) and torch.Size([31, 128]) respectively.\n"
          ]
        },
        {
          "metadata": {
            "tags": null
          },
          "name": "stderr",
          "output_type": "stream",
          "text": [
            "Model training in progress...:  50%|█████     | 114/227 [00:18<00:17,  6.60it/s]"
          ]
        },
        {
          "metadata": {
            "tags": null
          },
          "name": "stdout",
          "output_type": "stream",
          "text": [
            "Batch sizes for English and German are torch.Size([26, 128]) and torch.Size([24, 128]) respectively.\n",
            "Batch sizes for English and German are torch.Size([30, 128]) and torch.Size([35, 128]) respectively.\n"
          ]
        },
        {
          "metadata": {
            "tags": null
          },
          "name": "stderr",
          "output_type": "stream",
          "text": [
            "Model training in progress...:  51%|█████     | 116/227 [00:18<00:16,  6.54it/s]"
          ]
        },
        {
          "metadata": {
            "tags": null
          },
          "name": "stdout",
          "output_type": "stream",
          "text": [
            "Batch sizes for English and German are torch.Size([28, 128]) and torch.Size([30, 128]) respectively.\n",
            "Batch sizes for English and German are torch.Size([37, 128]) and torch.Size([34, 128]) respectively.\n"
          ]
        },
        {
          "metadata": {
            "tags": null
          },
          "name": "stderr",
          "output_type": "stream",
          "text": [
            "Model training in progress...:  52%|█████▏    | 118/227 [00:19<00:17,  6.16it/s]"
          ]
        },
        {
          "metadata": {
            "tags": null
          },
          "name": "stdout",
          "output_type": "stream",
          "text": [
            "Batch sizes for English and German are torch.Size([28, 128]) and torch.Size([37, 128]) respectively.\n",
            "Batch sizes for English and German are torch.Size([35, 128]) and torch.Size([37, 128]) respectively.\n"
          ]
        },
        {
          "metadata": {
            "tags": null
          },
          "name": "stderr",
          "output_type": "stream",
          "text": [
            "Model training in progress...:  53%|█████▎    | 120/227 [00:19<00:18,  5.67it/s]"
          ]
        },
        {
          "metadata": {
            "tags": null
          },
          "name": "stdout",
          "output_type": "stream",
          "text": [
            "Batch sizes for English and German are torch.Size([34, 128]) and torch.Size([31, 128]) respectively.\n",
            "Batch sizes for English and German are torch.Size([28, 128]) and torch.Size([30, 128]) respectively.\n"
          ]
        },
        {
          "metadata": {
            "tags": null
          },
          "name": "stderr",
          "output_type": "stream",
          "text": [
            "Model training in progress...:  54%|█████▎    | 122/227 [00:19<00:16,  6.19it/s]"
          ]
        },
        {
          "metadata": {
            "tags": null
          },
          "name": "stdout",
          "output_type": "stream",
          "text": [
            "Batch sizes for English and German are torch.Size([27, 128]) and torch.Size([28, 128]) respectively.\n",
            "Batch sizes for English and German are torch.Size([37, 128]) and torch.Size([29, 128]) respectively.\n"
          ]
        },
        {
          "metadata": {
            "tags": null
          },
          "name": "stderr",
          "output_type": "stream",
          "text": [
            "Model training in progress...:  55%|█████▍    | 124/227 [00:20<00:18,  5.68it/s]"
          ]
        },
        {
          "metadata": {
            "tags": null
          },
          "name": "stdout",
          "output_type": "stream",
          "text": [
            "Batch sizes for English and German are torch.Size([33, 128]) and torch.Size([34, 128]) respectively.\n",
            "Batch sizes for English and German are torch.Size([33, 128]) and torch.Size([30, 128]) respectively.\n"
          ]
        },
        {
          "metadata": {
            "tags": null
          },
          "name": "stderr",
          "output_type": "stream",
          "text": [
            "Model training in progress...:  56%|█████▌    | 126/227 [00:20<00:17,  5.74it/s]"
          ]
        },
        {
          "metadata": {
            "tags": null
          },
          "name": "stdout",
          "output_type": "stream",
          "text": [
            "Batch sizes for English and German are torch.Size([31, 128]) and torch.Size([27, 128]) respectively.\n",
            "Batch sizes for English and German are torch.Size([25, 128]) and torch.Size([25, 128]) respectively.\n"
          ]
        },
        {
          "metadata": {
            "tags": null
          },
          "name": "stderr",
          "output_type": "stream",
          "text": [
            "\rModel training in progress...:  56%|█████▌    | 127/227 [00:20<00:16,  6.18it/s]"
          ]
        },
        {
          "metadata": {
            "tags": null
          },
          "name": "stdout",
          "output_type": "stream",
          "text": [
            "Batch sizes for English and German are torch.Size([41, 128]) and torch.Size([45, 128]) respectively.\n"
          ]
        },
        {
          "metadata": {
            "tags": null
          },
          "name": "stderr",
          "output_type": "stream",
          "text": [
            "Model training in progress...:  57%|█████▋    | 129/227 [00:21<00:16,  5.79it/s]"
          ]
        },
        {
          "metadata": {
            "tags": null
          },
          "name": "stdout",
          "output_type": "stream",
          "text": [
            "Batch sizes for English and German are torch.Size([28, 128]) and torch.Size([36, 128]) respectively.\n",
            "Batch sizes for English and German are torch.Size([28, 128]) and torch.Size([25, 128]) respectively.\n"
          ]
        },
        {
          "metadata": {
            "tags": null
          },
          "name": "stderr",
          "output_type": "stream",
          "text": [
            "Model training in progress...:  58%|█████▊    | 131/227 [00:21<00:15,  6.33it/s]"
          ]
        },
        {
          "metadata": {
            "tags": null
          },
          "name": "stdout",
          "output_type": "stream",
          "text": [
            "Batch sizes for English and German are torch.Size([26, 128]) and torch.Size([25, 128]) respectively.\n",
            "Batch sizes for English and German are torch.Size([40, 128]) and torch.Size([38, 128]) respectively.\n"
          ]
        },
        {
          "metadata": {
            "tags": null
          },
          "name": "stderr",
          "output_type": "stream",
          "text": [
            "Model training in progress...:  59%|█████▊    | 133/227 [00:21<00:16,  5.77it/s]"
          ]
        },
        {
          "metadata": {
            "tags": null
          },
          "name": "stdout",
          "output_type": "stream",
          "text": [
            "Batch sizes for English and German are torch.Size([32, 128]) and torch.Size([26, 128]) respectively.\n",
            "Batch sizes for English and German are torch.Size([32, 128]) and torch.Size([34, 128]) respectively.\n"
          ]
        },
        {
          "metadata": {
            "tags": null
          },
          "name": "stderr",
          "output_type": "stream",
          "text": [
            "Model training in progress...:  59%|█████▉    | 135/227 [00:22<00:17,  5.41it/s]"
          ]
        },
        {
          "metadata": {
            "tags": null
          },
          "name": "stdout",
          "output_type": "stream",
          "text": [
            "Batch sizes for English and German are torch.Size([38, 128]) and torch.Size([29, 128]) respectively.\n"
          ]
        },
        {
          "metadata": {
            "tags": null
          },
          "name": "stderr",
          "output_type": "stream",
          "text": [
            "\rModel training in progress...:  60%|█████▉    | 136/227 [00:22<00:16,  5.61it/s]"
          ]
        },
        {
          "metadata": {
            "tags": null
          },
          "name": "stdout",
          "output_type": "stream",
          "text": [
            "Batch sizes for English and German are torch.Size([30, 128]) and torch.Size([27, 128]) respectively.\n",
            "Batch sizes for English and German are torch.Size([32, 128]) and torch.Size([30, 128]) respectively.\n"
          ]
        },
        {
          "metadata": {
            "tags": null
          },
          "name": "stderr",
          "output_type": "stream",
          "text": [
            "Model training in progress...:  61%|██████    | 138/227 [00:22<00:15,  5.78it/s]"
          ]
        },
        {
          "metadata": {
            "tags": null
          },
          "name": "stdout",
          "output_type": "stream",
          "text": [
            "Batch sizes for English and German are torch.Size([29, 128]) and torch.Size([32, 128]) respectively.\n",
            "Batch sizes for English and German are torch.Size([31, 128]) and torch.Size([36, 128]) respectively.\n"
          ]
        },
        {
          "metadata": {
            "tags": null
          },
          "name": "stderr",
          "output_type": "stream",
          "text": [
            "Model training in progress...:  62%|██████▏   | 140/227 [00:23<00:15,  5.75it/s]"
          ]
        },
        {
          "metadata": {
            "tags": null
          },
          "name": "stdout",
          "output_type": "stream",
          "text": [
            "Batch sizes for English and German are torch.Size([31, 128]) and torch.Size([30, 128]) respectively.\n",
            "Batch sizes for English and German are torch.Size([31, 128]) and torch.Size([24, 128]) respectively.\n"
          ]
        },
        {
          "metadata": {
            "tags": null
          },
          "name": "stderr",
          "output_type": "stream",
          "text": [
            "Model training in progress...:  63%|██████▎   | 142/227 [00:23<00:14,  6.05it/s]"
          ]
        },
        {
          "metadata": {
            "tags": null
          },
          "name": "stdout",
          "output_type": "stream",
          "text": [
            "Batch sizes for English and German are torch.Size([27, 128]) and torch.Size([27, 128]) respectively.\n",
            "Batch sizes for English and German are torch.Size([30, 128]) and torch.Size([28, 128]) respectively.\n"
          ]
        },
        {
          "metadata": {
            "tags": null
          },
          "name": "stderr",
          "output_type": "stream",
          "text": [
            "Model training in progress...:  63%|██████▎   | 144/227 [00:23<00:13,  6.17it/s]"
          ]
        },
        {
          "metadata": {
            "tags": null
          },
          "name": "stdout",
          "output_type": "stream",
          "text": [
            "Batch sizes for English and German are torch.Size([26, 128]) and torch.Size([27, 128]) respectively.\n",
            "Batch sizes for English and German are torch.Size([26, 128]) and torch.Size([27, 128]) respectively.\n"
          ]
        },
        {
          "metadata": {
            "tags": null
          },
          "name": "stderr",
          "output_type": "stream",
          "text": [
            "Model training in progress...:  64%|██████▍   | 146/227 [00:23<00:12,  6.59it/s]"
          ]
        },
        {
          "metadata": {
            "tags": null
          },
          "name": "stdout",
          "output_type": "stream",
          "text": [
            "Batch sizes for English and German are torch.Size([25, 128]) and torch.Size([27, 128]) respectively.\n",
            "Batch sizes for English and German are torch.Size([27, 128]) and torch.Size([26, 128]) respectively.\n"
          ]
        },
        {
          "metadata": {
            "tags": null
          },
          "name": "stderr",
          "output_type": "stream",
          "text": [
            "Model training in progress...:  65%|██████▌   | 148/227 [00:24<00:11,  6.70it/s]"
          ]
        },
        {
          "metadata": {
            "tags": null
          },
          "name": "stdout",
          "output_type": "stream",
          "text": [
            "Batch sizes for English and German are torch.Size([27, 128]) and torch.Size([30, 128]) respectively.\n",
            "Batch sizes for English and German are torch.Size([31, 128]) and torch.Size([29, 128]) respectively.\n"
          ]
        },
        {
          "metadata": {
            "tags": null
          },
          "name": "stderr",
          "output_type": "stream",
          "text": [
            "Model training in progress...:  66%|██████▌   | 150/227 [00:24<00:11,  6.63it/s]"
          ]
        },
        {
          "metadata": {
            "tags": null
          },
          "name": "stdout",
          "output_type": "stream",
          "text": [
            "Batch sizes for English and German are torch.Size([27, 128]) and torch.Size([27, 128]) respectively.\n",
            "Batch sizes for English and German are torch.Size([26, 128]) and torch.Size([30, 128]) respectively.\n"
          ]
        },
        {
          "metadata": {
            "tags": null
          },
          "name": "stderr",
          "output_type": "stream",
          "text": [
            "Model training in progress...:  67%|██████▋   | 152/227 [00:24<00:12,  6.19it/s]"
          ]
        },
        {
          "metadata": {
            "tags": null
          },
          "name": "stdout",
          "output_type": "stream",
          "text": [
            "Batch sizes for English and German are torch.Size([37, 128]) and torch.Size([30, 128]) respectively.\n",
            "Batch sizes for English and German are torch.Size([40, 128]) and torch.Size([34, 128]) respectively.\n"
          ]
        },
        {
          "metadata": {
            "tags": null
          },
          "name": "stderr",
          "output_type": "stream",
          "text": [
            "Model training in progress...:  68%|██████▊   | 154/227 [00:25<00:12,  6.02it/s]"
          ]
        },
        {
          "metadata": {
            "tags": null
          },
          "name": "stdout",
          "output_type": "stream",
          "text": [
            "Batch sizes for English and German are torch.Size([26, 128]) and torch.Size([27, 128]) respectively.\n",
            "Batch sizes for English and German are torch.Size([34, 128]) and torch.Size([29, 128]) respectively.\n"
          ]
        },
        {
          "metadata": {
            "tags": null
          },
          "name": "stderr",
          "output_type": "stream",
          "text": [
            "Model training in progress...:  69%|██████▊   | 156/227 [00:25<00:11,  6.20it/s]"
          ]
        },
        {
          "metadata": {
            "tags": null
          },
          "name": "stdout",
          "output_type": "stream",
          "text": [
            "Batch sizes for English and German are torch.Size([26, 128]) and torch.Size([27, 128]) respectively.\n",
            "Batch sizes for English and German are torch.Size([28, 128]) and torch.Size([25, 128]) respectively.\n"
          ]
        },
        {
          "metadata": {
            "tags": null
          },
          "name": "stderr",
          "output_type": "stream",
          "text": [
            "Model training in progress...:  70%|██████▉   | 158/227 [00:25<00:10,  6.47it/s]"
          ]
        },
        {
          "metadata": {
            "tags": null
          },
          "name": "stdout",
          "output_type": "stream",
          "text": [
            "Batch sizes for English and German are torch.Size([27, 128]) and torch.Size([34, 128]) respectively.\n",
            "Batch sizes for English and German are torch.Size([28, 128]) and torch.Size([30, 128]) respectively.\n"
          ]
        },
        {
          "metadata": {
            "tags": null
          },
          "name": "stderr",
          "output_type": "stream",
          "text": [
            "Model training in progress...:  70%|███████   | 160/227 [00:26<00:10,  6.66it/s]"
          ]
        },
        {
          "metadata": {
            "tags": null
          },
          "name": "stdout",
          "output_type": "stream",
          "text": [
            "Batch sizes for English and German are torch.Size([26, 128]) and torch.Size([25, 128]) respectively.\n",
            "Batch sizes for English and German are torch.Size([33, 128]) and torch.Size([32, 128]) respectively.\n"
          ]
        },
        {
          "metadata": {
            "tags": null
          },
          "name": "stderr",
          "output_type": "stream",
          "text": [
            "Model training in progress...:  71%|███████▏  | 162/227 [00:26<00:10,  6.40it/s]"
          ]
        },
        {
          "metadata": {
            "tags": null
          },
          "name": "stdout",
          "output_type": "stream",
          "text": [
            "Batch sizes for English and German are torch.Size([28, 128]) and torch.Size([27, 128]) respectively.\n",
            "Batch sizes for English and German are torch.Size([40, 128]) and torch.Size([38, 128]) respectively.\n"
          ]
        },
        {
          "metadata": {
            "tags": null
          },
          "name": "stderr",
          "output_type": "stream",
          "text": [
            "Model training in progress...:  72%|███████▏  | 164/227 [00:26<00:10,  6.14it/s]"
          ]
        },
        {
          "metadata": {
            "tags": null
          },
          "name": "stdout",
          "output_type": "stream",
          "text": [
            "Batch sizes for English and German are torch.Size([25, 128]) and torch.Size([27, 128]) respectively.\n",
            "Batch sizes for English and German are torch.Size([27, 128]) and torch.Size([24, 128]) respectively.\n"
          ]
        },
        {
          "metadata": {
            "tags": null
          },
          "name": "stderr",
          "output_type": "stream",
          "text": [
            "Model training in progress...:  73%|███████▎  | 166/227 [00:27<00:09,  6.29it/s]"
          ]
        },
        {
          "metadata": {
            "tags": null
          },
          "name": "stdout",
          "output_type": "stream",
          "text": [
            "Batch sizes for English and German are torch.Size([31, 128]) and torch.Size([30, 128]) respectively.\n",
            "Batch sizes for English and German are torch.Size([43, 128]) and torch.Size([36, 128]) respectively.\n"
          ]
        },
        {
          "metadata": {
            "tags": null
          },
          "name": "stderr",
          "output_type": "stream",
          "text": [
            "Model training in progress...:  74%|███████▍  | 168/227 [00:27<00:09,  6.03it/s]"
          ]
        },
        {
          "metadata": {
            "tags": null
          },
          "name": "stdout",
          "output_type": "stream",
          "text": [
            "Batch sizes for English and German are torch.Size([25, 128]) and torch.Size([24, 128]) respectively.\n",
            "Batch sizes for English and German are torch.Size([32, 128]) and torch.Size([26, 128]) respectively.\n"
          ]
        },
        {
          "metadata": {
            "tags": null
          },
          "name": "stderr",
          "output_type": "stream",
          "text": [
            "Model training in progress...:  75%|███████▍  | 170/227 [00:27<00:09,  6.27it/s]"
          ]
        },
        {
          "metadata": {
            "tags": null
          },
          "name": "stdout",
          "output_type": "stream",
          "text": [
            "Batch sizes for English and German are torch.Size([27, 128]) and torch.Size([24, 128]) respectively.\n",
            "Batch sizes for English and German are torch.Size([34, 128]) and torch.Size([29, 128]) respectively.\n"
          ]
        },
        {
          "metadata": {
            "tags": null
          },
          "name": "stderr",
          "output_type": "stream",
          "text": [
            "Model training in progress...:  76%|███████▌  | 172/227 [00:28<00:08,  6.20it/s]"
          ]
        },
        {
          "metadata": {
            "tags": null
          },
          "name": "stdout",
          "output_type": "stream",
          "text": [
            "Batch sizes for English and German are torch.Size([28, 128]) and torch.Size([26, 128]) respectively.\n",
            "Batch sizes for English and German are torch.Size([30, 128]) and torch.Size([31, 128]) respectively.\n"
          ]
        },
        {
          "metadata": {
            "tags": null
          },
          "name": "stderr",
          "output_type": "stream",
          "text": [
            "Model training in progress...:  77%|███████▋  | 174/227 [00:28<00:08,  6.23it/s]"
          ]
        },
        {
          "metadata": {
            "tags": null
          },
          "name": "stdout",
          "output_type": "stream",
          "text": [
            "Batch sizes for English and German are torch.Size([30, 128]) and torch.Size([27, 128]) respectively.\n",
            "Batch sizes for English and German are torch.Size([32, 128]) and torch.Size([32, 128]) respectively.\n"
          ]
        },
        {
          "metadata": {
            "tags": null
          },
          "name": "stderr",
          "output_type": "stream",
          "text": [
            "Model training in progress...:  78%|███████▊  | 176/227 [00:28<00:08,  6.16it/s]"
          ]
        },
        {
          "metadata": {
            "tags": null
          },
          "name": "stdout",
          "output_type": "stream",
          "text": [
            "Batch sizes for English and German are torch.Size([30, 128]) and torch.Size([30, 128]) respectively.\n",
            "Batch sizes for English and German are torch.Size([28, 128]) and torch.Size([27, 128]) respectively.\n"
          ]
        },
        {
          "metadata": {
            "tags": null
          },
          "name": "stderr",
          "output_type": "stream",
          "text": [
            "Model training in progress...:  78%|███████▊  | 178/227 [00:29<00:07,  6.44it/s]"
          ]
        },
        {
          "metadata": {
            "tags": null
          },
          "name": "stdout",
          "output_type": "stream",
          "text": [
            "Batch sizes for English and German are torch.Size([27, 128]) and torch.Size([33, 128]) respectively.\n",
            "Batch sizes for English and German are torch.Size([31, 128]) and torch.Size([28, 128]) respectively.\n"
          ]
        },
        {
          "metadata": {
            "tags": null
          },
          "name": "stderr",
          "output_type": "stream",
          "text": [
            "Model training in progress...:  79%|███████▉  | 180/227 [00:29<00:07,  6.44it/s]"
          ]
        },
        {
          "metadata": {
            "tags": null
          },
          "name": "stdout",
          "output_type": "stream",
          "text": [
            "Batch sizes for English and German are torch.Size([28, 128]) and torch.Size([28, 128]) respectively.\n",
            "Batch sizes for English and German are torch.Size([32, 128]) and torch.Size([28, 128]) respectively.\n"
          ]
        },
        {
          "metadata": {
            "tags": null
          },
          "name": "stderr",
          "output_type": "stream",
          "text": [
            "Model training in progress...:  80%|████████  | 182/227 [00:29<00:07,  6.43it/s]"
          ]
        },
        {
          "metadata": {
            "tags": null
          },
          "name": "stdout",
          "output_type": "stream",
          "text": [
            "Batch sizes for English and German are torch.Size([28, 128]) and torch.Size([25, 128]) respectively.\n",
            "Batch sizes for English and German are torch.Size([30, 128]) and torch.Size([31, 128]) respectively.\n"
          ]
        },
        {
          "metadata": {
            "tags": null
          },
          "name": "stderr",
          "output_type": "stream",
          "text": [
            "Model training in progress...:  81%|████████  | 184/227 [00:30<00:06,  6.45it/s]"
          ]
        },
        {
          "metadata": {
            "tags": null
          },
          "name": "stdout",
          "output_type": "stream",
          "text": [
            "Batch sizes for English and German are torch.Size([28, 128]) and torch.Size([28, 128]) respectively.\n",
            "Batch sizes for English and German are torch.Size([37, 128]) and torch.Size([46, 128]) respectively.\n"
          ]
        },
        {
          "metadata": {
            "tags": null
          },
          "name": "stderr",
          "output_type": "stream",
          "text": [
            "Model training in progress...:  82%|████████▏ | 186/227 [00:30<00:06,  6.21it/s]"
          ]
        },
        {
          "metadata": {
            "tags": null
          },
          "name": "stdout",
          "output_type": "stream",
          "text": [
            "Batch sizes for English and German are torch.Size([26, 128]) and torch.Size([28, 128]) respectively.\n",
            "Batch sizes for English and German are torch.Size([32, 128]) and torch.Size([32, 128]) respectively.\n"
          ]
        },
        {
          "metadata": {
            "tags": null
          },
          "name": "stderr",
          "output_type": "stream",
          "text": [
            "Model training in progress...:  83%|████████▎ | 188/227 [00:30<00:06,  6.34it/s]"
          ]
        },
        {
          "metadata": {
            "tags": null
          },
          "name": "stdout",
          "output_type": "stream",
          "text": [
            "Batch sizes for English and German are torch.Size([27, 128]) and torch.Size([26, 128]) respectively.\n",
            "Batch sizes for English and German are torch.Size([25, 128]) and torch.Size([25, 128]) respectively.\n"
          ]
        },
        {
          "metadata": {
            "tags": null
          },
          "name": "stderr",
          "output_type": "stream",
          "text": [
            "Model training in progress...:  84%|████████▎ | 190/227 [00:30<00:05,  6.69it/s]"
          ]
        },
        {
          "metadata": {
            "tags": null
          },
          "name": "stdout",
          "output_type": "stream",
          "text": [
            "Batch sizes for English and German are torch.Size([27, 128]) and torch.Size([28, 128]) respectively.\n",
            "Batch sizes for English and German are torch.Size([34, 128]) and torch.Size([32, 128]) respectively.\n"
          ]
        },
        {
          "metadata": {
            "tags": null
          },
          "name": "stderr",
          "output_type": "stream",
          "text": [
            "Model training in progress...:  85%|████████▍ | 192/227 [00:31<00:05,  6.37it/s]"
          ]
        },
        {
          "metadata": {
            "tags": null
          },
          "name": "stdout",
          "output_type": "stream",
          "text": [
            "Batch sizes for English and German are torch.Size([28, 128]) and torch.Size([24, 128]) respectively.\n",
            "Batch sizes for English and German are torch.Size([26, 128]) and torch.Size([29, 128]) respectively.\n"
          ]
        },
        {
          "metadata": {
            "tags": null
          },
          "name": "stderr",
          "output_type": "stream",
          "text": [
            "Model training in progress...:  85%|████████▌ | 194/227 [00:31<00:05,  6.24it/s]"
          ]
        },
        {
          "metadata": {
            "tags": null
          },
          "name": "stdout",
          "output_type": "stream",
          "text": [
            "Batch sizes for English and German are torch.Size([33, 128]) and torch.Size([28, 128]) respectively.\n",
            "Batch sizes for English and German are torch.Size([34, 128]) and torch.Size([32, 128]) respectively.\n"
          ]
        },
        {
          "metadata": {
            "tags": null
          },
          "name": "stderr",
          "output_type": "stream",
          "text": [
            "\rModel training in progress...:  86%|████████▌ | 195/227 [00:31<00:05,  5.99it/s]"
          ]
        },
        {
          "metadata": {
            "tags": null
          },
          "name": "stdout",
          "output_type": "stream",
          "text": [
            "Batch sizes for English and German are torch.Size([42, 128]) and torch.Size([45, 128]) respectively.\n"
          ]
        },
        {
          "metadata": {
            "tags": null
          },
          "name": "stderr",
          "output_type": "stream",
          "text": [
            "Model training in progress...:  87%|████████▋ | 197/227 [00:32<00:05,  5.71it/s]"
          ]
        },
        {
          "metadata": {
            "tags": null
          },
          "name": "stdout",
          "output_type": "stream",
          "text": [
            "Batch sizes for English and German are torch.Size([28, 128]) and torch.Size([32, 128]) respectively.\n",
            "Batch sizes for English and German are torch.Size([27, 128]) and torch.Size([32, 128]) respectively.\n"
          ]
        },
        {
          "metadata": {
            "tags": null
          },
          "name": "stderr",
          "output_type": "stream",
          "text": [
            "Model training in progress...:  88%|████████▊ | 199/227 [00:32<00:04,  6.19it/s]"
          ]
        },
        {
          "metadata": {
            "tags": null
          },
          "name": "stdout",
          "output_type": "stream",
          "text": [
            "Batch sizes for English and German are torch.Size([28, 128]) and torch.Size([29, 128]) respectively.\n",
            "Batch sizes for English and German are torch.Size([27, 128]) and torch.Size([26, 128]) respectively.\n"
          ]
        },
        {
          "metadata": {
            "tags": null
          },
          "name": "stderr",
          "output_type": "stream",
          "text": [
            "Model training in progress...:  89%|████████▊ | 201/227 [00:32<00:04,  6.46it/s]"
          ]
        },
        {
          "metadata": {
            "tags": null
          },
          "name": "stdout",
          "output_type": "stream",
          "text": [
            "Batch sizes for English and German are torch.Size([28, 128]) and torch.Size([26, 128]) respectively.\n",
            "Batch sizes for English and German are torch.Size([33, 128]) and torch.Size([33, 128]) respectively.\n"
          ]
        },
        {
          "metadata": {
            "tags": null
          },
          "name": "stderr",
          "output_type": "stream",
          "text": [
            "Model training in progress...:  89%|████████▉ | 203/227 [00:33<00:03,  6.06it/s]"
          ]
        },
        {
          "metadata": {
            "tags": null
          },
          "name": "stdout",
          "output_type": "stream",
          "text": [
            "Batch sizes for English and German are torch.Size([33, 128]) and torch.Size([25, 128]) respectively.\n",
            "Batch sizes for English and German are torch.Size([27, 128]) and torch.Size([29, 128]) respectively.\n"
          ]
        },
        {
          "metadata": {
            "tags": null
          },
          "name": "stderr",
          "output_type": "stream",
          "text": [
            "Model training in progress...:  90%|█████████ | 205/227 [00:33<00:03,  6.22it/s]"
          ]
        },
        {
          "metadata": {
            "tags": null
          },
          "name": "stdout",
          "output_type": "stream",
          "text": [
            "Batch sizes for English and German are torch.Size([30, 128]) and torch.Size([26, 128]) respectively.\n",
            "Batch sizes for English and German are torch.Size([29, 128]) and torch.Size([29, 128]) respectively.\n"
          ]
        },
        {
          "metadata": {
            "tags": null
          },
          "name": "stderr",
          "output_type": "stream",
          "text": [
            "Model training in progress...:  91%|█████████ | 207/227 [00:33<00:03,  6.22it/s]"
          ]
        },
        {
          "metadata": {
            "tags": null
          },
          "name": "stdout",
          "output_type": "stream",
          "text": [
            "Batch sizes for English and German are torch.Size([30, 128]) and torch.Size([30, 128]) respectively.\n",
            "Batch sizes for English and German are torch.Size([35, 128]) and torch.Size([33, 128]) respectively.\n"
          ]
        },
        {
          "metadata": {
            "tags": null
          },
          "name": "stderr",
          "output_type": "stream",
          "text": [
            "Model training in progress...:  92%|█████████▏| 209/227 [00:34<00:02,  6.21it/s]"
          ]
        },
        {
          "metadata": {
            "tags": null
          },
          "name": "stdout",
          "output_type": "stream",
          "text": [
            "Batch sizes for English and German are torch.Size([25, 128]) and torch.Size([25, 128]) respectively.\n",
            "Batch sizes for English and German are torch.Size([36, 128]) and torch.Size([38, 128]) respectively.\n"
          ]
        },
        {
          "metadata": {
            "tags": null
          },
          "name": "stderr",
          "output_type": "stream",
          "text": [
            "Model training in progress...:  93%|█████████▎| 211/227 [00:34<00:02,  5.73it/s]"
          ]
        },
        {
          "metadata": {
            "tags": null
          },
          "name": "stdout",
          "output_type": "stream",
          "text": [
            "Batch sizes for English and German are torch.Size([31, 128]) and torch.Size([26, 128]) respectively.\n",
            "Batch sizes for English and German are torch.Size([33, 128]) and torch.Size([30, 128]) respectively.\n"
          ]
        },
        {
          "metadata": {
            "tags": null
          },
          "name": "stderr",
          "output_type": "stream",
          "text": [
            "Model training in progress...:  94%|█████████▍| 213/227 [00:34<00:02,  5.82it/s]"
          ]
        },
        {
          "metadata": {
            "tags": null
          },
          "name": "stdout",
          "output_type": "stream",
          "text": [
            "Batch sizes for English and German are torch.Size([29, 128]) and torch.Size([27, 128]) respectively.\n",
            "Batch sizes for English and German are torch.Size([30, 128]) and torch.Size([31, 128]) respectively.\n"
          ]
        },
        {
          "metadata": {
            "tags": null
          },
          "name": "stderr",
          "output_type": "stream",
          "text": [
            "Model training in progress...:  95%|█████████▍| 215/227 [00:35<00:02,  5.65it/s]"
          ]
        },
        {
          "metadata": {
            "tags": null
          },
          "name": "stdout",
          "output_type": "stream",
          "text": [
            "Batch sizes for English and German are torch.Size([35, 128]) and torch.Size([33, 128]) respectively.\n",
            "Batch sizes for English and German are torch.Size([30, 128]) and torch.Size([30, 128]) respectively.\n"
          ]
        },
        {
          "metadata": {
            "tags": null
          },
          "name": "stderr",
          "output_type": "stream",
          "text": [
            "Model training in progress...:  96%|█████████▌| 217/227 [00:35<00:01,  5.82it/s]"
          ]
        },
        {
          "metadata": {
            "tags": null
          },
          "name": "stdout",
          "output_type": "stream",
          "text": [
            "Batch sizes for English and German are torch.Size([30, 128]) and torch.Size([31, 128]) respectively.\n",
            "Batch sizes for English and German are torch.Size([26, 128]) and torch.Size([28, 128]) respectively.\n"
          ]
        },
        {
          "metadata": {
            "tags": null
          },
          "name": "stderr",
          "output_type": "stream",
          "text": [
            "Model training in progress...:  96%|█████████▋| 219/227 [00:35<00:01,  6.23it/s]"
          ]
        },
        {
          "metadata": {
            "tags": null
          },
          "name": "stdout",
          "output_type": "stream",
          "text": [
            "Batch sizes for English and German are torch.Size([27, 128]) and torch.Size([28, 128]) respectively.\n",
            "Batch sizes for English and German are torch.Size([34, 128]) and torch.Size([29, 128]) respectively.\n"
          ]
        },
        {
          "metadata": {
            "tags": null
          },
          "name": "stderr",
          "output_type": "stream",
          "text": [
            "Model training in progress...:  97%|█████████▋| 221/227 [00:36<00:01,  5.93it/s]"
          ]
        },
        {
          "metadata": {
            "tags": null
          },
          "name": "stdout",
          "output_type": "stream",
          "text": [
            "Batch sizes for English and German are torch.Size([30, 128]) and torch.Size([31, 128]) respectively.\n",
            "Batch sizes for English and German are torch.Size([26, 128]) and torch.Size([30, 128]) respectively.\n"
          ]
        },
        {
          "metadata": {
            "tags": null
          },
          "name": "stderr",
          "output_type": "stream",
          "text": [
            "\rModel training in progress...:  98%|█████████▊| 222/227 [00:36<00:00,  6.19it/s]"
          ]
        },
        {
          "metadata": {
            "tags": null
          },
          "name": "stdout",
          "output_type": "stream",
          "text": [
            "Batch sizes for English and German are torch.Size([39, 128]) and torch.Size([34, 128]) respectively.\n"
          ]
        },
        {
          "metadata": {
            "tags": null
          },
          "name": "stderr",
          "output_type": "stream",
          "text": [
            "Model training in progress...:  99%|█████████▊| 224/227 [00:36<00:00,  5.73it/s]"
          ]
        },
        {
          "metadata": {
            "tags": null
          },
          "name": "stdout",
          "output_type": "stream",
          "text": [
            "Batch sizes for English and German are torch.Size([31, 128]) and torch.Size([29, 128]) respectively.\n",
            "Batch sizes for English and German are torch.Size([28, 128]) and torch.Size([28, 128]) respectively.\n"
          ]
        },
        {
          "metadata": {
            "tags": null
          },
          "name": "stderr",
          "output_type": "stream",
          "text": [
            "Model training in progress...: 100%|█████████▉| 226/227 [00:37<00:00,  5.63it/s]"
          ]
        },
        {
          "metadata": {
            "tags": null
          },
          "name": "stdout",
          "output_type": "stream",
          "text": [
            "Batch sizes for English and German are torch.Size([37, 128]) and torch.Size([38, 128]) respectively.\n",
            "Batch sizes for English and German are torch.Size([29, 72]) and torch.Size([28, 72]) respectively.\n"
          ]
        },
        {
          "metadata": {
            "tags": null
          },
          "name": "stderr",
          "output_type": "stream",
          "text": [
            "Model training in progress...: 100%|██████████| 227/227 [00:37<00:00,  6.10it/s]\n",
            "Model validation in progress...:  25%|██▌       | 2/8 [00:00<00:00, 14.57it/s]"
          ]
        },
        {
          "metadata": {
            "tags": null
          },
          "name": "stdout",
          "output_type": "stream",
          "text": [
            "Batch sizes for English and German are torch.Size([26, 128]) and torch.Size([35, 128]) respectively.\n",
            "Batch sizes for English and German are torch.Size([30, 128]) and torch.Size([32, 128]) respectively.\n",
            "Batch sizes for English and German are torch.Size([34, 128]) and torch.Size([33, 128]) respectively.\n"
          ]
        },
        {
          "metadata": {
            "tags": null
          },
          "name": "stderr",
          "output_type": "stream",
          "text": [
            "\rModel validation in progress...:  50%|█████     | 4/8 [00:00<00:00, 13.76it/s]"
          ]
        },
        {
          "metadata": {
            "tags": null
          },
          "name": "stdout",
          "output_type": "stream",
          "text": [
            "Batch sizes for English and German are torch.Size([31, 128]) and torch.Size([31, 128]) respectively.\n",
            "Batch sizes for English and German are torch.Size([30, 128]) and torch.Size([34, 128]) respectively.\n",
            "Batch sizes for English and German are torch.Size([32, 128]) and torch.Size([30, 128]) respectively.\n"
          ]
        },
        {
          "metadata": {
            "tags": null
          },
          "name": "stderr",
          "output_type": "stream",
          "text": [
            "Model validation in progress...: 100%|██████████| 8/8 [00:00<00:00, 14.11it/s]\n"
          ]
        },
        {
          "metadata": {
            "tags": null
          },
          "name": "stdout",
          "output_type": "stream",
          "text": [
            "Batch sizes for English and German are torch.Size([28, 128]) and torch.Size([26, 128]) respectively.\n",
            "Batch sizes for English and German are torch.Size([28, 118]) and torch.Size([28, 118]) respectively.\n",
            "Epoch: 0\n",
            "Training loss: 5.043\n",
            "Validation loss: 5.047\n",
            "\n",
            "\n"
          ]
        },
        {
          "metadata": {
            "tags": null
          },
          "name": "stderr",
          "output_type": "stream",
          "text": [
            "Model training in progress...:   0%|          | 1/227 [00:00<00:38,  5.85it/s]"
          ]
        },
        {
          "metadata": {
            "tags": null
          },
          "name": "stdout",
          "output_type": "stream",
          "text": [
            "Batch sizes for English and German are torch.Size([31, 128]) and torch.Size([30, 128]) respectively.\n",
            "Batch sizes for English and German are torch.Size([28, 128]) and torch.Size([30, 128]) respectively.\n"
          ]
        },
        {
          "metadata": {
            "tags": null
          },
          "name": "stderr",
          "output_type": "stream",
          "text": [
            "Model training in progress...:   1%|▏         | 3/227 [00:00<00:34,  6.43it/s]"
          ]
        },
        {
          "metadata": {
            "tags": null
          },
          "name": "stdout",
          "output_type": "stream",
          "text": [
            "Batch sizes for English and German are torch.Size([27, 128]) and torch.Size([25, 128]) respectively.\n",
            "Batch sizes for English and German are torch.Size([27, 128]) and torch.Size([29, 128]) respectively.\n"
          ]
        },
        {
          "metadata": {
            "tags": null
          },
          "name": "stderr",
          "output_type": "stream",
          "text": [
            "Model training in progress...:   2%|▏         | 5/227 [00:00<00:37,  5.92it/s]"
          ]
        },
        {
          "metadata": {
            "tags": null
          },
          "name": "stdout",
          "output_type": "stream",
          "text": [
            "Batch sizes for English and German are torch.Size([37, 128]) and torch.Size([35, 128]) respectively.\n",
            "Batch sizes for English and German are torch.Size([31, 128]) and torch.Size([32, 128]) respectively.\n"
          ]
        },
        {
          "metadata": {
            "tags": null
          },
          "name": "stderr",
          "output_type": "stream",
          "text": [
            "Model training in progress...:   3%|▎         | 7/227 [00:01<00:36,  6.07it/s]"
          ]
        },
        {
          "metadata": {
            "tags": null
          },
          "name": "stdout",
          "output_type": "stream",
          "text": [
            "Batch sizes for English and German are torch.Size([29, 128]) and torch.Size([28, 128]) respectively.\n",
            "Batch sizes for English and German are torch.Size([24, 128]) and torch.Size([27, 128]) respectively.\n"
          ]
        },
        {
          "metadata": {
            "tags": null
          },
          "name": "stderr",
          "output_type": "stream",
          "text": [
            "Model training in progress...:   4%|▍         | 9/227 [00:01<00:33,  6.48it/s]"
          ]
        },
        {
          "metadata": {
            "tags": null
          },
          "name": "stdout",
          "output_type": "stream",
          "text": [
            "Batch sizes for English and German are torch.Size([29, 128]) and torch.Size([28, 128]) respectively.\n",
            "Batch sizes for English and German are torch.Size([25, 128]) and torch.Size([27, 128]) respectively.\n"
          ]
        },
        {
          "metadata": {
            "tags": null
          },
          "name": "stderr",
          "output_type": "stream",
          "text": [
            "Model training in progress...:   5%|▍         | 11/227 [00:01<00:32,  6.58it/s]"
          ]
        },
        {
          "metadata": {
            "tags": null
          },
          "name": "stdout",
          "output_type": "stream",
          "text": [
            "Batch sizes for English and German are torch.Size([30, 128]) and torch.Size([29, 128]) respectively.\n",
            "Batch sizes for English and German are torch.Size([42, 128]) and torch.Size([41, 128]) respectively.\n"
          ]
        },
        {
          "metadata": {
            "tags": null
          },
          "name": "stderr",
          "output_type": "stream",
          "text": [
            "Model training in progress...:   6%|▌         | 13/227 [00:02<00:36,  5.87it/s]"
          ]
        },
        {
          "metadata": {
            "tags": null
          },
          "name": "stdout",
          "output_type": "stream",
          "text": [
            "Batch sizes for English and German are torch.Size([30, 128]) and torch.Size([29, 128]) respectively.\n",
            "Batch sizes for English and German are torch.Size([43, 128]) and torch.Size([36, 128]) respectively.\n"
          ]
        },
        {
          "metadata": {
            "tags": null
          },
          "name": "stderr",
          "output_type": "stream",
          "text": [
            "Model training in progress...:   7%|▋         | 15/227 [00:02<00:38,  5.45it/s]"
          ]
        },
        {
          "metadata": {
            "tags": null
          },
          "name": "stdout",
          "output_type": "stream",
          "text": [
            "Batch sizes for English and German are torch.Size([32, 128]) and torch.Size([31, 128]) respectively.\n",
            "Batch sizes for English and German are torch.Size([33, 128]) and torch.Size([34, 128]) respectively.\n"
          ]
        },
        {
          "metadata": {
            "tags": null
          },
          "name": "stderr",
          "output_type": "stream",
          "text": [
            "Model training in progress...:   7%|▋         | 17/227 [00:02<00:39,  5.38it/s]"
          ]
        },
        {
          "metadata": {
            "tags": null
          },
          "name": "stdout",
          "output_type": "stream",
          "text": [
            "Batch sizes for English and German are torch.Size([37, 128]) and torch.Size([30, 128]) respectively.\n",
            "Batch sizes for English and German are torch.Size([30, 128]) and torch.Size([30, 128]) respectively.\n"
          ]
        },
        {
          "metadata": {
            "tags": null
          },
          "name": "stderr",
          "output_type": "stream",
          "text": [
            "Model training in progress...:   8%|▊         | 19/227 [00:03<00:35,  5.85it/s]"
          ]
        },
        {
          "metadata": {
            "tags": null
          },
          "name": "stdout",
          "output_type": "stream",
          "text": [
            "Batch sizes for English and German are torch.Size([27, 128]) and torch.Size([28, 128]) respectively.\n",
            "Batch sizes for English and German are torch.Size([28, 128]) and torch.Size([30, 128]) respectively.\n"
          ]
        },
        {
          "metadata": {
            "tags": null
          },
          "name": "stderr",
          "output_type": "stream",
          "text": [
            "Model training in progress...:   9%|▉         | 21/227 [00:03<00:32,  6.31it/s]"
          ]
        },
        {
          "metadata": {
            "tags": null
          },
          "name": "stdout",
          "output_type": "stream",
          "text": [
            "Batch sizes for English and German are torch.Size([27, 128]) and torch.Size([26, 128]) respectively.\n",
            "Batch sizes for English and German are torch.Size([39, 128]) and torch.Size([33, 128]) respectively.\n"
          ]
        },
        {
          "metadata": {
            "tags": null
          },
          "name": "stderr",
          "output_type": "stream",
          "text": [
            "Model training in progress...:  10%|█         | 23/227 [00:03<00:36,  5.66it/s]"
          ]
        },
        {
          "metadata": {
            "tags": null
          },
          "name": "stdout",
          "output_type": "stream",
          "text": [
            "Batch sizes for English and German are torch.Size([32, 128]) and torch.Size([33, 128]) respectively.\n",
            "Batch sizes for English and German are torch.Size([33, 128]) and torch.Size([30, 128]) respectively.\n"
          ]
        },
        {
          "metadata": {
            "tags": null
          },
          "name": "stderr",
          "output_type": "stream",
          "text": [
            "Model training in progress...:  11%|█         | 25/227 [00:04<00:33,  6.01it/s]"
          ]
        },
        {
          "metadata": {
            "tags": null
          },
          "name": "stdout",
          "output_type": "stream",
          "text": [
            "Batch sizes for English and German are torch.Size([26, 128]) and torch.Size([29, 128]) respectively.\n",
            "Batch sizes for English and German are torch.Size([29, 128]) and torch.Size([28, 128]) respectively.\n"
          ]
        },
        {
          "metadata": {
            "tags": null
          },
          "name": "stderr",
          "output_type": "stream",
          "text": [
            "Model training in progress...:  12%|█▏        | 27/227 [00:04<00:34,  5.76it/s]"
          ]
        },
        {
          "metadata": {
            "tags": null
          },
          "name": "stdout",
          "output_type": "stream",
          "text": [
            "Batch sizes for English and German are torch.Size([37, 128]) and torch.Size([38, 128]) respectively.\n",
            "Batch sizes for English and German are torch.Size([27, 128]) and torch.Size([25, 128]) respectively.\n"
          ]
        },
        {
          "metadata": {
            "tags": null
          },
          "name": "stderr",
          "output_type": "stream",
          "text": [
            "Model training in progress...:  13%|█▎        | 29/227 [00:04<00:32,  6.01it/s]"
          ]
        },
        {
          "metadata": {
            "tags": null
          },
          "name": "stdout",
          "output_type": "stream",
          "text": [
            "Batch sizes for English and German are torch.Size([31, 128]) and torch.Size([29, 128]) respectively.\n",
            "Batch sizes for English and German are torch.Size([30, 128]) and torch.Size([27, 128]) respectively.\n"
          ]
        },
        {
          "metadata": {
            "tags": null
          },
          "name": "stderr",
          "output_type": "stream",
          "text": [
            "Model training in progress...:  14%|█▎        | 31/227 [00:05<00:31,  6.16it/s]"
          ]
        },
        {
          "metadata": {
            "tags": null
          },
          "name": "stdout",
          "output_type": "stream",
          "text": [
            "Batch sizes for English and German are torch.Size([29, 128]) and torch.Size([28, 128]) respectively.\n",
            "Batch sizes for English and German are torch.Size([28, 128]) and torch.Size([28, 128]) respectively.\n"
          ]
        },
        {
          "metadata": {
            "tags": null
          },
          "name": "stderr",
          "output_type": "stream",
          "text": [
            "Model training in progress...:  15%|█▍        | 33/227 [00:05<00:30,  6.29it/s]"
          ]
        },
        {
          "metadata": {
            "tags": null
          },
          "name": "stdout",
          "output_type": "stream",
          "text": [
            "Batch sizes for English and German are torch.Size([29, 128]) and torch.Size([27, 128]) respectively.\n",
            "Batch sizes for English and German are torch.Size([24, 128]) and torch.Size([26, 128]) respectively.\n"
          ]
        },
        {
          "metadata": {
            "tags": null
          },
          "name": "stderr",
          "output_type": "stream",
          "text": [
            "Model training in progress...:  15%|█▌        | 35/227 [00:05<00:28,  6.65it/s]"
          ]
        },
        {
          "metadata": {
            "tags": null
          },
          "name": "stdout",
          "output_type": "stream",
          "text": [
            "Batch sizes for English and German are torch.Size([28, 128]) and torch.Size([29, 128]) respectively.\n",
            "Batch sizes for English and German are torch.Size([40, 128]) and torch.Size([35, 128]) respectively.\n"
          ]
        },
        {
          "metadata": {
            "tags": null
          },
          "name": "stderr",
          "output_type": "stream",
          "text": [
            "Model training in progress...:  16%|█▋        | 37/227 [00:06<00:31,  6.06it/s]"
          ]
        },
        {
          "metadata": {
            "tags": null
          },
          "name": "stdout",
          "output_type": "stream",
          "text": [
            "Batch sizes for English and German are torch.Size([27, 128]) and torch.Size([24, 128]) respectively.\n",
            "Batch sizes for English and German are torch.Size([28, 128]) and torch.Size([26, 128]) respectively.\n"
          ]
        },
        {
          "metadata": {
            "tags": null
          },
          "name": "stderr",
          "output_type": "stream",
          "text": [
            "Model training in progress...:  17%|█▋        | 39/227 [00:06<00:31,  6.06it/s]"
          ]
        },
        {
          "metadata": {
            "tags": null
          },
          "name": "stdout",
          "output_type": "stream",
          "text": [
            "Batch sizes for English and German are torch.Size([32, 128]) and torch.Size([36, 128]) respectively.\n",
            "Batch sizes for English and German are torch.Size([26, 128]) and torch.Size([29, 128]) respectively.\n"
          ]
        },
        {
          "metadata": {
            "tags": null
          },
          "name": "stderr",
          "output_type": "stream",
          "text": [
            "Model training in progress...:  18%|█▊        | 41/227 [00:06<00:28,  6.53it/s]"
          ]
        },
        {
          "metadata": {
            "tags": null
          },
          "name": "stdout",
          "output_type": "stream",
          "text": [
            "Batch sizes for English and German are torch.Size([26, 128]) and torch.Size([26, 128]) respectively.\n",
            "Batch sizes for English and German are torch.Size([38, 128]) and torch.Size([29, 128]) respectively.\n"
          ]
        },
        {
          "metadata": {
            "tags": null
          },
          "name": "stderr",
          "output_type": "stream",
          "text": [
            "Model training in progress...:  19%|█▉        | 43/227 [00:07<00:30,  5.99it/s]"
          ]
        },
        {
          "metadata": {
            "tags": null
          },
          "name": "stdout",
          "output_type": "stream",
          "text": [
            "Batch sizes for English and German are torch.Size([30, 128]) and torch.Size([29, 128]) respectively.\n",
            "Batch sizes for English and German are torch.Size([30, 128]) and torch.Size([32, 128]) respectively.\n"
          ]
        },
        {
          "metadata": {
            "tags": null
          },
          "name": "stderr",
          "output_type": "stream",
          "text": [
            "Model training in progress...:  20%|█▉        | 45/227 [00:07<00:29,  6.21it/s]"
          ]
        },
        {
          "metadata": {
            "tags": null
          },
          "name": "stdout",
          "output_type": "stream",
          "text": [
            "Batch sizes for English and German are torch.Size([28, 128]) and torch.Size([31, 128]) respectively.\n",
            "Batch sizes for English and German are torch.Size([26, 128]) and torch.Size([30, 128]) respectively.\n"
          ]
        },
        {
          "metadata": {
            "tags": null
          },
          "name": "stderr",
          "output_type": "stream",
          "text": [
            "Model training in progress...:  21%|██        | 47/227 [00:07<00:29,  6.11it/s]"
          ]
        },
        {
          "metadata": {
            "tags": null
          },
          "name": "stdout",
          "output_type": "stream",
          "text": [
            "Batch sizes for English and German are torch.Size([35, 128]) and torch.Size([33, 128]) respectively.\n",
            "Batch sizes for English and German are torch.Size([34, 128]) and torch.Size([29, 128]) respectively.\n"
          ]
        },
        {
          "metadata": {
            "tags": null
          },
          "name": "stderr",
          "output_type": "stream",
          "text": [
            "Model training in progress...:  22%|██▏       | 49/227 [00:08<00:29,  6.01it/s]"
          ]
        },
        {
          "metadata": {
            "tags": null
          },
          "name": "stdout",
          "output_type": "stream",
          "text": [
            "Batch sizes for English and German are torch.Size([30, 128]) and torch.Size([28, 128]) respectively.\n",
            "Batch sizes for English and German are torch.Size([27, 128]) and torch.Size([26, 128]) respectively.\n"
          ]
        },
        {
          "metadata": {
            "tags": null
          },
          "name": "stderr",
          "output_type": "stream",
          "text": [
            "Model training in progress...:  22%|██▏       | 51/227 [00:08<00:27,  6.35it/s]"
          ]
        },
        {
          "metadata": {
            "tags": null
          },
          "name": "stdout",
          "output_type": "stream",
          "text": [
            "Batch sizes for English and German are torch.Size([28, 128]) and torch.Size([29, 128]) respectively.\n",
            "Batch sizes for English and German are torch.Size([26, 128]) and torch.Size([29, 128]) respectively.\n"
          ]
        },
        {
          "metadata": {
            "tags": null
          },
          "name": "stderr",
          "output_type": "stream",
          "text": [
            "Model training in progress...:  23%|██▎       | 53/227 [00:08<00:25,  6.70it/s]"
          ]
        },
        {
          "metadata": {
            "tags": null
          },
          "name": "stdout",
          "output_type": "stream",
          "text": [
            "Batch sizes for English and German are torch.Size([25, 128]) and torch.Size([26, 128]) respectively.\n",
            "Batch sizes for English and German are torch.Size([35, 128]) and torch.Size([37, 128]) respectively.\n"
          ]
        },
        {
          "metadata": {
            "tags": null
          },
          "name": "stderr",
          "output_type": "stream",
          "text": [
            "Model training in progress...:  24%|██▍       | 55/227 [00:09<00:27,  6.15it/s]"
          ]
        },
        {
          "metadata": {
            "tags": null
          },
          "name": "stdout",
          "output_type": "stream",
          "text": [
            "Batch sizes for English and German are torch.Size([28, 128]) and torch.Size([28, 128]) respectively.\n",
            "Batch sizes for English and German are torch.Size([32, 128]) and torch.Size([37, 128]) respectively.\n"
          ]
        },
        {
          "metadata": {
            "tags": null
          },
          "name": "stderr",
          "output_type": "stream",
          "text": [
            "Model training in progress...:  25%|██▌       | 57/227 [00:09<00:29,  5.77it/s]"
          ]
        },
        {
          "metadata": {
            "tags": null
          },
          "name": "stdout",
          "output_type": "stream",
          "text": [
            "Batch sizes for English and German are torch.Size([32, 128]) and torch.Size([32, 128]) respectively.\n",
            "Batch sizes for English and German are torch.Size([27, 128]) and torch.Size([27, 128]) respectively.\n"
          ]
        },
        {
          "metadata": {
            "tags": null
          },
          "name": "stderr",
          "output_type": "stream",
          "text": [
            "Model training in progress...:  26%|██▌       | 59/227 [00:09<00:27,  6.03it/s]"
          ]
        },
        {
          "metadata": {
            "tags": null
          },
          "name": "stdout",
          "output_type": "stream",
          "text": [
            "Batch sizes for English and German are torch.Size([30, 128]) and torch.Size([28, 128]) respectively.\n",
            "Batch sizes for English and German are torch.Size([32, 128]) and torch.Size([30, 128]) respectively.\n"
          ]
        },
        {
          "metadata": {
            "tags": null
          },
          "name": "stderr",
          "output_type": "stream",
          "text": [
            "Model training in progress...:  27%|██▋       | 61/227 [00:10<00:27,  6.10it/s]"
          ]
        },
        {
          "metadata": {
            "tags": null
          },
          "name": "stdout",
          "output_type": "stream",
          "text": [
            "Batch sizes for English and German are torch.Size([27, 128]) and torch.Size([23, 128]) respectively.\n",
            "Batch sizes for English and German are torch.Size([37, 128]) and torch.Size([36, 128]) respectively.\n"
          ]
        },
        {
          "metadata": {
            "tags": null
          },
          "name": "stderr",
          "output_type": "stream",
          "text": [
            "Model training in progress...:  28%|██▊       | 63/227 [00:10<00:31,  5.27it/s]"
          ]
        },
        {
          "metadata": {
            "tags": null
          },
          "name": "stdout",
          "output_type": "stream",
          "text": [
            "Batch sizes for English and German are torch.Size([37, 128]) and torch.Size([46, 128]) respectively.\n"
          ]
        },
        {
          "metadata": {
            "tags": null
          },
          "name": "stderr",
          "output_type": "stream",
          "text": [
            "\rModel training in progress...:  28%|██▊       | 64/227 [00:10<00:29,  5.55it/s]"
          ]
        },
        {
          "metadata": {
            "tags": null
          },
          "name": "stdout",
          "output_type": "stream",
          "text": [
            "Batch sizes for English and German are torch.Size([28, 128]) and torch.Size([33, 128]) respectively.\n",
            "Batch sizes for English and German are torch.Size([28, 128]) and torch.Size([32, 128]) respectively.\n"
          ]
        },
        {
          "metadata": {
            "tags": null
          },
          "name": "stderr",
          "output_type": "stream",
          "text": [
            "Model training in progress...:  29%|██▉       | 66/227 [00:10<00:26,  6.04it/s]"
          ]
        },
        {
          "metadata": {
            "tags": null
          },
          "name": "stdout",
          "output_type": "stream",
          "text": [
            "Batch sizes for English and German are torch.Size([28, 128]) and torch.Size([23, 128]) respectively.\n",
            "Batch sizes for English and German are torch.Size([34, 128]) and torch.Size([29, 128]) respectively.\n"
          ]
        },
        {
          "metadata": {
            "tags": null
          },
          "name": "stderr",
          "output_type": "stream",
          "text": [
            "Model training in progress...:  30%|██▉       | 68/227 [00:11<00:26,  5.91it/s]"
          ]
        },
        {
          "metadata": {
            "tags": null
          },
          "name": "stdout",
          "output_type": "stream",
          "text": [
            "Batch sizes for English and German are torch.Size([31, 128]) and torch.Size([30, 128]) respectively.\n",
            "Batch sizes for English and German are torch.Size([32, 128]) and torch.Size([28, 128]) respectively.\n"
          ]
        },
        {
          "metadata": {
            "tags": null
          },
          "name": "stderr",
          "output_type": "stream",
          "text": [
            "Model training in progress...:  31%|███       | 70/227 [00:11<00:26,  5.82it/s]"
          ]
        },
        {
          "metadata": {
            "tags": null
          },
          "name": "stdout",
          "output_type": "stream",
          "text": [
            "Batch sizes for English and German are torch.Size([33, 128]) and torch.Size([30, 128]) respectively.\n",
            "Batch sizes for English and German are torch.Size([26, 128]) and torch.Size([27, 128]) respectively.\n"
          ]
        },
        {
          "metadata": {
            "tags": null
          },
          "name": "stderr",
          "output_type": "stream",
          "text": [
            "Model training in progress...:  32%|███▏      | 72/227 [00:11<00:24,  6.42it/s]"
          ]
        },
        {
          "metadata": {
            "tags": null
          },
          "name": "stdout",
          "output_type": "stream",
          "text": [
            "Batch sizes for English and German are torch.Size([26, 128]) and torch.Size([26, 128]) respectively.\n",
            "Batch sizes for English and German are torch.Size([27, 128]) and torch.Size([26, 128]) respectively.\n"
          ]
        },
        {
          "metadata": {
            "tags": null
          },
          "name": "stderr",
          "output_type": "stream",
          "text": [
            "Model training in progress...:  33%|███▎      | 74/227 [00:12<00:24,  6.14it/s]"
          ]
        },
        {
          "metadata": {
            "tags": null
          },
          "name": "stdout",
          "output_type": "stream",
          "text": [
            "Batch sizes for English and German are torch.Size([34, 128]) and torch.Size([30, 128]) respectively.\n",
            "Batch sizes for English and German are torch.Size([33, 128]) and torch.Size([30, 128]) respectively.\n"
          ]
        },
        {
          "metadata": {
            "tags": null
          },
          "name": "stderr",
          "output_type": "stream",
          "text": [
            "Model training in progress...:  33%|███▎      | 76/227 [00:12<00:24,  6.15it/s]"
          ]
        },
        {
          "metadata": {
            "tags": null
          },
          "name": "stdout",
          "output_type": "stream",
          "text": [
            "Batch sizes for English and German are torch.Size([27, 128]) and torch.Size([25, 128]) respectively.\n",
            "Batch sizes for English and German are torch.Size([26, 128]) and torch.Size([30, 128]) respectively.\n"
          ]
        },
        {
          "metadata": {
            "tags": null
          },
          "name": "stderr",
          "output_type": "stream",
          "text": [
            "Model training in progress...:  34%|███▍      | 78/227 [00:12<00:23,  6.41it/s]"
          ]
        },
        {
          "metadata": {
            "tags": null
          },
          "name": "stdout",
          "output_type": "stream",
          "text": [
            "Batch sizes for English and German are torch.Size([29, 128]) and torch.Size([30, 128]) respectively.\n",
            "Batch sizes for English and German are torch.Size([40, 128]) and torch.Size([37, 128]) respectively.\n"
          ]
        },
        {
          "metadata": {
            "tags": null
          },
          "name": "stderr",
          "output_type": "stream",
          "text": [
            "Model training in progress...:  35%|███▌      | 80/227 [00:13<00:26,  5.52it/s]"
          ]
        },
        {
          "metadata": {
            "tags": null
          },
          "name": "stdout",
          "output_type": "stream",
          "text": [
            "Batch sizes for English and German are torch.Size([36, 128]) and torch.Size([38, 128]) respectively.\n",
            "Batch sizes for English and German are torch.Size([28, 128]) and torch.Size([27, 128]) respectively.\n"
          ]
        },
        {
          "metadata": {
            "tags": null
          },
          "name": "stderr",
          "output_type": "stream",
          "text": [
            "Model training in progress...:  36%|███▌      | 82/227 [00:13<00:23,  6.14it/s]"
          ]
        },
        {
          "metadata": {
            "tags": null
          },
          "name": "stdout",
          "output_type": "stream",
          "text": [
            "Batch sizes for English and German are torch.Size([26, 128]) and torch.Size([29, 128]) respectively.\n",
            "Batch sizes for English and German are torch.Size([25, 128]) and torch.Size([25, 128]) respectively.\n"
          ]
        },
        {
          "metadata": {
            "tags": null
          },
          "name": "stderr",
          "output_type": "stream",
          "text": [
            "Model training in progress...:  37%|███▋      | 84/227 [00:13<00:24,  5.92it/s]"
          ]
        },
        {
          "metadata": {
            "tags": null
          },
          "name": "stdout",
          "output_type": "stream",
          "text": [
            "Batch sizes for English and German are torch.Size([37, 128]) and torch.Size([38, 128]) respectively.\n",
            "Batch sizes for English and German are torch.Size([40, 128]) and torch.Size([34, 128]) respectively.\n"
          ]
        },
        {
          "metadata": {
            "tags": null
          },
          "name": "stderr",
          "output_type": "stream",
          "text": [
            "Model training in progress...:  38%|███▊      | 86/227 [00:14<00:25,  5.60it/s]"
          ]
        },
        {
          "metadata": {
            "tags": null
          },
          "name": "stdout",
          "output_type": "stream",
          "text": [
            "Batch sizes for English and German are torch.Size([31, 128]) and torch.Size([30, 128]) respectively.\n",
            "Batch sizes for English and German are torch.Size([27, 128]) and torch.Size([27, 128]) respectively.\n"
          ]
        },
        {
          "metadata": {
            "tags": null
          },
          "name": "stderr",
          "output_type": "stream",
          "text": [
            "Model training in progress...:  39%|███▉      | 88/227 [00:14<00:22,  6.16it/s]"
          ]
        },
        {
          "metadata": {
            "tags": null
          },
          "name": "stdout",
          "output_type": "stream",
          "text": [
            "Batch sizes for English and German are torch.Size([27, 128]) and torch.Size([29, 128]) respectively.\n",
            "Batch sizes for English and German are torch.Size([41, 128]) and torch.Size([45, 128]) respectively.\n"
          ]
        },
        {
          "metadata": {
            "tags": null
          },
          "name": "stderr",
          "output_type": "stream",
          "text": [
            "Model training in progress...:  40%|███▉      | 90/227 [00:14<00:22,  5.98it/s]"
          ]
        },
        {
          "metadata": {
            "tags": null
          },
          "name": "stdout",
          "output_type": "stream",
          "text": [
            "Batch sizes for English and German are torch.Size([25, 128]) and torch.Size([25, 128]) respectively.\n",
            "Batch sizes for English and German are torch.Size([36, 128]) and torch.Size([37, 128]) respectively.\n"
          ]
        },
        {
          "metadata": {
            "tags": null
          },
          "name": "stderr",
          "output_type": "stream",
          "text": [
            "Model training in progress...:  41%|████      | 92/227 [00:15<00:22,  5.94it/s]"
          ]
        },
        {
          "metadata": {
            "tags": null
          },
          "name": "stdout",
          "output_type": "stream",
          "text": [
            "Batch sizes for English and German are torch.Size([27, 128]) and torch.Size([29, 128]) respectively.\n",
            "Batch sizes for English and German are torch.Size([35, 128]) and torch.Size([32, 128]) respectively.\n"
          ]
        },
        {
          "metadata": {
            "tags": null
          },
          "name": "stderr",
          "output_type": "stream",
          "text": [
            "Model training in progress...:  41%|████▏     | 94/227 [00:15<00:22,  5.99it/s]"
          ]
        },
        {
          "metadata": {
            "tags": null
          },
          "name": "stdout",
          "output_type": "stream",
          "text": [
            "Batch sizes for English and German are torch.Size([27, 128]) and torch.Size([27, 128]) respectively.\n",
            "Batch sizes for English and German are torch.Size([29, 128]) and torch.Size([30, 128]) respectively.\n"
          ]
        },
        {
          "metadata": {
            "tags": null
          },
          "name": "stderr",
          "output_type": "stream",
          "text": [
            "Model training in progress...:  42%|████▏     | 96/227 [00:15<00:20,  6.35it/s]"
          ]
        },
        {
          "metadata": {
            "tags": null
          },
          "name": "stdout",
          "output_type": "stream",
          "text": [
            "Batch sizes for English and German are torch.Size([26, 128]) and torch.Size([29, 128]) respectively.\n",
            "Batch sizes for English and German are torch.Size([28, 128]) and torch.Size([31, 128]) respectively.\n"
          ]
        },
        {
          "metadata": {
            "tags": null
          },
          "name": "stderr",
          "output_type": "stream",
          "text": [
            "Model training in progress...:  43%|████▎     | 98/227 [00:16<00:19,  6.60it/s]"
          ]
        },
        {
          "metadata": {
            "tags": null
          },
          "name": "stdout",
          "output_type": "stream",
          "text": [
            "Batch sizes for English and German are torch.Size([26, 128]) and torch.Size([28, 128]) respectively.\n",
            "Batch sizes for English and German are torch.Size([35, 128]) and torch.Size([33, 128]) respectively.\n"
          ]
        },
        {
          "metadata": {
            "tags": null
          },
          "name": "stderr",
          "output_type": "stream",
          "text": [
            "Model training in progress...:  44%|████▍     | 100/227 [00:16<00:20,  6.27it/s]"
          ]
        },
        {
          "metadata": {
            "tags": null
          },
          "name": "stdout",
          "output_type": "stream",
          "text": [
            "Batch sizes for English and German are torch.Size([28, 128]) and torch.Size([29, 128]) respectively.\n",
            "Batch sizes for English and German are torch.Size([29, 128]) and torch.Size([27, 128]) respectively.\n"
          ]
        },
        {
          "metadata": {
            "tags": null
          },
          "name": "stderr",
          "output_type": "stream",
          "text": [
            "Model training in progress...:  45%|████▍     | 102/227 [00:16<00:19,  6.45it/s]"
          ]
        },
        {
          "metadata": {
            "tags": null
          },
          "name": "stdout",
          "output_type": "stream",
          "text": [
            "Batch sizes for English and German are torch.Size([27, 128]) and torch.Size([27, 128]) respectively.\n",
            "Batch sizes for English and German are torch.Size([27, 128]) and torch.Size([32, 128]) respectively.\n"
          ]
        },
        {
          "metadata": {
            "tags": null
          },
          "name": "stderr",
          "output_type": "stream",
          "text": [
            "Model training in progress...:  46%|████▌     | 104/227 [00:17<00:19,  6.37it/s]"
          ]
        },
        {
          "metadata": {
            "tags": null
          },
          "name": "stdout",
          "output_type": "stream",
          "text": [
            "Batch sizes for English and German are torch.Size([30, 128]) and torch.Size([30, 128]) respectively.\n",
            "Batch sizes for English and German are torch.Size([26, 128]) and torch.Size([24, 128]) respectively.\n"
          ]
        },
        {
          "metadata": {
            "tags": null
          },
          "name": "stderr",
          "output_type": "stream",
          "text": [
            "Model training in progress...:  47%|████▋     | 106/227 [00:17<00:19,  6.26it/s]"
          ]
        },
        {
          "metadata": {
            "tags": null
          },
          "name": "stdout",
          "output_type": "stream",
          "text": [
            "Batch sizes for English and German are torch.Size([33, 128]) and torch.Size([34, 128]) respectively.\n",
            "Batch sizes for English and German are torch.Size([29, 128]) and torch.Size([27, 128]) respectively.\n"
          ]
        },
        {
          "metadata": {
            "tags": null
          },
          "name": "stderr",
          "output_type": "stream",
          "text": [
            "Model training in progress...:  48%|████▊     | 108/227 [00:17<00:18,  6.37it/s]"
          ]
        },
        {
          "metadata": {
            "tags": null
          },
          "name": "stdout",
          "output_type": "stream",
          "text": [
            "Batch sizes for English and German are torch.Size([28, 128]) and torch.Size([25, 128]) respectively.\n",
            "Batch sizes for English and German are torch.Size([31, 128]) and torch.Size([30, 128]) respectively.\n"
          ]
        },
        {
          "metadata": {
            "tags": null
          },
          "name": "stderr",
          "output_type": "stream",
          "text": [
            "Model training in progress...:  48%|████▊     | 110/227 [00:18<00:18,  6.24it/s]"
          ]
        },
        {
          "metadata": {
            "tags": null
          },
          "name": "stdout",
          "output_type": "stream",
          "text": [
            "Batch sizes for English and German are torch.Size([29, 128]) and torch.Size([29, 128]) respectively.\n",
            "Batch sizes for English and German are torch.Size([41, 128]) and torch.Size([34, 128]) respectively.\n"
          ]
        },
        {
          "metadata": {
            "tags": null
          },
          "name": "stderr",
          "output_type": "stream",
          "text": [
            "Model training in progress...:  49%|████▉     | 112/227 [00:18<00:20,  5.51it/s]"
          ]
        },
        {
          "metadata": {
            "tags": null
          },
          "name": "stdout",
          "output_type": "stream",
          "text": [
            "Batch sizes for English and German are torch.Size([34, 128]) and torch.Size([33, 128]) respectively.\n",
            "Batch sizes for English and German are torch.Size([28, 128]) and torch.Size([29, 128]) respectively.\n"
          ]
        },
        {
          "metadata": {
            "tags": null
          },
          "name": "stderr",
          "output_type": "stream",
          "text": [
            "Model training in progress...:  50%|█████     | 114/227 [00:18<00:18,  5.97it/s]"
          ]
        },
        {
          "metadata": {
            "tags": null
          },
          "name": "stdout",
          "output_type": "stream",
          "text": [
            "Batch sizes for English and German are torch.Size([29, 128]) and torch.Size([27, 128]) respectively.\n",
            "Batch sizes for English and German are torch.Size([29, 128]) and torch.Size([31, 128]) respectively.\n"
          ]
        },
        {
          "metadata": {
            "tags": null
          },
          "name": "stderr",
          "output_type": "stream",
          "text": [
            "Model training in progress...:  51%|█████     | 116/227 [00:19<00:18,  6.15it/s]"
          ]
        },
        {
          "metadata": {
            "tags": null
          },
          "name": "stdout",
          "output_type": "stream",
          "text": [
            "Batch sizes for English and German are torch.Size([29, 128]) and torch.Size([31, 128]) respectively.\n",
            "Batch sizes for English and German are torch.Size([37, 128]) and torch.Size([38, 128]) respectively.\n"
          ]
        },
        {
          "metadata": {
            "tags": null
          },
          "name": "stderr",
          "output_type": "stream",
          "text": [
            "Model training in progress...:  52%|█████▏    | 118/227 [00:19<00:18,  5.82it/s]"
          ]
        },
        {
          "metadata": {
            "tags": null
          },
          "name": "stdout",
          "output_type": "stream",
          "text": [
            "Batch sizes for English and German are torch.Size([31, 128]) and torch.Size([28, 128]) respectively.\n",
            "Batch sizes for English and German are torch.Size([29, 128]) and torch.Size([27, 128]) respectively.\n"
          ]
        },
        {
          "metadata": {
            "tags": null
          },
          "name": "stderr",
          "output_type": "stream",
          "text": [
            "Model training in progress...:  53%|█████▎    | 120/227 [00:19<00:16,  6.40it/s]"
          ]
        },
        {
          "metadata": {
            "tags": null
          },
          "name": "stdout",
          "output_type": "stream",
          "text": [
            "Batch sizes for English and German are torch.Size([24, 128]) and torch.Size([24, 128]) respectively.\n",
            "Batch sizes for English and German are torch.Size([29, 128]) and torch.Size([26, 128]) respectively.\n"
          ]
        },
        {
          "metadata": {
            "tags": null
          },
          "name": "stderr",
          "output_type": "stream",
          "text": [
            "Model training in progress...:  54%|█████▎    | 122/227 [00:20<00:16,  6.56it/s]"
          ]
        },
        {
          "metadata": {
            "tags": null
          },
          "name": "stdout",
          "output_type": "stream",
          "text": [
            "Batch sizes for English and German are torch.Size([27, 128]) and torch.Size([25, 128]) respectively.\n",
            "Batch sizes for English and German are torch.Size([31, 128]) and torch.Size([27, 128]) respectively.\n"
          ]
        },
        {
          "metadata": {
            "tags": null
          },
          "name": "stderr",
          "output_type": "stream",
          "text": [
            "\rModel training in progress...:  54%|█████▍    | 123/227 [00:20<00:16,  6.38it/s]"
          ]
        },
        {
          "metadata": {
            "tags": null
          },
          "name": "stdout",
          "output_type": "stream",
          "text": [
            "Batch sizes for English and German are torch.Size([42, 128]) and torch.Size([45, 128]) respectively.\n"
          ]
        },
        {
          "metadata": {
            "tags": null
          },
          "name": "stderr",
          "output_type": "stream",
          "text": [
            "Model training in progress...:  55%|█████▌    | 125/227 [00:20<00:18,  5.44it/s]"
          ]
        },
        {
          "metadata": {
            "tags": null
          },
          "name": "stdout",
          "output_type": "stream",
          "text": [
            "Batch sizes for English and German are torch.Size([34, 128]) and torch.Size([30, 128]) respectively.\n",
            "Batch sizes for English and German are torch.Size([25, 128]) and torch.Size([27, 128]) respectively.\n"
          ]
        },
        {
          "metadata": {
            "tags": null
          },
          "name": "stderr",
          "output_type": "stream",
          "text": [
            "Model training in progress...:  56%|█████▌    | 127/227 [00:21<00:17,  5.76it/s]"
          ]
        },
        {
          "metadata": {
            "tags": null
          },
          "name": "stdout",
          "output_type": "stream",
          "text": [
            "Batch sizes for English and German are torch.Size([32, 128]) and torch.Size([35, 128]) respectively.\n",
            "Batch sizes for English and German are torch.Size([32, 128]) and torch.Size([28, 128]) respectively.\n"
          ]
        },
        {
          "metadata": {
            "tags": null
          },
          "name": "stderr",
          "output_type": "stream",
          "text": [
            "Model training in progress...:  57%|█████▋    | 129/227 [00:21<00:16,  5.81it/s]"
          ]
        },
        {
          "metadata": {
            "tags": null
          },
          "name": "stdout",
          "output_type": "stream",
          "text": [
            "Batch sizes for English and German are torch.Size([30, 128]) and torch.Size([30, 128]) respectively.\n",
            "Batch sizes for English and German are torch.Size([33, 128]) and torch.Size([31, 128]) respectively.\n"
          ]
        },
        {
          "metadata": {
            "tags": null
          },
          "name": "stderr",
          "output_type": "stream",
          "text": [
            "Model training in progress...:  58%|█████▊    | 131/227 [00:21<00:16,  5.89it/s]"
          ]
        },
        {
          "metadata": {
            "tags": null
          },
          "name": "stdout",
          "output_type": "stream",
          "text": [
            "Batch sizes for English and German are torch.Size([29, 128]) and torch.Size([25, 128]) respectively.\n",
            "Batch sizes for English and German are torch.Size([25, 128]) and torch.Size([28, 128]) respectively.\n"
          ]
        },
        {
          "metadata": {
            "tags": null
          },
          "name": "stderr",
          "output_type": "stream",
          "text": [
            "Model training in progress...:  59%|█████▊    | 133/227 [00:22<00:15,  6.20it/s]"
          ]
        },
        {
          "metadata": {
            "tags": null
          },
          "name": "stdout",
          "output_type": "stream",
          "text": [
            "Batch sizes for English and German are torch.Size([28, 128]) and torch.Size([27, 128]) respectively.\n",
            "Batch sizes for English and German are torch.Size([32, 128]) and torch.Size([32, 128]) respectively.\n"
          ]
        },
        {
          "metadata": {
            "tags": null
          },
          "name": "stderr",
          "output_type": "stream",
          "text": [
            "Model training in progress...:  59%|█████▉    | 135/227 [00:22<00:15,  5.98it/s]"
          ]
        },
        {
          "metadata": {
            "tags": null
          },
          "name": "stdout",
          "output_type": "stream",
          "text": [
            "Batch sizes for English and German are torch.Size([30, 128]) and torch.Size([31, 128]) respectively.\n",
            "Batch sizes for English and German are torch.Size([27, 128]) and torch.Size([27, 128]) respectively.\n"
          ]
        },
        {
          "metadata": {
            "tags": null
          },
          "name": "stderr",
          "output_type": "stream",
          "text": [
            "Model training in progress...:  60%|██████    | 137/227 [00:22<00:15,  5.93it/s]"
          ]
        },
        {
          "metadata": {
            "tags": null
          },
          "name": "stdout",
          "output_type": "stream",
          "text": [
            "Batch sizes for English and German are torch.Size([32, 128]) and torch.Size([37, 128]) respectively.\n",
            "Batch sizes for English and German are torch.Size([27, 128]) and torch.Size([28, 128]) respectively.\n"
          ]
        },
        {
          "metadata": {
            "tags": null
          },
          "name": "stderr",
          "output_type": "stream",
          "text": [
            "Model training in progress...:  61%|██████    | 139/227 [00:23<00:14,  6.08it/s]"
          ]
        },
        {
          "metadata": {
            "tags": null
          },
          "name": "stdout",
          "output_type": "stream",
          "text": [
            "Batch sizes for English and German are torch.Size([30, 128]) and torch.Size([31, 128]) respectively.\n",
            "Batch sizes for English and German are torch.Size([24, 128]) and torch.Size([27, 128]) respectively.\n"
          ]
        },
        {
          "metadata": {
            "tags": null
          },
          "name": "stderr",
          "output_type": "stream",
          "text": [
            "Model training in progress...:  62%|██████▏   | 141/227 [00:23<00:14,  6.07it/s]"
          ]
        },
        {
          "metadata": {
            "tags": null
          },
          "name": "stdout",
          "output_type": "stream",
          "text": [
            "Batch sizes for English and German are torch.Size([34, 128]) and torch.Size([29, 128]) respectively.\n",
            "Batch sizes for English and German are torch.Size([30, 128]) and torch.Size([27, 128]) respectively.\n"
          ]
        },
        {
          "metadata": {
            "tags": null
          },
          "name": "stderr",
          "output_type": "stream",
          "text": [
            "Model training in progress...:  63%|██████▎   | 143/227 [00:23<00:14,  6.00it/s]"
          ]
        },
        {
          "metadata": {
            "tags": null
          },
          "name": "stdout",
          "output_type": "stream",
          "text": [
            "Batch sizes for English and German are torch.Size([31, 128]) and torch.Size([34, 128]) respectively.\n",
            "Batch sizes for English and German are torch.Size([33, 128]) and torch.Size([25, 128]) respectively.\n"
          ]
        },
        {
          "metadata": {
            "tags": null
          },
          "name": "stderr",
          "output_type": "stream",
          "text": [
            "Model training in progress...:  64%|██████▍   | 145/227 [00:24<00:13,  6.10it/s]"
          ]
        },
        {
          "metadata": {
            "tags": null
          },
          "name": "stdout",
          "output_type": "stream",
          "text": [
            "Batch sizes for English and German are torch.Size([27, 128]) and torch.Size([30, 128]) respectively.\n",
            "Batch sizes for English and German are torch.Size([31, 128]) and torch.Size([28, 128]) respectively.\n"
          ]
        },
        {
          "metadata": {
            "tags": null
          },
          "name": "stderr",
          "output_type": "stream",
          "text": [
            "Model training in progress...:  65%|██████▍   | 147/227 [00:24<00:13,  5.95it/s]"
          ]
        },
        {
          "metadata": {
            "tags": null
          },
          "name": "stdout",
          "output_type": "stream",
          "text": [
            "Batch sizes for English and German are torch.Size([31, 128]) and torch.Size([31, 128]) respectively.\n",
            "Batch sizes for English and German are torch.Size([26, 128]) and torch.Size([27, 128]) respectively.\n"
          ]
        },
        {
          "metadata": {
            "tags": null
          },
          "name": "stderr",
          "output_type": "stream",
          "text": [
            "Model training in progress...:  66%|██████▌   | 149/227 [00:24<00:13,  5.81it/s]"
          ]
        },
        {
          "metadata": {
            "tags": null
          },
          "name": "stdout",
          "output_type": "stream",
          "text": [
            "Batch sizes for English and German are torch.Size([37, 128]) and torch.Size([31, 128]) respectively.\n",
            "Batch sizes for English and German are torch.Size([32, 128]) and torch.Size([36, 128]) respectively.\n"
          ]
        },
        {
          "metadata": {
            "tags": null
          },
          "name": "stderr",
          "output_type": "stream",
          "text": [
            "Model training in progress...:  67%|██████▋   | 151/227 [00:25<00:12,  6.16it/s]"
          ]
        },
        {
          "metadata": {
            "tags": null
          },
          "name": "stdout",
          "output_type": "stream",
          "text": [
            "Batch sizes for English and German are torch.Size([24, 128]) and torch.Size([29, 128]) respectively.\n",
            "Batch sizes for English and German are torch.Size([34, 128]) and torch.Size([31, 128]) respectively.\n"
          ]
        },
        {
          "metadata": {
            "tags": null
          },
          "name": "stderr",
          "output_type": "stream",
          "text": [
            "Model training in progress...:  67%|██████▋   | 153/227 [00:25<00:12,  5.91it/s]"
          ]
        },
        {
          "metadata": {
            "tags": null
          },
          "name": "stdout",
          "output_type": "stream",
          "text": [
            "Batch sizes for English and German are torch.Size([31, 128]) and torch.Size([30, 128]) respectively.\n",
            "Batch sizes for English and German are torch.Size([24, 128]) and torch.Size([24, 128]) respectively.\n"
          ]
        },
        {
          "metadata": {
            "tags": null
          },
          "name": "stderr",
          "output_type": "stream",
          "text": [
            "Model training in progress...:  68%|██████▊   | 155/227 [00:25<00:11,  6.50it/s]"
          ]
        },
        {
          "metadata": {
            "tags": null
          },
          "name": "stdout",
          "output_type": "stream",
          "text": [
            "Batch sizes for English and German are torch.Size([27, 128]) and torch.Size([29, 128]) respectively.\n",
            "Batch sizes for English and German are torch.Size([32, 128]) and torch.Size([28, 128]) respectively.\n"
          ]
        },
        {
          "metadata": {
            "tags": null
          },
          "name": "stderr",
          "output_type": "stream",
          "text": [
            "Model training in progress...:  69%|██████▉   | 157/227 [00:25<00:10,  6.51it/s]"
          ]
        },
        {
          "metadata": {
            "tags": null
          },
          "name": "stdout",
          "output_type": "stream",
          "text": [
            "Batch sizes for English and German are torch.Size([25, 128]) and torch.Size([31, 128]) respectively.\n",
            "Batch sizes for English and German are torch.Size([30, 128]) and torch.Size([26, 128]) respectively.\n"
          ]
        },
        {
          "metadata": {
            "tags": null
          },
          "name": "stderr",
          "output_type": "stream",
          "text": [
            "Model training in progress...:  70%|███████   | 159/227 [00:26<00:10,  6.49it/s]"
          ]
        },
        {
          "metadata": {
            "tags": null
          },
          "name": "stdout",
          "output_type": "stream",
          "text": [
            "Batch sizes for English and German are torch.Size([27, 128]) and torch.Size([30, 128]) respectively.\n",
            "Batch sizes for English and German are torch.Size([31, 128]) and torch.Size([27, 128]) respectively.\n"
          ]
        },
        {
          "metadata": {
            "tags": null
          },
          "name": "stderr",
          "output_type": "stream",
          "text": [
            "Model training in progress...:  71%|███████   | 161/227 [00:26<00:10,  6.33it/s]"
          ]
        },
        {
          "metadata": {
            "tags": null
          },
          "name": "stdout",
          "output_type": "stream",
          "text": [
            "Batch sizes for English and German are torch.Size([29, 128]) and torch.Size([32, 128]) respectively.\n",
            "Batch sizes for English and German are torch.Size([28, 128]) and torch.Size([30, 128]) respectively.\n"
          ]
        },
        {
          "metadata": {
            "tags": null
          },
          "name": "stderr",
          "output_type": "stream",
          "text": [
            "Model training in progress...:  72%|███████▏  | 163/227 [00:26<00:10,  5.95it/s]"
          ]
        },
        {
          "metadata": {
            "tags": null
          },
          "name": "stdout",
          "output_type": "stream",
          "text": [
            "Batch sizes for English and German are torch.Size([36, 128]) and torch.Size([38, 128]) respectively.\n",
            "Batch sizes for English and German are torch.Size([26, 128]) and torch.Size([28, 128]) respectively.\n"
          ]
        },
        {
          "metadata": {
            "tags": null
          },
          "name": "stderr",
          "output_type": "stream",
          "text": [
            "Model training in progress...:  73%|███████▎  | 165/227 [00:27<00:09,  6.29it/s]"
          ]
        },
        {
          "metadata": {
            "tags": null
          },
          "name": "stdout",
          "output_type": "stream",
          "text": [
            "Batch sizes for English and German are torch.Size([29, 128]) and torch.Size([27, 128]) respectively.\n",
            "Batch sizes for English and German are torch.Size([36, 128]) and torch.Size([31, 128]) respectively.\n"
          ]
        },
        {
          "metadata": {
            "tags": null
          },
          "name": "stderr",
          "output_type": "stream",
          "text": [
            "Model training in progress...:  74%|███████▎  | 167/227 [00:27<00:09,  6.04it/s]"
          ]
        },
        {
          "metadata": {
            "tags": null
          },
          "name": "stdout",
          "output_type": "stream",
          "text": [
            "Batch sizes for English and German are torch.Size([28, 128]) and torch.Size([27, 128]) respectively.\n",
            "Batch sizes for English and German are torch.Size([27, 128]) and torch.Size([29, 128]) respectively.\n"
          ]
        },
        {
          "metadata": {
            "tags": null
          },
          "name": "stderr",
          "output_type": "stream",
          "text": [
            "Model training in progress...:  74%|███████▍  | 169/227 [00:27<00:08,  6.45it/s]"
          ]
        },
        {
          "metadata": {
            "tags": null
          },
          "name": "stdout",
          "output_type": "stream",
          "text": [
            "Batch sizes for English and German are torch.Size([26, 128]) and torch.Size([25, 128]) respectively.\n",
            "Batch sizes for English and German are torch.Size([26, 128]) and torch.Size([29, 128]) respectively.\n"
          ]
        },
        {
          "metadata": {
            "tags": null
          },
          "name": "stderr",
          "output_type": "stream",
          "text": [
            "Model training in progress...:  75%|███████▌  | 171/227 [00:28<00:09,  6.13it/s]"
          ]
        },
        {
          "metadata": {
            "tags": null
          },
          "name": "stdout",
          "output_type": "stream",
          "text": [
            "Batch sizes for English and German are torch.Size([34, 128]) and torch.Size([33, 128]) respectively.\n",
            "Batch sizes for English and German are torch.Size([27, 128]) and torch.Size([32, 128]) respectively.\n"
          ]
        },
        {
          "metadata": {
            "tags": null
          },
          "name": "stderr",
          "output_type": "stream",
          "text": [
            "Model training in progress...:  76%|███████▌  | 173/227 [00:28<00:08,  6.37it/s]"
          ]
        },
        {
          "metadata": {
            "tags": null
          },
          "name": "stdout",
          "output_type": "stream",
          "text": [
            "Batch sizes for English and German are torch.Size([28, 128]) and torch.Size([31, 128]) respectively.\n",
            "Batch sizes for English and German are torch.Size([28, 128]) and torch.Size([29, 128]) respectively.\n"
          ]
        },
        {
          "metadata": {
            "tags": null
          },
          "name": "stderr",
          "output_type": "stream",
          "text": [
            "Model training in progress...:  77%|███████▋  | 175/227 [00:28<00:08,  6.35it/s]"
          ]
        },
        {
          "metadata": {
            "tags": null
          },
          "name": "stdout",
          "output_type": "stream",
          "text": [
            "Batch sizes for English and German are torch.Size([30, 128]) and torch.Size([33, 128]) respectively.\n",
            "Batch sizes for English and German are torch.Size([29, 128]) and torch.Size([28, 128]) respectively.\n"
          ]
        },
        {
          "metadata": {
            "tags": null
          },
          "name": "stderr",
          "output_type": "stream",
          "text": [
            "Model training in progress...:  78%|███████▊  | 177/227 [00:29<00:08,  6.19it/s]"
          ]
        },
        {
          "metadata": {
            "tags": null
          },
          "name": "stdout",
          "output_type": "stream",
          "text": [
            "Batch sizes for English and German are torch.Size([32, 128]) and torch.Size([26, 128]) respectively.\n",
            "Batch sizes for English and German are torch.Size([29, 128]) and torch.Size([26, 128]) respectively.\n"
          ]
        },
        {
          "metadata": {
            "tags": null
          },
          "name": "stderr",
          "output_type": "stream",
          "text": [
            "Model training in progress...:  79%|███████▉  | 179/227 [00:29<00:07,  6.01it/s]"
          ]
        },
        {
          "metadata": {
            "tags": null
          },
          "name": "stdout",
          "output_type": "stream",
          "text": [
            "Batch sizes for English and German are torch.Size([34, 128]) and torch.Size([34, 128]) respectively.\n",
            "Batch sizes for English and German are torch.Size([26, 128]) and torch.Size([26, 128]) respectively.\n"
          ]
        },
        {
          "metadata": {
            "tags": null
          },
          "name": "stderr",
          "output_type": "stream",
          "text": [
            "Model training in progress...:  80%|███████▉  | 181/227 [00:29<00:06,  6.61it/s]"
          ]
        },
        {
          "metadata": {
            "tags": null
          },
          "name": "stdout",
          "output_type": "stream",
          "text": [
            "Batch sizes for English and German are torch.Size([24, 128]) and torch.Size([26, 128]) respectively.\n",
            "Batch sizes for English and German are torch.Size([36, 128]) and torch.Size([37, 128]) respectively.\n"
          ]
        },
        {
          "metadata": {
            "tags": null
          },
          "name": "stderr",
          "output_type": "stream",
          "text": [
            "Model training in progress...:  81%|████████  | 183/227 [00:30<00:06,  6.37it/s]"
          ]
        },
        {
          "metadata": {
            "tags": null
          },
          "name": "stdout",
          "output_type": "stream",
          "text": [
            "Batch sizes for English and German are torch.Size([26, 128]) and torch.Size([25, 128]) respectively.\n",
            "Batch sizes for English and German are torch.Size([27, 128]) and torch.Size([31, 128]) respectively.\n"
          ]
        },
        {
          "metadata": {
            "tags": null
          },
          "name": "stderr",
          "output_type": "stream",
          "text": [
            "Model training in progress...:  81%|████████▏ | 185/227 [00:30<00:07,  5.82it/s]"
          ]
        },
        {
          "metadata": {
            "tags": null
          },
          "name": "stdout",
          "output_type": "stream",
          "text": [
            "Batch sizes for English and German are torch.Size([38, 128]) and torch.Size([36, 128]) respectively.\n"
          ]
        },
        {
          "metadata": {
            "tags": null
          },
          "name": "stderr",
          "output_type": "stream",
          "text": [
            "\rModel training in progress...:  82%|████████▏ | 186/227 [00:30<00:07,  5.81it/s]"
          ]
        },
        {
          "metadata": {
            "tags": null
          },
          "name": "stdout",
          "output_type": "stream",
          "text": [
            "Batch sizes for English and German are torch.Size([31, 128]) and torch.Size([30, 128]) respectively.\n",
            "Batch sizes for English and German are torch.Size([35, 128]) and torch.Size([35, 128]) respectively.\n"
          ]
        },
        {
          "metadata": {
            "tags": null
          },
          "name": "stderr",
          "output_type": "stream",
          "text": [
            "Model training in progress...:  83%|████████▎ | 188/227 [00:31<00:06,  5.93it/s]"
          ]
        },
        {
          "metadata": {
            "tags": null
          },
          "name": "stdout",
          "output_type": "stream",
          "text": [
            "Batch sizes for English and German are torch.Size([27, 128]) and torch.Size([28, 128]) respectively.\n",
            "Batch sizes for English and German are torch.Size([35, 128]) and torch.Size([33, 128]) respectively.\n"
          ]
        },
        {
          "metadata": {
            "tags": null
          },
          "name": "stderr",
          "output_type": "stream",
          "text": [
            "Model training in progress...:  84%|████████▎ | 190/227 [00:31<00:06,  5.45it/s]"
          ]
        },
        {
          "metadata": {
            "tags": null
          },
          "name": "stdout",
          "output_type": "stream",
          "text": [
            "Batch sizes for English and German are torch.Size([38, 128]) and torch.Size([28, 128]) respectively.\n"
          ]
        },
        {
          "metadata": {
            "tags": null
          },
          "name": "stderr",
          "output_type": "stream",
          "text": [
            "\rModel training in progress...:  84%|████████▍ | 191/227 [00:31<00:06,  5.89it/s]"
          ]
        },
        {
          "metadata": {
            "tags": null
          },
          "name": "stdout",
          "output_type": "stream",
          "text": [
            "Batch sizes for English and German are torch.Size([25, 128]) and torch.Size([26, 128]) respectively.\n",
            "Batch sizes for English and German are torch.Size([34, 128]) and torch.Size([33, 128]) respectively.\n"
          ]
        },
        {
          "metadata": {
            "tags": null
          },
          "name": "stderr",
          "output_type": "stream",
          "text": [
            "Model training in progress...:  85%|████████▌ | 193/227 [00:31<00:05,  5.76it/s]"
          ]
        },
        {
          "metadata": {
            "tags": null
          },
          "name": "stdout",
          "output_type": "stream",
          "text": [
            "Batch sizes for English and German are torch.Size([31, 128]) and torch.Size([27, 128]) respectively.\n",
            "Batch sizes for English and German are torch.Size([24, 128]) and torch.Size([24, 128]) respectively.\n"
          ]
        },
        {
          "metadata": {
            "tags": null
          },
          "name": "stderr",
          "output_type": "stream",
          "text": [
            "Model training in progress...:  86%|████████▌ | 195/227 [00:32<00:05,  6.16it/s]"
          ]
        },
        {
          "metadata": {
            "tags": null
          },
          "name": "stdout",
          "output_type": "stream",
          "text": [
            "Batch sizes for English and German are torch.Size([29, 128]) and torch.Size([32, 128]) respectively.\n",
            "Batch sizes for English and German are torch.Size([26, 128]) and torch.Size([28, 128]) respectively.\n"
          ]
        },
        {
          "metadata": {
            "tags": null
          },
          "name": "stderr",
          "output_type": "stream",
          "text": [
            "Model training in progress...:  87%|████████▋ | 197/227 [00:32<00:04,  6.42it/s]"
          ]
        },
        {
          "metadata": {
            "tags": null
          },
          "name": "stdout",
          "output_type": "stream",
          "text": [
            "Batch sizes for English and German are torch.Size([28, 128]) and torch.Size([28, 128]) respectively.\n",
            "Batch sizes for English and German are torch.Size([40, 128]) and torch.Size([37, 128]) respectively.\n"
          ]
        },
        {
          "metadata": {
            "tags": null
          },
          "name": "stderr",
          "output_type": "stream",
          "text": [
            "Model training in progress...:  88%|████████▊ | 199/227 [00:32<00:04,  5.67it/s]"
          ]
        },
        {
          "metadata": {
            "tags": null
          },
          "name": "stdout",
          "output_type": "stream",
          "text": [
            "Batch sizes for English and German are torch.Size([33, 128]) and torch.Size([33, 128]) respectively.\n",
            "Batch sizes for English and German are torch.Size([28, 128]) and torch.Size([27, 128]) respectively.\n"
          ]
        },
        {
          "metadata": {
            "tags": null
          },
          "name": "stderr",
          "output_type": "stream",
          "text": [
            "Model training in progress...:  89%|████████▊ | 201/227 [00:33<00:04,  5.90it/s]"
          ]
        },
        {
          "metadata": {
            "tags": null
          },
          "name": "stdout",
          "output_type": "stream",
          "text": [
            "Batch sizes for English and German are torch.Size([30, 128]) and torch.Size([31, 128]) respectively.\n",
            "Batch sizes for English and German are torch.Size([26, 128]) and torch.Size([28, 128]) respectively.\n"
          ]
        },
        {
          "metadata": {
            "tags": null
          },
          "name": "stderr",
          "output_type": "stream",
          "text": [
            "Model training in progress...:  89%|████████▉ | 203/227 [00:33<00:03,  6.17it/s]"
          ]
        },
        {
          "metadata": {
            "tags": null
          },
          "name": "stdout",
          "output_type": "stream",
          "text": [
            "Batch sizes for English and German are torch.Size([28, 128]) and torch.Size([27, 128]) respectively.\n",
            "Batch sizes for English and German are torch.Size([30, 128]) and torch.Size([33, 128]) respectively.\n"
          ]
        },
        {
          "metadata": {
            "tags": null
          },
          "name": "stderr",
          "output_type": "stream",
          "text": [
            "Model training in progress...:  90%|█████████ | 205/227 [00:33<00:03,  6.06it/s]"
          ]
        },
        {
          "metadata": {
            "tags": null
          },
          "name": "stdout",
          "output_type": "stream",
          "text": [
            "Batch sizes for English and German are torch.Size([30, 128]) and torch.Size([29, 128]) respectively.\n",
            "Batch sizes for English and German are torch.Size([33, 128]) and torch.Size([30, 128]) respectively.\n"
          ]
        },
        {
          "metadata": {
            "tags": null
          },
          "name": "stderr",
          "output_type": "stream",
          "text": [
            "Model training in progress...:  91%|█████████ | 207/227 [00:34<00:03,  5.73it/s]"
          ]
        },
        {
          "metadata": {
            "tags": null
          },
          "name": "stdout",
          "output_type": "stream",
          "text": [
            "Batch sizes for English and German are torch.Size([33, 128]) and torch.Size([30, 128]) respectively.\n",
            "Batch sizes for English and German are torch.Size([26, 128]) and torch.Size([29, 128]) respectively.\n"
          ]
        },
        {
          "metadata": {
            "tags": null
          },
          "name": "stderr",
          "output_type": "stream",
          "text": [
            "Model training in progress...:  92%|█████████▏| 209/227 [00:34<00:03,  5.83it/s]"
          ]
        },
        {
          "metadata": {
            "tags": null
          },
          "name": "stdout",
          "output_type": "stream",
          "text": [
            "Batch sizes for English and German are torch.Size([32, 128]) and torch.Size([36, 128]) respectively.\n",
            "Batch sizes for English and German are torch.Size([36, 128]) and torch.Size([33, 128]) respectively.\n"
          ]
        },
        {
          "metadata": {
            "tags": null
          },
          "name": "stderr",
          "output_type": "stream",
          "text": [
            "Model training in progress...:  93%|█████████▎| 211/227 [00:34<00:02,  5.84it/s]"
          ]
        },
        {
          "metadata": {
            "tags": null
          },
          "name": "stdout",
          "output_type": "stream",
          "text": [
            "Batch sizes for English and German are torch.Size([28, 128]) and torch.Size([24, 128]) respectively.\n",
            "Batch sizes for English and German are torch.Size([27, 128]) and torch.Size([30, 128]) respectively.\n"
          ]
        },
        {
          "metadata": {
            "tags": null
          },
          "name": "stderr",
          "output_type": "stream",
          "text": [
            "Model training in progress...:  94%|█████████▍| 213/227 [00:35<00:02,  5.58it/s]"
          ]
        },
        {
          "metadata": {
            "tags": null
          },
          "name": "stdout",
          "output_type": "stream",
          "text": [
            "Batch sizes for English and German are torch.Size([37, 128]) and torch.Size([38, 128]) respectively.\n"
          ]
        },
        {
          "metadata": {
            "tags": null
          },
          "name": "stderr",
          "output_type": "stream",
          "text": [
            "\rModel training in progress...:  94%|█████████▍| 214/227 [00:35<00:02,  5.64it/s]"
          ]
        },
        {
          "metadata": {
            "tags": null
          },
          "name": "stdout",
          "output_type": "stream",
          "text": [
            "Batch sizes for English and German are torch.Size([32, 128]) and torch.Size([28, 128]) respectively.\n",
            "Batch sizes for English and German are torch.Size([33, 128]) and torch.Size([35, 128]) respectively.\n"
          ]
        },
        {
          "metadata": {
            "tags": null
          },
          "name": "stderr",
          "output_type": "stream",
          "text": [
            "Model training in progress...:  95%|█████████▌| 216/227 [00:35<00:01,  5.59it/s]"
          ]
        },
        {
          "metadata": {
            "tags": null
          },
          "name": "stdout",
          "output_type": "stream",
          "text": [
            "Batch sizes for English and German are torch.Size([31, 128]) and torch.Size([36, 128]) respectively.\n",
            "Batch sizes for English and German are torch.Size([35, 128]) and torch.Size([33, 128]) respectively.\n"
          ]
        },
        {
          "metadata": {
            "tags": null
          },
          "name": "stderr",
          "output_type": "stream",
          "text": [
            "Model training in progress...:  96%|█████████▌| 218/227 [00:36<00:01,  5.54it/s]"
          ]
        },
        {
          "metadata": {
            "tags": null
          },
          "name": "stdout",
          "output_type": "stream",
          "text": [
            "Batch sizes for English and German are torch.Size([32, 128]) and torch.Size([36, 128]) respectively.\n",
            "Batch sizes for English and German are torch.Size([31, 128]) and torch.Size([28, 128]) respectively.\n"
          ]
        },
        {
          "metadata": {
            "tags": null
          },
          "name": "stderr",
          "output_type": "stream",
          "text": [
            "Model training in progress...:  97%|█████████▋| 220/227 [00:36<00:01,  5.83it/s]"
          ]
        },
        {
          "metadata": {
            "tags": null
          },
          "name": "stdout",
          "output_type": "stream",
          "text": [
            "Batch sizes for English and German are torch.Size([30, 128]) and torch.Size([24, 128]) respectively.\n",
            "Batch sizes for English and German are torch.Size([31, 128]) and torch.Size([29, 128]) respectively.\n"
          ]
        },
        {
          "metadata": {
            "tags": null
          },
          "name": "stderr",
          "output_type": "stream",
          "text": [
            "Model training in progress...:  98%|█████████▊| 222/227 [00:36<00:00,  5.65it/s]"
          ]
        },
        {
          "metadata": {
            "tags": null
          },
          "name": "stdout",
          "output_type": "stream",
          "text": [
            "Batch sizes for English and German are torch.Size([36, 128]) and torch.Size([31, 128]) respectively.\n",
            "Batch sizes for English and German are torch.Size([31, 128]) and torch.Size([34, 128]) respectively.\n"
          ]
        },
        {
          "metadata": {
            "tags": null
          },
          "name": "stderr",
          "output_type": "stream",
          "text": [
            "Model training in progress...:  99%|█████████▊| 224/227 [00:37<00:00,  5.55it/s]"
          ]
        },
        {
          "metadata": {
            "tags": null
          },
          "name": "stdout",
          "output_type": "stream",
          "text": [
            "Batch sizes for English and German are torch.Size([34, 128]) and torch.Size([30, 128]) respectively.\n",
            "Batch sizes for English and German are torch.Size([28, 128]) and torch.Size([26, 128]) respectively.\n"
          ]
        },
        {
          "metadata": {
            "tags": null
          },
          "name": "stderr",
          "output_type": "stream",
          "text": [
            "Model training in progress...: 100%|█████████▉| 226/227 [00:37<00:00,  5.94it/s]"
          ]
        },
        {
          "metadata": {
            "tags": null
          },
          "name": "stdout",
          "output_type": "stream",
          "text": [
            "Batch sizes for English and German are torch.Size([29, 128]) and torch.Size([28, 128]) respectively.\n",
            "Batch sizes for English and German are torch.Size([32, 72]) and torch.Size([30, 72]) respectively.\n"
          ]
        },
        {
          "metadata": {
            "tags": null
          },
          "name": "stderr",
          "output_type": "stream",
          "text": [
            "Model training in progress...: 100%|██████████| 227/227 [00:37<00:00,  6.02it/s]\n",
            "Model validation in progress...:  25%|██▌       | 2/8 [00:00<00:00, 12.65it/s]"
          ]
        },
        {
          "metadata": {
            "tags": null
          },
          "name": "stdout",
          "output_type": "stream",
          "text": [
            "Batch sizes for English and German are torch.Size([33, 128]) and torch.Size([34, 128]) respectively.\n",
            "Batch sizes for English and German are torch.Size([31, 128]) and torch.Size([30, 128]) respectively.\n",
            "Batch sizes for English and German are torch.Size([27, 128]) and torch.Size([35, 128]) respectively.\n"
          ]
        },
        {
          "metadata": {
            "tags": null
          },
          "name": "stderr",
          "output_type": "stream",
          "text": [
            "\rModel validation in progress...:  50%|█████     | 4/8 [00:00<00:00, 13.03it/s]"
          ]
        },
        {
          "metadata": {
            "tags": null
          },
          "name": "stdout",
          "output_type": "stream",
          "text": [
            "Batch sizes for English and German are torch.Size([34, 128]) and torch.Size([30, 128]) respectively.\n",
            "Batch sizes for English and German are torch.Size([30, 128]) and torch.Size([32, 128]) respectively.\n",
            "Batch sizes for English and German are torch.Size([32, 128]) and torch.Size([30, 128]) respectively.\n"
          ]
        },
        {
          "metadata": {
            "tags": null
          },
          "name": "stderr",
          "output_type": "stream",
          "text": [
            "Model validation in progress...: 100%|██████████| 8/8 [00:00<00:00, 13.61it/s]\n"
          ]
        },
        {
          "metadata": {
            "tags": null
          },
          "name": "stdout",
          "output_type": "stream",
          "text": [
            "Batch sizes for English and German are torch.Size([26, 128]) and torch.Size([24, 128]) respectively.\n",
            "Batch sizes for English and German are torch.Size([30, 118]) and torch.Size([31, 118]) respectively.\n",
            "Epoch: 1\n",
            "Training loss: 4.460\n",
            "Validation loss: 4.838\n",
            "\n",
            "\n"
          ]
        },
        {
          "metadata": {
            "tags": null
          },
          "name": "stderr",
          "output_type": "stream",
          "text": [
            "Model training in progress...:   0%|          | 1/227 [00:00<00:38,  5.80it/s]"
          ]
        },
        {
          "metadata": {
            "tags": null
          },
          "name": "stdout",
          "output_type": "stream",
          "text": [
            "Batch sizes for English and German are torch.Size([31, 128]) and torch.Size([30, 128]) respectively.\n",
            "Batch sizes for English and German are torch.Size([28, 128]) and torch.Size([37, 128]) respectively.\n"
          ]
        },
        {
          "metadata": {
            "tags": null
          },
          "name": "stderr",
          "output_type": "stream",
          "text": [
            "Model training in progress...:   1%|▏         | 3/227 [00:00<00:35,  6.28it/s]"
          ]
        },
        {
          "metadata": {
            "tags": null
          },
          "name": "stdout",
          "output_type": "stream",
          "text": [
            "Batch sizes for English and German are torch.Size([28, 128]) and torch.Size([25, 128]) respectively.\n",
            "Batch sizes for English and German are torch.Size([29, 128]) and torch.Size([26, 128]) respectively.\n"
          ]
        },
        {
          "metadata": {
            "tags": null
          },
          "name": "stderr",
          "output_type": "stream",
          "text": [
            "Model training in progress...:   2%|▏         | 5/227 [00:00<00:33,  6.61it/s]"
          ]
        },
        {
          "metadata": {
            "tags": null
          },
          "name": "stdout",
          "output_type": "stream",
          "text": [
            "Batch sizes for English and German are torch.Size([25, 128]) and torch.Size([25, 128]) respectively.\n",
            "Batch sizes for English and German are torch.Size([29, 128]) and torch.Size([29, 128]) respectively.\n"
          ]
        },
        {
          "metadata": {
            "tags": null
          },
          "name": "stderr",
          "output_type": "stream",
          "text": [
            "Model training in progress...:   3%|▎         | 7/227 [00:01<00:33,  6.63it/s]"
          ]
        },
        {
          "metadata": {
            "tags": null
          },
          "name": "stdout",
          "output_type": "stream",
          "text": [
            "Batch sizes for English and German are torch.Size([26, 128]) and torch.Size([33, 128]) respectively.\n",
            "Batch sizes for English and German are torch.Size([41, 128]) and torch.Size([37, 128]) respectively.\n"
          ]
        },
        {
          "metadata": {
            "tags": null
          },
          "name": "stderr",
          "output_type": "stream",
          "text": [
            "Model training in progress...:   4%|▍         | 9/227 [00:01<00:37,  5.78it/s]"
          ]
        },
        {
          "metadata": {
            "tags": null
          },
          "name": "stdout",
          "output_type": "stream",
          "text": [
            "Batch sizes for English and German are torch.Size([32, 128]) and torch.Size([28, 128]) respectively.\n",
            "Batch sizes for English and German are torch.Size([26, 128]) and torch.Size([30, 128]) respectively.\n"
          ]
        },
        {
          "metadata": {
            "tags": null
          },
          "name": "stderr",
          "output_type": "stream",
          "text": [
            "Model training in progress...:   5%|▍         | 11/227 [00:01<00:35,  6.07it/s]"
          ]
        },
        {
          "metadata": {
            "tags": null
          },
          "name": "stdout",
          "output_type": "stream",
          "text": [
            "Batch sizes for English and German are torch.Size([30, 128]) and torch.Size([29, 128]) respectively.\n",
            "Batch sizes for English and German are torch.Size([27, 128]) and torch.Size([27, 128]) respectively.\n"
          ]
        },
        {
          "metadata": {
            "tags": null
          },
          "name": "stderr",
          "output_type": "stream",
          "text": [
            "Model training in progress...:   6%|▌         | 13/227 [00:02<00:34,  6.21it/s]"
          ]
        },
        {
          "metadata": {
            "tags": null
          },
          "name": "stdout",
          "output_type": "stream",
          "text": [
            "Batch sizes for English and German are torch.Size([30, 128]) and torch.Size([30, 128]) respectively.\n",
            "Batch sizes for English and German are torch.Size([29, 128]) and torch.Size([31, 128]) respectively.\n"
          ]
        },
        {
          "metadata": {
            "tags": null
          },
          "name": "stderr",
          "output_type": "stream",
          "text": [
            "Model training in progress...:   7%|▋         | 15/227 [00:02<00:32,  6.52it/s]"
          ]
        },
        {
          "metadata": {
            "tags": null
          },
          "name": "stdout",
          "output_type": "stream",
          "text": [
            "Batch sizes for English and German are torch.Size([26, 128]) and torch.Size([26, 128]) respectively.\n",
            "Batch sizes for English and German are torch.Size([26, 128]) and torch.Size([24, 128]) respectively.\n"
          ]
        },
        {
          "metadata": {
            "tags": null
          },
          "name": "stderr",
          "output_type": "stream",
          "text": [
            "Model training in progress...:   7%|▋         | 17/227 [00:02<00:32,  6.45it/s]"
          ]
        },
        {
          "metadata": {
            "tags": null
          },
          "name": "stdout",
          "output_type": "stream",
          "text": [
            "Batch sizes for English and German are torch.Size([31, 128]) and torch.Size([30, 128]) respectively.\n",
            "Batch sizes for English and German are torch.Size([41, 128]) and torch.Size([46, 128]) respectively.\n"
          ]
        },
        {
          "metadata": {
            "tags": null
          },
          "name": "stderr",
          "output_type": "stream",
          "text": [
            "Model training in progress...:   8%|▊         | 19/227 [00:03<00:36,  5.75it/s]"
          ]
        },
        {
          "metadata": {
            "tags": null
          },
          "name": "stdout",
          "output_type": "stream",
          "text": [
            "Batch sizes for English and German are torch.Size([30, 128]) and torch.Size([28, 128]) respectively.\n",
            "Batch sizes for English and German are torch.Size([43, 128]) and torch.Size([38, 128]) respectively.\n"
          ]
        },
        {
          "metadata": {
            "tags": null
          },
          "name": "stderr",
          "output_type": "stream",
          "text": [
            "Model training in progress...:   9%|▉         | 21/227 [00:03<00:37,  5.55it/s]"
          ]
        },
        {
          "metadata": {
            "tags": null
          },
          "name": "stdout",
          "output_type": "stream",
          "text": [
            "Batch sizes for English and German are torch.Size([28, 128]) and torch.Size([24, 128]) respectively.\n",
            "Batch sizes for English and German are torch.Size([28, 128]) and torch.Size([27, 128]) respectively.\n"
          ]
        },
        {
          "metadata": {
            "tags": null
          },
          "name": "stderr",
          "output_type": "stream",
          "text": [
            "Model training in progress...:  10%|█         | 23/227 [00:03<00:34,  5.99it/s]"
          ]
        },
        {
          "metadata": {
            "tags": null
          },
          "name": "stdout",
          "output_type": "stream",
          "text": [
            "Batch sizes for English and German are torch.Size([29, 128]) and torch.Size([28, 128]) respectively.\n",
            "Batch sizes for English and German are torch.Size([26, 128]) and torch.Size([26, 128]) respectively.\n"
          ]
        },
        {
          "metadata": {
            "tags": null
          },
          "name": "stderr",
          "output_type": "stream",
          "text": [
            "Model training in progress...:  11%|█         | 25/227 [00:04<00:31,  6.50it/s]"
          ]
        },
        {
          "metadata": {
            "tags": null
          },
          "name": "stdout",
          "output_type": "stream",
          "text": [
            "Batch sizes for English and German are torch.Size([26, 128]) and torch.Size([29, 128]) respectively.\n",
            "Batch sizes for English and German are torch.Size([28, 128]) and torch.Size([29, 128]) respectively.\n"
          ]
        },
        {
          "metadata": {
            "tags": null
          },
          "name": "stderr",
          "output_type": "stream",
          "text": [
            "Model training in progress...:  12%|█▏        | 27/227 [00:04<00:30,  6.57it/s]"
          ]
        },
        {
          "metadata": {
            "tags": null
          },
          "name": "stdout",
          "output_type": "stream",
          "text": [
            "Batch sizes for English and German are torch.Size([28, 128]) and torch.Size([28, 128]) respectively.\n",
            "Batch sizes for English and German are torch.Size([34, 128]) and torch.Size([26, 128]) respectively.\n"
          ]
        },
        {
          "metadata": {
            "tags": null
          },
          "name": "stderr",
          "output_type": "stream",
          "text": [
            "Model training in progress...:  13%|█▎        | 29/227 [00:04<00:32,  6.03it/s]"
          ]
        },
        {
          "metadata": {
            "tags": null
          },
          "name": "stdout",
          "output_type": "stream",
          "text": [
            "Batch sizes for English and German are torch.Size([33, 128]) and torch.Size([34, 128]) respectively.\n",
            "Batch sizes for English and German are torch.Size([27, 128]) and torch.Size([29, 128]) respectively.\n"
          ]
        },
        {
          "metadata": {
            "tags": null
          },
          "name": "stderr",
          "output_type": "stream",
          "text": [
            "Model training in progress...:  14%|█▎        | 31/227 [00:05<00:31,  6.20it/s]"
          ]
        },
        {
          "metadata": {
            "tags": null
          },
          "name": "stdout",
          "output_type": "stream",
          "text": [
            "Batch sizes for English and German are torch.Size([30, 128]) and torch.Size([35, 128]) respectively.\n",
            "Batch sizes for English and German are torch.Size([25, 128]) and torch.Size([25, 128]) respectively.\n"
          ]
        },
        {
          "metadata": {
            "tags": null
          },
          "name": "stderr",
          "output_type": "stream",
          "text": [
            "Model training in progress...:  15%|█▍        | 33/227 [00:05<00:29,  6.59it/s]"
          ]
        },
        {
          "metadata": {
            "tags": null
          },
          "name": "stdout",
          "output_type": "stream",
          "text": [
            "Batch sizes for English and German are torch.Size([26, 128]) and torch.Size([28, 128]) respectively.\n",
            "Batch sizes for English and German are torch.Size([26, 128]) and torch.Size([27, 128]) respectively.\n"
          ]
        },
        {
          "metadata": {
            "tags": null
          },
          "name": "stderr",
          "output_type": "stream",
          "text": [
            "Model training in progress...:  15%|█▌        | 35/227 [00:05<00:29,  6.55it/s]"
          ]
        },
        {
          "metadata": {
            "tags": null
          },
          "name": "stdout",
          "output_type": "stream",
          "text": [
            "Batch sizes for English and German are torch.Size([29, 128]) and torch.Size([28, 128]) respectively.\n",
            "Batch sizes for English and German are torch.Size([31, 128]) and torch.Size([27, 128]) respectively.\n"
          ]
        },
        {
          "metadata": {
            "tags": null
          },
          "name": "stderr",
          "output_type": "stream",
          "text": [
            "Model training in progress...:  16%|█▋        | 37/227 [00:05<00:30,  6.15it/s]"
          ]
        },
        {
          "metadata": {
            "tags": null
          },
          "name": "stdout",
          "output_type": "stream",
          "text": [
            "Batch sizes for English and German are torch.Size([32, 128]) and torch.Size([30, 128]) respectively.\n",
            "Batch sizes for English and German are torch.Size([24, 128]) and torch.Size([22, 128]) respectively.\n"
          ]
        },
        {
          "metadata": {
            "tags": null
          },
          "name": "stderr",
          "output_type": "stream",
          "text": [
            "Model training in progress...:  17%|█▋        | 39/227 [00:06<00:30,  6.07it/s]"
          ]
        },
        {
          "metadata": {
            "tags": null
          },
          "name": "stdout",
          "output_type": "stream",
          "text": [
            "Batch sizes for English and German are torch.Size([36, 128]) and torch.Size([30, 128]) respectively.\n",
            "Batch sizes for English and German are torch.Size([31, 128]) and torch.Size([29, 128]) respectively.\n"
          ]
        },
        {
          "metadata": {
            "tags": null
          },
          "name": "stderr",
          "output_type": "stream",
          "text": [
            "Model training in progress...:  18%|█▊        | 41/227 [00:06<00:31,  5.90it/s]"
          ]
        },
        {
          "metadata": {
            "tags": null
          },
          "name": "stdout",
          "output_type": "stream",
          "text": [
            "Batch sizes for English and German are torch.Size([33, 128]) and torch.Size([32, 128]) respectively.\n",
            "Batch sizes for English and German are torch.Size([38, 128]) and torch.Size([30, 128]) respectively.\n"
          ]
        },
        {
          "metadata": {
            "tags": null
          },
          "name": "stderr",
          "output_type": "stream",
          "text": [
            "Model training in progress...:  19%|█▉        | 43/227 [00:07<00:31,  5.80it/s]"
          ]
        },
        {
          "metadata": {
            "tags": null
          },
          "name": "stdout",
          "output_type": "stream",
          "text": [
            "Batch sizes for English and German are torch.Size([27, 128]) and torch.Size([30, 128]) respectively.\n",
            "Batch sizes for English and German are torch.Size([25, 128]) and torch.Size([29, 128]) respectively.\n"
          ]
        },
        {
          "metadata": {
            "tags": null
          },
          "name": "stderr",
          "output_type": "stream",
          "text": [
            "Model training in progress...:  20%|█▉        | 45/227 [00:07<00:28,  6.40it/s]"
          ]
        },
        {
          "metadata": {
            "tags": null
          },
          "name": "stdout",
          "output_type": "stream",
          "text": [
            "Batch sizes for English and German are torch.Size([25, 128]) and torch.Size([25, 128]) respectively.\n",
            "Batch sizes for English and German are torch.Size([33, 128]) and torch.Size([25, 128]) respectively.\n"
          ]
        },
        {
          "metadata": {
            "tags": null
          },
          "name": "stderr",
          "output_type": "stream",
          "text": [
            "Model training in progress...:  21%|██        | 47/227 [00:07<00:32,  5.62it/s]"
          ]
        },
        {
          "metadata": {
            "tags": null
          },
          "name": "stdout",
          "output_type": "stream",
          "text": [
            "Batch sizes for English and German are torch.Size([36, 128]) and torch.Size([31, 128]) respectively.\n"
          ]
        },
        {
          "metadata": {
            "tags": null
          },
          "name": "stderr",
          "output_type": "stream",
          "text": [
            "\rModel training in progress...:  21%|██        | 48/227 [00:07<00:32,  5.56it/s]"
          ]
        },
        {
          "metadata": {
            "tags": null
          },
          "name": "stdout",
          "output_type": "stream",
          "text": [
            "Batch sizes for English and German are torch.Size([33, 128]) and torch.Size([35, 128]) respectively.\n",
            "Batch sizes for English and German are torch.Size([26, 128]) and torch.Size([28, 128]) respectively.\n"
          ]
        },
        {
          "metadata": {
            "tags": null
          },
          "name": "stderr",
          "output_type": "stream",
          "text": [
            "Model training in progress...:  22%|██▏       | 50/227 [00:08<00:28,  6.27it/s]"
          ]
        },
        {
          "metadata": {
            "tags": null
          },
          "name": "stdout",
          "output_type": "stream",
          "text": [
            "Batch sizes for English and German are torch.Size([24, 128]) and torch.Size([28, 128]) respectively.\n",
            "Batch sizes for English and German are torch.Size([25, 128]) and torch.Size([32, 128]) respectively.\n"
          ]
        },
        {
          "metadata": {
            "tags": null
          },
          "name": "stderr",
          "output_type": "stream",
          "text": [
            "Model training in progress...:  23%|██▎       | 52/227 [00:08<00:27,  6.36it/s]"
          ]
        },
        {
          "metadata": {
            "tags": null
          },
          "name": "stdout",
          "output_type": "stream",
          "text": [
            "Batch sizes for English and German are torch.Size([29, 128]) and torch.Size([28, 128]) respectively.\n",
            "Batch sizes for English and German are torch.Size([27, 128]) and torch.Size([26, 128]) respectively.\n"
          ]
        },
        {
          "metadata": {
            "tags": null
          },
          "name": "stderr",
          "output_type": "stream",
          "text": [
            "Model training in progress...:  24%|██▍       | 54/227 [00:08<00:27,  6.31it/s]"
          ]
        },
        {
          "metadata": {
            "tags": null
          },
          "name": "stdout",
          "output_type": "stream",
          "text": [
            "Batch sizes for English and German are torch.Size([29, 128]) and torch.Size([26, 128]) respectively.\n",
            "Batch sizes for English and German are torch.Size([25, 128]) and torch.Size([29, 128]) respectively.\n"
          ]
        },
        {
          "metadata": {
            "tags": null
          },
          "name": "stderr",
          "output_type": "stream",
          "text": [
            "\rModel training in progress...:  24%|██▍       | 55/227 [00:08<00:26,  6.46it/s]"
          ]
        },
        {
          "metadata": {
            "tags": null
          },
          "name": "stdout",
          "output_type": "stream",
          "text": [
            "Batch sizes for English and German are torch.Size([40, 128]) and torch.Size([35, 128]) respectively.\n"
          ]
        },
        {
          "metadata": {
            "tags": null
          },
          "name": "stderr",
          "output_type": "stream",
          "text": [
            "Model training in progress...:  25%|██▌       | 57/227 [00:09<00:30,  5.61it/s]"
          ]
        },
        {
          "metadata": {
            "tags": null
          },
          "name": "stdout",
          "output_type": "stream",
          "text": [
            "Batch sizes for English and German are torch.Size([35, 128]) and torch.Size([33, 128]) respectively.\n",
            "Batch sizes for English and German are torch.Size([42, 128]) and torch.Size([45, 128]) respectively.\n"
          ]
        },
        {
          "metadata": {
            "tags": null
          },
          "name": "stderr",
          "output_type": "stream",
          "text": [
            "\rModel training in progress...:  26%|██▌       | 58/227 [00:09<00:33,  5.10it/s]"
          ]
        },
        {
          "metadata": {
            "tags": null
          },
          "name": "stdout",
          "output_type": "stream",
          "text": [
            "Batch sizes for English and German are torch.Size([40, 128]) and torch.Size([37, 128]) respectively.\n"
          ]
        },
        {
          "metadata": {
            "tags": null
          },
          "name": "stderr",
          "output_type": "stream",
          "text": [
            "Model training in progress...:  26%|██▋       | 60/227 [00:09<00:31,  5.24it/s]"
          ]
        },
        {
          "metadata": {
            "tags": null
          },
          "name": "stdout",
          "output_type": "stream",
          "text": [
            "Batch sizes for English and German are torch.Size([30, 128]) and torch.Size([28, 128]) respectively.\n",
            "Batch sizes for English and German are torch.Size([36, 128]) and torch.Size([30, 128]) respectively.\n"
          ]
        },
        {
          "metadata": {
            "tags": null
          },
          "name": "stderr",
          "output_type": "stream",
          "text": [
            "Model training in progress...:  27%|██▋       | 62/227 [00:10<00:30,  5.46it/s]"
          ]
        },
        {
          "metadata": {
            "tags": null
          },
          "name": "stdout",
          "output_type": "stream",
          "text": [
            "Batch sizes for English and German are torch.Size([31, 128]) and torch.Size([28, 128]) respectively.\n",
            "Batch sizes for English and German are torch.Size([40, 128]) and torch.Size([38, 128]) respectively.\n"
          ]
        },
        {
          "metadata": {
            "tags": null
          },
          "name": "stderr",
          "output_type": "stream",
          "text": [
            "Model training in progress...:  28%|██▊       | 64/227 [00:10<00:28,  5.62it/s]"
          ]
        },
        {
          "metadata": {
            "tags": null
          },
          "name": "stdout",
          "output_type": "stream",
          "text": [
            "Batch sizes for English and German are torch.Size([25, 128]) and torch.Size([25, 128]) respectively.\n",
            "Batch sizes for English and German are torch.Size([30, 128]) and torch.Size([30, 128]) respectively.\n"
          ]
        },
        {
          "metadata": {
            "tags": null
          },
          "name": "stderr",
          "output_type": "stream",
          "text": [
            "Model training in progress...:  29%|██▉       | 66/227 [00:11<00:29,  5.41it/s]"
          ]
        },
        {
          "metadata": {
            "tags": null
          },
          "name": "stdout",
          "output_type": "stream",
          "text": [
            "Batch sizes for English and German are torch.Size([39, 128]) and torch.Size([33, 128]) respectively.\n"
          ]
        },
        {
          "metadata": {
            "tags": null
          },
          "name": "stderr",
          "output_type": "stream",
          "text": [
            "\rModel training in progress...:  30%|██▉       | 67/227 [00:11<00:28,  5.64it/s]"
          ]
        },
        {
          "metadata": {
            "tags": null
          },
          "name": "stdout",
          "output_type": "stream",
          "text": [
            "Batch sizes for English and German are torch.Size([29, 128]) and torch.Size([30, 128]) respectively.\n",
            "Batch sizes for English and German are torch.Size([27, 128]) and torch.Size([24, 128]) respectively.\n"
          ]
        },
        {
          "metadata": {
            "tags": null
          },
          "name": "stderr",
          "output_type": "stream",
          "text": [
            "Model training in progress...:  30%|███       | 69/227 [00:11<00:25,  6.17it/s]"
          ]
        },
        {
          "metadata": {
            "tags": null
          },
          "name": "stdout",
          "output_type": "stream",
          "text": [
            "Batch sizes for English and German are torch.Size([28, 128]) and torch.Size([26, 128]) respectively.\n",
            "Batch sizes for English and German are torch.Size([36, 128]) and torch.Size([37, 128]) respectively.\n"
          ]
        },
        {
          "metadata": {
            "tags": null
          },
          "name": "stderr",
          "output_type": "stream",
          "text": [
            "Model training in progress...:  31%|███▏      | 71/227 [00:11<00:26,  5.82it/s]"
          ]
        },
        {
          "metadata": {
            "tags": null
          },
          "name": "stdout",
          "output_type": "stream",
          "text": [
            "Batch sizes for English and German are torch.Size([31, 128]) and torch.Size([29, 128]) respectively.\n",
            "Batch sizes for English and German are torch.Size([29, 128]) and torch.Size([31, 128]) respectively.\n"
          ]
        },
        {
          "metadata": {
            "tags": null
          },
          "name": "stderr",
          "output_type": "stream",
          "text": [
            "Model training in progress...:  32%|███▏      | 73/227 [00:12<00:24,  6.29it/s]"
          ]
        },
        {
          "metadata": {
            "tags": null
          },
          "name": "stdout",
          "output_type": "stream",
          "text": [
            "Batch sizes for English and German are torch.Size([26, 128]) and torch.Size([26, 128]) respectively.\n",
            "Batch sizes for English and German are torch.Size([30, 128]) and torch.Size([33, 128]) respectively.\n"
          ]
        },
        {
          "metadata": {
            "tags": null
          },
          "name": "stderr",
          "output_type": "stream",
          "text": [
            "Model training in progress...:  33%|███▎      | 75/227 [00:12<00:23,  6.54it/s]"
          ]
        },
        {
          "metadata": {
            "tags": null
          },
          "name": "stdout",
          "output_type": "stream",
          "text": [
            "Batch sizes for English and German are torch.Size([25, 128]) and torch.Size([29, 128]) respectively.\n",
            "Batch sizes for English and German are torch.Size([27, 128]) and torch.Size([28, 128]) respectively.\n"
          ]
        },
        {
          "metadata": {
            "tags": null
          },
          "name": "stderr",
          "output_type": "stream",
          "text": [
            "Model training in progress...:  34%|███▍      | 77/227 [00:12<00:22,  6.59it/s]"
          ]
        },
        {
          "metadata": {
            "tags": null
          },
          "name": "stdout",
          "output_type": "stream",
          "text": [
            "Batch sizes for English and German are torch.Size([28, 128]) and torch.Size([28, 128]) respectively.\n",
            "Batch sizes for English and German are torch.Size([27, 128]) and torch.Size([29, 128]) respectively.\n"
          ]
        },
        {
          "metadata": {
            "tags": null
          },
          "name": "stderr",
          "output_type": "stream",
          "text": [
            "Model training in progress...:  35%|███▍      | 79/227 [00:13<00:22,  6.65it/s]"
          ]
        },
        {
          "metadata": {
            "tags": null
          },
          "name": "stdout",
          "output_type": "stream",
          "text": [
            "Batch sizes for English and German are torch.Size([28, 128]) and torch.Size([27, 128]) respectively.\n",
            "Batch sizes for English and German are torch.Size([32, 128]) and torch.Size([28, 128]) respectively.\n"
          ]
        },
        {
          "metadata": {
            "tags": null
          },
          "name": "stderr",
          "output_type": "stream",
          "text": [
            "Model training in progress...:  36%|███▌      | 81/227 [00:13<00:23,  6.23it/s]"
          ]
        },
        {
          "metadata": {
            "tags": null
          },
          "name": "stdout",
          "output_type": "stream",
          "text": [
            "Batch sizes for English and German are torch.Size([32, 128]) and torch.Size([27, 128]) respectively.\n",
            "Batch sizes for English and German are torch.Size([33, 128]) and torch.Size([32, 128]) respectively.\n"
          ]
        },
        {
          "metadata": {
            "tags": null
          },
          "name": "stderr",
          "output_type": "stream",
          "text": [
            "Model training in progress...:  37%|███▋      | 83/227 [00:13<00:24,  5.88it/s]"
          ]
        },
        {
          "metadata": {
            "tags": null
          },
          "name": "stdout",
          "output_type": "stream",
          "text": [
            "Batch sizes for English and German are torch.Size([34, 128]) and torch.Size([28, 128]) respectively.\n",
            "Batch sizes for English and German are torch.Size([28, 128]) and torch.Size([25, 128]) respectively.\n"
          ]
        },
        {
          "metadata": {
            "tags": null
          },
          "name": "stderr",
          "output_type": "stream",
          "text": [
            "Model training in progress...:  37%|███▋      | 85/227 [00:14<00:22,  6.34it/s]"
          ]
        },
        {
          "metadata": {
            "tags": null
          },
          "name": "stdout",
          "output_type": "stream",
          "text": [
            "Batch sizes for English and German are torch.Size([27, 128]) and torch.Size([25, 128]) respectively.\n",
            "Batch sizes for English and German are torch.Size([30, 128]) and torch.Size([30, 128]) respectively.\n"
          ]
        },
        {
          "metadata": {
            "tags": null
          },
          "name": "stderr",
          "output_type": "stream",
          "text": [
            "Model training in progress...:  38%|███▊      | 87/227 [00:14<00:22,  6.21it/s]"
          ]
        },
        {
          "metadata": {
            "tags": null
          },
          "name": "stdout",
          "output_type": "stream",
          "text": [
            "Batch sizes for English and German are torch.Size([31, 128]) and torch.Size([29, 128]) respectively.\n",
            "Batch sizes for English and German are torch.Size([33, 128]) and torch.Size([31, 128]) respectively.\n"
          ]
        },
        {
          "metadata": {
            "tags": null
          },
          "name": "stderr",
          "output_type": "stream",
          "text": [
            "Model training in progress...:  39%|███▉      | 89/227 [00:14<00:23,  5.99it/s]"
          ]
        },
        {
          "metadata": {
            "tags": null
          },
          "name": "stdout",
          "output_type": "stream",
          "text": [
            "Batch sizes for English and German are torch.Size([31, 128]) and torch.Size([31, 128]) respectively.\n",
            "Batch sizes for English and German are torch.Size([40, 128]) and torch.Size([34, 128]) respectively.\n"
          ]
        },
        {
          "metadata": {
            "tags": null
          },
          "name": "stderr",
          "output_type": "stream",
          "text": [
            "Model training in progress...:  40%|████      | 91/227 [00:15<00:24,  5.47it/s]"
          ]
        },
        {
          "metadata": {
            "tags": null
          },
          "name": "stdout",
          "output_type": "stream",
          "text": [
            "Batch sizes for English and German are torch.Size([35, 128]) and torch.Size([34, 128]) respectively.\n",
            "Batch sizes for English and German are torch.Size([31, 128]) and torch.Size([36, 128]) respectively.\n"
          ]
        },
        {
          "metadata": {
            "tags": null
          },
          "name": "stderr",
          "output_type": "stream",
          "text": [
            "Model training in progress...:  41%|████      | 93/227 [00:15<00:23,  5.77it/s]"
          ]
        },
        {
          "metadata": {
            "tags": null
          },
          "name": "stdout",
          "output_type": "stream",
          "text": [
            "Batch sizes for English and German are torch.Size([30, 128]) and torch.Size([33, 128]) respectively.\n",
            "Batch sizes for English and German are torch.Size([37, 128]) and torch.Size([34, 128]) respectively.\n"
          ]
        },
        {
          "metadata": {
            "tags": null
          },
          "name": "stderr",
          "output_type": "stream",
          "text": [
            "Model training in progress...:  42%|████▏     | 95/227 [00:15<00:23,  5.52it/s]"
          ]
        },
        {
          "metadata": {
            "tags": null
          },
          "name": "stdout",
          "output_type": "stream",
          "text": [
            "Batch sizes for English and German are torch.Size([34, 128]) and torch.Size([32, 128]) respectively.\n",
            "Batch sizes for English and German are torch.Size([31, 128]) and torch.Size([28, 128]) respectively.\n"
          ]
        },
        {
          "metadata": {
            "tags": null
          },
          "name": "stderr",
          "output_type": "stream",
          "text": [
            "Model training in progress...:  43%|████▎     | 97/227 [00:16<00:22,  5.86it/s]"
          ]
        },
        {
          "metadata": {
            "tags": null
          },
          "name": "stdout",
          "output_type": "stream",
          "text": [
            "Batch sizes for English and German are torch.Size([28, 128]) and torch.Size([27, 128]) respectively.\n",
            "Batch sizes for English and German are torch.Size([35, 128]) and torch.Size([32, 128]) respectively.\n"
          ]
        },
        {
          "metadata": {
            "tags": null
          },
          "name": "stderr",
          "output_type": "stream",
          "text": [
            "Model training in progress...:  44%|████▎     | 99/227 [00:16<00:21,  5.95it/s]"
          ]
        },
        {
          "metadata": {
            "tags": null
          },
          "name": "stdout",
          "output_type": "stream",
          "text": [
            "Batch sizes for English and German are torch.Size([28, 128]) and torch.Size([27, 128]) respectively.\n",
            "Batch sizes for English and German are torch.Size([29, 128]) and torch.Size([33, 128]) respectively.\n"
          ]
        },
        {
          "metadata": {
            "tags": null
          },
          "name": "stderr",
          "output_type": "stream",
          "text": [
            "Model training in progress...:  44%|████▍     | 101/227 [00:16<00:20,  6.04it/s]"
          ]
        },
        {
          "metadata": {
            "tags": null
          },
          "name": "stdout",
          "output_type": "stream",
          "text": [
            "Batch sizes for English and German are torch.Size([31, 128]) and torch.Size([30, 128]) respectively.\n",
            "Batch sizes for English and German are torch.Size([37, 128]) and torch.Size([38, 128]) respectively.\n"
          ]
        },
        {
          "metadata": {
            "tags": null
          },
          "name": "stderr",
          "output_type": "stream",
          "text": [
            "Model training in progress...:  45%|████▌     | 103/227 [00:17<00:20,  6.15it/s]"
          ]
        },
        {
          "metadata": {
            "tags": null
          },
          "name": "stdout",
          "output_type": "stream",
          "text": [
            "Batch sizes for English and German are torch.Size([24, 128]) and torch.Size([24, 128]) respectively.\n",
            "Batch sizes for English and German are torch.Size([32, 128]) and torch.Size([29, 128]) respectively.\n"
          ]
        },
        {
          "metadata": {
            "tags": null
          },
          "name": "stderr",
          "output_type": "stream",
          "text": [
            "Model training in progress...:  46%|████▋     | 105/227 [00:17<00:19,  6.14it/s]"
          ]
        },
        {
          "metadata": {
            "tags": null
          },
          "name": "stdout",
          "output_type": "stream",
          "text": [
            "Batch sizes for English and German are torch.Size([29, 128]) and torch.Size([26, 128]) respectively.\n",
            "Batch sizes for English and German are torch.Size([32, 128]) and torch.Size([34, 128]) respectively.\n"
          ]
        },
        {
          "metadata": {
            "tags": null
          },
          "name": "stderr",
          "output_type": "stream",
          "text": [
            "Model training in progress...:  47%|████▋     | 107/227 [00:17<00:19,  6.04it/s]"
          ]
        },
        {
          "metadata": {
            "tags": null
          },
          "name": "stdout",
          "output_type": "stream",
          "text": [
            "Batch sizes for English and German are torch.Size([30, 128]) and torch.Size([29, 128]) respectively.\n",
            "Batch sizes for English and German are torch.Size([35, 128]) and torch.Size([34, 128]) respectively.\n"
          ]
        },
        {
          "metadata": {
            "tags": null
          },
          "name": "stderr",
          "output_type": "stream",
          "text": [
            "Model training in progress...:  48%|████▊     | 109/227 [00:18<00:19,  5.98it/s]"
          ]
        },
        {
          "metadata": {
            "tags": null
          },
          "name": "stdout",
          "output_type": "stream",
          "text": [
            "Batch sizes for English and German are torch.Size([29, 128]) and torch.Size([27, 128]) respectively.\n",
            "Batch sizes for English and German are torch.Size([37, 128]) and torch.Size([30, 128]) respectively.\n"
          ]
        },
        {
          "metadata": {
            "tags": null
          },
          "name": "stderr",
          "output_type": "stream",
          "text": [
            "Model training in progress...:  49%|████▉     | 111/227 [00:18<00:19,  5.88it/s]"
          ]
        },
        {
          "metadata": {
            "tags": null
          },
          "name": "stdout",
          "output_type": "stream",
          "text": [
            "Batch sizes for English and German are torch.Size([28, 128]) and torch.Size([36, 128]) respectively.\n",
            "Batch sizes for English and German are torch.Size([24, 128]) and torch.Size([23, 128]) respectively.\n"
          ]
        },
        {
          "metadata": {
            "tags": null
          },
          "name": "stderr",
          "output_type": "stream",
          "text": [
            "Model training in progress...:  50%|████▉     | 113/227 [00:18<00:17,  6.47it/s]"
          ]
        },
        {
          "metadata": {
            "tags": null
          },
          "name": "stdout",
          "output_type": "stream",
          "text": [
            "Batch sizes for English and German are torch.Size([27, 128]) and torch.Size([26, 128]) respectively.\n",
            "Batch sizes for English and German are torch.Size([27, 128]) and torch.Size([26, 128]) respectively.\n"
          ]
        },
        {
          "metadata": {
            "tags": null
          },
          "name": "stderr",
          "output_type": "stream",
          "text": [
            "Model training in progress...:  51%|█████     | 115/227 [00:19<00:17,  6.31it/s]"
          ]
        },
        {
          "metadata": {
            "tags": null
          },
          "name": "stdout",
          "output_type": "stream",
          "text": [
            "Batch sizes for English and German are torch.Size([31, 128]) and torch.Size([26, 128]) respectively.\n",
            "Batch sizes for English and German are torch.Size([27, 128]) and torch.Size([27, 128]) respectively.\n"
          ]
        },
        {
          "metadata": {
            "tags": null
          },
          "name": "stderr",
          "output_type": "stream",
          "text": [
            "Model training in progress...:  52%|█████▏    | 117/227 [00:19<00:16,  6.71it/s]"
          ]
        },
        {
          "metadata": {
            "tags": null
          },
          "name": "stdout",
          "output_type": "stream",
          "text": [
            "Batch sizes for English and German are torch.Size([24, 128]) and torch.Size([27, 128]) respectively.\n",
            "Batch sizes for English and German are torch.Size([28, 128]) and torch.Size([26, 128]) respectively.\n"
          ]
        },
        {
          "metadata": {
            "tags": null
          },
          "name": "stderr",
          "output_type": "stream",
          "text": [
            "Model training in progress...:  52%|█████▏    | 119/227 [00:19<00:17,  6.28it/s]"
          ]
        },
        {
          "metadata": {
            "tags": null
          },
          "name": "stdout",
          "output_type": "stream",
          "text": [
            "Batch sizes for English and German are torch.Size([32, 128]) and torch.Size([33, 128]) respectively.\n",
            "Batch sizes for English and German are torch.Size([31, 128]) and torch.Size([29, 128]) respectively.\n"
          ]
        },
        {
          "metadata": {
            "tags": null
          },
          "name": "stderr",
          "output_type": "stream",
          "text": [
            "Model training in progress...:  53%|█████▎    | 121/227 [00:20<00:16,  6.39it/s]"
          ]
        },
        {
          "metadata": {
            "tags": null
          },
          "name": "stdout",
          "output_type": "stream",
          "text": [
            "Batch sizes for English and German are torch.Size([25, 128]) and torch.Size([25, 128]) respectively.\n",
            "Batch sizes for English and German are torch.Size([26, 128]) and torch.Size([27, 128]) respectively.\n"
          ]
        },
        {
          "metadata": {
            "tags": null
          },
          "name": "stderr",
          "output_type": "stream",
          "text": [
            "Model training in progress...:  54%|█████▍    | 123/227 [00:20<00:16,  6.25it/s]"
          ]
        },
        {
          "metadata": {
            "tags": null
          },
          "name": "stdout",
          "output_type": "stream",
          "text": [
            "Batch sizes for English and German are torch.Size([31, 128]) and torch.Size([36, 128]) respectively.\n",
            "Batch sizes for English and German are torch.Size([34, 128]) and torch.Size([29, 128]) respectively.\n"
          ]
        },
        {
          "metadata": {
            "tags": null
          },
          "name": "stderr",
          "output_type": "stream",
          "text": [
            "Model training in progress...:  55%|█████▌    | 125/227 [00:20<00:17,  5.92it/s]"
          ]
        },
        {
          "metadata": {
            "tags": null
          },
          "name": "stdout",
          "output_type": "stream",
          "text": [
            "Batch sizes for English and German are torch.Size([29, 128]) and torch.Size([30, 128]) respectively.\n",
            "Batch sizes for English and German are torch.Size([32, 128]) and torch.Size([28, 128]) respectively.\n"
          ]
        },
        {
          "metadata": {
            "tags": null
          },
          "name": "stderr",
          "output_type": "stream",
          "text": [
            "Model training in progress...:  56%|█████▌    | 127/227 [00:21<00:17,  5.71it/s]"
          ]
        },
        {
          "metadata": {
            "tags": null
          },
          "name": "stdout",
          "output_type": "stream",
          "text": [
            "Batch sizes for English and German are torch.Size([32, 128]) and torch.Size([25, 128]) respectively.\n",
            "Batch sizes for English and German are torch.Size([32, 128]) and torch.Size([32, 128]) respectively.\n"
          ]
        },
        {
          "metadata": {
            "tags": null
          },
          "name": "stderr",
          "output_type": "stream",
          "text": [
            "Model training in progress...:  57%|█████▋    | 129/227 [00:21<00:17,  5.71it/s]"
          ]
        },
        {
          "metadata": {
            "tags": null
          },
          "name": "stdout",
          "output_type": "stream",
          "text": [
            "Batch sizes for English and German are torch.Size([32, 128]) and torch.Size([32, 128]) respectively.\n",
            "Batch sizes for English and German are torch.Size([26, 128]) and torch.Size([26, 128]) respectively.\n"
          ]
        },
        {
          "metadata": {
            "tags": null
          },
          "name": "stderr",
          "output_type": "stream",
          "text": [
            "Model training in progress...:  58%|█████▊    | 131/227 [00:21<00:15,  6.24it/s]"
          ]
        },
        {
          "metadata": {
            "tags": null
          },
          "name": "stdout",
          "output_type": "stream",
          "text": [
            "Batch sizes for English and German are torch.Size([28, 128]) and torch.Size([25, 128]) respectively.\n",
            "Batch sizes for English and German are torch.Size([25, 128]) and torch.Size([30, 128]) respectively.\n"
          ]
        },
        {
          "metadata": {
            "tags": null
          },
          "name": "stderr",
          "output_type": "stream",
          "text": [
            "Model training in progress...:  59%|█████▊    | 133/227 [00:22<00:14,  6.35it/s]"
          ]
        },
        {
          "metadata": {
            "tags": null
          },
          "name": "stdout",
          "output_type": "stream",
          "text": [
            "Batch sizes for English and German are torch.Size([30, 128]) and torch.Size([25, 128]) respectively.\n",
            "Batch sizes for English and German are torch.Size([30, 128]) and torch.Size([33, 128]) respectively.\n"
          ]
        },
        {
          "metadata": {
            "tags": null
          },
          "name": "stderr",
          "output_type": "stream",
          "text": [
            "Model training in progress...:  59%|█████▉    | 135/227 [00:22<00:15,  5.87it/s]"
          ]
        },
        {
          "metadata": {
            "tags": null
          },
          "name": "stdout",
          "output_type": "stream",
          "text": [
            "Batch sizes for English and German are torch.Size([35, 128]) and torch.Size([37, 128]) respectively.\n",
            "Batch sizes for English and German are torch.Size([31, 128]) and torch.Size([31, 128]) respectively.\n"
          ]
        },
        {
          "metadata": {
            "tags": null
          },
          "name": "stderr",
          "output_type": "stream",
          "text": [
            "Model training in progress...:  60%|██████    | 137/227 [00:22<00:14,  6.15it/s]"
          ]
        },
        {
          "metadata": {
            "tags": null
          },
          "name": "stdout",
          "output_type": "stream",
          "text": [
            "Batch sizes for English and German are torch.Size([26, 128]) and torch.Size([27, 128]) respectively.\n",
            "Batch sizes for English and German are torch.Size([26, 128]) and torch.Size([30, 128]) respectively.\n"
          ]
        },
        {
          "metadata": {
            "tags": null
          },
          "name": "stderr",
          "output_type": "stream",
          "text": [
            "Model training in progress...:  61%|██████    | 139/227 [00:23<00:14,  6.06it/s]"
          ]
        },
        {
          "metadata": {
            "tags": null
          },
          "name": "stdout",
          "output_type": "stream",
          "text": [
            "Batch sizes for English and German are torch.Size([33, 128]) and torch.Size([34, 128]) respectively.\n",
            "Batch sizes for English and German are torch.Size([26, 128]) and torch.Size([24, 128]) respectively.\n"
          ]
        },
        {
          "metadata": {
            "tags": null
          },
          "name": "stderr",
          "output_type": "stream",
          "text": [
            "Model training in progress...:  62%|██████▏   | 141/227 [00:23<00:14,  6.13it/s]"
          ]
        },
        {
          "metadata": {
            "tags": null
          },
          "name": "stdout",
          "output_type": "stream",
          "text": [
            "Batch sizes for English and German are torch.Size([32, 128]) and torch.Size([30, 128]) respectively.\n",
            "Batch sizes for English and German are torch.Size([34, 128]) and torch.Size([30, 128]) respectively.\n"
          ]
        },
        {
          "metadata": {
            "tags": null
          },
          "name": "stderr",
          "output_type": "stream",
          "text": [
            "Model training in progress...:  63%|██████▎   | 143/227 [00:23<00:14,  5.74it/s]"
          ]
        },
        {
          "metadata": {
            "tags": null
          },
          "name": "stdout",
          "output_type": "stream",
          "text": [
            "Batch sizes for English and German are torch.Size([31, 128]) and torch.Size([28, 128]) respectively.\n",
            "Batch sizes for English and German are torch.Size([37, 128]) and torch.Size([38, 128]) respectively.\n"
          ]
        },
        {
          "metadata": {
            "tags": null
          },
          "name": "stderr",
          "output_type": "stream",
          "text": [
            "Model training in progress...:  64%|██████▍   | 145/227 [00:24<00:14,  5.67it/s]"
          ]
        },
        {
          "metadata": {
            "tags": null
          },
          "name": "stdout",
          "output_type": "stream",
          "text": [
            "Batch sizes for English and German are torch.Size([28, 128]) and torch.Size([36, 128]) respectively.\n",
            "Batch sizes for English and German are torch.Size([27, 128]) and torch.Size([27, 128]) respectively.\n"
          ]
        },
        {
          "metadata": {
            "tags": null
          },
          "name": "stderr",
          "output_type": "stream",
          "text": [
            "Model training in progress...:  65%|██████▍   | 147/227 [00:24<00:12,  6.16it/s]"
          ]
        },
        {
          "metadata": {
            "tags": null
          },
          "name": "stdout",
          "output_type": "stream",
          "text": [
            "Batch sizes for English and German are torch.Size([28, 128]) and torch.Size([25, 128]) respectively.\n",
            "Batch sizes for English and German are torch.Size([33, 128]) and torch.Size([27, 128]) respectively.\n"
          ]
        },
        {
          "metadata": {
            "tags": null
          },
          "name": "stderr",
          "output_type": "stream",
          "text": [
            "Model training in progress...:  66%|██████▌   | 149/227 [00:24<00:12,  6.05it/s]"
          ]
        },
        {
          "metadata": {
            "tags": null
          },
          "name": "stdout",
          "output_type": "stream",
          "text": [
            "Batch sizes for English and German are torch.Size([30, 128]) and torch.Size([31, 128]) respectively.\n",
            "Batch sizes for English and German are torch.Size([27, 128]) and torch.Size([29, 128]) respectively.\n"
          ]
        },
        {
          "metadata": {
            "tags": null
          },
          "name": "stderr",
          "output_type": "stream",
          "text": [
            "Model training in progress...:  67%|██████▋   | 151/227 [00:25<00:13,  5.75it/s]"
          ]
        },
        {
          "metadata": {
            "tags": null
          },
          "name": "stdout",
          "output_type": "stream",
          "text": [
            "Batch sizes for English and German are torch.Size([38, 128]) and torch.Size([36, 128]) respectively.\n"
          ]
        },
        {
          "metadata": {
            "tags": null
          },
          "name": "stderr",
          "output_type": "stream",
          "text": [
            "\rModel training in progress...:  67%|██████▋   | 152/227 [00:25<00:12,  5.99it/s]"
          ]
        },
        {
          "metadata": {
            "tags": null
          },
          "name": "stdout",
          "output_type": "stream",
          "text": [
            "Batch sizes for English and German are torch.Size([28, 128]) and torch.Size([26, 128]) respectively.\n",
            "Batch sizes for English and German are torch.Size([27, 128]) and torch.Size([27, 128]) respectively.\n"
          ]
        },
        {
          "metadata": {
            "tags": null
          },
          "name": "stderr",
          "output_type": "stream",
          "text": [
            "Model training in progress...:  68%|██████▊   | 154/227 [00:25<00:12,  5.83it/s]"
          ]
        },
        {
          "metadata": {
            "tags": null
          },
          "name": "stdout",
          "output_type": "stream",
          "text": [
            "Batch sizes for English and German are torch.Size([37, 128]) and torch.Size([36, 128]) respectively.\n",
            "Batch sizes for English and German are torch.Size([31, 128]) and torch.Size([27, 128]) respectively.\n"
          ]
        },
        {
          "metadata": {
            "tags": null
          },
          "name": "stderr",
          "output_type": "stream",
          "text": [
            "Model training in progress...:  69%|██████▊   | 156/227 [00:25<00:11,  5.98it/s]"
          ]
        },
        {
          "metadata": {
            "tags": null
          },
          "name": "stdout",
          "output_type": "stream",
          "text": [
            "Batch sizes for English and German are torch.Size([30, 128]) and torch.Size([25, 128]) respectively.\n",
            "Batch sizes for English and German are torch.Size([30, 128]) and torch.Size([29, 128]) respectively.\n"
          ]
        },
        {
          "metadata": {
            "tags": null
          },
          "name": "stderr",
          "output_type": "stream",
          "text": [
            "Model training in progress...:  70%|██████▉   | 158/227 [00:26<00:11,  6.14it/s]"
          ]
        },
        {
          "metadata": {
            "tags": null
          },
          "name": "stdout",
          "output_type": "stream",
          "text": [
            "Batch sizes for English and German are torch.Size([29, 128]) and torch.Size([32, 128]) respectively.\n",
            "Batch sizes for English and German are torch.Size([28, 128]) and torch.Size([26, 128]) respectively.\n"
          ]
        },
        {
          "metadata": {
            "tags": null
          },
          "name": "stderr",
          "output_type": "stream",
          "text": [
            "Model training in progress...:  70%|███████   | 160/227 [00:26<00:10,  6.16it/s]"
          ]
        },
        {
          "metadata": {
            "tags": null
          },
          "name": "stdout",
          "output_type": "stream",
          "text": [
            "Batch sizes for English and German are torch.Size([31, 128]) and torch.Size([31, 128]) respectively.\n",
            "Batch sizes for English and German are torch.Size([30, 128]) and torch.Size([26, 128]) respectively.\n"
          ]
        },
        {
          "metadata": {
            "tags": null
          },
          "name": "stderr",
          "output_type": "stream",
          "text": [
            "Model training in progress...:  71%|███████▏  | 162/227 [00:26<00:11,  5.75it/s]"
          ]
        },
        {
          "metadata": {
            "tags": null
          },
          "name": "stdout",
          "output_type": "stream",
          "text": [
            "Batch sizes for English and German are torch.Size([38, 128]) and torch.Size([29, 128]) respectively.\n"
          ]
        },
        {
          "metadata": {
            "tags": null
          },
          "name": "stderr",
          "output_type": "stream",
          "text": [
            "\rModel training in progress...:  72%|███████▏  | 163/227 [00:27<00:10,  5.93it/s]"
          ]
        },
        {
          "metadata": {
            "tags": null
          },
          "name": "stdout",
          "output_type": "stream",
          "text": [
            "Batch sizes for English and German are torch.Size([29, 128]) and torch.Size([28, 128]) respectively.\n",
            "Batch sizes for English and German are torch.Size([36, 128]) and torch.Size([33, 128]) respectively.\n"
          ]
        },
        {
          "metadata": {
            "tags": null
          },
          "name": "stderr",
          "output_type": "stream",
          "text": [
            "Model training in progress...:  73%|███████▎  | 165/227 [00:27<00:10,  5.92it/s]"
          ]
        },
        {
          "metadata": {
            "tags": null
          },
          "name": "stdout",
          "output_type": "stream",
          "text": [
            "Batch sizes for English and German are torch.Size([28, 128]) and torch.Size([27, 128]) respectively.\n",
            "Batch sizes for English and German are torch.Size([32, 128]) and torch.Size([36, 128]) respectively.\n"
          ]
        },
        {
          "metadata": {
            "tags": null
          },
          "name": "stderr",
          "output_type": "stream",
          "text": [
            "Model training in progress...:  74%|███████▎  | 167/227 [00:27<00:10,  5.72it/s]"
          ]
        },
        {
          "metadata": {
            "tags": null
          },
          "name": "stdout",
          "output_type": "stream",
          "text": [
            "Batch sizes for English and German are torch.Size([34, 128]) and torch.Size([32, 128]) respectively.\n",
            "Batch sizes for English and German are torch.Size([42, 128]) and torch.Size([41, 128]) respectively.\n"
          ]
        },
        {
          "metadata": {
            "tags": null
          },
          "name": "stderr",
          "output_type": "stream",
          "text": [
            "Model training in progress...:  74%|███████▍  | 169/227 [00:28<00:10,  5.60it/s]"
          ]
        },
        {
          "metadata": {
            "tags": null
          },
          "name": "stdout",
          "output_type": "stream",
          "text": [
            "Batch sizes for English and German are torch.Size([28, 128]) and torch.Size([26, 128]) respectively.\n",
            "Batch sizes for English and German are torch.Size([27, 128]) and torch.Size([25, 128]) respectively.\n"
          ]
        },
        {
          "metadata": {
            "tags": null
          },
          "name": "stderr",
          "output_type": "stream",
          "text": [
            "Model training in progress...:  75%|███████▌  | 171/227 [00:28<00:09,  6.14it/s]"
          ]
        },
        {
          "metadata": {
            "tags": null
          },
          "name": "stdout",
          "output_type": "stream",
          "text": [
            "Batch sizes for English and German are torch.Size([27, 128]) and torch.Size([27, 128]) respectively.\n",
            "Batch sizes for English and German are torch.Size([30, 128]) and torch.Size([32, 128]) respectively.\n"
          ]
        },
        {
          "metadata": {
            "tags": null
          },
          "name": "stderr",
          "output_type": "stream",
          "text": [
            "Model training in progress...:  76%|███████▌  | 173/227 [00:28<00:08,  6.19it/s]"
          ]
        },
        {
          "metadata": {
            "tags": null
          },
          "name": "stdout",
          "output_type": "stream",
          "text": [
            "Batch sizes for English and German are torch.Size([28, 128]) and torch.Size([30, 128]) respectively.\n",
            "Batch sizes for English and German are torch.Size([28, 128]) and torch.Size([29, 128]) respectively.\n"
          ]
        },
        {
          "metadata": {
            "tags": null
          },
          "name": "stderr",
          "output_type": "stream",
          "text": [
            "Model training in progress...:  77%|███████▋  | 175/227 [00:29<00:08,  5.97it/s]"
          ]
        },
        {
          "metadata": {
            "tags": null
          },
          "name": "stdout",
          "output_type": "stream",
          "text": [
            "Batch sizes for English and German are torch.Size([35, 128]) and torch.Size([33, 128]) respectively.\n",
            "Batch sizes for English and German are torch.Size([28, 128]) and torch.Size([28, 128]) respectively.\n"
          ]
        },
        {
          "metadata": {
            "tags": null
          },
          "name": "stderr",
          "output_type": "stream",
          "text": [
            "Model training in progress...:  78%|███████▊  | 177/227 [00:29<00:08,  6.12it/s]"
          ]
        },
        {
          "metadata": {
            "tags": null
          },
          "name": "stdout",
          "output_type": "stream",
          "text": [
            "Batch sizes for English and German are torch.Size([31, 128]) and torch.Size([33, 128]) respectively.\n",
            "Batch sizes for English and German are torch.Size([29, 128]) and torch.Size([26, 128]) respectively.\n"
          ]
        },
        {
          "metadata": {
            "tags": null
          },
          "name": "stderr",
          "output_type": "stream",
          "text": [
            "Model training in progress...:  79%|███████▉  | 179/227 [00:29<00:07,  6.28it/s]"
          ]
        },
        {
          "metadata": {
            "tags": null
          },
          "name": "stdout",
          "output_type": "stream",
          "text": [
            "Batch sizes for English and German are torch.Size([29, 128]) and torch.Size([29, 128]) respectively.\n",
            "Batch sizes for English and German are torch.Size([31, 128]) and torch.Size([28, 128]) respectively.\n"
          ]
        },
        {
          "metadata": {
            "tags": null
          },
          "name": "stderr",
          "output_type": "stream",
          "text": [
            "Model training in progress...:  80%|███████▉  | 181/227 [00:30<00:07,  6.10it/s]"
          ]
        },
        {
          "metadata": {
            "tags": null
          },
          "name": "stdout",
          "output_type": "stream",
          "text": [
            "Batch sizes for English and German are torch.Size([32, 128]) and torch.Size([31, 128]) respectively.\n",
            "Batch sizes for English and German are torch.Size([30, 128]) and torch.Size([27, 128]) respectively.\n"
          ]
        },
        {
          "metadata": {
            "tags": null
          },
          "name": "stderr",
          "output_type": "stream",
          "text": [
            "Model training in progress...:  81%|████████  | 183/227 [00:30<00:07,  6.09it/s]"
          ]
        },
        {
          "metadata": {
            "tags": null
          },
          "name": "stdout",
          "output_type": "stream",
          "text": [
            "Batch sizes for English and German are torch.Size([32, 128]) and torch.Size([26, 128]) respectively.\n",
            "Batch sizes for English and German are torch.Size([28, 128]) and torch.Size([29, 128]) respectively.\n"
          ]
        },
        {
          "metadata": {
            "tags": null
          },
          "name": "stderr",
          "output_type": "stream",
          "text": [
            "Model training in progress...:  81%|████████▏ | 185/227 [00:30<00:06,  6.45it/s]"
          ]
        },
        {
          "metadata": {
            "tags": null
          },
          "name": "stdout",
          "output_type": "stream",
          "text": [
            "Batch sizes for English and German are torch.Size([26, 128]) and torch.Size([32, 128]) respectively.\n",
            "Batch sizes for English and German are torch.Size([30, 128]) and torch.Size([28, 128]) respectively.\n"
          ]
        },
        {
          "metadata": {
            "tags": null
          },
          "name": "stderr",
          "output_type": "stream",
          "text": [
            "Model training in progress...:  82%|████████▏ | 187/227 [00:31<00:06,  6.27it/s]"
          ]
        },
        {
          "metadata": {
            "tags": null
          },
          "name": "stdout",
          "output_type": "stream",
          "text": [
            "Batch sizes for English and German are torch.Size([31, 128]) and torch.Size([28, 128]) respectively.\n",
            "Batch sizes for English and German are torch.Size([25, 128]) and torch.Size([27, 128]) respectively.\n"
          ]
        },
        {
          "metadata": {
            "tags": null
          },
          "name": "stderr",
          "output_type": "stream",
          "text": [
            "Model training in progress...:  83%|████████▎ | 189/227 [00:31<00:05,  6.61it/s]"
          ]
        },
        {
          "metadata": {
            "tags": null
          },
          "name": "stdout",
          "output_type": "stream",
          "text": [
            "Batch sizes for English and German are torch.Size([27, 128]) and torch.Size([26, 128]) respectively.\n",
            "Batch sizes for English and German are torch.Size([32, 128]) and torch.Size([32, 128]) respectively.\n"
          ]
        },
        {
          "metadata": {
            "tags": null
          },
          "name": "stderr",
          "output_type": "stream",
          "text": [
            "Model training in progress...:  84%|████████▍ | 191/227 [00:31<00:05,  6.36it/s]"
          ]
        },
        {
          "metadata": {
            "tags": null
          },
          "name": "stdout",
          "output_type": "stream",
          "text": [
            "Batch sizes for English and German are torch.Size([28, 128]) and torch.Size([26, 128]) respectively.\n",
            "Batch sizes for English and German are torch.Size([34, 128]) and torch.Size([30, 128]) respectively.\n"
          ]
        },
        {
          "metadata": {
            "tags": null
          },
          "name": "stderr",
          "output_type": "stream",
          "text": [
            "Model training in progress...:  85%|████████▌ | 193/227 [00:32<00:05,  5.86it/s]"
          ]
        },
        {
          "metadata": {
            "tags": null
          },
          "name": "stdout",
          "output_type": "stream",
          "text": [
            "Batch sizes for English and German are torch.Size([33, 128]) and torch.Size([34, 128]) respectively.\n",
            "Batch sizes for English and German are torch.Size([34, 128]) and torch.Size([34, 128]) respectively.\n"
          ]
        },
        {
          "metadata": {
            "tags": null
          },
          "name": "stderr",
          "output_type": "stream",
          "text": [
            "Model training in progress...:  86%|████████▌ | 195/227 [00:32<00:05,  5.82it/s]"
          ]
        },
        {
          "metadata": {
            "tags": null
          },
          "name": "stdout",
          "output_type": "stream",
          "text": [
            "Batch sizes for English and German are torch.Size([29, 128]) and torch.Size([28, 128]) respectively.\n",
            "Batch sizes for English and German are torch.Size([29, 128]) and torch.Size([31, 128]) respectively.\n"
          ]
        },
        {
          "metadata": {
            "tags": null
          },
          "name": "stderr",
          "output_type": "stream",
          "text": [
            "Model training in progress...:  87%|████████▋ | 197/227 [00:32<00:04,  6.06it/s]"
          ]
        },
        {
          "metadata": {
            "tags": null
          },
          "name": "stdout",
          "output_type": "stream",
          "text": [
            "Batch sizes for English and German are torch.Size([28, 128]) and torch.Size([30, 128]) respectively.\n",
            "Batch sizes for English and German are torch.Size([29, 128]) and torch.Size([30, 128]) respectively.\n"
          ]
        },
        {
          "metadata": {
            "tags": null
          },
          "name": "stderr",
          "output_type": "stream",
          "text": [
            "Model training in progress...:  88%|████████▊ | 199/227 [00:33<00:04,  6.09it/s]"
          ]
        },
        {
          "metadata": {
            "tags": null
          },
          "name": "stdout",
          "output_type": "stream",
          "text": [
            "Batch sizes for English and German are torch.Size([27, 128]) and torch.Size([31, 128]) respectively.\n",
            "Batch sizes for English and German are torch.Size([35, 128]) and torch.Size([33, 128]) respectively.\n"
          ]
        },
        {
          "metadata": {
            "tags": null
          },
          "name": "stderr",
          "output_type": "stream",
          "text": [
            "Model training in progress...:  89%|████████▊ | 201/227 [00:33<00:04,  6.01it/s]"
          ]
        },
        {
          "metadata": {
            "tags": null
          },
          "name": "stdout",
          "output_type": "stream",
          "text": [
            "Batch sizes for English and German are torch.Size([26, 128]) and torch.Size([26, 128]) respectively.\n",
            "Batch sizes for English and German are torch.Size([33, 128]) and torch.Size([30, 128]) respectively.\n"
          ]
        },
        {
          "metadata": {
            "tags": null
          },
          "name": "stderr",
          "output_type": "stream",
          "text": [
            "Model training in progress...:  89%|████████▉ | 203/227 [00:33<00:03,  6.06it/s]"
          ]
        },
        {
          "metadata": {
            "tags": null
          },
          "name": "stdout",
          "output_type": "stream",
          "text": [
            "Batch sizes for English and German are torch.Size([27, 128]) and torch.Size([31, 128]) respectively.\n",
            "Batch sizes for English and German are torch.Size([27, 128]) and torch.Size([33, 128]) respectively.\n"
          ]
        },
        {
          "metadata": {
            "tags": null
          },
          "name": "stderr",
          "output_type": "stream",
          "text": [
            "Model training in progress...:  90%|█████████ | 205/227 [00:33<00:03,  6.20it/s]"
          ]
        },
        {
          "metadata": {
            "tags": null
          },
          "name": "stdout",
          "output_type": "stream",
          "text": [
            "Batch sizes for English and German are torch.Size([30, 128]) and torch.Size([33, 128]) respectively.\n",
            "Batch sizes for English and German are torch.Size([27, 128]) and torch.Size([28, 128]) respectively.\n"
          ]
        },
        {
          "metadata": {
            "tags": null
          },
          "name": "stderr",
          "output_type": "stream",
          "text": [
            "Model training in progress...:  91%|█████████ | 207/227 [00:34<00:02,  6.70it/s]"
          ]
        },
        {
          "metadata": {
            "tags": null
          },
          "name": "stdout",
          "output_type": "stream",
          "text": [
            "Batch sizes for English and German are torch.Size([25, 128]) and torch.Size([23, 128]) respectively.\n",
            "Batch sizes for English and German are torch.Size([24, 128]) and torch.Size([26, 128]) respectively.\n"
          ]
        },
        {
          "metadata": {
            "tags": null
          },
          "name": "stderr",
          "output_type": "stream",
          "text": [
            "Model training in progress...:  92%|█████████▏| 209/227 [00:34<00:02,  6.24it/s]"
          ]
        },
        {
          "metadata": {
            "tags": null
          },
          "name": "stdout",
          "output_type": "stream",
          "text": [
            "Batch sizes for English and German are torch.Size([37, 128]) and torch.Size([38, 128]) respectively.\n"
          ]
        },
        {
          "metadata": {
            "tags": null
          },
          "name": "stderr",
          "output_type": "stream",
          "text": [
            "\rModel training in progress...:  93%|█████████▎| 210/227 [00:34<00:02,  6.22it/s]"
          ]
        },
        {
          "metadata": {
            "tags": null
          },
          "name": "stdout",
          "output_type": "stream",
          "text": [
            "Batch sizes for English and German are torch.Size([30, 128]) and torch.Size([27, 128]) respectively.\n",
            "Batch sizes for English and German are torch.Size([27, 128]) and torch.Size([28, 128]) respectively.\n"
          ]
        },
        {
          "metadata": {
            "tags": null
          },
          "name": "stderr",
          "output_type": "stream",
          "text": [
            "Model training in progress...:  93%|█████████▎| 212/227 [00:35<00:02,  5.92it/s]"
          ]
        },
        {
          "metadata": {
            "tags": null
          },
          "name": "stdout",
          "output_type": "stream",
          "text": [
            "Batch sizes for English and German are torch.Size([36, 128]) and torch.Size([38, 128]) respectively.\n",
            "Batch sizes for English and German are torch.Size([37, 128]) and torch.Size([29, 128]) respectively.\n"
          ]
        },
        {
          "metadata": {
            "tags": null
          },
          "name": "stderr",
          "output_type": "stream",
          "text": [
            "Model training in progress...:  94%|█████████▍| 214/227 [00:35<00:02,  6.01it/s]"
          ]
        },
        {
          "metadata": {
            "tags": null
          },
          "name": "stdout",
          "output_type": "stream",
          "text": [
            "Batch sizes for English and German are torch.Size([26, 128]) and torch.Size([29, 128]) respectively.\n",
            "Batch sizes for English and German are torch.Size([28, 128]) and torch.Size([27, 128]) respectively.\n"
          ]
        },
        {
          "metadata": {
            "tags": null
          },
          "name": "stderr",
          "output_type": "stream",
          "text": [
            "Model training in progress...:  95%|█████████▌| 216/227 [00:35<00:01,  6.45it/s]"
          ]
        },
        {
          "metadata": {
            "tags": null
          },
          "name": "stdout",
          "output_type": "stream",
          "text": [
            "Batch sizes for English and German are torch.Size([26, 128]) and torch.Size([28, 128]) respectively.\n",
            "Batch sizes for English and German are torch.Size([33, 128]) and torch.Size([29, 128]) respectively.\n"
          ]
        },
        {
          "metadata": {
            "tags": null
          },
          "name": "stderr",
          "output_type": "stream",
          "text": [
            "Model training in progress...:  96%|█████████▌| 218/227 [00:36<00:01,  6.17it/s]"
          ]
        },
        {
          "metadata": {
            "tags": null
          },
          "name": "stdout",
          "output_type": "stream",
          "text": [
            "Batch sizes for English and German are torch.Size([30, 128]) and torch.Size([30, 128]) respectively.\n",
            "Batch sizes for English and German are torch.Size([32, 128]) and torch.Size([29, 128]) respectively.\n"
          ]
        },
        {
          "metadata": {
            "tags": null
          },
          "name": "stderr",
          "output_type": "stream",
          "text": [
            "Model training in progress...:  97%|█████████▋| 220/227 [00:36<00:01,  6.33it/s]"
          ]
        },
        {
          "metadata": {
            "tags": null
          },
          "name": "stdout",
          "output_type": "stream",
          "text": [
            "Batch sizes for English and German are torch.Size([27, 128]) and torch.Size([23, 128]) respectively.\n",
            "Batch sizes for English and German are torch.Size([26, 128]) and torch.Size([28, 128]) respectively.\n"
          ]
        },
        {
          "metadata": {
            "tags": null
          },
          "name": "stderr",
          "output_type": "stream",
          "text": [
            "Model training in progress...:  98%|█████████▊| 222/227 [00:36<00:00,  6.28it/s]"
          ]
        },
        {
          "metadata": {
            "tags": null
          },
          "name": "stdout",
          "output_type": "stream",
          "text": [
            "Batch sizes for English and German are torch.Size([32, 128]) and torch.Size([37, 128]) respectively.\n",
            "Batch sizes for English and German are torch.Size([28, 128]) and torch.Size([29, 128]) respectively.\n"
          ]
        },
        {
          "metadata": {
            "tags": null
          },
          "name": "stderr",
          "output_type": "stream",
          "text": [
            "Model training in progress...:  99%|█████████▊| 224/227 [00:37<00:00,  6.46it/s]"
          ]
        },
        {
          "metadata": {
            "tags": null
          },
          "name": "stdout",
          "output_type": "stream",
          "text": [
            "Batch sizes for English and German are torch.Size([27, 128]) and torch.Size([31, 128]) respectively.\n",
            "Batch sizes for English and German are torch.Size([30, 128]) and torch.Size([30, 128]) respectively.\n"
          ]
        },
        {
          "metadata": {
            "tags": null
          },
          "name": "stderr",
          "output_type": "stream",
          "text": [
            "Model training in progress...: 100%|█████████▉| 226/227 [00:37<00:00,  6.60it/s]"
          ]
        },
        {
          "metadata": {
            "tags": null
          },
          "name": "stdout",
          "output_type": "stream",
          "text": [
            "Batch sizes for English and German are torch.Size([26, 128]) and torch.Size([24, 128]) respectively.\n",
            "Batch sizes for English and German are torch.Size([22, 72]) and torch.Size([28, 72]) respectively.\n"
          ]
        },
        {
          "metadata": {
            "tags": null
          },
          "name": "stderr",
          "output_type": "stream",
          "text": [
            "Model training in progress...: 100%|██████████| 227/227 [00:37<00:00,  6.07it/s]\n",
            "Model validation in progress...:  25%|██▌       | 2/8 [00:00<00:00, 14.20it/s]"
          ]
        },
        {
          "metadata": {
            "tags": null
          },
          "name": "stdout",
          "output_type": "stream",
          "text": [
            "Batch sizes for English and German are torch.Size([33, 128]) and torch.Size([33, 128]) respectively.\n",
            "Batch sizes for English and German are torch.Size([27, 128]) and torch.Size([25, 128]) respectively.\n",
            "Batch sizes for English and German are torch.Size([32, 128]) and torch.Size([30, 128]) respectively.\n"
          ]
        },
        {
          "metadata": {
            "tags": null
          },
          "name": "stderr",
          "output_type": "stream",
          "text": [
            "\rModel validation in progress...:  50%|█████     | 4/8 [00:00<00:00, 13.86it/s]"
          ]
        },
        {
          "metadata": {
            "tags": null
          },
          "name": "stdout",
          "output_type": "stream",
          "text": [
            "Batch sizes for English and German are torch.Size([29, 128]) and torch.Size([28, 128]) respectively.\n",
            "Batch sizes for English and German are torch.Size([34, 128]) and torch.Size([34, 128]) respectively.\n",
            "Batch sizes for English and German are torch.Size([28, 128]) and torch.Size([27, 128]) respectively.\n"
          ]
        },
        {
          "metadata": {
            "tags": null
          },
          "name": "stderr",
          "output_type": "stream",
          "text": [
            "Model validation in progress...: 100%|██████████| 8/8 [00:00<00:00, 13.81it/s]\n"
          ]
        },
        {
          "metadata": {
            "tags": null
          },
          "name": "stdout",
          "output_type": "stream",
          "text": [
            "Batch sizes for English and German are torch.Size([30, 128]) and torch.Size([35, 128]) respectively.\n",
            "Batch sizes for English and German are torch.Size([31, 118]) and torch.Size([31, 118]) respectively.\n",
            "Epoch: 2\n",
            "Training loss: 4.166\n",
            "Validation loss: 4.605\n",
            "\n",
            "\n"
          ]
        },
        {
          "metadata": {
            "tags": null
          },
          "name": "stderr",
          "output_type": "stream",
          "text": [
            "\rModel training in progress...:   0%|          | 0/227 [00:00<?, ?it/s]"
          ]
        },
        {
          "metadata": {
            "tags": null
          },
          "name": "stdout",
          "output_type": "stream",
          "text": [
            "Batch sizes for English and German are torch.Size([39, 128]) and torch.Size([33, 128]) respectively.\n"
          ]
        },
        {
          "metadata": {
            "tags": null
          },
          "name": "stderr",
          "output_type": "stream",
          "text": [
            "Model training in progress...:   1%|          | 2/227 [00:00<00:38,  5.78it/s]"
          ]
        },
        {
          "metadata": {
            "tags": null
          },
          "name": "stdout",
          "output_type": "stream",
          "text": [
            "Batch sizes for English and German are torch.Size([26, 128]) and torch.Size([24, 128]) respectively.\n",
            "Batch sizes for English and German are torch.Size([35, 128]) and torch.Size([33, 128]) respectively.\n"
          ]
        },
        {
          "metadata": {
            "tags": null
          },
          "name": "stderr",
          "output_type": "stream",
          "text": [
            "Model training in progress...:   2%|▏         | 4/227 [00:00<00:40,  5.56it/s]"
          ]
        },
        {
          "metadata": {
            "tags": null
          },
          "name": "stdout",
          "output_type": "stream",
          "text": [
            "Batch sizes for English and German are torch.Size([31, 128]) and torch.Size([31, 128]) respectively.\n",
            "Batch sizes for English and German are torch.Size([37, 128]) and torch.Size([38, 128]) respectively.\n"
          ]
        },
        {
          "metadata": {
            "tags": null
          },
          "name": "stderr",
          "output_type": "stream",
          "text": [
            "Model training in progress...:   3%|▎         | 6/227 [00:01<00:42,  5.24it/s]"
          ]
        },
        {
          "metadata": {
            "tags": null
          },
          "name": "stdout",
          "output_type": "stream",
          "text": [
            "Batch sizes for English and German are torch.Size([35, 128]) and torch.Size([33, 128]) respectively.\n",
            "Batch sizes for English and German are torch.Size([26, 128]) and torch.Size([28, 128]) respectively.\n"
          ]
        },
        {
          "metadata": {
            "tags": null
          },
          "name": "stderr",
          "output_type": "stream",
          "text": [
            "Model training in progress...:   4%|▎         | 8/227 [00:01<00:36,  5.99it/s]"
          ]
        },
        {
          "metadata": {
            "tags": null
          },
          "name": "stdout",
          "output_type": "stream",
          "text": [
            "Batch sizes for English and German are torch.Size([28, 128]) and torch.Size([30, 128]) respectively.\n",
            "Batch sizes for English and German are torch.Size([28, 128]) and torch.Size([30, 128]) respectively.\n"
          ]
        },
        {
          "metadata": {
            "tags": null
          },
          "name": "stderr",
          "output_type": "stream",
          "text": [
            "Model training in progress...:   4%|▍         | 10/227 [00:01<00:34,  6.26it/s]"
          ]
        },
        {
          "metadata": {
            "tags": null
          },
          "name": "stdout",
          "output_type": "stream",
          "text": [
            "Batch sizes for English and German are torch.Size([29, 128]) and torch.Size([26, 128]) respectively.\n",
            "Batch sizes for English and German are torch.Size([27, 128]) and torch.Size([27, 128]) respectively.\n"
          ]
        },
        {
          "metadata": {
            "tags": null
          },
          "name": "stderr",
          "output_type": "stream",
          "text": [
            "Model training in progress...:   5%|▌         | 12/227 [00:02<00:32,  6.55it/s]"
          ]
        },
        {
          "metadata": {
            "tags": null
          },
          "name": "stdout",
          "output_type": "stream",
          "text": [
            "Batch sizes for English and German are torch.Size([27, 128]) and torch.Size([29, 128]) respectively.\n",
            "Batch sizes for English and German are torch.Size([33, 128]) and torch.Size([26, 128]) respectively.\n"
          ]
        },
        {
          "metadata": {
            "tags": null
          },
          "name": "stderr",
          "output_type": "stream",
          "text": [
            "Model training in progress...:   6%|▌         | 14/227 [00:02<00:34,  6.26it/s]"
          ]
        },
        {
          "metadata": {
            "tags": null
          },
          "name": "stdout",
          "output_type": "stream",
          "text": [
            "Batch sizes for English and German are torch.Size([30, 128]) and torch.Size([28, 128]) respectively.\n",
            "Batch sizes for English and German are torch.Size([34, 128]) and torch.Size([29, 128]) respectively.\n"
          ]
        },
        {
          "metadata": {
            "tags": null
          },
          "name": "stderr",
          "output_type": "stream",
          "text": [
            "Model training in progress...:   7%|▋         | 16/227 [00:02<00:35,  5.95it/s]"
          ]
        },
        {
          "metadata": {
            "tags": null
          },
          "name": "stdout",
          "output_type": "stream",
          "text": [
            "Batch sizes for English and German are torch.Size([31, 128]) and torch.Size([27, 128]) respectively.\n",
            "Batch sizes for English and German are torch.Size([36, 128]) and torch.Size([38, 128]) respectively.\n"
          ]
        },
        {
          "metadata": {
            "tags": null
          },
          "name": "stderr",
          "output_type": "stream",
          "text": [
            "Model training in progress...:   8%|▊         | 18/227 [00:03<00:36,  5.73it/s]"
          ]
        },
        {
          "metadata": {
            "tags": null
          },
          "name": "stdout",
          "output_type": "stream",
          "text": [
            "Batch sizes for English and German are torch.Size([31, 128]) and torch.Size([26, 128]) respectively.\n",
            "Batch sizes for English and German are torch.Size([27, 128]) and torch.Size([26, 128]) respectively.\n"
          ]
        },
        {
          "metadata": {
            "tags": null
          },
          "name": "stderr",
          "output_type": "stream",
          "text": [
            "Model training in progress...:   9%|▉         | 20/227 [00:03<00:35,  5.78it/s]"
          ]
        },
        {
          "metadata": {
            "tags": null
          },
          "name": "stdout",
          "output_type": "stream",
          "text": [
            "Batch sizes for English and German are torch.Size([35, 128]) and torch.Size([34, 128]) respectively.\n",
            "Batch sizes for English and German are torch.Size([29, 128]) and torch.Size([27, 128]) respectively.\n"
          ]
        },
        {
          "metadata": {
            "tags": null
          },
          "name": "stderr",
          "output_type": "stream",
          "text": [
            "Model training in progress...:  10%|▉         | 22/227 [00:03<00:33,  6.10it/s]"
          ]
        },
        {
          "metadata": {
            "tags": null
          },
          "name": "stdout",
          "output_type": "stream",
          "text": [
            "Batch sizes for English and German are torch.Size([29, 128]) and torch.Size([28, 128]) respectively.\n",
            "Batch sizes for English and German are torch.Size([32, 128]) and torch.Size([33, 128]) respectively.\n"
          ]
        },
        {
          "metadata": {
            "tags": null
          },
          "name": "stderr",
          "output_type": "stream",
          "text": [
            "Model training in progress...:  11%|█         | 24/227 [00:04<00:34,  5.96it/s]"
          ]
        },
        {
          "metadata": {
            "tags": null
          },
          "name": "stdout",
          "output_type": "stream",
          "text": [
            "Batch sizes for English and German are torch.Size([32, 128]) and torch.Size([27, 128]) respectively.\n",
            "Batch sizes for English and German are torch.Size([28, 128]) and torch.Size([28, 128]) respectively.\n"
          ]
        },
        {
          "metadata": {
            "tags": null
          },
          "name": "stderr",
          "output_type": "stream",
          "text": [
            "Model training in progress...:  11%|█▏        | 26/227 [00:04<00:33,  6.07it/s]"
          ]
        },
        {
          "metadata": {
            "tags": null
          },
          "name": "stdout",
          "output_type": "stream",
          "text": [
            "Batch sizes for English and German are torch.Size([32, 128]) and torch.Size([25, 128]) respectively.\n",
            "Batch sizes for English and German are torch.Size([29, 128]) and torch.Size([26, 128]) respectively.\n"
          ]
        },
        {
          "metadata": {
            "tags": null
          },
          "name": "stderr",
          "output_type": "stream",
          "text": [
            "Model training in progress...:  12%|█▏        | 28/227 [00:04<00:33,  5.95it/s]"
          ]
        },
        {
          "metadata": {
            "tags": null
          },
          "name": "stdout",
          "output_type": "stream",
          "text": [
            "Batch sizes for English and German are torch.Size([34, 128]) and torch.Size([34, 128]) respectively.\n",
            "Batch sizes for English and German are torch.Size([26, 128]) and torch.Size([27, 128]) respectively.\n"
          ]
        },
        {
          "metadata": {
            "tags": null
          },
          "name": "stderr",
          "output_type": "stream",
          "text": [
            "Model training in progress...:  13%|█▎        | 30/227 [00:05<00:31,  6.24it/s]"
          ]
        },
        {
          "metadata": {
            "tags": null
          },
          "name": "stdout",
          "output_type": "stream",
          "text": [
            "Batch sizes for English and German are torch.Size([30, 128]) and torch.Size([29, 128]) respectively.\n",
            "Batch sizes for English and German are torch.Size([37, 128]) and torch.Size([38, 128]) respectively.\n"
          ]
        },
        {
          "metadata": {
            "tags": null
          },
          "name": "stderr",
          "output_type": "stream",
          "text": [
            "Model training in progress...:  14%|█▍        | 32/227 [00:05<00:34,  5.74it/s]"
          ]
        },
        {
          "metadata": {
            "tags": null
          },
          "name": "stdout",
          "output_type": "stream",
          "text": [
            "Batch sizes for English and German are torch.Size([32, 128]) and torch.Size([36, 128]) respectively.\n",
            "Batch sizes for English and German are torch.Size([34, 128]) and torch.Size([32, 128]) respectively.\n"
          ]
        },
        {
          "metadata": {
            "tags": null
          },
          "name": "stderr",
          "output_type": "stream",
          "text": [
            "Model training in progress...:  15%|█▍        | 34/227 [00:05<00:33,  5.77it/s]"
          ]
        },
        {
          "metadata": {
            "tags": null
          },
          "name": "stdout",
          "output_type": "stream",
          "text": [
            "Batch sizes for English and German are torch.Size([29, 128]) and torch.Size([28, 128]) respectively.\n",
            "Batch sizes for English and German are torch.Size([27, 128]) and torch.Size([26, 128]) respectively.\n"
          ]
        },
        {
          "metadata": {
            "tags": null
          },
          "name": "stderr",
          "output_type": "stream",
          "text": [
            "Model training in progress...:  16%|█▌        | 36/227 [00:06<00:32,  5.83it/s]"
          ]
        },
        {
          "metadata": {
            "tags": null
          },
          "name": "stdout",
          "output_type": "stream",
          "text": [
            "Batch sizes for English and German are torch.Size([33, 128]) and torch.Size([34, 128]) respectively.\n",
            "Batch sizes for English and German are torch.Size([26, 128]) and torch.Size([27, 128]) respectively.\n"
          ]
        },
        {
          "metadata": {
            "tags": null
          },
          "name": "stderr",
          "output_type": "stream",
          "text": [
            "Model training in progress...:  17%|█▋        | 38/227 [00:06<00:30,  6.23it/s]"
          ]
        },
        {
          "metadata": {
            "tags": null
          },
          "name": "stdout",
          "output_type": "stream",
          "text": [
            "Batch sizes for English and German are torch.Size([28, 128]) and torch.Size([27, 128]) respectively.\n",
            "Batch sizes for English and German are torch.Size([26, 128]) and torch.Size([28, 128]) respectively.\n"
          ]
        },
        {
          "metadata": {
            "tags": null
          },
          "name": "stderr",
          "output_type": "stream",
          "text": [
            "Model training in progress...:  18%|█▊        | 40/227 [00:06<00:28,  6.51it/s]"
          ]
        },
        {
          "metadata": {
            "tags": null
          },
          "name": "stdout",
          "output_type": "stream",
          "text": [
            "Batch sizes for English and German are torch.Size([26, 128]) and torch.Size([25, 128]) respectively.\n",
            "Batch sizes for English and German are torch.Size([29, 128]) and torch.Size([33, 128]) respectively.\n"
          ]
        },
        {
          "metadata": {
            "tags": null
          },
          "name": "stderr",
          "output_type": "stream",
          "text": [
            "Model training in progress...:  19%|█▊        | 42/227 [00:06<00:28,  6.55it/s]"
          ]
        },
        {
          "metadata": {
            "tags": null
          },
          "name": "stdout",
          "output_type": "stream",
          "text": [
            "Batch sizes for English and German are torch.Size([25, 128]) and torch.Size([29, 128]) respectively.\n",
            "Batch sizes for English and German are torch.Size([26, 128]) and torch.Size([24, 128]) respectively.\n"
          ]
        },
        {
          "metadata": {
            "tags": null
          },
          "name": "stderr",
          "output_type": "stream",
          "text": [
            "Model training in progress...:  19%|█▉        | 44/227 [00:07<00:27,  6.69it/s]"
          ]
        },
        {
          "metadata": {
            "tags": null
          },
          "name": "stdout",
          "output_type": "stream",
          "text": [
            "Batch sizes for English and German are torch.Size([26, 128]) and torch.Size([25, 128]) respectively.\n",
            "Batch sizes for English and German are torch.Size([28, 128]) and torch.Size([29, 128]) respectively.\n"
          ]
        },
        {
          "metadata": {
            "tags": null
          },
          "name": "stderr",
          "output_type": "stream",
          "text": [
            "Model training in progress...:  20%|██        | 46/227 [00:07<00:28,  6.31it/s]"
          ]
        },
        {
          "metadata": {
            "tags": null
          },
          "name": "stdout",
          "output_type": "stream",
          "text": [
            "Batch sizes for English and German are torch.Size([32, 128]) and torch.Size([28, 128]) respectively.\n",
            "Batch sizes for English and German are torch.Size([35, 128]) and torch.Size([32, 128]) respectively.\n"
          ]
        },
        {
          "metadata": {
            "tags": null
          },
          "name": "stderr",
          "output_type": "stream",
          "text": [
            "Model training in progress...:  21%|██        | 48/227 [00:08<00:31,  5.65it/s]"
          ]
        },
        {
          "metadata": {
            "tags": null
          },
          "name": "stdout",
          "output_type": "stream",
          "text": [
            "Batch sizes for English and German are torch.Size([37, 128]) and torch.Size([30, 128]) respectively.\n",
            "Batch sizes for English and German are torch.Size([31, 128]) and torch.Size([34, 128]) respectively.\n"
          ]
        },
        {
          "metadata": {
            "tags": null
          },
          "name": "stderr",
          "output_type": "stream",
          "text": [
            "Model training in progress...:  22%|██▏       | 50/227 [00:08<00:30,  5.88it/s]"
          ]
        },
        {
          "metadata": {
            "tags": null
          },
          "name": "stdout",
          "output_type": "stream",
          "text": [
            "Batch sizes for English and German are torch.Size([30, 128]) and torch.Size([27, 128]) respectively.\n",
            "Batch sizes for English and German are torch.Size([36, 128]) and torch.Size([37, 128]) respectively.\n"
          ]
        },
        {
          "metadata": {
            "tags": null
          },
          "name": "stderr",
          "output_type": "stream",
          "text": [
            "Model training in progress...:  23%|██▎       | 52/227 [00:08<00:32,  5.41it/s]"
          ]
        },
        {
          "metadata": {
            "tags": null
          },
          "name": "stdout",
          "output_type": "stream",
          "text": [
            "Batch sizes for English and German are torch.Size([37, 128]) and torch.Size([34, 128]) respectively.\n",
            "Batch sizes for English and German are torch.Size([36, 128]) and torch.Size([38, 128]) respectively.\n"
          ]
        },
        {
          "metadata": {
            "tags": null
          },
          "name": "stderr",
          "output_type": "stream",
          "text": [
            "Model training in progress...:  24%|██▍       | 54/227 [00:09<00:31,  5.42it/s]"
          ]
        },
        {
          "metadata": {
            "tags": null
          },
          "name": "stdout",
          "output_type": "stream",
          "text": [
            "Batch sizes for English and German are torch.Size([31, 128]) and torch.Size([33, 128]) respectively.\n",
            "Batch sizes for English and German are torch.Size([30, 128]) and torch.Size([30, 128]) respectively.\n"
          ]
        },
        {
          "metadata": {
            "tags": null
          },
          "name": "stderr",
          "output_type": "stream",
          "text": [
            "Model training in progress...:  25%|██▍       | 56/227 [00:09<00:29,  5.88it/s]"
          ]
        },
        {
          "metadata": {
            "tags": null
          },
          "name": "stdout",
          "output_type": "stream",
          "text": [
            "Batch sizes for English and German are torch.Size([28, 128]) and torch.Size([27, 128]) respectively.\n",
            "Batch sizes for English and German are torch.Size([25, 128]) and torch.Size([27, 128]) respectively.\n"
          ]
        },
        {
          "metadata": {
            "tags": null
          },
          "name": "stderr",
          "output_type": "stream",
          "text": [
            "Model training in progress...:  26%|██▌       | 58/227 [00:09<00:27,  6.09it/s]"
          ]
        },
        {
          "metadata": {
            "tags": null
          },
          "name": "stdout",
          "output_type": "stream",
          "text": [
            "Batch sizes for English and German are torch.Size([32, 128]) and torch.Size([37, 128]) respectively.\n",
            "Batch sizes for English and German are torch.Size([29, 128]) and torch.Size([31, 128]) respectively.\n"
          ]
        },
        {
          "metadata": {
            "tags": null
          },
          "name": "stderr",
          "output_type": "stream",
          "text": [
            "Model training in progress...:  26%|██▋       | 60/227 [00:10<00:29,  5.68it/s]"
          ]
        },
        {
          "metadata": {
            "tags": null
          },
          "name": "stdout",
          "output_type": "stream",
          "text": [
            "Batch sizes for English and German are torch.Size([38, 128]) and torch.Size([36, 128]) respectively.\n"
          ]
        },
        {
          "metadata": {
            "tags": null
          },
          "name": "stderr",
          "output_type": "stream",
          "text": [
            "\rModel training in progress...:  27%|██▋       | 61/227 [00:10<00:28,  5.73it/s]"
          ]
        },
        {
          "metadata": {
            "tags": null
          },
          "name": "stdout",
          "output_type": "stream",
          "text": [
            "Batch sizes for English and German are torch.Size([32, 128]) and torch.Size([28, 128]) respectively.\n",
            "Batch sizes for English and German are torch.Size([29, 128]) and torch.Size([28, 128]) respectively.\n"
          ]
        },
        {
          "metadata": {
            "tags": null
          },
          "name": "stderr",
          "output_type": "stream",
          "text": [
            "Model training in progress...:  28%|██▊       | 63/227 [00:10<00:27,  5.95it/s]"
          ]
        },
        {
          "metadata": {
            "tags": null
          },
          "name": "stdout",
          "output_type": "stream",
          "text": [
            "Batch sizes for English and German are torch.Size([31, 128]) and torch.Size([31, 128]) respectively.\n",
            "Batch sizes for English and German are torch.Size([32, 128]) and torch.Size([25, 128]) respectively.\n"
          ]
        },
        {
          "metadata": {
            "tags": null
          },
          "name": "stderr",
          "output_type": "stream",
          "text": [
            "Model training in progress...:  29%|██▊       | 65/227 [00:10<00:26,  6.18it/s]"
          ]
        },
        {
          "metadata": {
            "tags": null
          },
          "name": "stdout",
          "output_type": "stream",
          "text": [
            "Batch sizes for English and German are torch.Size([28, 128]) and torch.Size([24, 128]) respectively.\n",
            "Batch sizes for English and German are torch.Size([25, 128]) and torch.Size([24, 128]) respectively.\n"
          ]
        },
        {
          "metadata": {
            "tags": null
          },
          "name": "stderr",
          "output_type": "stream",
          "text": [
            "Model training in progress...:  30%|██▉       | 67/227 [00:11<00:25,  6.34it/s]"
          ]
        },
        {
          "metadata": {
            "tags": null
          },
          "name": "stdout",
          "output_type": "stream",
          "text": [
            "Batch sizes for English and German are torch.Size([31, 128]) and torch.Size([31, 128]) respectively.\n",
            "Batch sizes for English and German are torch.Size([28, 128]) and torch.Size([27, 128]) respectively.\n"
          ]
        },
        {
          "metadata": {
            "tags": null
          },
          "name": "stderr",
          "output_type": "stream",
          "text": [
            "Model training in progress...:  30%|███       | 69/227 [00:11<00:24,  6.35it/s]"
          ]
        },
        {
          "metadata": {
            "tags": null
          },
          "name": "stdout",
          "output_type": "stream",
          "text": [
            "Batch sizes for English and German are torch.Size([29, 128]) and torch.Size([30, 128]) respectively.\n",
            "Batch sizes for English and German are torch.Size([33, 128]) and torch.Size([34, 128]) respectively.\n"
          ]
        },
        {
          "metadata": {
            "tags": null
          },
          "name": "stderr",
          "output_type": "stream",
          "text": [
            "Model training in progress...:  31%|███▏      | 71/227 [00:11<00:25,  6.18it/s]"
          ]
        },
        {
          "metadata": {
            "tags": null
          },
          "name": "stdout",
          "output_type": "stream",
          "text": [
            "Batch sizes for English and German are torch.Size([28, 128]) and torch.Size([28, 128]) respectively.\n",
            "Batch sizes for English and German are torch.Size([26, 128]) and torch.Size([29, 128]) respectively.\n"
          ]
        },
        {
          "metadata": {
            "tags": null
          },
          "name": "stderr",
          "output_type": "stream",
          "text": [
            "Model training in progress...:  32%|███▏      | 73/227 [00:12<00:24,  6.36it/s]"
          ]
        },
        {
          "metadata": {
            "tags": null
          },
          "name": "stdout",
          "output_type": "stream",
          "text": [
            "Batch sizes for English and German are torch.Size([29, 128]) and torch.Size([29, 128]) respectively.\n",
            "Batch sizes for English and German are torch.Size([32, 128]) and torch.Size([28, 128]) respectively.\n"
          ]
        },
        {
          "metadata": {
            "tags": null
          },
          "name": "stderr",
          "output_type": "stream",
          "text": [
            "Model training in progress...:  33%|███▎      | 75/227 [00:12<00:25,  6.04it/s]"
          ]
        },
        {
          "metadata": {
            "tags": null
          },
          "name": "stdout",
          "output_type": "stream",
          "text": [
            "Batch sizes for English and German are torch.Size([31, 128]) and torch.Size([31, 128]) respectively.\n",
            "Batch sizes for English and German are torch.Size([25, 128]) and torch.Size([26, 128]) respectively.\n"
          ]
        },
        {
          "metadata": {
            "tags": null
          },
          "name": "stderr",
          "output_type": "stream",
          "text": [
            "Model training in progress...:  34%|███▍      | 77/227 [00:12<00:24,  6.04it/s]"
          ]
        },
        {
          "metadata": {
            "tags": null
          },
          "name": "stdout",
          "output_type": "stream",
          "text": [
            "Batch sizes for English and German are torch.Size([33, 128]) and torch.Size([30, 128]) respectively.\n",
            "Batch sizes for English and German are torch.Size([42, 128]) and torch.Size([41, 128]) respectively.\n"
          ]
        },
        {
          "metadata": {
            "tags": null
          },
          "name": "stderr",
          "output_type": "stream",
          "text": [
            "Model training in progress...:  35%|███▍      | 79/227 [00:13<00:25,  5.73it/s]"
          ]
        },
        {
          "metadata": {
            "tags": null
          },
          "name": "stdout",
          "output_type": "stream",
          "text": [
            "Batch sizes for English and German are torch.Size([28, 128]) and torch.Size([26, 128]) respectively.\n",
            "Batch sizes for English and German are torch.Size([43, 128]) and torch.Size([36, 128]) respectively.\n"
          ]
        },
        {
          "metadata": {
            "tags": null
          },
          "name": "stderr",
          "output_type": "stream",
          "text": [
            "Model training in progress...:  36%|███▌      | 81/227 [00:13<00:25,  5.75it/s]"
          ]
        },
        {
          "metadata": {
            "tags": null
          },
          "name": "stdout",
          "output_type": "stream",
          "text": [
            "Batch sizes for English and German are torch.Size([24, 128]) and torch.Size([25, 128]) respectively.\n",
            "Batch sizes for English and German are torch.Size([26, 128]) and torch.Size([32, 128]) respectively.\n"
          ]
        },
        {
          "metadata": {
            "tags": null
          },
          "name": "stderr",
          "output_type": "stream",
          "text": [
            "Model training in progress...:  37%|███▋      | 83/227 [00:13<00:24,  5.87it/s]"
          ]
        },
        {
          "metadata": {
            "tags": null
          },
          "name": "stdout",
          "output_type": "stream",
          "text": [
            "Batch sizes for English and German are torch.Size([34, 128]) and torch.Size([32, 128]) respectively.\n",
            "Batch sizes for English and German are torch.Size([27, 128]) and torch.Size([28, 128]) respectively.\n"
          ]
        },
        {
          "metadata": {
            "tags": null
          },
          "name": "stderr",
          "output_type": "stream",
          "text": [
            "Model training in progress...:  37%|███▋      | 85/227 [00:14<00:22,  6.33it/s]"
          ]
        },
        {
          "metadata": {
            "tags": null
          },
          "name": "stdout",
          "output_type": "stream",
          "text": [
            "Batch sizes for English and German are torch.Size([27, 128]) and torch.Size([25, 128]) respectively.\n",
            "Batch sizes for English and German are torch.Size([27, 128]) and torch.Size([29, 128]) respectively.\n"
          ]
        },
        {
          "metadata": {
            "tags": null
          },
          "name": "stderr",
          "output_type": "stream",
          "text": [
            "Model training in progress...:  38%|███▊      | 87/227 [00:14<00:21,  6.62it/s]"
          ]
        },
        {
          "metadata": {
            "tags": null
          },
          "name": "stdout",
          "output_type": "stream",
          "text": [
            "Batch sizes for English and German are torch.Size([27, 128]) and torch.Size([27, 128]) respectively.\n",
            "Batch sizes for English and German are torch.Size([40, 128]) and torch.Size([34, 128]) respectively.\n"
          ]
        },
        {
          "metadata": {
            "tags": null
          },
          "name": "stderr",
          "output_type": "stream",
          "text": [
            "Model training in progress...:  39%|███▉      | 89/227 [00:14<00:24,  5.60it/s]"
          ]
        },
        {
          "metadata": {
            "tags": null
          },
          "name": "stdout",
          "output_type": "stream",
          "text": [
            "Batch sizes for English and German are torch.Size([36, 128]) and torch.Size([31, 128]) respectively.\n",
            "Batch sizes for English and German are torch.Size([29, 128]) and torch.Size([30, 128]) respectively.\n"
          ]
        },
        {
          "metadata": {
            "tags": null
          },
          "name": "stderr",
          "output_type": "stream",
          "text": [
            "Model training in progress...:  40%|████      | 91/227 [00:15<00:23,  5.90it/s]"
          ]
        },
        {
          "metadata": {
            "tags": null
          },
          "name": "stdout",
          "output_type": "stream",
          "text": [
            "Batch sizes for English and German are torch.Size([30, 128]) and torch.Size([33, 128]) respectively.\n",
            "Batch sizes for English and German are torch.Size([28, 128]) and torch.Size([29, 128]) respectively.\n"
          ]
        },
        {
          "metadata": {
            "tags": null
          },
          "name": "stderr",
          "output_type": "stream",
          "text": [
            "Model training in progress...:  41%|████      | 93/227 [00:15<00:21,  6.19it/s]"
          ]
        },
        {
          "metadata": {
            "tags": null
          },
          "name": "stdout",
          "output_type": "stream",
          "text": [
            "Batch sizes for English and German are torch.Size([28, 128]) and torch.Size([25, 128]) respectively.\n",
            "Batch sizes for English and German are torch.Size([30, 128]) and torch.Size([28, 128]) respectively.\n"
          ]
        },
        {
          "metadata": {
            "tags": null
          },
          "name": "stderr",
          "output_type": "stream",
          "text": [
            "\rModel training in progress...:  41%|████▏     | 94/227 [00:15<00:21,  6.12it/s]"
          ]
        },
        {
          "metadata": {
            "tags": null
          },
          "name": "stdout",
          "output_type": "stream",
          "text": [
            "Batch sizes for English and German are torch.Size([41, 128]) and torch.Size([34, 128]) respectively.\n"
          ]
        },
        {
          "metadata": {
            "tags": null
          },
          "name": "stderr",
          "output_type": "stream",
          "text": [
            "Model training in progress...:  42%|████▏     | 96/227 [00:16<00:22,  5.90it/s]"
          ]
        },
        {
          "metadata": {
            "tags": null
          },
          "name": "stdout",
          "output_type": "stream",
          "text": [
            "Batch sizes for English and German are torch.Size([26, 128]) and torch.Size([26, 128]) respectively.\n",
            "Batch sizes for English and German are torch.Size([35, 128]) and torch.Size([33, 128]) respectively.\n"
          ]
        },
        {
          "metadata": {
            "tags": null
          },
          "name": "stderr",
          "output_type": "stream",
          "text": [
            "Model training in progress...:  43%|████▎     | 98/227 [00:16<00:23,  5.55it/s]"
          ]
        },
        {
          "metadata": {
            "tags": null
          },
          "name": "stdout",
          "output_type": "stream",
          "text": [
            "Batch sizes for English and German are torch.Size([34, 128]) and torch.Size([33, 128]) respectively.\n",
            "Batch sizes for English and German are torch.Size([27, 128]) and torch.Size([30, 128]) respectively.\n"
          ]
        },
        {
          "metadata": {
            "tags": null
          },
          "name": "stderr",
          "output_type": "stream",
          "text": [
            "Model training in progress...:  44%|████▍     | 100/227 [00:16<00:20,  6.29it/s]"
          ]
        },
        {
          "metadata": {
            "tags": null
          },
          "name": "stdout",
          "output_type": "stream",
          "text": [
            "Batch sizes for English and German are torch.Size([24, 128]) and torch.Size([27, 128]) respectively.\n",
            "Batch sizes for English and German are torch.Size([28, 128]) and torch.Size([28, 128]) respectively.\n"
          ]
        },
        {
          "metadata": {
            "tags": null
          },
          "name": "stderr",
          "output_type": "stream",
          "text": [
            "\rModel training in progress...:  44%|████▍     | 101/227 [00:16<00:19,  6.36it/s]"
          ]
        },
        {
          "metadata": {
            "tags": null
          },
          "name": "stdout",
          "output_type": "stream",
          "text": [
            "Batch sizes for English and German are torch.Size([40, 128]) and torch.Size([35, 128]) respectively.\n"
          ]
        },
        {
          "metadata": {
            "tags": null
          },
          "name": "stderr",
          "output_type": "stream",
          "text": [
            "Model training in progress...:  45%|████▌     | 103/227 [00:17<00:21,  5.71it/s]"
          ]
        },
        {
          "metadata": {
            "tags": null
          },
          "name": "stdout",
          "output_type": "stream",
          "text": [
            "Batch sizes for English and German are torch.Size([32, 128]) and torch.Size([30, 128]) respectively.\n",
            "Batch sizes for English and German are torch.Size([28, 128]) and torch.Size([30, 128]) respectively.\n"
          ]
        },
        {
          "metadata": {
            "tags": null
          },
          "name": "stderr",
          "output_type": "stream",
          "text": [
            "Model training in progress...:  46%|████▋     | 105/227 [00:17<00:19,  6.11it/s]"
          ]
        },
        {
          "metadata": {
            "tags": null
          },
          "name": "stdout",
          "output_type": "stream",
          "text": [
            "Batch sizes for English and German are torch.Size([28, 128]) and torch.Size([29, 128]) respectively.\n",
            "Batch sizes for English and German are torch.Size([27, 128]) and torch.Size([28, 128]) respectively.\n"
          ]
        },
        {
          "metadata": {
            "tags": null
          },
          "name": "stderr",
          "output_type": "stream",
          "text": [
            "Model training in progress...:  47%|████▋     | 107/227 [00:17<00:19,  6.05it/s]"
          ]
        },
        {
          "metadata": {
            "tags": null
          },
          "name": "stdout",
          "output_type": "stream",
          "text": [
            "Batch sizes for English and German are torch.Size([32, 128]) and torch.Size([27, 128]) respectively.\n",
            "Batch sizes for English and German are torch.Size([38, 128]) and torch.Size([30, 128]) respectively.\n"
          ]
        },
        {
          "metadata": {
            "tags": null
          },
          "name": "stderr",
          "output_type": "stream",
          "text": [
            "Model training in progress...:  48%|████▊     | 109/227 [00:18<00:21,  5.44it/s]"
          ]
        },
        {
          "metadata": {
            "tags": null
          },
          "name": "stdout",
          "output_type": "stream",
          "text": [
            "Batch sizes for English and German are torch.Size([35, 128]) and torch.Size([35, 128]) respectively.\n",
            "Batch sizes for English and German are torch.Size([31, 128]) and torch.Size([27, 128]) respectively.\n"
          ]
        },
        {
          "metadata": {
            "tags": null
          },
          "name": "stderr",
          "output_type": "stream",
          "text": [
            "Model training in progress...:  49%|████▉     | 111/227 [00:18<00:19,  5.96it/s]"
          ]
        },
        {
          "metadata": {
            "tags": null
          },
          "name": "stdout",
          "output_type": "stream",
          "text": [
            "Batch sizes for English and German are torch.Size([25, 128]) and torch.Size([24, 128]) respectively.\n",
            "Batch sizes for English and German are torch.Size([26, 128]) and torch.Size([27, 128]) respectively.\n"
          ]
        },
        {
          "metadata": {
            "tags": null
          },
          "name": "stderr",
          "output_type": "stream",
          "text": [
            "Model training in progress...:  50%|████▉     | 113/227 [00:18<00:17,  6.51it/s]"
          ]
        },
        {
          "metadata": {
            "tags": null
          },
          "name": "stdout",
          "output_type": "stream",
          "text": [
            "Batch sizes for English and German are torch.Size([25, 128]) and torch.Size([24, 128]) respectively.\n",
            "Batch sizes for English and German are torch.Size([29, 128]) and torch.Size([33, 128]) respectively.\n"
          ]
        },
        {
          "metadata": {
            "tags": null
          },
          "name": "stderr",
          "output_type": "stream",
          "text": [
            "Model training in progress...:  51%|█████     | 115/227 [00:19<00:19,  5.80it/s]"
          ]
        },
        {
          "metadata": {
            "tags": null
          },
          "name": "stdout",
          "output_type": "stream",
          "text": [
            "Batch sizes for English and German are torch.Size([37, 128]) and torch.Size([38, 128]) respectively.\n"
          ]
        },
        {
          "metadata": {
            "tags": null
          },
          "name": "stderr",
          "output_type": "stream",
          "text": [
            "\rModel training in progress...:  51%|█████     | 116/227 [00:19<00:19,  5.79it/s]"
          ]
        },
        {
          "metadata": {
            "tags": null
          },
          "name": "stdout",
          "output_type": "stream",
          "text": [
            "Batch sizes for English and German are torch.Size([31, 128]) and torch.Size([28, 128]) respectively.\n",
            "Batch sizes for English and German are torch.Size([26, 128]) and torch.Size([24, 128]) respectively.\n"
          ]
        },
        {
          "metadata": {
            "tags": null
          },
          "name": "stderr",
          "output_type": "stream",
          "text": [
            "Model training in progress...:  52%|█████▏    | 118/227 [00:19<00:17,  6.16it/s]"
          ]
        },
        {
          "metadata": {
            "tags": null
          },
          "name": "stdout",
          "output_type": "stream",
          "text": [
            "Batch sizes for English and German are torch.Size([28, 128]) and torch.Size([27, 128]) respectively.\n",
            "Batch sizes for English and German are torch.Size([28, 128]) and torch.Size([30, 128]) respectively.\n"
          ]
        },
        {
          "metadata": {
            "tags": null
          },
          "name": "stderr",
          "output_type": "stream",
          "text": [
            "Model training in progress...:  53%|█████▎    | 120/227 [00:20<00:17,  6.28it/s]"
          ]
        },
        {
          "metadata": {
            "tags": null
          },
          "name": "stdout",
          "output_type": "stream",
          "text": [
            "Batch sizes for English and German are torch.Size([29, 128]) and torch.Size([28, 128]) respectively.\n",
            "Batch sizes for English and German are torch.Size([28, 128]) and torch.Size([32, 128]) respectively.\n"
          ]
        },
        {
          "metadata": {
            "tags": null
          },
          "name": "stderr",
          "output_type": "stream",
          "text": [
            "Model training in progress...:  54%|█████▎    | 122/227 [00:20<00:16,  6.23it/s]"
          ]
        },
        {
          "metadata": {
            "tags": null
          },
          "name": "stdout",
          "output_type": "stream",
          "text": [
            "Batch sizes for English and German are torch.Size([31, 128]) and torch.Size([33, 128]) respectively.\n",
            "Batch sizes for English and German are torch.Size([26, 128]) and torch.Size([27, 128]) respectively.\n"
          ]
        },
        {
          "metadata": {
            "tags": null
          },
          "name": "stderr",
          "output_type": "stream",
          "text": [
            "Model training in progress...:  55%|█████▍    | 124/227 [00:20<00:15,  6.49it/s]"
          ]
        },
        {
          "metadata": {
            "tags": null
          },
          "name": "stdout",
          "output_type": "stream",
          "text": [
            "Batch sizes for English and German are torch.Size([28, 128]) and torch.Size([27, 128]) respectively.\n",
            "Batch sizes for English and German are torch.Size([34, 128]) and torch.Size([30, 128]) respectively.\n"
          ]
        },
        {
          "metadata": {
            "tags": null
          },
          "name": "stderr",
          "output_type": "stream",
          "text": [
            "Model training in progress...:  56%|█████▌    | 126/227 [00:21<00:15,  6.41it/s]"
          ]
        },
        {
          "metadata": {
            "tags": null
          },
          "name": "stdout",
          "output_type": "stream",
          "text": [
            "Batch sizes for English and German are torch.Size([26, 128]) and torch.Size([26, 128]) respectively.\n",
            "Batch sizes for English and German are torch.Size([31, 128]) and torch.Size([29, 128]) respectively.\n"
          ]
        },
        {
          "metadata": {
            "tags": null
          },
          "name": "stderr",
          "output_type": "stream",
          "text": [
            "Model training in progress...:  56%|█████▋    | 128/227 [00:21<00:16,  6.12it/s]"
          ]
        },
        {
          "metadata": {
            "tags": null
          },
          "name": "stdout",
          "output_type": "stream",
          "text": [
            "Batch sizes for English and German are torch.Size([31, 128]) and torch.Size([28, 128]) respectively.\n",
            "Batch sizes for English and German are torch.Size([32, 128]) and torch.Size([31, 128]) respectively.\n"
          ]
        },
        {
          "metadata": {
            "tags": null
          },
          "name": "stderr",
          "output_type": "stream",
          "text": [
            "Model training in progress...:  57%|█████▋    | 130/227 [00:21<00:16,  5.97it/s]"
          ]
        },
        {
          "metadata": {
            "tags": null
          },
          "name": "stdout",
          "output_type": "stream",
          "text": [
            "Batch sizes for English and German are torch.Size([30, 128]) and torch.Size([32, 128]) respectively.\n",
            "Batch sizes for English and German are torch.Size([37, 128]) and torch.Size([38, 128]) respectively.\n"
          ]
        },
        {
          "metadata": {
            "tags": null
          },
          "name": "stderr",
          "output_type": "stream",
          "text": [
            "Model training in progress...:  58%|█████▊    | 132/227 [00:22<00:16,  5.88it/s]"
          ]
        },
        {
          "metadata": {
            "tags": null
          },
          "name": "stdout",
          "output_type": "stream",
          "text": [
            "Batch sizes for English and German are torch.Size([28, 128]) and torch.Size([26, 128]) respectively.\n",
            "Batch sizes for English and German are torch.Size([25, 128]) and torch.Size([26, 128]) respectively.\n"
          ]
        },
        {
          "metadata": {
            "tags": null
          },
          "name": "stderr",
          "output_type": "stream",
          "text": [
            "Model training in progress...:  59%|█████▉    | 134/227 [00:22<00:14,  6.28it/s]"
          ]
        },
        {
          "metadata": {
            "tags": null
          },
          "name": "stdout",
          "output_type": "stream",
          "text": [
            "Batch sizes for English and German are torch.Size([28, 128]) and torch.Size([27, 128]) respectively.\n",
            "Batch sizes for English and German are torch.Size([40, 128]) and torch.Size([37, 128]) respectively.\n"
          ]
        },
        {
          "metadata": {
            "tags": null
          },
          "name": "stderr",
          "output_type": "stream",
          "text": [
            "Model training in progress...:  60%|█████▉    | 136/227 [00:22<00:15,  5.73it/s]"
          ]
        },
        {
          "metadata": {
            "tags": null
          },
          "name": "stdout",
          "output_type": "stream",
          "text": [
            "Batch sizes for English and German are torch.Size([29, 128]) and torch.Size([33, 128]) respectively.\n",
            "Batch sizes for English and German are torch.Size([32, 128]) and torch.Size([32, 128]) respectively.\n"
          ]
        },
        {
          "metadata": {
            "tags": null
          },
          "name": "stderr",
          "output_type": "stream",
          "text": [
            "Model training in progress...:  61%|██████    | 138/227 [00:23<00:14,  6.18it/s]"
          ]
        },
        {
          "metadata": {
            "tags": null
          },
          "name": "stdout",
          "output_type": "stream",
          "text": [
            "Batch sizes for English and German are torch.Size([24, 128]) and torch.Size([23, 128]) respectively.\n",
            "Batch sizes for English and German are torch.Size([26, 128]) and torch.Size([29, 128]) respectively.\n"
          ]
        },
        {
          "metadata": {
            "tags": null
          },
          "name": "stderr",
          "output_type": "stream",
          "text": [
            "Model training in progress...:  62%|██████▏   | 140/227 [00:23<00:14,  6.18it/s]"
          ]
        },
        {
          "metadata": {
            "tags": null
          },
          "name": "stdout",
          "output_type": "stream",
          "text": [
            "Batch sizes for English and German are torch.Size([31, 128]) and torch.Size([37, 128]) respectively.\n",
            "Batch sizes for English and German are torch.Size([25, 128]) and torch.Size([27, 128]) respectively.\n"
          ]
        },
        {
          "metadata": {
            "tags": null
          },
          "name": "stderr",
          "output_type": "stream",
          "text": [
            "Model training in progress...:  63%|██████▎   | 142/227 [00:23<00:13,  6.49it/s]"
          ]
        },
        {
          "metadata": {
            "tags": null
          },
          "name": "stdout",
          "output_type": "stream",
          "text": [
            "Batch sizes for English and German are torch.Size([29, 128]) and torch.Size([27, 128]) respectively.\n",
            "Batch sizes for English and German are torch.Size([27, 128]) and torch.Size([30, 128]) respectively.\n"
          ]
        },
        {
          "metadata": {
            "tags": null
          },
          "name": "stderr",
          "output_type": "stream",
          "text": [
            "Model training in progress...:  63%|██████▎   | 144/227 [00:23<00:13,  6.31it/s]"
          ]
        },
        {
          "metadata": {
            "tags": null
          },
          "name": "stdout",
          "output_type": "stream",
          "text": [
            "Batch sizes for English and German are torch.Size([31, 128]) and torch.Size([36, 128]) respectively.\n",
            "Batch sizes for English and German are torch.Size([31, 128]) and torch.Size([28, 128]) respectively.\n"
          ]
        },
        {
          "metadata": {
            "tags": null
          },
          "name": "stderr",
          "output_type": "stream",
          "text": [
            "Model training in progress...:  64%|██████▍   | 146/227 [00:24<00:13,  6.23it/s]"
          ]
        },
        {
          "metadata": {
            "tags": null
          },
          "name": "stdout",
          "output_type": "stream",
          "text": [
            "Batch sizes for English and German are torch.Size([30, 128]) and torch.Size([28, 128]) respectively.\n",
            "Batch sizes for English and German are torch.Size([29, 128]) and torch.Size([27, 128]) respectively.\n"
          ]
        },
        {
          "metadata": {
            "tags": null
          },
          "name": "stderr",
          "output_type": "stream",
          "text": [
            "Model training in progress...:  65%|██████▌   | 148/227 [00:24<00:12,  6.34it/s]"
          ]
        },
        {
          "metadata": {
            "tags": null
          },
          "name": "stdout",
          "output_type": "stream",
          "text": [
            "Batch sizes for English and German are torch.Size([28, 128]) and torch.Size([29, 128]) respectively.\n",
            "Batch sizes for English and German are torch.Size([31, 128]) and torch.Size([30, 128]) respectively.\n"
          ]
        },
        {
          "metadata": {
            "tags": null
          },
          "name": "stderr",
          "output_type": "stream",
          "text": [
            "Model training in progress...:  66%|██████▌   | 150/227 [00:24<00:12,  6.12it/s]"
          ]
        },
        {
          "metadata": {
            "tags": null
          },
          "name": "stdout",
          "output_type": "stream",
          "text": [
            "Batch sizes for English and German are torch.Size([31, 128]) and torch.Size([30, 128]) respectively.\n",
            "Batch sizes for English and German are torch.Size([29, 128]) and torch.Size([28, 128]) respectively.\n"
          ]
        },
        {
          "metadata": {
            "tags": null
          },
          "name": "stderr",
          "output_type": "stream",
          "text": [
            "Model training in progress...:  67%|██████▋   | 152/227 [00:25<00:11,  6.35it/s]"
          ]
        },
        {
          "metadata": {
            "tags": null
          },
          "name": "stdout",
          "output_type": "stream",
          "text": [
            "Batch sizes for English and German are torch.Size([28, 128]) and torch.Size([27, 128]) respectively.\n",
            "Batch sizes for English and German are torch.Size([27, 128]) and torch.Size([27, 128]) respectively.\n"
          ]
        },
        {
          "metadata": {
            "tags": null
          },
          "name": "stderr",
          "output_type": "stream",
          "text": [
            "Model training in progress...:  68%|██████▊   | 154/227 [00:25<00:11,  6.57it/s]"
          ]
        },
        {
          "metadata": {
            "tags": null
          },
          "name": "stdout",
          "output_type": "stream",
          "text": [
            "Batch sizes for English and German are torch.Size([26, 128]) and torch.Size([28, 128]) respectively.\n",
            "Batch sizes for English and German are torch.Size([29, 128]) and torch.Size([27, 128]) respectively.\n"
          ]
        },
        {
          "metadata": {
            "tags": null
          },
          "name": "stderr",
          "output_type": "stream",
          "text": [
            "\rModel training in progress...:  68%|██████▊   | 155/227 [00:25<00:10,  6.57it/s]"
          ]
        },
        {
          "metadata": {
            "tags": null
          },
          "name": "stdout",
          "output_type": "stream",
          "text": [
            "Batch sizes for English and German are torch.Size([41, 128]) and torch.Size([45, 128]) respectively.\n"
          ]
        },
        {
          "metadata": {
            "tags": null
          },
          "name": "stderr",
          "output_type": "stream",
          "text": [
            "Model training in progress...:  69%|██████▉   | 157/227 [00:26<00:12,  5.70it/s]"
          ]
        },
        {
          "metadata": {
            "tags": null
          },
          "name": "stdout",
          "output_type": "stream",
          "text": [
            "Batch sizes for English and German are torch.Size([33, 128]) and torch.Size([31, 128]) respectively.\n",
            "Batch sizes for English and German are torch.Size([30, 128]) and torch.Size([31, 128]) respectively.\n"
          ]
        },
        {
          "metadata": {
            "tags": null
          },
          "name": "stderr",
          "output_type": "stream",
          "text": [
            "Model training in progress...:  70%|███████   | 159/227 [00:26<00:11,  5.93it/s]"
          ]
        },
        {
          "metadata": {
            "tags": null
          },
          "name": "stdout",
          "output_type": "stream",
          "text": [
            "Batch sizes for English and German are torch.Size([30, 128]) and torch.Size([30, 128]) respectively.\n",
            "Batch sizes for English and German are torch.Size([32, 128]) and torch.Size([32, 128]) respectively.\n"
          ]
        },
        {
          "metadata": {
            "tags": null
          },
          "name": "stderr",
          "output_type": "stream",
          "text": [
            "Model training in progress...:  71%|███████   | 161/227 [00:26<00:10,  6.22it/s]"
          ]
        },
        {
          "metadata": {
            "tags": null
          },
          "name": "stdout",
          "output_type": "stream",
          "text": [
            "Batch sizes for English and German are torch.Size([26, 128]) and torch.Size([26, 128]) respectively.\n",
            "Batch sizes for English and German are torch.Size([26, 128]) and torch.Size([28, 128]) respectively.\n"
          ]
        },
        {
          "metadata": {
            "tags": null
          },
          "name": "stderr",
          "output_type": "stream",
          "text": [
            "Model training in progress...:  72%|███████▏  | 163/227 [00:27<00:10,  5.99it/s]"
          ]
        },
        {
          "metadata": {
            "tags": null
          },
          "name": "stdout",
          "output_type": "stream",
          "text": [
            "Batch sizes for English and German are torch.Size([36, 128]) and torch.Size([36, 128]) respectively.\n",
            "Batch sizes for English and German are torch.Size([26, 128]) and torch.Size([28, 128]) respectively.\n"
          ]
        },
        {
          "metadata": {
            "tags": null
          },
          "name": "stderr",
          "output_type": "stream",
          "text": [
            "Model training in progress...:  73%|███████▎  | 165/227 [00:27<00:09,  6.55it/s]"
          ]
        },
        {
          "metadata": {
            "tags": null
          },
          "name": "stdout",
          "output_type": "stream",
          "text": [
            "Batch sizes for English and German are torch.Size([25, 128]) and torch.Size([25, 128]) respectively.\n",
            "Batch sizes for English and German are torch.Size([36, 128]) and torch.Size([37, 128]) respectively.\n"
          ]
        },
        {
          "metadata": {
            "tags": null
          },
          "name": "stderr",
          "output_type": "stream",
          "text": [
            "Model training in progress...:  74%|███████▎  | 167/227 [00:27<00:09,  6.07it/s]"
          ]
        },
        {
          "metadata": {
            "tags": null
          },
          "name": "stdout",
          "output_type": "stream",
          "text": [
            "Batch sizes for English and German are torch.Size([30, 128]) and torch.Size([28, 128]) respectively.\n",
            "Batch sizes for English and German are torch.Size([33, 128]) and torch.Size([27, 128]) respectively.\n"
          ]
        },
        {
          "metadata": {
            "tags": null
          },
          "name": "stderr",
          "output_type": "stream",
          "text": [
            "Model training in progress...:  74%|███████▍  | 169/227 [00:28<00:10,  5.71it/s]"
          ]
        },
        {
          "metadata": {
            "tags": null
          },
          "name": "stdout",
          "output_type": "stream",
          "text": [
            "Batch sizes for English and German are torch.Size([36, 128]) and torch.Size([29, 128]) respectively.\n",
            "Batch sizes for English and German are torch.Size([32, 128]) and torch.Size([29, 128]) respectively.\n"
          ]
        },
        {
          "metadata": {
            "tags": null
          },
          "name": "stderr",
          "output_type": "stream",
          "text": [
            "Model training in progress...:  75%|███████▌  | 171/227 [00:28<00:09,  5.86it/s]"
          ]
        },
        {
          "metadata": {
            "tags": null
          },
          "name": "stdout",
          "output_type": "stream",
          "text": [
            "Batch sizes for English and German are torch.Size([30, 128]) and torch.Size([30, 128]) respectively.\n",
            "Batch sizes for English and German are torch.Size([27, 128]) and torch.Size([25, 128]) respectively.\n"
          ]
        },
        {
          "metadata": {
            "tags": null
          },
          "name": "stderr",
          "output_type": "stream",
          "text": [
            "Model training in progress...:  76%|███████▌  | 173/227 [00:28<00:08,  6.16it/s]"
          ]
        },
        {
          "metadata": {
            "tags": null
          },
          "name": "stdout",
          "output_type": "stream",
          "text": [
            "Batch sizes for English and German are torch.Size([30, 128]) and torch.Size([30, 128]) respectively.\n",
            "Batch sizes for English and German are torch.Size([31, 128]) and torch.Size([32, 128]) respectively.\n"
          ]
        },
        {
          "metadata": {
            "tags": null
          },
          "name": "stderr",
          "output_type": "stream",
          "text": [
            "Model training in progress...:  77%|███████▋  | 175/227 [00:29<00:08,  6.22it/s]"
          ]
        },
        {
          "metadata": {
            "tags": null
          },
          "name": "stdout",
          "output_type": "stream",
          "text": [
            "Batch sizes for English and German are torch.Size([28, 128]) and torch.Size([33, 128]) respectively.\n",
            "Batch sizes for English and German are torch.Size([32, 128]) and torch.Size([27, 128]) respectively.\n"
          ]
        },
        {
          "metadata": {
            "tags": null
          },
          "name": "stderr",
          "output_type": "stream",
          "text": [
            "Model training in progress...:  78%|███████▊  | 177/227 [00:29<00:07,  6.37it/s]"
          ]
        },
        {
          "metadata": {
            "tags": null
          },
          "name": "stdout",
          "output_type": "stream",
          "text": [
            "Batch sizes for English and German are torch.Size([26, 128]) and torch.Size([25, 128]) respectively.\n",
            "Batch sizes for English and German are torch.Size([37, 128]) and torch.Size([36, 128]) respectively.\n"
          ]
        },
        {
          "metadata": {
            "tags": null
          },
          "name": "stderr",
          "output_type": "stream",
          "text": [
            "Model training in progress...:  79%|███████▉  | 179/227 [00:29<00:07,  6.05it/s]"
          ]
        },
        {
          "metadata": {
            "tags": null
          },
          "name": "stdout",
          "output_type": "stream",
          "text": [
            "Batch sizes for English and German are torch.Size([27, 128]) and torch.Size([31, 128]) respectively.\n",
            "Batch sizes for English and German are torch.Size([28, 128]) and torch.Size([27, 128]) respectively.\n"
          ]
        },
        {
          "metadata": {
            "tags": null
          },
          "name": "stderr",
          "output_type": "stream",
          "text": [
            "Model training in progress...:  80%|███████▉  | 181/227 [00:30<00:07,  5.95it/s]"
          ]
        },
        {
          "metadata": {
            "tags": null
          },
          "name": "stdout",
          "output_type": "stream",
          "text": [
            "Batch sizes for English and German are torch.Size([32, 128]) and torch.Size([32, 128]) respectively.\n",
            "Batch sizes for English and German are torch.Size([37, 128]) and torch.Size([46, 128]) respectively.\n"
          ]
        },
        {
          "metadata": {
            "tags": null
          },
          "name": "stderr",
          "output_type": "stream",
          "text": [
            "Model training in progress...:  81%|████████  | 183/227 [00:30<00:07,  5.51it/s]"
          ]
        },
        {
          "metadata": {
            "tags": null
          },
          "name": "stdout",
          "output_type": "stream",
          "text": [
            "Batch sizes for English and German are torch.Size([33, 128]) and torch.Size([32, 128]) respectively.\n",
            "Batch sizes for English and German are torch.Size([34, 128]) and torch.Size([33, 128]) respectively.\n"
          ]
        },
        {
          "metadata": {
            "tags": null
          },
          "name": "stderr",
          "output_type": "stream",
          "text": [
            "Model training in progress...:  81%|████████▏ | 185/227 [00:30<00:07,  5.57it/s]"
          ]
        },
        {
          "metadata": {
            "tags": null
          },
          "name": "stdout",
          "output_type": "stream",
          "text": [
            "Batch sizes for English and German are torch.Size([30, 128]) and torch.Size([33, 128]) respectively.\n",
            "Batch sizes for English and German are torch.Size([31, 128]) and torch.Size([28, 128]) respectively.\n"
          ]
        },
        {
          "metadata": {
            "tags": null
          },
          "name": "stderr",
          "output_type": "stream",
          "text": [
            "Model training in progress...:  82%|████████▏ | 187/227 [00:31<00:06,  5.74it/s]"
          ]
        },
        {
          "metadata": {
            "tags": null
          },
          "name": "stdout",
          "output_type": "stream",
          "text": [
            "Batch sizes for English and German are torch.Size([30, 128]) and torch.Size([32, 128]) respectively.\n",
            "Batch sizes for English and German are torch.Size([25, 128]) and torch.Size([28, 128]) respectively.\n"
          ]
        },
        {
          "metadata": {
            "tags": null
          },
          "name": "stderr",
          "output_type": "stream",
          "text": [
            "Model training in progress...:  83%|████████▎ | 189/227 [00:31<00:06,  6.23it/s]"
          ]
        },
        {
          "metadata": {
            "tags": null
          },
          "name": "stdout",
          "output_type": "stream",
          "text": [
            "Batch sizes for English and German are torch.Size([27, 128]) and torch.Size([28, 128]) respectively.\n",
            "Batch sizes for English and German are torch.Size([32, 128]) and torch.Size([26, 128]) respectively.\n"
          ]
        },
        {
          "metadata": {
            "tags": null
          },
          "name": "stderr",
          "output_type": "stream",
          "text": [
            "Model training in progress...:  84%|████████▍ | 191/227 [00:31<00:05,  6.01it/s]"
          ]
        },
        {
          "metadata": {
            "tags": null
          },
          "name": "stdout",
          "output_type": "stream",
          "text": [
            "Batch sizes for English and German are torch.Size([30, 128]) and torch.Size([28, 128]) respectively.\n",
            "Batch sizes for English and German are torch.Size([32, 128]) and torch.Size([28, 128]) respectively.\n"
          ]
        },
        {
          "metadata": {
            "tags": null
          },
          "name": "stderr",
          "output_type": "stream",
          "text": [
            "Model training in progress...:  85%|████████▌ | 193/227 [00:32<00:05,  5.68it/s]"
          ]
        },
        {
          "metadata": {
            "tags": null
          },
          "name": "stdout",
          "output_type": "stream",
          "text": [
            "Batch sizes for English and German are torch.Size([33, 128]) and torch.Size([28, 128]) respectively.\n",
            "Batch sizes for English and German are torch.Size([27, 128]) and torch.Size([30, 128]) respectively.\n"
          ]
        },
        {
          "metadata": {
            "tags": null
          },
          "name": "stderr",
          "output_type": "stream",
          "text": [
            "Model training in progress...:  86%|████████▌ | 195/227 [00:32<00:05,  5.84it/s]"
          ]
        },
        {
          "metadata": {
            "tags": null
          },
          "name": "stdout",
          "output_type": "stream",
          "text": [
            "Batch sizes for English and German are torch.Size([33, 128]) and torch.Size([35, 128]) respectively.\n",
            "Batch sizes for English and German are torch.Size([32, 128]) and torch.Size([31, 128]) respectively.\n"
          ]
        },
        {
          "metadata": {
            "tags": null
          },
          "name": "stderr",
          "output_type": "stream",
          "text": [
            "Model training in progress...:  87%|████████▋ | 197/227 [00:32<00:05,  5.90it/s]"
          ]
        },
        {
          "metadata": {
            "tags": null
          },
          "name": "stdout",
          "output_type": "stream",
          "text": [
            "Batch sizes for English and German are torch.Size([30, 128]) and torch.Size([31, 128]) respectively.\n",
            "Batch sizes for English and German are torch.Size([26, 128]) and torch.Size([25, 128]) respectively.\n"
          ]
        },
        {
          "metadata": {
            "tags": null
          },
          "name": "stderr",
          "output_type": "stream",
          "text": [
            "Model training in progress...:  88%|████████▊ | 199/227 [00:33<00:04,  6.20it/s]"
          ]
        },
        {
          "metadata": {
            "tags": null
          },
          "name": "stdout",
          "output_type": "stream",
          "text": [
            "Batch sizes for English and German are torch.Size([30, 128]) and torch.Size([30, 128]) respectively.\n",
            "Batch sizes for English and German are torch.Size([31, 128]) and torch.Size([30, 128]) respectively.\n"
          ]
        },
        {
          "metadata": {
            "tags": null
          },
          "name": "stderr",
          "output_type": "stream",
          "text": [
            "Model training in progress...:  89%|████████▊ | 201/227 [00:33<00:04,  6.31it/s]"
          ]
        },
        {
          "metadata": {
            "tags": null
          },
          "name": "stdout",
          "output_type": "stream",
          "text": [
            "Batch sizes for English and German are torch.Size([27, 128]) and torch.Size([30, 128]) respectively.\n",
            "Batch sizes for English and German are torch.Size([33, 128]) and torch.Size([30, 128]) respectively.\n"
          ]
        },
        {
          "metadata": {
            "tags": null
          },
          "name": "stderr",
          "output_type": "stream",
          "text": [
            "Model training in progress...:  89%|████████▉ | 203/227 [00:33<00:03,  6.28it/s]"
          ]
        },
        {
          "metadata": {
            "tags": null
          },
          "name": "stdout",
          "output_type": "stream",
          "text": [
            "Batch sizes for English and German are torch.Size([27, 128]) and torch.Size([25, 128]) respectively.\n",
            "Batch sizes for English and German are torch.Size([31, 128]) and torch.Size([26, 128]) respectively.\n"
          ]
        },
        {
          "metadata": {
            "tags": null
          },
          "name": "stderr",
          "output_type": "stream",
          "text": [
            "Model training in progress...:  90%|█████████ | 205/227 [00:34<00:03,  5.75it/s]"
          ]
        },
        {
          "metadata": {
            "tags": null
          },
          "name": "stdout",
          "output_type": "stream",
          "text": [
            "Batch sizes for English and German are torch.Size([38, 128]) and torch.Size([28, 128]) respectively.\n",
            "Batch sizes for English and German are torch.Size([42, 128]) and torch.Size([45, 128]) respectively.\n"
          ]
        },
        {
          "metadata": {
            "tags": null
          },
          "name": "stderr",
          "output_type": "stream",
          "text": [
            "Model training in progress...:  91%|█████████ | 207/227 [00:34<00:03,  5.49it/s]"
          ]
        },
        {
          "metadata": {
            "tags": null
          },
          "name": "stdout",
          "output_type": "stream",
          "text": [
            "Batch sizes for English and German are torch.Size([29, 128]) and torch.Size([34, 128]) respectively.\n",
            "Batch sizes for English and German are torch.Size([37, 128]) and torch.Size([35, 128]) respectively.\n"
          ]
        },
        {
          "metadata": {
            "tags": null
          },
          "name": "stderr",
          "output_type": "stream",
          "text": [
            "Model training in progress...:  92%|█████████▏| 209/227 [00:34<00:03,  5.58it/s]"
          ]
        },
        {
          "metadata": {
            "tags": null
          },
          "name": "stdout",
          "output_type": "stream",
          "text": [
            "Batch sizes for English and German are torch.Size([29, 128]) and torch.Size([31, 128]) respectively.\n",
            "Batch sizes for English and German are torch.Size([29, 128]) and torch.Size([36, 128]) respectively.\n"
          ]
        },
        {
          "metadata": {
            "tags": null
          },
          "name": "stderr",
          "output_type": "stream",
          "text": [
            "Model training in progress...:  93%|█████████▎| 211/227 [00:35<00:02,  6.07it/s]"
          ]
        },
        {
          "metadata": {
            "tags": null
          },
          "name": "stdout",
          "output_type": "stream",
          "text": [
            "Batch sizes for English and German are torch.Size([27, 128]) and torch.Size([27, 128]) respectively.\n",
            "Batch sizes for English and German are torch.Size([26, 128]) and torch.Size([25, 128]) respectively.\n"
          ]
        },
        {
          "metadata": {
            "tags": null
          },
          "name": "stderr",
          "output_type": "stream",
          "text": [
            "Model training in progress...:  94%|█████████▍| 213/227 [00:35<00:02,  6.33it/s]"
          ]
        },
        {
          "metadata": {
            "tags": null
          },
          "name": "stdout",
          "output_type": "stream",
          "text": [
            "Batch sizes for English and German are torch.Size([30, 128]) and torch.Size([29, 128]) respectively.\n",
            "Batch sizes for English and German are torch.Size([40, 128]) and torch.Size([37, 128]) respectively.\n"
          ]
        },
        {
          "metadata": {
            "tags": null
          },
          "name": "stderr",
          "output_type": "stream",
          "text": [
            "Model training in progress...:  95%|█████████▍| 215/227 [00:35<00:02,  5.84it/s]"
          ]
        },
        {
          "metadata": {
            "tags": null
          },
          "name": "stdout",
          "output_type": "stream",
          "text": [
            "Batch sizes for English and German are torch.Size([29, 128]) and torch.Size([29, 128]) respectively.\n",
            "Batch sizes for English and German are torch.Size([35, 128]) and torch.Size([37, 128]) respectively.\n"
          ]
        },
        {
          "metadata": {
            "tags": null
          },
          "name": "stderr",
          "output_type": "stream",
          "text": [
            "Model training in progress...:  96%|█████████▌| 217/227 [00:36<00:01,  5.71it/s]"
          ]
        },
        {
          "metadata": {
            "tags": null
          },
          "name": "stdout",
          "output_type": "stream",
          "text": [
            "Batch sizes for English and German are torch.Size([32, 128]) and torch.Size([28, 128]) respectively.\n",
            "Batch sizes for English and German are torch.Size([25, 128]) and torch.Size([25, 128]) respectively.\n"
          ]
        },
        {
          "metadata": {
            "tags": null
          },
          "name": "stderr",
          "output_type": "stream",
          "text": [
            "Model training in progress...:  96%|█████████▋| 219/227 [00:36<00:01,  5.88it/s]"
          ]
        },
        {
          "metadata": {
            "tags": null
          },
          "name": "stdout",
          "output_type": "stream",
          "text": [
            "Batch sizes for English and German are torch.Size([34, 128]) and torch.Size([31, 128]) respectively.\n",
            "Batch sizes for English and German are torch.Size([37, 128]) and torch.Size([29, 128]) respectively.\n"
          ]
        },
        {
          "metadata": {
            "tags": null
          },
          "name": "stderr",
          "output_type": "stream",
          "text": [
            "Model training in progress...:  97%|█████████▋| 221/227 [00:36<00:01,  5.95it/s]"
          ]
        },
        {
          "metadata": {
            "tags": null
          },
          "name": "stdout",
          "output_type": "stream",
          "text": [
            "Batch sizes for English and German are torch.Size([25, 128]) and torch.Size([29, 128]) respectively.\n",
            "Batch sizes for English and German are torch.Size([33, 128]) and torch.Size([34, 128]) respectively.\n"
          ]
        },
        {
          "metadata": {
            "tags": null
          },
          "name": "stderr",
          "output_type": "stream",
          "text": [
            "Model training in progress...:  98%|█████████▊| 223/227 [00:37<00:00,  6.04it/s]"
          ]
        },
        {
          "metadata": {
            "tags": null
          },
          "name": "stdout",
          "output_type": "stream",
          "text": [
            "Batch sizes for English and German are torch.Size([28, 128]) and torch.Size([27, 128]) respectively.\n",
            "Batch sizes for English and German are torch.Size([27, 128]) and torch.Size([36, 128]) respectively.\n"
          ]
        },
        {
          "metadata": {
            "tags": null
          },
          "name": "stderr",
          "output_type": "stream",
          "text": [
            "Model training in progress...:  99%|█████████▉| 225/227 [00:37<00:00,  6.25it/s]"
          ]
        },
        {
          "metadata": {
            "tags": null
          },
          "name": "stdout",
          "output_type": "stream",
          "text": [
            "Batch sizes for English and German are torch.Size([28, 128]) and torch.Size([28, 128]) respectively.\n",
            "Batch sizes for English and German are torch.Size([31, 128]) and torch.Size([24, 128]) respectively.\n"
          ]
        },
        {
          "metadata": {
            "tags": null
          },
          "name": "stderr",
          "output_type": "stream",
          "text": [
            "Model training in progress...: 100%|██████████| 227/227 [00:37<00:00,  6.00it/s]\n"
          ]
        },
        {
          "metadata": {
            "tags": null
          },
          "name": "stdout",
          "output_type": "stream",
          "text": [
            "Batch sizes for English and German are torch.Size([28, 72]) and torch.Size([27, 72]) respectively.\n"
          ]
        },
        {
          "metadata": {
            "tags": null
          },
          "name": "stderr",
          "output_type": "stream",
          "text": [
            "\rModel validation in progress...:   0%|          | 0/8 [00:00<?, ?it/s]"
          ]
        },
        {
          "metadata": {
            "tags": null
          },
          "name": "stdout",
          "output_type": "stream",
          "text": [
            "Batch sizes for English and German are torch.Size([26, 128]) and torch.Size([25, 128]) respectively.\n",
            "Batch sizes for English and German are torch.Size([28, 128]) and torch.Size([28, 128]) respectively.\n"
          ]
        },
        {
          "metadata": {
            "tags": null
          },
          "name": "stderr",
          "output_type": "stream",
          "text": [
            "\rModel validation in progress...:  25%|██▌       | 2/8 [00:00<00:00, 14.24it/s]"
          ]
        },
        {
          "metadata": {
            "tags": null
          },
          "name": "stdout",
          "output_type": "stream",
          "text": [
            "Batch sizes for English and German are torch.Size([34, 128]) and torch.Size([35, 128]) respectively.\n"
          ]
        },
        {
          "metadata": {
            "tags": null
          },
          "name": "stderr",
          "output_type": "stream",
          "text": [
            "\rModel validation in progress...:  50%|█████     | 4/8 [00:00<00:00, 13.18it/s]"
          ]
        },
        {
          "metadata": {
            "tags": null
          },
          "name": "stdout",
          "output_type": "stream",
          "text": [
            "Batch sizes for English and German are torch.Size([30, 128]) and torch.Size([34, 128]) respectively.\n",
            "Batch sizes for English and German are torch.Size([31, 128]) and torch.Size([32, 128]) respectively.\n"
          ]
        },
        {
          "metadata": {
            "tags": null
          },
          "name": "stderr",
          "output_type": "stream",
          "text": [
            "\rModel validation in progress...:  75%|███████▌  | 6/8 [00:00<00:00, 13.80it/s]"
          ]
        },
        {
          "metadata": {
            "tags": null
          },
          "name": "stdout",
          "output_type": "stream",
          "text": [
            "Batch sizes for English and German are torch.Size([27, 128]) and torch.Size([30, 128]) respectively.\n"
          ]
        },
        {
          "metadata": {
            "tags": null
          },
          "name": "stderr",
          "output_type": "stream",
          "text": [
            "Model validation in progress...: 100%|██████████| 8/8 [00:00<00:00, 14.24it/s]"
          ]
        },
        {
          "metadata": {
            "tags": null
          },
          "name": "stdout",
          "output_type": "stream",
          "text": [
            "Batch sizes for English and German are torch.Size([28, 128]) and torch.Size([24, 128]) respectively.\n",
            "Batch sizes for English and German are torch.Size([24, 118]) and torch.Size([23, 118]) respectively.\n"
          ]
        },
        {
          "metadata": {
            "tags": null
          },
          "name": "stderr",
          "output_type": "stream",
          "text": [
            "\n"
          ]
        },
        {
          "metadata": {
            "tags": null
          },
          "name": "stdout",
          "output_type": "stream",
          "text": [
            "Epoch: 3\n",
            "Training loss: 3.954\n",
            "Validation loss: 4.372\n",
            "\n",
            "\n"
          ]
        },
        {
          "metadata": {
            "tags": null
          },
          "name": "stderr",
          "output_type": "stream",
          "text": [
            "\rModel training in progress...:   0%|          | 0/227 [00:00<?, ?it/s]"
          ]
        },
        {
          "metadata": {
            "tags": null
          },
          "name": "stdout",
          "output_type": "stream",
          "text": [
            "Batch sizes for English and German are torch.Size([37, 128]) and torch.Size([46, 128]) respectively.\n"
          ]
        },
        {
          "metadata": {
            "tags": null
          },
          "name": "stderr",
          "output_type": "stream",
          "text": [
            "Model training in progress...:   1%|          | 2/227 [00:00<00:38,  5.81it/s]"
          ]
        },
        {
          "metadata": {
            "tags": null
          },
          "name": "stdout",
          "output_type": "stream",
          "text": [
            "Batch sizes for English and German are torch.Size([27, 128]) and torch.Size([30, 128]) respectively.\n",
            "Batch sizes for English and German are torch.Size([38, 128]) and torch.Size([29, 128]) respectively.\n"
          ]
        },
        {
          "metadata": {
            "tags": null
          },
          "name": "stderr",
          "output_type": "stream",
          "text": [
            "Model training in progress...:   2%|▏         | 4/227 [00:00<00:36,  6.04it/s]"
          ]
        },
        {
          "metadata": {
            "tags": null
          },
          "name": "stdout",
          "output_type": "stream",
          "text": [
            "Batch sizes for English and German are torch.Size([24, 128]) and torch.Size([24, 128]) respectively.\n",
            "Batch sizes for English and German are torch.Size([27, 128]) and torch.Size([28, 128]) respectively.\n"
          ]
        },
        {
          "metadata": {
            "tags": null
          },
          "name": "stderr",
          "output_type": "stream",
          "text": [
            "Model training in progress...:   3%|▎         | 6/227 [00:00<00:33,  6.55it/s]"
          ]
        },
        {
          "metadata": {
            "tags": null
          },
          "name": "stdout",
          "output_type": "stream",
          "text": [
            "Batch sizes for English and German are torch.Size([26, 128]) and torch.Size([26, 128]) respectively.\n",
            "Batch sizes for English and German are torch.Size([33, 128]) and torch.Size([34, 128]) respectively.\n"
          ]
        },
        {
          "metadata": {
            "tags": null
          },
          "name": "stderr",
          "output_type": "stream",
          "text": [
            "Model training in progress...:   4%|▎         | 8/227 [00:01<00:35,  6.19it/s]"
          ]
        },
        {
          "metadata": {
            "tags": null
          },
          "name": "stdout",
          "output_type": "stream",
          "text": [
            "Batch sizes for English and German are torch.Size([31, 128]) and torch.Size([24, 128]) respectively.\n",
            "Batch sizes for English and German are torch.Size([30, 128]) and torch.Size([30, 128]) respectively.\n"
          ]
        },
        {
          "metadata": {
            "tags": null
          },
          "name": "stderr",
          "output_type": "stream",
          "text": [
            "Model training in progress...:   4%|▍         | 10/227 [00:01<00:34,  6.34it/s]"
          ]
        },
        {
          "metadata": {
            "tags": null
          },
          "name": "stdout",
          "output_type": "stream",
          "text": [
            "Batch sizes for English and German are torch.Size([26, 128]) and torch.Size([29, 128]) respectively.\n",
            "Batch sizes for English and German are torch.Size([27, 128]) and torch.Size([28, 128]) respectively.\n"
          ]
        },
        {
          "metadata": {
            "tags": null
          },
          "name": "stderr",
          "output_type": "stream",
          "text": [
            "Model training in progress...:   5%|▌         | 12/227 [00:01<00:32,  6.61it/s]"
          ]
        },
        {
          "metadata": {
            "tags": null
          },
          "name": "stdout",
          "output_type": "stream",
          "text": [
            "Batch sizes for English and German are torch.Size([26, 128]) and torch.Size([27, 128]) respectively.\n",
            "Batch sizes for English and German are torch.Size([29, 128]) and torch.Size([33, 128]) respectively.\n"
          ]
        },
        {
          "metadata": {
            "tags": null
          },
          "name": "stderr",
          "output_type": "stream",
          "text": [
            "Model training in progress...:   6%|▌         | 14/227 [00:02<00:32,  6.58it/s]"
          ]
        },
        {
          "metadata": {
            "tags": null
          },
          "name": "stdout",
          "output_type": "stream",
          "text": [
            "Batch sizes for English and German are torch.Size([28, 128]) and torch.Size([27, 128]) respectively.\n",
            "Batch sizes for English and German are torch.Size([42, 128]) and torch.Size([45, 128]) respectively.\n"
          ]
        },
        {
          "metadata": {
            "tags": null
          },
          "name": "stderr",
          "output_type": "stream",
          "text": [
            "Model training in progress...:   7%|▋         | 16/227 [00:02<00:36,  5.76it/s]"
          ]
        },
        {
          "metadata": {
            "tags": null
          },
          "name": "stdout",
          "output_type": "stream",
          "text": [
            "Batch sizes for English and German are torch.Size([31, 128]) and torch.Size([32, 128]) respectively.\n",
            "Batch sizes for English and German are torch.Size([27, 128]) and torch.Size([24, 128]) respectively.\n"
          ]
        },
        {
          "metadata": {
            "tags": null
          },
          "name": "stderr",
          "output_type": "stream",
          "text": [
            "Model training in progress...:   8%|▊         | 18/227 [00:02<00:32,  6.35it/s]"
          ]
        },
        {
          "metadata": {
            "tags": null
          },
          "name": "stdout",
          "output_type": "stream",
          "text": [
            "Batch sizes for English and German are torch.Size([26, 128]) and torch.Size([25, 128]) respectively.\n",
            "Batch sizes for English and German are torch.Size([32, 128]) and torch.Size([32, 128]) respectively.\n"
          ]
        },
        {
          "metadata": {
            "tags": null
          },
          "name": "stderr",
          "output_type": "stream",
          "text": [
            "Model training in progress...:   9%|▉         | 20/227 [00:03<00:33,  6.18it/s]"
          ]
        },
        {
          "metadata": {
            "tags": null
          },
          "name": "stdout",
          "output_type": "stream",
          "text": [
            "Batch sizes for English and German are torch.Size([30, 128]) and torch.Size([30, 128]) respectively.\n",
            "Batch sizes for English and German are torch.Size([31, 128]) and torch.Size([33, 128]) respectively.\n"
          ]
        },
        {
          "metadata": {
            "tags": null
          },
          "name": "stderr",
          "output_type": "stream",
          "text": [
            "Model training in progress...:  10%|▉         | 22/227 [00:03<00:33,  6.18it/s]"
          ]
        },
        {
          "metadata": {
            "tags": null
          },
          "name": "stdout",
          "output_type": "stream",
          "text": [
            "Batch sizes for English and German are torch.Size([29, 128]) and torch.Size([26, 128]) respectively.\n",
            "Batch sizes for English and German are torch.Size([36, 128]) and torch.Size([33, 128]) respectively.\n"
          ]
        },
        {
          "metadata": {
            "tags": null
          },
          "name": "stderr",
          "output_type": "stream",
          "text": [
            "Model training in progress...:  11%|█         | 24/227 [00:03<00:34,  5.96it/s]"
          ]
        },
        {
          "metadata": {
            "tags": null
          },
          "name": "stdout",
          "output_type": "stream",
          "text": [
            "Batch sizes for English and German are torch.Size([28, 128]) and torch.Size([30, 128]) respectively.\n",
            "Batch sizes for English and German are torch.Size([24, 128]) and torch.Size([24, 128]) respectively.\n"
          ]
        },
        {
          "metadata": {
            "tags": null
          },
          "name": "stderr",
          "output_type": "stream",
          "text": [
            "Model training in progress...:  11%|█▏        | 26/227 [00:04<00:30,  6.65it/s]"
          ]
        },
        {
          "metadata": {
            "tags": null
          },
          "name": "stdout",
          "output_type": "stream",
          "text": [
            "Batch sizes for English and German are torch.Size([24, 128]) and torch.Size([26, 128]) respectively.\n",
            "Batch sizes for English and German are torch.Size([27, 128]) and torch.Size([25, 128]) respectively.\n"
          ]
        },
        {
          "metadata": {
            "tags": null
          },
          "name": "stderr",
          "output_type": "stream",
          "text": [
            "Model training in progress...:  12%|█▏        | 28/227 [00:04<00:30,  6.46it/s]"
          ]
        },
        {
          "metadata": {
            "tags": null
          },
          "name": "stdout",
          "output_type": "stream",
          "text": [
            "Batch sizes for English and German are torch.Size([30, 128]) and torch.Size([28, 128]) respectively.\n",
            "Batch sizes for English and German are torch.Size([27, 128]) and torch.Size([26, 128]) respectively.\n"
          ]
        },
        {
          "metadata": {
            "tags": null
          },
          "name": "stderr",
          "output_type": "stream",
          "text": [
            "Model training in progress...:  13%|█▎        | 30/227 [00:04<00:33,  5.88it/s]"
          ]
        },
        {
          "metadata": {
            "tags": null
          },
          "name": "stdout",
          "output_type": "stream",
          "text": [
            "Batch sizes for English and German are torch.Size([38, 128]) and torch.Size([36, 128]) respectively.\n"
          ]
        },
        {
          "metadata": {
            "tags": null
          },
          "name": "stderr",
          "output_type": "stream",
          "text": [
            "\rModel training in progress...:  14%|█▎        | 31/227 [00:05<00:32,  6.04it/s]"
          ]
        },
        {
          "metadata": {
            "tags": null
          },
          "name": "stdout",
          "output_type": "stream",
          "text": [
            "Batch sizes for English and German are torch.Size([28, 128]) and torch.Size([26, 128]) respectively.\n",
            "Batch sizes for English and German are torch.Size([26, 128]) and torch.Size([27, 128]) respectively.\n"
          ]
        },
        {
          "metadata": {
            "tags": null
          },
          "name": "stderr",
          "output_type": "stream",
          "text": [
            "Model training in progress...:  15%|█▍        | 33/227 [00:05<00:30,  6.43it/s]"
          ]
        },
        {
          "metadata": {
            "tags": null
          },
          "name": "stdout",
          "output_type": "stream",
          "text": [
            "Batch sizes for English and German are torch.Size([26, 128]) and torch.Size([28, 128]) respectively.\n",
            "Batch sizes for English and German are torch.Size([42, 128]) and torch.Size([41, 128]) respectively.\n"
          ]
        },
        {
          "metadata": {
            "tags": null
          },
          "name": "stderr",
          "output_type": "stream",
          "text": [
            "Model training in progress...:  15%|█▌        | 35/227 [00:05<00:32,  5.94it/s]"
          ]
        },
        {
          "metadata": {
            "tags": null
          },
          "name": "stdout",
          "output_type": "stream",
          "text": [
            "Batch sizes for English and German are torch.Size([25, 128]) and torch.Size([29, 128]) respectively.\n",
            "Batch sizes for English and German are torch.Size([28, 128]) and torch.Size([27, 128]) respectively.\n"
          ]
        },
        {
          "metadata": {
            "tags": null
          },
          "name": "stderr",
          "output_type": "stream",
          "text": [
            "Model training in progress...:  16%|█▋        | 37/227 [00:05<00:29,  6.49it/s]"
          ]
        },
        {
          "metadata": {
            "tags": null
          },
          "name": "stdout",
          "output_type": "stream",
          "text": [
            "Batch sizes for English and German are torch.Size([23, 128]) and torch.Size([25, 128]) respectively.\n",
            "Batch sizes for English and German are torch.Size([29, 128]) and torch.Size([28, 128]) respectively.\n"
          ]
        },
        {
          "metadata": {
            "tags": null
          },
          "name": "stderr",
          "output_type": "stream",
          "text": [
            "Model training in progress...:  17%|█▋        | 39/227 [00:06<00:28,  6.59it/s]"
          ]
        },
        {
          "metadata": {
            "tags": null
          },
          "name": "stdout",
          "output_type": "stream",
          "text": [
            "Batch sizes for English and German are torch.Size([26, 128]) and torch.Size([28, 128]) respectively.\n",
            "Batch sizes for English and German are torch.Size([25, 128]) and torch.Size([28, 128]) respectively.\n"
          ]
        },
        {
          "metadata": {
            "tags": null
          },
          "name": "stderr",
          "output_type": "stream",
          "text": [
            "\rModel training in progress...:  18%|█▊        | 40/227 [00:06<00:27,  6.73it/s]"
          ]
        },
        {
          "metadata": {
            "tags": null
          },
          "name": "stdout",
          "output_type": "stream",
          "text": [
            "Batch sizes for English and German are torch.Size([43, 128]) and torch.Size([36, 128]) respectively.\n"
          ]
        },
        {
          "metadata": {
            "tags": null
          },
          "name": "stderr",
          "output_type": "stream",
          "text": [
            "Model training in progress...:  19%|█▊        | 42/227 [00:06<00:30,  6.02it/s]"
          ]
        },
        {
          "metadata": {
            "tags": null
          },
          "name": "stdout",
          "output_type": "stream",
          "text": [
            "Batch sizes for English and German are torch.Size([26, 128]) and torch.Size([28, 128]) respectively.\n",
            "Batch sizes for English and German are torch.Size([29, 128]) and torch.Size([26, 128]) respectively.\n"
          ]
        },
        {
          "metadata": {
            "tags": null
          },
          "name": "stderr",
          "output_type": "stream",
          "text": [
            "Model training in progress...:  19%|█▉        | 44/227 [00:07<00:28,  6.45it/s]"
          ]
        },
        {
          "metadata": {
            "tags": null
          },
          "name": "stdout",
          "output_type": "stream",
          "text": [
            "Batch sizes for English and German are torch.Size([25, 128]) and torch.Size([24, 128]) respectively.\n",
            "Batch sizes for English and German are torch.Size([34, 128]) and torch.Size([34, 128]) respectively.\n"
          ]
        },
        {
          "metadata": {
            "tags": null
          },
          "name": "stderr",
          "output_type": "stream",
          "text": [
            "Model training in progress...:  20%|██        | 46/227 [00:07<00:29,  6.13it/s]"
          ]
        },
        {
          "metadata": {
            "tags": null
          },
          "name": "stdout",
          "output_type": "stream",
          "text": [
            "Batch sizes for English and German are torch.Size([29, 128]) and torch.Size([32, 128]) respectively.\n",
            "Batch sizes for English and German are torch.Size([33, 128]) and torch.Size([30, 128]) respectively.\n"
          ]
        },
        {
          "metadata": {
            "tags": null
          },
          "name": "stderr",
          "output_type": "stream",
          "text": [
            "Model training in progress...:  21%|██        | 48/227 [00:07<00:29,  6.10it/s]"
          ]
        },
        {
          "metadata": {
            "tags": null
          },
          "name": "stdout",
          "output_type": "stream",
          "text": [
            "Batch sizes for English and German are torch.Size([29, 128]) and torch.Size([31, 128]) respectively.\n",
            "Batch sizes for English and German are torch.Size([29, 128]) and torch.Size([30, 128]) respectively.\n"
          ]
        },
        {
          "metadata": {
            "tags": null
          },
          "name": "stderr",
          "output_type": "stream",
          "text": [
            "Model training in progress...:  22%|██▏       | 50/227 [00:08<00:28,  6.25it/s]"
          ]
        },
        {
          "metadata": {
            "tags": null
          },
          "name": "stdout",
          "output_type": "stream",
          "text": [
            "Batch sizes for English and German are torch.Size([29, 128]) and torch.Size([29, 128]) respectively.\n",
            "Batch sizes for English and German are torch.Size([34, 128]) and torch.Size([29, 128]) respectively.\n"
          ]
        },
        {
          "metadata": {
            "tags": null
          },
          "name": "stderr",
          "output_type": "stream",
          "text": [
            "Model training in progress...:  23%|██▎       | 52/227 [00:08<00:28,  6.25it/s]"
          ]
        },
        {
          "metadata": {
            "tags": null
          },
          "name": "stdout",
          "output_type": "stream",
          "text": [
            "Batch sizes for English and German are torch.Size([26, 128]) and torch.Size([28, 128]) respectively.\n",
            "Batch sizes for English and German are torch.Size([28, 128]) and torch.Size([28, 128]) respectively.\n"
          ]
        },
        {
          "metadata": {
            "tags": null
          },
          "name": "stderr",
          "output_type": "stream",
          "text": [
            "Model training in progress...:  24%|██▍       | 54/227 [00:08<00:27,  6.34it/s]"
          ]
        },
        {
          "metadata": {
            "tags": null
          },
          "name": "stdout",
          "output_type": "stream",
          "text": [
            "Batch sizes for English and German are torch.Size([30, 128]) and torch.Size([30, 128]) respectively.\n",
            "Batch sizes for English and German are torch.Size([32, 128]) and torch.Size([31, 128]) respectively.\n"
          ]
        },
        {
          "metadata": {
            "tags": null
          },
          "name": "stderr",
          "output_type": "stream",
          "text": [
            "Model training in progress...:  25%|██▍       | 56/227 [00:09<00:27,  6.20it/s]"
          ]
        },
        {
          "metadata": {
            "tags": null
          },
          "name": "stdout",
          "output_type": "stream",
          "text": [
            "Batch sizes for English and German are torch.Size([28, 128]) and torch.Size([31, 128]) respectively.\n",
            "Batch sizes for English and German are torch.Size([33, 128]) and torch.Size([35, 128]) respectively.\n"
          ]
        },
        {
          "metadata": {
            "tags": null
          },
          "name": "stderr",
          "output_type": "stream",
          "text": [
            "Model training in progress...:  26%|██▌       | 58/227 [00:09<00:28,  5.87it/s]"
          ]
        },
        {
          "metadata": {
            "tags": null
          },
          "name": "stdout",
          "output_type": "stream",
          "text": [
            "Batch sizes for English and German are torch.Size([32, 128]) and torch.Size([31, 128]) respectively.\n",
            "Batch sizes for English and German are torch.Size([25, 128]) and torch.Size([25, 128]) respectively.\n"
          ]
        },
        {
          "metadata": {
            "tags": null
          },
          "name": "stderr",
          "output_type": "stream",
          "text": [
            "Model training in progress...:  26%|██▋       | 60/227 [00:09<00:27,  6.12it/s]"
          ]
        },
        {
          "metadata": {
            "tags": null
          },
          "name": "stdout",
          "output_type": "stream",
          "text": [
            "Batch sizes for English and German are torch.Size([31, 128]) and torch.Size([32, 128]) respectively.\n",
            "Batch sizes for English and German are torch.Size([30, 128]) and torch.Size([27, 128]) respectively.\n"
          ]
        },
        {
          "metadata": {
            "tags": null
          },
          "name": "stderr",
          "output_type": "stream",
          "text": [
            "Model training in progress...:  27%|██▋       | 62/227 [00:10<00:26,  6.26it/s]"
          ]
        },
        {
          "metadata": {
            "tags": null
          },
          "name": "stdout",
          "output_type": "stream",
          "text": [
            "Batch sizes for English and German are torch.Size([28, 128]) and torch.Size([25, 128]) respectively.\n",
            "Batch sizes for English and German are torch.Size([41, 128]) and torch.Size([45, 128]) respectively.\n"
          ]
        },
        {
          "metadata": {
            "tags": null
          },
          "name": "stderr",
          "output_type": "stream",
          "text": [
            "Model training in progress...:  28%|██▊       | 64/227 [00:10<00:29,  5.52it/s]"
          ]
        },
        {
          "metadata": {
            "tags": null
          },
          "name": "stdout",
          "output_type": "stream",
          "text": [
            "Batch sizes for English and German are torch.Size([34, 128]) and torch.Size([29, 128]) respectively.\n",
            "Batch sizes for English and German are torch.Size([26, 128]) and torch.Size([27, 128]) respectively.\n"
          ]
        },
        {
          "metadata": {
            "tags": null
          },
          "name": "stderr",
          "output_type": "stream",
          "text": [
            "Model training in progress...:  29%|██▉       | 66/227 [00:10<00:26,  5.98it/s]"
          ]
        },
        {
          "metadata": {
            "tags": null
          },
          "name": "stdout",
          "output_type": "stream",
          "text": [
            "Batch sizes for English and German are torch.Size([30, 128]) and torch.Size([31, 128]) respectively.\n",
            "Batch sizes for English and German are torch.Size([31, 128]) and torch.Size([31, 128]) respectively.\n"
          ]
        },
        {
          "metadata": {
            "tags": null
          },
          "name": "stderr",
          "output_type": "stream",
          "text": [
            "Model training in progress...:  30%|██▉       | 68/227 [00:11<00:26,  5.92it/s]"
          ]
        },
        {
          "metadata": {
            "tags": null
          },
          "name": "stdout",
          "output_type": "stream",
          "text": [
            "Batch sizes for English and German are torch.Size([32, 128]) and torch.Size([28, 128]) respectively.\n",
            "Batch sizes for English and German are torch.Size([30, 128]) and torch.Size([31, 128]) respectively.\n"
          ]
        },
        {
          "metadata": {
            "tags": null
          },
          "name": "stderr",
          "output_type": "stream",
          "text": [
            "Model training in progress...:  31%|███       | 70/227 [00:11<00:27,  5.75it/s]"
          ]
        },
        {
          "metadata": {
            "tags": null
          },
          "name": "stdout",
          "output_type": "stream",
          "text": [
            "Batch sizes for English and German are torch.Size([35, 128]) and torch.Size([33, 128]) respectively.\n",
            "Batch sizes for English and German are torch.Size([31, 128]) and torch.Size([27, 128]) respectively.\n"
          ]
        },
        {
          "metadata": {
            "tags": null
          },
          "name": "stderr",
          "output_type": "stream",
          "text": [
            "Model training in progress...:  32%|███▏      | 72/227 [00:11<00:26,  5.90it/s]"
          ]
        },
        {
          "metadata": {
            "tags": null
          },
          "name": "stdout",
          "output_type": "stream",
          "text": [
            "Batch sizes for English and German are torch.Size([30, 128]) and torch.Size([29, 128]) respectively.\n",
            "Batch sizes for English and German are torch.Size([30, 128]) and torch.Size([29, 128]) respectively.\n"
          ]
        },
        {
          "metadata": {
            "tags": null
          },
          "name": "stderr",
          "output_type": "stream",
          "text": [
            "Model training in progress...:  33%|███▎      | 74/227 [00:12<00:24,  6.23it/s]"
          ]
        },
        {
          "metadata": {
            "tags": null
          },
          "name": "stdout",
          "output_type": "stream",
          "text": [
            "Batch sizes for English and German are torch.Size([27, 128]) and torch.Size([27, 128]) respectively.\n",
            "Batch sizes for English and German are torch.Size([31, 128]) and torch.Size([29, 128]) respectively.\n"
          ]
        },
        {
          "metadata": {
            "tags": null
          },
          "name": "stderr",
          "output_type": "stream",
          "text": [
            "Model training in progress...:  33%|███▎      | 76/227 [00:12<00:24,  6.25it/s]"
          ]
        },
        {
          "metadata": {
            "tags": null
          },
          "name": "stdout",
          "output_type": "stream",
          "text": [
            "Batch sizes for English and German are torch.Size([28, 128]) and torch.Size([30, 128]) respectively.\n",
            "Batch sizes for English and German are torch.Size([28, 128]) and torch.Size([29, 128]) respectively.\n"
          ]
        },
        {
          "metadata": {
            "tags": null
          },
          "name": "stderr",
          "output_type": "stream",
          "text": [
            "Model training in progress...:  34%|███▍      | 78/227 [00:12<00:23,  6.32it/s]"
          ]
        },
        {
          "metadata": {
            "tags": null
          },
          "name": "stdout",
          "output_type": "stream",
          "text": [
            "Batch sizes for English and German are torch.Size([28, 128]) and torch.Size([27, 128]) respectively.\n",
            "Batch sizes for English and German are torch.Size([28, 128]) and torch.Size([24, 128]) respectively.\n"
          ]
        },
        {
          "metadata": {
            "tags": null
          },
          "name": "stderr",
          "output_type": "stream",
          "text": [
            "Model training in progress...:  35%|███▌      | 80/227 [00:13<00:24,  5.96it/s]"
          ]
        },
        {
          "metadata": {
            "tags": null
          },
          "name": "stdout",
          "output_type": "stream",
          "text": [
            "Batch sizes for English and German are torch.Size([35, 128]) and torch.Size([35, 128]) respectively.\n",
            "Batch sizes for English and German are torch.Size([28, 128]) and torch.Size([26, 128]) respectively.\n"
          ]
        },
        {
          "metadata": {
            "tags": null
          },
          "name": "stderr",
          "output_type": "stream",
          "text": [
            "Model training in progress...:  36%|███▌      | 82/227 [00:13<00:22,  6.33it/s]"
          ]
        },
        {
          "metadata": {
            "tags": null
          },
          "name": "stdout",
          "output_type": "stream",
          "text": [
            "Batch sizes for English and German are torch.Size([26, 128]) and torch.Size([30, 128]) respectively.\n",
            "Batch sizes for English and German are torch.Size([25, 128]) and torch.Size([25, 128]) respectively.\n"
          ]
        },
        {
          "metadata": {
            "tags": null
          },
          "name": "stderr",
          "output_type": "stream",
          "text": [
            "Model training in progress...:  37%|███▋      | 84/227 [00:13<00:23,  6.17it/s]"
          ]
        },
        {
          "metadata": {
            "tags": null
          },
          "name": "stdout",
          "output_type": "stream",
          "text": [
            "Batch sizes for English and German are torch.Size([34, 128]) and torch.Size([31, 128]) respectively.\n",
            "Batch sizes for English and German are torch.Size([27, 128]) and torch.Size([24, 128]) respectively.\n"
          ]
        },
        {
          "metadata": {
            "tags": null
          },
          "name": "stderr",
          "output_type": "stream",
          "text": [
            "Model training in progress...:  38%|███▊      | 86/227 [00:14<00:22,  6.27it/s]"
          ]
        },
        {
          "metadata": {
            "tags": null
          },
          "name": "stdout",
          "output_type": "stream",
          "text": [
            "Batch sizes for English and German are torch.Size([31, 128]) and torch.Size([32, 128]) respectively.\n",
            "Batch sizes for English and German are torch.Size([32, 128]) and torch.Size([32, 128]) respectively.\n"
          ]
        },
        {
          "metadata": {
            "tags": null
          },
          "name": "stderr",
          "output_type": "stream",
          "text": [
            "Model training in progress...:  39%|███▉      | 88/227 [00:14<00:24,  5.75it/s]"
          ]
        },
        {
          "metadata": {
            "tags": null
          },
          "name": "stdout",
          "output_type": "stream",
          "text": [
            "Batch sizes for English and German are torch.Size([37, 128]) and torch.Size([29, 128]) respectively.\n",
            "Batch sizes for English and German are torch.Size([24, 128]) and torch.Size([26, 128]) respectively.\n"
          ]
        },
        {
          "metadata": {
            "tags": null
          },
          "name": "stderr",
          "output_type": "stream",
          "text": [
            "Model training in progress...:  40%|███▉      | 90/227 [00:14<00:21,  6.49it/s]"
          ]
        },
        {
          "metadata": {
            "tags": null
          },
          "name": "stdout",
          "output_type": "stream",
          "text": [
            "Batch sizes for English and German are torch.Size([26, 128]) and torch.Size([24, 128]) respectively.\n",
            "Batch sizes for English and German are torch.Size([32, 128]) and torch.Size([32, 128]) respectively.\n"
          ]
        },
        {
          "metadata": {
            "tags": null
          },
          "name": "stderr",
          "output_type": "stream",
          "text": [
            "Model training in progress...:  41%|████      | 92/227 [00:14<00:21,  6.27it/s]"
          ]
        },
        {
          "metadata": {
            "tags": null
          },
          "name": "stdout",
          "output_type": "stream",
          "text": [
            "Batch sizes for English and German are torch.Size([30, 128]) and torch.Size([24, 128]) respectively.\n",
            "Batch sizes for English and German are torch.Size([31, 128]) and torch.Size([29, 128]) respectively.\n"
          ]
        },
        {
          "metadata": {
            "tags": null
          },
          "name": "stderr",
          "output_type": "stream",
          "text": [
            "Model training in progress...:  41%|████▏     | 94/227 [00:15<00:22,  5.91it/s]"
          ]
        },
        {
          "metadata": {
            "tags": null
          },
          "name": "stdout",
          "output_type": "stream",
          "text": [
            "Batch sizes for English and German are torch.Size([35, 128]) and torch.Size([31, 128]) respectively.\n",
            "Batch sizes for English and German are torch.Size([26, 128]) and torch.Size([28, 128]) respectively.\n"
          ]
        },
        {
          "metadata": {
            "tags": null
          },
          "name": "stderr",
          "output_type": "stream",
          "text": [
            "Model training in progress...:  42%|████▏     | 96/227 [00:15<00:21,  6.16it/s]"
          ]
        },
        {
          "metadata": {
            "tags": null
          },
          "name": "stdout",
          "output_type": "stream",
          "text": [
            "Batch sizes for English and German are torch.Size([31, 128]) and torch.Size([28, 128]) respectively.\n",
            "Batch sizes for English and German are torch.Size([25, 128]) and torch.Size([30, 128]) respectively.\n"
          ]
        },
        {
          "metadata": {
            "tags": null
          },
          "name": "stderr",
          "output_type": "stream",
          "text": [
            "Model training in progress...:  43%|████▎     | 98/227 [00:15<00:20,  6.35it/s]"
          ]
        },
        {
          "metadata": {
            "tags": null
          },
          "name": "stdout",
          "output_type": "stream",
          "text": [
            "Batch sizes for English and German are torch.Size([28, 128]) and torch.Size([33, 128]) respectively.\n",
            "Batch sizes for English and German are torch.Size([33, 128]) and torch.Size([29, 128]) respectively.\n"
          ]
        },
        {
          "metadata": {
            "tags": null
          },
          "name": "stderr",
          "output_type": "stream",
          "text": [
            "Model training in progress...:  44%|████▍     | 100/227 [00:16<00:21,  5.98it/s]"
          ]
        },
        {
          "metadata": {
            "tags": null
          },
          "name": "stdout",
          "output_type": "stream",
          "text": [
            "Batch sizes for English and German are torch.Size([31, 128]) and torch.Size([28, 128]) respectively.\n",
            "Batch sizes for English and German are torch.Size([30, 128]) and torch.Size([27, 128]) respectively.\n"
          ]
        },
        {
          "metadata": {
            "tags": null
          },
          "name": "stderr",
          "output_type": "stream",
          "text": [
            "Model training in progress...:  45%|████▍     | 102/227 [00:16<00:21,  5.93it/s]"
          ]
        },
        {
          "metadata": {
            "tags": null
          },
          "name": "stdout",
          "output_type": "stream",
          "text": [
            "Batch sizes for English and German are torch.Size([31, 128]) and torch.Size([30, 128]) respectively.\n",
            "Batch sizes for English and German are torch.Size([27, 128]) and torch.Size([26, 128]) respectively.\n"
          ]
        },
        {
          "metadata": {
            "tags": null
          },
          "name": "stderr",
          "output_type": "stream",
          "text": [
            "Model training in progress...:  46%|████▌     | 104/227 [00:16<00:19,  6.28it/s]"
          ]
        },
        {
          "metadata": {
            "tags": null
          },
          "name": "stdout",
          "output_type": "stream",
          "text": [
            "Batch sizes for English and German are torch.Size([27, 128]) and torch.Size([33, 128]) respectively.\n",
            "Batch sizes for English and German are torch.Size([32, 128]) and torch.Size([37, 128]) respectively.\n"
          ]
        },
        {
          "metadata": {
            "tags": null
          },
          "name": "stderr",
          "output_type": "stream",
          "text": [
            "Model training in progress...:  47%|████▋     | 106/227 [00:17<00:19,  6.22it/s]"
          ]
        },
        {
          "metadata": {
            "tags": null
          },
          "name": "stdout",
          "output_type": "stream",
          "text": [
            "Batch sizes for English and German are torch.Size([27, 128]) and torch.Size([29, 128]) respectively.\n",
            "Batch sizes for English and German are torch.Size([27, 128]) and torch.Size([28, 128]) respectively.\n"
          ]
        },
        {
          "metadata": {
            "tags": null
          },
          "name": "stderr",
          "output_type": "stream",
          "text": [
            "Model training in progress...:  48%|████▊     | 108/227 [00:17<00:19,  6.24it/s]"
          ]
        },
        {
          "metadata": {
            "tags": null
          },
          "name": "stdout",
          "output_type": "stream",
          "text": [
            "Batch sizes for English and German are torch.Size([29, 128]) and torch.Size([32, 128]) respectively.\n",
            "Batch sizes for English and German are torch.Size([35, 128]) and torch.Size([37, 128]) respectively.\n"
          ]
        },
        {
          "metadata": {
            "tags": null
          },
          "name": "stderr",
          "output_type": "stream",
          "text": [
            "Model training in progress...:  48%|████▊     | 110/227 [00:17<00:20,  5.71it/s]"
          ]
        },
        {
          "metadata": {
            "tags": null
          },
          "name": "stdout",
          "output_type": "stream",
          "text": [
            "Batch sizes for English and German are torch.Size([32, 128]) and torch.Size([32, 128]) respectively.\n",
            "Batch sizes for English and German are torch.Size([29, 128]) and torch.Size([27, 128]) respectively.\n"
          ]
        },
        {
          "metadata": {
            "tags": null
          },
          "name": "stderr",
          "output_type": "stream",
          "text": [
            "Model training in progress...:  49%|████▉     | 112/227 [00:18<00:19,  5.92it/s]"
          ]
        },
        {
          "metadata": {
            "tags": null
          },
          "name": "stdout",
          "output_type": "stream",
          "text": [
            "Batch sizes for English and German are torch.Size([30, 128]) and torch.Size([30, 128]) respectively.\n",
            "Batch sizes for English and German are torch.Size([26, 128]) and torch.Size([25, 128]) respectively.\n"
          ]
        },
        {
          "metadata": {
            "tags": null
          },
          "name": "stderr",
          "output_type": "stream",
          "text": [
            "Model training in progress...:  50%|█████     | 114/227 [00:18<00:19,  5.77it/s]"
          ]
        },
        {
          "metadata": {
            "tags": null
          },
          "name": "stdout",
          "output_type": "stream",
          "text": [
            "Batch sizes for English and German are torch.Size([37, 128]) and torch.Size([38, 128]) respectively.\n"
          ]
        },
        {
          "metadata": {
            "tags": null
          },
          "name": "stderr",
          "output_type": "stream",
          "text": [
            "\rModel training in progress...:  51%|█████     | 115/227 [00:18<00:18,  6.08it/s]"
          ]
        },
        {
          "metadata": {
            "tags": null
          },
          "name": "stdout",
          "output_type": "stream",
          "text": [
            "Batch sizes for English and German are torch.Size([27, 128]) and torch.Size([24, 128]) respectively.\n",
            "Batch sizes for English and German are torch.Size([26, 128]) and torch.Size([33, 128]) respectively.\n"
          ]
        },
        {
          "metadata": {
            "tags": null
          },
          "name": "stderr",
          "output_type": "stream",
          "text": [
            "Model training in progress...:  52%|█████▏    | 117/227 [00:19<00:17,  6.26it/s]"
          ]
        },
        {
          "metadata": {
            "tags": null
          },
          "name": "stdout",
          "output_type": "stream",
          "text": [
            "Batch sizes for English and German are torch.Size([30, 128]) and torch.Size([33, 128]) respectively.\n",
            "Batch sizes for English and German are torch.Size([25, 128]) and torch.Size([29, 128]) respectively.\n"
          ]
        },
        {
          "metadata": {
            "tags": null
          },
          "name": "stderr",
          "output_type": "stream",
          "text": [
            "Model training in progress...:  52%|█████▏    | 119/227 [00:19<00:16,  6.65it/s]"
          ]
        },
        {
          "metadata": {
            "tags": null
          },
          "name": "stdout",
          "output_type": "stream",
          "text": [
            "Batch sizes for English and German are torch.Size([27, 128]) and torch.Size([29, 128]) respectively.\n",
            "Batch sizes for English and German are torch.Size([30, 128]) and torch.Size([33, 128]) respectively.\n"
          ]
        },
        {
          "metadata": {
            "tags": null
          },
          "name": "stderr",
          "output_type": "stream",
          "text": [
            "\rModel training in progress...:  53%|█████▎    | 120/227 [00:19<00:16,  6.44it/s]"
          ]
        },
        {
          "metadata": {
            "tags": null
          },
          "name": "stdout",
          "output_type": "stream",
          "text": [
            "Batch sizes for English and German are torch.Size([39, 128]) and torch.Size([38, 128]) respectively.\n"
          ]
        },
        {
          "metadata": {
            "tags": null
          },
          "name": "stderr",
          "output_type": "stream",
          "text": [
            "Model training in progress...:  54%|█████▎    | 122/227 [00:19<00:19,  5.49it/s]"
          ]
        },
        {
          "metadata": {
            "tags": null
          },
          "name": "stdout",
          "output_type": "stream",
          "text": [
            "Batch sizes for English and German are torch.Size([37, 128]) and torch.Size([38, 128]) respectively.\n",
            "Batch sizes for English and German are torch.Size([30, 128]) and torch.Size([35, 128]) respectively.\n"
          ]
        },
        {
          "metadata": {
            "tags": null
          },
          "name": "stderr",
          "output_type": "stream",
          "text": [
            "\rModel training in progress...:  54%|█████▍    | 123/227 [00:20<00:18,  5.66it/s]"
          ]
        },
        {
          "metadata": {
            "tags": null
          },
          "name": "stdout",
          "output_type": "stream",
          "text": [
            "Batch sizes for English and German are torch.Size([41, 128]) and torch.Size([34, 128]) respectively.\n"
          ]
        },
        {
          "metadata": {
            "tags": null
          },
          "name": "stderr",
          "output_type": "stream",
          "text": [
            "Model training in progress...:  55%|█████▌    | 125/227 [00:20<00:19,  5.26it/s]"
          ]
        },
        {
          "metadata": {
            "tags": null
          },
          "name": "stdout",
          "output_type": "stream",
          "text": [
            "Batch sizes for English and German are torch.Size([35, 128]) and torch.Size([36, 128]) respectively.\n",
            "Batch sizes for English and German are torch.Size([27, 128]) and torch.Size([25, 128]) respectively.\n"
          ]
        },
        {
          "metadata": {
            "tags": null
          },
          "name": "stderr",
          "output_type": "stream",
          "text": [
            "Model training in progress...:  56%|█████▌    | 127/227 [00:20<00:17,  5.86it/s]"
          ]
        },
        {
          "metadata": {
            "tags": null
          },
          "name": "stdout",
          "output_type": "stream",
          "text": [
            "Batch sizes for English and German are torch.Size([29, 128]) and torch.Size([26, 128]) respectively.\n",
            "Batch sizes for English and German are torch.Size([28, 128]) and torch.Size([30, 128]) respectively.\n"
          ]
        },
        {
          "metadata": {
            "tags": null
          },
          "name": "stderr",
          "output_type": "stream",
          "text": [
            "Model training in progress...:  57%|█████▋    | 129/227 [00:21<00:16,  5.86it/s]"
          ]
        },
        {
          "metadata": {
            "tags": null
          },
          "name": "stdout",
          "output_type": "stream",
          "text": [
            "Batch sizes for English and German are torch.Size([34, 128]) and torch.Size([30, 128]) respectively.\n",
            "Batch sizes for English and German are torch.Size([30, 128]) and torch.Size([30, 128]) respectively.\n"
          ]
        },
        {
          "metadata": {
            "tags": null
          },
          "name": "stderr",
          "output_type": "stream",
          "text": [
            "Model training in progress...:  58%|█████▊    | 131/227 [00:21<00:15,  6.12it/s]"
          ]
        },
        {
          "metadata": {
            "tags": null
          },
          "name": "stdout",
          "output_type": "stream",
          "text": [
            "Batch sizes for English and German are torch.Size([27, 128]) and torch.Size([28, 128]) respectively.\n",
            "Batch sizes for English and German are torch.Size([25, 128]) and torch.Size([26, 128]) respectively.\n"
          ]
        },
        {
          "metadata": {
            "tags": null
          },
          "name": "stderr",
          "output_type": "stream",
          "text": [
            "Model training in progress...:  59%|█████▊    | 133/227 [00:21<00:15,  5.92it/s]"
          ]
        },
        {
          "metadata": {
            "tags": null
          },
          "name": "stdout",
          "output_type": "stream",
          "text": [
            "Batch sizes for English and German are torch.Size([36, 128]) and torch.Size([37, 128]) respectively.\n",
            "Batch sizes for English and German are torch.Size([26, 128]) and torch.Size([27, 128]) respectively.\n"
          ]
        },
        {
          "metadata": {
            "tags": null
          },
          "name": "stderr",
          "output_type": "stream",
          "text": [
            "Model training in progress...:  59%|█████▉    | 135/227 [00:22<00:15,  5.80it/s]"
          ]
        },
        {
          "metadata": {
            "tags": null
          },
          "name": "stdout",
          "output_type": "stream",
          "text": [
            "Batch sizes for English and German are torch.Size([36, 128]) and torch.Size([38, 128]) respectively.\n",
            "Batch sizes for English and German are torch.Size([29, 128]) and torch.Size([32, 128]) respectively.\n"
          ]
        },
        {
          "metadata": {
            "tags": null
          },
          "name": "stderr",
          "output_type": "stream",
          "text": [
            "Model training in progress...:  60%|██████    | 137/227 [00:22<00:14,  6.20it/s]"
          ]
        },
        {
          "metadata": {
            "tags": null
          },
          "name": "stdout",
          "output_type": "stream",
          "text": [
            "Batch sizes for English and German are torch.Size([26, 128]) and torch.Size([26, 128]) respectively.\n",
            "Batch sizes for English and German are torch.Size([29, 128]) and torch.Size([28, 128]) respectively.\n"
          ]
        },
        {
          "metadata": {
            "tags": null
          },
          "name": "stderr",
          "output_type": "stream",
          "text": [
            "Model training in progress...:  61%|██████    | 139/227 [00:22<00:14,  6.22it/s]"
          ]
        },
        {
          "metadata": {
            "tags": null
          },
          "name": "stdout",
          "output_type": "stream",
          "text": [
            "Batch sizes for English and German are torch.Size([30, 128]) and torch.Size([30, 128]) respectively.\n",
            "Batch sizes for English and German are torch.Size([29, 128]) and torch.Size([28, 128]) respectively.\n"
          ]
        },
        {
          "metadata": {
            "tags": null
          },
          "name": "stderr",
          "output_type": "stream",
          "text": [
            "Model training in progress...:  62%|██████▏   | 141/227 [00:23<00:13,  6.49it/s]"
          ]
        },
        {
          "metadata": {
            "tags": null
          },
          "name": "stdout",
          "output_type": "stream",
          "text": [
            "Batch sizes for English and German are torch.Size([26, 128]) and torch.Size([26, 128]) respectively.\n",
            "Batch sizes for English and German are torch.Size([35, 128]) and torch.Size([34, 128]) respectively.\n"
          ]
        },
        {
          "metadata": {
            "tags": null
          },
          "name": "stderr",
          "output_type": "stream",
          "text": [
            "Model training in progress...:  63%|██████▎   | 143/227 [00:23<00:13,  6.11it/s]"
          ]
        },
        {
          "metadata": {
            "tags": null
          },
          "name": "stdout",
          "output_type": "stream",
          "text": [
            "Batch sizes for English and German are torch.Size([29, 128]) and torch.Size([28, 128]) respectively.\n",
            "Batch sizes for English and German are torch.Size([32, 128]) and torch.Size([27, 128]) respectively.\n"
          ]
        },
        {
          "metadata": {
            "tags": null
          },
          "name": "stderr",
          "output_type": "stream",
          "text": [
            "Model training in progress...:  64%|██████▍   | 145/227 [00:23<00:13,  6.15it/s]"
          ]
        },
        {
          "metadata": {
            "tags": null
          },
          "name": "stdout",
          "output_type": "stream",
          "text": [
            "Batch sizes for English and German are torch.Size([29, 128]) and torch.Size([24, 128]) respectively.\n",
            "Batch sizes for English and German are torch.Size([33, 128]) and torch.Size([31, 128]) respectively.\n"
          ]
        },
        {
          "metadata": {
            "tags": null
          },
          "name": "stderr",
          "output_type": "stream",
          "text": [
            "Model training in progress...:  65%|██████▍   | 147/227 [00:24<00:13,  5.82it/s]"
          ]
        },
        {
          "metadata": {
            "tags": null
          },
          "name": "stdout",
          "output_type": "stream",
          "text": [
            "Batch sizes for English and German are torch.Size([34, 128]) and torch.Size([33, 128]) respectively.\n",
            "Batch sizes for English and German are torch.Size([30, 128]) and torch.Size([28, 128]) respectively.\n"
          ]
        },
        {
          "metadata": {
            "tags": null
          },
          "name": "stderr",
          "output_type": "stream",
          "text": [
            "Model training in progress...:  66%|██████▌   | 149/227 [00:24<00:13,  5.93it/s]"
          ]
        },
        {
          "metadata": {
            "tags": null
          },
          "name": "stdout",
          "output_type": "stream",
          "text": [
            "Batch sizes for English and German are torch.Size([32, 128]) and torch.Size([32, 128]) respectively.\n",
            "Batch sizes for English and German are torch.Size([28, 128]) and torch.Size([26, 128]) respectively.\n"
          ]
        },
        {
          "metadata": {
            "tags": null
          },
          "name": "stderr",
          "output_type": "stream",
          "text": [
            "Model training in progress...:  67%|██████▋   | 151/227 [00:24<00:11,  6.38it/s]"
          ]
        },
        {
          "metadata": {
            "tags": null
          },
          "name": "stdout",
          "output_type": "stream",
          "text": [
            "Batch sizes for English and German are torch.Size([26, 128]) and torch.Size([24, 128]) respectively.\n",
            "Batch sizes for English and German are torch.Size([27, 128]) and torch.Size([24, 128]) respectively.\n"
          ]
        },
        {
          "metadata": {
            "tags": null
          },
          "name": "stderr",
          "output_type": "stream",
          "text": [
            "Model training in progress...:  67%|██████▋   | 153/227 [00:25<00:12,  5.92it/s]"
          ]
        },
        {
          "metadata": {
            "tags": null
          },
          "name": "stdout",
          "output_type": "stream",
          "text": [
            "Batch sizes for English and German are torch.Size([38, 128]) and torch.Size([31, 128]) respectively.\n"
          ]
        },
        {
          "metadata": {
            "tags": null
          },
          "name": "stderr",
          "output_type": "stream",
          "text": [
            "\rModel training in progress...:  68%|██████▊   | 154/227 [00:25<00:12,  5.95it/s]"
          ]
        },
        {
          "metadata": {
            "tags": null
          },
          "name": "stdout",
          "output_type": "stream",
          "text": [
            "Batch sizes for English and German are torch.Size([31, 128]) and torch.Size([29, 128]) respectively.\n",
            "Batch sizes for English and German are torch.Size([32, 128]) and torch.Size([30, 128]) respectively.\n"
          ]
        },
        {
          "metadata": {
            "tags": null
          },
          "name": "stderr",
          "output_type": "stream",
          "text": [
            "Model training in progress...:  69%|██████▊   | 156/227 [00:25<00:11,  6.12it/s]"
          ]
        },
        {
          "metadata": {
            "tags": null
          },
          "name": "stdout",
          "output_type": "stream",
          "text": [
            "Batch sizes for English and German are torch.Size([28, 128]) and torch.Size([29, 128]) respectively.\n",
            "Batch sizes for English and German are torch.Size([27, 128]) and torch.Size([31, 128]) respectively.\n"
          ]
        },
        {
          "metadata": {
            "tags": null
          },
          "name": "stderr",
          "output_type": "stream",
          "text": [
            "Model training in progress...:  70%|██████▉   | 158/227 [00:25<00:11,  6.04it/s]"
          ]
        },
        {
          "metadata": {
            "tags": null
          },
          "name": "stdout",
          "output_type": "stream",
          "text": [
            "Batch sizes for English and German are torch.Size([34, 128]) and torch.Size([32, 128]) respectively.\n",
            "Batch sizes for English and German are torch.Size([37, 128]) and torch.Size([38, 128]) respectively.\n"
          ]
        },
        {
          "metadata": {
            "tags": null
          },
          "name": "stderr",
          "output_type": "stream",
          "text": [
            "Model training in progress...:  70%|███████   | 160/227 [00:26<00:11,  5.66it/s]"
          ]
        },
        {
          "metadata": {
            "tags": null
          },
          "name": "stdout",
          "output_type": "stream",
          "text": [
            "Batch sizes for English and German are torch.Size([32, 128]) and torch.Size([26, 128]) respectively.\n",
            "Batch sizes for English and German are torch.Size([30, 128]) and torch.Size([25, 128]) respectively.\n"
          ]
        },
        {
          "metadata": {
            "tags": null
          },
          "name": "stderr",
          "output_type": "stream",
          "text": [
            "Model training in progress...:  71%|███████▏  | 162/227 [00:26<00:10,  5.98it/s]"
          ]
        },
        {
          "metadata": {
            "tags": null
          },
          "name": "stdout",
          "output_type": "stream",
          "text": [
            "Batch sizes for English and German are torch.Size([29, 128]) and torch.Size([25, 128]) respectively.\n",
            "Batch sizes for English and German are torch.Size([28, 128]) and torch.Size([29, 128]) respectively.\n"
          ]
        },
        {
          "metadata": {
            "tags": null
          },
          "name": "stderr",
          "output_type": "stream",
          "text": [
            "Model training in progress...:  72%|███████▏  | 164/227 [00:26<00:09,  6.33it/s]"
          ]
        },
        {
          "metadata": {
            "tags": null
          },
          "name": "stdout",
          "output_type": "stream",
          "text": [
            "Batch sizes for English and German are torch.Size([27, 128]) and torch.Size([26, 128]) respectively.\n",
            "Batch sizes for English and German are torch.Size([29, 128]) and torch.Size([27, 128]) respectively.\n"
          ]
        },
        {
          "metadata": {
            "tags": null
          },
          "name": "stderr",
          "output_type": "stream",
          "text": [
            "Model training in progress...:  73%|███████▎  | 166/227 [00:27<00:09,  6.29it/s]"
          ]
        },
        {
          "metadata": {
            "tags": null
          },
          "name": "stdout",
          "output_type": "stream",
          "text": [
            "Batch sizes for English and German are torch.Size([29, 128]) and torch.Size([29, 128]) respectively.\n",
            "Batch sizes for English and German are torch.Size([33, 128]) and torch.Size([28, 128]) respectively.\n"
          ]
        },
        {
          "metadata": {
            "tags": null
          },
          "name": "stderr",
          "output_type": "stream",
          "text": [
            "Model training in progress...:  74%|███████▍  | 168/227 [00:27<00:09,  6.17it/s]"
          ]
        },
        {
          "metadata": {
            "tags": null
          },
          "name": "stdout",
          "output_type": "stream",
          "text": [
            "Batch sizes for English and German are torch.Size([28, 128]) and torch.Size([26, 128]) respectively.\n",
            "Batch sizes for English and German are torch.Size([31, 128]) and torch.Size([27, 128]) respectively.\n"
          ]
        },
        {
          "metadata": {
            "tags": null
          },
          "name": "stderr",
          "output_type": "stream",
          "text": [
            "Model training in progress...:  75%|███████▍  | 170/227 [00:27<00:09,  6.14it/s]"
          ]
        },
        {
          "metadata": {
            "tags": null
          },
          "name": "stdout",
          "output_type": "stream",
          "text": [
            "Batch sizes for English and German are torch.Size([28, 128]) and torch.Size([36, 128]) respectively.\n",
            "Batch sizes for English and German are torch.Size([37, 128]) and torch.Size([30, 128]) respectively.\n"
          ]
        },
        {
          "metadata": {
            "tags": null
          },
          "name": "stderr",
          "output_type": "stream",
          "text": [
            "Model training in progress...:  76%|███████▌  | 172/227 [00:28<00:09,  5.79it/s]"
          ]
        },
        {
          "metadata": {
            "tags": null
          },
          "name": "stdout",
          "output_type": "stream",
          "text": [
            "Batch sizes for English and German are torch.Size([29, 128]) and torch.Size([34, 128]) respectively.\n",
            "Batch sizes for English and German are torch.Size([28, 128]) and torch.Size([26, 128]) respectively.\n"
          ]
        },
        {
          "metadata": {
            "tags": null
          },
          "name": "stderr",
          "output_type": "stream",
          "text": [
            "\rModel training in progress...:  76%|███████▌  | 173/227 [00:28<00:09,  5.98it/s]"
          ]
        },
        {
          "metadata": {
            "tags": null
          },
          "name": "stdout",
          "output_type": "stream",
          "text": [
            "Batch sizes for English and German are torch.Size([40, 128]) and torch.Size([35, 128]) respectively.\n"
          ]
        },
        {
          "metadata": {
            "tags": null
          },
          "name": "stderr",
          "output_type": "stream",
          "text": [
            "Model training in progress...:  77%|███████▋  | 175/227 [00:28<00:09,  5.42it/s]"
          ]
        },
        {
          "metadata": {
            "tags": null
          },
          "name": "stdout",
          "output_type": "stream",
          "text": [
            "Batch sizes for English and German are torch.Size([33, 128]) and torch.Size([34, 128]) respectively.\n",
            "Batch sizes for English and German are torch.Size([28, 128]) and torch.Size([30, 128]) respectively.\n"
          ]
        },
        {
          "metadata": {
            "tags": null
          },
          "name": "stderr",
          "output_type": "stream",
          "text": [
            "Model training in progress...:  78%|███████▊  | 177/227 [00:29<00:08,  5.82it/s]"
          ]
        },
        {
          "metadata": {
            "tags": null
          },
          "name": "stdout",
          "output_type": "stream",
          "text": [
            "Batch sizes for English and German are torch.Size([28, 128]) and torch.Size([26, 128]) respectively.\n",
            "Batch sizes for English and German are torch.Size([28, 128]) and torch.Size([27, 128]) respectively.\n"
          ]
        },
        {
          "metadata": {
            "tags": null
          },
          "name": "stderr",
          "output_type": "stream",
          "text": [
            "Model training in progress...:  79%|███████▉  | 179/227 [00:29<00:07,  6.24it/s]"
          ]
        },
        {
          "metadata": {
            "tags": null
          },
          "name": "stdout",
          "output_type": "stream",
          "text": [
            "Batch sizes for English and German are torch.Size([26, 128]) and torch.Size([31, 128]) respectively.\n",
            "Batch sizes for English and German are torch.Size([40, 128]) and torch.Size([37, 128]) respectively.\n"
          ]
        },
        {
          "metadata": {
            "tags": null
          },
          "name": "stderr",
          "output_type": "stream",
          "text": [
            "Model training in progress...:  80%|███████▉  | 181/227 [00:29<00:08,  5.31it/s]"
          ]
        },
        {
          "metadata": {
            "tags": null
          },
          "name": "stdout",
          "output_type": "stream",
          "text": [
            "Batch sizes for English and German are torch.Size([37, 128]) and torch.Size([34, 128]) respectively.\n"
          ]
        },
        {
          "metadata": {
            "tags": null
          },
          "name": "stderr",
          "output_type": "stream",
          "text": [
            "\rModel training in progress...:  80%|████████  | 182/227 [00:30<00:08,  5.33it/s]"
          ]
        },
        {
          "metadata": {
            "tags": null
          },
          "name": "stdout",
          "output_type": "stream",
          "text": [
            "Batch sizes for English and German are torch.Size([32, 128]) and torch.Size([29, 128]) respectively.\n",
            "Batch sizes for English and German are torch.Size([29, 128]) and torch.Size([27, 128]) respectively.\n"
          ]
        },
        {
          "metadata": {
            "tags": null
          },
          "name": "stderr",
          "output_type": "stream",
          "text": [
            "Model training in progress...:  81%|████████  | 184/227 [00:30<00:07,  5.97it/s]"
          ]
        },
        {
          "metadata": {
            "tags": null
          },
          "name": "stdout",
          "output_type": "stream",
          "text": [
            "Batch sizes for English and German are torch.Size([24, 128]) and torch.Size([36, 128]) respectively.\n",
            "Batch sizes for English and German are torch.Size([31, 128]) and torch.Size([34, 128]) respectively.\n"
          ]
        },
        {
          "metadata": {
            "tags": null
          },
          "name": "stderr",
          "output_type": "stream",
          "text": [
            "Model training in progress...:  82%|████████▏ | 186/227 [00:30<00:07,  5.65it/s]"
          ]
        },
        {
          "metadata": {
            "tags": null
          },
          "name": "stdout",
          "output_type": "stream",
          "text": [
            "Batch sizes for English and German are torch.Size([36, 128]) and torch.Size([31, 128]) respectively.\n",
            "Batch sizes for English and German are torch.Size([29, 128]) and torch.Size([31, 128]) respectively.\n"
          ]
        },
        {
          "metadata": {
            "tags": null
          },
          "name": "stderr",
          "output_type": "stream",
          "text": [
            "Model training in progress...:  83%|████████▎ | 188/227 [00:31<00:06,  6.09it/s]"
          ]
        },
        {
          "metadata": {
            "tags": null
          },
          "name": "stdout",
          "output_type": "stream",
          "text": [
            "Batch sizes for English and German are torch.Size([26, 128]) and torch.Size([30, 128]) respectively.\n",
            "Batch sizes for English and German are torch.Size([36, 128]) and torch.Size([38, 128]) respectively.\n"
          ]
        },
        {
          "metadata": {
            "tags": null
          },
          "name": "stderr",
          "output_type": "stream",
          "text": [
            "Model training in progress...:  84%|████████▎ | 190/227 [00:31<00:06,  5.70it/s]"
          ]
        },
        {
          "metadata": {
            "tags": null
          },
          "name": "stdout",
          "output_type": "stream",
          "text": [
            "Batch sizes for English and German are torch.Size([32, 128]) and torch.Size([29, 128]) respectively.\n",
            "Batch sizes for English and German are torch.Size([27, 128]) and torch.Size([29, 128]) respectively.\n"
          ]
        },
        {
          "metadata": {
            "tags": null
          },
          "name": "stderr",
          "output_type": "stream",
          "text": [
            "Model training in progress...:  85%|████████▍ | 192/227 [00:31<00:05,  6.00it/s]"
          ]
        },
        {
          "metadata": {
            "tags": null
          },
          "name": "stdout",
          "output_type": "stream",
          "text": [
            "Batch sizes for English and German are torch.Size([30, 128]) and torch.Size([33, 128]) respectively.\n",
            "Batch sizes for English and German are torch.Size([29, 128]) and torch.Size([30, 128]) respectively.\n"
          ]
        },
        {
          "metadata": {
            "tags": null
          },
          "name": "stderr",
          "output_type": "stream",
          "text": [
            "Model training in progress...:  85%|████████▌ | 194/227 [00:32<00:05,  5.77it/s]"
          ]
        },
        {
          "metadata": {
            "tags": null
          },
          "name": "stdout",
          "output_type": "stream",
          "text": [
            "Batch sizes for English and German are torch.Size([36, 128]) and torch.Size([27, 128]) respectively.\n",
            "Batch sizes for English and German are torch.Size([27, 128]) and torch.Size([27, 128]) respectively.\n"
          ]
        },
        {
          "metadata": {
            "tags": null
          },
          "name": "stderr",
          "output_type": "stream",
          "text": [
            "Model training in progress...:  86%|████████▋ | 196/227 [00:32<00:05,  6.12it/s]"
          ]
        },
        {
          "metadata": {
            "tags": null
          },
          "name": "stdout",
          "output_type": "stream",
          "text": [
            "Batch sizes for English and German are torch.Size([29, 128]) and torch.Size([30, 128]) respectively.\n",
            "Batch sizes for English and German are torch.Size([26, 128]) and torch.Size([30, 128]) respectively.\n"
          ]
        },
        {
          "metadata": {
            "tags": null
          },
          "name": "stderr",
          "output_type": "stream",
          "text": [
            "Model training in progress...:  87%|████████▋ | 198/227 [00:32<00:04,  6.26it/s]"
          ]
        },
        {
          "metadata": {
            "tags": null
          },
          "name": "stdout",
          "output_type": "stream",
          "text": [
            "Batch sizes for English and German are torch.Size([31, 128]) and torch.Size([28, 128]) respectively.\n",
            "Batch sizes for English and German are torch.Size([31, 128]) and torch.Size([36, 128]) respectively.\n"
          ]
        },
        {
          "metadata": {
            "tags": null
          },
          "name": "stderr",
          "output_type": "stream",
          "text": [
            "Model training in progress...:  88%|████████▊ | 200/227 [00:33<00:04,  6.19it/s]"
          ]
        },
        {
          "metadata": {
            "tags": null
          },
          "name": "stdout",
          "output_type": "stream",
          "text": [
            "Batch sizes for English and German are torch.Size([29, 128]) and torch.Size([22, 128]) respectively.\n",
            "Batch sizes for English and German are torch.Size([28, 128]) and torch.Size([25, 128]) respectively.\n"
          ]
        },
        {
          "metadata": {
            "tags": null
          },
          "name": "stderr",
          "output_type": "stream",
          "text": [
            "Model training in progress...:  89%|████████▉ | 202/227 [00:33<00:04,  5.83it/s]"
          ]
        },
        {
          "metadata": {
            "tags": null
          },
          "name": "stdout",
          "output_type": "stream",
          "text": [
            "Batch sizes for English and German are torch.Size([37, 128]) and torch.Size([36, 128]) respectively.\n"
          ]
        },
        {
          "metadata": {
            "tags": null
          },
          "name": "stderr",
          "output_type": "stream",
          "text": [
            "\rModel training in progress...:  89%|████████▉ | 203/227 [00:33<00:03,  6.10it/s]"
          ]
        },
        {
          "metadata": {
            "tags": null
          },
          "name": "stdout",
          "output_type": "stream",
          "text": [
            "Batch sizes for English and German are torch.Size([27, 128]) and torch.Size([27, 128]) respectively.\n",
            "Batch sizes for English and German are torch.Size([35, 128]) and torch.Size([37, 128]) respectively.\n"
          ]
        },
        {
          "metadata": {
            "tags": null
          },
          "name": "stderr",
          "output_type": "stream",
          "text": [
            "\rModel training in progress...:  90%|████████▉ | 204/227 [00:33<00:04,  5.75it/s]"
          ]
        },
        {
          "metadata": {
            "tags": null
          },
          "name": "stdout",
          "output_type": "stream",
          "text": [
            "Batch sizes for English and German are torch.Size([40, 128]) and torch.Size([37, 128]) respectively.\n"
          ]
        },
        {
          "metadata": {
            "tags": null
          },
          "name": "stderr",
          "output_type": "stream",
          "text": [
            "Model training in progress...:  91%|█████████ | 206/227 [00:34<00:03,  5.47it/s]"
          ]
        },
        {
          "metadata": {
            "tags": null
          },
          "name": "stdout",
          "output_type": "stream",
          "text": [
            "Batch sizes for English and German are torch.Size([31, 128]) and torch.Size([36, 128]) respectively.\n",
            "Batch sizes for English and German are torch.Size([31, 128]) and torch.Size([28, 128]) respectively.\n"
          ]
        },
        {
          "metadata": {
            "tags": null
          },
          "name": "stderr",
          "output_type": "stream",
          "text": [
            "Model training in progress...:  92%|█████████▏| 208/227 [00:34<00:03,  5.49it/s]"
          ]
        },
        {
          "metadata": {
            "tags": null
          },
          "name": "stdout",
          "output_type": "stream",
          "text": [
            "Batch sizes for English and German are torch.Size([35, 128]) and torch.Size([33, 128]) respectively.\n",
            "Batch sizes for English and German are torch.Size([30, 128]) and torch.Size([29, 128]) respectively.\n"
          ]
        },
        {
          "metadata": {
            "tags": null
          },
          "name": "stderr",
          "output_type": "stream",
          "text": [
            "Model training in progress...:  93%|█████████▎| 210/227 [00:34<00:02,  5.74it/s]"
          ]
        },
        {
          "metadata": {
            "tags": null
          },
          "name": "stdout",
          "output_type": "stream",
          "text": [
            "Batch sizes for English and German are torch.Size([31, 128]) and torch.Size([31, 128]) respectively.\n",
            "Batch sizes for English and German are torch.Size([31, 128]) and torch.Size([27, 128]) respectively.\n"
          ]
        },
        {
          "metadata": {
            "tags": null
          },
          "name": "stderr",
          "output_type": "stream",
          "text": [
            "Model training in progress...:  93%|█████████▎| 212/227 [00:35<00:02,  6.24it/s]"
          ]
        },
        {
          "metadata": {
            "tags": null
          },
          "name": "stdout",
          "output_type": "stream",
          "text": [
            "Batch sizes for English and German are torch.Size([24, 128]) and torch.Size([28, 128]) respectively.\n",
            "Batch sizes for English and German are torch.Size([34, 128]) and torch.Size([34, 128]) respectively.\n"
          ]
        },
        {
          "metadata": {
            "tags": null
          },
          "name": "stderr",
          "output_type": "stream",
          "text": [
            "Model training in progress...:  94%|█████████▍| 214/227 [00:35<00:02,  6.20it/s]"
          ]
        },
        {
          "metadata": {
            "tags": null
          },
          "name": "stdout",
          "output_type": "stream",
          "text": [
            "Batch sizes for English and German are torch.Size([27, 128]) and torch.Size([28, 128]) respectively.\n",
            "Batch sizes for English and German are torch.Size([27, 128]) and torch.Size([27, 128]) respectively.\n"
          ]
        },
        {
          "metadata": {
            "tags": null
          },
          "name": "stderr",
          "output_type": "stream",
          "text": [
            "Model training in progress...:  95%|█████████▌| 216/227 [00:35<00:01,  6.33it/s]"
          ]
        },
        {
          "metadata": {
            "tags": null
          },
          "name": "stdout",
          "output_type": "stream",
          "text": [
            "Batch sizes for English and German are torch.Size([30, 128]) and torch.Size([30, 128]) respectively.\n",
            "Batch sizes for English and German are torch.Size([26, 128]) and torch.Size([28, 128]) respectively.\n"
          ]
        },
        {
          "metadata": {
            "tags": null
          },
          "name": "stderr",
          "output_type": "stream",
          "text": [
            "Model training in progress...:  96%|█████████▌| 218/227 [00:36<00:01,  5.94it/s]"
          ]
        },
        {
          "metadata": {
            "tags": null
          },
          "name": "stdout",
          "output_type": "stream",
          "text": [
            "Batch sizes for English and German are torch.Size([36, 128]) and torch.Size([37, 128]) respectively.\n",
            "Batch sizes for English and German are torch.Size([26, 128]) and torch.Size([25, 128]) respectively.\n"
          ]
        },
        {
          "metadata": {
            "tags": null
          },
          "name": "stderr",
          "output_type": "stream",
          "text": [
            "Model training in progress...:  97%|█████████▋| 220/227 [00:36<00:01,  6.30it/s]"
          ]
        },
        {
          "metadata": {
            "tags": null
          },
          "name": "stdout",
          "output_type": "stream",
          "text": [
            "Batch sizes for English and German are torch.Size([28, 128]) and torch.Size([28, 128]) respectively.\n",
            "Batch sizes for English and German are torch.Size([30, 128]) and torch.Size([29, 128]) respectively.\n"
          ]
        },
        {
          "metadata": {
            "tags": null
          },
          "name": "stderr",
          "output_type": "stream",
          "text": [
            "Model training in progress...:  98%|█████████▊| 222/227 [00:36<00:00,  6.17it/s]"
          ]
        },
        {
          "metadata": {
            "tags": null
          },
          "name": "stdout",
          "output_type": "stream",
          "text": [
            "Batch sizes for English and German are torch.Size([31, 128]) and torch.Size([29, 128]) respectively.\n",
            "Batch sizes for English and German are torch.Size([37, 128]) and torch.Size([35, 128]) respectively.\n"
          ]
        },
        {
          "metadata": {
            "tags": null
          },
          "name": "stderr",
          "output_type": "stream",
          "text": [
            "Model training in progress...:  99%|█████████▊| 224/227 [00:37<00:00,  5.96it/s]"
          ]
        },
        {
          "metadata": {
            "tags": null
          },
          "name": "stdout",
          "output_type": "stream",
          "text": [
            "Batch sizes for English and German are torch.Size([28, 128]) and torch.Size([28, 128]) respectively.\n",
            "Batch sizes for English and German are torch.Size([26, 128]) and torch.Size([26, 128]) respectively.\n"
          ]
        },
        {
          "metadata": {
            "tags": null
          },
          "name": "stderr",
          "output_type": "stream",
          "text": [
            "Model training in progress...: 100%|█████████▉| 226/227 [00:37<00:00,  6.04it/s]"
          ]
        },
        {
          "metadata": {
            "tags": null
          },
          "name": "stdout",
          "output_type": "stream",
          "text": [
            "Batch sizes for English and German are torch.Size([33, 128]) and torch.Size([29, 128]) respectively.\n",
            "Batch sizes for English and German are torch.Size([35, 72]) and torch.Size([32, 72]) respectively.\n"
          ]
        },
        {
          "metadata": {
            "tags": null
          },
          "name": "stderr",
          "output_type": "stream",
          "text": [
            "Model training in progress...: 100%|██████████| 227/227 [00:37<00:00,  6.05it/s]\n",
            "Model validation in progress...:  25%|██▌       | 2/8 [00:00<00:00, 13.67it/s]"
          ]
        },
        {
          "metadata": {
            "tags": null
          },
          "name": "stdout",
          "output_type": "stream",
          "text": [
            "Batch sizes for English and German are torch.Size([30, 128]) and torch.Size([31, 128]) respectively.\n",
            "Batch sizes for English and German are torch.Size([33, 128]) and torch.Size([33, 128]) respectively.\n",
            "Batch sizes for English and German are torch.Size([27, 128]) and torch.Size([27, 128]) respectively.\n"
          ]
        },
        {
          "metadata": {
            "tags": null
          },
          "name": "stderr",
          "output_type": "stream",
          "text": [
            "\rModel validation in progress...:  50%|█████     | 4/8 [00:00<00:00, 14.29it/s]"
          ]
        },
        {
          "metadata": {
            "tags": null
          },
          "name": "stdout",
          "output_type": "stream",
          "text": [
            "Batch sizes for English and German are torch.Size([28, 128]) and torch.Size([27, 128]) respectively.\n",
            "Batch sizes for English and German are torch.Size([32, 128]) and torch.Size([34, 128]) respectively.\n",
            "Batch sizes for English and German are torch.Size([28, 128]) and torch.Size([28, 128]) respectively.\n"
          ]
        },
        {
          "metadata": {
            "tags": null
          },
          "name": "stderr",
          "output_type": "stream",
          "text": [
            "Model validation in progress...: 100%|██████████| 8/8 [00:00<00:00, 13.89it/s]\n"
          ]
        },
        {
          "metadata": {
            "tags": null
          },
          "name": "stdout",
          "output_type": "stream",
          "text": [
            "Batch sizes for English and German are torch.Size([27, 128]) and torch.Size([30, 128]) respectively.\n",
            "Batch sizes for English and German are torch.Size([34, 118]) and torch.Size([35, 118]) respectively.\n",
            "Epoch: 4\n",
            "Training loss: 3.783\n",
            "Validation loss: 4.283\n",
            "\n",
            "\n"
          ]
        },
        {
          "metadata": {
            "tags": null
          },
          "name": "stderr",
          "output_type": "stream",
          "text": [
            "Model training in progress...:   0%|          | 1/227 [00:00<00:40,  5.61it/s]"
          ]
        },
        {
          "metadata": {
            "tags": null
          },
          "name": "stdout",
          "output_type": "stream",
          "text": [
            "Batch sizes for English and German are torch.Size([32, 128]) and torch.Size([30, 128]) respectively.\n",
            "Batch sizes for English and German are torch.Size([25, 128]) and torch.Size([26, 128]) respectively.\n"
          ]
        },
        {
          "metadata": {
            "tags": null
          },
          "name": "stderr",
          "output_type": "stream",
          "text": [
            "Model training in progress...:   1%|▏         | 3/227 [00:00<00:40,  5.50it/s]"
          ]
        },
        {
          "metadata": {
            "tags": null
          },
          "name": "stdout",
          "output_type": "stream",
          "text": [
            "Batch sizes for English and German are torch.Size([38, 128]) and torch.Size([36, 128]) respectively.\n"
          ]
        },
        {
          "metadata": {
            "tags": null
          },
          "name": "stderr",
          "output_type": "stream",
          "text": [
            "\rModel training in progress...:   2%|▏         | 4/227 [00:00<00:42,  5.23it/s]"
          ]
        },
        {
          "metadata": {
            "tags": null
          },
          "name": "stdout",
          "output_type": "stream",
          "text": [
            "Batch sizes for English and German are torch.Size([37, 128]) and torch.Size([38, 128]) respectively.\n"
          ]
        },
        {
          "metadata": {
            "tags": null
          },
          "name": "stderr",
          "output_type": "stream",
          "text": [
            "\rModel training in progress...:   2%|▏         | 5/227 [00:00<00:41,  5.29it/s]"
          ]
        },
        {
          "metadata": {
            "tags": null
          },
          "name": "stdout",
          "output_type": "stream",
          "text": [
            "Batch sizes for English and German are torch.Size([33, 128]) and torch.Size([34, 128]) respectively.\n",
            "Batch sizes for English and German are torch.Size([31, 128]) and torch.Size([31, 128]) respectively.\n"
          ]
        },
        {
          "metadata": {
            "tags": null
          },
          "name": "stderr",
          "output_type": "stream",
          "text": [
            "Model training in progress...:   3%|▎         | 7/227 [00:01<00:38,  5.69it/s]"
          ]
        },
        {
          "metadata": {
            "tags": null
          },
          "name": "stdout",
          "output_type": "stream",
          "text": [
            "Batch sizes for English and German are torch.Size([30, 128]) and torch.Size([29, 128]) respectively.\n",
            "Batch sizes for English and German are torch.Size([29, 128]) and torch.Size([32, 128]) respectively.\n"
          ]
        },
        {
          "metadata": {
            "tags": null
          },
          "name": "stderr",
          "output_type": "stream",
          "text": [
            "Model training in progress...:   4%|▍         | 9/227 [00:01<00:35,  6.09it/s]"
          ]
        },
        {
          "metadata": {
            "tags": null
          },
          "name": "stdout",
          "output_type": "stream",
          "text": [
            "Batch sizes for English and German are torch.Size([28, 128]) and torch.Size([29, 128]) respectively.\n",
            "Batch sizes for English and German are torch.Size([32, 128]) and torch.Size([37, 128]) respectively.\n"
          ]
        },
        {
          "metadata": {
            "tags": null
          },
          "name": "stderr",
          "output_type": "stream",
          "text": [
            "Model training in progress...:   5%|▍         | 11/227 [00:01<00:35,  6.11it/s]"
          ]
        },
        {
          "metadata": {
            "tags": null
          },
          "name": "stdout",
          "output_type": "stream",
          "text": [
            "Batch sizes for English and German are torch.Size([27, 128]) and torch.Size([27, 128]) respectively.\n",
            "Batch sizes for English and German are torch.Size([24, 128]) and torch.Size([26, 128]) respectively.\n"
          ]
        },
        {
          "metadata": {
            "tags": null
          },
          "name": "stderr",
          "output_type": "stream",
          "text": [
            "Model training in progress...:   6%|▌         | 13/227 [00:02<00:35,  6.04it/s]"
          ]
        },
        {
          "metadata": {
            "tags": null
          },
          "name": "stdout",
          "output_type": "stream",
          "text": [
            "Batch sizes for English and German are torch.Size([34, 128]) and torch.Size([31, 128]) respectively.\n",
            "Batch sizes for English and German are torch.Size([27, 128]) and torch.Size([27, 128]) respectively.\n"
          ]
        },
        {
          "metadata": {
            "tags": null
          },
          "name": "stderr",
          "output_type": "stream",
          "text": [
            "\rModel training in progress...:   6%|▌         | 14/227 [00:02<00:34,  6.20it/s]"
          ]
        },
        {
          "metadata": {
            "tags": null
          },
          "name": "stdout",
          "output_type": "stream",
          "text": [
            "Batch sizes for English and German are torch.Size([40, 128]) and torch.Size([37, 128]) respectively.\n"
          ]
        },
        {
          "metadata": {
            "tags": null
          },
          "name": "stderr",
          "output_type": "stream",
          "text": [
            "Model training in progress...:   7%|▋         | 16/227 [00:02<00:36,  5.82it/s]"
          ]
        },
        {
          "metadata": {
            "tags": null
          },
          "name": "stdout",
          "output_type": "stream",
          "text": [
            "Batch sizes for English and German are torch.Size([27, 128]) and torch.Size([29, 128]) respectively.\n",
            "Batch sizes for English and German are torch.Size([30, 128]) and torch.Size([29, 128]) respectively.\n"
          ]
        },
        {
          "metadata": {
            "tags": null
          },
          "name": "stderr",
          "output_type": "stream",
          "text": [
            "Model training in progress...:   8%|▊         | 18/227 [00:03<00:35,  5.93it/s]"
          ]
        },
        {
          "metadata": {
            "tags": null
          },
          "name": "stdout",
          "output_type": "stream",
          "text": [
            "Batch sizes for English and German are torch.Size([30, 128]) and torch.Size([23, 128]) respectively.\n",
            "Batch sizes for English and German are torch.Size([29, 128]) and torch.Size([30, 128]) respectively.\n"
          ]
        },
        {
          "metadata": {
            "tags": null
          },
          "name": "stderr",
          "output_type": "stream",
          "text": [
            "Model training in progress...:   9%|▉         | 20/227 [00:03<00:34,  5.96it/s]"
          ]
        },
        {
          "metadata": {
            "tags": null
          },
          "name": "stdout",
          "output_type": "stream",
          "text": [
            "Batch sizes for English and German are torch.Size([31, 128]) and torch.Size([28, 128]) respectively.\n",
            "Batch sizes for English and German are torch.Size([29, 128]) and torch.Size([30, 128]) respectively.\n"
          ]
        },
        {
          "metadata": {
            "tags": null
          },
          "name": "stderr",
          "output_type": "stream",
          "text": [
            "Model training in progress...:  10%|▉         | 22/227 [00:03<00:34,  5.96it/s]"
          ]
        },
        {
          "metadata": {
            "tags": null
          },
          "name": "stdout",
          "output_type": "stream",
          "text": [
            "Batch sizes for English and German are torch.Size([30, 128]) and torch.Size([28, 128]) respectively.\n",
            "Batch sizes for English and German are torch.Size([26, 128]) and torch.Size([26, 128]) respectively.\n"
          ]
        },
        {
          "metadata": {
            "tags": null
          },
          "name": "stderr",
          "output_type": "stream",
          "text": [
            "Model training in progress...:  11%|█         | 24/227 [00:04<00:33,  6.08it/s]"
          ]
        },
        {
          "metadata": {
            "tags": null
          },
          "name": "stdout",
          "output_type": "stream",
          "text": [
            "Batch sizes for English and German are torch.Size([31, 128]) and torch.Size([26, 128]) respectively.\n",
            "Batch sizes for English and German are torch.Size([28, 128]) and torch.Size([24, 128]) respectively.\n"
          ]
        },
        {
          "metadata": {
            "tags": null
          },
          "name": "stderr",
          "output_type": "stream",
          "text": [
            "Model training in progress...:  11%|█▏        | 26/227 [00:04<00:31,  6.37it/s]"
          ]
        },
        {
          "metadata": {
            "tags": null
          },
          "name": "stdout",
          "output_type": "stream",
          "text": [
            "Batch sizes for English and German are torch.Size([27, 128]) and torch.Size([28, 128]) respectively.\n",
            "Batch sizes for English and German are torch.Size([30, 128]) and torch.Size([28, 128]) respectively.\n"
          ]
        },
        {
          "metadata": {
            "tags": null
          },
          "name": "stderr",
          "output_type": "stream",
          "text": [
            "Model training in progress...:  12%|█▏        | 28/227 [00:04<00:31,  6.40it/s]"
          ]
        },
        {
          "metadata": {
            "tags": null
          },
          "name": "stdout",
          "output_type": "stream",
          "text": [
            "Batch sizes for English and German are torch.Size([27, 128]) and torch.Size([29, 128]) respectively.\n",
            "Batch sizes for English and German are torch.Size([29, 128]) and torch.Size([27, 128]) respectively.\n"
          ]
        },
        {
          "metadata": {
            "tags": null
          },
          "name": "stderr",
          "output_type": "stream",
          "text": [
            "Model training in progress...:  13%|█▎        | 30/227 [00:04<00:30,  6.43it/s]"
          ]
        },
        {
          "metadata": {
            "tags": null
          },
          "name": "stdout",
          "output_type": "stream",
          "text": [
            "Batch sizes for English and German are torch.Size([28, 128]) and torch.Size([26, 128]) respectively.\n",
            "Batch sizes for English and German are torch.Size([37, 128]) and torch.Size([38, 128]) respectively.\n"
          ]
        },
        {
          "metadata": {
            "tags": null
          },
          "name": "stderr",
          "output_type": "stream",
          "text": [
            "Model training in progress...:  14%|█▍        | 32/227 [00:05<00:31,  6.19it/s]"
          ]
        },
        {
          "metadata": {
            "tags": null
          },
          "name": "stdout",
          "output_type": "stream",
          "text": [
            "Batch sizes for English and German are torch.Size([26, 128]) and torch.Size([27, 128]) respectively.\n",
            "Batch sizes for English and German are torch.Size([32, 128]) and torch.Size([28, 128]) respectively.\n"
          ]
        },
        {
          "metadata": {
            "tags": null
          },
          "name": "stderr",
          "output_type": "stream",
          "text": [
            "Model training in progress...:  15%|█▍        | 34/227 [00:05<00:30,  6.23it/s]"
          ]
        },
        {
          "metadata": {
            "tags": null
          },
          "name": "stdout",
          "output_type": "stream",
          "text": [
            "Batch sizes for English and German are torch.Size([28, 128]) and torch.Size([29, 128]) respectively.\n",
            "Batch sizes for English and German are torch.Size([32, 128]) and torch.Size([25, 128]) respectively.\n"
          ]
        },
        {
          "metadata": {
            "tags": null
          },
          "name": "stderr",
          "output_type": "stream",
          "text": [
            "Model training in progress...:  16%|█▌        | 36/227 [00:05<00:29,  6.42it/s]"
          ]
        },
        {
          "metadata": {
            "tags": null
          },
          "name": "stdout",
          "output_type": "stream",
          "text": [
            "Batch sizes for English and German are torch.Size([25, 128]) and torch.Size([24, 128]) respectively.\n",
            "Batch sizes for English and German are torch.Size([28, 128]) and torch.Size([30, 128]) respectively.\n"
          ]
        },
        {
          "metadata": {
            "tags": null
          },
          "name": "stderr",
          "output_type": "stream",
          "text": [
            "Model training in progress...:  17%|█▋        | 38/227 [00:06<00:31,  6.00it/s]"
          ]
        },
        {
          "metadata": {
            "tags": null
          },
          "name": "stdout",
          "output_type": "stream",
          "text": [
            "Batch sizes for English and German are torch.Size([35, 128]) and torch.Size([34, 128]) respectively.\n",
            "Batch sizes for English and German are torch.Size([28, 128]) and torch.Size([30, 128]) respectively.\n"
          ]
        },
        {
          "metadata": {
            "tags": null
          },
          "name": "stderr",
          "output_type": "stream",
          "text": [
            "\rModel training in progress...:  17%|█▋        | 39/227 [00:06<00:30,  6.17it/s]"
          ]
        },
        {
          "metadata": {
            "tags": null
          },
          "name": "stdout",
          "output_type": "stream",
          "text": [
            "Batch sizes for English and German are torch.Size([43, 128]) and torch.Size([36, 128]) respectively.\n"
          ]
        },
        {
          "metadata": {
            "tags": null
          },
          "name": "stderr",
          "output_type": "stream",
          "text": [
            "Model training in progress...:  18%|█▊        | 41/227 [00:06<00:33,  5.48it/s]"
          ]
        },
        {
          "metadata": {
            "tags": null
          },
          "name": "stdout",
          "output_type": "stream",
          "text": [
            "Batch sizes for English and German are torch.Size([34, 128]) and torch.Size([32, 128]) respectively.\n",
            "Batch sizes for English and German are torch.Size([29, 128]) and torch.Size([33, 128]) respectively.\n"
          ]
        },
        {
          "metadata": {
            "tags": null
          },
          "name": "stderr",
          "output_type": "stream",
          "text": [
            "Model training in progress...:  19%|█▉        | 43/227 [00:07<00:32,  5.73it/s]"
          ]
        },
        {
          "metadata": {
            "tags": null
          },
          "name": "stdout",
          "output_type": "stream",
          "text": [
            "Batch sizes for English and German are torch.Size([31, 128]) and torch.Size([30, 128]) respectively.\n",
            "Batch sizes for English and German are torch.Size([37, 128]) and torch.Size([38, 128]) respectively.\n"
          ]
        },
        {
          "metadata": {
            "tags": null
          },
          "name": "stderr",
          "output_type": "stream",
          "text": [
            "Model training in progress...:  20%|█▉        | 45/227 [00:07<00:31,  5.85it/s]"
          ]
        },
        {
          "metadata": {
            "tags": null
          },
          "name": "stdout",
          "output_type": "stream",
          "text": [
            "Batch sizes for English and German are torch.Size([27, 128]) and torch.Size([27, 128]) respectively.\n",
            "Batch sizes for English and German are torch.Size([28, 128]) and torch.Size([25, 128]) respectively.\n"
          ]
        },
        {
          "metadata": {
            "tags": null
          },
          "name": "stderr",
          "output_type": "stream",
          "text": [
            "Model training in progress...:  21%|██        | 47/227 [00:07<00:32,  5.62it/s]"
          ]
        },
        {
          "metadata": {
            "tags": null
          },
          "name": "stdout",
          "output_type": "stream",
          "text": [
            "Batch sizes for English and German are torch.Size([37, 128]) and torch.Size([46, 128]) respectively.\n"
          ]
        },
        {
          "metadata": {
            "tags": null
          },
          "name": "stderr",
          "output_type": "stream",
          "text": [
            "\rModel training in progress...:  21%|██        | 48/227 [00:08<00:31,  5.74it/s]"
          ]
        },
        {
          "metadata": {
            "tags": null
          },
          "name": "stdout",
          "output_type": "stream",
          "text": [
            "Batch sizes for English and German are torch.Size([31, 128]) and torch.Size([22, 128]) respectively.\n",
            "Batch sizes for English and German are torch.Size([32, 128]) and torch.Size([33, 128]) respectively.\n"
          ]
        },
        {
          "metadata": {
            "tags": null
          },
          "name": "stderr",
          "output_type": "stream",
          "text": [
            "Model training in progress...:  22%|██▏       | 50/227 [00:08<00:30,  5.90it/s]"
          ]
        },
        {
          "metadata": {
            "tags": null
          },
          "name": "stdout",
          "output_type": "stream",
          "text": [
            "Batch sizes for English and German are torch.Size([29, 128]) and torch.Size([30, 128]) respectively.\n",
            "Batch sizes for English and German are torch.Size([34, 128]) and torch.Size([32, 128]) respectively.\n"
          ]
        },
        {
          "metadata": {
            "tags": null
          },
          "name": "stderr",
          "output_type": "stream",
          "text": [
            "Model training in progress...:  23%|██▎       | 52/227 [00:08<00:30,  5.75it/s]"
          ]
        },
        {
          "metadata": {
            "tags": null
          },
          "name": "stdout",
          "output_type": "stream",
          "text": [
            "Batch sizes for English and German are torch.Size([33, 128]) and torch.Size([29, 128]) respectively.\n",
            "Batch sizes for English and German are torch.Size([29, 128]) and torch.Size([27, 128]) respectively.\n"
          ]
        },
        {
          "metadata": {
            "tags": null
          },
          "name": "stderr",
          "output_type": "stream",
          "text": [
            "Model training in progress...:  24%|██▍       | 54/227 [00:09<00:29,  5.93it/s]"
          ]
        },
        {
          "metadata": {
            "tags": null
          },
          "name": "stdout",
          "output_type": "stream",
          "text": [
            "Batch sizes for English and German are torch.Size([32, 128]) and torch.Size([32, 128]) respectively.\n",
            "Batch sizes for English and German are torch.Size([29, 128]) and torch.Size([28, 128]) respectively.\n"
          ]
        },
        {
          "metadata": {
            "tags": null
          },
          "name": "stderr",
          "output_type": "stream",
          "text": [
            "Model training in progress...:  25%|██▍       | 56/227 [00:09<00:27,  6.29it/s]"
          ]
        },
        {
          "metadata": {
            "tags": null
          },
          "name": "stdout",
          "output_type": "stream",
          "text": [
            "Batch sizes for English and German are torch.Size([27, 128]) and torch.Size([26, 128]) respectively.\n",
            "Batch sizes for English and German are torch.Size([30, 128]) and torch.Size([33, 128]) respectively.\n"
          ]
        },
        {
          "metadata": {
            "tags": null
          },
          "name": "stderr",
          "output_type": "stream",
          "text": [
            "Model training in progress...:  26%|██▌       | 58/227 [00:09<00:27,  6.25it/s]"
          ]
        },
        {
          "metadata": {
            "tags": null
          },
          "name": "stdout",
          "output_type": "stream",
          "text": [
            "Batch sizes for English and German are torch.Size([30, 128]) and torch.Size([34, 128]) respectively.\n",
            "Batch sizes for English and German are torch.Size([35, 128]) and torch.Size([34, 128]) respectively.\n"
          ]
        },
        {
          "metadata": {
            "tags": null
          },
          "name": "stderr",
          "output_type": "stream",
          "text": [
            "Model training in progress...:  26%|██▋       | 60/227 [00:10<00:27,  6.18it/s]"
          ]
        },
        {
          "metadata": {
            "tags": null
          },
          "name": "stdout",
          "output_type": "stream",
          "text": [
            "Batch sizes for English and German are torch.Size([27, 128]) and torch.Size([27, 128]) respectively.\n",
            "Batch sizes for English and German are torch.Size([31, 128]) and torch.Size([31, 128]) respectively.\n"
          ]
        },
        {
          "metadata": {
            "tags": null
          },
          "name": "stderr",
          "output_type": "stream",
          "text": [
            "Model training in progress...:  27%|██▋       | 62/227 [00:10<00:28,  5.78it/s]"
          ]
        },
        {
          "metadata": {
            "tags": null
          },
          "name": "stdout",
          "output_type": "stream",
          "text": [
            "Batch sizes for English and German are torch.Size([36, 128]) and torch.Size([37, 128]) respectively.\n",
            "Batch sizes for English and German are torch.Size([30, 128]) and torch.Size([30, 128]) respectively.\n"
          ]
        },
        {
          "metadata": {
            "tags": null
          },
          "name": "stderr",
          "output_type": "stream",
          "text": [
            "Model training in progress...:  28%|██▊       | 64/227 [00:10<00:27,  5.86it/s]"
          ]
        },
        {
          "metadata": {
            "tags": null
          },
          "name": "stdout",
          "output_type": "stream",
          "text": [
            "Batch sizes for English and German are torch.Size([32, 128]) and torch.Size([31, 128]) respectively.\n",
            "Batch sizes for English and German are torch.Size([37, 128]) and torch.Size([36, 128]) respectively.\n"
          ]
        },
        {
          "metadata": {
            "tags": null
          },
          "name": "stderr",
          "output_type": "stream",
          "text": [
            "Model training in progress...:  29%|██▉       | 66/227 [00:11<00:27,  5.76it/s]"
          ]
        },
        {
          "metadata": {
            "tags": null
          },
          "name": "stdout",
          "output_type": "stream",
          "text": [
            "Batch sizes for English and German are torch.Size([29, 128]) and torch.Size([26, 128]) respectively.\n",
            "Batch sizes for English and German are torch.Size([34, 128]) and torch.Size([32, 128]) respectively.\n"
          ]
        },
        {
          "metadata": {
            "tags": null
          },
          "name": "stderr",
          "output_type": "stream",
          "text": [
            "Model training in progress...:  30%|██▉       | 68/227 [00:11<00:28,  5.62it/s]"
          ]
        },
        {
          "metadata": {
            "tags": null
          },
          "name": "stdout",
          "output_type": "stream",
          "text": [
            "Batch sizes for English and German are torch.Size([32, 128]) and torch.Size([32, 128]) respectively.\n",
            "Batch sizes for English and German are torch.Size([28, 128]) and torch.Size([27, 128]) respectively.\n"
          ]
        },
        {
          "metadata": {
            "tags": null
          },
          "name": "stderr",
          "output_type": "stream",
          "text": [
            "Model training in progress...:  31%|███       | 70/227 [00:11<00:28,  5.58it/s]"
          ]
        },
        {
          "metadata": {
            "tags": null
          },
          "name": "stdout",
          "output_type": "stream",
          "text": [
            "Batch sizes for English and German are torch.Size([36, 128]) and torch.Size([33, 128]) respectively.\n",
            "Batch sizes for English and German are torch.Size([29, 128]) and torch.Size([26, 128]) respectively.\n"
          ]
        },
        {
          "metadata": {
            "tags": null
          },
          "name": "stderr",
          "output_type": "stream",
          "text": [
            "Model training in progress...:  32%|███▏      | 72/227 [00:12<00:25,  5.99it/s]"
          ]
        },
        {
          "metadata": {
            "tags": null
          },
          "name": "stdout",
          "output_type": "stream",
          "text": [
            "Batch sizes for English and German are torch.Size([29, 128]) and torch.Size([27, 128]) respectively.\n",
            "Batch sizes for English and German are torch.Size([27, 128]) and torch.Size([31, 128]) respectively.\n"
          ]
        },
        {
          "metadata": {
            "tags": null
          },
          "name": "stderr",
          "output_type": "stream",
          "text": [
            "Model training in progress...:  33%|███▎      | 74/227 [00:12<00:24,  6.28it/s]"
          ]
        },
        {
          "metadata": {
            "tags": null
          },
          "name": "stdout",
          "output_type": "stream",
          "text": [
            "Batch sizes for English and German are torch.Size([26, 128]) and torch.Size([30, 128]) respectively.\n",
            "Batch sizes for English and German are torch.Size([33, 128]) and torch.Size([30, 128]) respectively.\n"
          ]
        },
        {
          "metadata": {
            "tags": null
          },
          "name": "stderr",
          "output_type": "stream",
          "text": [
            "Model training in progress...:  33%|███▎      | 76/227 [00:12<00:24,  6.16it/s]"
          ]
        },
        {
          "metadata": {
            "tags": null
          },
          "name": "stdout",
          "output_type": "stream",
          "text": [
            "Batch sizes for English and German are torch.Size([29, 128]) and torch.Size([27, 128]) respectively.\n",
            "Batch sizes for English and German are torch.Size([21, 128]) and torch.Size([24, 128]) respectively.\n"
          ]
        },
        {
          "metadata": {
            "tags": null
          },
          "name": "stderr",
          "output_type": "stream",
          "text": [
            "Model training in progress...:  34%|███▍      | 78/227 [00:13<00:22,  6.52it/s]"
          ]
        },
        {
          "metadata": {
            "tags": null
          },
          "name": "stdout",
          "output_type": "stream",
          "text": [
            "Batch sizes for English and German are torch.Size([30, 128]) and torch.Size([28, 128]) respectively.\n",
            "Batch sizes for English and German are torch.Size([28, 128]) and torch.Size([27, 128]) respectively.\n"
          ]
        },
        {
          "metadata": {
            "tags": null
          },
          "name": "stderr",
          "output_type": "stream",
          "text": [
            "Model training in progress...:  35%|███▌      | 80/227 [00:13<00:23,  6.31it/s]"
          ]
        },
        {
          "metadata": {
            "tags": null
          },
          "name": "stdout",
          "output_type": "stream",
          "text": [
            "Batch sizes for English and German are torch.Size([32, 128]) and torch.Size([29, 128]) respectively.\n",
            "Batch sizes for English and German are torch.Size([28, 128]) and torch.Size([25, 128]) respectively.\n"
          ]
        },
        {
          "metadata": {
            "tags": null
          },
          "name": "stderr",
          "output_type": "stream",
          "text": [
            "Model training in progress...:  36%|███▌      | 82/227 [00:13<00:22,  6.38it/s]"
          ]
        },
        {
          "metadata": {
            "tags": null
          },
          "name": "stdout",
          "output_type": "stream",
          "text": [
            "Batch sizes for English and German are torch.Size([29, 128]) and torch.Size([29, 128]) respectively.\n",
            "Batch sizes for English and German are torch.Size([42, 128]) and torch.Size([45, 128]) respectively.\n"
          ]
        },
        {
          "metadata": {
            "tags": null
          },
          "name": "stderr",
          "output_type": "stream",
          "text": [
            "Model training in progress...:  37%|███▋      | 84/227 [00:14<00:25,  5.66it/s]"
          ]
        },
        {
          "metadata": {
            "tags": null
          },
          "name": "stdout",
          "output_type": "stream",
          "text": [
            "Batch sizes for English and German are torch.Size([31, 128]) and torch.Size([29, 128]) respectively.\n",
            "Batch sizes for English and German are torch.Size([30, 128]) and torch.Size([29, 128]) respectively.\n"
          ]
        },
        {
          "metadata": {
            "tags": null
          },
          "name": "stderr",
          "output_type": "stream",
          "text": [
            "Model training in progress...:  38%|███▊      | 86/227 [00:14<00:23,  5.93it/s]"
          ]
        },
        {
          "metadata": {
            "tags": null
          },
          "name": "stdout",
          "output_type": "stream",
          "text": [
            "Batch sizes for English and German are torch.Size([29, 128]) and torch.Size([25, 128]) respectively.\n",
            "Batch sizes for English and German are torch.Size([36, 128]) and torch.Size([29, 128]) respectively.\n"
          ]
        },
        {
          "metadata": {
            "tags": null
          },
          "name": "stderr",
          "output_type": "stream",
          "text": [
            "Model training in progress...:  39%|███▉      | 88/227 [00:14<00:24,  5.69it/s]"
          ]
        },
        {
          "metadata": {
            "tags": null
          },
          "name": "stdout",
          "output_type": "stream",
          "text": [
            "Batch sizes for English and German are torch.Size([28, 128]) and torch.Size([31, 128]) respectively.\n",
            "Batch sizes for English and German are torch.Size([26, 128]) and torch.Size([25, 128]) respectively.\n"
          ]
        },
        {
          "metadata": {
            "tags": null
          },
          "name": "stderr",
          "output_type": "stream",
          "text": [
            "Model training in progress...:  40%|███▉      | 90/227 [00:15<00:22,  5.96it/s]"
          ]
        },
        {
          "metadata": {
            "tags": null
          },
          "name": "stdout",
          "output_type": "stream",
          "text": [
            "Batch sizes for English and German are torch.Size([30, 128]) and torch.Size([34, 128]) respectively.\n",
            "Batch sizes for English and German are torch.Size([41, 128]) and torch.Size([34, 128]) respectively.\n"
          ]
        },
        {
          "metadata": {
            "tags": null
          },
          "name": "stderr",
          "output_type": "stream",
          "text": [
            "Model training in progress...:  41%|████      | 92/227 [00:15<00:24,  5.58it/s]"
          ]
        },
        {
          "metadata": {
            "tags": null
          },
          "name": "stdout",
          "output_type": "stream",
          "text": [
            "Batch sizes for English and German are torch.Size([29, 128]) and torch.Size([27, 128]) respectively.\n",
            "Batch sizes for English and German are torch.Size([26, 128]) and torch.Size([25, 128]) respectively.\n"
          ]
        },
        {
          "metadata": {
            "tags": null
          },
          "name": "stderr",
          "output_type": "stream",
          "text": [
            "Model training in progress...:  41%|████▏     | 94/227 [00:15<00:22,  5.90it/s]"
          ]
        },
        {
          "metadata": {
            "tags": null
          },
          "name": "stdout",
          "output_type": "stream",
          "text": [
            "Batch sizes for English and German are torch.Size([30, 128]) and torch.Size([33, 128]) respectively.\n",
            "Batch sizes for English and German are torch.Size([27, 128]) and torch.Size([30, 128]) respectively.\n"
          ]
        },
        {
          "metadata": {
            "tags": null
          },
          "name": "stderr",
          "output_type": "stream",
          "text": [
            "Model training in progress...:  42%|████▏     | 96/227 [00:16<00:21,  6.08it/s]"
          ]
        },
        {
          "metadata": {
            "tags": null
          },
          "name": "stdout",
          "output_type": "stream",
          "text": [
            "Batch sizes for English and German are torch.Size([29, 128]) and torch.Size([31, 128]) respectively.\n",
            "Batch sizes for English and German are torch.Size([32, 128]) and torch.Size([27, 128]) respectively.\n"
          ]
        },
        {
          "metadata": {
            "tags": null
          },
          "name": "stderr",
          "output_type": "stream",
          "text": [
            "Model training in progress...:  43%|████▎     | 98/227 [00:16<00:22,  5.84it/s]"
          ]
        },
        {
          "metadata": {
            "tags": null
          },
          "name": "stdout",
          "output_type": "stream",
          "text": [
            "Batch sizes for English and German are torch.Size([32, 128]) and torch.Size([30, 128]) respectively.\n",
            "Batch sizes for English and German are torch.Size([37, 128]) and torch.Size([38, 128]) respectively.\n"
          ]
        },
        {
          "metadata": {
            "tags": null
          },
          "name": "stderr",
          "output_type": "stream",
          "text": [
            "Model training in progress...:  44%|████▍     | 100/227 [00:16<00:23,  5.37it/s]"
          ]
        },
        {
          "metadata": {
            "tags": null
          },
          "name": "stdout",
          "output_type": "stream",
          "text": [
            "Batch sizes for English and German are torch.Size([36, 128]) and torch.Size([31, 128]) respectively.\n",
            "Batch sizes for English and German are torch.Size([31, 128]) and torch.Size([36, 128]) respectively.\n"
          ]
        },
        {
          "metadata": {
            "tags": null
          },
          "name": "stderr",
          "output_type": "stream",
          "text": [
            "Model training in progress...:  45%|████▍     | 102/227 [00:17<00:21,  5.81it/s]"
          ]
        },
        {
          "metadata": {
            "tags": null
          },
          "name": "stdout",
          "output_type": "stream",
          "text": [
            "Batch sizes for English and German are torch.Size([27, 128]) and torch.Size([25, 128]) respectively.\n",
            "Batch sizes for English and German are torch.Size([27, 128]) and torch.Size([28, 128]) respectively.\n"
          ]
        },
        {
          "metadata": {
            "tags": null
          },
          "name": "stderr",
          "output_type": "stream",
          "text": [
            "Model training in progress...:  46%|████▌     | 104/227 [00:17<00:20,  6.10it/s]"
          ]
        },
        {
          "metadata": {
            "tags": null
          },
          "name": "stdout",
          "output_type": "stream",
          "text": [
            "Batch sizes for English and German are torch.Size([30, 128]) and torch.Size([30, 128]) respectively.\n",
            "Batch sizes for English and German are torch.Size([35, 128]) and torch.Size([33, 128]) respectively.\n"
          ]
        },
        {
          "metadata": {
            "tags": null
          },
          "name": "stderr",
          "output_type": "stream",
          "text": [
            "Model training in progress...:  47%|████▋     | 106/227 [00:17<00:20,  6.00it/s]"
          ]
        },
        {
          "metadata": {
            "tags": null
          },
          "name": "stdout",
          "output_type": "stream",
          "text": [
            "Batch sizes for English and German are torch.Size([28, 128]) and torch.Size([36, 128]) respectively.\n",
            "Batch sizes for English and German are torch.Size([31, 128]) and torch.Size([28, 128]) respectively.\n"
          ]
        },
        {
          "metadata": {
            "tags": null
          },
          "name": "stderr",
          "output_type": "stream",
          "text": [
            "Model training in progress...:  48%|████▊     | 108/227 [00:18<00:19,  6.05it/s]"
          ]
        },
        {
          "metadata": {
            "tags": null
          },
          "name": "stdout",
          "output_type": "stream",
          "text": [
            "Batch sizes for English and German are torch.Size([30, 128]) and torch.Size([28, 128]) respectively.\n",
            "Batch sizes for English and German are torch.Size([25, 128]) and torch.Size([28, 128]) respectively.\n"
          ]
        },
        {
          "metadata": {
            "tags": null
          },
          "name": "stderr",
          "output_type": "stream",
          "text": [
            "Model training in progress...:  48%|████▊     | 110/227 [00:18<00:18,  6.36it/s]"
          ]
        },
        {
          "metadata": {
            "tags": null
          },
          "name": "stdout",
          "output_type": "stream",
          "text": [
            "Batch sizes for English and German are torch.Size([29, 128]) and torch.Size([30, 128]) respectively.\n",
            "Batch sizes for English and German are torch.Size([39, 128]) and torch.Size([33, 128]) respectively.\n"
          ]
        },
        {
          "metadata": {
            "tags": null
          },
          "name": "stderr",
          "output_type": "stream",
          "text": [
            "Model training in progress...:  49%|████▉     | 112/227 [00:18<00:19,  6.00it/s]"
          ]
        },
        {
          "metadata": {
            "tags": null
          },
          "name": "stdout",
          "output_type": "stream",
          "text": [
            "Batch sizes for English and German are torch.Size([28, 128]) and torch.Size([28, 128]) respectively.\n",
            "Batch sizes for English and German are torch.Size([28, 128]) and torch.Size([28, 128]) respectively.\n"
          ]
        },
        {
          "metadata": {
            "tags": null
          },
          "name": "stderr",
          "output_type": "stream",
          "text": [
            "Model training in progress...:  50%|█████     | 114/227 [00:19<00:18,  6.26it/s]"
          ]
        },
        {
          "metadata": {
            "tags": null
          },
          "name": "stdout",
          "output_type": "stream",
          "text": [
            "Batch sizes for English and German are torch.Size([28, 128]) and torch.Size([31, 128]) respectively.\n",
            "Batch sizes for English and German are torch.Size([27, 128]) and torch.Size([28, 128]) respectively.\n"
          ]
        },
        {
          "metadata": {
            "tags": null
          },
          "name": "stderr",
          "output_type": "stream",
          "text": [
            "Model training in progress...:  51%|█████     | 116/227 [00:19<00:17,  6.46it/s]"
          ]
        },
        {
          "metadata": {
            "tags": null
          },
          "name": "stdout",
          "output_type": "stream",
          "text": [
            "Batch sizes for English and German are torch.Size([28, 128]) and torch.Size([30, 128]) respectively.\n",
            "Batch sizes for English and German are torch.Size([31, 128]) and torch.Size([29, 128]) respectively.\n"
          ]
        },
        {
          "metadata": {
            "tags": null
          },
          "name": "stderr",
          "output_type": "stream",
          "text": [
            "Model training in progress...:  52%|█████▏    | 118/227 [00:19<00:17,  6.39it/s]"
          ]
        },
        {
          "metadata": {
            "tags": null
          },
          "name": "stdout",
          "output_type": "stream",
          "text": [
            "Batch sizes for English and German are torch.Size([28, 128]) and torch.Size([27, 128]) respectively.\n",
            "Batch sizes for English and German are torch.Size([26, 128]) and torch.Size([28, 128]) respectively.\n"
          ]
        },
        {
          "metadata": {
            "tags": null
          },
          "name": "stderr",
          "output_type": "stream",
          "text": [
            "Model training in progress...:  53%|█████▎    | 120/227 [00:20<00:15,  6.69it/s]"
          ]
        },
        {
          "metadata": {
            "tags": null
          },
          "name": "stdout",
          "output_type": "stream",
          "text": [
            "Batch sizes for English and German are torch.Size([26, 128]) and torch.Size([30, 128]) respectively.\n",
            "Batch sizes for English and German are torch.Size([31, 128]) and torch.Size([25, 128]) respectively.\n"
          ]
        },
        {
          "metadata": {
            "tags": null
          },
          "name": "stderr",
          "output_type": "stream",
          "text": [
            "Model training in progress...:  54%|█████▎    | 122/227 [00:20<00:15,  6.68it/s]"
          ]
        },
        {
          "metadata": {
            "tags": null
          },
          "name": "stdout",
          "output_type": "stream",
          "text": [
            "Batch sizes for English and German are torch.Size([24, 128]) and torch.Size([30, 128]) respectively.\n",
            "Batch sizes for English and German are torch.Size([31, 128]) and torch.Size([26, 128]) respectively.\n"
          ]
        },
        {
          "metadata": {
            "tags": null
          },
          "name": "stderr",
          "output_type": "stream",
          "text": [
            "Model training in progress...:  55%|█████▍    | 124/227 [00:20<00:16,  6.33it/s]"
          ]
        },
        {
          "metadata": {
            "tags": null
          },
          "name": "stdout",
          "output_type": "stream",
          "text": [
            "Batch sizes for English and German are torch.Size([30, 128]) and torch.Size([26, 128]) respectively.\n",
            "Batch sizes for English and German are torch.Size([32, 128]) and torch.Size([29, 128]) respectively.\n"
          ]
        },
        {
          "metadata": {
            "tags": null
          },
          "name": "stderr",
          "output_type": "stream",
          "text": [
            "Model training in progress...:  56%|█████▌    | 126/227 [00:21<00:17,  5.70it/s]"
          ]
        },
        {
          "metadata": {
            "tags": null
          },
          "name": "stdout",
          "output_type": "stream",
          "text": [
            "Batch sizes for English and German are torch.Size([36, 128]) and torch.Size([37, 128]) respectively.\n",
            "Batch sizes for English and German are torch.Size([35, 128]) and torch.Size([35, 128]) respectively.\n"
          ]
        },
        {
          "metadata": {
            "tags": null
          },
          "name": "stderr",
          "output_type": "stream",
          "text": [
            "Model training in progress...:  56%|█████▋    | 128/227 [00:21<00:17,  5.74it/s]"
          ]
        },
        {
          "metadata": {
            "tags": null
          },
          "name": "stdout",
          "output_type": "stream",
          "text": [
            "Batch sizes for English and German are torch.Size([30, 128]) and torch.Size([28, 128]) respectively.\n",
            "Batch sizes for English and German are torch.Size([33, 128]) and torch.Size([35, 128]) respectively.\n"
          ]
        },
        {
          "metadata": {
            "tags": null
          },
          "name": "stderr",
          "output_type": "stream",
          "text": [
            "\rModel training in progress...:  57%|█████▋    | 129/227 [00:21<00:17,  5.69it/s]"
          ]
        },
        {
          "metadata": {
            "tags": null
          },
          "name": "stdout",
          "output_type": "stream",
          "text": [
            "Batch sizes for English and German are torch.Size([41, 128]) and torch.Size([45, 128]) respectively.\n"
          ]
        },
        {
          "metadata": {
            "tags": null
          },
          "name": "stderr",
          "output_type": "stream",
          "text": [
            "Model training in progress...:  58%|█████▊    | 131/227 [00:21<00:16,  5.67it/s]"
          ]
        },
        {
          "metadata": {
            "tags": null
          },
          "name": "stdout",
          "output_type": "stream",
          "text": [
            "Batch sizes for English and German are torch.Size([26, 128]) and torch.Size([32, 128]) respectively.\n",
            "Batch sizes for English and German are torch.Size([26, 128]) and torch.Size([28, 128]) respectively.\n"
          ]
        },
        {
          "metadata": {
            "tags": null
          },
          "name": "stderr",
          "output_type": "stream",
          "text": [
            "Model training in progress...:  59%|█████▊    | 133/227 [00:22<00:15,  6.01it/s]"
          ]
        },
        {
          "metadata": {
            "tags": null
          },
          "name": "stdout",
          "output_type": "stream",
          "text": [
            "Batch sizes for English and German are torch.Size([29, 128]) and torch.Size([32, 128]) respectively.\n",
            "Batch sizes for English and German are torch.Size([29, 128]) and torch.Size([29, 128]) respectively.\n"
          ]
        },
        {
          "metadata": {
            "tags": null
          },
          "name": "stderr",
          "output_type": "stream",
          "text": [
            "Model training in progress...:  59%|█████▉    | 135/227 [00:22<00:14,  6.52it/s]"
          ]
        },
        {
          "metadata": {
            "tags": null
          },
          "name": "stdout",
          "output_type": "stream",
          "text": [
            "Batch sizes for English and German are torch.Size([24, 128]) and torch.Size([26, 128]) respectively.\n",
            "Batch sizes for English and German are torch.Size([28, 128]) and torch.Size([37, 128]) respectively.\n"
          ]
        },
        {
          "metadata": {
            "tags": null
          },
          "name": "stderr",
          "output_type": "stream",
          "text": [
            "Model training in progress...:  60%|██████    | 137/227 [00:22<00:13,  6.44it/s]"
          ]
        },
        {
          "metadata": {
            "tags": null
          },
          "name": "stdout",
          "output_type": "stream",
          "text": [
            "Batch sizes for English and German are torch.Size([30, 128]) and torch.Size([27, 128]) respectively.\n",
            "Batch sizes for English and German are torch.Size([28, 128]) and torch.Size([29, 128]) respectively.\n"
          ]
        },
        {
          "metadata": {
            "tags": null
          },
          "name": "stderr",
          "output_type": "stream",
          "text": [
            "Model training in progress...:  61%|██████    | 139/227 [00:23<00:13,  6.57it/s]"
          ]
        },
        {
          "metadata": {
            "tags": null
          },
          "name": "stdout",
          "output_type": "stream",
          "text": [
            "Batch sizes for English and German are torch.Size([27, 128]) and torch.Size([32, 128]) respectively.\n",
            "Batch sizes for English and German are torch.Size([28, 128]) and torch.Size([27, 128]) respectively.\n"
          ]
        },
        {
          "metadata": {
            "tags": null
          },
          "name": "stderr",
          "output_type": "stream",
          "text": [
            "Model training in progress...:  62%|██████▏   | 141/227 [00:23<00:13,  6.15it/s]"
          ]
        },
        {
          "metadata": {
            "tags": null
          },
          "name": "stdout",
          "output_type": "stream",
          "text": [
            "Batch sizes for English and German are torch.Size([35, 128]) and torch.Size([31, 128]) respectively.\n",
            "Batch sizes for English and German are torch.Size([34, 128]) and torch.Size([27, 128]) respectively.\n"
          ]
        },
        {
          "metadata": {
            "tags": null
          },
          "name": "stderr",
          "output_type": "stream",
          "text": [
            "Model training in progress...:  63%|██████▎   | 143/227 [00:23<00:14,  5.94it/s]"
          ]
        },
        {
          "metadata": {
            "tags": null
          },
          "name": "stdout",
          "output_type": "stream",
          "text": [
            "Batch sizes for English and German are torch.Size([32, 128]) and torch.Size([24, 128]) respectively.\n",
            "Batch sizes for English and German are torch.Size([40, 128]) and torch.Size([34, 128]) respectively.\n"
          ]
        },
        {
          "metadata": {
            "tags": null
          },
          "name": "stderr",
          "output_type": "stream",
          "text": [
            "Model training in progress...:  64%|██████▍   | 145/227 [00:24<00:14,  5.55it/s]"
          ]
        },
        {
          "metadata": {
            "tags": null
          },
          "name": "stdout",
          "output_type": "stream",
          "text": [
            "Batch sizes for English and German are torch.Size([32, 128]) and torch.Size([32, 128]) respectively.\n",
            "Batch sizes for English and German are torch.Size([24, 128]) and torch.Size([27, 128]) respectively.\n"
          ]
        },
        {
          "metadata": {
            "tags": null
          },
          "name": "stderr",
          "output_type": "stream",
          "text": [
            "\rModel training in progress...:  64%|██████▍   | 146/227 [00:24<00:13,  6.04it/s]"
          ]
        },
        {
          "metadata": {
            "tags": null
          },
          "name": "stdout",
          "output_type": "stream",
          "text": [
            "Batch sizes for English and German are torch.Size([42, 128]) and torch.Size([41, 128]) respectively.\n"
          ]
        },
        {
          "metadata": {
            "tags": null
          },
          "name": "stderr",
          "output_type": "stream",
          "text": [
            "Model training in progress...:  65%|██████▌   | 148/227 [00:24<00:14,  5.60it/s]"
          ]
        },
        {
          "metadata": {
            "tags": null
          },
          "name": "stdout",
          "output_type": "stream",
          "text": [
            "Batch sizes for English and German are torch.Size([30, 128]) and torch.Size([28, 128]) respectively.\n",
            "Batch sizes for English and German are torch.Size([29, 128]) and torch.Size([28, 128]) respectively.\n"
          ]
        },
        {
          "metadata": {
            "tags": null
          },
          "name": "stderr",
          "output_type": "stream",
          "text": [
            "Model training in progress...:  66%|██████▌   | 150/227 [00:25<00:12,  5.97it/s]"
          ]
        },
        {
          "metadata": {
            "tags": null
          },
          "name": "stdout",
          "output_type": "stream",
          "text": [
            "Batch sizes for English and German are torch.Size([29, 128]) and torch.Size([28, 128]) respectively.\n",
            "Batch sizes for English and German are torch.Size([25, 128]) and torch.Size([25, 128]) respectively.\n"
          ]
        },
        {
          "metadata": {
            "tags": null
          },
          "name": "stderr",
          "output_type": "stream",
          "text": [
            "Model training in progress...:  67%|██████▋   | 152/227 [00:25<00:12,  5.95it/s]"
          ]
        },
        {
          "metadata": {
            "tags": null
          },
          "name": "stdout",
          "output_type": "stream",
          "text": [
            "Batch sizes for English and German are torch.Size([35, 128]) and torch.Size([37, 128]) respectively.\n",
            "Batch sizes for English and German are torch.Size([26, 128]) and torch.Size([28, 128]) respectively.\n"
          ]
        },
        {
          "metadata": {
            "tags": null
          },
          "name": "stderr",
          "output_type": "stream",
          "text": [
            "Model training in progress...:  68%|██████▊   | 154/227 [00:25<00:11,  6.21it/s]"
          ]
        },
        {
          "metadata": {
            "tags": null
          },
          "name": "stdout",
          "output_type": "stream",
          "text": [
            "Batch sizes for English and German are torch.Size([30, 128]) and torch.Size([30, 128]) respectively.\n",
            "Batch sizes for English and German are torch.Size([36, 128]) and torch.Size([38, 128]) respectively.\n"
          ]
        },
        {
          "metadata": {
            "tags": null
          },
          "name": "stderr",
          "output_type": "stream",
          "text": [
            "Model training in progress...:  69%|██████▊   | 156/227 [00:26<00:11,  6.08it/s]"
          ]
        },
        {
          "metadata": {
            "tags": null
          },
          "name": "stdout",
          "output_type": "stream",
          "text": [
            "Batch sizes for English and German are torch.Size([27, 128]) and torch.Size([25, 128]) respectively.\n",
            "Batch sizes for English and German are torch.Size([34, 128]) and torch.Size([34, 128]) respectively.\n"
          ]
        },
        {
          "metadata": {
            "tags": null
          },
          "name": "stderr",
          "output_type": "stream",
          "text": [
            "Model training in progress...:  70%|██████▉   | 158/227 [00:26<00:11,  6.14it/s]"
          ]
        },
        {
          "metadata": {
            "tags": null
          },
          "name": "stdout",
          "output_type": "stream",
          "text": [
            "Batch sizes for English and German are torch.Size([27, 128]) and torch.Size([27, 128]) respectively.\n",
            "Batch sizes for English and German are torch.Size([40, 128]) and torch.Size([37, 128]) respectively.\n"
          ]
        },
        {
          "metadata": {
            "tags": null
          },
          "name": "stderr",
          "output_type": "stream",
          "text": [
            "Model training in progress...:  70%|███████   | 160/227 [00:26<00:12,  5.50it/s]"
          ]
        },
        {
          "metadata": {
            "tags": null
          },
          "name": "stdout",
          "output_type": "stream",
          "text": [
            "Batch sizes for English and German are torch.Size([33, 128]) and torch.Size([30, 128]) respectively.\n",
            "Batch sizes for English and German are torch.Size([29, 128]) and torch.Size([31, 128]) respectively.\n"
          ]
        },
        {
          "metadata": {
            "tags": null
          },
          "name": "stderr",
          "output_type": "stream",
          "text": [
            "Model training in progress...:  71%|███████▏  | 162/227 [00:27<00:11,  5.80it/s]"
          ]
        },
        {
          "metadata": {
            "tags": null
          },
          "name": "stdout",
          "output_type": "stream",
          "text": [
            "Batch sizes for English and German are torch.Size([28, 128]) and torch.Size([29, 128]) respectively.\n",
            "Batch sizes for English and German are torch.Size([31, 128]) and torch.Size([33, 128]) respectively.\n"
          ]
        },
        {
          "metadata": {
            "tags": null
          },
          "name": "stderr",
          "output_type": "stream",
          "text": [
            "Model training in progress...:  72%|███████▏  | 164/227 [00:27<00:10,  5.82it/s]"
          ]
        },
        {
          "metadata": {
            "tags": null
          },
          "name": "stdout",
          "output_type": "stream",
          "text": [
            "Batch sizes for English and German are torch.Size([30, 128]) and torch.Size([27, 128]) respectively.\n",
            "Batch sizes for English and German are torch.Size([37, 128]) and torch.Size([36, 128]) respectively.\n"
          ]
        },
        {
          "metadata": {
            "tags": null
          },
          "name": "stderr",
          "output_type": "stream",
          "text": [
            "Model training in progress...:  73%|███████▎  | 166/227 [00:27<00:10,  5.82it/s]"
          ]
        },
        {
          "metadata": {
            "tags": null
          },
          "name": "stdout",
          "output_type": "stream",
          "text": [
            "Batch sizes for English and German are torch.Size([26, 128]) and torch.Size([36, 128]) respectively.\n",
            "Batch sizes for English and German are torch.Size([25, 128]) and torch.Size([23, 128]) respectively.\n"
          ]
        },
        {
          "metadata": {
            "tags": null
          },
          "name": "stderr",
          "output_type": "stream",
          "text": [
            "Model training in progress...:  74%|███████▍  | 168/227 [00:28<00:09,  6.52it/s]"
          ]
        },
        {
          "metadata": {
            "tags": null
          },
          "name": "stdout",
          "output_type": "stream",
          "text": [
            "Batch sizes for English and German are torch.Size([24, 128]) and torch.Size([23, 128]) respectively.\n",
            "Batch sizes for English and German are torch.Size([25, 128]) and torch.Size([29, 128]) respectively.\n"
          ]
        },
        {
          "metadata": {
            "tags": null
          },
          "name": "stderr",
          "output_type": "stream",
          "text": [
            "Model training in progress...:  75%|███████▍  | 170/227 [00:28<00:09,  6.18it/s]"
          ]
        },
        {
          "metadata": {
            "tags": null
          },
          "name": "stdout",
          "output_type": "stream",
          "text": [
            "Batch sizes for English and German are torch.Size([31, 128]) and torch.Size([33, 128]) respectively.\n",
            "Batch sizes for English and German are torch.Size([31, 128]) and torch.Size([33, 128]) respectively.\n"
          ]
        },
        {
          "metadata": {
            "tags": null
          },
          "name": "stderr",
          "output_type": "stream",
          "text": [
            "Model training in progress...:  76%|███████▌  | 172/227 [00:28<00:09,  5.84it/s]"
          ]
        },
        {
          "metadata": {
            "tags": null
          },
          "name": "stdout",
          "output_type": "stream",
          "text": [
            "Batch sizes for English and German are torch.Size([33, 128]) and torch.Size([29, 128]) respectively.\n",
            "Batch sizes for English and German are torch.Size([35, 128]) and torch.Size([33, 128]) respectively.\n"
          ]
        },
        {
          "metadata": {
            "tags": null
          },
          "name": "stderr",
          "output_type": "stream",
          "text": [
            "Model training in progress...:  77%|███████▋  | 174/227 [00:29<00:09,  5.65it/s]"
          ]
        },
        {
          "metadata": {
            "tags": null
          },
          "name": "stdout",
          "output_type": "stream",
          "text": [
            "Batch sizes for English and German are torch.Size([32, 128]) and torch.Size([27, 128]) respectively.\n",
            "Batch sizes for English and German are torch.Size([25, 128]) and torch.Size([30, 128]) respectively.\n"
          ]
        },
        {
          "metadata": {
            "tags": null
          },
          "name": "stderr",
          "output_type": "stream",
          "text": [
            "Model training in progress...:  78%|███████▊  | 176/227 [00:29<00:08,  6.17it/s]"
          ]
        },
        {
          "metadata": {
            "tags": null
          },
          "name": "stdout",
          "output_type": "stream",
          "text": [
            "Batch sizes for English and German are torch.Size([29, 128]) and torch.Size([30, 128]) respectively.\n",
            "Batch sizes for English and German are torch.Size([27, 128]) and torch.Size([28, 128]) respectively.\n"
          ]
        },
        {
          "metadata": {
            "tags": null
          },
          "name": "stderr",
          "output_type": "stream",
          "text": [
            "Model training in progress...:  78%|███████▊  | 178/227 [00:29<00:07,  6.35it/s]"
          ]
        },
        {
          "metadata": {
            "tags": null
          },
          "name": "stdout",
          "output_type": "stream",
          "text": [
            "Batch sizes for English and German are torch.Size([29, 128]) and torch.Size([26, 128]) respectively.\n",
            "Batch sizes for English and German are torch.Size([33, 128]) and torch.Size([31, 128]) respectively.\n"
          ]
        },
        {
          "metadata": {
            "tags": null
          },
          "name": "stderr",
          "output_type": "stream",
          "text": [
            "Model training in progress...:  79%|███████▉  | 180/227 [00:30<00:08,  5.73it/s]"
          ]
        },
        {
          "metadata": {
            "tags": null
          },
          "name": "stdout",
          "output_type": "stream",
          "text": [
            "Batch sizes for English and German are torch.Size([37, 128]) and torch.Size([29, 128]) respectively.\n",
            "Batch sizes for English and German are torch.Size([30, 128]) and torch.Size([31, 128]) respectively.\n"
          ]
        },
        {
          "metadata": {
            "tags": null
          },
          "name": "stderr",
          "output_type": "stream",
          "text": [
            "Model training in progress...:  80%|████████  | 182/227 [00:30<00:07,  5.69it/s]"
          ]
        },
        {
          "metadata": {
            "tags": null
          },
          "name": "stdout",
          "output_type": "stream",
          "text": [
            "Batch sizes for English and German are torch.Size([34, 128]) and torch.Size([33, 128]) respectively.\n",
            "Batch sizes for English and German are torch.Size([31, 128]) and torch.Size([27, 128]) respectively.\n"
          ]
        },
        {
          "metadata": {
            "tags": null
          },
          "name": "stderr",
          "output_type": "stream",
          "text": [
            "Model training in progress...:  81%|████████  | 184/227 [00:30<00:07,  5.81it/s]"
          ]
        },
        {
          "metadata": {
            "tags": null
          },
          "name": "stdout",
          "output_type": "stream",
          "text": [
            "Batch sizes for English and German are torch.Size([31, 128]) and torch.Size([29, 128]) respectively.\n",
            "Batch sizes for English and German are torch.Size([24, 128]) and torch.Size([31, 128]) respectively.\n"
          ]
        },
        {
          "metadata": {
            "tags": null
          },
          "name": "stderr",
          "output_type": "stream",
          "text": [
            "Model training in progress...:  82%|████████▏ | 186/227 [00:31<00:06,  6.41it/s]"
          ]
        },
        {
          "metadata": {
            "tags": null
          },
          "name": "stdout",
          "output_type": "stream",
          "text": [
            "Batch sizes for English and German are torch.Size([26, 128]) and torch.Size([28, 128]) respectively.\n",
            "Batch sizes for English and German are torch.Size([32, 128]) and torch.Size([32, 128]) respectively.\n"
          ]
        },
        {
          "metadata": {
            "tags": null
          },
          "name": "stderr",
          "output_type": "stream",
          "text": [
            "Model training in progress...:  83%|████████▎ | 188/227 [00:31<00:06,  6.28it/s]"
          ]
        },
        {
          "metadata": {
            "tags": null
          },
          "name": "stdout",
          "output_type": "stream",
          "text": [
            "Batch sizes for English and German are torch.Size([28, 128]) and torch.Size([27, 128]) respectively.\n",
            "Batch sizes for English and German are torch.Size([26, 128]) and torch.Size([25, 128]) respectively.\n"
          ]
        },
        {
          "metadata": {
            "tags": null
          },
          "name": "stderr",
          "output_type": "stream",
          "text": [
            "Model training in progress...:  84%|████████▎ | 190/227 [00:31<00:05,  6.67it/s]"
          ]
        },
        {
          "metadata": {
            "tags": null
          },
          "name": "stdout",
          "output_type": "stream",
          "text": [
            "Batch sizes for English and German are torch.Size([26, 128]) and torch.Size([28, 128]) respectively.\n",
            "Batch sizes for English and German are torch.Size([29, 128]) and torch.Size([27, 128]) respectively.\n"
          ]
        },
        {
          "metadata": {
            "tags": null
          },
          "name": "stderr",
          "output_type": "stream",
          "text": [
            "Model training in progress...:  85%|████████▍ | 192/227 [00:32<00:05,  6.62it/s]"
          ]
        },
        {
          "metadata": {
            "tags": null
          },
          "name": "stdout",
          "output_type": "stream",
          "text": [
            "Batch sizes for English and German are torch.Size([27, 128]) and torch.Size([29, 128]) respectively.\n",
            "Batch sizes for English and German are torch.Size([31, 128]) and torch.Size([31, 128]) respectively.\n"
          ]
        },
        {
          "metadata": {
            "tags": null
          },
          "name": "stderr",
          "output_type": "stream",
          "text": [
            "Model training in progress...:  85%|████████▌ | 194/227 [00:32<00:05,  6.40it/s]"
          ]
        },
        {
          "metadata": {
            "tags": null
          },
          "name": "stdout",
          "output_type": "stream",
          "text": [
            "Batch sizes for English and German are torch.Size([27, 128]) and torch.Size([30, 128]) respectively.\n",
            "Batch sizes for English and German are torch.Size([38, 128]) and torch.Size([35, 128]) respectively.\n"
          ]
        },
        {
          "metadata": {
            "tags": null
          },
          "name": "stderr",
          "output_type": "stream",
          "text": [
            "Model training in progress...:  86%|████████▋ | 196/227 [00:32<00:05,  5.64it/s]"
          ]
        },
        {
          "metadata": {
            "tags": null
          },
          "name": "stdout",
          "output_type": "stream",
          "text": [
            "Batch sizes for English and German are torch.Size([34, 128]) and torch.Size([30, 128]) respectively.\n",
            "Batch sizes for English and German are torch.Size([25, 128]) and torch.Size([25, 128]) respectively.\n"
          ]
        },
        {
          "metadata": {
            "tags": null
          },
          "name": "stderr",
          "output_type": "stream",
          "text": [
            "Model training in progress...:  87%|████████▋ | 198/227 [00:33<00:04,  6.36it/s]"
          ]
        },
        {
          "metadata": {
            "tags": null
          },
          "name": "stdout",
          "output_type": "stream",
          "text": [
            "Batch sizes for English and German are torch.Size([25, 128]) and torch.Size([28, 128]) respectively.\n",
            "Batch sizes for English and German are torch.Size([30, 128]) and torch.Size([30, 128]) respectively.\n"
          ]
        },
        {
          "metadata": {
            "tags": null
          },
          "name": "stderr",
          "output_type": "stream",
          "text": [
            "Model training in progress...:  88%|████████▊ | 200/227 [00:33<00:04,  5.76it/s]"
          ]
        },
        {
          "metadata": {
            "tags": null
          },
          "name": "stdout",
          "output_type": "stream",
          "text": [
            "Batch sizes for English and German are torch.Size([38, 128]) and torch.Size([32, 128]) respectively.\n"
          ]
        },
        {
          "metadata": {
            "tags": null
          },
          "name": "stderr",
          "output_type": "stream",
          "text": [
            "\rModel training in progress...:  89%|████████▊ | 201/227 [00:33<00:04,  5.90it/s]"
          ]
        },
        {
          "metadata": {
            "tags": null
          },
          "name": "stdout",
          "output_type": "stream",
          "text": [
            "Batch sizes for English and German are torch.Size([29, 128]) and torch.Size([32, 128]) respectively.\n",
            "Batch sizes for English and German are torch.Size([27, 128]) and torch.Size([26, 128]) respectively.\n"
          ]
        },
        {
          "metadata": {
            "tags": null
          },
          "name": "stderr",
          "output_type": "stream",
          "text": [
            "Model training in progress...:  89%|████████▉ | 203/227 [00:33<00:03,  6.16it/s]"
          ]
        },
        {
          "metadata": {
            "tags": null
          },
          "name": "stdout",
          "output_type": "stream",
          "text": [
            "Batch sizes for English and German are torch.Size([30, 128]) and torch.Size([29, 128]) respectively.\n",
            "Batch sizes for English and German are torch.Size([26, 128]) and torch.Size([27, 128]) respectively.\n"
          ]
        },
        {
          "metadata": {
            "tags": null
          },
          "name": "stderr",
          "output_type": "stream",
          "text": [
            "Model training in progress...:  90%|█████████ | 205/227 [00:34<00:03,  6.58it/s]"
          ]
        },
        {
          "metadata": {
            "tags": null
          },
          "name": "stdout",
          "output_type": "stream",
          "text": [
            "Batch sizes for English and German are torch.Size([26, 128]) and torch.Size([29, 128]) respectively.\n",
            "Batch sizes for English and German are torch.Size([37, 128]) and torch.Size([30, 128]) respectively.\n"
          ]
        },
        {
          "metadata": {
            "tags": null
          },
          "name": "stderr",
          "output_type": "stream",
          "text": [
            "Model training in progress...:  91%|█████████ | 207/227 [00:34<00:03,  6.02it/s]"
          ]
        },
        {
          "metadata": {
            "tags": null
          },
          "name": "stdout",
          "output_type": "stream",
          "text": [
            "Batch sizes for English and German are torch.Size([31, 128]) and torch.Size([30, 128]) respectively.\n",
            "Batch sizes for English and German are torch.Size([34, 128]) and torch.Size([33, 128]) respectively.\n"
          ]
        },
        {
          "metadata": {
            "tags": null
          },
          "name": "stderr",
          "output_type": "stream",
          "text": [
            "Model training in progress...:  92%|█████████▏| 209/227 [00:34<00:03,  5.88it/s]"
          ]
        },
        {
          "metadata": {
            "tags": null
          },
          "name": "stdout",
          "output_type": "stream",
          "text": [
            "Batch sizes for English and German are torch.Size([31, 128]) and torch.Size([25, 128]) respectively.\n",
            "Batch sizes for English and German are torch.Size([24, 128]) and torch.Size([25, 128]) respectively.\n"
          ]
        },
        {
          "metadata": {
            "tags": null
          },
          "name": "stderr",
          "output_type": "stream",
          "text": [
            "Model training in progress...:  93%|█████████▎| 211/227 [00:35<00:02,  6.62it/s]"
          ]
        },
        {
          "metadata": {
            "tags": null
          },
          "name": "stdout",
          "output_type": "stream",
          "text": [
            "Batch sizes for English and German are torch.Size([24, 128]) and torch.Size([27, 128]) respectively.\n",
            "Batch sizes for English and German are torch.Size([32, 128]) and torch.Size([30, 128]) respectively.\n"
          ]
        },
        {
          "metadata": {
            "tags": null
          },
          "name": "stderr",
          "output_type": "stream",
          "text": [
            "Model training in progress...:  94%|█████████▍| 213/227 [00:35<00:02,  6.56it/s]"
          ]
        },
        {
          "metadata": {
            "tags": null
          },
          "name": "stdout",
          "output_type": "stream",
          "text": [
            "Batch sizes for English and German are torch.Size([26, 128]) and torch.Size([27, 128]) respectively.\n",
            "Batch sizes for English and German are torch.Size([34, 128]) and torch.Size([27, 128]) respectively.\n"
          ]
        },
        {
          "metadata": {
            "tags": null
          },
          "name": "stderr",
          "output_type": "stream",
          "text": [
            "Model training in progress...:  95%|█████████▍| 215/227 [00:35<00:01,  6.18it/s]"
          ]
        },
        {
          "metadata": {
            "tags": null
          },
          "name": "stdout",
          "output_type": "stream",
          "text": [
            "Batch sizes for English and German are torch.Size([28, 128]) and torch.Size([29, 128]) respectively.\n",
            "Batch sizes for English and German are torch.Size([40, 128]) and torch.Size([35, 128]) respectively.\n"
          ]
        },
        {
          "metadata": {
            "tags": null
          },
          "name": "stderr",
          "output_type": "stream",
          "text": [
            "Model training in progress...:  96%|█████████▌| 217/227 [00:36<00:01,  5.78it/s]"
          ]
        },
        {
          "metadata": {
            "tags": null
          },
          "name": "stdout",
          "output_type": "stream",
          "text": [
            "Batch sizes for English and German are torch.Size([28, 128]) and torch.Size([27, 128]) respectively.\n",
            "Batch sizes for English and German are torch.Size([28, 128]) and torch.Size([28, 128]) respectively.\n"
          ]
        },
        {
          "metadata": {
            "tags": null
          },
          "name": "stderr",
          "output_type": "stream",
          "text": [
            "Model training in progress...:  96%|█████████▋| 219/227 [00:36<00:01,  5.89it/s]"
          ]
        },
        {
          "metadata": {
            "tags": null
          },
          "name": "stdout",
          "output_type": "stream",
          "text": [
            "Batch sizes for English and German are torch.Size([32, 128]) and torch.Size([36, 128]) respectively.\n",
            "Batch sizes for English and German are torch.Size([29, 128]) and torch.Size([28, 128]) respectively.\n"
          ]
        },
        {
          "metadata": {
            "tags": null
          },
          "name": "stderr",
          "output_type": "stream",
          "text": [
            "Model training in progress...:  97%|█████████▋| 221/227 [00:36<00:01,  5.88it/s]"
          ]
        },
        {
          "metadata": {
            "tags": null
          },
          "name": "stdout",
          "output_type": "stream",
          "text": [
            "Batch sizes for English and German are torch.Size([33, 128]) and torch.Size([29, 128]) respectively.\n",
            "Batch sizes for English and German are torch.Size([26, 128]) and torch.Size([24, 128]) respectively.\n"
          ]
        },
        {
          "metadata": {
            "tags": null
          },
          "name": "stderr",
          "output_type": "stream",
          "text": [
            "Model training in progress...:  98%|█████████▊| 223/227 [00:37<00:00,  6.29it/s]"
          ]
        },
        {
          "metadata": {
            "tags": null
          },
          "name": "stdout",
          "output_type": "stream",
          "text": [
            "Batch sizes for English and German are torch.Size([28, 128]) and torch.Size([24, 128]) respectively.\n",
            "Batch sizes for English and German are torch.Size([30, 128]) and torch.Size([29, 128]) respectively.\n"
          ]
        },
        {
          "metadata": {
            "tags": null
          },
          "name": "stderr",
          "output_type": "stream",
          "text": [
            "Model training in progress...:  99%|█████████▉| 225/227 [00:37<00:00,  5.86it/s]"
          ]
        },
        {
          "metadata": {
            "tags": null
          },
          "name": "stdout",
          "output_type": "stream",
          "text": [
            "Batch sizes for English and German are torch.Size([36, 128]) and torch.Size([38, 128]) respectively.\n",
            "Batch sizes for English and German are torch.Size([28, 128]) and torch.Size([27, 128]) respectively.\n"
          ]
        },
        {
          "metadata": {
            "tags": null
          },
          "name": "stderr",
          "output_type": "stream",
          "text": [
            "Model training in progress...: 100%|██████████| 227/227 [00:37<00:00,  6.01it/s]\n"
          ]
        },
        {
          "metadata": {
            "tags": null
          },
          "name": "stdout",
          "output_type": "stream",
          "text": [
            "Batch sizes for English and German are torch.Size([24, 72]) and torch.Size([26, 72]) respectively.\n"
          ]
        },
        {
          "metadata": {
            "tags": null
          },
          "name": "stderr",
          "output_type": "stream",
          "text": [
            "\rModel validation in progress...:   0%|          | 0/8 [00:00<?, ?it/s]"
          ]
        },
        {
          "metadata": {
            "tags": null
          },
          "name": "stdout",
          "output_type": "stream",
          "text": [
            "Batch sizes for English and German are torch.Size([25, 128]) and torch.Size([26, 128]) respectively.\n",
            "Batch sizes for English and German are torch.Size([23, 128]) and torch.Size([24, 128]) respectively.\n"
          ]
        },
        {
          "metadata": {
            "tags": null
          },
          "name": "stderr",
          "output_type": "stream",
          "text": [
            "\rModel validation in progress...:  25%|██▌       | 2/8 [00:00<00:00, 15.37it/s]"
          ]
        },
        {
          "metadata": {
            "tags": null
          },
          "name": "stdout",
          "output_type": "stream",
          "text": [
            "Batch sizes for English and German are torch.Size([30, 128]) and torch.Size([34, 128]) respectively.\n"
          ]
        },
        {
          "metadata": {
            "tags": null
          },
          "name": "stderr",
          "output_type": "stream",
          "text": [
            "\rModel validation in progress...:  50%|█████     | 4/8 [00:00<00:00, 13.77it/s]"
          ]
        },
        {
          "metadata": {
            "tags": null
          },
          "name": "stdout",
          "output_type": "stream",
          "text": [
            "Batch sizes for English and German are torch.Size([32, 128]) and torch.Size([31, 128]) respectively.\n",
            "Batch sizes for English and German are torch.Size([31, 128]) and torch.Size([30, 128]) respectively.\n",
            "Batch sizes for English and German are torch.Size([30, 128]) and torch.Size([32, 128]) respectively.\n"
          ]
        },
        {
          "metadata": {
            "tags": null
          },
          "name": "stderr",
          "output_type": "stream",
          "text": [
            "\rModel validation in progress...:  75%|███████▌  | 6/8 [00:00<00:00, 13.41it/s]"
          ]
        },
        {
          "metadata": {
            "tags": null
          },
          "name": "stdout",
          "output_type": "stream",
          "text": [
            "Batch sizes for English and German are torch.Size([34, 128]) and torch.Size([33, 128]) respectively.\n",
            "Batch sizes for English and German are torch.Size([27, 118]) and torch.Size([35, 118]) respectively.\n"
          ]
        },
        {
          "metadata": {
            "tags": null
          },
          "name": "stderr",
          "output_type": "stream",
          "text": [
            "Model validation in progress...: 100%|██████████| 8/8 [00:00<00:00, 13.68it/s]\n"
          ]
        },
        {
          "metadata": {
            "tags": null
          },
          "name": "stdout",
          "output_type": "stream",
          "text": [
            "Epoch: 5\n",
            "Training loss: 3.642\n",
            "Validation loss: 4.202\n",
            "\n",
            "\n"
          ]
        },
        {
          "metadata": {
            "tags": null
          },
          "name": "stderr",
          "output_type": "stream",
          "text": [
            "\rModel training in progress...:   0%|          | 0/227 [00:00<?, ?it/s]"
          ]
        },
        {
          "metadata": {
            "tags": null
          },
          "name": "stdout",
          "output_type": "stream",
          "text": [
            "Batch sizes for English and German are torch.Size([38, 128]) and torch.Size([36, 128]) respectively.\n"
          ]
        },
        {
          "metadata": {
            "tags": null
          },
          "name": "stderr",
          "output_type": "stream",
          "text": [
            "Model training in progress...:   1%|          | 2/227 [00:00<00:43,  5.22it/s]"
          ]
        },
        {
          "metadata": {
            "tags": null
          },
          "name": "stdout",
          "output_type": "stream",
          "text": [
            "Batch sizes for English and German are torch.Size([30, 128]) and torch.Size([30, 128]) respectively.\n",
            "Batch sizes for English and German are torch.Size([29, 128]) and torch.Size([33, 128]) respectively.\n"
          ]
        },
        {
          "metadata": {
            "tags": null
          },
          "name": "stderr",
          "output_type": "stream",
          "text": [
            "Model training in progress...:   2%|▏         | 4/227 [00:00<00:39,  5.69it/s]"
          ]
        },
        {
          "metadata": {
            "tags": null
          },
          "name": "stdout",
          "output_type": "stream",
          "text": [
            "Batch sizes for English and German are torch.Size([31, 128]) and torch.Size([25, 128]) respectively.\n",
            "Batch sizes for English and German are torch.Size([28, 128]) and torch.Size([33, 128]) respectively.\n"
          ]
        },
        {
          "metadata": {
            "tags": null
          },
          "name": "stderr",
          "output_type": "stream",
          "text": [
            "Model training in progress...:   3%|▎         | 6/227 [00:01<00:36,  5.99it/s]"
          ]
        },
        {
          "metadata": {
            "tags": null
          },
          "name": "stdout",
          "output_type": "stream",
          "text": [
            "Batch sizes for English and German are torch.Size([29, 128]) and torch.Size([29, 128]) respectively.\n",
            "Batch sizes for English and German are torch.Size([26, 128]) and torch.Size([26, 128]) respectively.\n"
          ]
        },
        {
          "metadata": {
            "tags": null
          },
          "name": "stderr",
          "output_type": "stream",
          "text": [
            "Model training in progress...:   4%|▎         | 8/227 [00:01<00:34,  6.35it/s]"
          ]
        },
        {
          "metadata": {
            "tags": null
          },
          "name": "stdout",
          "output_type": "stream",
          "text": [
            "Batch sizes for English and German are torch.Size([26, 128]) and torch.Size([26, 128]) respectively.\n",
            "Batch sizes for English and German are torch.Size([34, 128]) and torch.Size([29, 128]) respectively.\n"
          ]
        },
        {
          "metadata": {
            "tags": null
          },
          "name": "stderr",
          "output_type": "stream",
          "text": [
            "Model training in progress...:   4%|▍         | 10/227 [00:01<00:37,  5.81it/s]"
          ]
        },
        {
          "metadata": {
            "tags": null
          },
          "name": "stdout",
          "output_type": "stream",
          "text": [
            "Batch sizes for English and German are torch.Size([33, 128]) and torch.Size([34, 128]) respectively.\n",
            "Batch sizes for English and German are torch.Size([31, 128]) and torch.Size([29, 128]) respectively.\n"
          ]
        },
        {
          "metadata": {
            "tags": null
          },
          "name": "stderr",
          "output_type": "stream",
          "text": [
            "Model training in progress...:   5%|▌         | 12/227 [00:02<00:36,  5.85it/s]"
          ]
        },
        {
          "metadata": {
            "tags": null
          },
          "name": "stdout",
          "output_type": "stream",
          "text": [
            "Batch sizes for English and German are torch.Size([30, 128]) and torch.Size([26, 128]) respectively.\n",
            "Batch sizes for English and German are torch.Size([41, 128]) and torch.Size([34, 128]) respectively.\n"
          ]
        },
        {
          "metadata": {
            "tags": null
          },
          "name": "stderr",
          "output_type": "stream",
          "text": [
            "Model training in progress...:   6%|▌         | 14/227 [00:02<00:37,  5.62it/s]"
          ]
        },
        {
          "metadata": {
            "tags": null
          },
          "name": "stdout",
          "output_type": "stream",
          "text": [
            "Batch sizes for English and German are torch.Size([26, 128]) and torch.Size([27, 128]) respectively.\n",
            "Batch sizes for English and German are torch.Size([26, 128]) and torch.Size([24, 128]) respectively.\n"
          ]
        },
        {
          "metadata": {
            "tags": null
          },
          "name": "stderr",
          "output_type": "stream",
          "text": [
            "Model training in progress...:   7%|▋         | 16/227 [00:02<00:37,  5.66it/s]"
          ]
        },
        {
          "metadata": {
            "tags": null
          },
          "name": "stdout",
          "output_type": "stream",
          "text": [
            "Batch sizes for English and German are torch.Size([36, 128]) and torch.Size([33, 128]) respectively.\n",
            "Batch sizes for English and German are torch.Size([36, 128]) and torch.Size([38, 128]) respectively.\n"
          ]
        },
        {
          "metadata": {
            "tags": null
          },
          "name": "stderr",
          "output_type": "stream",
          "text": [
            "Model training in progress...:   8%|▊         | 18/227 [00:03<00:35,  5.89it/s]"
          ]
        },
        {
          "metadata": {
            "tags": null
          },
          "name": "stdout",
          "output_type": "stream",
          "text": [
            "Batch sizes for English and German are torch.Size([26, 128]) and torch.Size([27, 128]) respectively.\n",
            "Batch sizes for English and German are torch.Size([33, 128]) and torch.Size([33, 128]) respectively.\n"
          ]
        },
        {
          "metadata": {
            "tags": null
          },
          "name": "stderr",
          "output_type": "stream",
          "text": [
            "Model training in progress...:   9%|▉         | 20/227 [00:03<00:35,  5.85it/s]"
          ]
        },
        {
          "metadata": {
            "tags": null
          },
          "name": "stdout",
          "output_type": "stream",
          "text": [
            "Batch sizes for English and German are torch.Size([30, 128]) and torch.Size([27, 128]) respectively.\n",
            "Batch sizes for English and German are torch.Size([35, 128]) and torch.Size([32, 128]) respectively.\n"
          ]
        },
        {
          "metadata": {
            "tags": null
          },
          "name": "stderr",
          "output_type": "stream",
          "text": [
            "Model training in progress...:  10%|▉         | 22/227 [00:03<00:34,  5.94it/s]"
          ]
        },
        {
          "metadata": {
            "tags": null
          },
          "name": "stdout",
          "output_type": "stream",
          "text": [
            "Batch sizes for English and German are torch.Size([28, 128]) and torch.Size([27, 128]) respectively.\n",
            "Batch sizes for English and German are torch.Size([28, 128]) and torch.Size([28, 128]) respectively.\n"
          ]
        },
        {
          "metadata": {
            "tags": null
          },
          "name": "stderr",
          "output_type": "stream",
          "text": [
            "Model training in progress...:  11%|█         | 24/227 [00:04<00:33,  6.09it/s]"
          ]
        },
        {
          "metadata": {
            "tags": null
          },
          "name": "stdout",
          "output_type": "stream",
          "text": [
            "Batch sizes for English and German are torch.Size([31, 128]) and torch.Size([29, 128]) respectively.\n",
            "Batch sizes for English and German are torch.Size([28, 128]) and torch.Size([27, 128]) respectively.\n"
          ]
        },
        {
          "metadata": {
            "tags": null
          },
          "name": "stderr",
          "output_type": "stream",
          "text": [
            "Model training in progress...:  11%|█▏        | 26/227 [00:04<00:32,  6.24it/s]"
          ]
        },
        {
          "metadata": {
            "tags": null
          },
          "name": "stdout",
          "output_type": "stream",
          "text": [
            "Batch sizes for English and German are torch.Size([30, 128]) and torch.Size([27, 128]) respectively.\n",
            "Batch sizes for English and German are torch.Size([28, 128]) and torch.Size([29, 128]) respectively.\n"
          ]
        },
        {
          "metadata": {
            "tags": null
          },
          "name": "stderr",
          "output_type": "stream",
          "text": [
            "Model training in progress...:  12%|█▏        | 28/227 [00:04<00:31,  6.35it/s]"
          ]
        },
        {
          "metadata": {
            "tags": null
          },
          "name": "stdout",
          "output_type": "stream",
          "text": [
            "Batch sizes for English and German are torch.Size([29, 128]) and torch.Size([27, 128]) respectively.\n",
            "Batch sizes for English and German are torch.Size([28, 128]) and torch.Size([36, 128]) respectively.\n"
          ]
        },
        {
          "metadata": {
            "tags": null
          },
          "name": "stderr",
          "output_type": "stream",
          "text": [
            "Model training in progress...:  13%|█▎        | 30/227 [00:05<00:30,  6.37it/s]"
          ]
        },
        {
          "metadata": {
            "tags": null
          },
          "name": "stdout",
          "output_type": "stream",
          "text": [
            "Batch sizes for English and German are torch.Size([29, 128]) and torch.Size([29, 128]) respectively.\n",
            "Batch sizes for English and German are torch.Size([29, 128]) and torch.Size([28, 128]) respectively.\n"
          ]
        },
        {
          "metadata": {
            "tags": null
          },
          "name": "stderr",
          "output_type": "stream",
          "text": [
            "Model training in progress...:  14%|█▍        | 32/227 [00:05<00:33,  5.81it/s]"
          ]
        },
        {
          "metadata": {
            "tags": null
          },
          "name": "stdout",
          "output_type": "stream",
          "text": [
            "Batch sizes for English and German are torch.Size([37, 128]) and torch.Size([46, 128]) respectively.\n"
          ]
        },
        {
          "metadata": {
            "tags": null
          },
          "name": "stderr",
          "output_type": "stream",
          "text": [
            "\rModel training in progress...:  15%|█▍        | 33/227 [00:05<00:35,  5.53it/s]"
          ]
        },
        {
          "metadata": {
            "tags": null
          },
          "name": "stdout",
          "output_type": "stream",
          "text": [
            "Batch sizes for English and German are torch.Size([37, 128]) and torch.Size([29, 128]) respectively.\n",
            "Batch sizes for English and German are torch.Size([28, 128]) and torch.Size([32, 128]) respectively.\n"
          ]
        },
        {
          "metadata": {
            "tags": null
          },
          "name": "stderr",
          "output_type": "stream",
          "text": [
            "Model training in progress...:  15%|█▌        | 35/227 [00:05<00:32,  6.00it/s]"
          ]
        },
        {
          "metadata": {
            "tags": null
          },
          "name": "stdout",
          "output_type": "stream",
          "text": [
            "Batch sizes for English and German are torch.Size([27, 128]) and torch.Size([27, 128]) respectively.\n",
            "Batch sizes for English and German are torch.Size([29, 128]) and torch.Size([27, 128]) respectively.\n"
          ]
        },
        {
          "metadata": {
            "tags": null
          },
          "name": "stderr",
          "output_type": "stream",
          "text": [
            "Model training in progress...:  16%|█▋        | 37/227 [00:06<00:31,  6.02it/s]"
          ]
        },
        {
          "metadata": {
            "tags": null
          },
          "name": "stdout",
          "output_type": "stream",
          "text": [
            "Batch sizes for English and German are torch.Size([30, 128]) and torch.Size([29, 128]) respectively.\n",
            "Batch sizes for English and German are torch.Size([29, 128]) and torch.Size([26, 128]) respectively.\n"
          ]
        },
        {
          "metadata": {
            "tags": null
          },
          "name": "stderr",
          "output_type": "stream",
          "text": [
            "Model training in progress...:  17%|█▋        | 39/227 [00:06<00:30,  6.15it/s]"
          ]
        },
        {
          "metadata": {
            "tags": null
          },
          "name": "stdout",
          "output_type": "stream",
          "text": [
            "Batch sizes for English and German are torch.Size([28, 128]) and torch.Size([27, 128]) respectively.\n",
            "Batch sizes for English and German are torch.Size([37, 128]) and torch.Size([38, 128]) respectively.\n"
          ]
        },
        {
          "metadata": {
            "tags": null
          },
          "name": "stderr",
          "output_type": "stream",
          "text": [
            "Model training in progress...:  18%|█▊        | 41/227 [00:06<00:31,  5.89it/s]"
          ]
        },
        {
          "metadata": {
            "tags": null
          },
          "name": "stdout",
          "output_type": "stream",
          "text": [
            "Batch sizes for English and German are torch.Size([29, 128]) and torch.Size([29, 128]) respectively.\n",
            "Batch sizes for English and German are torch.Size([33, 128]) and torch.Size([26, 128]) respectively.\n"
          ]
        },
        {
          "metadata": {
            "tags": null
          },
          "name": "stderr",
          "output_type": "stream",
          "text": [
            "\rModel training in progress...:  19%|█▊        | 42/227 [00:07<00:31,  5.81it/s]"
          ]
        },
        {
          "metadata": {
            "tags": null
          },
          "name": "stdout",
          "output_type": "stream",
          "text": [
            "Batch sizes for English and German are torch.Size([41, 128]) and torch.Size([45, 128]) respectively.\n"
          ]
        },
        {
          "metadata": {
            "tags": null
          },
          "name": "stderr",
          "output_type": "stream",
          "text": [
            "Model training in progress...:  19%|█▉        | 44/227 [00:07<00:33,  5.53it/s]"
          ]
        },
        {
          "metadata": {
            "tags": null
          },
          "name": "stdout",
          "output_type": "stream",
          "text": [
            "Batch sizes for English and German are torch.Size([30, 128]) and torch.Size([30, 128]) respectively.\n",
            "Batch sizes for English and German are torch.Size([30, 128]) and torch.Size([27, 128]) respectively.\n"
          ]
        },
        {
          "metadata": {
            "tags": null
          },
          "name": "stderr",
          "output_type": "stream",
          "text": [
            "Model training in progress...:  20%|██        | 46/227 [00:07<00:30,  5.94it/s]"
          ]
        },
        {
          "metadata": {
            "tags": null
          },
          "name": "stdout",
          "output_type": "stream",
          "text": [
            "Batch sizes for English and German are torch.Size([29, 128]) and torch.Size([27, 128]) respectively.\n",
            "Batch sizes for English and German are torch.Size([28, 128]) and torch.Size([25, 128]) respectively.\n"
          ]
        },
        {
          "metadata": {
            "tags": null
          },
          "name": "stderr",
          "output_type": "stream",
          "text": [
            "Model training in progress...:  21%|██        | 48/227 [00:08<00:28,  6.20it/s]"
          ]
        },
        {
          "metadata": {
            "tags": null
          },
          "name": "stdout",
          "output_type": "stream",
          "text": [
            "Batch sizes for English and German are torch.Size([28, 128]) and torch.Size([33, 128]) respectively.\n",
            "Batch sizes for English and German are torch.Size([40, 128]) and torch.Size([37, 128]) respectively.\n"
          ]
        },
        {
          "metadata": {
            "tags": null
          },
          "name": "stderr",
          "output_type": "stream",
          "text": [
            "Model training in progress...:  22%|██▏       | 50/227 [00:08<00:30,  5.78it/s]"
          ]
        },
        {
          "metadata": {
            "tags": null
          },
          "name": "stdout",
          "output_type": "stream",
          "text": [
            "Batch sizes for English and German are torch.Size([28, 128]) and torch.Size([36, 128]) respectively.\n",
            "Batch sizes for English and German are torch.Size([32, 128]) and torch.Size([32, 128]) respectively.\n"
          ]
        },
        {
          "metadata": {
            "tags": null
          },
          "name": "stderr",
          "output_type": "stream",
          "text": [
            "Model training in progress...:  23%|██▎       | 52/227 [00:08<00:28,  6.09it/s]"
          ]
        },
        {
          "metadata": {
            "tags": null
          },
          "name": "stdout",
          "output_type": "stream",
          "text": [
            "Batch sizes for English and German are torch.Size([27, 128]) and torch.Size([26, 128]) respectively.\n",
            "Batch sizes for English and German are torch.Size([27, 128]) and torch.Size([28, 128]) respectively.\n"
          ]
        },
        {
          "metadata": {
            "tags": null
          },
          "name": "stderr",
          "output_type": "stream",
          "text": [
            "Model training in progress...:  24%|██▍       | 54/227 [00:09<00:30,  5.73it/s]"
          ]
        },
        {
          "metadata": {
            "tags": null
          },
          "name": "stdout",
          "output_type": "stream",
          "text": [
            "Batch sizes for English and German are torch.Size([38, 128]) and torch.Size([35, 128]) respectively.\n"
          ]
        },
        {
          "metadata": {
            "tags": null
          },
          "name": "stderr",
          "output_type": "stream",
          "text": [
            "\rModel training in progress...:  24%|██▍       | 55/227 [00:09<00:29,  5.89it/s]"
          ]
        },
        {
          "metadata": {
            "tags": null
          },
          "name": "stdout",
          "output_type": "stream",
          "text": [
            "Batch sizes for English and German are torch.Size([29, 128]) and torch.Size([32, 128]) respectively.\n",
            "Batch sizes for English and German are torch.Size([25, 128]) and torch.Size([25, 128]) respectively.\n"
          ]
        },
        {
          "metadata": {
            "tags": null
          },
          "name": "stderr",
          "output_type": "stream",
          "text": [
            "Model training in progress...:  25%|██▌       | 57/227 [00:09<00:27,  6.24it/s]"
          ]
        },
        {
          "metadata": {
            "tags": null
          },
          "name": "stdout",
          "output_type": "stream",
          "text": [
            "Batch sizes for English and German are torch.Size([29, 128]) and torch.Size([28, 128]) respectively.\n",
            "Batch sizes for English and German are torch.Size([28, 128]) and torch.Size([28, 128]) respectively.\n"
          ]
        },
        {
          "metadata": {
            "tags": null
          },
          "name": "stderr",
          "output_type": "stream",
          "text": [
            "Model training in progress...:  26%|██▌       | 59/227 [00:09<00:28,  5.95it/s]"
          ]
        },
        {
          "metadata": {
            "tags": null
          },
          "name": "stdout",
          "output_type": "stream",
          "text": [
            "Batch sizes for English and German are torch.Size([34, 128]) and torch.Size([34, 128]) respectively.\n",
            "Batch sizes for English and German are torch.Size([30, 128]) and torch.Size([35, 128]) respectively.\n"
          ]
        },
        {
          "metadata": {
            "tags": null
          },
          "name": "stderr",
          "output_type": "stream",
          "text": [
            "Model training in progress...:  27%|██▋       | 61/227 [00:10<00:27,  5.95it/s]"
          ]
        },
        {
          "metadata": {
            "tags": null
          },
          "name": "stdout",
          "output_type": "stream",
          "text": [
            "Batch sizes for English and German are torch.Size([30, 128]) and torch.Size([27, 128]) respectively.\n",
            "Batch sizes for English and German are torch.Size([34, 128]) and torch.Size([26, 128]) respectively.\n"
          ]
        },
        {
          "metadata": {
            "tags": null
          },
          "name": "stderr",
          "output_type": "stream",
          "text": [
            "Model training in progress...:  28%|██▊       | 63/227 [00:10<00:26,  6.11it/s]"
          ]
        },
        {
          "metadata": {
            "tags": null
          },
          "name": "stdout",
          "output_type": "stream",
          "text": [
            "Batch sizes for English and German are torch.Size([27, 128]) and torch.Size([25, 128]) respectively.\n",
            "Batch sizes for English and German are torch.Size([26, 128]) and torch.Size([26, 128]) respectively.\n"
          ]
        },
        {
          "metadata": {
            "tags": null
          },
          "name": "stderr",
          "output_type": "stream",
          "text": [
            "Model training in progress...:  29%|██▊       | 65/227 [00:10<00:25,  6.37it/s]"
          ]
        },
        {
          "metadata": {
            "tags": null
          },
          "name": "stdout",
          "output_type": "stream",
          "text": [
            "Batch sizes for English and German are torch.Size([28, 128]) and torch.Size([32, 128]) respectively.\n",
            "Batch sizes for English and German are torch.Size([28, 128]) and torch.Size([27, 128]) respectively.\n"
          ]
        },
        {
          "metadata": {
            "tags": null
          },
          "name": "stderr",
          "output_type": "stream",
          "text": [
            "Model training in progress...:  30%|██▉       | 67/227 [00:11<00:25,  6.19it/s]"
          ]
        },
        {
          "metadata": {
            "tags": null
          },
          "name": "stdout",
          "output_type": "stream",
          "text": [
            "Batch sizes for English and German are torch.Size([32, 128]) and torch.Size([29, 128]) respectively.\n",
            "Batch sizes for English and German are torch.Size([28, 128]) and torch.Size([28, 128]) respectively.\n"
          ]
        },
        {
          "metadata": {
            "tags": null
          },
          "name": "stderr",
          "output_type": "stream",
          "text": [
            "Model training in progress...:  30%|███       | 69/227 [00:11<00:24,  6.34it/s]"
          ]
        },
        {
          "metadata": {
            "tags": null
          },
          "name": "stdout",
          "output_type": "stream",
          "text": [
            "Batch sizes for English and German are torch.Size([27, 128]) and torch.Size([29, 128]) respectively.\n",
            "Batch sizes for English and German are torch.Size([26, 128]) and torch.Size([25, 128]) respectively.\n"
          ]
        },
        {
          "metadata": {
            "tags": null
          },
          "name": "stderr",
          "output_type": "stream",
          "text": [
            "Model training in progress...:  31%|███▏      | 71/227 [00:11<00:24,  6.49it/s]"
          ]
        },
        {
          "metadata": {
            "tags": null
          },
          "name": "stdout",
          "output_type": "stream",
          "text": [
            "Batch sizes for English and German are torch.Size([28, 128]) and torch.Size([25, 128]) respectively.\n",
            "Batch sizes for English and German are torch.Size([36, 128]) and torch.Size([31, 128]) respectively.\n"
          ]
        },
        {
          "metadata": {
            "tags": null
          },
          "name": "stderr",
          "output_type": "stream",
          "text": [
            "Model training in progress...:  32%|███▏      | 73/227 [00:12<00:26,  5.78it/s]"
          ]
        },
        {
          "metadata": {
            "tags": null
          },
          "name": "stdout",
          "output_type": "stream",
          "text": [
            "Batch sizes for English and German are torch.Size([34, 128]) and torch.Size([37, 128]) respectively.\n",
            "Batch sizes for English and German are torch.Size([30, 128]) and torch.Size([31, 128]) respectively.\n"
          ]
        },
        {
          "metadata": {
            "tags": null
          },
          "name": "stderr",
          "output_type": "stream",
          "text": [
            "Model training in progress...:  33%|███▎      | 75/227 [00:12<00:26,  5.76it/s]"
          ]
        },
        {
          "metadata": {
            "tags": null
          },
          "name": "stdout",
          "output_type": "stream",
          "text": [
            "Batch sizes for English and German are torch.Size([32, 128]) and torch.Size([37, 128]) respectively.\n",
            "Batch sizes for English and German are torch.Size([27, 128]) and torch.Size([24, 128]) respectively.\n"
          ]
        },
        {
          "metadata": {
            "tags": null
          },
          "name": "stderr",
          "output_type": "stream",
          "text": [
            "Model training in progress...:  34%|███▍      | 77/227 [00:12<00:24,  6.04it/s]"
          ]
        },
        {
          "metadata": {
            "tags": null
          },
          "name": "stdout",
          "output_type": "stream",
          "text": [
            "Batch sizes for English and German are torch.Size([29, 128]) and torch.Size([28, 128]) respectively.\n",
            "Batch sizes for English and German are torch.Size([28, 128]) and torch.Size([28, 128]) respectively.\n"
          ]
        },
        {
          "metadata": {
            "tags": null
          },
          "name": "stderr",
          "output_type": "stream",
          "text": [
            "Model training in progress...:  35%|███▍      | 79/227 [00:13<00:23,  6.30it/s]"
          ]
        },
        {
          "metadata": {
            "tags": null
          },
          "name": "stdout",
          "output_type": "stream",
          "text": [
            "Batch sizes for English and German are torch.Size([27, 128]) and torch.Size([28, 128]) respectively.\n",
            "Batch sizes for English and German are torch.Size([36, 128]) and torch.Size([29, 128]) respectively.\n"
          ]
        },
        {
          "metadata": {
            "tags": null
          },
          "name": "stderr",
          "output_type": "stream",
          "text": [
            "Model training in progress...:  36%|███▌      | 81/227 [00:13<00:24,  5.85it/s]"
          ]
        },
        {
          "metadata": {
            "tags": null
          },
          "name": "stdout",
          "output_type": "stream",
          "text": [
            "Batch sizes for English and German are torch.Size([31, 128]) and torch.Size([30, 128]) respectively.\n",
            "Batch sizes for English and German are torch.Size([30, 128]) and torch.Size([34, 128]) respectively.\n"
          ]
        },
        {
          "metadata": {
            "tags": null
          },
          "name": "stderr",
          "output_type": "stream",
          "text": [
            "Model training in progress...:  37%|███▋      | 83/227 [00:13<00:23,  6.15it/s]"
          ]
        },
        {
          "metadata": {
            "tags": null
          },
          "name": "stdout",
          "output_type": "stream",
          "text": [
            "Batch sizes for English and German are torch.Size([26, 128]) and torch.Size([28, 128]) respectively.\n",
            "Batch sizes for English and German are torch.Size([30, 128]) and torch.Size([29, 128]) respectively.\n"
          ]
        },
        {
          "metadata": {
            "tags": null
          },
          "name": "stderr",
          "output_type": "stream",
          "text": [
            "Model training in progress...:  37%|███▋      | 85/227 [00:14<00:23,  6.14it/s]"
          ]
        },
        {
          "metadata": {
            "tags": null
          },
          "name": "stdout",
          "output_type": "stream",
          "text": [
            "Batch sizes for English and German are torch.Size([28, 128]) and torch.Size([31, 128]) respectively.\n",
            "Batch sizes for English and German are torch.Size([30, 128]) and torch.Size([28, 128]) respectively.\n"
          ]
        },
        {
          "metadata": {
            "tags": null
          },
          "name": "stderr",
          "output_type": "stream",
          "text": [
            "Model training in progress...:  38%|███▊      | 87/227 [00:14<00:24,  5.79it/s]"
          ]
        },
        {
          "metadata": {
            "tags": null
          },
          "name": "stdout",
          "output_type": "stream",
          "text": [
            "Batch sizes for English and German are torch.Size([34, 128]) and torch.Size([33, 128]) respectively.\n",
            "Batch sizes for English and German are torch.Size([35, 128]) and torch.Size([33, 128]) respectively.\n"
          ]
        },
        {
          "metadata": {
            "tags": null
          },
          "name": "stderr",
          "output_type": "stream",
          "text": [
            "Model training in progress...:  39%|███▉      | 89/227 [00:14<00:23,  5.77it/s]"
          ]
        },
        {
          "metadata": {
            "tags": null
          },
          "name": "stdout",
          "output_type": "stream",
          "text": [
            "Batch sizes for English and German are torch.Size([28, 128]) and torch.Size([30, 128]) respectively.\n",
            "Batch sizes for English and German are torch.Size([30, 128]) and torch.Size([26, 128]) respectively.\n"
          ]
        },
        {
          "metadata": {
            "tags": null
          },
          "name": "stderr",
          "output_type": "stream",
          "text": [
            "Model training in progress...:  40%|████      | 91/227 [00:15<00:23,  5.78it/s]"
          ]
        },
        {
          "metadata": {
            "tags": null
          },
          "name": "stdout",
          "output_type": "stream",
          "text": [
            "Batch sizes for English and German are torch.Size([31, 128]) and torch.Size([31, 128]) respectively.\n",
            "Batch sizes for English and German are torch.Size([31, 128]) and torch.Size([30, 128]) respectively.\n"
          ]
        },
        {
          "metadata": {
            "tags": null
          },
          "name": "stderr",
          "output_type": "stream",
          "text": [
            "Model training in progress...:  41%|████      | 93/227 [00:15<00:22,  5.97it/s]"
          ]
        },
        {
          "metadata": {
            "tags": null
          },
          "name": "stdout",
          "output_type": "stream",
          "text": [
            "Batch sizes for English and German are torch.Size([29, 128]) and torch.Size([28, 128]) respectively.\n",
            "Batch sizes for English and German are torch.Size([40, 128]) and torch.Size([37, 128]) respectively.\n"
          ]
        },
        {
          "metadata": {
            "tags": null
          },
          "name": "stderr",
          "output_type": "stream",
          "text": [
            "Model training in progress...:  42%|████▏     | 95/227 [00:15<00:22,  5.97it/s]"
          ]
        },
        {
          "metadata": {
            "tags": null
          },
          "name": "stdout",
          "output_type": "stream",
          "text": [
            "Batch sizes for English and German are torch.Size([24, 128]) and torch.Size([30, 128]) respectively.\n",
            "Batch sizes for English and German are torch.Size([34, 128]) and torch.Size([31, 128]) respectively.\n"
          ]
        },
        {
          "metadata": {
            "tags": null
          },
          "name": "stderr",
          "output_type": "stream",
          "text": [
            "Model training in progress...:  43%|████▎     | 97/227 [00:16<00:22,  5.90it/s]"
          ]
        },
        {
          "metadata": {
            "tags": null
          },
          "name": "stdout",
          "output_type": "stream",
          "text": [
            "Batch sizes for English and German are torch.Size([28, 128]) and torch.Size([30, 128]) respectively.\n",
            "Batch sizes for English and German are torch.Size([33, 128]) and torch.Size([34, 128]) respectively.\n"
          ]
        },
        {
          "metadata": {
            "tags": null
          },
          "name": "stderr",
          "output_type": "stream",
          "text": [
            "Model training in progress...:  44%|████▎     | 99/227 [00:16<00:22,  5.78it/s]"
          ]
        },
        {
          "metadata": {
            "tags": null
          },
          "name": "stdout",
          "output_type": "stream",
          "text": [
            "Batch sizes for English and German are torch.Size([31, 128]) and torch.Size([30, 128]) respectively.\n",
            "Batch sizes for English and German are torch.Size([32, 128]) and torch.Size([32, 128]) respectively.\n"
          ]
        },
        {
          "metadata": {
            "tags": null
          },
          "name": "stderr",
          "output_type": "stream",
          "text": [
            "Model training in progress...:  44%|████▍     | 101/227 [00:17<00:20,  6.01it/s]"
          ]
        },
        {
          "metadata": {
            "tags": null
          },
          "name": "stdout",
          "output_type": "stream",
          "text": [
            "Batch sizes for English and German are torch.Size([27, 128]) and torch.Size([24, 128]) respectively.\n",
            "Batch sizes for English and German are torch.Size([32, 128]) and torch.Size([31, 128]) respectively.\n"
          ]
        },
        {
          "metadata": {
            "tags": null
          },
          "name": "stderr",
          "output_type": "stream",
          "text": [
            "Model training in progress...:  45%|████▌     | 103/227 [00:17<00:21,  5.87it/s]"
          ]
        },
        {
          "metadata": {
            "tags": null
          },
          "name": "stdout",
          "output_type": "stream",
          "text": [
            "Batch sizes for English and German are torch.Size([32, 128]) and torch.Size([27, 128]) respectively.\n",
            "Batch sizes for English and German are torch.Size([25, 128]) and torch.Size([25, 128]) respectively.\n"
          ]
        },
        {
          "metadata": {
            "tags": null
          },
          "name": "stderr",
          "output_type": "stream",
          "text": [
            "Model training in progress...:  46%|████▋     | 105/227 [00:17<00:19,  6.14it/s]"
          ]
        },
        {
          "metadata": {
            "tags": null
          },
          "name": "stdout",
          "output_type": "stream",
          "text": [
            "Batch sizes for English and German are torch.Size([32, 128]) and torch.Size([29, 128]) respectively.\n",
            "Batch sizes for English and German are torch.Size([31, 128]) and torch.Size([36, 128]) respectively.\n"
          ]
        },
        {
          "metadata": {
            "tags": null
          },
          "name": "stderr",
          "output_type": "stream",
          "text": [
            "Model training in progress...:  47%|████▋     | 107/227 [00:17<00:19,  6.27it/s]"
          ]
        },
        {
          "metadata": {
            "tags": null
          },
          "name": "stdout",
          "output_type": "stream",
          "text": [
            "Batch sizes for English and German are torch.Size([28, 128]) and torch.Size([26, 128]) respectively.\n",
            "Batch sizes for English and German are torch.Size([27, 128]) and torch.Size([27, 128]) respectively.\n"
          ]
        },
        {
          "metadata": {
            "tags": null
          },
          "name": "stderr",
          "output_type": "stream",
          "text": [
            "Model training in progress...:  48%|████▊     | 109/227 [00:18<00:18,  6.31it/s]"
          ]
        },
        {
          "metadata": {
            "tags": null
          },
          "name": "stdout",
          "output_type": "stream",
          "text": [
            "Batch sizes for English and German are torch.Size([31, 128]) and torch.Size([29, 128]) respectively.\n",
            "Batch sizes for English and German are torch.Size([29, 128]) and torch.Size([27, 128]) respectively.\n"
          ]
        },
        {
          "metadata": {
            "tags": null
          },
          "name": "stderr",
          "output_type": "stream",
          "text": [
            "Model training in progress...:  49%|████▉     | 111/227 [00:18<00:20,  5.78it/s]"
          ]
        },
        {
          "metadata": {
            "tags": null
          },
          "name": "stdout",
          "output_type": "stream",
          "text": [
            "Batch sizes for English and German are torch.Size([39, 128]) and torch.Size([33, 128]) respectively.\n"
          ]
        },
        {
          "metadata": {
            "tags": null
          },
          "name": "stderr",
          "output_type": "stream",
          "text": [
            "\rModel training in progress...:  49%|████▉     | 112/227 [00:18<00:18,  6.07it/s]"
          ]
        },
        {
          "metadata": {
            "tags": null
          },
          "name": "stdout",
          "output_type": "stream",
          "text": [
            "Batch sizes for English and German are torch.Size([27, 128]) and torch.Size([27, 128]) respectively.\n",
            "Batch sizes for English and German are torch.Size([28, 128]) and torch.Size([29, 128]) respectively.\n"
          ]
        },
        {
          "metadata": {
            "tags": null
          },
          "name": "stderr",
          "output_type": "stream",
          "text": [
            "Model training in progress...:  50%|█████     | 114/227 [00:19<00:18,  6.00it/s]"
          ]
        },
        {
          "metadata": {
            "tags": null
          },
          "name": "stdout",
          "output_type": "stream",
          "text": [
            "Batch sizes for English and German are torch.Size([34, 128]) and torch.Size([30, 128]) respectively.\n",
            "Batch sizes for English and German are torch.Size([25, 128]) and torch.Size([25, 128]) respectively.\n"
          ]
        },
        {
          "metadata": {
            "tags": null
          },
          "name": "stderr",
          "output_type": "stream",
          "text": [
            "Model training in progress...:  51%|█████     | 116/227 [00:19<00:16,  6.54it/s]"
          ]
        },
        {
          "metadata": {
            "tags": null
          },
          "name": "stdout",
          "output_type": "stream",
          "text": [
            "Batch sizes for English and German are torch.Size([26, 128]) and torch.Size([30, 128]) respectively.\n",
            "Batch sizes for English and German are torch.Size([26, 128]) and torch.Size([25, 128]) respectively.\n"
          ]
        },
        {
          "metadata": {
            "tags": null
          },
          "name": "stderr",
          "output_type": "stream",
          "text": [
            "Model training in progress...:  52%|█████▏    | 118/227 [00:19<00:16,  6.44it/s]"
          ]
        },
        {
          "metadata": {
            "tags": null
          },
          "name": "stdout",
          "output_type": "stream",
          "text": [
            "Batch sizes for English and German are torch.Size([31, 128]) and torch.Size([30, 128]) respectively.\n",
            "Batch sizes for English and German are torch.Size([27, 128]) and torch.Size([28, 128]) respectively.\n"
          ]
        },
        {
          "metadata": {
            "tags": null
          },
          "name": "stderr",
          "output_type": "stream",
          "text": [
            "Model training in progress...:  53%|█████▎    | 120/227 [00:20<00:17,  6.25it/s]"
          ]
        },
        {
          "metadata": {
            "tags": null
          },
          "name": "stdout",
          "output_type": "stream",
          "text": [
            "Batch sizes for English and German are torch.Size([34, 128]) and torch.Size([26, 128]) respectively.\n",
            "Batch sizes for English and German are torch.Size([36, 128]) and torch.Size([37, 128]) respectively.\n"
          ]
        },
        {
          "metadata": {
            "tags": null
          },
          "name": "stderr",
          "output_type": "stream",
          "text": [
            "Model training in progress...:  54%|█████▎    | 122/227 [00:20<00:18,  5.58it/s]"
          ]
        },
        {
          "metadata": {
            "tags": null
          },
          "name": "stdout",
          "output_type": "stream",
          "text": [
            "Batch sizes for English and German are torch.Size([37, 128]) and torch.Size([30, 128]) respectively.\n",
            "Batch sizes for English and German are torch.Size([43, 128]) and torch.Size([36, 128]) respectively.\n"
          ]
        },
        {
          "metadata": {
            "tags": null
          },
          "name": "stderr",
          "output_type": "stream",
          "text": [
            "Model training in progress...:  55%|█████▍    | 124/227 [00:20<00:18,  5.52it/s]"
          ]
        },
        {
          "metadata": {
            "tags": null
          },
          "name": "stdout",
          "output_type": "stream",
          "text": [
            "Batch sizes for English and German are torch.Size([27, 128]) and torch.Size([28, 128]) respectively.\n",
            "Batch sizes for English and German are torch.Size([26, 128]) and torch.Size([26, 128]) respectively.\n"
          ]
        },
        {
          "metadata": {
            "tags": null
          },
          "name": "stderr",
          "output_type": "stream",
          "text": [
            "Model training in progress...:  56%|█████▌    | 126/227 [00:21<00:16,  6.00it/s]"
          ]
        },
        {
          "metadata": {
            "tags": null
          },
          "name": "stdout",
          "output_type": "stream",
          "text": [
            "Batch sizes for English and German are torch.Size([30, 128]) and torch.Size([28, 128]) respectively.\n",
            "Batch sizes for English and German are torch.Size([28, 128]) and torch.Size([24, 128]) respectively.\n"
          ]
        },
        {
          "metadata": {
            "tags": null
          },
          "name": "stderr",
          "output_type": "stream",
          "text": [
            "Model training in progress...:  56%|█████▋    | 128/227 [00:21<00:16,  6.01it/s]"
          ]
        },
        {
          "metadata": {
            "tags": null
          },
          "name": "stdout",
          "output_type": "stream",
          "text": [
            "Batch sizes for English and German are torch.Size([33, 128]) and torch.Size([30, 128]) respectively.\n",
            "Batch sizes for English and German are torch.Size([31, 128]) and torch.Size([29, 128]) respectively.\n"
          ]
        },
        {
          "metadata": {
            "tags": null
          },
          "name": "stderr",
          "output_type": "stream",
          "text": [
            "Model training in progress...:  57%|█████▋    | 130/227 [00:21<00:15,  6.08it/s]"
          ]
        },
        {
          "metadata": {
            "tags": null
          },
          "name": "stdout",
          "output_type": "stream",
          "text": [
            "Batch sizes for English and German are torch.Size([30, 128]) and torch.Size([30, 128]) respectively.\n",
            "Batch sizes for English and German are torch.Size([26, 128]) and torch.Size([30, 128]) respectively.\n"
          ]
        },
        {
          "metadata": {
            "tags": null
          },
          "name": "stderr",
          "output_type": "stream",
          "text": [
            "Model training in progress...:  58%|█████▊    | 132/227 [00:22<00:14,  6.42it/s]"
          ]
        },
        {
          "metadata": {
            "tags": null
          },
          "name": "stdout",
          "output_type": "stream",
          "text": [
            "Batch sizes for English and German are torch.Size([28, 128]) and torch.Size([28, 128]) respectively.\n",
            "Batch sizes for English and German are torch.Size([32, 128]) and torch.Size([32, 128]) respectively.\n"
          ]
        },
        {
          "metadata": {
            "tags": null
          },
          "name": "stderr",
          "output_type": "stream",
          "text": [
            "\rModel training in progress...:  59%|█████▊    | 133/227 [00:22<00:15,  6.20it/s]"
          ]
        },
        {
          "metadata": {
            "tags": null
          },
          "name": "stdout",
          "output_type": "stream",
          "text": [
            "Batch sizes for English and German are torch.Size([40, 128]) and torch.Size([34, 128]) respectively.\n"
          ]
        },
        {
          "metadata": {
            "tags": null
          },
          "name": "stderr",
          "output_type": "stream",
          "text": [
            "Model training in progress...:  59%|█████▉    | 135/227 [00:22<00:15,  5.87it/s]"
          ]
        },
        {
          "metadata": {
            "tags": null
          },
          "name": "stdout",
          "output_type": "stream",
          "text": [
            "Batch sizes for English and German are torch.Size([28, 128]) and torch.Size([28, 128]) respectively.\n",
            "Batch sizes for English and German are torch.Size([25, 128]) and torch.Size([28, 128]) respectively.\n"
          ]
        },
        {
          "metadata": {
            "tags": null
          },
          "name": "stderr",
          "output_type": "stream",
          "text": [
            "Model training in progress...:  60%|██████    | 137/227 [00:22<00:14,  6.39it/s]"
          ]
        },
        {
          "metadata": {
            "tags": null
          },
          "name": "stdout",
          "output_type": "stream",
          "text": [
            "Batch sizes for English and German are torch.Size([28, 128]) and torch.Size([26, 128]) respectively.\n",
            "Batch sizes for English and German are torch.Size([25, 128]) and torch.Size([28, 128]) respectively.\n"
          ]
        },
        {
          "metadata": {
            "tags": null
          },
          "name": "stderr",
          "output_type": "stream",
          "text": [
            "Model training in progress...:  61%|██████    | 139/227 [00:23<00:13,  6.69it/s]"
          ]
        },
        {
          "metadata": {
            "tags": null
          },
          "name": "stdout",
          "output_type": "stream",
          "text": [
            "Batch sizes for English and German are torch.Size([28, 128]) and torch.Size([24, 128]) respectively.\n",
            "Batch sizes for English and German are torch.Size([26, 128]) and torch.Size([28, 128]) respectively.\n"
          ]
        },
        {
          "metadata": {
            "tags": null
          },
          "name": "stderr",
          "output_type": "stream",
          "text": [
            "Model training in progress...:  62%|██████▏   | 141/227 [00:23<00:13,  6.26it/s]"
          ]
        },
        {
          "metadata": {
            "tags": null
          },
          "name": "stdout",
          "output_type": "stream",
          "text": [
            "Batch sizes for English and German are torch.Size([34, 128]) and torch.Size([31, 128]) respectively.\n",
            "Batch sizes for English and German are torch.Size([24, 128]) and torch.Size([26, 128]) respectively.\n"
          ]
        },
        {
          "metadata": {
            "tags": null
          },
          "name": "stderr",
          "output_type": "stream",
          "text": [
            "Model training in progress...:  63%|██████▎   | 143/227 [00:23<00:14,  5.91it/s]"
          ]
        },
        {
          "metadata": {
            "tags": null
          },
          "name": "stdout",
          "output_type": "stream",
          "text": [
            "Batch sizes for English and German are torch.Size([37, 128]) and torch.Size([38, 128]) respectively.\n"
          ]
        },
        {
          "metadata": {
            "tags": null
          },
          "name": "stderr",
          "output_type": "stream",
          "text": [
            "\rModel training in progress...:  63%|██████▎   | 144/227 [00:24<00:14,  5.82it/s]"
          ]
        },
        {
          "metadata": {
            "tags": null
          },
          "name": "stdout",
          "output_type": "stream",
          "text": [
            "Batch sizes for English and German are torch.Size([31, 128]) and torch.Size([32, 128]) respectively.\n",
            "Batch sizes for English and German are torch.Size([25, 128]) and torch.Size([25, 128]) respectively.\n"
          ]
        },
        {
          "metadata": {
            "tags": null
          },
          "name": "stderr",
          "output_type": "stream",
          "text": [
            "Model training in progress...:  64%|██████▍   | 146/227 [00:24<00:12,  6.36it/s]"
          ]
        },
        {
          "metadata": {
            "tags": null
          },
          "name": "stdout",
          "output_type": "stream",
          "text": [
            "Batch sizes for English and German are torch.Size([26, 128]) and torch.Size([28, 128]) respectively.\n",
            "Batch sizes for English and German are torch.Size([31, 128]) and torch.Size([30, 128]) respectively.\n"
          ]
        },
        {
          "metadata": {
            "tags": null
          },
          "name": "stderr",
          "output_type": "stream",
          "text": [
            "Model training in progress...:  65%|██████▌   | 148/227 [00:24<00:12,  6.31it/s]"
          ]
        },
        {
          "output_type": "stream",
          "name": "stdout",
          "text": [
            "Batch sizes for English and German are torch.Size([28, 128]) and torch.Size([27, 128]) respectively.\n",
            "Batch sizes for English and German are torch.Size([30, 128]) and torch.Size([30, 128]) respectively.\n"
          ]
        },
        {
          "output_type": "stream",
          "name": "stderr",
          "text": [
            "Model training in progress...:  66%|██████▌   | 150/227 [00:24<00:12,  6.02it/s]"
          ]
        },
        {
          "output_type": "stream",
          "name": "stdout",
          "text": [
            "Batch sizes for English and German are torch.Size([31, 128]) and torch.Size([30, 128]) respectively.\n",
            "Batch sizes for English and German are torch.Size([26, 128]) and torch.Size([25, 128]) respectively.\n"
          ]
        },
        {
          "output_type": "stream",
          "name": "stderr",
          "text": [
            "Model training in progress...:  67%|██████▋   | 152/227 [00:25<00:12,  6.02it/s]"
          ]
        },
        {
          "output_type": "stream",
          "name": "stdout",
          "text": [
            "Batch sizes for English and German are torch.Size([32, 128]) and torch.Size([33, 128]) respectively.\n",
            "Batch sizes for English and German are torch.Size([31, 128]) and torch.Size([30, 128]) respectively.\n"
          ]
        },
        {
          "output_type": "stream",
          "name": "stderr",
          "text": [
            "Model training in progress...:  68%|██████▊   | 154/227 [00:25<00:12,  5.99it/s]"
          ]
        },
        {
          "output_type": "stream",
          "name": "stdout",
          "text": [
            "Batch sizes for English and German are torch.Size([29, 128]) and torch.Size([33, 128]) respectively.\n",
            "Batch sizes for English and German are torch.Size([35, 128]) and torch.Size([33, 128]) respectively.\n"
          ]
        },
        {
          "output_type": "stream",
          "name": "stderr",
          "text": [
            "Model training in progress...:  69%|██████▊   | 156/227 [00:26<00:12,  5.86it/s]"
          ]
        },
        {
          "output_type": "stream",
          "name": "stdout",
          "text": [
            "Batch sizes for English and German are torch.Size([29, 128]) and torch.Size([24, 128]) respectively.\n",
            "Batch sizes for English and German are torch.Size([32, 128]) and torch.Size([28, 128]) respectively.\n"
          ]
        },
        {
          "output_type": "stream",
          "name": "stderr",
          "text": [
            "Model training in progress...:  70%|██████▉   | 158/227 [00:26<00:11,  5.76it/s]"
          ]
        },
        {
          "output_type": "stream",
          "name": "stdout",
          "text": [
            "Batch sizes for English and German are torch.Size([30, 128]) and torch.Size([27, 128]) respectively.\n",
            "Batch sizes for English and German are torch.Size([28, 128]) and torch.Size([28, 128]) respectively.\n"
          ]
        },
        {
          "output_type": "stream",
          "name": "stderr",
          "text": [
            "Model training in progress...:  70%|███████   | 160/227 [00:26<00:11,  5.80it/s]"
          ]
        },
        {
          "output_type": "stream",
          "name": "stdout",
          "text": [
            "Batch sizes for English and German are torch.Size([31, 128]) and torch.Size([29, 128]) respectively.\n",
            "Batch sizes for English and German are torch.Size([33, 128]) and torch.Size([34, 128]) respectively.\n"
          ]
        },
        {
          "output_type": "stream",
          "name": "stderr",
          "text": [
            "Model training in progress...:  71%|███████▏  | 162/227 [00:27<00:11,  5.85it/s]"
          ]
        },
        {
          "output_type": "stream",
          "name": "stdout",
          "text": [
            "Batch sizes for English and German are torch.Size([28, 128]) and torch.Size([30, 128]) respectively.\n",
            "Batch sizes for English and German are torch.Size([26, 128]) and torch.Size([30, 128]) respectively.\n"
          ]
        },
        {
          "output_type": "stream",
          "name": "stderr",
          "text": [
            "Model training in progress...:  72%|███████▏  | 164/227 [00:27<00:10,  6.14it/s]"
          ]
        },
        {
          "output_type": "stream",
          "name": "stdout",
          "text": [
            "Batch sizes for English and German are torch.Size([29, 128]) and torch.Size([26, 128]) respectively.\n",
            "Batch sizes for English and German are torch.Size([28, 128]) and torch.Size([34, 128]) respectively.\n"
          ]
        },
        {
          "output_type": "stream",
          "name": "stderr",
          "text": [
            "Model training in progress...:  73%|███████▎  | 166/227 [00:27<00:10,  5.86it/s]"
          ]
        },
        {
          "output_type": "stream",
          "name": "stdout",
          "text": [
            "Batch sizes for English and German are torch.Size([35, 128]) and torch.Size([37, 128]) respectively.\n",
            "Batch sizes for English and German are torch.Size([36, 128]) and torch.Size([38, 128]) respectively.\n"
          ]
        },
        {
          "output_type": "stream",
          "name": "stderr",
          "text": [
            "Model training in progress...:  74%|███████▍  | 168/227 [00:28<00:10,  5.83it/s]"
          ]
        },
        {
          "output_type": "stream",
          "name": "stdout",
          "text": [
            "Batch sizes for English and German are torch.Size([29, 128]) and torch.Size([24, 128]) respectively.\n",
            "Batch sizes for English and German are torch.Size([29, 128]) and torch.Size([30, 128]) respectively.\n"
          ]
        },
        {
          "output_type": "stream",
          "name": "stderr",
          "text": [
            "Model training in progress...:  75%|███████▍  | 170/227 [00:28<00:09,  6.20it/s]"
          ]
        },
        {
          "output_type": "stream",
          "name": "stdout",
          "text": [
            "Batch sizes for English and German are torch.Size([27, 128]) and torch.Size([27, 128]) respectively.\n",
            "Batch sizes for English and German are torch.Size([37, 128]) and torch.Size([34, 128]) respectively.\n"
          ]
        },
        {
          "output_type": "stream",
          "name": "stderr",
          "text": [
            "Model training in progress...:  76%|███████▌  | 172/227 [00:28<00:09,  5.80it/s]"
          ]
        },
        {
          "output_type": "stream",
          "name": "stdout",
          "text": [
            "Batch sizes for English and German are torch.Size([32, 128]) and torch.Size([31, 128]) respectively.\n",
            "Batch sizes for English and German are torch.Size([26, 128]) and torch.Size([28, 128]) respectively.\n"
          ]
        },
        {
          "output_type": "stream",
          "name": "stderr",
          "text": [
            "Model training in progress...:  77%|███████▋  | 174/227 [00:29<00:08,  6.20it/s]"
          ]
        },
        {
          "output_type": "stream",
          "name": "stdout",
          "text": [
            "Batch sizes for English and German are torch.Size([28, 128]) and torch.Size([27, 128]) respectively.\n",
            "Batch sizes for English and German are torch.Size([42, 128]) and torch.Size([41, 128]) respectively.\n"
          ]
        },
        {
          "output_type": "stream",
          "name": "stderr",
          "text": [
            "Model training in progress...:  78%|███████▊  | 176/227 [00:29<00:09,  5.62it/s]"
          ]
        },
        {
          "output_type": "stream",
          "name": "stdout",
          "text": [
            "Batch sizes for English and German are torch.Size([30, 128]) and torch.Size([31, 128]) respectively.\n",
            "Batch sizes for English and German are torch.Size([35, 128]) and torch.Size([33, 128]) respectively.\n"
          ]
        },
        {
          "output_type": "stream",
          "name": "stderr",
          "text": [
            "Model training in progress...:  78%|███████▊  | 178/227 [00:29<00:08,  5.54it/s]"
          ]
        },
        {
          "output_type": "stream",
          "name": "stdout",
          "text": [
            "Batch sizes for English and German are torch.Size([32, 128]) and torch.Size([28, 128]) respectively.\n",
            "Batch sizes for English and German are torch.Size([25, 128]) and torch.Size([31, 128]) respectively.\n"
          ]
        },
        {
          "output_type": "stream",
          "name": "stderr",
          "text": [
            "Model training in progress...:  79%|███████▉  | 180/227 [00:30<00:07,  6.35it/s]"
          ]
        },
        {
          "output_type": "stream",
          "name": "stdout",
          "text": [
            "Batch sizes for English and German are torch.Size([25, 128]) and torch.Size([24, 128]) respectively.\n",
            "Batch sizes for English and German are torch.Size([42, 128]) and torch.Size([45, 128]) respectively.\n"
          ]
        },
        {
          "output_type": "stream",
          "name": "stderr",
          "text": [
            "Model training in progress...:  80%|████████  | 182/227 [00:30<00:07,  5.99it/s]"
          ]
        },
        {
          "output_type": "stream",
          "name": "stdout",
          "text": [
            "Batch sizes for English and German are torch.Size([23, 128]) and torch.Size([28, 128]) respectively.\n",
            "Batch sizes for English and German are torch.Size([27, 128]) and torch.Size([29, 128]) respectively.\n"
          ]
        },
        {
          "output_type": "stream",
          "name": "stderr",
          "text": [
            "Model training in progress...:  81%|████████  | 184/227 [00:30<00:07,  6.02it/s]"
          ]
        },
        {
          "output_type": "stream",
          "name": "stdout",
          "text": [
            "Batch sizes for English and German are torch.Size([31, 128]) and torch.Size([31, 128]) respectively.\n",
            "Batch sizes for English and German are torch.Size([29, 128]) and torch.Size([27, 128]) respectively.\n"
          ]
        },
        {
          "output_type": "stream",
          "name": "stderr",
          "text": [
            "Model training in progress...:  82%|████████▏ | 186/227 [00:31<00:06,  6.25it/s]"
          ]
        },
        {
          "output_type": "stream",
          "name": "stdout",
          "text": [
            "Batch sizes for English and German are torch.Size([27, 128]) and torch.Size([30, 128]) respectively.\n",
            "Batch sizes for English and German are torch.Size([27, 128]) and torch.Size([27, 128]) respectively.\n"
          ]
        },
        {
          "output_type": "stream",
          "name": "stderr",
          "text": [
            "Model training in progress...:  83%|████████▎ | 188/227 [00:31<00:06,  6.50it/s]"
          ]
        },
        {
          "output_type": "stream",
          "name": "stdout",
          "text": [
            "Batch sizes for English and German are torch.Size([28, 128]) and torch.Size([25, 128]) respectively.\n",
            "Batch sizes for English and German are torch.Size([25, 128]) and torch.Size([26, 128]) respectively.\n"
          ]
        },
        {
          "output_type": "stream",
          "name": "stderr",
          "text": [
            "Model training in progress...:  84%|████████▎ | 190/227 [00:31<00:05,  6.70it/s]"
          ]
        },
        {
          "output_type": "stream",
          "name": "stdout",
          "text": [
            "Batch sizes for English and German are torch.Size([27, 128]) and torch.Size([26, 128]) respectively.\n",
            "Batch sizes for English and German are torch.Size([29, 128]) and torch.Size([31, 128]) respectively.\n"
          ]
        },
        {
          "output_type": "stream",
          "name": "stderr",
          "text": [
            "Model training in progress...:  85%|████████▍ | 192/227 [00:31<00:05,  6.28it/s]"
          ]
        },
        {
          "output_type": "stream",
          "name": "stdout",
          "text": [
            "Batch sizes for English and German are torch.Size([32, 128]) and torch.Size([26, 128]) respectively.\n",
            "Batch sizes for English and German are torch.Size([28, 128]) and torch.Size([28, 128]) respectively.\n"
          ]
        },
        {
          "output_type": "stream",
          "name": "stderr",
          "text": [
            "Model training in progress...:  85%|████████▌ | 194/227 [00:32<00:05,  6.13it/s]"
          ]
        },
        {
          "output_type": "stream",
          "name": "stdout",
          "text": [
            "Batch sizes for English and German are torch.Size([33, 128]) and torch.Size([30, 128]) respectively.\n",
            "Batch sizes for English and German are torch.Size([29, 128]) and torch.Size([29, 128]) respectively.\n"
          ]
        },
        {
          "output_type": "stream",
          "name": "stderr",
          "text": [
            "Model training in progress...:  86%|████████▋ | 196/227 [00:32<00:05,  5.92it/s]"
          ]
        },
        {
          "output_type": "stream",
          "name": "stdout",
          "text": [
            "Batch sizes for English and German are torch.Size([33, 128]) and torch.Size([35, 128]) respectively.\n",
            "Batch sizes for English and German are torch.Size([26, 128]) and torch.Size([26, 128]) respectively.\n"
          ]
        },
        {
          "output_type": "stream",
          "name": "stderr",
          "text": [
            "Model training in progress...:  87%|████████▋ | 198/227 [00:33<00:04,  5.80it/s]"
          ]
        },
        {
          "output_type": "stream",
          "name": "stdout",
          "text": [
            "Batch sizes for English and German are torch.Size([37, 128]) and torch.Size([38, 128]) respectively.\n",
            "Batch sizes for English and German are torch.Size([26, 128]) and torch.Size([24, 128]) respectively.\n"
          ]
        },
        {
          "output_type": "stream",
          "name": "stderr",
          "text": [
            "Model training in progress...:  88%|████████▊ | 200/227 [00:33<00:04,  6.08it/s]"
          ]
        },
        {
          "output_type": "stream",
          "name": "stdout",
          "text": [
            "Batch sizes for English and German are torch.Size([31, 128]) and torch.Size([31, 128]) respectively.\n",
            "Batch sizes for English and German are torch.Size([28, 128]) and torch.Size([27, 128]) respectively.\n"
          ]
        },
        {
          "output_type": "stream",
          "name": "stderr",
          "text": [
            "Model training in progress...:  89%|████████▉ | 202/227 [00:33<00:03,  6.35it/s]"
          ]
        },
        {
          "output_type": "stream",
          "name": "stdout",
          "text": [
            "Batch sizes for English and German are torch.Size([28, 128]) and torch.Size([28, 128]) respectively.\n",
            "Batch sizes for English and German are torch.Size([36, 128]) and torch.Size([29, 128]) respectively.\n"
          ]
        },
        {
          "output_type": "stream",
          "name": "stderr",
          "text": [
            "Model training in progress...:  90%|████████▉ | 204/227 [00:34<00:04,  5.71it/s]"
          ]
        },
        {
          "output_type": "stream",
          "name": "stdout",
          "text": [
            "Batch sizes for English and German are torch.Size([35, 128]) and torch.Size([36, 128]) respectively.\n",
            "Batch sizes for English and German are torch.Size([33, 128]) and torch.Size([31, 128]) respectively.\n"
          ]
        },
        {
          "output_type": "stream",
          "name": "stderr",
          "text": [
            "\rModel training in progress...:  90%|█████████ | 205/227 [00:34<00:03,  5.68it/s]"
          ]
        },
        {
          "output_type": "stream",
          "name": "stdout",
          "text": [
            "Batch sizes for English and German are torch.Size([40, 128]) and torch.Size([35, 128]) respectively.\n"
          ]
        },
        {
          "output_type": "stream",
          "name": "stderr",
          "text": [
            "Model training in progress...:  91%|█████████ | 207/227 [00:34<00:03,  5.66it/s]"
          ]
        },
        {
          "output_type": "stream",
          "name": "stdout",
          "text": [
            "Batch sizes for English and German are torch.Size([27, 128]) and torch.Size([30, 128]) respectively.\n",
            "Batch sizes for English and German are torch.Size([27, 128]) and torch.Size([31, 128]) respectively.\n"
          ]
        },
        {
          "output_type": "stream",
          "name": "stderr",
          "text": [
            "Model training in progress...:  92%|█████████▏| 209/227 [00:34<00:02,  6.09it/s]"
          ]
        },
        {
          "output_type": "stream",
          "name": "stdout",
          "text": [
            "Batch sizes for English and German are torch.Size([28, 128]) and torch.Size([29, 128]) respectively.\n",
            "Batch sizes for English and German are torch.Size([26, 128]) and torch.Size([24, 128]) respectively.\n"
          ]
        },
        {
          "output_type": "stream",
          "name": "stderr",
          "text": [
            "Model training in progress...:  93%|█████████▎| 211/227 [00:35<00:02,  6.21it/s]"
          ]
        },
        {
          "output_type": "stream",
          "name": "stdout",
          "text": [
            "Batch sizes for English and German are torch.Size([32, 128]) and torch.Size([32, 128]) respectively.\n",
            "Batch sizes for English and German are torch.Size([37, 128]) and torch.Size([38, 128]) respectively.\n"
          ]
        },
        {
          "output_type": "stream",
          "name": "stderr",
          "text": [
            "Model training in progress...:  94%|█████████▍| 213/227 [00:35<00:02,  6.08it/s]"
          ]
        },
        {
          "output_type": "stream",
          "name": "stdout",
          "text": [
            "Batch sizes for English and German are torch.Size([26, 128]) and torch.Size([27, 128]) respectively.\n",
            "Batch sizes for English and German are torch.Size([25, 128]) and torch.Size([25, 128]) respectively.\n"
          ]
        },
        {
          "output_type": "stream",
          "name": "stderr",
          "text": [
            "Model training in progress...:  95%|█████████▍| 215/227 [00:35<00:01,  6.18it/s]"
          ]
        },
        {
          "output_type": "stream",
          "name": "stdout",
          "text": [
            "Batch sizes for English and German are torch.Size([32, 128]) and torch.Size([36, 128]) respectively.\n",
            "Batch sizes for English and German are torch.Size([27, 128]) and torch.Size([23, 128]) respectively.\n"
          ]
        },
        {
          "output_type": "stream",
          "name": "stderr",
          "text": [
            "Model training in progress...:  96%|█████████▌| 217/227 [00:36<00:01,  6.46it/s]"
          ]
        },
        {
          "output_type": "stream",
          "name": "stdout",
          "text": [
            "Batch sizes for English and German are torch.Size([27, 128]) and torch.Size([30, 128]) respectively.\n",
            "Batch sizes for English and German are torch.Size([27, 128]) and torch.Size([27, 128]) respectively.\n"
          ]
        },
        {
          "output_type": "stream",
          "name": "stderr",
          "text": [
            "Model training in progress...:  96%|█████████▋| 219/227 [00:36<00:01,  6.58it/s]"
          ]
        },
        {
          "output_type": "stream",
          "name": "stdout",
          "text": [
            "Batch sizes for English and German are torch.Size([28, 128]) and torch.Size([29, 128]) respectively.\n",
            "Batch sizes for English and German are torch.Size([38, 128]) and torch.Size([29, 128]) respectively.\n"
          ]
        },
        {
          "output_type": "stream",
          "name": "stderr",
          "text": [
            "Model training in progress...:  97%|█████████▋| 221/227 [00:36<00:01,  5.97it/s]"
          ]
        },
        {
          "output_type": "stream",
          "name": "stdout",
          "text": [
            "Batch sizes for English and German are torch.Size([30, 128]) and torch.Size([31, 128]) respectively.\n",
            "Batch sizes for English and German are torch.Size([25, 128]) and torch.Size([32, 128]) respectively.\n"
          ]
        },
        {
          "output_type": "stream",
          "name": "stderr",
          "text": [
            "Model training in progress...:  98%|█████████▊| 223/227 [00:37<00:00,  5.89it/s]"
          ]
        },
        {
          "output_type": "stream",
          "name": "stdout",
          "text": [
            "Batch sizes for English and German are torch.Size([36, 128]) and torch.Size([37, 128]) respectively.\n",
            "Batch sizes for English and German are torch.Size([26, 128]) and torch.Size([26, 128]) respectively.\n"
          ]
        },
        {
          "output_type": "stream",
          "name": "stderr",
          "text": [
            "Model training in progress...:  99%|█████████▉| 225/227 [00:37<00:00,  6.08it/s]"
          ]
        },
        {
          "output_type": "stream",
          "name": "stdout",
          "text": [
            "Batch sizes for English and German are torch.Size([30, 128]) and torch.Size([33, 128]) respectively.\n",
            "Batch sizes for English and German are torch.Size([32, 128]) and torch.Size([28, 128]) respectively.\n"
          ]
        },
        {
          "output_type": "stream",
          "name": "stderr",
          "text": [
            "Model training in progress...: 100%|██████████| 227/227 [00:37<00:00,  6.01it/s]\n"
          ]
        },
        {
          "output_type": "stream",
          "name": "stdout",
          "text": [
            "Batch sizes for English and German are torch.Size([35, 72]) and torch.Size([33, 72]) respectively.\n"
          ]
        },
        {
          "output_type": "stream",
          "name": "stderr",
          "text": [
            "\rModel validation in progress...:   0%|          | 0/8 [00:00<?, ?it/s]"
          ]
        },
        {
          "output_type": "stream",
          "name": "stdout",
          "text": [
            "Batch sizes for English and German are torch.Size([28, 128]) and torch.Size([23, 128]) respectively.\n"
          ]
        },
        {
          "output_type": "stream",
          "name": "stderr",
          "text": [
            "\rModel validation in progress...:  25%|██▌       | 2/8 [00:00<00:00, 13.85it/s]"
          ]
        },
        {
          "output_type": "stream",
          "name": "stdout",
          "text": [
            "Batch sizes for English and German are torch.Size([27, 128]) and torch.Size([25, 128]) respectively.\n",
            "Batch sizes for English and German are torch.Size([31, 128]) and torch.Size([35, 128]) respectively.\n",
            "Batch sizes for English and German are torch.Size([28, 128]) and torch.Size([30, 128]) respectively.\n"
          ]
        },
        {
          "output_type": "stream",
          "name": "stderr",
          "text": [
            "\rModel validation in progress...:  50%|█████     | 4/8 [00:00<00:00, 13.11it/s]"
          ]
        },
        {
          "output_type": "stream",
          "name": "stdout",
          "text": [
            "Batch sizes for English and German are torch.Size([34, 128]) and torch.Size([30, 128]) respectively.\n",
            "Batch sizes for English and German are torch.Size([33, 128]) and torch.Size([33, 128]) respectively.\n"
          ]
        },
        {
          "output_type": "stream",
          "name": "stderr",
          "text": [
            "\rModel validation in progress...:  75%|███████▌  | 6/8 [00:00<00:00, 12.32it/s]"
          ]
        },
        {
          "output_type": "stream",
          "name": "stdout",
          "text": [
            "Batch sizes for English and German are torch.Size([26, 128]) and torch.Size([27, 128]) respectively.\n"
          ]
        },
        {
          "output_type": "stream",
          "name": "stderr",
          "text": [
            "Model validation in progress...: 100%|██████████| 8/8 [00:00<00:00, 12.82it/s]\n"
          ]
        },
        {
          "output_type": "stream",
          "name": "stdout",
          "text": [
            "Batch sizes for English and German are torch.Size([32, 118]) and torch.Size([34, 118]) respectively.\n",
            "Epoch: 6\n",
            "Training loss: 3.510\n",
            "Validation loss: 4.178\n",
            "\n",
            "\n"
          ]
        },
        {
          "output_type": "stream",
          "name": "stderr",
          "text": [
            "Model training in progress...:   0%|          | 1/227 [00:00<00:38,  5.82it/s]"
          ]
        },
        {
          "output_type": "stream",
          "name": "stdout",
          "text": [
            "Batch sizes for English and German are torch.Size([31, 128]) and torch.Size([27, 128]) respectively.\n",
            "Batch sizes for English and German are torch.Size([28, 128]) and torch.Size([27, 128]) respectively.\n"
          ]
        },
        {
          "output_type": "stream",
          "name": "stderr",
          "text": [
            "Model training in progress...:   1%|▏         | 3/227 [00:00<00:34,  6.40it/s]"
          ]
        },
        {
          "output_type": "stream",
          "name": "stdout",
          "text": [
            "Batch sizes for English and German are torch.Size([26, 128]) and torch.Size([27, 128]) respectively.\n",
            "Batch sizes for English and German are torch.Size([34, 128]) and torch.Size([31, 128]) respectively.\n"
          ]
        },
        {
          "output_type": "stream",
          "name": "stderr",
          "text": [
            "Model training in progress...:   2%|▏         | 5/227 [00:00<00:36,  6.12it/s]"
          ]
        },
        {
          "output_type": "stream",
          "name": "stdout",
          "text": [
            "Batch sizes for English and German are torch.Size([26, 128]) and torch.Size([26, 128]) respectively.\n",
            "Batch sizes for English and German are torch.Size([36, 128]) and torch.Size([38, 128]) respectively.\n"
          ]
        },
        {
          "output_type": "stream",
          "name": "stderr",
          "text": [
            "Model training in progress...:   3%|▎         | 7/227 [00:01<00:37,  5.80it/s]"
          ]
        },
        {
          "output_type": "stream",
          "name": "stdout",
          "text": [
            "Batch sizes for English and German are torch.Size([30, 128]) and torch.Size([25, 128]) respectively.\n",
            "Batch sizes for English and German are torch.Size([31, 128]) and torch.Size([28, 128]) respectively.\n"
          ]
        },
        {
          "output_type": "stream",
          "name": "stderr",
          "text": [
            "Model training in progress...:   4%|▍         | 9/227 [00:01<00:38,  5.60it/s]"
          ]
        },
        {
          "output_type": "stream",
          "name": "stdout",
          "text": [
            "Batch sizes for English and German are torch.Size([36, 128]) and torch.Size([29, 128]) respectively.\n",
            "Batch sizes for English and German are torch.Size([31, 128]) and torch.Size([28, 128]) respectively.\n"
          ]
        },
        {
          "output_type": "stream",
          "name": "stderr",
          "text": [
            "Model training in progress...:   5%|▍         | 11/227 [00:01<00:36,  5.86it/s]"
          ]
        },
        {
          "output_type": "stream",
          "name": "stdout",
          "text": [
            "Batch sizes for English and German are torch.Size([30, 128]) and torch.Size([31, 128]) respectively.\n",
            "Batch sizes for English and German are torch.Size([30, 128]) and torch.Size([26, 128]) respectively.\n"
          ]
        },
        {
          "output_type": "stream",
          "name": "stderr",
          "text": [
            "Model training in progress...:   6%|▌         | 13/227 [00:02<00:35,  6.09it/s]"
          ]
        },
        {
          "output_type": "stream",
          "name": "stdout",
          "text": [
            "Batch sizes for English and German are torch.Size([28, 128]) and torch.Size([27, 128]) respectively.\n",
            "Batch sizes for English and German are torch.Size([43, 128]) and torch.Size([36, 128]) respectively.\n"
          ]
        },
        {
          "output_type": "stream",
          "name": "stderr",
          "text": [
            "Model training in progress...:   7%|▋         | 15/227 [00:02<00:37,  5.60it/s]"
          ]
        },
        {
          "output_type": "stream",
          "name": "stdout",
          "text": [
            "Batch sizes for English and German are torch.Size([28, 128]) and torch.Size([37, 128]) respectively.\n",
            "Batch sizes for English and German are torch.Size([28, 128]) and torch.Size([33, 128]) respectively.\n"
          ]
        },
        {
          "output_type": "stream",
          "name": "stderr",
          "text": [
            "Model training in progress...:   7%|▋         | 17/227 [00:02<00:34,  6.03it/s]"
          ]
        },
        {
          "output_type": "stream",
          "name": "stdout",
          "text": [
            "Batch sizes for English and German are torch.Size([28, 128]) and torch.Size([28, 128]) respectively.\n",
            "Batch sizes for English and German are torch.Size([25, 128]) and torch.Size([25, 128]) respectively.\n"
          ]
        },
        {
          "output_type": "stream",
          "name": "stderr",
          "text": [
            "Model training in progress...:   8%|▊         | 19/227 [00:03<00:32,  6.39it/s]"
          ]
        },
        {
          "output_type": "stream",
          "name": "stdout",
          "text": [
            "Batch sizes for English and German are torch.Size([29, 128]) and torch.Size([28, 128]) respectively.\n",
            "Batch sizes for English and German are torch.Size([30, 128]) and torch.Size([28, 128]) respectively.\n"
          ]
        },
        {
          "output_type": "stream",
          "name": "stderr",
          "text": [
            "Model training in progress...:   9%|▉         | 21/227 [00:03<00:32,  6.27it/s]"
          ]
        },
        {
          "output_type": "stream",
          "name": "stdout",
          "text": [
            "Batch sizes for English and German are torch.Size([30, 128]) and torch.Size([30, 128]) respectively.\n",
            "Batch sizes for English and German are torch.Size([28, 128]) and torch.Size([25, 128]) respectively.\n"
          ]
        },
        {
          "output_type": "stream",
          "name": "stderr",
          "text": [
            "Model training in progress...:  10%|█         | 23/227 [00:03<00:31,  6.52it/s]"
          ]
        },
        {
          "output_type": "stream",
          "name": "stdout",
          "text": [
            "Batch sizes for English and German are torch.Size([26, 128]) and torch.Size([27, 128]) respectively.\n",
            "Batch sizes for English and German are torch.Size([30, 128]) and torch.Size([33, 128]) respectively.\n"
          ]
        },
        {
          "output_type": "stream",
          "name": "stderr",
          "text": [
            "Model training in progress...:  11%|█         | 25/227 [00:04<00:32,  6.25it/s]"
          ]
        },
        {
          "output_type": "stream",
          "name": "stdout",
          "text": [
            "Batch sizes for English and German are torch.Size([30, 128]) and torch.Size([35, 128]) respectively.\n",
            "Batch sizes for English and German are torch.Size([37, 128]) and torch.Size([34, 128]) respectively.\n"
          ]
        },
        {
          "output_type": "stream",
          "name": "stderr",
          "text": [
            "Model training in progress...:  12%|█▏        | 27/227 [00:04<00:32,  6.13it/s]"
          ]
        },
        {
          "output_type": "stream",
          "name": "stdout",
          "text": [
            "Batch sizes for English and German are torch.Size([26, 128]) and torch.Size([28, 128]) respectively.\n",
            "Batch sizes for English and German are torch.Size([37, 128]) and torch.Size([37, 128]) respectively.\n"
          ]
        },
        {
          "output_type": "stream",
          "name": "stderr",
          "text": [
            "Model training in progress...:  13%|█▎        | 29/227 [00:04<00:35,  5.60it/s]"
          ]
        },
        {
          "output_type": "stream",
          "name": "stdout",
          "text": [
            "Batch sizes for English and German are torch.Size([35, 128]) and torch.Size([34, 128]) respectively.\n",
            "Batch sizes for English and German are torch.Size([31, 128]) and torch.Size([29, 128]) respectively.\n"
          ]
        },
        {
          "output_type": "stream",
          "name": "stderr",
          "text": [
            "Model training in progress...:  14%|█▎        | 31/227 [00:05<00:32,  6.00it/s]"
          ]
        },
        {
          "output_type": "stream",
          "name": "stdout",
          "text": [
            "Batch sizes for English and German are torch.Size([27, 128]) and torch.Size([30, 128]) respectively.\n",
            "Batch sizes for English and German are torch.Size([37, 128]) and torch.Size([38, 128]) respectively.\n"
          ]
        },
        {
          "output_type": "stream",
          "name": "stderr",
          "text": [
            "Model training in progress...:  15%|█▍        | 33/227 [00:05<00:33,  5.80it/s]"
          ]
        },
        {
          "output_type": "stream",
          "name": "stdout",
          "text": [
            "Batch sizes for English and German are torch.Size([28, 128]) and torch.Size([27, 128]) respectively.\n",
            "Batch sizes for English and German are torch.Size([27, 128]) and torch.Size([28, 128]) respectively.\n"
          ]
        },
        {
          "output_type": "stream",
          "name": "stderr",
          "text": [
            "Model training in progress...:  15%|█▌        | 35/227 [00:05<00:33,  5.69it/s]"
          ]
        },
        {
          "output_type": "stream",
          "name": "stdout",
          "text": [
            "Batch sizes for English and German are torch.Size([37, 128]) and torch.Size([30, 128]) respectively.\n",
            "Batch sizes for English and German are torch.Size([30, 128]) and torch.Size([30, 128]) respectively.\n"
          ]
        },
        {
          "output_type": "stream",
          "name": "stderr",
          "text": [
            "Model training in progress...:  16%|█▋        | 37/227 [00:06<00:33,  5.63it/s]"
          ]
        },
        {
          "output_type": "stream",
          "name": "stdout",
          "text": [
            "Batch sizes for English and German are torch.Size([35, 128]) and torch.Size([37, 128]) respectively.\n",
            "Batch sizes for English and German are torch.Size([28, 128]) and torch.Size([33, 128]) respectively.\n"
          ]
        },
        {
          "output_type": "stream",
          "name": "stderr",
          "text": [
            "Model training in progress...:  17%|█▋        | 39/227 [00:06<00:31,  6.01it/s]"
          ]
        },
        {
          "output_type": "stream",
          "name": "stdout",
          "text": [
            "Batch sizes for English and German are torch.Size([29, 128]) and torch.Size([30, 128]) respectively.\n",
            "Batch sizes for English and German are torch.Size([30, 128]) and torch.Size([30, 128]) respectively.\n"
          ]
        },
        {
          "output_type": "stream",
          "name": "stderr",
          "text": [
            "Model training in progress...:  18%|█▊        | 41/227 [00:06<00:30,  6.16it/s]"
          ]
        },
        {
          "output_type": "stream",
          "name": "stdout",
          "text": [
            "Batch sizes for English and German are torch.Size([28, 128]) and torch.Size([30, 128]) respectively.\n",
            "Batch sizes for English and German are torch.Size([27, 128]) and torch.Size([30, 128]) respectively.\n"
          ]
        },
        {
          "output_type": "stream",
          "name": "stderr",
          "text": [
            "\rModel training in progress...:  19%|█▊        | 42/227 [00:07<00:29,  6.24it/s]"
          ]
        },
        {
          "output_type": "stream",
          "name": "stdout",
          "text": [
            "Batch sizes for English and German are torch.Size([39, 128]) and torch.Size([33, 128]) respectively.\n"
          ]
        },
        {
          "output_type": "stream",
          "name": "stderr",
          "text": [
            "Model training in progress...:  19%|█▉        | 44/227 [00:07<00:32,  5.67it/s]"
          ]
        },
        {
          "output_type": "stream",
          "name": "stdout",
          "text": [
            "Batch sizes for English and German are torch.Size([33, 128]) and torch.Size([27, 128]) respectively.\n",
            "Batch sizes for English and German are torch.Size([26, 128]) and torch.Size([26, 128]) respectively.\n"
          ]
        },
        {
          "output_type": "stream",
          "name": "stderr",
          "text": [
            "Model training in progress...:  20%|██        | 46/227 [00:07<00:29,  6.12it/s]"
          ]
        },
        {
          "output_type": "stream",
          "name": "stdout",
          "text": [
            "Batch sizes for English and German are torch.Size([27, 128]) and torch.Size([25, 128]) respectively.\n",
            "Batch sizes for English and German are torch.Size([34, 128]) and torch.Size([30, 128]) respectively.\n"
          ]
        },
        {
          "output_type": "stream",
          "name": "stderr",
          "text": [
            "Model training in progress...:  21%|██        | 48/227 [00:08<00:30,  5.92it/s]"
          ]
        },
        {
          "output_type": "stream",
          "name": "stdout",
          "text": [
            "Batch sizes for English and German are torch.Size([32, 128]) and torch.Size([29, 128]) respectively.\n",
            "Batch sizes for English and German are torch.Size([33, 128]) and torch.Size([33, 128]) respectively.\n"
          ]
        },
        {
          "output_type": "stream",
          "name": "stderr",
          "text": [
            "Model training in progress...:  22%|██▏       | 50/227 [00:08<00:29,  5.97it/s]"
          ]
        },
        {
          "output_type": "stream",
          "name": "stdout",
          "text": [
            "Batch sizes for English and German are torch.Size([28, 128]) and torch.Size([28, 128]) respectively.\n",
            "Batch sizes for English and German are torch.Size([33, 128]) and torch.Size([33, 128]) respectively.\n"
          ]
        },
        {
          "output_type": "stream",
          "name": "stderr",
          "text": [
            "Model training in progress...:  23%|██▎       | 52/227 [00:08<00:31,  5.55it/s]"
          ]
        },
        {
          "output_type": "stream",
          "name": "stdout",
          "text": [
            "Batch sizes for English and German are torch.Size([35, 128]) and torch.Size([31, 128]) respectively.\n",
            "Batch sizes for English and German are torch.Size([33, 128]) and torch.Size([34, 128]) respectively.\n"
          ]
        },
        {
          "output_type": "stream",
          "name": "stderr",
          "text": [
            "Model training in progress...:  24%|██▍       | 54/227 [00:09<00:30,  5.64it/s]"
          ]
        },
        {
          "output_type": "stream",
          "name": "stdout",
          "text": [
            "Batch sizes for English and German are torch.Size([32, 128]) and torch.Size([31, 128]) respectively.\n",
            "Batch sizes for English and German are torch.Size([34, 128]) and torch.Size([33, 128]) respectively.\n"
          ]
        },
        {
          "output_type": "stream",
          "name": "stderr",
          "text": [
            "Model training in progress...:  25%|██▍       | 56/227 [00:09<00:28,  5.98it/s]"
          ]
        },
        {
          "output_type": "stream",
          "name": "stdout",
          "text": [
            "Batch sizes for English and German are torch.Size([26, 128]) and torch.Size([26, 128]) respectively.\n",
            "Batch sizes for English and German are torch.Size([28, 128]) and torch.Size([27, 128]) respectively.\n"
          ]
        },
        {
          "output_type": "stream",
          "name": "stderr",
          "text": [
            "Model training in progress...:  26%|██▌       | 58/227 [00:09<00:27,  6.14it/s]"
          ]
        },
        {
          "output_type": "stream",
          "name": "stdout",
          "text": [
            "Batch sizes for English and German are torch.Size([29, 128]) and torch.Size([33, 128]) respectively.\n",
            "Batch sizes for English and German are torch.Size([28, 128]) and torch.Size([26, 128]) respectively.\n"
          ]
        },
        {
          "output_type": "stream",
          "name": "stderr",
          "text": [
            "Model training in progress...:  26%|██▋       | 60/227 [00:10<00:26,  6.39it/s]"
          ]
        },
        {
          "output_type": "stream",
          "name": "stdout",
          "text": [
            "Batch sizes for English and German are torch.Size([28, 128]) and torch.Size([25, 128]) respectively.\n",
            "Batch sizes for English and German are torch.Size([40, 128]) and torch.Size([34, 128]) respectively.\n"
          ]
        },
        {
          "output_type": "stream",
          "name": "stderr",
          "text": [
            "Model training in progress...:  27%|██▋       | 62/227 [00:10<00:28,  5.72it/s]"
          ]
        },
        {
          "output_type": "stream",
          "name": "stdout",
          "text": [
            "Batch sizes for English and German are torch.Size([32, 128]) and torch.Size([28, 128]) respectively.\n",
            "Batch sizes for English and German are torch.Size([33, 128]) and torch.Size([30, 128]) respectively.\n"
          ]
        },
        {
          "output_type": "stream",
          "name": "stderr",
          "text": [
            "Model training in progress...:  28%|██▊       | 64/227 [00:10<00:28,  5.71it/s]"
          ]
        },
        {
          "output_type": "stream",
          "name": "stdout",
          "text": [
            "Batch sizes for English and German are torch.Size([32, 128]) and torch.Size([29, 128]) respectively.\n",
            "Batch sizes for English and German are torch.Size([26, 128]) and torch.Size([25, 128]) respectively.\n"
          ]
        },
        {
          "output_type": "stream",
          "name": "stderr",
          "text": [
            "Model training in progress...:  29%|██▉       | 66/227 [00:11<00:26,  6.12it/s]"
          ]
        },
        {
          "output_type": "stream",
          "name": "stdout",
          "text": [
            "Batch sizes for English and German are torch.Size([27, 128]) and torch.Size([27, 128]) respectively.\n",
            "Batch sizes for English and German are torch.Size([27, 128]) and torch.Size([31, 128]) respectively.\n"
          ]
        },
        {
          "output_type": "stream",
          "name": "stderr",
          "text": [
            "Model training in progress...:  30%|██▉       | 68/227 [00:11<00:25,  6.34it/s]"
          ]
        },
        {
          "output_type": "stream",
          "name": "stdout",
          "text": [
            "Batch sizes for English and German are torch.Size([27, 128]) and torch.Size([26, 128]) respectively.\n",
            "Batch sizes for English and German are torch.Size([25, 128]) and torch.Size([26, 128]) respectively.\n"
          ]
        },
        {
          "output_type": "stream",
          "name": "stderr",
          "text": [
            "Model training in progress...:  31%|███       | 70/227 [00:11<00:25,  6.22it/s]"
          ]
        },
        {
          "output_type": "stream",
          "name": "stdout",
          "text": [
            "Batch sizes for English and German are torch.Size([32, 128]) and torch.Size([28, 128]) respectively.\n",
            "Batch sizes for English and German are torch.Size([29, 128]) and torch.Size([28, 128]) respectively.\n"
          ]
        },
        {
          "output_type": "stream",
          "name": "stderr",
          "text": [
            "Model training in progress...:  32%|███▏      | 72/227 [00:12<00:24,  6.26it/s]"
          ]
        },
        {
          "output_type": "stream",
          "name": "stdout",
          "text": [
            "Batch sizes for English and German are torch.Size([27, 128]) and torch.Size([30, 128]) respectively.\n",
            "Batch sizes for English and German are torch.Size([31, 128]) and torch.Size([31, 128]) respectively.\n"
          ]
        },
        {
          "output_type": "stream",
          "name": "stderr",
          "text": [
            "Model training in progress...:  33%|███▎      | 74/227 [00:12<00:25,  6.06it/s]"
          ]
        },
        {
          "output_type": "stream",
          "name": "stdout",
          "text": [
            "Batch sizes for English and German are torch.Size([29, 128]) and torch.Size([28, 128]) respectively.\n",
            "Batch sizes for English and German are torch.Size([25, 128]) and torch.Size([25, 128]) respectively.\n"
          ]
        },
        {
          "output_type": "stream",
          "name": "stderr",
          "text": [
            "Model training in progress...:  33%|███▎      | 76/227 [00:12<00:23,  6.30it/s]"
          ]
        },
        {
          "output_type": "stream",
          "name": "stdout",
          "text": [
            "Batch sizes for English and German are torch.Size([27, 128]) and torch.Size([26, 128]) respectively.\n",
            "Batch sizes for English and German are torch.Size([35, 128]) and torch.Size([33, 128]) respectively.\n"
          ]
        },
        {
          "output_type": "stream",
          "name": "stderr",
          "text": [
            "Model training in progress...:  34%|███▍      | 78/227 [00:13<00:24,  6.03it/s]"
          ]
        },
        {
          "output_type": "stream",
          "name": "stdout",
          "text": [
            "Batch sizes for English and German are torch.Size([28, 128]) and torch.Size([28, 128]) respectively.\n",
            "Batch sizes for English and German are torch.Size([42, 128]) and torch.Size([45, 128]) respectively.\n"
          ]
        },
        {
          "output_type": "stream",
          "name": "stderr",
          "text": [
            "Model training in progress...:  35%|███▌      | 80/227 [00:13<00:27,  5.38it/s]"
          ]
        },
        {
          "output_type": "stream",
          "name": "stdout",
          "text": [
            "Batch sizes for English and German are torch.Size([34, 128]) and torch.Size([30, 128]) respectively.\n",
            "Batch sizes for English and German are torch.Size([28, 128]) and torch.Size([28, 128]) respectively.\n"
          ]
        },
        {
          "output_type": "stream",
          "name": "stderr",
          "text": [
            "Model training in progress...:  36%|███▌      | 82/227 [00:13<00:23,  6.05it/s]"
          ]
        },
        {
          "output_type": "stream",
          "name": "stdout",
          "text": [
            "Batch sizes for English and German are torch.Size([26, 128]) and torch.Size([25, 128]) respectively.\n",
            "Batch sizes for English and German are torch.Size([32, 128]) and torch.Size([26, 128]) respectively.\n"
          ]
        },
        {
          "output_type": "stream",
          "name": "stderr",
          "text": [
            "Model training in progress...:  37%|███▋      | 84/227 [00:14<00:23,  6.16it/s]"
          ]
        },
        {
          "output_type": "stream",
          "name": "stdout",
          "text": [
            "Batch sizes for English and German are torch.Size([27, 128]) and torch.Size([27, 128]) respectively.\n",
            "Batch sizes for English and German are torch.Size([26, 128]) and torch.Size([24, 128]) respectively.\n"
          ]
        },
        {
          "output_type": "stream",
          "name": "stderr",
          "text": [
            "Model training in progress...:  38%|███▊      | 86/227 [00:14<00:21,  6.57it/s]"
          ]
        },
        {
          "output_type": "stream",
          "name": "stdout",
          "text": [
            "Batch sizes for English and German are torch.Size([27, 128]) and torch.Size([27, 128]) respectively.\n",
            "Batch sizes for English and German are torch.Size([31, 128]) and torch.Size([32, 128]) respectively.\n"
          ]
        },
        {
          "output_type": "stream",
          "name": "stderr",
          "text": [
            "Model training in progress...:  39%|███▉      | 88/227 [00:14<00:21,  6.55it/s]"
          ]
        },
        {
          "output_type": "stream",
          "name": "stdout",
          "text": [
            "Batch sizes for English and German are torch.Size([25, 128]) and torch.Size([28, 128]) respectively.\n",
            "Batch sizes for English and German are torch.Size([24, 128]) and torch.Size([28, 128]) respectively.\n"
          ]
        },
        {
          "output_type": "stream",
          "name": "stderr",
          "text": [
            "Model training in progress...:  40%|███▉      | 90/227 [00:15<00:21,  6.36it/s]"
          ]
        },
        {
          "output_type": "stream",
          "name": "stdout",
          "text": [
            "Batch sizes for English and German are torch.Size([33, 128]) and torch.Size([31, 128]) respectively.\n",
            "Batch sizes for English and German are torch.Size([29, 128]) and torch.Size([28, 128]) respectively.\n"
          ]
        },
        {
          "output_type": "stream",
          "name": "stderr",
          "text": [
            "\rModel training in progress...:  40%|████      | 91/227 [00:15<00:21,  6.35it/s]"
          ]
        },
        {
          "output_type": "stream",
          "name": "stdout",
          "text": [
            "Batch sizes for English and German are torch.Size([41, 128]) and torch.Size([34, 128]) respectively.\n"
          ]
        },
        {
          "output_type": "stream",
          "name": "stderr",
          "text": [
            "Model training in progress...:  41%|████      | 93/227 [00:15<00:24,  5.45it/s]"
          ]
        },
        {
          "output_type": "stream",
          "name": "stdout",
          "text": [
            "Batch sizes for English and German are torch.Size([35, 128]) and torch.Size([32, 128]) respectively.\n",
            "Batch sizes for English and German are torch.Size([26, 128]) and torch.Size([25, 128]) respectively.\n"
          ]
        },
        {
          "output_type": "stream",
          "name": "stderr",
          "text": [
            "Model training in progress...:  42%|████▏     | 95/227 [00:15<00:23,  5.68it/s]"
          ]
        },
        {
          "output_type": "stream",
          "name": "stdout",
          "text": [
            "Batch sizes for English and German are torch.Size([34, 128]) and torch.Size([26, 128]) respectively.\n",
            "Batch sizes for English and German are torch.Size([27, 128]) and torch.Size([25, 128]) respectively.\n"
          ]
        },
        {
          "output_type": "stream",
          "name": "stderr",
          "text": [
            "Model training in progress...:  43%|████▎     | 97/227 [00:16<00:20,  6.23it/s]"
          ]
        },
        {
          "output_type": "stream",
          "name": "stdout",
          "text": [
            "Batch sizes for English and German are torch.Size([27, 128]) and torch.Size([24, 128]) respectively.\n",
            "Batch sizes for English and German are torch.Size([34, 128]) and torch.Size([29, 128]) respectively.\n"
          ]
        },
        {
          "output_type": "stream",
          "name": "stderr",
          "text": [
            "Model training in progress...:  44%|████▎     | 99/227 [00:16<00:22,  5.60it/s]"
          ]
        },
        {
          "output_type": "stream",
          "name": "stdout",
          "text": [
            "Batch sizes for English and German are torch.Size([37, 128]) and torch.Size([38, 128]) respectively.\n"
          ]
        },
        {
          "output_type": "stream",
          "name": "stderr",
          "text": [
            "\rModel training in progress...:  44%|████▍     | 100/227 [00:16<00:22,  5.74it/s]"
          ]
        },
        {
          "output_type": "stream",
          "name": "stdout",
          "text": [
            "Batch sizes for English and German are torch.Size([29, 128]) and torch.Size([30, 128]) respectively.\n",
            "Batch sizes for English and German are torch.Size([42, 128]) and torch.Size([41, 128]) respectively.\n"
          ]
        },
        {
          "output_type": "stream",
          "name": "stderr",
          "text": [
            "Model training in progress...:  45%|████▍     | 102/227 [00:17<00:21,  5.81it/s]"
          ]
        },
        {
          "output_type": "stream",
          "name": "stdout",
          "text": [
            "Batch sizes for English and German are torch.Size([24, 128]) and torch.Size([23, 128]) respectively.\n",
            "Batch sizes for English and German are torch.Size([32, 128]) and torch.Size([28, 128]) respectively.\n"
          ]
        },
        {
          "output_type": "stream",
          "name": "stderr",
          "text": [
            "Model training in progress...:  46%|████▌     | 104/227 [00:17<00:20,  6.02it/s]"
          ]
        },
        {
          "output_type": "stream",
          "name": "stdout",
          "text": [
            "Batch sizes for English and German are torch.Size([27, 128]) and torch.Size([29, 128]) respectively.\n",
            "Batch sizes for English and German are torch.Size([29, 128]) and torch.Size([29, 128]) respectively.\n"
          ]
        },
        {
          "output_type": "stream",
          "name": "stderr",
          "text": [
            "Model training in progress...:  47%|████▋     | 106/227 [00:17<00:21,  5.64it/s]"
          ]
        },
        {
          "output_type": "stream",
          "name": "stdout",
          "text": [
            "Batch sizes for English and German are torch.Size([37, 128]) and torch.Size([36, 128]) respectively.\n"
          ]
        },
        {
          "output_type": "stream",
          "name": "stderr",
          "text": [
            "\rModel training in progress...:  47%|████▋     | 107/227 [00:18<00:22,  5.43it/s]"
          ]
        },
        {
          "output_type": "stream",
          "name": "stdout",
          "text": [
            "Batch sizes for English and German are torch.Size([36, 128]) and torch.Size([37, 128]) respectively.\n"
          ]
        },
        {
          "output_type": "stream",
          "name": "stderr",
          "text": [
            "\rModel training in progress...:  48%|████▊     | 108/227 [00:18<00:20,  5.83it/s]"
          ]
        },
        {
          "output_type": "stream",
          "name": "stdout",
          "text": [
            "Batch sizes for English and German are torch.Size([25, 128]) and torch.Size([25, 128]) respectively.\n",
            "Batch sizes for English and German are torch.Size([30, 128]) and torch.Size([27, 128]) respectively.\n"
          ]
        },
        {
          "output_type": "stream",
          "name": "stderr",
          "text": [
            "Model training in progress...:  48%|████▊     | 110/227 [00:18<00:19,  5.94it/s]"
          ]
        },
        {
          "output_type": "stream",
          "name": "stdout",
          "text": [
            "Batch sizes for English and German are torch.Size([30, 128]) and torch.Size([29, 128]) respectively.\n",
            "Batch sizes for English and German are torch.Size([31, 128]) and torch.Size([26, 128]) respectively.\n"
          ]
        },
        {
          "output_type": "stream",
          "name": "stderr",
          "text": [
            "\rModel training in progress...:  49%|████▉     | 111/227 [00:18<00:19,  5.92it/s]"
          ]
        },
        {
          "output_type": "stream",
          "name": "stdout",
          "text": [
            "Batch sizes for English and German are torch.Size([41, 128]) and torch.Size([45, 128]) respectively.\n"
          ]
        },
        {
          "output_type": "stream",
          "name": "stderr",
          "text": [
            "Model training in progress...:  50%|████▉     | 113/227 [00:19<00:21,  5.43it/s]"
          ]
        },
        {
          "output_type": "stream",
          "name": "stdout",
          "text": [
            "Batch sizes for English and German are torch.Size([33, 128]) and torch.Size([32, 128]) respectively.\n",
            "Batch sizes for English and German are torch.Size([28, 128]) and torch.Size([31, 128]) respectively.\n"
          ]
        },
        {
          "output_type": "stream",
          "name": "stderr",
          "text": [
            "Model training in progress...:  51%|█████     | 115/227 [00:19<00:18,  5.96it/s]"
          ]
        },
        {
          "output_type": "stream",
          "name": "stdout",
          "text": [
            "Batch sizes for English and German are torch.Size([27, 128]) and torch.Size([29, 128]) respectively.\n",
            "Batch sizes for English and German are torch.Size([35, 128]) and torch.Size([33, 128]) respectively.\n"
          ]
        },
        {
          "output_type": "stream",
          "name": "stderr",
          "text": [
            "Model training in progress...:  52%|█████▏    | 117/227 [00:19<00:19,  5.68it/s]"
          ]
        },
        {
          "output_type": "stream",
          "name": "stdout",
          "text": [
            "Batch sizes for English and German are torch.Size([32, 128]) and torch.Size([32, 128]) respectively.\n",
            "Batch sizes for English and German are torch.Size([31, 128]) and torch.Size([30, 128]) respectively.\n"
          ]
        },
        {
          "output_type": "stream",
          "name": "stderr",
          "text": [
            "Model training in progress...:  52%|█████▏    | 119/227 [00:20<00:18,  5.82it/s]"
          ]
        },
        {
          "output_type": "stream",
          "name": "stdout",
          "text": [
            "Batch sizes for English and German are torch.Size([31, 128]) and torch.Size([34, 128]) respectively.\n",
            "Batch sizes for English and German are torch.Size([38, 128]) and torch.Size([29, 128]) respectively.\n"
          ]
        },
        {
          "output_type": "stream",
          "name": "stderr",
          "text": [
            "Model training in progress...:  53%|█████▎    | 121/227 [00:20<00:17,  5.95it/s]"
          ]
        },
        {
          "output_type": "stream",
          "name": "stdout",
          "text": [
            "Batch sizes for English and German are torch.Size([24, 128]) and torch.Size([29, 128]) respectively.\n",
            "Batch sizes for English and German are torch.Size([30, 128]) and torch.Size([33, 128]) respectively.\n"
          ]
        },
        {
          "output_type": "stream",
          "name": "stderr",
          "text": [
            "Model training in progress...:  54%|█████▍    | 123/227 [00:20<00:17,  5.89it/s]"
          ]
        },
        {
          "output_type": "stream",
          "name": "stdout",
          "text": [
            "Batch sizes for English and German are torch.Size([32, 128]) and torch.Size([28, 128]) respectively.\n",
            "Batch sizes for English and German are torch.Size([29, 128]) and torch.Size([31, 128]) respectively.\n"
          ]
        },
        {
          "output_type": "stream",
          "name": "stderr",
          "text": [
            "\rModel training in progress...:  55%|█████▍    | 124/227 [00:20<00:17,  5.99it/s]"
          ]
        },
        {
          "output_type": "stream",
          "name": "stdout",
          "text": [
            "Batch sizes for English and German are torch.Size([40, 128]) and torch.Size([37, 128]) respectively.\n"
          ]
        },
        {
          "output_type": "stream",
          "name": "stderr",
          "text": [
            "Model training in progress...:  56%|█████▌    | 126/227 [00:21<00:17,  5.91it/s]"
          ]
        },
        {
          "output_type": "stream",
          "name": "stdout",
          "text": [
            "Batch sizes for English and German are torch.Size([24, 128]) and torch.Size([27, 128]) respectively.\n",
            "Batch sizes for English and German are torch.Size([29, 128]) and torch.Size([26, 128]) respectively.\n"
          ]
        },
        {
          "output_type": "stream",
          "name": "stderr",
          "text": [
            "Model training in progress...:  56%|█████▋    | 128/227 [00:21<00:16,  5.85it/s]"
          ]
        },
        {
          "output_type": "stream",
          "name": "stdout",
          "text": [
            "Batch sizes for English and German are torch.Size([34, 128]) and torch.Size([29, 128]) respectively.\n",
            "Batch sizes for English and German are torch.Size([26, 128]) and torch.Size([23, 128]) respectively.\n"
          ]
        },
        {
          "output_type": "stream",
          "name": "stderr",
          "text": [
            "Model training in progress...:  57%|█████▋    | 130/227 [00:21<00:15,  6.32it/s]"
          ]
        },
        {
          "output_type": "stream",
          "name": "stdout",
          "text": [
            "Batch sizes for English and German are torch.Size([27, 128]) and torch.Size([28, 128]) respectively.\n",
            "Batch sizes for English and German are torch.Size([26, 128]) and torch.Size([28, 128]) respectively.\n"
          ]
        },
        {
          "output_type": "stream",
          "name": "stderr",
          "text": [
            "Model training in progress...:  58%|█████▊    | 132/227 [00:22<00:14,  6.45it/s]"
          ]
        },
        {
          "output_type": "stream",
          "name": "stdout",
          "text": [
            "Batch sizes for English and German are torch.Size([30, 128]) and torch.Size([27, 128]) respectively.\n",
            "Batch sizes for English and German are torch.Size([34, 128]) and torch.Size([34, 128]) respectively.\n"
          ]
        },
        {
          "output_type": "stream",
          "name": "stderr",
          "text": [
            "Model training in progress...:  59%|█████▉    | 134/227 [00:22<00:15,  6.08it/s]"
          ]
        },
        {
          "output_type": "stream",
          "name": "stdout",
          "text": [
            "Batch sizes for English and German are torch.Size([31, 128]) and torch.Size([27, 128]) respectively.\n",
            "Batch sizes for English and German are torch.Size([31, 128]) and torch.Size([29, 128]) respectively.\n"
          ]
        },
        {
          "output_type": "stream",
          "name": "stderr",
          "text": [
            "Model training in progress...:  60%|█████▉    | 136/227 [00:22<00:15,  5.94it/s]"
          ]
        },
        {
          "output_type": "stream",
          "name": "stdout",
          "text": [
            "Batch sizes for English and German are torch.Size([31, 128]) and torch.Size([30, 128]) respectively.\n",
            "Batch sizes for English and German are torch.Size([29, 128]) and torch.Size([29, 128]) respectively.\n"
          ]
        },
        {
          "output_type": "stream",
          "name": "stderr",
          "text": [
            "Model training in progress...:  61%|██████    | 138/227 [00:23<00:14,  5.94it/s]"
          ]
        },
        {
          "output_type": "stream",
          "name": "stdout",
          "text": [
            "Batch sizes for English and German are torch.Size([31, 128]) and torch.Size([31, 128]) respectively.\n",
            "Batch sizes for English and German are torch.Size([26, 128]) and torch.Size([34, 128]) respectively.\n"
          ]
        },
        {
          "output_type": "stream",
          "name": "stderr",
          "text": [
            "Model training in progress...:  62%|██████▏   | 140/227 [00:23<00:15,  5.72it/s]"
          ]
        },
        {
          "output_type": "stream",
          "name": "stdout",
          "text": [
            "Batch sizes for English and German are torch.Size([37, 128]) and torch.Size([38, 128]) respectively.\n"
          ]
        },
        {
          "output_type": "stream",
          "name": "stderr",
          "text": [
            "\rModel training in progress...:  62%|██████▏   | 141/227 [00:23<00:14,  5.92it/s]"
          ]
        },
        {
          "output_type": "stream",
          "name": "stdout",
          "text": [
            "Batch sizes for English and German are torch.Size([27, 128]) and torch.Size([30, 128]) respectively.\n",
            "Batch sizes for English and German are torch.Size([25, 128]) and torch.Size([27, 128]) respectively.\n"
          ]
        },
        {
          "output_type": "stream",
          "name": "stderr",
          "text": [
            "\rModel training in progress...:  63%|██████▎   | 142/227 [00:23<00:13,  6.12it/s]"
          ]
        },
        {
          "output_type": "stream",
          "name": "stdout",
          "text": [
            "Batch sizes for English and German are torch.Size([40, 128]) and torch.Size([35, 128]) respectively.\n"
          ]
        },
        {
          "output_type": "stream",
          "name": "stderr",
          "text": [
            "Model training in progress...:  63%|██████▎   | 144/227 [00:24<00:15,  5.27it/s]"
          ]
        },
        {
          "output_type": "stream",
          "name": "stdout",
          "text": [
            "Batch sizes for English and German are torch.Size([37, 128]) and torch.Size([38, 128]) respectively.\n"
          ]
        },
        {
          "output_type": "stream",
          "name": "stderr",
          "text": [
            "\rModel training in progress...:  64%|██████▍   | 145/227 [00:24<00:14,  5.69it/s]"
          ]
        },
        {
          "output_type": "stream",
          "name": "stdout",
          "text": [
            "Batch sizes for English and German are torch.Size([25, 128]) and torch.Size([29, 128]) respectively.\n",
            "Batch sizes for English and German are torch.Size([36, 128]) and torch.Size([29, 128]) respectively.\n"
          ]
        },
        {
          "output_type": "stream",
          "name": "stderr",
          "text": [
            "Model training in progress...:  65%|██████▍   | 147/227 [00:24<00:14,  5.58it/s]"
          ]
        },
        {
          "output_type": "stream",
          "name": "stdout",
          "text": [
            "Batch sizes for English and German are torch.Size([30, 128]) and torch.Size([30, 128]) respectively.\n",
            "Batch sizes for English and German are torch.Size([32, 128]) and torch.Size([32, 128]) respectively.\n"
          ]
        },
        {
          "output_type": "stream",
          "name": "stderr",
          "text": [
            "Model training in progress...:  66%|██████▌   | 149/227 [00:25<00:14,  5.55it/s]"
          ]
        },
        {
          "output_type": "stream",
          "name": "stdout",
          "text": [
            "Batch sizes for English and German are torch.Size([30, 128]) and torch.Size([26, 128]) respectively.\n",
            "Batch sizes for English and German are torch.Size([28, 128]) and torch.Size([27, 128]) respectively.\n"
          ]
        },
        {
          "output_type": "stream",
          "name": "stderr",
          "text": [
            "Model training in progress...:  67%|██████▋   | 151/227 [00:25<00:12,  5.92it/s]"
          ]
        },
        {
          "output_type": "stream",
          "name": "stdout",
          "text": [
            "Batch sizes for English and German are torch.Size([27, 128]) and torch.Size([28, 128]) respectively.\n",
            "Batch sizes for English and German are torch.Size([28, 128]) and torch.Size([29, 128]) respectively.\n"
          ]
        },
        {
          "output_type": "stream",
          "name": "stderr",
          "text": [
            "Model training in progress...:  67%|██████▋   | 153/227 [00:25<00:12,  5.91it/s]"
          ]
        },
        {
          "output_type": "stream",
          "name": "stdout",
          "text": [
            "Batch sizes for English and German are torch.Size([32, 128]) and torch.Size([32, 128]) respectively.\n",
            "Batch sizes for English and German are torch.Size([26, 128]) and torch.Size([27, 128]) respectively.\n"
          ]
        },
        {
          "output_type": "stream",
          "name": "stderr",
          "text": [
            "Model training in progress...:  68%|██████▊   | 155/227 [00:26<00:12,  5.68it/s]"
          ]
        },
        {
          "output_type": "stream",
          "name": "stdout",
          "text": [
            "Batch sizes for English and German are torch.Size([38, 128]) and torch.Size([36, 128]) respectively.\n"
          ]
        },
        {
          "output_type": "stream",
          "name": "stderr",
          "text": [
            "\rModel training in progress...:  69%|██████▊   | 156/227 [00:26<00:12,  5.51it/s]"
          ]
        },
        {
          "output_type": "stream",
          "name": "stdout",
          "text": [
            "Batch sizes for English and German are torch.Size([35, 128]) and torch.Size([35, 128]) respectively.\n",
            "Batch sizes for English and German are torch.Size([32, 128]) and torch.Size([28, 128]) respectively.\n"
          ]
        },
        {
          "output_type": "stream",
          "name": "stderr",
          "text": [
            "Model training in progress...:  70%|██████▉   | 158/227 [00:26<00:12,  5.65it/s]"
          ]
        },
        {
          "output_type": "stream",
          "name": "stdout",
          "text": [
            "Batch sizes for English and German are torch.Size([30, 128]) and torch.Size([26, 128]) respectively.\n",
            "Batch sizes for English and German are torch.Size([29, 128]) and torch.Size([27, 128]) respectively.\n"
          ]
        },
        {
          "output_type": "stream",
          "name": "stderr",
          "text": [
            "Model training in progress...:  70%|███████   | 160/227 [00:27<00:11,  6.04it/s]"
          ]
        },
        {
          "output_type": "stream",
          "name": "stdout",
          "text": [
            "Batch sizes for English and German are torch.Size([27, 128]) and torch.Size([26, 128]) respectively.\n",
            "Batch sizes for English and German are torch.Size([28, 128]) and torch.Size([27, 128]) respectively.\n"
          ]
        },
        {
          "output_type": "stream",
          "name": "stderr",
          "text": [
            "Model training in progress...:  71%|███████▏  | 162/227 [00:27<00:10,  6.10it/s]"
          ]
        },
        {
          "output_type": "stream",
          "name": "stdout",
          "text": [
            "Batch sizes for English and German are torch.Size([32, 128]) and torch.Size([28, 128]) respectively.\n",
            "Batch sizes for English and German are torch.Size([26, 128]) and torch.Size([27, 128]) respectively.\n"
          ]
        },
        {
          "output_type": "stream",
          "name": "stderr",
          "text": [
            "Model training in progress...:  72%|███████▏  | 164/227 [00:27<00:10,  6.20it/s]"
          ]
        },
        {
          "output_type": "stream",
          "name": "stdout",
          "text": [
            "Batch sizes for English and German are torch.Size([32, 128]) and torch.Size([29, 128]) respectively.\n",
            "Batch sizes for English and German are torch.Size([33, 128]) and torch.Size([30, 128]) respectively.\n"
          ]
        },
        {
          "output_type": "stream",
          "name": "stderr",
          "text": [
            "Model training in progress...:  73%|███████▎  | 166/227 [00:28<00:09,  6.34it/s]"
          ]
        },
        {
          "output_type": "stream",
          "name": "stdout",
          "text": [
            "Batch sizes for English and German are torch.Size([26, 128]) and torch.Size([25, 128]) respectively.\n",
            "Batch sizes for English and German are torch.Size([26, 128]) and torch.Size([25, 128]) respectively.\n"
          ]
        },
        {
          "output_type": "stream",
          "name": "stderr",
          "text": [
            "Model training in progress...:  74%|███████▍  | 168/227 [00:28<00:08,  6.57it/s]"
          ]
        },
        {
          "output_type": "stream",
          "name": "stdout",
          "text": [
            "Batch sizes for English and German are torch.Size([28, 128]) and torch.Size([27, 128]) respectively.\n",
            "Batch sizes for English and German are torch.Size([27, 128]) and torch.Size([28, 128]) respectively.\n"
          ]
        },
        {
          "output_type": "stream",
          "name": "stderr",
          "text": [
            "Model training in progress...:  75%|███████▍  | 170/227 [00:28<00:09,  6.13it/s]"
          ]
        },
        {
          "output_type": "stream",
          "name": "stdout",
          "text": [
            "Batch sizes for English and German are torch.Size([34, 128]) and torch.Size([32, 128]) respectively.\n",
            "Batch sizes for English and German are torch.Size([31, 128]) and torch.Size([33, 128]) respectively.\n"
          ]
        },
        {
          "output_type": "stream",
          "name": "stderr",
          "text": [
            "Model training in progress...:  76%|███████▌  | 172/227 [00:29<00:09,  5.59it/s]"
          ]
        },
        {
          "output_type": "stream",
          "name": "stdout",
          "text": [
            "Batch sizes for English and German are torch.Size([37, 128]) and torch.Size([46, 128]) respectively.\n"
          ]
        },
        {
          "output_type": "stream",
          "name": "stderr",
          "text": [
            "\rModel training in progress...:  76%|███████▌  | 173/227 [00:29<00:09,  5.96it/s]"
          ]
        },
        {
          "output_type": "stream",
          "name": "stdout",
          "text": [
            "Batch sizes for English and German are torch.Size([25, 128]) and torch.Size([29, 128]) respectively.\n",
            "Batch sizes for English and German are torch.Size([27, 128]) and torch.Size([27, 128]) respectively.\n"
          ]
        },
        {
          "output_type": "stream",
          "name": "stderr",
          "text": [
            "Model training in progress...:  77%|███████▋  | 175/227 [00:29<00:08,  6.44it/s]"
          ]
        },
        {
          "output_type": "stream",
          "name": "stdout",
          "text": [
            "Batch sizes for English and German are torch.Size([25, 128]) and torch.Size([24, 128]) respectively.\n",
            "Batch sizes for English and German are torch.Size([30, 128]) and torch.Size([29, 128]) respectively.\n"
          ]
        },
        {
          "output_type": "stream",
          "name": "stderr",
          "text": [
            "Model training in progress...:  78%|███████▊  | 177/227 [00:29<00:07,  6.35it/s]"
          ]
        },
        {
          "output_type": "stream",
          "name": "stdout",
          "text": [
            "Batch sizes for English and German are torch.Size([28, 128]) and torch.Size([28, 128]) respectively.\n",
            "Batch sizes for English and German are torch.Size([27, 128]) and torch.Size([25, 128]) respectively.\n"
          ]
        },
        {
          "output_type": "stream",
          "name": "stderr",
          "text": [
            "Model training in progress...:  79%|███████▉  | 179/227 [00:30<00:08,  5.92it/s]"
          ]
        },
        {
          "output_type": "stream",
          "name": "stdout",
          "text": [
            "Batch sizes for English and German are torch.Size([36, 128]) and torch.Size([38, 128]) respectively.\n"
          ]
        },
        {
          "output_type": "stream",
          "name": "stderr",
          "text": [
            "\rModel training in progress...:  79%|███████▉  | 180/227 [00:30<00:08,  5.84it/s]"
          ]
        },
        {
          "output_type": "stream",
          "name": "stdout",
          "text": [
            "Batch sizes for English and German are torch.Size([32, 128]) and torch.Size([37, 128]) respectively.\n",
            "Batch sizes for English and German are torch.Size([35, 128]) and torch.Size([36, 128]) respectively.\n"
          ]
        },
        {
          "output_type": "stream",
          "name": "stderr",
          "text": [
            "Model training in progress...:  80%|████████  | 182/227 [00:30<00:07,  5.91it/s]"
          ]
        },
        {
          "output_type": "stream",
          "name": "stdout",
          "text": [
            "Batch sizes for English and German are torch.Size([28, 128]) and torch.Size([28, 128]) respectively.\n",
            "Batch sizes for English and German are torch.Size([33, 128]) and torch.Size([34, 128]) respectively.\n"
          ]
        },
        {
          "output_type": "stream",
          "name": "stderr",
          "text": [
            "Model training in progress...:  81%|████████  | 184/227 [00:30<00:06,  6.23it/s]"
          ]
        },
        {
          "output_type": "stream",
          "name": "stdout",
          "text": [
            "Batch sizes for English and German are torch.Size([24, 128]) and torch.Size([27, 128]) respectively.\n",
            "Batch sizes for English and German are torch.Size([34, 128]) and torch.Size([32, 128]) respectively.\n"
          ]
        },
        {
          "output_type": "stream",
          "name": "stderr",
          "text": [
            "\rModel training in progress...:  81%|████████▏ | 185/227 [00:31<00:07,  5.95it/s]"
          ]
        },
        {
          "output_type": "stream",
          "name": "stdout",
          "text": [
            "Batch sizes for English and German are torch.Size([40, 128]) and torch.Size([37, 128]) respectively.\n"
          ]
        },
        {
          "output_type": "stream",
          "name": "stderr",
          "text": [
            "Model training in progress...:  82%|████████▏ | 187/227 [00:31<00:07,  5.42it/s]"
          ]
        },
        {
          "output_type": "stream",
          "name": "stdout",
          "text": [
            "Batch sizes for English and German are torch.Size([33, 128]) and torch.Size([35, 128]) respectively.\n",
            "Batch sizes for English and German are torch.Size([29, 128]) and torch.Size([26, 128]) respectively.\n"
          ]
        },
        {
          "output_type": "stream",
          "name": "stderr",
          "text": [
            "Model training in progress...:  83%|████████▎ | 189/227 [00:31<00:06,  5.68it/s]"
          ]
        },
        {
          "output_type": "stream",
          "name": "stdout",
          "text": [
            "Batch sizes for English and German are torch.Size([32, 128]) and torch.Size([32, 128]) respectively.\n",
            "Batch sizes for English and German are torch.Size([26, 128]) and torch.Size([27, 128]) respectively.\n"
          ]
        },
        {
          "output_type": "stream",
          "name": "stderr",
          "text": [
            "Model training in progress...:  84%|████████▍ | 191/227 [00:32<00:05,  6.03it/s]"
          ]
        },
        {
          "output_type": "stream",
          "name": "stdout",
          "text": [
            "Batch sizes for English and German are torch.Size([31, 128]) and torch.Size([26, 128]) respectively.\n",
            "Batch sizes for English and German are torch.Size([30, 128]) and torch.Size([30, 128]) respectively.\n"
          ]
        },
        {
          "output_type": "stream",
          "name": "stderr",
          "text": [
            "Model training in progress...:  85%|████████▌ | 193/227 [00:32<00:05,  6.29it/s]"
          ]
        },
        {
          "output_type": "stream",
          "name": "stdout",
          "text": [
            "Batch sizes for English and German are torch.Size([26, 128]) and torch.Size([26, 128]) respectively.\n",
            "Batch sizes for English and German are torch.Size([30, 128]) and torch.Size([32, 128]) respectively.\n"
          ]
        },
        {
          "output_type": "stream",
          "name": "stderr",
          "text": [
            "Model training in progress...:  86%|████████▌ | 195/227 [00:32<00:05,  6.17it/s]"
          ]
        },
        {
          "output_type": "stream",
          "name": "stdout",
          "text": [
            "Batch sizes for English and German are torch.Size([29, 128]) and torch.Size([32, 128]) respectively.\n",
            "Batch sizes for English and German are torch.Size([32, 128]) and torch.Size([27, 128]) respectively.\n"
          ]
        },
        {
          "output_type": "stream",
          "name": "stderr",
          "text": [
            "Model training in progress...:  87%|████████▋ | 197/227 [00:33<00:04,  6.11it/s]"
          ]
        },
        {
          "output_type": "stream",
          "name": "stdout",
          "text": [
            "Batch sizes for English and German are torch.Size([29, 128]) and torch.Size([31, 128]) respectively.\n",
            "Batch sizes for English and German are torch.Size([28, 128]) and torch.Size([28, 128]) respectively.\n"
          ]
        },
        {
          "output_type": "stream",
          "name": "stderr",
          "text": [
            "Model training in progress...:  88%|████████▊ | 199/227 [00:33<00:04,  5.94it/s]"
          ]
        },
        {
          "output_type": "stream",
          "name": "stdout",
          "text": [
            "Batch sizes for English and German are torch.Size([34, 128]) and torch.Size([30, 128]) respectively.\n",
            "Batch sizes for English and German are torch.Size([28, 128]) and torch.Size([36, 128]) respectively.\n"
          ]
        },
        {
          "output_type": "stream",
          "name": "stderr",
          "text": [
            "Model training in progress...:  89%|████████▊ | 201/227 [00:33<00:04,  6.01it/s]"
          ]
        },
        {
          "output_type": "stream",
          "name": "stdout",
          "text": [
            "Batch sizes for English and German are torch.Size([31, 128]) and torch.Size([31, 128]) respectively.\n",
            "Batch sizes for English and German are torch.Size([28, 128]) and torch.Size([26, 128]) respectively.\n"
          ]
        },
        {
          "output_type": "stream",
          "name": "stderr",
          "text": [
            "Model training in progress...:  89%|████████▉ | 203/227 [00:34<00:03,  6.11it/s]"
          ]
        },
        {
          "output_type": "stream",
          "name": "stdout",
          "text": [
            "Batch sizes for English and German are torch.Size([30, 128]) and torch.Size([30, 128]) respectively.\n",
            "Batch sizes for English and German are torch.Size([29, 128]) and torch.Size([28, 128]) respectively.\n"
          ]
        },
        {
          "output_type": "stream",
          "name": "stderr",
          "text": [
            "Model training in progress...:  90%|█████████ | 205/227 [00:34<00:03,  6.29it/s]"
          ]
        },
        {
          "output_type": "stream",
          "name": "stdout",
          "text": [
            "Batch sizes for English and German are torch.Size([28, 128]) and torch.Size([31, 128]) respectively.\n",
            "Batch sizes for English and German are torch.Size([37, 128]) and torch.Size([36, 128]) respectively.\n"
          ]
        },
        {
          "output_type": "stream",
          "name": "stderr",
          "text": [
            "Model training in progress...:  91%|█████████ | 207/227 [00:34<00:03,  5.99it/s]"
          ]
        },
        {
          "output_type": "stream",
          "name": "stdout",
          "text": [
            "Batch sizes for English and German are torch.Size([29, 128]) and torch.Size([32, 128]) respectively.\n",
            "Batch sizes for English and German are torch.Size([27, 128]) and torch.Size([32, 128]) respectively.\n"
          ]
        },
        {
          "output_type": "stream",
          "name": "stderr",
          "text": [
            "Model training in progress...:  92%|█████████▏| 209/227 [00:35<00:02,  6.19it/s]"
          ]
        },
        {
          "output_type": "stream",
          "name": "stdout",
          "text": [
            "Batch sizes for English and German are torch.Size([30, 128]) and torch.Size([27, 128]) respectively.\n",
            "Batch sizes for English and German are torch.Size([28, 128]) and torch.Size([27, 128]) respectively.\n"
          ]
        },
        {
          "output_type": "stream",
          "name": "stderr",
          "text": [
            "Model training in progress...:  93%|█████████▎| 211/227 [00:35<00:02,  6.11it/s]"
          ]
        },
        {
          "output_type": "stream",
          "name": "stdout",
          "text": [
            "Batch sizes for English and German are torch.Size([31, 128]) and torch.Size([28, 128]) respectively.\n",
            "Batch sizes for English and German are torch.Size([28, 128]) and torch.Size([28, 128]) respectively.\n"
          ]
        },
        {
          "output_type": "stream",
          "name": "stderr",
          "text": [
            "Model training in progress...:  94%|█████████▍| 213/227 [00:35<00:02,  6.27it/s]"
          ]
        },
        {
          "output_type": "stream",
          "name": "stdout",
          "text": [
            "Batch sizes for English and German are torch.Size([27, 128]) and torch.Size([28, 128]) respectively.\n",
            "Batch sizes for English and German are torch.Size([29, 128]) and torch.Size([33, 128]) respectively.\n"
          ]
        },
        {
          "output_type": "stream",
          "name": "stderr",
          "text": [
            "Model training in progress...:  95%|█████████▍| 215/227 [00:36<00:01,  6.06it/s]"
          ]
        },
        {
          "output_type": "stream",
          "name": "stdout",
          "text": [
            "Batch sizes for English and German are torch.Size([31, 128]) and torch.Size([26, 128]) respectively.\n",
            "Batch sizes for English and German are torch.Size([25, 128]) and torch.Size([27, 128]) respectively.\n"
          ]
        },
        {
          "output_type": "stream",
          "name": "stderr",
          "text": [
            "Model training in progress...:  96%|█████████▌| 217/227 [00:36<00:01,  6.40it/s]"
          ]
        },
        {
          "output_type": "stream",
          "name": "stdout",
          "text": [
            "Batch sizes for English and German are torch.Size([27, 128]) and torch.Size([29, 128]) respectively.\n",
            "Batch sizes for English and German are torch.Size([28, 128]) and torch.Size([30, 128]) respectively.\n"
          ]
        },
        {
          "output_type": "stream",
          "name": "stderr",
          "text": [
            "Model training in progress...:  96%|█████████▋| 219/227 [00:36<00:01,  6.43it/s]"
          ]
        },
        {
          "output_type": "stream",
          "name": "stdout",
          "text": [
            "Batch sizes for English and German are torch.Size([26, 128]) and torch.Size([30, 128]) respectively.\n",
            "Batch sizes for English and German are torch.Size([25, 128]) and torch.Size([24, 128]) respectively.\n"
          ]
        },
        {
          "output_type": "stream",
          "name": "stderr",
          "text": [
            "Model training in progress...:  97%|█████████▋| 221/227 [00:37<00:00,  6.32it/s]"
          ]
        },
        {
          "output_type": "stream",
          "name": "stdout",
          "text": [
            "Batch sizes for English and German are torch.Size([31, 128]) and torch.Size([33, 128]) respectively.\n",
            "Batch sizes for English and German are torch.Size([24, 128]) and torch.Size([29, 128]) respectively.\n"
          ]
        },
        {
          "output_type": "stream",
          "name": "stderr",
          "text": [
            "Model training in progress...:  98%|█████████▊| 223/227 [00:37<00:00,  6.26it/s]"
          ]
        },
        {
          "output_type": "stream",
          "name": "stdout",
          "text": [
            "Batch sizes for English and German are torch.Size([31, 128]) and torch.Size([36, 128]) respectively.\n",
            "Batch sizes for English and German are torch.Size([27, 128]) and torch.Size([29, 128]) respectively.\n"
          ]
        },
        {
          "output_type": "stream",
          "name": "stderr",
          "text": [
            "Model training in progress...:  99%|█████████▉| 225/227 [00:37<00:00,  6.32it/s]"
          ]
        },
        {
          "output_type": "stream",
          "name": "stdout",
          "text": [
            "Batch sizes for English and German are torch.Size([27, 128]) and torch.Size([26, 128]) respectively.\n",
            "Batch sizes for English and German are torch.Size([29, 128]) and torch.Size([32, 128]) respectively.\n"
          ]
        },
        {
          "output_type": "stream",
          "name": "stderr",
          "text": [
            "Model training in progress...: 100%|██████████| 227/227 [00:37<00:00,  5.98it/s]\n"
          ]
        },
        {
          "output_type": "stream",
          "name": "stdout",
          "text": [
            "Batch sizes for English and German are torch.Size([26, 72]) and torch.Size([24, 72]) respectively.\n"
          ]
        },
        {
          "output_type": "stream",
          "name": "stderr",
          "text": [
            "\rModel validation in progress...:   0%|          | 0/8 [00:00<?, ?it/s]"
          ]
        },
        {
          "output_type": "stream",
          "name": "stdout",
          "text": [
            "Batch sizes for English and German are torch.Size([34, 128]) and torch.Size([30, 128]) respectively.\n",
            "Batch sizes for English and German are torch.Size([26, 128]) and torch.Size([23, 128]) respectively.\n"
          ]
        },
        {
          "output_type": "stream",
          "name": "stderr",
          "text": [
            "\rModel validation in progress...:  25%|██▌       | 2/8 [00:00<00:00, 12.97it/s]"
          ]
        },
        {
          "output_type": "stream",
          "name": "stdout",
          "text": [
            "Batch sizes for English and German are torch.Size([29, 128]) and torch.Size([27, 128]) respectively.\n"
          ]
        },
        {
          "output_type": "stream",
          "name": "stderr",
          "text": [
            "\rModel validation in progress...:  50%|█████     | 4/8 [00:00<00:00, 13.15it/s]"
          ]
        },
        {
          "output_type": "stream",
          "name": "stdout",
          "text": [
            "Batch sizes for English and German are torch.Size([30, 128]) and torch.Size([32, 128]) respectively.\n",
            "Batch sizes for English and German are torch.Size([33, 128]) and torch.Size([35, 128]) respectively.\n",
            "Batch sizes for English and German are torch.Size([28, 128]) and torch.Size([25, 128]) respectively.\n"
          ]
        },
        {
          "output_type": "stream",
          "name": "stderr",
          "text": [
            "Model validation in progress...: 100%|██████████| 8/8 [00:00<00:00, 13.60it/s]"
          ]
        },
        {
          "output_type": "stream",
          "name": "stdout",
          "text": [
            "Batch sizes for English and German are torch.Size([25, 128]) and torch.Size([25, 128]) respectively.\n",
            "Batch sizes for English and German are torch.Size([30, 118]) and torch.Size([34, 118]) respectively.\n"
          ]
        },
        {
          "output_type": "stream",
          "name": "stderr",
          "text": [
            "\n"
          ]
        },
        {
          "output_type": "stream",
          "name": "stdout",
          "text": [
            "Epoch: 7\n",
            "Training loss: 3.373\n",
            "Validation loss: 4.074\n",
            "\n",
            "\n"
          ]
        },
        {
          "output_type": "stream",
          "name": "stderr",
          "text": [
            "Model training in progress...:   0%|          | 1/227 [00:00<00:34,  6.48it/s]"
          ]
        },
        {
          "output_type": "stream",
          "name": "stdout",
          "text": [
            "Batch sizes for English and German are torch.Size([28, 128]) and torch.Size([23, 128]) respectively.\n",
            "Batch sizes for English and German are torch.Size([30, 128]) and torch.Size([31, 128]) respectively.\n"
          ]
        },
        {
          "output_type": "stream",
          "name": "stderr",
          "text": [
            "Model training in progress...:   1%|▏         | 3/227 [00:00<00:37,  6.05it/s]"
          ]
        },
        {
          "output_type": "stream",
          "name": "stdout",
          "text": [
            "Batch sizes for English and German are torch.Size([32, 128]) and torch.Size([32, 128]) respectively.\n",
            "Batch sizes for English and German are torch.Size([32, 128]) and torch.Size([29, 128]) respectively.\n"
          ]
        },
        {
          "output_type": "stream",
          "name": "stderr",
          "text": [
            "Model training in progress...:   2%|▏         | 5/227 [00:00<00:36,  6.15it/s]"
          ]
        },
        {
          "output_type": "stream",
          "name": "stdout",
          "text": [
            "Batch sizes for English and German are torch.Size([28, 128]) and torch.Size([28, 128]) respectively.\n",
            "Batch sizes for English and German are torch.Size([29, 128]) and torch.Size([30, 128]) respectively.\n"
          ]
        },
        {
          "output_type": "stream",
          "name": "stderr",
          "text": [
            "Model training in progress...:   3%|▎         | 7/227 [00:01<00:33,  6.64it/s]"
          ]
        },
        {
          "output_type": "stream",
          "name": "stdout",
          "text": [
            "Batch sizes for English and German are torch.Size([23, 128]) and torch.Size([29, 128]) respectively.\n",
            "Batch sizes for English and German are torch.Size([33, 128]) and torch.Size([34, 128]) respectively.\n"
          ]
        },
        {
          "output_type": "stream",
          "name": "stderr",
          "text": [
            "Model training in progress...:   4%|▍         | 9/227 [00:01<00:34,  6.38it/s]"
          ]
        },
        {
          "output_type": "stream",
          "name": "stdout",
          "text": [
            "Batch sizes for English and German are torch.Size([27, 128]) and torch.Size([27, 128]) respectively.\n",
            "Batch sizes for English and German are torch.Size([39, 128]) and torch.Size([33, 128]) respectively.\n"
          ]
        },
        {
          "output_type": "stream",
          "name": "stderr",
          "text": [
            "Model training in progress...:   5%|▍         | 11/227 [00:01<00:36,  5.85it/s]"
          ]
        },
        {
          "output_type": "stream",
          "name": "stdout",
          "text": [
            "Batch sizes for English and German are torch.Size([30, 128]) and torch.Size([28, 128]) respectively.\n",
            "Batch sizes for English and German are torch.Size([26, 128]) and torch.Size([27, 128]) respectively.\n"
          ]
        },
        {
          "output_type": "stream",
          "name": "stderr",
          "text": [
            "Model training in progress...:   6%|▌         | 13/227 [00:02<00:34,  6.16it/s]"
          ]
        },
        {
          "output_type": "stream",
          "name": "stdout",
          "text": [
            "Batch sizes for English and German are torch.Size([30, 128]) and torch.Size([29, 128]) respectively.\n",
            "Batch sizes for English and German are torch.Size([38, 128]) and torch.Size([29, 128]) respectively.\n"
          ]
        },
        {
          "output_type": "stream",
          "name": "stderr",
          "text": [
            "Model training in progress...:   7%|▋         | 15/227 [00:02<00:39,  5.43it/s]"
          ]
        },
        {
          "output_type": "stream",
          "name": "stdout",
          "text": [
            "Batch sizes for English and German are torch.Size([38, 128]) and torch.Size([36, 128]) respectively.\n"
          ]
        },
        {
          "output_type": "stream",
          "name": "stderr",
          "text": [
            "\rModel training in progress...:   7%|▋         | 16/227 [00:02<00:36,  5.82it/s]"
          ]
        },
        {
          "output_type": "stream",
          "name": "stdout",
          "text": [
            "Batch sizes for English and German are torch.Size([26, 128]) and torch.Size([25, 128]) respectively.\n",
            "Batch sizes for English and German are torch.Size([29, 128]) and torch.Size([30, 128]) respectively.\n"
          ]
        },
        {
          "output_type": "stream",
          "name": "stderr",
          "text": [
            "Model training in progress...:   8%|▊         | 18/227 [00:02<00:33,  6.17it/s]"
          ]
        },
        {
          "output_type": "stream",
          "name": "stdout",
          "text": [
            "Batch sizes for English and German are torch.Size([28, 128]) and torch.Size([28, 128]) respectively.\n",
            "Batch sizes for English and German are torch.Size([27, 128]) and torch.Size([28, 128]) respectively.\n"
          ]
        },
        {
          "output_type": "stream",
          "name": "stderr",
          "text": [
            "Model training in progress...:   9%|▉         | 20/227 [00:03<00:31,  6.55it/s]"
          ]
        },
        {
          "output_type": "stream",
          "name": "stdout",
          "text": [
            "Batch sizes for English and German are torch.Size([27, 128]) and torch.Size([23, 128]) respectively.\n",
            "Batch sizes for English and German are torch.Size([37, 128]) and torch.Size([36, 128]) respectively.\n"
          ]
        },
        {
          "output_type": "stream",
          "name": "stderr",
          "text": [
            "Model training in progress...:  10%|▉         | 22/227 [00:03<00:33,  6.20it/s]"
          ]
        },
        {
          "output_type": "stream",
          "name": "stdout",
          "text": [
            "Batch sizes for English and German are torch.Size([26, 128]) and torch.Size([30, 128]) respectively.\n",
            "Batch sizes for English and German are torch.Size([31, 128]) and torch.Size([31, 128]) respectively.\n"
          ]
        },
        {
          "output_type": "stream",
          "name": "stderr",
          "text": [
            "Model training in progress...:  11%|█         | 24/227 [00:03<00:33,  6.00it/s]"
          ]
        },
        {
          "output_type": "stream",
          "name": "stdout",
          "text": [
            "Batch sizes for English and German are torch.Size([31, 128]) and torch.Size([29, 128]) respectively.\n",
            "Batch sizes for English and German are torch.Size([26, 128]) and torch.Size([27, 128]) respectively.\n"
          ]
        },
        {
          "output_type": "stream",
          "name": "stderr",
          "text": [
            "Model training in progress...:  11%|█▏        | 26/227 [00:04<00:34,  5.88it/s]"
          ]
        },
        {
          "output_type": "stream",
          "name": "stdout",
          "text": [
            "Batch sizes for English and German are torch.Size([35, 128]) and torch.Size([37, 128]) respectively.\n",
            "Batch sizes for English and German are torch.Size([29, 128]) and torch.Size([30, 128]) respectively.\n"
          ]
        },
        {
          "output_type": "stream",
          "name": "stderr",
          "text": [
            "\rModel training in progress...:  12%|█▏        | 27/227 [00:04<00:33,  5.96it/s]"
          ]
        },
        {
          "output_type": "stream",
          "name": "stdout",
          "text": [
            "Batch sizes for English and German are torch.Size([41, 128]) and torch.Size([34, 128]) respectively.\n"
          ]
        },
        {
          "output_type": "stream",
          "name": "stderr",
          "text": [
            "\rModel training in progress...:  12%|█▏        | 28/227 [00:04<00:37,  5.37it/s]"
          ]
        },
        {
          "output_type": "stream",
          "name": "stdout",
          "text": [
            "Batch sizes for English and German are torch.Size([40, 128]) and torch.Size([35, 128]) respectively.\n"
          ]
        },
        {
          "output_type": "stream",
          "name": "stderr",
          "text": [
            "Model training in progress...:  13%|█▎        | 30/227 [00:05<00:35,  5.60it/s]"
          ]
        },
        {
          "output_type": "stream",
          "name": "stdout",
          "text": [
            "Batch sizes for English and German are torch.Size([25, 128]) and torch.Size([26, 128]) respectively.\n",
            "Batch sizes for English and German are torch.Size([32, 128]) and torch.Size([36, 128]) respectively.\n"
          ]
        },
        {
          "output_type": "stream",
          "name": "stderr",
          "text": [
            "Model training in progress...:  14%|█▍        | 32/227 [00:05<00:33,  5.78it/s]"
          ]
        },
        {
          "output_type": "stream",
          "name": "stdout",
          "text": [
            "Batch sizes for English and German are torch.Size([29, 128]) and torch.Size([25, 128]) respectively.\n",
            "Batch sizes for English and German are torch.Size([29, 128]) and torch.Size([28, 128]) respectively.\n"
          ]
        },
        {
          "output_type": "stream",
          "name": "stderr",
          "text": [
            "Model training in progress...:  15%|█▍        | 34/227 [00:05<00:31,  6.07it/s]"
          ]
        },
        {
          "output_type": "stream",
          "name": "stdout",
          "text": [
            "Batch sizes for English and German are torch.Size([29, 128]) and torch.Size([26, 128]) respectively.\n",
            "Batch sizes for English and German are torch.Size([26, 128]) and torch.Size([27, 128]) respectively.\n"
          ]
        },
        {
          "output_type": "stream",
          "name": "stderr",
          "text": [
            "Model training in progress...:  16%|█▌        | 36/227 [00:06<00:31,  6.08it/s]"
          ]
        },
        {
          "output_type": "stream",
          "name": "stdout",
          "text": [
            "Batch sizes for English and German are torch.Size([33, 128]) and torch.Size([27, 128]) respectively.\n",
            "Batch sizes for English and German are torch.Size([34, 128]) and torch.Size([32, 128]) respectively.\n"
          ]
        },
        {
          "output_type": "stream",
          "name": "stderr",
          "text": [
            "Model training in progress...:  17%|█▋        | 38/227 [00:06<00:34,  5.51it/s]"
          ]
        },
        {
          "output_type": "stream",
          "name": "stdout",
          "text": [
            "Batch sizes for English and German are torch.Size([37, 128]) and torch.Size([38, 128]) respectively.\n"
          ]
        },
        {
          "output_type": "stream",
          "name": "stderr",
          "text": [
            "\rModel training in progress...:  17%|█▋        | 39/227 [00:06<00:32,  5.86it/s]"
          ]
        },
        {
          "output_type": "stream",
          "name": "stdout",
          "text": [
            "Batch sizes for English and German are torch.Size([26, 128]) and torch.Size([28, 128]) respectively.\n",
            "Batch sizes for English and German are torch.Size([28, 128]) and torch.Size([29, 128]) respectively.\n"
          ]
        },
        {
          "output_type": "stream",
          "name": "stderr",
          "text": [
            "Model training in progress...:  18%|█▊        | 41/227 [00:06<00:29,  6.21it/s]"
          ]
        },
        {
          "output_type": "stream",
          "name": "stdout",
          "text": [
            "Batch sizes for English and German are torch.Size([27, 128]) and torch.Size([27, 128]) respectively.\n",
            "Batch sizes for English and German are torch.Size([28, 128]) and torch.Size([30, 128]) respectively.\n"
          ]
        },
        {
          "output_type": "stream",
          "name": "stderr",
          "text": [
            "Model training in progress...:  19%|█▉        | 43/227 [00:07<00:29,  6.29it/s]"
          ]
        },
        {
          "output_type": "stream",
          "name": "stdout",
          "text": [
            "Batch sizes for English and German are torch.Size([29, 128]) and torch.Size([28, 128]) respectively.\n",
            "Batch sizes for English and German are torch.Size([31, 128]) and torch.Size([26, 128]) respectively.\n"
          ]
        },
        {
          "output_type": "stream",
          "name": "stderr",
          "text": [
            "Model training in progress...:  20%|█▉        | 45/227 [00:07<00:29,  6.18it/s]"
          ]
        },
        {
          "output_type": "stream",
          "name": "stdout",
          "text": [
            "Batch sizes for English and German are torch.Size([29, 128]) and torch.Size([31, 128]) respectively.\n",
            "Batch sizes for English and German are torch.Size([27, 128]) and torch.Size([24, 128]) respectively.\n"
          ]
        },
        {
          "output_type": "stream",
          "name": "stderr",
          "text": [
            "Model training in progress...:  21%|██        | 47/227 [00:07<00:27,  6.48it/s]"
          ]
        },
        {
          "output_type": "stream",
          "name": "stdout",
          "text": [
            "Batch sizes for English and German are torch.Size([26, 128]) and torch.Size([29, 128]) respectively.\n",
            "Batch sizes for English and German are torch.Size([25, 128]) and torch.Size([24, 128]) respectively.\n"
          ]
        },
        {
          "output_type": "stream",
          "name": "stderr",
          "text": [
            "Model training in progress...:  22%|██▏       | 49/227 [00:08<00:26,  6.77it/s]"
          ]
        },
        {
          "output_type": "stream",
          "name": "stdout",
          "text": [
            "Batch sizes for English and German are torch.Size([26, 128]) and torch.Size([29, 128]) respectively.\n",
            "Batch sizes for English and German are torch.Size([26, 128]) and torch.Size([29, 128]) respectively.\n"
          ]
        },
        {
          "output_type": "stream",
          "name": "stderr",
          "text": [
            "Model training in progress...:  22%|██▏       | 51/227 [00:08<00:26,  6.67it/s]"
          ]
        },
        {
          "output_type": "stream",
          "name": "stdout",
          "text": [
            "Batch sizes for English and German are torch.Size([30, 128]) and torch.Size([30, 128]) respectively.\n",
            "Batch sizes for English and German are torch.Size([26, 128]) and torch.Size([25, 128]) respectively.\n"
          ]
        },
        {
          "output_type": "stream",
          "name": "stderr",
          "text": [
            "Model training in progress...:  23%|██▎       | 53/227 [00:08<00:25,  6.77it/s]"
          ]
        },
        {
          "output_type": "stream",
          "name": "stdout",
          "text": [
            "Batch sizes for English and German are torch.Size([26, 128]) and torch.Size([25, 128]) respectively.\n",
            "Batch sizes for English and German are torch.Size([27, 128]) and torch.Size([33, 128]) respectively.\n"
          ]
        },
        {
          "output_type": "stream",
          "name": "stderr",
          "text": [
            "Model training in progress...:  24%|██▍       | 55/227 [00:08<00:25,  6.70it/s]"
          ]
        },
        {
          "output_type": "stream",
          "name": "stdout",
          "text": [
            "Batch sizes for English and German are torch.Size([27, 128]) and torch.Size([29, 128]) respectively.\n",
            "Batch sizes for English and German are torch.Size([24, 128]) and torch.Size([26, 128]) respectively.\n"
          ]
        },
        {
          "output_type": "stream",
          "name": "stderr",
          "text": [
            "Model training in progress...:  25%|██▌       | 57/227 [00:09<00:27,  6.22it/s]"
          ]
        },
        {
          "output_type": "stream",
          "name": "stdout",
          "text": [
            "Batch sizes for English and German are torch.Size([35, 128]) and torch.Size([31, 128]) respectively.\n",
            "Batch sizes for English and German are torch.Size([27, 128]) and torch.Size([27, 128]) respectively.\n"
          ]
        },
        {
          "output_type": "stream",
          "name": "stderr",
          "text": [
            "Model training in progress...:  26%|██▌       | 59/227 [00:09<00:27,  6.10it/s]"
          ]
        },
        {
          "output_type": "stream",
          "name": "stdout",
          "text": [
            "Batch sizes for English and German are torch.Size([32, 128]) and torch.Size([28, 128]) respectively.\n",
            "Batch sizes for English and German are torch.Size([36, 128]) and torch.Size([38, 128]) respectively.\n"
          ]
        },
        {
          "output_type": "stream",
          "name": "stderr",
          "text": [
            "Model training in progress...:  27%|██▋       | 61/227 [00:09<00:28,  5.92it/s]"
          ]
        },
        {
          "output_type": "stream",
          "name": "stdout",
          "text": [
            "Batch sizes for English and German are torch.Size([27, 128]) and torch.Size([32, 128]) respectively.\n",
            "Batch sizes for English and German are torch.Size([29, 128]) and torch.Size([31, 128]) respectively.\n"
          ]
        },
        {
          "output_type": "stream",
          "name": "stderr",
          "text": [
            "Model training in progress...:  28%|██▊       | 63/227 [00:10<00:27,  6.03it/s]"
          ]
        },
        {
          "output_type": "stream",
          "name": "stdout",
          "text": [
            "Batch sizes for English and German are torch.Size([27, 128]) and torch.Size([31, 128]) respectively.\n",
            "Batch sizes for English and German are torch.Size([30, 128]) and torch.Size([26, 128]) respectively.\n"
          ]
        },
        {
          "output_type": "stream",
          "name": "stderr",
          "text": [
            "Model training in progress...:  29%|██▊       | 65/227 [00:10<00:26,  6.05it/s]"
          ]
        },
        {
          "output_type": "stream",
          "name": "stdout",
          "text": [
            "Batch sizes for English and German are torch.Size([28, 128]) and torch.Size([29, 128]) respectively.\n",
            "Batch sizes for English and German are torch.Size([31, 128]) and torch.Size([27, 128]) respectively.\n"
          ]
        },
        {
          "output_type": "stream",
          "name": "stderr",
          "text": [
            "Model training in progress...:  30%|██▉       | 67/227 [00:10<00:25,  6.18it/s]"
          ]
        },
        {
          "output_type": "stream",
          "name": "stdout",
          "text": [
            "Batch sizes for English and German are torch.Size([25, 128]) and torch.Size([30, 128]) respectively.\n",
            "Batch sizes for English and German are torch.Size([28, 128]) and torch.Size([28, 128]) respectively.\n"
          ]
        },
        {
          "output_type": "stream",
          "name": "stderr",
          "text": [
            "\rModel training in progress...:  30%|██▉       | 68/227 [00:11<00:25,  6.27it/s]"
          ]
        },
        {
          "output_type": "stream",
          "name": "stdout",
          "text": [
            "Batch sizes for English and German are torch.Size([42, 128]) and torch.Size([41, 128]) respectively.\n"
          ]
        },
        {
          "output_type": "stream",
          "name": "stderr",
          "text": [
            "Model training in progress...:  31%|███       | 70/227 [00:11<00:27,  5.70it/s]"
          ]
        },
        {
          "output_type": "stream",
          "name": "stdout",
          "text": [
            "Batch sizes for English and German are torch.Size([28, 128]) and torch.Size([36, 128]) respectively.\n",
            "Batch sizes for English and German are torch.Size([32, 128]) and torch.Size([37, 128]) respectively.\n"
          ]
        },
        {
          "output_type": "stream",
          "name": "stderr",
          "text": [
            "Model training in progress...:  32%|███▏      | 72/227 [00:11<00:28,  5.37it/s]"
          ]
        },
        {
          "output_type": "stream",
          "name": "stdout",
          "text": [
            "Batch sizes for English and German are torch.Size([37, 128]) and torch.Size([35, 128]) respectively.\n"
          ]
        },
        {
          "output_type": "stream",
          "name": "stderr",
          "text": [
            "\rModel training in progress...:  32%|███▏      | 73/227 [00:12<00:28,  5.45it/s]"
          ]
        },
        {
          "output_type": "stream",
          "name": "stdout",
          "text": [
            "Batch sizes for English and German are torch.Size([31, 128]) and torch.Size([30, 128]) respectively.\n",
            "Batch sizes for English and German are torch.Size([28, 128]) and torch.Size([24, 128]) respectively.\n"
          ]
        },
        {
          "output_type": "stream",
          "name": "stderr",
          "text": [
            "\rModel training in progress...:  33%|███▎      | 74/227 [00:12<00:26,  5.69it/s]"
          ]
        },
        {
          "output_type": "stream",
          "name": "stdout",
          "text": [
            "Batch sizes for English and German are torch.Size([43, 128]) and torch.Size([38, 128]) respectively.\n"
          ]
        },
        {
          "output_type": "stream",
          "name": "stderr",
          "text": [
            "Model training in progress...:  33%|███▎      | 76/227 [00:12<00:27,  5.46it/s]"
          ]
        },
        {
          "output_type": "stream",
          "name": "stdout",
          "text": [
            "Batch sizes for English and German are torch.Size([28, 128]) and torch.Size([33, 128]) respectively.\n",
            "Batch sizes for English and German are torch.Size([35, 128]) and torch.Size([35, 128]) respectively.\n"
          ]
        },
        {
          "output_type": "stream",
          "name": "stderr",
          "text": [
            "Model training in progress...:  34%|███▍      | 78/227 [00:13<00:27,  5.39it/s]"
          ]
        },
        {
          "output_type": "stream",
          "name": "stdout",
          "text": [
            "Batch sizes for English and German are torch.Size([33, 128]) and torch.Size([32, 128]) respectively.\n",
            "Batch sizes for English and German are torch.Size([30, 128]) and torch.Size([33, 128]) respectively.\n"
          ]
        },
        {
          "output_type": "stream",
          "name": "stderr",
          "text": [
            "Model training in progress...:  35%|███▌      | 80/227 [00:13<00:27,  5.34it/s]"
          ]
        },
        {
          "output_type": "stream",
          "name": "stdout",
          "text": [
            "Batch sizes for English and German are torch.Size([37, 128]) and torch.Size([31, 128]) respectively.\n"
          ]
        },
        {
          "output_type": "stream",
          "name": "stderr",
          "text": [
            "\rModel training in progress...:  36%|███▌      | 81/227 [00:13<00:28,  5.14it/s]"
          ]
        },
        {
          "output_type": "stream",
          "name": "stdout",
          "text": [
            "Batch sizes for English and German are torch.Size([38, 128]) and torch.Size([32, 128]) respectively.\n"
          ]
        },
        {
          "output_type": "stream",
          "name": "stderr",
          "text": [
            "\rModel training in progress...:  36%|███▌      | 82/227 [00:13<00:26,  5.56it/s]"
          ]
        },
        {
          "output_type": "stream",
          "name": "stdout",
          "text": [
            "Batch sizes for English and German are torch.Size([26, 128]) and torch.Size([24, 128]) respectively.\n",
            "Batch sizes for English and German are torch.Size([30, 128]) and torch.Size([28, 128]) respectively.\n"
          ]
        },
        {
          "output_type": "stream",
          "name": "stderr",
          "text": [
            "Model training in progress...:  37%|███▋      | 84/227 [00:14<00:25,  5.69it/s]"
          ]
        },
        {
          "output_type": "stream",
          "name": "stdout",
          "text": [
            "Batch sizes for English and German are torch.Size([31, 128]) and torch.Size([33, 128]) respectively.\n",
            "Batch sizes for English and German are torch.Size([29, 128]) and torch.Size([28, 128]) respectively.\n"
          ]
        },
        {
          "output_type": "stream",
          "name": "stderr",
          "text": [
            "Model training in progress...:  38%|███▊      | 86/227 [00:14<00:24,  5.86it/s]"
          ]
        },
        {
          "output_type": "stream",
          "name": "stdout",
          "text": [
            "Batch sizes for English and German are torch.Size([30, 128]) and torch.Size([30, 128]) respectively.\n",
            "Batch sizes for English and German are torch.Size([31, 128]) and torch.Size([29, 128]) respectively.\n"
          ]
        },
        {
          "output_type": "stream",
          "name": "stderr",
          "text": [
            "Model training in progress...:  39%|███▉      | 88/227 [00:14<00:23,  5.92it/s]"
          ]
        },
        {
          "output_type": "stream",
          "name": "stdout",
          "text": [
            "Batch sizes for English and German are torch.Size([30, 128]) and torch.Size([29, 128]) respectively.\n",
            "Batch sizes for English and German are torch.Size([26, 128]) and torch.Size([26, 128]) respectively.\n"
          ]
        },
        {
          "output_type": "stream",
          "name": "stderr",
          "text": [
            "Model training in progress...:  40%|███▉      | 90/227 [00:15<00:20,  6.64it/s]"
          ]
        },
        {
          "output_type": "stream",
          "name": "stdout",
          "text": [
            "Batch sizes for English and German are torch.Size([23, 128]) and torch.Size([25, 128]) respectively.\n",
            "Batch sizes for English and German are torch.Size([31, 128]) and torch.Size([36, 128]) respectively.\n"
          ]
        },
        {
          "output_type": "stream",
          "name": "stderr",
          "text": [
            "Model training in progress...:  41%|████      | 92/227 [00:15<00:21,  6.21it/s]"
          ]
        },
        {
          "output_type": "stream",
          "name": "stdout",
          "text": [
            "Batch sizes for English and German are torch.Size([31, 128]) and torch.Size([28, 128]) respectively.\n",
            "Batch sizes for English and German are torch.Size([29, 128]) and torch.Size([28, 128]) respectively.\n"
          ]
        },
        {
          "output_type": "stream",
          "name": "stderr",
          "text": [
            "Model training in progress...:  41%|████▏     | 94/227 [00:15<00:22,  5.88it/s]"
          ]
        },
        {
          "output_type": "stream",
          "name": "stdout",
          "text": [
            "Batch sizes for English and German are torch.Size([36, 128]) and torch.Size([29, 128]) respectively.\n",
            "Batch sizes for English and German are torch.Size([27, 128]) and torch.Size([26, 128]) respectively.\n"
          ]
        },
        {
          "output_type": "stream",
          "name": "stderr",
          "text": [
            "Model training in progress...:  42%|████▏     | 96/227 [00:16<00:21,  6.11it/s]"
          ]
        },
        {
          "output_type": "stream",
          "name": "stdout",
          "text": [
            "Batch sizes for English and German are torch.Size([30, 128]) and torch.Size([31, 128]) respectively.\n",
            "Batch sizes for English and German are torch.Size([28, 128]) and torch.Size([30, 128]) respectively.\n"
          ]
        },
        {
          "output_type": "stream",
          "name": "stderr",
          "text": [
            "Model training in progress...:  43%|████▎     | 98/227 [00:16<00:22,  5.83it/s]"
          ]
        },
        {
          "output_type": "stream",
          "name": "stdout",
          "text": [
            "Batch sizes for English and German are torch.Size([35, 128]) and torch.Size([34, 128]) respectively.\n",
            "Batch sizes for English and German are torch.Size([27, 128]) and torch.Size([28, 128]) respectively.\n"
          ]
        },
        {
          "output_type": "stream",
          "name": "stderr",
          "text": [
            "Model training in progress...:  44%|████▍     | 100/227 [00:16<00:22,  5.62it/s]"
          ]
        },
        {
          "output_type": "stream",
          "name": "stdout",
          "text": [
            "Batch sizes for English and German are torch.Size([36, 128]) and torch.Size([37, 128]) respectively.\n"
          ]
        },
        {
          "output_type": "stream",
          "name": "stderr",
          "text": [
            "\rModel training in progress...:  44%|████▍     | 101/227 [00:16<00:21,  5.83it/s]"
          ]
        },
        {
          "output_type": "stream",
          "name": "stdout",
          "text": [
            "Batch sizes for English and German are torch.Size([28, 128]) and torch.Size([30, 128]) respectively.\n",
            "Batch sizes for English and German are torch.Size([27, 128]) and torch.Size([25, 128]) respectively.\n"
          ]
        },
        {
          "output_type": "stream",
          "name": "stderr",
          "text": [
            "Model training in progress...:  45%|████▌     | 103/227 [00:17<00:19,  6.23it/s]"
          ]
        },
        {
          "output_type": "stream",
          "name": "stdout",
          "text": [
            "Batch sizes for English and German are torch.Size([28, 128]) and torch.Size([26, 128]) respectively.\n",
            "Batch sizes for English and German are torch.Size([40, 128]) and torch.Size([37, 128]) respectively.\n"
          ]
        },
        {
          "output_type": "stream",
          "name": "stderr",
          "text": [
            "Model training in progress...:  46%|████▋     | 105/227 [00:17<00:21,  5.56it/s]"
          ]
        },
        {
          "output_type": "stream",
          "name": "stdout",
          "text": [
            "Batch sizes for English and German are torch.Size([34, 128]) and torch.Size([31, 128]) respectively.\n",
            "Batch sizes for English and German are torch.Size([36, 128]) and torch.Size([29, 128]) respectively.\n"
          ]
        },
        {
          "output_type": "stream",
          "name": "stderr",
          "text": [
            "Model training in progress...:  47%|████▋     | 107/227 [00:17<00:20,  5.81it/s]"
          ]
        },
        {
          "output_type": "stream",
          "name": "stdout",
          "text": [
            "Batch sizes for English and German are torch.Size([27, 128]) and torch.Size([27, 128]) respectively.\n",
            "Batch sizes for English and German are torch.Size([32, 128]) and torch.Size([30, 128]) respectively.\n"
          ]
        },
        {
          "output_type": "stream",
          "name": "stderr",
          "text": [
            "Model training in progress...:  48%|████▊     | 109/227 [00:18<00:20,  5.63it/s]"
          ]
        },
        {
          "output_type": "stream",
          "name": "stdout",
          "text": [
            "Batch sizes for English and German are torch.Size([35, 128]) and torch.Size([34, 128]) respectively.\n",
            "Batch sizes for English and German are torch.Size([29, 128]) and torch.Size([29, 128]) respectively.\n"
          ]
        },
        {
          "output_type": "stream",
          "name": "stderr",
          "text": [
            "Model training in progress...:  49%|████▉     | 111/227 [00:18<00:20,  5.74it/s]"
          ]
        },
        {
          "output_type": "stream",
          "name": "stdout",
          "text": [
            "Batch sizes for English and German are torch.Size([32, 128]) and torch.Size([30, 128]) respectively.\n",
            "Batch sizes for English and German are torch.Size([30, 128]) and torch.Size([25, 128]) respectively.\n"
          ]
        },
        {
          "output_type": "stream",
          "name": "stderr",
          "text": [
            "Model training in progress...:  50%|████▉     | 113/227 [00:18<00:19,  5.71it/s]"
          ]
        },
        {
          "output_type": "stream",
          "name": "stdout",
          "text": [
            "Batch sizes for English and German are torch.Size([33, 128]) and torch.Size([30, 128]) respectively.\n",
            "Batch sizes for English and German are torch.Size([27, 128]) and torch.Size([29, 128]) respectively.\n"
          ]
        },
        {
          "output_type": "stream",
          "name": "stderr",
          "text": [
            "Model training in progress...:  51%|█████     | 115/227 [00:19<00:18,  6.20it/s]"
          ]
        },
        {
          "output_type": "stream",
          "name": "stdout",
          "text": [
            "Batch sizes for English and German are torch.Size([28, 128]) and torch.Size([27, 128]) respectively.\n",
            "Batch sizes for English and German are torch.Size([32, 128]) and torch.Size([32, 128]) respectively.\n"
          ]
        },
        {
          "output_type": "stream",
          "name": "stderr",
          "text": [
            "Model training in progress...:  52%|█████▏    | 117/227 [00:19<00:18,  5.96it/s]"
          ]
        },
        {
          "output_type": "stream",
          "name": "stdout",
          "text": [
            "Batch sizes for English and German are torch.Size([31, 128]) and torch.Size([30, 128]) respectively.\n",
            "Batch sizes for English and German are torch.Size([32, 128]) and torch.Size([30, 128]) respectively.\n"
          ]
        },
        {
          "output_type": "stream",
          "name": "stderr",
          "text": [
            "Model training in progress...:  52%|█████▏    | 119/227 [00:19<00:18,  5.92it/s]"
          ]
        },
        {
          "output_type": "stream",
          "name": "stdout",
          "text": [
            "Batch sizes for English and German are torch.Size([30, 128]) and torch.Size([35, 128]) respectively.\n",
            "Batch sizes for English and German are torch.Size([27, 128]) and torch.Size([31, 128]) respectively.\n"
          ]
        },
        {
          "output_type": "stream",
          "name": "stderr",
          "text": [
            "\rModel training in progress...:  53%|█████▎    | 120/227 [00:20<00:17,  6.09it/s]"
          ]
        },
        {
          "output_type": "stream",
          "name": "stdout",
          "text": [
            "Batch sizes for English and German are torch.Size([41, 128]) and torch.Size([45, 128]) respectively.\n"
          ]
        },
        {
          "output_type": "stream",
          "name": "stderr",
          "text": [
            "Model training in progress...:  54%|█████▎    | 122/227 [00:20<00:17,  5.84it/s]"
          ]
        },
        {
          "output_type": "stream",
          "name": "stdout",
          "text": [
            "Batch sizes for English and German are torch.Size([26, 128]) and torch.Size([27, 128]) respectively.\n",
            "Batch sizes for English and German are torch.Size([30, 128]) and torch.Size([27, 128]) respectively.\n"
          ]
        },
        {
          "output_type": "stream",
          "name": "stderr",
          "text": [
            "Model training in progress...:  55%|█████▍    | 124/227 [00:20<00:17,  6.00it/s]"
          ]
        },
        {
          "output_type": "stream",
          "name": "stdout",
          "text": [
            "Batch sizes for English and German are torch.Size([29, 128]) and torch.Size([27, 128]) respectively.\n",
            "Batch sizes for English and German are torch.Size([28, 128]) and torch.Size([27, 128]) respectively.\n"
          ]
        },
        {
          "output_type": "stream",
          "name": "stderr",
          "text": [
            "Model training in progress...:  56%|█████▌    | 126/227 [00:21<00:16,  6.00it/s]"
          ]
        },
        {
          "output_type": "stream",
          "name": "stdout",
          "text": [
            "Batch sizes for English and German are torch.Size([33, 128]) and torch.Size([25, 128]) respectively.\n",
            "Batch sizes for English and German are torch.Size([31, 128]) and torch.Size([36, 128]) respectively.\n"
          ]
        },
        {
          "output_type": "stream",
          "name": "stderr",
          "text": [
            "Model training in progress...:  56%|█████▋    | 128/227 [00:21<00:16,  6.17it/s]"
          ]
        },
        {
          "output_type": "stream",
          "name": "stdout",
          "text": [
            "Batch sizes for English and German are torch.Size([26, 128]) and torch.Size([29, 128]) respectively.\n",
            "Batch sizes for English and German are torch.Size([28, 128]) and torch.Size([25, 128]) respectively.\n"
          ]
        },
        {
          "output_type": "stream",
          "name": "stderr",
          "text": [
            "Model training in progress...:  57%|█████▋    | 130/227 [00:21<00:16,  5.91it/s]"
          ]
        },
        {
          "output_type": "stream",
          "name": "stdout",
          "text": [
            "Batch sizes for English and German are torch.Size([33, 128]) and torch.Size([28, 128]) respectively.\n",
            "Batch sizes for English and German are torch.Size([33, 128]) and torch.Size([30, 128]) respectively.\n"
          ]
        },
        {
          "output_type": "stream",
          "name": "stderr",
          "text": [
            "Model training in progress...:  58%|█████▊    | 132/227 [00:22<00:16,  5.85it/s]"
          ]
        },
        {
          "output_type": "stream",
          "name": "stdout",
          "text": [
            "Batch sizes for English and German are torch.Size([29, 128]) and torch.Size([33, 128]) respectively.\n",
            "Batch sizes for English and German are torch.Size([26, 128]) and torch.Size([32, 128]) respectively.\n"
          ]
        },
        {
          "output_type": "stream",
          "name": "stderr",
          "text": [
            "Model training in progress...:  59%|█████▉    | 134/227 [00:22<00:14,  6.20it/s]"
          ]
        },
        {
          "output_type": "stream",
          "name": "stdout",
          "text": [
            "Batch sizes for English and German are torch.Size([27, 128]) and torch.Size([26, 128]) respectively.\n",
            "Batch sizes for English and German are torch.Size([35, 128]) and torch.Size([32, 128]) respectively.\n"
          ]
        },
        {
          "output_type": "stream",
          "name": "stderr",
          "text": [
            "Model training in progress...:  60%|█████▉    | 136/227 [00:22<00:16,  5.44it/s]"
          ]
        },
        {
          "output_type": "stream",
          "name": "stdout",
          "text": [
            "Batch sizes for English and German are torch.Size([37, 128]) and torch.Size([38, 128]) respectively.\n"
          ]
        },
        {
          "output_type": "stream",
          "name": "stderr",
          "text": [
            "\rModel training in progress...:  60%|██████    | 137/227 [00:23<00:15,  5.84it/s]"
          ]
        },
        {
          "output_type": "stream",
          "name": "stdout",
          "text": [
            "Batch sizes for English and German are torch.Size([24, 128]) and torch.Size([24, 128]) respectively.\n",
            "Batch sizes for English and German are torch.Size([26, 128]) and torch.Size([25, 128]) respectively.\n"
          ]
        },
        {
          "output_type": "stream",
          "name": "stderr",
          "text": [
            "Model training in progress...:  61%|██████    | 139/227 [00:23<00:14,  6.08it/s]"
          ]
        },
        {
          "output_type": "stream",
          "name": "stdout",
          "text": [
            "Batch sizes for English and German are torch.Size([30, 128]) and torch.Size([28, 128]) respectively.\n",
            "Batch sizes for English and German are torch.Size([25, 128]) and torch.Size([24, 128]) respectively.\n"
          ]
        },
        {
          "output_type": "stream",
          "name": "stderr",
          "text": [
            "Model training in progress...:  62%|██████▏   | 141/227 [00:23<00:13,  6.27it/s]"
          ]
        },
        {
          "output_type": "stream",
          "name": "stdout",
          "text": [
            "Batch sizes for English and German are torch.Size([29, 128]) and torch.Size([27, 128]) respectively.\n",
            "Batch sizes for English and German are torch.Size([28, 128]) and torch.Size([25, 128]) respectively.\n"
          ]
        },
        {
          "output_type": "stream",
          "name": "stderr",
          "text": [
            "Model training in progress...:  63%|██████▎   | 143/227 [00:23<00:13,  6.44it/s]"
          ]
        },
        {
          "output_type": "stream",
          "name": "stdout",
          "text": [
            "Batch sizes for English and German are torch.Size([28, 128]) and torch.Size([28, 128]) respectively.\n",
            "Batch sizes for English and German are torch.Size([36, 128]) and torch.Size([33, 128]) respectively.\n"
          ]
        },
        {
          "output_type": "stream",
          "name": "stderr",
          "text": [
            "Model training in progress...:  64%|██████▍   | 145/227 [00:24<00:13,  6.02it/s]"
          ]
        },
        {
          "output_type": "stream",
          "name": "stdout",
          "text": [
            "Batch sizes for English and German are torch.Size([28, 128]) and torch.Size([30, 128]) respectively.\n",
            "Batch sizes for English and German are torch.Size([33, 128]) and torch.Size([29, 128]) respectively.\n"
          ]
        },
        {
          "output_type": "stream",
          "name": "stderr",
          "text": [
            "Model training in progress...:  65%|██████▍   | 147/227 [00:24<00:14,  5.58it/s]"
          ]
        },
        {
          "output_type": "stream",
          "name": "stdout",
          "text": [
            "Batch sizes for English and German are torch.Size([36, 128]) and torch.Size([37, 128]) respectively.\n",
            "Batch sizes for English and German are torch.Size([34, 128]) and torch.Size([30, 128]) respectively.\n"
          ]
        },
        {
          "output_type": "stream",
          "name": "stderr",
          "text": [
            "Model training in progress...:  66%|██████▌   | 149/227 [00:25<00:13,  5.60it/s]"
          ]
        },
        {
          "output_type": "stream",
          "name": "stdout",
          "text": [
            "Batch sizes for English and German are torch.Size([31, 128]) and torch.Size([30, 128]) respectively.\n",
            "Batch sizes for English and German are torch.Size([31, 128]) and torch.Size([30, 128]) respectively.\n"
          ]
        },
        {
          "output_type": "stream",
          "name": "stderr",
          "text": [
            "Model training in progress...:  67%|██████▋   | 151/227 [00:25<00:13,  5.69it/s]"
          ]
        },
        {
          "output_type": "stream",
          "name": "stdout",
          "text": [
            "Batch sizes for English and German are torch.Size([33, 128]) and torch.Size([32, 128]) respectively.\n",
            "Batch sizes for English and German are torch.Size([37, 128]) and torch.Size([30, 128]) respectively.\n"
          ]
        },
        {
          "output_type": "stream",
          "name": "stderr",
          "text": [
            "Model training in progress...:  67%|██████▋   | 153/227 [00:25<00:12,  6.02it/s]"
          ]
        },
        {
          "output_type": "stream",
          "name": "stdout",
          "text": [
            "Batch sizes for English and German are torch.Size([23, 128]) and torch.Size([27, 128]) respectively.\n",
            "Batch sizes for English and German are torch.Size([26, 128]) and torch.Size([27, 128]) respectively.\n"
          ]
        },
        {
          "output_type": "stream",
          "name": "stderr",
          "text": [
            "Model training in progress...:  68%|██████▊   | 155/227 [00:26<00:11,  6.27it/s]"
          ]
        },
        {
          "output_type": "stream",
          "name": "stdout",
          "text": [
            "Batch sizes for English and German are torch.Size([29, 128]) and torch.Size([30, 128]) respectively.\n",
            "Batch sizes for English and German are torch.Size([32, 128]) and torch.Size([28, 128]) respectively.\n"
          ]
        },
        {
          "output_type": "stream",
          "name": "stderr",
          "text": [
            "Model training in progress...:  69%|██████▉   | 157/227 [00:26<00:11,  6.04it/s]"
          ]
        },
        {
          "output_type": "stream",
          "name": "stdout",
          "text": [
            "Batch sizes for English and German are torch.Size([32, 128]) and torch.Size([32, 128]) respectively.\n",
            "Batch sizes for English and German are torch.Size([32, 128]) and torch.Size([29, 128]) respectively.\n"
          ]
        },
        {
          "output_type": "stream",
          "name": "stderr",
          "text": [
            "\rModel training in progress...:  70%|██████▉   | 158/227 [00:26<00:11,  5.98it/s]"
          ]
        },
        {
          "output_type": "stream",
          "name": "stdout",
          "text": [
            "Batch sizes for English and German are torch.Size([42, 128]) and torch.Size([45, 128]) respectively.\n"
          ]
        },
        {
          "output_type": "stream",
          "name": "stderr",
          "text": [
            "Model training in progress...:  70%|███████   | 160/227 [00:26<00:12,  5.36it/s]"
          ]
        },
        {
          "output_type": "stream",
          "name": "stdout",
          "text": [
            "Batch sizes for English and German are torch.Size([33, 128]) and torch.Size([35, 128]) respectively.\n",
            "Batch sizes for English and German are torch.Size([36, 128]) and torch.Size([38, 128]) respectively.\n"
          ]
        },
        {
          "output_type": "stream",
          "name": "stderr",
          "text": [
            "Model training in progress...:  71%|███████▏  | 162/227 [00:27<00:11,  5.48it/s]"
          ]
        },
        {
          "output_type": "stream",
          "name": "stdout",
          "text": [
            "Batch sizes for English and German are torch.Size([30, 128]) and torch.Size([34, 128]) respectively.\n",
            "Batch sizes for English and German are torch.Size([30, 128]) and torch.Size([29, 128]) respectively.\n"
          ]
        },
        {
          "output_type": "stream",
          "name": "stderr",
          "text": [
            "Model training in progress...:  72%|███████▏  | 164/227 [00:27<00:10,  5.92it/s]"
          ]
        },
        {
          "output_type": "stream",
          "name": "stdout",
          "text": [
            "Batch sizes for English and German are torch.Size([27, 128]) and torch.Size([24, 128]) respectively.\n",
            "Batch sizes for English and German are torch.Size([37, 128]) and torch.Size([46, 128]) respectively.\n"
          ]
        },
        {
          "output_type": "stream",
          "name": "stderr",
          "text": [
            "Model training in progress...:  73%|███████▎  | 166/227 [00:27<00:10,  5.84it/s]"
          ]
        },
        {
          "output_type": "stream",
          "name": "stdout",
          "text": [
            "Batch sizes for English and German are torch.Size([26, 128]) and torch.Size([28, 128]) respectively.\n",
            "Batch sizes for English and German are torch.Size([26, 128]) and torch.Size([27, 128]) respectively.\n"
          ]
        },
        {
          "output_type": "stream",
          "name": "stderr",
          "text": [
            "Model training in progress...:  74%|███████▍  | 168/227 [00:28<00:09,  6.04it/s]"
          ]
        },
        {
          "output_type": "stream",
          "name": "stdout",
          "text": [
            "Batch sizes for English and German are torch.Size([31, 128]) and torch.Size([31, 128]) respectively.\n",
            "Batch sizes for English and German are torch.Size([26, 128]) and torch.Size([27, 128]) respectively.\n"
          ]
        },
        {
          "output_type": "stream",
          "name": "stderr",
          "text": [
            "Model training in progress...:  75%|███████▍  | 170/227 [00:28<00:09,  6.12it/s]"
          ]
        },
        {
          "output_type": "stream",
          "name": "stdout",
          "text": [
            "Batch sizes for English and German are torch.Size([31, 128]) and torch.Size([28, 128]) respectively.\n",
            "Batch sizes for English and German are torch.Size([27, 128]) and torch.Size([26, 128]) respectively.\n"
          ]
        },
        {
          "output_type": "stream",
          "name": "stderr",
          "text": [
            "Model training in progress...:  76%|███████▌  | 172/227 [00:28<00:08,  6.37it/s]"
          ]
        },
        {
          "output_type": "stream",
          "name": "stdout",
          "text": [
            "Batch sizes for English and German are torch.Size([27, 128]) and torch.Size([33, 128]) respectively.\n",
            "Batch sizes for English and German are torch.Size([30, 128]) and torch.Size([30, 128]) respectively.\n"
          ]
        },
        {
          "output_type": "stream",
          "name": "stderr",
          "text": [
            "Model training in progress...:  77%|███████▋  | 174/227 [00:29<00:09,  5.61it/s]"
          ]
        },
        {
          "output_type": "stream",
          "name": "stdout",
          "text": [
            "Batch sizes for English and German are torch.Size([40, 128]) and torch.Size([34, 128]) respectively.\n"
          ]
        },
        {
          "output_type": "stream",
          "name": "stderr",
          "text": [
            "\rModel training in progress...:  77%|███████▋  | 175/227 [00:29<00:09,  5.56it/s]"
          ]
        },
        {
          "output_type": "stream",
          "name": "stdout",
          "text": [
            "Batch sizes for English and German are torch.Size([34, 128]) and torch.Size([34, 128]) respectively.\n",
            "Batch sizes for English and German are torch.Size([31, 128]) and torch.Size([29, 128]) respectively.\n"
          ]
        },
        {
          "output_type": "stream",
          "name": "stderr",
          "text": [
            "Model training in progress...:  78%|███████▊  | 177/227 [00:29<00:08,  5.83it/s]"
          ]
        },
        {
          "output_type": "stream",
          "name": "stdout",
          "text": [
            "Batch sizes for English and German are torch.Size([28, 128]) and torch.Size([32, 128]) respectively.\n",
            "Batch sizes for English and German are torch.Size([30, 128]) and torch.Size([33, 128]) respectively.\n"
          ]
        },
        {
          "output_type": "stream",
          "name": "stderr",
          "text": [
            "Model training in progress...:  79%|███████▉  | 179/227 [00:30<00:08,  5.91it/s]"
          ]
        },
        {
          "output_type": "stream",
          "name": "stdout",
          "text": [
            "Batch sizes for English and German are torch.Size([30, 128]) and torch.Size([31, 128]) respectively.\n",
            "Batch sizes for English and German are torch.Size([36, 128]) and torch.Size([31, 128]) respectively.\n"
          ]
        },
        {
          "output_type": "stream",
          "name": "stderr",
          "text": [
            "Model training in progress...:  80%|███████▉  | 181/227 [00:30<00:07,  6.10it/s]"
          ]
        },
        {
          "output_type": "stream",
          "name": "stdout",
          "text": [
            "Batch sizes for English and German are torch.Size([23, 128]) and torch.Size([27, 128]) respectively.\n",
            "Batch sizes for English and German are torch.Size([32, 128]) and torch.Size([26, 128]) respectively.\n"
          ]
        },
        {
          "output_type": "stream",
          "name": "stderr",
          "text": [
            "Model training in progress...:  81%|████████  | 183/227 [00:30<00:07,  5.94it/s]"
          ]
        },
        {
          "output_type": "stream",
          "name": "stdout",
          "text": [
            "Batch sizes for English and German are torch.Size([32, 128]) and torch.Size([37, 128]) respectively.\n",
            "Batch sizes for English and German are torch.Size([30, 128]) and torch.Size([30, 128]) respectively.\n"
          ]
        },
        {
          "output_type": "stream",
          "name": "stderr",
          "text": [
            "Model training in progress...:  81%|████████▏ | 185/227 [00:31<00:06,  6.42it/s]"
          ]
        },
        {
          "output_type": "stream",
          "name": "stdout",
          "text": [
            "Batch sizes for English and German are torch.Size([24, 128]) and torch.Size([26, 128]) respectively.\n",
            "Batch sizes for English and German are torch.Size([27, 128]) and torch.Size([28, 128]) respectively.\n"
          ]
        },
        {
          "output_type": "stream",
          "name": "stderr",
          "text": [
            "Model training in progress...:  82%|████████▏ | 187/227 [00:31<00:06,  6.38it/s]"
          ]
        },
        {
          "output_type": "stream",
          "name": "stdout",
          "text": [
            "Batch sizes for English and German are torch.Size([31, 128]) and torch.Size([34, 128]) respectively.\n",
            "Batch sizes for English and German are torch.Size([29, 128]) and torch.Size([27, 128]) respectively.\n"
          ]
        },
        {
          "output_type": "stream",
          "name": "stderr",
          "text": [
            "Model training in progress...:  83%|████████▎ | 189/227 [00:31<00:06,  6.27it/s]"
          ]
        },
        {
          "output_type": "stream",
          "name": "stdout",
          "text": [
            "Batch sizes for English and German are torch.Size([30, 128]) and torch.Size([32, 128]) respectively.\n",
            "Batch sizes for English and German are torch.Size([27, 128]) and torch.Size([27, 128]) respectively.\n"
          ]
        },
        {
          "output_type": "stream",
          "name": "stderr",
          "text": [
            "\rModel training in progress...:  84%|████████▎ | 190/227 [00:31<00:05,  6.37it/s]"
          ]
        },
        {
          "output_type": "stream",
          "name": "stdout",
          "text": [
            "Batch sizes for English and German are torch.Size([40, 128]) and torch.Size([37, 128]) respectively.\n"
          ]
        },
        {
          "output_type": "stream",
          "name": "stderr",
          "text": [
            "Model training in progress...:  85%|████████▍ | 192/227 [00:32<00:06,  5.56it/s]"
          ]
        },
        {
          "output_type": "stream",
          "name": "stdout",
          "text": [
            "Batch sizes for English and German are torch.Size([34, 128]) and torch.Size([29, 128]) respectively.\n",
            "Batch sizes for English and German are torch.Size([32, 128]) and torch.Size([32, 128]) respectively.\n"
          ]
        },
        {
          "output_type": "stream",
          "name": "stderr",
          "text": [
            "Model training in progress...:  85%|████████▌ | 194/227 [00:32<00:05,  5.75it/s]"
          ]
        },
        {
          "output_type": "stream",
          "name": "stdout",
          "text": [
            "Batch sizes for English and German are torch.Size([28, 128]) and torch.Size([28, 128]) respectively.\n",
            "Batch sizes for English and German are torch.Size([27, 128]) and torch.Size([27, 128]) respectively.\n"
          ]
        },
        {
          "output_type": "stream",
          "name": "stderr",
          "text": [
            "Model training in progress...:  86%|████████▋ | 196/227 [00:32<00:05,  5.87it/s]"
          ]
        },
        {
          "output_type": "stream",
          "name": "stdout",
          "text": [
            "Batch sizes for English and German are torch.Size([32, 128]) and torch.Size([28, 128]) respectively.\n",
            "Batch sizes for English and German are torch.Size([30, 128]) and torch.Size([30, 128]) respectively.\n"
          ]
        },
        {
          "output_type": "stream",
          "name": "stderr",
          "text": [
            "Model training in progress...:  87%|████████▋ | 198/227 [00:33<00:04,  6.24it/s]"
          ]
        },
        {
          "output_type": "stream",
          "name": "stdout",
          "text": [
            "Batch sizes for English and German are torch.Size([26, 128]) and torch.Size([29, 128]) respectively.\n",
            "Batch sizes for English and German are torch.Size([30, 128]) and torch.Size([28, 128]) respectively.\n"
          ]
        },
        {
          "output_type": "stream",
          "name": "stderr",
          "text": [
            "Model training in progress...:  88%|████████▊ | 200/227 [00:33<00:04,  6.14it/s]"
          ]
        },
        {
          "output_type": "stream",
          "name": "stdout",
          "text": [
            "Batch sizes for English and German are torch.Size([31, 128]) and torch.Size([28, 128]) respectively.\n",
            "Batch sizes for English and German are torch.Size([32, 128]) and torch.Size([26, 128]) respectively.\n"
          ]
        },
        {
          "output_type": "stream",
          "name": "stderr",
          "text": [
            "Model training in progress...:  89%|████████▉ | 202/227 [00:33<00:04,  6.11it/s]"
          ]
        },
        {
          "output_type": "stream",
          "name": "stdout",
          "text": [
            "Batch sizes for English and German are torch.Size([28, 128]) and torch.Size([31, 128]) respectively.\n",
            "Batch sizes for English and German are torch.Size([28, 128]) and torch.Size([29, 128]) respectively.\n"
          ]
        },
        {
          "output_type": "stream",
          "name": "stderr",
          "text": [
            "Model training in progress...:  90%|████████▉ | 204/227 [00:34<00:03,  6.25it/s]"
          ]
        },
        {
          "output_type": "stream",
          "name": "stdout",
          "text": [
            "Batch sizes for English and German are torch.Size([28, 128]) and torch.Size([25, 128]) respectively.\n",
            "Batch sizes for English and German are torch.Size([28, 128]) and torch.Size([31, 128]) respectively.\n"
          ]
        },
        {
          "output_type": "stream",
          "name": "stderr",
          "text": [
            "Model training in progress...:  91%|█████████ | 206/227 [00:34<00:03,  6.04it/s]"
          ]
        },
        {
          "output_type": "stream",
          "name": "stdout",
          "text": [
            "Batch sizes for English and German are torch.Size([32, 128]) and torch.Size([31, 128]) respectively.\n",
            "Batch sizes for English and German are torch.Size([33, 128]) and torch.Size([31, 128]) respectively.\n"
          ]
        },
        {
          "output_type": "stream",
          "name": "stderr",
          "text": [
            "Model training in progress...:  92%|█████████▏| 208/227 [00:34<00:03,  6.19it/s]"
          ]
        },
        {
          "output_type": "stream",
          "name": "stdout",
          "text": [
            "Batch sizes for English and German are torch.Size([25, 128]) and torch.Size([28, 128]) respectively.\n",
            "Batch sizes for English and German are torch.Size([26, 128]) and torch.Size([27, 128]) respectively.\n"
          ]
        },
        {
          "output_type": "stream",
          "name": "stderr",
          "text": [
            "Model training in progress...:  93%|█████████▎| 210/227 [00:35<00:02,  6.56it/s]"
          ]
        },
        {
          "output_type": "stream",
          "name": "stdout",
          "text": [
            "Batch sizes for English and German are torch.Size([24, 128]) and torch.Size([25, 128]) respectively.\n",
            "Batch sizes for English and German are torch.Size([31, 128]) and torch.Size([33, 128]) respectively.\n"
          ]
        },
        {
          "output_type": "stream",
          "name": "stderr",
          "text": [
            "Model training in progress...:  93%|█████████▎| 212/227 [00:35<00:02,  5.98it/s]"
          ]
        },
        {
          "output_type": "stream",
          "name": "stdout",
          "text": [
            "Batch sizes for English and German are torch.Size([34, 128]) and torch.Size([26, 128]) respectively.\n",
            "Batch sizes for English and German are torch.Size([26, 128]) and torch.Size([24, 128]) respectively.\n"
          ]
        },
        {
          "output_type": "stream",
          "name": "stderr",
          "text": [
            "Model training in progress...:  94%|█████████▍| 214/227 [00:35<00:02,  6.45it/s]"
          ]
        },
        {
          "output_type": "stream",
          "name": "stdout",
          "text": [
            "Batch sizes for English and German are torch.Size([25, 128]) and torch.Size([25, 128]) respectively.\n",
            "Batch sizes for English and German are torch.Size([32, 128]) and torch.Size([29, 128]) respectively.\n"
          ]
        },
        {
          "output_type": "stream",
          "name": "stderr",
          "text": [
            "Model training in progress...:  95%|█████████▌| 216/227 [00:36<00:01,  6.15it/s]"
          ]
        },
        {
          "output_type": "stream",
          "name": "stdout",
          "text": [
            "Batch sizes for English and German are torch.Size([30, 128]) and torch.Size([30, 128]) respectively.\n",
            "Batch sizes for English and German are torch.Size([35, 128]) and torch.Size([33, 128]) respectively.\n"
          ]
        },
        {
          "output_type": "stream",
          "name": "stderr",
          "text": [
            "Model training in progress...:  96%|█████████▌| 218/227 [00:36<00:01,  5.66it/s]"
          ]
        },
        {
          "output_type": "stream",
          "name": "stdout",
          "text": [
            "Batch sizes for English and German are torch.Size([35, 128]) and torch.Size([33, 128]) respectively.\n",
            "Batch sizes for English and German are torch.Size([30, 128]) and torch.Size([28, 128]) respectively.\n"
          ]
        },
        {
          "output_type": "stream",
          "name": "stderr",
          "text": [
            "Model training in progress...:  97%|█████████▋| 220/227 [00:36<00:01,  5.53it/s]"
          ]
        },
        {
          "output_type": "stream",
          "name": "stdout",
          "text": [
            "Batch sizes for English and German are torch.Size([37, 128]) and torch.Size([38, 128]) respectively.\n"
          ]
        },
        {
          "output_type": "stream",
          "name": "stderr",
          "text": [
            "\rModel training in progress...:  97%|█████████▋| 221/227 [00:37<00:01,  5.78it/s]"
          ]
        },
        {
          "output_type": "stream",
          "name": "stdout",
          "text": [
            "Batch sizes for English and German are torch.Size([28, 128]) and torch.Size([28, 128]) respectively.\n",
            "Batch sizes for English and German are torch.Size([37, 128]) and torch.Size([34, 128]) respectively.\n"
          ]
        },
        {
          "output_type": "stream",
          "name": "stderr",
          "text": [
            "Model training in progress...:  98%|█████████▊| 223/227 [00:37<00:00,  5.78it/s]"
          ]
        },
        {
          "output_type": "stream",
          "name": "stdout",
          "text": [
            "Batch sizes for English and German are torch.Size([29, 128]) and torch.Size([25, 128]) respectively.\n",
            "Batch sizes for English and German are torch.Size([29, 128]) and torch.Size([33, 128]) respectively.\n"
          ]
        },
        {
          "output_type": "stream",
          "name": "stderr",
          "text": [
            "Model training in progress...:  99%|█████████▉| 225/227 [00:37<00:00,  6.10it/s]"
          ]
        },
        {
          "output_type": "stream",
          "name": "stdout",
          "text": [
            "Batch sizes for English and German are torch.Size([28, 128]) and torch.Size([26, 128]) respectively.\n",
            "Batch sizes for English and German are torch.Size([30, 128]) and torch.Size([30, 128]) respectively.\n"
          ]
        },
        {
          "output_type": "stream",
          "name": "stderr",
          "text": [
            "Model training in progress...: 100%|██████████| 227/227 [00:38<00:00,  5.97it/s]\n"
          ]
        },
        {
          "output_type": "stream",
          "name": "stdout",
          "text": [
            "Batch sizes for English and German are torch.Size([24, 72]) and torch.Size([30, 72]) respectively.\n"
          ]
        },
        {
          "output_type": "stream",
          "name": "stderr",
          "text": [
            "\rModel validation in progress...:   0%|          | 0/8 [00:00<?, ?it/s]"
          ]
        },
        {
          "output_type": "stream",
          "name": "stdout",
          "text": [
            "Batch sizes for English and German are torch.Size([27, 128]) and torch.Size([28, 128]) respectively.\n",
            "Batch sizes for English and German are torch.Size([34, 128]) and torch.Size([34, 128]) respectively.\n"
          ]
        },
        {
          "output_type": "stream",
          "name": "stderr",
          "text": [
            "\rModel validation in progress...:  25%|██▌       | 2/8 [00:00<00:00, 12.97it/s]"
          ]
        },
        {
          "output_type": "stream",
          "name": "stdout",
          "text": [
            "Batch sizes for English and German are torch.Size([28, 128]) and torch.Size([27, 128]) respectively.\n"
          ]
        },
        {
          "output_type": "stream",
          "name": "stderr",
          "text": [
            "\rModel validation in progress...:  50%|█████     | 4/8 [00:00<00:00, 12.90it/s]"
          ]
        },
        {
          "output_type": "stream",
          "name": "stdout",
          "text": [
            "Batch sizes for English and German are torch.Size([33, 128]) and torch.Size([35, 128]) respectively.\n",
            "Batch sizes for English and German are torch.Size([28, 128]) and torch.Size([28, 128]) respectively.\n",
            "Batch sizes for English and German are torch.Size([30, 128]) and torch.Size([32, 128]) respectively.\n"
          ]
        },
        {
          "output_type": "stream",
          "name": "stderr",
          "text": [
            "\rModel validation in progress...:  75%|███████▌  | 6/8 [00:00<00:00, 12.80it/s]"
          ]
        },
        {
          "output_type": "stream",
          "name": "stdout",
          "text": [
            "Batch sizes for English and German are torch.Size([32, 128]) and torch.Size([30, 128]) respectively.\n",
            "Batch sizes for English and German are torch.Size([28, 118]) and torch.Size([26, 118]) respectively.\n"
          ]
        },
        {
          "output_type": "stream",
          "name": "stderr",
          "text": [
            "Model validation in progress...: 100%|██████████| 8/8 [00:00<00:00, 12.95it/s]\n"
          ]
        },
        {
          "output_type": "stream",
          "name": "stdout",
          "text": [
            "Epoch: 8\n",
            "Training loss: 3.257\n",
            "Validation loss: 3.993\n",
            "\n",
            "\n"
          ]
        },
        {
          "output_type": "stream",
          "name": "stderr",
          "text": [
            "Model training in progress...:   0%|          | 1/227 [00:00<00:38,  5.92it/s]"
          ]
        },
        {
          "output_type": "stream",
          "name": "stdout",
          "text": [
            "Batch sizes for English and German are torch.Size([30, 128]) and torch.Size([26, 128]) respectively.\n",
            "Batch sizes for English and German are torch.Size([34, 128]) and torch.Size([34, 128]) respectively.\n"
          ]
        },
        {
          "output_type": "stream",
          "name": "stderr",
          "text": [
            "Model training in progress...:   1%|▏         | 3/227 [00:00<00:40,  5.55it/s]"
          ]
        },
        {
          "output_type": "stream",
          "name": "stdout",
          "text": [
            "Batch sizes for English and German are torch.Size([30, 128]) and torch.Size([35, 128]) respectively.\n",
            "Batch sizes for English and German are torch.Size([25, 128]) and torch.Size([27, 128]) respectively.\n"
          ]
        },
        {
          "output_type": "stream",
          "name": "stderr",
          "text": [
            "Model training in progress...:   2%|▏         | 5/227 [00:00<00:37,  5.96it/s]"
          ]
        },
        {
          "output_type": "stream",
          "name": "stdout",
          "text": [
            "Batch sizes for English and German are torch.Size([30, 128]) and torch.Size([33, 128]) respectively.\n",
            "Batch sizes for English and German are torch.Size([31, 128]) and torch.Size([32, 128]) respectively.\n"
          ]
        },
        {
          "output_type": "stream",
          "name": "stderr",
          "text": [
            "Model training in progress...:   3%|▎         | 7/227 [00:01<00:39,  5.55it/s]"
          ]
        },
        {
          "output_type": "stream",
          "name": "stdout",
          "text": [
            "Batch sizes for English and German are torch.Size([36, 128]) and torch.Size([38, 128]) respectively.\n"
          ]
        },
        {
          "output_type": "stream",
          "name": "stderr",
          "text": [
            "\rModel training in progress...:   4%|▎         | 8/227 [00:01<00:38,  5.62it/s]"
          ]
        },
        {
          "output_type": "stream",
          "name": "stdout",
          "text": [
            "Batch sizes for English and German are torch.Size([30, 128]) and torch.Size([32, 128]) respectively.\n",
            "Batch sizes for English and German are torch.Size([31, 128]) and torch.Size([31, 128]) respectively.\n"
          ]
        },
        {
          "output_type": "stream",
          "name": "stderr",
          "text": [
            "Model training in progress...:   4%|▍         | 10/227 [00:01<00:39,  5.52it/s]"
          ]
        },
        {
          "output_type": "stream",
          "name": "stdout",
          "text": [
            "Batch sizes for English and German are torch.Size([31, 128]) and torch.Size([34, 128]) respectively.\n",
            "Batch sizes for English and German are torch.Size([27, 128]) and torch.Size([28, 128]) respectively.\n"
          ]
        },
        {
          "output_type": "stream",
          "name": "stderr",
          "text": [
            "Model training in progress...:   5%|▌         | 12/227 [00:02<00:35,  6.02it/s]"
          ]
        },
        {
          "output_type": "stream",
          "name": "stdout",
          "text": [
            "Batch sizes for English and German are torch.Size([27, 128]) and torch.Size([29, 128]) respectively.\n",
            "Batch sizes for English and German are torch.Size([31, 128]) and torch.Size([36, 128]) respectively.\n"
          ]
        },
        {
          "output_type": "stream",
          "name": "stderr",
          "text": [
            "\rModel training in progress...:   6%|▌         | 13/227 [00:02<00:36,  5.91it/s]"
          ]
        },
        {
          "output_type": "stream",
          "name": "stdout",
          "text": [
            "Batch sizes for English and German are torch.Size([42, 128]) and torch.Size([41, 128]) respectively.\n"
          ]
        },
        {
          "output_type": "stream",
          "name": "stderr",
          "text": [
            "Model training in progress...:   7%|▋         | 15/227 [00:02<00:37,  5.66it/s]"
          ]
        },
        {
          "output_type": "stream",
          "name": "stdout",
          "text": [
            "Batch sizes for English and German are torch.Size([27, 128]) and torch.Size([27, 128]) respectively.\n",
            "Batch sizes for English and German are torch.Size([30, 128]) and torch.Size([31, 128]) respectively.\n"
          ]
        },
        {
          "output_type": "stream",
          "name": "stderr",
          "text": [
            "Model training in progress...:   7%|▋         | 17/227 [00:02<00:35,  5.98it/s]"
          ]
        },
        {
          "output_type": "stream",
          "name": "stdout",
          "text": [
            "Batch sizes for English and German are torch.Size([29, 128]) and torch.Size([27, 128]) respectively.\n",
            "Batch sizes for English and German are torch.Size([36, 128]) and torch.Size([29, 128]) respectively.\n"
          ]
        },
        {
          "output_type": "stream",
          "name": "stderr",
          "text": [
            "Model training in progress...:   8%|▊         | 19/227 [00:03<00:35,  5.94it/s]"
          ]
        },
        {
          "output_type": "stream",
          "name": "stdout",
          "text": [
            "Batch sizes for English and German are torch.Size([28, 128]) and torch.Size([24, 128]) respectively.\n",
            "Batch sizes for English and German are torch.Size([31, 128]) and torch.Size([30, 128]) respectively.\n"
          ]
        },
        {
          "output_type": "stream",
          "name": "stderr",
          "text": [
            "Model training in progress...:   9%|▉         | 21/227 [00:03<00:34,  6.03it/s]"
          ]
        },
        {
          "output_type": "stream",
          "name": "stdout",
          "text": [
            "Batch sizes for English and German are torch.Size([28, 128]) and torch.Size([33, 128]) respectively.\n",
            "Batch sizes for English and German are torch.Size([37, 128]) and torch.Size([38, 128]) respectively.\n"
          ]
        },
        {
          "output_type": "stream",
          "name": "stderr",
          "text": [
            "Model training in progress...:  10%|█         | 23/227 [00:04<00:36,  5.65it/s]"
          ]
        },
        {
          "output_type": "stream",
          "name": "stdout",
          "text": [
            "Batch sizes for English and German are torch.Size([32, 128]) and torch.Size([24, 128]) respectively.\n",
            "Batch sizes for English and German are torch.Size([43, 128]) and torch.Size([36, 128]) respectively.\n"
          ]
        },
        {
          "output_type": "stream",
          "name": "stderr",
          "text": [
            "Model training in progress...:  11%|█         | 25/227 [00:04<00:38,  5.31it/s]"
          ]
        },
        {
          "output_type": "stream",
          "name": "stdout",
          "text": [
            "Batch sizes for English and German are torch.Size([32, 128]) and torch.Size([37, 128]) respectively.\n",
            "Batch sizes for English and German are torch.Size([31, 128]) and torch.Size([33, 128]) respectively.\n"
          ]
        },
        {
          "output_type": "stream",
          "name": "stderr",
          "text": [
            "Model training in progress...:  12%|█▏        | 27/227 [00:04<00:34,  5.82it/s]"
          ]
        },
        {
          "output_type": "stream",
          "name": "stdout",
          "text": [
            "Batch sizes for English and German are torch.Size([27, 128]) and torch.Size([27, 128]) respectively.\n",
            "Batch sizes for English and German are torch.Size([29, 128]) and torch.Size([31, 128]) respectively.\n"
          ]
        },
        {
          "output_type": "stream",
          "name": "stderr",
          "text": [
            "Model training in progress...:  13%|█▎        | 29/227 [00:05<00:33,  5.92it/s]"
          ]
        },
        {
          "output_type": "stream",
          "name": "stdout",
          "text": [
            "Batch sizes for English and German are torch.Size([32, 128]) and torch.Size([28, 128]) respectively.\n",
            "Batch sizes for English and German are torch.Size([37, 128]) and torch.Size([46, 128]) respectively.\n"
          ]
        },
        {
          "output_type": "stream",
          "name": "stderr",
          "text": [
            "Model training in progress...:  14%|█▎        | 31/227 [00:05<00:33,  5.82it/s]"
          ]
        },
        {
          "output_type": "stream",
          "name": "stdout",
          "text": [
            "Batch sizes for English and German are torch.Size([28, 128]) and torch.Size([29, 128]) respectively.\n",
            "Batch sizes for English and German are torch.Size([26, 128]) and torch.Size([27, 128]) respectively.\n"
          ]
        },
        {
          "output_type": "stream",
          "name": "stderr",
          "text": [
            "Model training in progress...:  15%|█▍        | 33/227 [00:05<00:33,  5.83it/s]"
          ]
        },
        {
          "output_type": "stream",
          "name": "stdout",
          "text": [
            "Batch sizes for English and German are torch.Size([34, 128]) and torch.Size([30, 128]) respectively.\n",
            "Batch sizes for English and German are torch.Size([29, 128]) and torch.Size([28, 128]) respectively.\n"
          ]
        },
        {
          "output_type": "stream",
          "name": "stderr",
          "text": [
            "Model training in progress...:  15%|█▌        | 35/227 [00:06<00:30,  6.25it/s]"
          ]
        },
        {
          "output_type": "stream",
          "name": "stdout",
          "text": [
            "Batch sizes for English and German are torch.Size([25, 128]) and torch.Size([27, 128]) respectively.\n",
            "Batch sizes for English and German are torch.Size([28, 128]) and torch.Size([30, 128]) respectively.\n"
          ]
        },
        {
          "output_type": "stream",
          "name": "stderr",
          "text": [
            "Model training in progress...:  16%|█▋        | 37/227 [00:06<00:30,  6.22it/s]"
          ]
        },
        {
          "output_type": "stream",
          "name": "stdout",
          "text": [
            "Batch sizes for English and German are torch.Size([30, 128]) and torch.Size([34, 128]) respectively.\n",
            "Batch sizes for English and German are torch.Size([26, 128]) and torch.Size([24, 128]) respectively.\n"
          ]
        },
        {
          "output_type": "stream",
          "name": "stderr",
          "text": [
            "Model training in progress...:  17%|█▋        | 39/227 [00:06<00:28,  6.60it/s]"
          ]
        },
        {
          "output_type": "stream",
          "name": "stdout",
          "text": [
            "Batch sizes for English and German are torch.Size([27, 128]) and torch.Size([26, 128]) respectively.\n",
            "Batch sizes for English and German are torch.Size([35, 128]) and torch.Size([32, 128]) respectively.\n"
          ]
        },
        {
          "output_type": "stream",
          "name": "stderr",
          "text": [
            "Model training in progress...:  18%|█▊        | 41/227 [00:06<00:28,  6.56it/s]"
          ]
        },
        {
          "output_type": "stream",
          "name": "stdout",
          "text": [
            "Batch sizes for English and German are torch.Size([24, 128]) and torch.Size([24, 128]) respectively.\n",
            "Batch sizes for English and German are torch.Size([33, 128]) and torch.Size([31, 128]) respectively.\n"
          ]
        },
        {
          "output_type": "stream",
          "name": "stderr",
          "text": [
            "Model training in progress...:  19%|█▉        | 43/227 [00:07<00:31,  5.79it/s]"
          ]
        },
        {
          "output_type": "stream",
          "name": "stdout",
          "text": [
            "Batch sizes for English and German are torch.Size([34, 128]) and torch.Size([29, 128]) respectively.\n",
            "Batch sizes for English and German are torch.Size([29, 128]) and torch.Size([29, 128]) respectively.\n"
          ]
        },
        {
          "output_type": "stream",
          "name": "stderr",
          "text": [
            "Model training in progress...:  20%|█▉        | 45/227 [00:07<00:31,  5.84it/s]"
          ]
        },
        {
          "output_type": "stream",
          "name": "stdout",
          "text": [
            "Batch sizes for English and German are torch.Size([31, 128]) and torch.Size([32, 128]) respectively.\n",
            "Batch sizes for English and German are torch.Size([29, 128]) and torch.Size([30, 128]) respectively.\n"
          ]
        },
        {
          "output_type": "stream",
          "name": "stderr",
          "text": [
            "Model training in progress...:  21%|██        | 47/227 [00:08<00:30,  5.89it/s]"
          ]
        },
        {
          "output_type": "stream",
          "name": "stdout",
          "text": [
            "Batch sizes for English and German are torch.Size([30, 128]) and torch.Size([30, 128]) respectively.\n",
            "Batch sizes for English and German are torch.Size([32, 128]) and torch.Size([36, 128]) respectively.\n"
          ]
        },
        {
          "output_type": "stream",
          "name": "stderr",
          "text": [
            "Model training in progress...:  22%|██▏       | 49/227 [00:08<00:32,  5.46it/s]"
          ]
        },
        {
          "output_type": "stream",
          "name": "stdout",
          "text": [
            "Batch sizes for English and German are torch.Size([36, 128]) and torch.Size([33, 128]) respectively.\n",
            "Batch sizes for English and German are torch.Size([30, 128]) and torch.Size([33, 128]) respectively.\n"
          ]
        },
        {
          "output_type": "stream",
          "name": "stderr",
          "text": [
            "Model training in progress...:  22%|██▏       | 51/227 [00:08<00:30,  5.71it/s]"
          ]
        },
        {
          "output_type": "stream",
          "name": "stdout",
          "text": [
            "Batch sizes for English and German are torch.Size([29, 128]) and torch.Size([33, 128]) respectively.\n",
            "Batch sizes for English and German are torch.Size([31, 128]) and torch.Size([31, 128]) respectively.\n"
          ]
        },
        {
          "output_type": "stream",
          "name": "stderr",
          "text": [
            "Model training in progress...:  23%|██▎       | 53/227 [00:09<00:31,  5.48it/s]"
          ]
        },
        {
          "output_type": "stream",
          "name": "stdout",
          "text": [
            "Batch sizes for English and German are torch.Size([34, 128]) and torch.Size([31, 128]) respectively.\n",
            "Batch sizes for English and German are torch.Size([29, 128]) and torch.Size([29, 128]) respectively.\n"
          ]
        },
        {
          "output_type": "stream",
          "name": "stderr",
          "text": [
            "Model training in progress...:  24%|██▍       | 55/227 [00:09<00:30,  5.71it/s]"
          ]
        },
        {
          "output_type": "stream",
          "name": "stdout",
          "text": [
            "Batch sizes for English and German are torch.Size([31, 128]) and torch.Size([32, 128]) respectively.\n",
            "Batch sizes for English and German are torch.Size([30, 128]) and torch.Size([25, 128]) respectively.\n"
          ]
        },
        {
          "output_type": "stream",
          "name": "stderr",
          "text": [
            "Model training in progress...:  25%|██▌       | 57/227 [00:09<00:28,  6.04it/s]"
          ]
        },
        {
          "output_type": "stream",
          "name": "stdout",
          "text": [
            "Batch sizes for English and German are torch.Size([28, 128]) and torch.Size([28, 128]) respectively.\n",
            "Batch sizes for English and German are torch.Size([36, 128]) and torch.Size([37, 128]) respectively.\n"
          ]
        },
        {
          "output_type": "stream",
          "name": "stderr",
          "text": [
            "Model training in progress...:  26%|██▌       | 59/227 [00:10<00:27,  6.03it/s]"
          ]
        },
        {
          "output_type": "stream",
          "name": "stdout",
          "text": [
            "Batch sizes for English and German are torch.Size([26, 128]) and torch.Size([28, 128]) respectively.\n",
            "Batch sizes for English and German are torch.Size([27, 128]) and torch.Size([27, 128]) respectively.\n"
          ]
        },
        {
          "output_type": "stream",
          "name": "stderr",
          "text": [
            "Model training in progress...:  27%|██▋       | 61/227 [00:10<00:27,  6.00it/s]"
          ]
        },
        {
          "output_type": "stream",
          "name": "stdout",
          "text": [
            "Batch sizes for English and German are torch.Size([33, 128]) and torch.Size([30, 128]) respectively.\n",
            "Batch sizes for English and German are torch.Size([31, 128]) and torch.Size([26, 128]) respectively.\n"
          ]
        },
        {
          "output_type": "stream",
          "name": "stderr",
          "text": [
            "Model training in progress...:  28%|██▊       | 63/227 [00:10<00:26,  6.16it/s]"
          ]
        },
        {
          "output_type": "stream",
          "name": "stdout",
          "text": [
            "Batch sizes for English and German are torch.Size([28, 128]) and torch.Size([30, 128]) respectively.\n",
            "Batch sizes for English and German are torch.Size([27, 128]) and torch.Size([31, 128]) respectively.\n"
          ]
        },
        {
          "output_type": "stream",
          "name": "stderr",
          "text": [
            "Model training in progress...:  29%|██▊       | 65/227 [00:11<00:25,  6.38it/s]"
          ]
        },
        {
          "output_type": "stream",
          "name": "stdout",
          "text": [
            "Batch sizes for English and German are torch.Size([28, 128]) and torch.Size([30, 128]) respectively.\n",
            "Batch sizes for English and German are torch.Size([27, 128]) and torch.Size([32, 128]) respectively.\n"
          ]
        },
        {
          "output_type": "stream",
          "name": "stderr",
          "text": [
            "Model training in progress...:  30%|██▉       | 67/227 [00:11<00:26,  5.95it/s]"
          ]
        },
        {
          "output_type": "stream",
          "name": "stdout",
          "text": [
            "Batch sizes for English and German are torch.Size([37, 128]) and torch.Size([29, 128]) respectively.\n",
            "Batch sizes for English and German are torch.Size([27, 128]) and torch.Size([30, 128]) respectively.\n"
          ]
        },
        {
          "output_type": "stream",
          "name": "stderr",
          "text": [
            "Model training in progress...:  30%|███       | 69/227 [00:11<00:27,  5.69it/s]"
          ]
        },
        {
          "output_type": "stream",
          "name": "stdout",
          "text": [
            "Batch sizes for English and German are torch.Size([37, 128]) and torch.Size([36, 128]) respectively.\n"
          ]
        },
        {
          "output_type": "stream",
          "name": "stderr",
          "text": [
            "\rModel training in progress...:  31%|███       | 70/227 [00:11<00:28,  5.58it/s]"
          ]
        },
        {
          "output_type": "stream",
          "name": "stdout",
          "text": [
            "Batch sizes for English and German are torch.Size([34, 128]) and torch.Size([32, 128]) respectively.\n",
            "Batch sizes for English and German are torch.Size([33, 128]) and torch.Size([34, 128]) respectively.\n"
          ]
        },
        {
          "output_type": "stream",
          "name": "stderr",
          "text": [
            "Model training in progress...:  32%|███▏      | 72/227 [00:12<00:26,  5.87it/s]"
          ]
        },
        {
          "output_type": "stream",
          "name": "stdout",
          "text": [
            "Batch sizes for English and German are torch.Size([27, 128]) and torch.Size([25, 128]) respectively.\n",
            "Batch sizes for English and German are torch.Size([42, 128]) and torch.Size([45, 128]) respectively.\n"
          ]
        },
        {
          "output_type": "stream",
          "name": "stderr",
          "text": [
            "Model training in progress...:  33%|███▎      | 74/227 [00:12<00:27,  5.65it/s]"
          ]
        },
        {
          "output_type": "stream",
          "name": "stdout",
          "text": [
            "Batch sizes for English and German are torch.Size([26, 128]) and torch.Size([26, 128]) respectively.\n",
            "Batch sizes for English and German are torch.Size([36, 128]) and torch.Size([38, 128]) respectively.\n"
          ]
        },
        {
          "output_type": "stream",
          "name": "stderr",
          "text": [
            "Model training in progress...:  33%|███▎      | 76/227 [00:13<00:27,  5.48it/s]"
          ]
        },
        {
          "output_type": "stream",
          "name": "stdout",
          "text": [
            "Batch sizes for English and German are torch.Size([33, 128]) and torch.Size([27, 128]) respectively.\n",
            "Batch sizes for English and German are torch.Size([28, 128]) and torch.Size([31, 128]) respectively.\n"
          ]
        },
        {
          "output_type": "stream",
          "name": "stderr",
          "text": [
            "Model training in progress...:  34%|███▍      | 78/227 [00:13<00:24,  6.13it/s]"
          ]
        },
        {
          "output_type": "stream",
          "name": "stdout",
          "text": [
            "Batch sizes for English and German are torch.Size([25, 128]) and torch.Size([25, 128]) respectively.\n",
            "Batch sizes for English and German are torch.Size([33, 128]) and torch.Size([32, 128]) respectively.\n"
          ]
        },
        {
          "output_type": "stream",
          "name": "stderr",
          "text": [
            "Model training in progress...:  35%|███▌      | 80/227 [00:13<00:23,  6.14it/s]"
          ]
        },
        {
          "output_type": "stream",
          "name": "stdout",
          "text": [
            "Batch sizes for English and German are torch.Size([28, 128]) and torch.Size([28, 128]) respectively.\n",
            "Batch sizes for English and German are torch.Size([27, 128]) and torch.Size([29, 128]) respectively.\n"
          ]
        },
        {
          "output_type": "stream",
          "name": "stderr",
          "text": [
            "Model training in progress...:  36%|███▌      | 82/227 [00:14<00:23,  6.14it/s]"
          ]
        },
        {
          "output_type": "stream",
          "name": "stdout",
          "text": [
            "Batch sizes for English and German are torch.Size([30, 128]) and torch.Size([29, 128]) respectively.\n",
            "Batch sizes for English and German are torch.Size([28, 128]) and torch.Size([27, 128]) respectively.\n"
          ]
        },
        {
          "output_type": "stream",
          "name": "stderr",
          "text": [
            "Model training in progress...:  37%|███▋      | 84/227 [00:14<00:22,  6.34it/s]"
          ]
        },
        {
          "output_type": "stream",
          "name": "stdout",
          "text": [
            "Batch sizes for English and German are torch.Size([26, 128]) and torch.Size([29, 128]) respectively.\n",
            "Batch sizes for English and German are torch.Size([31, 128]) and torch.Size([29, 128]) respectively.\n"
          ]
        },
        {
          "output_type": "stream",
          "name": "stderr",
          "text": [
            "Model training in progress...:  38%|███▊      | 86/227 [00:14<00:22,  6.37it/s]"
          ]
        },
        {
          "output_type": "stream",
          "name": "stdout",
          "text": [
            "Batch sizes for English and German are torch.Size([27, 128]) and torch.Size([25, 128]) respectively.\n",
            "Batch sizes for English and German are torch.Size([29, 128]) and torch.Size([27, 128]) respectively.\n"
          ]
        },
        {
          "output_type": "stream",
          "name": "stderr",
          "text": [
            "Model training in progress...:  39%|███▉      | 88/227 [00:14<00:23,  6.03it/s]"
          ]
        },
        {
          "output_type": "stream",
          "name": "stdout",
          "text": [
            "Batch sizes for English and German are torch.Size([34, 128]) and torch.Size([30, 128]) respectively.\n",
            "Batch sizes for English and German are torch.Size([37, 128]) and torch.Size([38, 128]) respectively.\n"
          ]
        },
        {
          "output_type": "stream",
          "name": "stderr",
          "text": [
            "Model training in progress...:  40%|███▉      | 90/227 [00:15<00:24,  5.62it/s]"
          ]
        },
        {
          "output_type": "stream",
          "name": "stdout",
          "text": [
            "Batch sizes for English and German are torch.Size([32, 128]) and torch.Size([36, 128]) respectively.\n",
            "Batch sizes for English and German are torch.Size([39, 128]) and torch.Size([33, 128]) respectively.\n"
          ]
        },
        {
          "output_type": "stream",
          "name": "stderr",
          "text": [
            "Model training in progress...:  41%|████      | 92/227 [00:15<00:24,  5.57it/s]"
          ]
        },
        {
          "output_type": "stream",
          "name": "stdout",
          "text": [
            "Batch sizes for English and German are torch.Size([28, 128]) and torch.Size([27, 128]) respectively.\n",
            "Batch sizes for English and German are torch.Size([28, 128]) and torch.Size([31, 128]) respectively.\n"
          ]
        },
        {
          "output_type": "stream",
          "name": "stderr",
          "text": [
            "Model training in progress...:  41%|████▏     | 94/227 [00:16<00:23,  5.74it/s]"
          ]
        },
        {
          "output_type": "stream",
          "name": "stdout",
          "text": [
            "Batch sizes for English and German are torch.Size([32, 128]) and torch.Size([30, 128]) respectively.\n",
            "Batch sizes for English and German are torch.Size([24, 128]) and torch.Size([25, 128]) respectively.\n"
          ]
        },
        {
          "output_type": "stream",
          "name": "stderr",
          "text": [
            "Model training in progress...:  42%|████▏     | 96/227 [00:16<00:21,  6.18it/s]"
          ]
        },
        {
          "output_type": "stream",
          "name": "stdout",
          "text": [
            "Batch sizes for English and German are torch.Size([28, 128]) and torch.Size([27, 128]) respectively.\n",
            "Batch sizes for English and German are torch.Size([31, 128]) and torch.Size([30, 128]) respectively.\n"
          ]
        },
        {
          "output_type": "stream",
          "name": "stderr",
          "text": [
            "Model training in progress...:  43%|████▎     | 98/227 [00:16<00:20,  6.30it/s]"
          ]
        },
        {
          "output_type": "stream",
          "name": "stdout",
          "text": [
            "Batch sizes for English and German are torch.Size([25, 128]) and torch.Size([26, 128]) respectively.\n",
            "Batch sizes for English and German are torch.Size([26, 128]) and torch.Size([34, 128]) respectively.\n"
          ]
        },
        {
          "output_type": "stream",
          "name": "stderr",
          "text": [
            "Model training in progress...:  44%|████▍     | 100/227 [00:16<00:19,  6.53it/s]"
          ]
        },
        {
          "output_type": "stream",
          "name": "stdout",
          "text": [
            "Batch sizes for English and German are torch.Size([27, 128]) and torch.Size([33, 128]) respectively.\n",
            "Batch sizes for English and German are torch.Size([31, 128]) and torch.Size([26, 128]) respectively.\n"
          ]
        },
        {
          "output_type": "stream",
          "name": "stderr",
          "text": [
            "Model training in progress...:  45%|████▍     | 102/227 [00:17<00:19,  6.32it/s]"
          ]
        },
        {
          "output_type": "stream",
          "name": "stdout",
          "text": [
            "Batch sizes for English and German are torch.Size([28, 128]) and torch.Size([25, 128]) respectively.\n",
            "Batch sizes for English and German are torch.Size([31, 128]) and torch.Size([30, 128]) respectively.\n"
          ]
        },
        {
          "output_type": "stream",
          "name": "stderr",
          "text": [
            "Model training in progress...:  46%|████▌     | 104/227 [00:17<00:20,  5.87it/s]"
          ]
        },
        {
          "output_type": "stream",
          "name": "stdout",
          "text": [
            "Batch sizes for English and German are torch.Size([35, 128]) and torch.Size([34, 128]) respectively.\n",
            "Batch sizes for English and German are torch.Size([28, 128]) and torch.Size([27, 128]) respectively.\n"
          ]
        },
        {
          "output_type": "stream",
          "name": "stderr",
          "text": [
            "Model training in progress...:  47%|████▋     | 106/227 [00:17<00:18,  6.41it/s]"
          ]
        },
        {
          "output_type": "stream",
          "name": "stdout",
          "text": [
            "Batch sizes for English and German are torch.Size([24, 128]) and torch.Size([23, 128]) respectively.\n",
            "Batch sizes for English and German are torch.Size([38, 128]) and torch.Size([36, 128]) respectively.\n"
          ]
        },
        {
          "output_type": "stream",
          "name": "stderr",
          "text": [
            "Model training in progress...:  48%|████▊     | 108/227 [00:18<00:20,  5.92it/s]"
          ]
        },
        {
          "output_type": "stream",
          "name": "stdout",
          "text": [
            "Batch sizes for English and German are torch.Size([29, 128]) and torch.Size([31, 128]) respectively.\n",
            "Batch sizes for English and German are torch.Size([32, 128]) and torch.Size([31, 128]) respectively.\n"
          ]
        },
        {
          "output_type": "stream",
          "name": "stderr",
          "text": [
            "Model training in progress...:  48%|████▊     | 110/227 [00:18<00:19,  5.98it/s]"
          ]
        },
        {
          "output_type": "stream",
          "name": "stdout",
          "text": [
            "Batch sizes for English and German are torch.Size([28, 128]) and torch.Size([29, 128]) respectively.\n",
            "Batch sizes for English and German are torch.Size([30, 128]) and torch.Size([24, 128]) respectively.\n"
          ]
        },
        {
          "output_type": "stream",
          "name": "stderr",
          "text": [
            "Model training in progress...:  49%|████▉     | 112/227 [00:19<00:19,  5.93it/s]"
          ]
        },
        {
          "output_type": "stream",
          "name": "stdout",
          "text": [
            "Batch sizes for English and German are torch.Size([32, 128]) and torch.Size([32, 128]) respectively.\n",
            "Batch sizes for English and German are torch.Size([28, 128]) and torch.Size([25, 128]) respectively.\n"
          ]
        },
        {
          "output_type": "stream",
          "name": "stderr",
          "text": [
            "Model training in progress...:  50%|█████     | 114/227 [00:19<00:18,  6.26it/s]"
          ]
        },
        {
          "output_type": "stream",
          "name": "stdout",
          "text": [
            "Batch sizes for English and German are torch.Size([26, 128]) and torch.Size([28, 128]) respectively.\n",
            "Batch sizes for English and German are torch.Size([33, 128]) and torch.Size([30, 128]) respectively.\n"
          ]
        },
        {
          "output_type": "stream",
          "name": "stderr",
          "text": [
            "Model training in progress...:  51%|█████     | 116/227 [00:19<00:18,  5.92it/s]"
          ]
        },
        {
          "output_type": "stream",
          "name": "stdout",
          "text": [
            "Batch sizes for English and German are torch.Size([30, 128]) and torch.Size([28, 128]) respectively.\n",
            "Batch sizes for English and German are torch.Size([26, 128]) and torch.Size([30, 128]) respectively.\n"
          ]
        },
        {
          "output_type": "stream",
          "name": "stderr",
          "text": [
            "Model training in progress...:  52%|█████▏    | 118/227 [00:19<00:17,  6.28it/s]"
          ]
        },
        {
          "output_type": "stream",
          "name": "stdout",
          "text": [
            "Batch sizes for English and German are torch.Size([27, 128]) and torch.Size([26, 128]) respectively.\n",
            "Batch sizes for English and German are torch.Size([25, 128]) and torch.Size([23, 128]) respectively.\n"
          ]
        },
        {
          "output_type": "stream",
          "name": "stderr",
          "text": [
            "Model training in progress...:  53%|█████▎    | 120/227 [00:20<00:16,  6.60it/s]"
          ]
        },
        {
          "output_type": "stream",
          "name": "stdout",
          "text": [
            "Batch sizes for English and German are torch.Size([26, 128]) and torch.Size([26, 128]) respectively.\n",
            "Batch sizes for English and German are torch.Size([35, 128]) and torch.Size([33, 128]) respectively.\n"
          ]
        },
        {
          "output_type": "stream",
          "name": "stderr",
          "text": [
            "Model training in progress...:  54%|█████▎    | 122/227 [00:20<00:17,  5.88it/s]"
          ]
        },
        {
          "output_type": "stream",
          "name": "stdout",
          "text": [
            "Batch sizes for English and German are torch.Size([33, 128]) and torch.Size([31, 128]) respectively.\n",
            "Batch sizes for English and German are torch.Size([25, 128]) and torch.Size([23, 128]) respectively.\n"
          ]
        },
        {
          "output_type": "stream",
          "name": "stderr",
          "text": [
            "\rModel training in progress...:  54%|█████▍    | 123/227 [00:20<00:16,  6.22it/s]"
          ]
        },
        {
          "output_type": "stream",
          "name": "stdout",
          "text": [
            "Batch sizes for English and German are torch.Size([40, 128]) and torch.Size([34, 128]) respectively.\n"
          ]
        },
        {
          "output_type": "stream",
          "name": "stderr",
          "text": [
            "Model training in progress...:  55%|█████▌    | 125/227 [00:21<00:18,  5.42it/s]"
          ]
        },
        {
          "output_type": "stream",
          "name": "stdout",
          "text": [
            "Batch sizes for English and German are torch.Size([32, 128]) and torch.Size([34, 128]) respectively.\n",
            "Batch sizes for English and German are torch.Size([26, 128]) and torch.Size([27, 128]) respectively.\n"
          ]
        },
        {
          "output_type": "stream",
          "name": "stderr",
          "text": [
            "Model training in progress...:  56%|█████▌    | 127/227 [00:21<00:17,  5.85it/s]"
          ]
        },
        {
          "output_type": "stream",
          "name": "stdout",
          "text": [
            "Batch sizes for English and German are torch.Size([28, 128]) and torch.Size([26, 128]) respectively.\n",
            "Batch sizes for English and German are torch.Size([27, 128]) and torch.Size([27, 128]) respectively.\n"
          ]
        },
        {
          "output_type": "stream",
          "name": "stderr",
          "text": [
            "Model training in progress...:  57%|█████▋    | 129/227 [00:21<00:15,  6.23it/s]"
          ]
        },
        {
          "output_type": "stream",
          "name": "stdout",
          "text": [
            "Batch sizes for English and German are torch.Size([28, 128]) and torch.Size([28, 128]) respectively.\n",
            "Batch sizes for English and German are torch.Size([30, 128]) and torch.Size([33, 128]) respectively.\n"
          ]
        },
        {
          "output_type": "stream",
          "name": "stderr",
          "text": [
            "Model training in progress...:  58%|█████▊    | 131/227 [00:22<00:15,  6.11it/s]"
          ]
        },
        {
          "output_type": "stream",
          "name": "stdout",
          "text": [
            "Batch sizes for English and German are torch.Size([31, 128]) and torch.Size([28, 128]) respectively.\n",
            "Batch sizes for English and German are torch.Size([26, 128]) and torch.Size([28, 128]) respectively.\n"
          ]
        },
        {
          "output_type": "stream",
          "name": "stderr",
          "text": [
            "Model training in progress...:  59%|█████▊    | 133/227 [00:22<00:14,  6.52it/s]"
          ]
        },
        {
          "output_type": "stream",
          "name": "stdout",
          "text": [
            "Batch sizes for English and German are torch.Size([26, 128]) and torch.Size([27, 128]) respectively.\n",
            "Batch sizes for English and German are torch.Size([32, 128]) and torch.Size([29, 128]) respectively.\n"
          ]
        },
        {
          "output_type": "stream",
          "name": "stderr",
          "text": [
            "Model training in progress...:  59%|█████▉    | 135/227 [00:22<00:14,  6.35it/s]"
          ]
        },
        {
          "output_type": "stream",
          "name": "stdout",
          "text": [
            "Batch sizes for English and German are torch.Size([28, 128]) and torch.Size([28, 128]) respectively.\n",
            "Batch sizes for English and German are torch.Size([32, 128]) and torch.Size([32, 128]) respectively.\n"
          ]
        },
        {
          "output_type": "stream",
          "name": "stderr",
          "text": [
            "Model training in progress...:  60%|██████    | 137/227 [00:23<00:15,  5.83it/s]"
          ]
        },
        {
          "output_type": "stream",
          "name": "stdout",
          "text": [
            "Batch sizes for English and German are torch.Size([36, 128]) and torch.Size([37, 128]) respectively.\n",
            "Batch sizes for English and German are torch.Size([31, 128]) and torch.Size([31, 128]) respectively.\n"
          ]
        },
        {
          "output_type": "stream",
          "name": "stderr",
          "text": [
            "Model training in progress...:  61%|██████    | 139/227 [00:23<00:14,  5.87it/s]"
          ]
        },
        {
          "output_type": "stream",
          "name": "stdout",
          "text": [
            "Batch sizes for English and German are torch.Size([30, 128]) and torch.Size([28, 128]) respectively.\n",
            "Batch sizes for English and German are torch.Size([27, 128]) and torch.Size([26, 128]) respectively.\n"
          ]
        },
        {
          "output_type": "stream",
          "name": "stderr",
          "text": [
            "Model training in progress...:  62%|██████▏   | 141/227 [00:23<00:13,  6.18it/s]"
          ]
        },
        {
          "output_type": "stream",
          "name": "stdout",
          "text": [
            "Batch sizes for English and German are torch.Size([28, 128]) and torch.Size([27, 128]) respectively.\n",
            "Batch sizes for English and German are torch.Size([37, 128]) and torch.Size([30, 128]) respectively.\n"
          ]
        },
        {
          "output_type": "stream",
          "name": "stderr",
          "text": [
            "Model training in progress...:  63%|██████▎   | 143/227 [00:24<00:13,  6.01it/s]"
          ]
        },
        {
          "output_type": "stream",
          "name": "stdout",
          "text": [
            "Batch sizes for English and German are torch.Size([28, 128]) and torch.Size([32, 128]) respectively.\n",
            "Batch sizes for English and German are torch.Size([26, 128]) and torch.Size([24, 128]) respectively.\n"
          ]
        },
        {
          "output_type": "stream",
          "name": "stderr",
          "text": [
            "Model training in progress...:  64%|██████▍   | 145/227 [00:24<00:13,  6.01it/s]"
          ]
        },
        {
          "output_type": "stream",
          "name": "stdout",
          "text": [
            "Batch sizes for English and German are torch.Size([33, 128]) and torch.Size([34, 128]) respectively.\n",
            "Batch sizes for English and German are torch.Size([29, 128]) and torch.Size([27, 128]) respectively.\n"
          ]
        },
        {
          "output_type": "stream",
          "name": "stderr",
          "text": [
            "Model training in progress...:  65%|██████▍   | 147/227 [00:24<00:13,  5.82it/s]"
          ]
        },
        {
          "output_type": "stream",
          "name": "stdout",
          "text": [
            "Batch sizes for English and German are torch.Size([34, 128]) and torch.Size([36, 128]) respectively.\n",
            "Batch sizes for English and German are torch.Size([31, 128]) and torch.Size([26, 128]) respectively.\n"
          ]
        },
        {
          "output_type": "stream",
          "name": "stderr",
          "text": [
            "Model training in progress...:  66%|██████▌   | 149/227 [00:25<00:13,  5.92it/s]"
          ]
        },
        {
          "output_type": "stream",
          "name": "stdout",
          "text": [
            "Batch sizes for English and German are torch.Size([30, 128]) and torch.Size([30, 128]) respectively.\n",
            "Batch sizes for English and German are torch.Size([30, 128]) and torch.Size([31, 128]) respectively.\n"
          ]
        },
        {
          "output_type": "stream",
          "name": "stderr",
          "text": [
            "Model training in progress...:  67%|██████▋   | 151/227 [00:25<00:12,  6.18it/s]"
          ]
        },
        {
          "output_type": "stream",
          "name": "stdout",
          "text": [
            "Batch sizes for English and German are torch.Size([27, 128]) and torch.Size([26, 128]) respectively.\n",
            "Batch sizes for English and German are torch.Size([30, 128]) and torch.Size([33, 128]) respectively.\n"
          ]
        },
        {
          "output_type": "stream",
          "name": "stderr",
          "text": [
            "Model training in progress...:  67%|██████▋   | 153/227 [00:25<00:12,  5.76it/s]"
          ]
        },
        {
          "output_type": "stream",
          "name": "stdout",
          "text": [
            "Batch sizes for English and German are torch.Size([35, 128]) and torch.Size([33, 128]) respectively.\n",
            "Batch sizes for English and German are torch.Size([28, 128]) and torch.Size([27, 128]) respectively.\n"
          ]
        },
        {
          "output_type": "stream",
          "name": "stderr",
          "text": [
            "Model training in progress...:  68%|██████▊   | 155/227 [00:26<00:12,  5.62it/s]"
          ]
        },
        {
          "output_type": "stream",
          "name": "stdout",
          "text": [
            "Batch sizes for English and German are torch.Size([37, 128]) and torch.Size([35, 128]) respectively.\n",
            "Batch sizes for English and German are torch.Size([27, 128]) and torch.Size([30, 128]) respectively.\n"
          ]
        },
        {
          "output_type": "stream",
          "name": "stderr",
          "text": [
            "Model training in progress...:  69%|██████▉   | 157/227 [00:26<00:12,  5.78it/s]"
          ]
        },
        {
          "output_type": "stream",
          "name": "stdout",
          "text": [
            "Batch sizes for English and German are torch.Size([34, 128]) and torch.Size([33, 128]) respectively.\n",
            "Batch sizes for English and German are torch.Size([30, 128]) and torch.Size([33, 128]) respectively.\n"
          ]
        },
        {
          "output_type": "stream",
          "name": "stderr",
          "text": [
            "Model training in progress...:  70%|███████   | 159/227 [00:26<00:11,  6.00it/s]"
          ]
        },
        {
          "output_type": "stream",
          "name": "stdout",
          "text": [
            "Batch sizes for English and German are torch.Size([28, 128]) and torch.Size([28, 128]) respectively.\n",
            "Batch sizes for English and German are torch.Size([28, 128]) and torch.Size([28, 128]) respectively.\n"
          ]
        },
        {
          "output_type": "stream",
          "name": "stderr",
          "text": [
            "Model training in progress...:  71%|███████   | 161/227 [00:27<00:11,  5.96it/s]"
          ]
        },
        {
          "output_type": "stream",
          "name": "stdout",
          "text": [
            "Batch sizes for English and German are torch.Size([32, 128]) and torch.Size([27, 128]) respectively.\n",
            "Batch sizes for English and German are torch.Size([25, 128]) and torch.Size([23, 128]) respectively.\n"
          ]
        },
        {
          "output_type": "stream",
          "name": "stderr",
          "text": [
            "Model training in progress...:  72%|███████▏  | 163/227 [00:27<00:10,  6.35it/s]"
          ]
        },
        {
          "output_type": "stream",
          "name": "stdout",
          "text": [
            "Batch sizes for English and German are torch.Size([29, 128]) and torch.Size([24, 128]) respectively.\n",
            "Batch sizes for English and German are torch.Size([26, 128]) and torch.Size([22, 128]) respectively.\n"
          ]
        },
        {
          "output_type": "stream",
          "name": "stderr",
          "text": [
            "Model training in progress...:  73%|███████▎  | 165/227 [00:27<00:09,  6.28it/s]"
          ]
        },
        {
          "output_type": "stream",
          "name": "stdout",
          "text": [
            "Batch sizes for English and German are torch.Size([32, 128]) and torch.Size([28, 128]) respectively.\n",
            "Batch sizes for English and German are torch.Size([37, 128]) and torch.Size([38, 128]) respectively.\n"
          ]
        },
        {
          "output_type": "stream",
          "name": "stderr",
          "text": [
            "Model training in progress...:  74%|███████▎  | 167/227 [00:28<00:10,  5.68it/s]"
          ]
        },
        {
          "output_type": "stream",
          "name": "stdout",
          "text": [
            "Batch sizes for English and German are torch.Size([34, 128]) and torch.Size([29, 128]) respectively.\n",
            "Batch sizes for English and German are torch.Size([30, 128]) and torch.Size([28, 128]) respectively.\n"
          ]
        },
        {
          "output_type": "stream",
          "name": "stderr",
          "text": [
            "Model training in progress...:  74%|███████▍  | 169/227 [00:28<00:10,  5.57it/s]"
          ]
        },
        {
          "output_type": "stream",
          "name": "stdout",
          "text": [
            "Batch sizes for English and German are torch.Size([36, 128]) and torch.Size([30, 128]) respectively.\n",
            "Batch sizes for English and German are torch.Size([31, 128]) and torch.Size([29, 128]) respectively.\n"
          ]
        },
        {
          "output_type": "stream",
          "name": "stderr",
          "text": [
            "Model training in progress...:  75%|███████▌  | 171/227 [00:28<00:09,  5.63it/s]"
          ]
        },
        {
          "output_type": "stream",
          "name": "stdout",
          "text": [
            "Batch sizes for English and German are torch.Size([33, 128]) and torch.Size([35, 128]) respectively.\n",
            "Batch sizes for English and German are torch.Size([29, 128]) and torch.Size([27, 128]) respectively.\n"
          ]
        },
        {
          "output_type": "stream",
          "name": "stderr",
          "text": [
            "\rModel training in progress...:  76%|███████▌  | 172/227 [00:29<00:09,  5.84it/s]"
          ]
        },
        {
          "output_type": "stream",
          "name": "stdout",
          "text": [
            "Batch sizes for English and German are torch.Size([41, 128]) and torch.Size([34, 128]) respectively.\n"
          ]
        },
        {
          "output_type": "stream",
          "name": "stderr",
          "text": [
            "Model training in progress...:  77%|███████▋  | 174/227 [00:29<00:09,  5.65it/s]"
          ]
        },
        {
          "output_type": "stream",
          "name": "stdout",
          "text": [
            "Batch sizes for English and German are torch.Size([28, 128]) and torch.Size([30, 128]) respectively.\n",
            "Batch sizes for English and German are torch.Size([28, 128]) and torch.Size([31, 128]) respectively.\n"
          ]
        },
        {
          "output_type": "stream",
          "name": "stderr",
          "text": [
            "Model training in progress...:  78%|███████▊  | 176/227 [00:29<00:08,  6.07it/s]"
          ]
        },
        {
          "output_type": "stream",
          "name": "stdout",
          "text": [
            "Batch sizes for English and German are torch.Size([29, 128]) and torch.Size([25, 128]) respectively.\n",
            "Batch sizes for English and German are torch.Size([28, 128]) and torch.Size([33, 128]) respectively.\n"
          ]
        },
        {
          "output_type": "stream",
          "name": "stderr",
          "text": [
            "Model training in progress...:  78%|███████▊  | 178/227 [00:30<00:07,  6.24it/s]"
          ]
        },
        {
          "output_type": "stream",
          "name": "stdout",
          "text": [
            "Batch sizes for English and German are torch.Size([29, 128]) and torch.Size([30, 128]) respectively.\n",
            "Batch sizes for English and German are torch.Size([37, 128]) and torch.Size([34, 128]) respectively.\n"
          ]
        },
        {
          "output_type": "stream",
          "name": "stderr",
          "text": [
            "Model training in progress...:  79%|███████▉  | 180/227 [00:30<00:08,  5.85it/s]"
          ]
        },
        {
          "output_type": "stream",
          "name": "stdout",
          "text": [
            "Batch sizes for English and German are torch.Size([30, 128]) and torch.Size([29, 128]) respectively.\n",
            "Batch sizes for English and German are torch.Size([40, 128]) and torch.Size([37, 128]) respectively.\n"
          ]
        },
        {
          "output_type": "stream",
          "name": "stderr",
          "text": [
            "Model training in progress...:  80%|████████  | 182/227 [00:30<00:07,  5.78it/s]"
          ]
        },
        {
          "output_type": "stream",
          "name": "stdout",
          "text": [
            "Batch sizes for English and German are torch.Size([26, 128]) and torch.Size([27, 128]) respectively.\n",
            "Batch sizes for English and German are torch.Size([32, 128]) and torch.Size([30, 128]) respectively.\n"
          ]
        },
        {
          "output_type": "stream",
          "name": "stderr",
          "text": [
            "Model training in progress...:  81%|████████  | 184/227 [00:31<00:07,  5.99it/s]"
          ]
        },
        {
          "output_type": "stream",
          "name": "stdout",
          "text": [
            "Batch sizes for English and German are torch.Size([28, 128]) and torch.Size([27, 128]) respectively.\n",
            "Batch sizes for English and German are torch.Size([27, 128]) and torch.Size([29, 128]) respectively.\n"
          ]
        },
        {
          "output_type": "stream",
          "name": "stderr",
          "text": [
            "Model training in progress...:  82%|████████▏ | 186/227 [00:31<00:06,  6.08it/s]"
          ]
        },
        {
          "output_type": "stream",
          "name": "stdout",
          "text": [
            "Batch sizes for English and German are torch.Size([31, 128]) and torch.Size([30, 128]) respectively.\n",
            "Batch sizes for English and German are torch.Size([32, 128]) and torch.Size([25, 128]) respectively.\n"
          ]
        },
        {
          "output_type": "stream",
          "name": "stderr",
          "text": [
            "Model training in progress...:  83%|████████▎ | 188/227 [00:31<00:06,  5.63it/s]"
          ]
        },
        {
          "output_type": "stream",
          "name": "stdout",
          "text": [
            "Batch sizes for English and German are torch.Size([36, 128]) and torch.Size([31, 128]) respectively.\n",
            "Batch sizes for English and German are torch.Size([27, 128]) and torch.Size([28, 128]) respectively.\n"
          ]
        },
        {
          "output_type": "stream",
          "name": "stderr",
          "text": [
            "Model training in progress...:  84%|████████▎ | 190/227 [00:32<00:05,  6.23it/s]"
          ]
        },
        {
          "output_type": "stream",
          "name": "stdout",
          "text": [
            "Batch sizes for English and German are torch.Size([25, 128]) and torch.Size([26, 128]) respectively.\n",
            "Batch sizes for English and German are torch.Size([25, 128]) and torch.Size([27, 128]) respectively.\n"
          ]
        },
        {
          "output_type": "stream",
          "name": "stderr",
          "text": [
            "Model training in progress...:  85%|████████▍ | 192/227 [00:32<00:05,  5.98it/s]"
          ]
        },
        {
          "output_type": "stream",
          "name": "stdout",
          "text": [
            "Batch sizes for English and German are torch.Size([35, 128]) and torch.Size([33, 128]) respectively.\n",
            "Batch sizes for English and German are torch.Size([35, 128]) and torch.Size([31, 128]) respectively.\n"
          ]
        },
        {
          "output_type": "stream",
          "name": "stderr",
          "text": [
            "Model training in progress...:  85%|████████▌ | 194/227 [00:32<00:05,  5.65it/s]"
          ]
        },
        {
          "output_type": "stream",
          "name": "stdout",
          "text": [
            "Batch sizes for English and German are torch.Size([32, 128]) and torch.Size([28, 128]) respectively.\n",
            "Batch sizes for English and German are torch.Size([29, 128]) and torch.Size([29, 128]) respectively.\n"
          ]
        },
        {
          "output_type": "stream",
          "name": "stderr",
          "text": [
            "Model training in progress...:  86%|████████▋ | 196/227 [00:33<00:05,  5.75it/s]"
          ]
        },
        {
          "output_type": "stream",
          "name": "stdout",
          "text": [
            "Batch sizes for English and German are torch.Size([32, 128]) and torch.Size([27, 128]) respectively.\n",
            "Batch sizes for English and German are torch.Size([35, 128]) and torch.Size([37, 128]) respectively.\n"
          ]
        },
        {
          "output_type": "stream",
          "name": "stderr",
          "text": [
            "Model training in progress...:  87%|████████▋ | 198/227 [00:33<00:05,  5.62it/s]"
          ]
        },
        {
          "output_type": "stream",
          "name": "stdout",
          "text": [
            "Batch sizes for English and German are torch.Size([30, 128]) and torch.Size([31, 128]) respectively.\n",
            "Batch sizes for English and German are torch.Size([40, 128]) and torch.Size([37, 128]) respectively.\n"
          ]
        },
        {
          "output_type": "stream",
          "name": "stderr",
          "text": [
            "Model training in progress...:  88%|████████▊ | 200/227 [00:33<00:05,  5.30it/s]"
          ]
        },
        {
          "output_type": "stream",
          "name": "stdout",
          "text": [
            "Batch sizes for English and German are torch.Size([32, 128]) and torch.Size([32, 128]) respectively.\n",
            "Batch sizes for English and German are torch.Size([29, 128]) and torch.Size([28, 128]) respectively.\n"
          ]
        },
        {
          "output_type": "stream",
          "name": "stderr",
          "text": [
            "Model training in progress...:  89%|████████▉ | 202/227 [00:34<00:04,  5.74it/s]"
          ]
        },
        {
          "output_type": "stream",
          "name": "stdout",
          "text": [
            "Batch sizes for English and German are torch.Size([30, 128]) and torch.Size([25, 128]) respectively.\n",
            "Batch sizes for English and German are torch.Size([30, 128]) and torch.Size([36, 128]) respectively.\n"
          ]
        },
        {
          "output_type": "stream",
          "name": "stderr",
          "text": [
            "Model training in progress...:  90%|████████▉ | 204/227 [00:34<00:03,  6.14it/s]"
          ]
        },
        {
          "output_type": "stream",
          "name": "stdout",
          "text": [
            "Batch sizes for English and German are torch.Size([26, 128]) and torch.Size([25, 128]) respectively.\n",
            "Batch sizes for English and German are torch.Size([41, 128]) and torch.Size([45, 128]) respectively.\n"
          ]
        },
        {
          "output_type": "stream",
          "name": "stderr",
          "text": [
            "Model training in progress...:  91%|█████████ | 206/227 [00:34<00:03,  5.72it/s]"
          ]
        },
        {
          "output_type": "stream",
          "name": "stdout",
          "text": [
            "Batch sizes for English and German are torch.Size([28, 128]) and torch.Size([29, 128]) respectively.\n",
            "Batch sizes for English and German are torch.Size([25, 128]) and torch.Size([26, 128]) respectively.\n"
          ]
        },
        {
          "output_type": "stream",
          "name": "stderr",
          "text": [
            "Model training in progress...:  92%|█████████▏| 208/227 [00:35<00:03,  6.21it/s]"
          ]
        },
        {
          "output_type": "stream",
          "name": "stdout",
          "text": [
            "Batch sizes for English and German are torch.Size([28, 128]) and torch.Size([30, 128]) respectively.\n",
            "Batch sizes for English and German are torch.Size([26, 128]) and torch.Size([27, 128]) respectively.\n"
          ]
        },
        {
          "output_type": "stream",
          "name": "stderr",
          "text": [
            "Model training in progress...:  93%|█████████▎| 210/227 [00:35<00:02,  6.86it/s]"
          ]
        },
        {
          "output_type": "stream",
          "name": "stdout",
          "text": [
            "Batch sizes for English and German are torch.Size([23, 128]) and torch.Size([23, 128]) respectively.\n",
            "Batch sizes for English and German are torch.Size([32, 128]) and torch.Size([32, 128]) respectively.\n"
          ]
        },
        {
          "output_type": "stream",
          "name": "stderr",
          "text": [
            "Model training in progress...:  93%|█████████▎| 212/227 [00:35<00:02,  6.44it/s]"
          ]
        },
        {
          "output_type": "stream",
          "name": "stdout",
          "text": [
            "Batch sizes for English and German are torch.Size([28, 128]) and torch.Size([28, 128]) respectively.\n",
            "Batch sizes for English and German are torch.Size([31, 128]) and torch.Size([27, 128]) respectively.\n"
          ]
        },
        {
          "output_type": "stream",
          "name": "stderr",
          "text": [
            "Model training in progress...:  94%|█████████▍| 214/227 [00:36<00:02,  6.04it/s]"
          ]
        },
        {
          "output_type": "stream",
          "name": "stdout",
          "text": [
            "Batch sizes for English and German are torch.Size([32, 128]) and torch.Size([30, 128]) respectively.\n",
            "Batch sizes for English and German are torch.Size([37, 128]) and torch.Size([38, 128]) respectively.\n"
          ]
        },
        {
          "output_type": "stream",
          "name": "stderr",
          "text": [
            "Model training in progress...:  95%|█████████▌| 216/227 [00:36<00:01,  5.81it/s]"
          ]
        },
        {
          "output_type": "stream",
          "name": "stdout",
          "text": [
            "Batch sizes for English and German are torch.Size([28, 128]) and torch.Size([27, 128]) respectively.\n",
            "Batch sizes for English and German are torch.Size([28, 128]) and torch.Size([22, 128]) respectively.\n"
          ]
        },
        {
          "output_type": "stream",
          "name": "stderr",
          "text": [
            "Model training in progress...:  96%|█████████▌| 218/227 [00:36<00:01,  5.88it/s]"
          ]
        },
        {
          "output_type": "stream",
          "name": "stdout",
          "text": [
            "Batch sizes for English and German are torch.Size([31, 128]) and torch.Size([28, 128]) respectively.\n",
            "Batch sizes for English and German are torch.Size([27, 128]) and torch.Size([24, 128]) respectively.\n"
          ]
        },
        {
          "output_type": "stream",
          "name": "stderr",
          "text": [
            "Model training in progress...:  97%|█████████▋| 220/227 [00:37<00:01,  6.07it/s]"
          ]
        },
        {
          "output_type": "stream",
          "name": "stdout",
          "text": [
            "Batch sizes for English and German are torch.Size([29, 128]) and torch.Size([32, 128]) respectively.\n",
            "Batch sizes for English and German are torch.Size([40, 128]) and torch.Size([37, 128]) respectively.\n"
          ]
        },
        {
          "output_type": "stream",
          "name": "stderr",
          "text": [
            "Model training in progress...:  98%|█████████▊| 222/227 [00:37<00:00,  5.69it/s]"
          ]
        },
        {
          "output_type": "stream",
          "name": "stdout",
          "text": [
            "Batch sizes for English and German are torch.Size([30, 128]) and torch.Size([28, 128]) respectively.\n",
            "Batch sizes for English and German are torch.Size([32, 128]) and torch.Size([30, 128]) respectively.\n"
          ]
        },
        {
          "output_type": "stream",
          "name": "stderr",
          "text": [
            "Model training in progress...:  99%|█████████▊| 224/227 [00:37<00:00,  5.48it/s]"
          ]
        },
        {
          "output_type": "stream",
          "name": "stdout",
          "text": [
            "Batch sizes for English and German are torch.Size([35, 128]) and torch.Size([33, 128]) respectively.\n",
            "Batch sizes for English and German are torch.Size([29, 128]) and torch.Size([29, 128]) respectively.\n"
          ]
        },
        {
          "output_type": "stream",
          "name": "stderr",
          "text": [
            "Model training in progress...: 100%|█████████▉| 226/227 [00:38<00:00,  5.76it/s]"
          ]
        },
        {
          "output_type": "stream",
          "name": "stdout",
          "text": [
            "Batch sizes for English and German are torch.Size([29, 128]) and torch.Size([27, 128]) respectively.\n",
            "Batch sizes for English and German are torch.Size([27, 72]) and torch.Size([28, 72]) respectively.\n"
          ]
        },
        {
          "output_type": "stream",
          "name": "stderr",
          "text": [
            "Model training in progress...: 100%|██████████| 227/227 [00:38<00:00,  5.92it/s]\n",
            "Model validation in progress...:  25%|██▌       | 2/8 [00:00<00:00, 13.00it/s]"
          ]
        },
        {
          "output_type": "stream",
          "name": "stdout",
          "text": [
            "Batch sizes for English and German are torch.Size([30, 128]) and torch.Size([34, 128]) respectively.\n",
            "Batch sizes for English and German are torch.Size([31, 128]) and torch.Size([30, 128]) respectively.\n",
            "Batch sizes for English and German are torch.Size([30, 128]) and torch.Size([32, 128]) respectively.\n"
          ]
        },
        {
          "output_type": "stream",
          "name": "stderr",
          "text": [
            "Model validation in progress...:  75%|███████▌  | 6/8 [00:00<00:00, 13.69it/s]"
          ]
        },
        {
          "output_type": "stream",
          "name": "stdout",
          "text": [
            "Batch sizes for English and German are torch.Size([30, 128]) and torch.Size([31, 128]) respectively.\n",
            "Batch sizes for English and German are torch.Size([32, 128]) and torch.Size([35, 128]) respectively.\n",
            "Batch sizes for English and German are torch.Size([26, 128]) and torch.Size([26, 128]) respectively.\n"
          ]
        },
        {
          "output_type": "stream",
          "name": "stderr",
          "text": [
            "Model validation in progress...: 100%|██████████| 8/8 [00:00<00:00, 13.39it/s]\n"
          ]
        },
        {
          "output_type": "stream",
          "name": "stdout",
          "text": [
            "Batch sizes for English and German are torch.Size([34, 128]) and torch.Size([33, 128]) respectively.\n",
            "Batch sizes for English and German are torch.Size([28, 118]) and torch.Size([28, 118]) respectively.\n",
            "Epoch: 9\n",
            "Training loss: 3.127\n",
            "Validation loss: 3.979\n",
            "\n",
            "\n",
            "Model training is complete, and the model has 13898501 learnable parameters.\n",
            "\n",
            "\n"
          ]
        },
        {
          "output_type": "stream",
          "name": "stderr",
          "text": [
            "Model evaluation in progress...:  25%|██▌       | 2/8 [00:00<00:00, 13.32it/s]"
          ]
        },
        {
          "output_type": "stream",
          "name": "stdout",
          "text": [
            "Batch sizes for English and German are torch.Size([29, 128]) and torch.Size([29, 128]) respectively.\n",
            "Batch sizes for English and German are torch.Size([30, 128]) and torch.Size([29, 128]) respectively.\n",
            "Batch sizes for English and German are torch.Size([35, 128]) and torch.Size([33, 128]) respectively.\n"
          ]
        },
        {
          "output_type": "stream",
          "name": "stderr",
          "text": [
            "\rModel evaluation in progress...:  50%|█████     | 4/8 [00:00<00:00, 12.24it/s]"
          ]
        },
        {
          "output_type": "stream",
          "name": "stdout",
          "text": [
            "Batch sizes for English and German are torch.Size([35, 128]) and torch.Size([29, 128]) respectively.\n",
            "Batch sizes for English and German are torch.Size([31, 128]) and torch.Size([29, 128]) respectively.\n",
            "Batch sizes for English and German are torch.Size([31, 128]) and torch.Size([28, 128]) respectively.\n"
          ]
        },
        {
          "output_type": "stream",
          "name": "stderr",
          "text": [
            "Model evaluation in progress...: 100%|██████████| 8/8 [00:00<00:00, 13.30it/s]"
          ]
        },
        {
          "output_type": "stream",
          "name": "stdout",
          "text": [
            "Batch sizes for English and German are torch.Size([31, 128]) and torch.Size([29, 128]) respectively.\n",
            "Batch sizes for English and German are torch.Size([24, 104]) and torch.Size([28, 104]) respectively.\n",
            "Testing loss: 3.972\n",
            "\n",
            "\n"
          ]
        },
        {
          "output_type": "stream",
          "name": "stderr",
          "text": [
            "\n"
          ]
        },
        {
          "output_type": "error",
          "ename": "AttributeError",
          "evalue": "'function' object has no attribute 'load'",
          "traceback": [
            "\u001b[0;31m---------------------------------------------------------------------------\u001b[0m",
            "\u001b[0;31mAttributeError\u001b[0m                            Traceback (most recent call last)",
            "\u001b[0;32m<ipython-input-28-24454b52c118>\u001b[0m in \u001b[0;36m<cell line: 36>\u001b[0;34m()\u001b[0m\n\u001b[1;32m     34\u001b[0m \u001b[0;31m#                        enVocabulary,deVocabulary,sosToken,eosToken,lower,\u001b[0m\u001b[0;34m\u001b[0m\u001b[0;34m\u001b[0m\u001b[0m\n\u001b[1;32m     35\u001b[0m \u001b[0;31m#                        params['device']) for sentence in tqdm.tqdm(tsSet)]\u001b[0m\u001b[0;34m\u001b[0m\u001b[0;34m\u001b[0m\u001b[0m\n\u001b[0;32m---> 36\u001b[0;31m \u001b[0mbleu\u001b[0m\u001b[0;34m=\u001b[0m\u001b[0mevaluate\u001b[0m\u001b[0;34m.\u001b[0m\u001b[0mload\u001b[0m\u001b[0;34m(\u001b[0m\u001b[0;34m'bleu'\u001b[0m\u001b[0;34m)\u001b[0m\u001b[0;34m\u001b[0m\u001b[0;34m\u001b[0m\u001b[0m\n\u001b[0m\u001b[1;32m     37\u001b[0m transHat,trans=translate(model,tsSet,enTokenizer,deTokenizer,enVocabulary,\n\u001b[1;32m     38\u001b[0m                        deVocabulary,sosToken,eosToken,lower,params['device'])\n",
            "\u001b[0;31mAttributeError\u001b[0m: 'function' object has no attribute 'load'"
          ]
        }
      ]
    }
  ]
}