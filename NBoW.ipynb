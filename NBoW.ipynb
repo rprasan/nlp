{
  "nbformat": 4,
  "nbformat_minor": 0,
  "metadata": {
    "colab": {
      "provenance": [],
      "machine_shape": "hm",
      "gpuType": "T4"
    },
    "kernelspec": {
      "name": "python3",
      "display_name": "Python 3"
    },
    "language_info": {
      "name": "python"
    },
    "accelerator": "GPU",
    "widgets": {
      "application/vnd.jupyter.widget-state+json": {
        "e0d0ef2614e946abadc9096f5cc8f11f": {
          "model_module": "@jupyter-widgets/controls",
          "model_name": "HBoxModel",
          "model_module_version": "1.5.0",
          "state": {
            "_dom_classes": [],
            "_model_module": "@jupyter-widgets/controls",
            "_model_module_version": "1.5.0",
            "_model_name": "HBoxModel",
            "_view_count": null,
            "_view_module": "@jupyter-widgets/controls",
            "_view_module_version": "1.5.0",
            "_view_name": "HBoxView",
            "box_style": "",
            "children": [
              "IPY_MODEL_fab78180d5d04692bd55319cc1b71048",
              "IPY_MODEL_05b7fbfc9fd04625891f90638a2c6e92",
              "IPY_MODEL_fbbd3ae4674d4f2781a0721448eada3b"
            ],
            "layout": "IPY_MODEL_3968ca16123941b18b2fa71a50999634"
          }
        },
        "fab78180d5d04692bd55319cc1b71048": {
          "model_module": "@jupyter-widgets/controls",
          "model_name": "HTMLModel",
          "model_module_version": "1.5.0",
          "state": {
            "_dom_classes": [],
            "_model_module": "@jupyter-widgets/controls",
            "_model_module_version": "1.5.0",
            "_model_name": "HTMLModel",
            "_view_count": null,
            "_view_module": "@jupyter-widgets/controls",
            "_view_module_version": "1.5.0",
            "_view_name": "HTMLView",
            "description": "",
            "description_tooltip": null,
            "layout": "IPY_MODEL_c3a8b5268fa643da9c8c592e8b09b376",
            "placeholder": "​",
            "style": "IPY_MODEL_d6466a52d2204a0da5375ac7fab3195b",
            "value": "Map: 100%"
          }
        },
        "05b7fbfc9fd04625891f90638a2c6e92": {
          "model_module": "@jupyter-widgets/controls",
          "model_name": "FloatProgressModel",
          "model_module_version": "1.5.0",
          "state": {
            "_dom_classes": [],
            "_model_module": "@jupyter-widgets/controls",
            "_model_module_version": "1.5.0",
            "_model_name": "FloatProgressModel",
            "_view_count": null,
            "_view_module": "@jupyter-widgets/controls",
            "_view_module_version": "1.5.0",
            "_view_name": "ProgressView",
            "bar_style": "success",
            "description": "",
            "description_tooltip": null,
            "layout": "IPY_MODEL_b3ad5a39878a4d99bc468c44e5b08282",
            "max": 18750,
            "min": 0,
            "orientation": "horizontal",
            "style": "IPY_MODEL_a8a2a1ac2f6f4b098a7031036d5ba205",
            "value": 18750
          }
        },
        "fbbd3ae4674d4f2781a0721448eada3b": {
          "model_module": "@jupyter-widgets/controls",
          "model_name": "HTMLModel",
          "model_module_version": "1.5.0",
          "state": {
            "_dom_classes": [],
            "_model_module": "@jupyter-widgets/controls",
            "_model_module_version": "1.5.0",
            "_model_name": "HTMLModel",
            "_view_count": null,
            "_view_module": "@jupyter-widgets/controls",
            "_view_module_version": "1.5.0",
            "_view_name": "HTMLView",
            "description": "",
            "description_tooltip": null,
            "layout": "IPY_MODEL_aaf481fc7b434e2f9f1901501570fe10",
            "placeholder": "​",
            "style": "IPY_MODEL_f82202d6deb94da6ba5f301137a45567",
            "value": " 18750/18750 [00:06&lt;00:00, 2499.52 examples/s]"
          }
        },
        "3968ca16123941b18b2fa71a50999634": {
          "model_module": "@jupyter-widgets/base",
          "model_name": "LayoutModel",
          "model_module_version": "1.2.0",
          "state": {
            "_model_module": "@jupyter-widgets/base",
            "_model_module_version": "1.2.0",
            "_model_name": "LayoutModel",
            "_view_count": null,
            "_view_module": "@jupyter-widgets/base",
            "_view_module_version": "1.2.0",
            "_view_name": "LayoutView",
            "align_content": null,
            "align_items": null,
            "align_self": null,
            "border": null,
            "bottom": null,
            "display": null,
            "flex": null,
            "flex_flow": null,
            "grid_area": null,
            "grid_auto_columns": null,
            "grid_auto_flow": null,
            "grid_auto_rows": null,
            "grid_column": null,
            "grid_gap": null,
            "grid_row": null,
            "grid_template_areas": null,
            "grid_template_columns": null,
            "grid_template_rows": null,
            "height": null,
            "justify_content": null,
            "justify_items": null,
            "left": null,
            "margin": null,
            "max_height": null,
            "max_width": null,
            "min_height": null,
            "min_width": null,
            "object_fit": null,
            "object_position": null,
            "order": null,
            "overflow": null,
            "overflow_x": null,
            "overflow_y": null,
            "padding": null,
            "right": null,
            "top": null,
            "visibility": null,
            "width": null
          }
        },
        "c3a8b5268fa643da9c8c592e8b09b376": {
          "model_module": "@jupyter-widgets/base",
          "model_name": "LayoutModel",
          "model_module_version": "1.2.0",
          "state": {
            "_model_module": "@jupyter-widgets/base",
            "_model_module_version": "1.2.0",
            "_model_name": "LayoutModel",
            "_view_count": null,
            "_view_module": "@jupyter-widgets/base",
            "_view_module_version": "1.2.0",
            "_view_name": "LayoutView",
            "align_content": null,
            "align_items": null,
            "align_self": null,
            "border": null,
            "bottom": null,
            "display": null,
            "flex": null,
            "flex_flow": null,
            "grid_area": null,
            "grid_auto_columns": null,
            "grid_auto_flow": null,
            "grid_auto_rows": null,
            "grid_column": null,
            "grid_gap": null,
            "grid_row": null,
            "grid_template_areas": null,
            "grid_template_columns": null,
            "grid_template_rows": null,
            "height": null,
            "justify_content": null,
            "justify_items": null,
            "left": null,
            "margin": null,
            "max_height": null,
            "max_width": null,
            "min_height": null,
            "min_width": null,
            "object_fit": null,
            "object_position": null,
            "order": null,
            "overflow": null,
            "overflow_x": null,
            "overflow_y": null,
            "padding": null,
            "right": null,
            "top": null,
            "visibility": null,
            "width": null
          }
        },
        "d6466a52d2204a0da5375ac7fab3195b": {
          "model_module": "@jupyter-widgets/controls",
          "model_name": "DescriptionStyleModel",
          "model_module_version": "1.5.0",
          "state": {
            "_model_module": "@jupyter-widgets/controls",
            "_model_module_version": "1.5.0",
            "_model_name": "DescriptionStyleModel",
            "_view_count": null,
            "_view_module": "@jupyter-widgets/base",
            "_view_module_version": "1.2.0",
            "_view_name": "StyleView",
            "description_width": ""
          }
        },
        "b3ad5a39878a4d99bc468c44e5b08282": {
          "model_module": "@jupyter-widgets/base",
          "model_name": "LayoutModel",
          "model_module_version": "1.2.0",
          "state": {
            "_model_module": "@jupyter-widgets/base",
            "_model_module_version": "1.2.0",
            "_model_name": "LayoutModel",
            "_view_count": null,
            "_view_module": "@jupyter-widgets/base",
            "_view_module_version": "1.2.0",
            "_view_name": "LayoutView",
            "align_content": null,
            "align_items": null,
            "align_self": null,
            "border": null,
            "bottom": null,
            "display": null,
            "flex": null,
            "flex_flow": null,
            "grid_area": null,
            "grid_auto_columns": null,
            "grid_auto_flow": null,
            "grid_auto_rows": null,
            "grid_column": null,
            "grid_gap": null,
            "grid_row": null,
            "grid_template_areas": null,
            "grid_template_columns": null,
            "grid_template_rows": null,
            "height": null,
            "justify_content": null,
            "justify_items": null,
            "left": null,
            "margin": null,
            "max_height": null,
            "max_width": null,
            "min_height": null,
            "min_width": null,
            "object_fit": null,
            "object_position": null,
            "order": null,
            "overflow": null,
            "overflow_x": null,
            "overflow_y": null,
            "padding": null,
            "right": null,
            "top": null,
            "visibility": null,
            "width": null
          }
        },
        "a8a2a1ac2f6f4b098a7031036d5ba205": {
          "model_module": "@jupyter-widgets/controls",
          "model_name": "ProgressStyleModel",
          "model_module_version": "1.5.0",
          "state": {
            "_model_module": "@jupyter-widgets/controls",
            "_model_module_version": "1.5.0",
            "_model_name": "ProgressStyleModel",
            "_view_count": null,
            "_view_module": "@jupyter-widgets/base",
            "_view_module_version": "1.2.0",
            "_view_name": "StyleView",
            "bar_color": null,
            "description_width": ""
          }
        },
        "aaf481fc7b434e2f9f1901501570fe10": {
          "model_module": "@jupyter-widgets/base",
          "model_name": "LayoutModel",
          "model_module_version": "1.2.0",
          "state": {
            "_model_module": "@jupyter-widgets/base",
            "_model_module_version": "1.2.0",
            "_model_name": "LayoutModel",
            "_view_count": null,
            "_view_module": "@jupyter-widgets/base",
            "_view_module_version": "1.2.0",
            "_view_name": "LayoutView",
            "align_content": null,
            "align_items": null,
            "align_self": null,
            "border": null,
            "bottom": null,
            "display": null,
            "flex": null,
            "flex_flow": null,
            "grid_area": null,
            "grid_auto_columns": null,
            "grid_auto_flow": null,
            "grid_auto_rows": null,
            "grid_column": null,
            "grid_gap": null,
            "grid_row": null,
            "grid_template_areas": null,
            "grid_template_columns": null,
            "grid_template_rows": null,
            "height": null,
            "justify_content": null,
            "justify_items": null,
            "left": null,
            "margin": null,
            "max_height": null,
            "max_width": null,
            "min_height": null,
            "min_width": null,
            "object_fit": null,
            "object_position": null,
            "order": null,
            "overflow": null,
            "overflow_x": null,
            "overflow_y": null,
            "padding": null,
            "right": null,
            "top": null,
            "visibility": null,
            "width": null
          }
        },
        "f82202d6deb94da6ba5f301137a45567": {
          "model_module": "@jupyter-widgets/controls",
          "model_name": "DescriptionStyleModel",
          "model_module_version": "1.5.0",
          "state": {
            "_model_module": "@jupyter-widgets/controls",
            "_model_module_version": "1.5.0",
            "_model_name": "DescriptionStyleModel",
            "_view_count": null,
            "_view_module": "@jupyter-widgets/base",
            "_view_module_version": "1.2.0",
            "_view_name": "StyleView",
            "description_width": ""
          }
        },
        "c02a6ad99eef43028e499f39b9beb522": {
          "model_module": "@jupyter-widgets/controls",
          "model_name": "HBoxModel",
          "model_module_version": "1.5.0",
          "state": {
            "_dom_classes": [],
            "_model_module": "@jupyter-widgets/controls",
            "_model_module_version": "1.5.0",
            "_model_name": "HBoxModel",
            "_view_count": null,
            "_view_module": "@jupyter-widgets/controls",
            "_view_module_version": "1.5.0",
            "_view_name": "HBoxView",
            "box_style": "",
            "children": [
              "IPY_MODEL_5a3e586e42e54c2684500d63633ecff1",
              "IPY_MODEL_d4b62104ba2149059087f6a67bdd003f",
              "IPY_MODEL_7e04c8ee43c548968f1347f550d8d9d0"
            ],
            "layout": "IPY_MODEL_b4dcaff3a72d40f29b5ab93b1a7d1b9e"
          }
        },
        "5a3e586e42e54c2684500d63633ecff1": {
          "model_module": "@jupyter-widgets/controls",
          "model_name": "HTMLModel",
          "model_module_version": "1.5.0",
          "state": {
            "_dom_classes": [],
            "_model_module": "@jupyter-widgets/controls",
            "_model_module_version": "1.5.0",
            "_model_name": "HTMLModel",
            "_view_count": null,
            "_view_module": "@jupyter-widgets/controls",
            "_view_module_version": "1.5.0",
            "_view_name": "HTMLView",
            "description": "",
            "description_tooltip": null,
            "layout": "IPY_MODEL_2826fccc049140d7989c8b210aea54e2",
            "placeholder": "​",
            "style": "IPY_MODEL_ac492017752e47f7b37dccdc78186cce",
            "value": "Map: 100%"
          }
        },
        "d4b62104ba2149059087f6a67bdd003f": {
          "model_module": "@jupyter-widgets/controls",
          "model_name": "FloatProgressModel",
          "model_module_version": "1.5.0",
          "state": {
            "_dom_classes": [],
            "_model_module": "@jupyter-widgets/controls",
            "_model_module_version": "1.5.0",
            "_model_name": "FloatProgressModel",
            "_view_count": null,
            "_view_module": "@jupyter-widgets/controls",
            "_view_module_version": "1.5.0",
            "_view_name": "ProgressView",
            "bar_style": "success",
            "description": "",
            "description_tooltip": null,
            "layout": "IPY_MODEL_aec0a845cbbc45078d7b06934d440018",
            "max": 6250,
            "min": 0,
            "orientation": "horizontal",
            "style": "IPY_MODEL_0166922b4a8e4ccaa1ad19dc325b5fe3",
            "value": 6250
          }
        },
        "7e04c8ee43c548968f1347f550d8d9d0": {
          "model_module": "@jupyter-widgets/controls",
          "model_name": "HTMLModel",
          "model_module_version": "1.5.0",
          "state": {
            "_dom_classes": [],
            "_model_module": "@jupyter-widgets/controls",
            "_model_module_version": "1.5.0",
            "_model_name": "HTMLModel",
            "_view_count": null,
            "_view_module": "@jupyter-widgets/controls",
            "_view_module_version": "1.5.0",
            "_view_name": "HTMLView",
            "description": "",
            "description_tooltip": null,
            "layout": "IPY_MODEL_f7d387e8d18f404a9d942e436549202c",
            "placeholder": "​",
            "style": "IPY_MODEL_27a24abbdb624b0faf71ad0b5a1f47d3",
            "value": " 6250/6250 [00:02&lt;00:00, 2650.42 examples/s]"
          }
        },
        "b4dcaff3a72d40f29b5ab93b1a7d1b9e": {
          "model_module": "@jupyter-widgets/base",
          "model_name": "LayoutModel",
          "model_module_version": "1.2.0",
          "state": {
            "_model_module": "@jupyter-widgets/base",
            "_model_module_version": "1.2.0",
            "_model_name": "LayoutModel",
            "_view_count": null,
            "_view_module": "@jupyter-widgets/base",
            "_view_module_version": "1.2.0",
            "_view_name": "LayoutView",
            "align_content": null,
            "align_items": null,
            "align_self": null,
            "border": null,
            "bottom": null,
            "display": null,
            "flex": null,
            "flex_flow": null,
            "grid_area": null,
            "grid_auto_columns": null,
            "grid_auto_flow": null,
            "grid_auto_rows": null,
            "grid_column": null,
            "grid_gap": null,
            "grid_row": null,
            "grid_template_areas": null,
            "grid_template_columns": null,
            "grid_template_rows": null,
            "height": null,
            "justify_content": null,
            "justify_items": null,
            "left": null,
            "margin": null,
            "max_height": null,
            "max_width": null,
            "min_height": null,
            "min_width": null,
            "object_fit": null,
            "object_position": null,
            "order": null,
            "overflow": null,
            "overflow_x": null,
            "overflow_y": null,
            "padding": null,
            "right": null,
            "top": null,
            "visibility": null,
            "width": null
          }
        },
        "2826fccc049140d7989c8b210aea54e2": {
          "model_module": "@jupyter-widgets/base",
          "model_name": "LayoutModel",
          "model_module_version": "1.2.0",
          "state": {
            "_model_module": "@jupyter-widgets/base",
            "_model_module_version": "1.2.0",
            "_model_name": "LayoutModel",
            "_view_count": null,
            "_view_module": "@jupyter-widgets/base",
            "_view_module_version": "1.2.0",
            "_view_name": "LayoutView",
            "align_content": null,
            "align_items": null,
            "align_self": null,
            "border": null,
            "bottom": null,
            "display": null,
            "flex": null,
            "flex_flow": null,
            "grid_area": null,
            "grid_auto_columns": null,
            "grid_auto_flow": null,
            "grid_auto_rows": null,
            "grid_column": null,
            "grid_gap": null,
            "grid_row": null,
            "grid_template_areas": null,
            "grid_template_columns": null,
            "grid_template_rows": null,
            "height": null,
            "justify_content": null,
            "justify_items": null,
            "left": null,
            "margin": null,
            "max_height": null,
            "max_width": null,
            "min_height": null,
            "min_width": null,
            "object_fit": null,
            "object_position": null,
            "order": null,
            "overflow": null,
            "overflow_x": null,
            "overflow_y": null,
            "padding": null,
            "right": null,
            "top": null,
            "visibility": null,
            "width": null
          }
        },
        "ac492017752e47f7b37dccdc78186cce": {
          "model_module": "@jupyter-widgets/controls",
          "model_name": "DescriptionStyleModel",
          "model_module_version": "1.5.0",
          "state": {
            "_model_module": "@jupyter-widgets/controls",
            "_model_module_version": "1.5.0",
            "_model_name": "DescriptionStyleModel",
            "_view_count": null,
            "_view_module": "@jupyter-widgets/base",
            "_view_module_version": "1.2.0",
            "_view_name": "StyleView",
            "description_width": ""
          }
        },
        "aec0a845cbbc45078d7b06934d440018": {
          "model_module": "@jupyter-widgets/base",
          "model_name": "LayoutModel",
          "model_module_version": "1.2.0",
          "state": {
            "_model_module": "@jupyter-widgets/base",
            "_model_module_version": "1.2.0",
            "_model_name": "LayoutModel",
            "_view_count": null,
            "_view_module": "@jupyter-widgets/base",
            "_view_module_version": "1.2.0",
            "_view_name": "LayoutView",
            "align_content": null,
            "align_items": null,
            "align_self": null,
            "border": null,
            "bottom": null,
            "display": null,
            "flex": null,
            "flex_flow": null,
            "grid_area": null,
            "grid_auto_columns": null,
            "grid_auto_flow": null,
            "grid_auto_rows": null,
            "grid_column": null,
            "grid_gap": null,
            "grid_row": null,
            "grid_template_areas": null,
            "grid_template_columns": null,
            "grid_template_rows": null,
            "height": null,
            "justify_content": null,
            "justify_items": null,
            "left": null,
            "margin": null,
            "max_height": null,
            "max_width": null,
            "min_height": null,
            "min_width": null,
            "object_fit": null,
            "object_position": null,
            "order": null,
            "overflow": null,
            "overflow_x": null,
            "overflow_y": null,
            "padding": null,
            "right": null,
            "top": null,
            "visibility": null,
            "width": null
          }
        },
        "0166922b4a8e4ccaa1ad19dc325b5fe3": {
          "model_module": "@jupyter-widgets/controls",
          "model_name": "ProgressStyleModel",
          "model_module_version": "1.5.0",
          "state": {
            "_model_module": "@jupyter-widgets/controls",
            "_model_module_version": "1.5.0",
            "_model_name": "ProgressStyleModel",
            "_view_count": null,
            "_view_module": "@jupyter-widgets/base",
            "_view_module_version": "1.2.0",
            "_view_name": "StyleView",
            "bar_color": null,
            "description_width": ""
          }
        },
        "f7d387e8d18f404a9d942e436549202c": {
          "model_module": "@jupyter-widgets/base",
          "model_name": "LayoutModel",
          "model_module_version": "1.2.0",
          "state": {
            "_model_module": "@jupyter-widgets/base",
            "_model_module_version": "1.2.0",
            "_model_name": "LayoutModel",
            "_view_count": null,
            "_view_module": "@jupyter-widgets/base",
            "_view_module_version": "1.2.0",
            "_view_name": "LayoutView",
            "align_content": null,
            "align_items": null,
            "align_self": null,
            "border": null,
            "bottom": null,
            "display": null,
            "flex": null,
            "flex_flow": null,
            "grid_area": null,
            "grid_auto_columns": null,
            "grid_auto_flow": null,
            "grid_auto_rows": null,
            "grid_column": null,
            "grid_gap": null,
            "grid_row": null,
            "grid_template_areas": null,
            "grid_template_columns": null,
            "grid_template_rows": null,
            "height": null,
            "justify_content": null,
            "justify_items": null,
            "left": null,
            "margin": null,
            "max_height": null,
            "max_width": null,
            "min_height": null,
            "min_width": null,
            "object_fit": null,
            "object_position": null,
            "order": null,
            "overflow": null,
            "overflow_x": null,
            "overflow_y": null,
            "padding": null,
            "right": null,
            "top": null,
            "visibility": null,
            "width": null
          }
        },
        "27a24abbdb624b0faf71ad0b5a1f47d3": {
          "model_module": "@jupyter-widgets/controls",
          "model_name": "DescriptionStyleModel",
          "model_module_version": "1.5.0",
          "state": {
            "_model_module": "@jupyter-widgets/controls",
            "_model_module_version": "1.5.0",
            "_model_name": "DescriptionStyleModel",
            "_view_count": null,
            "_view_module": "@jupyter-widgets/base",
            "_view_module_version": "1.2.0",
            "_view_name": "StyleView",
            "description_width": ""
          }
        },
        "ee5688d5d29b413998bc7a98007b04a7": {
          "model_module": "@jupyter-widgets/controls",
          "model_name": "HBoxModel",
          "model_module_version": "1.5.0",
          "state": {
            "_dom_classes": [],
            "_model_module": "@jupyter-widgets/controls",
            "_model_module_version": "1.5.0",
            "_model_name": "HBoxModel",
            "_view_count": null,
            "_view_module": "@jupyter-widgets/controls",
            "_view_module_version": "1.5.0",
            "_view_name": "HBoxView",
            "box_style": "",
            "children": [
              "IPY_MODEL_e925d92c13f44e6684bb11717b4a1c7d",
              "IPY_MODEL_6f69d5e192b64878b2ccf65bb3e1459f",
              "IPY_MODEL_ab07007b6adc4232b22550766702a448"
            ],
            "layout": "IPY_MODEL_4eb15ef944a747ed8061a98405e71dab"
          }
        },
        "e925d92c13f44e6684bb11717b4a1c7d": {
          "model_module": "@jupyter-widgets/controls",
          "model_name": "HTMLModel",
          "model_module_version": "1.5.0",
          "state": {
            "_dom_classes": [],
            "_model_module": "@jupyter-widgets/controls",
            "_model_module_version": "1.5.0",
            "_model_name": "HTMLModel",
            "_view_count": null,
            "_view_module": "@jupyter-widgets/controls",
            "_view_module_version": "1.5.0",
            "_view_name": "HTMLView",
            "description": "",
            "description_tooltip": null,
            "layout": "IPY_MODEL_5b3298f8fc424ab89bef0e41e45b872c",
            "placeholder": "​",
            "style": "IPY_MODEL_93a6df3215ce410e9c159faa9809db44",
            "value": "Map: 100%"
          }
        },
        "6f69d5e192b64878b2ccf65bb3e1459f": {
          "model_module": "@jupyter-widgets/controls",
          "model_name": "FloatProgressModel",
          "model_module_version": "1.5.0",
          "state": {
            "_dom_classes": [],
            "_model_module": "@jupyter-widgets/controls",
            "_model_module_version": "1.5.0",
            "_model_name": "FloatProgressModel",
            "_view_count": null,
            "_view_module": "@jupyter-widgets/controls",
            "_view_module_version": "1.5.0",
            "_view_name": "ProgressView",
            "bar_style": "success",
            "description": "",
            "description_tooltip": null,
            "layout": "IPY_MODEL_aa3d9f0ca92942fca7a0d9c5b9a97803",
            "max": 25000,
            "min": 0,
            "orientation": "horizontal",
            "style": "IPY_MODEL_f5884e69ca024b33b32e12e665c84e20",
            "value": 25000
          }
        },
        "ab07007b6adc4232b22550766702a448": {
          "model_module": "@jupyter-widgets/controls",
          "model_name": "HTMLModel",
          "model_module_version": "1.5.0",
          "state": {
            "_dom_classes": [],
            "_model_module": "@jupyter-widgets/controls",
            "_model_module_version": "1.5.0",
            "_model_name": "HTMLModel",
            "_view_count": null,
            "_view_module": "@jupyter-widgets/controls",
            "_view_module_version": "1.5.0",
            "_view_name": "HTMLView",
            "description": "",
            "description_tooltip": null,
            "layout": "IPY_MODEL_b8ca68e9624c423cada94896989e2320",
            "placeholder": "​",
            "style": "IPY_MODEL_b8f704e15df34b9c8bee9598a0762966",
            "value": " 25000/25000 [00:07&lt;00:00, 3519.91 examples/s]"
          }
        },
        "4eb15ef944a747ed8061a98405e71dab": {
          "model_module": "@jupyter-widgets/base",
          "model_name": "LayoutModel",
          "model_module_version": "1.2.0",
          "state": {
            "_model_module": "@jupyter-widgets/base",
            "_model_module_version": "1.2.0",
            "_model_name": "LayoutModel",
            "_view_count": null,
            "_view_module": "@jupyter-widgets/base",
            "_view_module_version": "1.2.0",
            "_view_name": "LayoutView",
            "align_content": null,
            "align_items": null,
            "align_self": null,
            "border": null,
            "bottom": null,
            "display": null,
            "flex": null,
            "flex_flow": null,
            "grid_area": null,
            "grid_auto_columns": null,
            "grid_auto_flow": null,
            "grid_auto_rows": null,
            "grid_column": null,
            "grid_gap": null,
            "grid_row": null,
            "grid_template_areas": null,
            "grid_template_columns": null,
            "grid_template_rows": null,
            "height": null,
            "justify_content": null,
            "justify_items": null,
            "left": null,
            "margin": null,
            "max_height": null,
            "max_width": null,
            "min_height": null,
            "min_width": null,
            "object_fit": null,
            "object_position": null,
            "order": null,
            "overflow": null,
            "overflow_x": null,
            "overflow_y": null,
            "padding": null,
            "right": null,
            "top": null,
            "visibility": null,
            "width": null
          }
        },
        "5b3298f8fc424ab89bef0e41e45b872c": {
          "model_module": "@jupyter-widgets/base",
          "model_name": "LayoutModel",
          "model_module_version": "1.2.0",
          "state": {
            "_model_module": "@jupyter-widgets/base",
            "_model_module_version": "1.2.0",
            "_model_name": "LayoutModel",
            "_view_count": null,
            "_view_module": "@jupyter-widgets/base",
            "_view_module_version": "1.2.0",
            "_view_name": "LayoutView",
            "align_content": null,
            "align_items": null,
            "align_self": null,
            "border": null,
            "bottom": null,
            "display": null,
            "flex": null,
            "flex_flow": null,
            "grid_area": null,
            "grid_auto_columns": null,
            "grid_auto_flow": null,
            "grid_auto_rows": null,
            "grid_column": null,
            "grid_gap": null,
            "grid_row": null,
            "grid_template_areas": null,
            "grid_template_columns": null,
            "grid_template_rows": null,
            "height": null,
            "justify_content": null,
            "justify_items": null,
            "left": null,
            "margin": null,
            "max_height": null,
            "max_width": null,
            "min_height": null,
            "min_width": null,
            "object_fit": null,
            "object_position": null,
            "order": null,
            "overflow": null,
            "overflow_x": null,
            "overflow_y": null,
            "padding": null,
            "right": null,
            "top": null,
            "visibility": null,
            "width": null
          }
        },
        "93a6df3215ce410e9c159faa9809db44": {
          "model_module": "@jupyter-widgets/controls",
          "model_name": "DescriptionStyleModel",
          "model_module_version": "1.5.0",
          "state": {
            "_model_module": "@jupyter-widgets/controls",
            "_model_module_version": "1.5.0",
            "_model_name": "DescriptionStyleModel",
            "_view_count": null,
            "_view_module": "@jupyter-widgets/base",
            "_view_module_version": "1.2.0",
            "_view_name": "StyleView",
            "description_width": ""
          }
        },
        "aa3d9f0ca92942fca7a0d9c5b9a97803": {
          "model_module": "@jupyter-widgets/base",
          "model_name": "LayoutModel",
          "model_module_version": "1.2.0",
          "state": {
            "_model_module": "@jupyter-widgets/base",
            "_model_module_version": "1.2.0",
            "_model_name": "LayoutModel",
            "_view_count": null,
            "_view_module": "@jupyter-widgets/base",
            "_view_module_version": "1.2.0",
            "_view_name": "LayoutView",
            "align_content": null,
            "align_items": null,
            "align_self": null,
            "border": null,
            "bottom": null,
            "display": null,
            "flex": null,
            "flex_flow": null,
            "grid_area": null,
            "grid_auto_columns": null,
            "grid_auto_flow": null,
            "grid_auto_rows": null,
            "grid_column": null,
            "grid_gap": null,
            "grid_row": null,
            "grid_template_areas": null,
            "grid_template_columns": null,
            "grid_template_rows": null,
            "height": null,
            "justify_content": null,
            "justify_items": null,
            "left": null,
            "margin": null,
            "max_height": null,
            "max_width": null,
            "min_height": null,
            "min_width": null,
            "object_fit": null,
            "object_position": null,
            "order": null,
            "overflow": null,
            "overflow_x": null,
            "overflow_y": null,
            "padding": null,
            "right": null,
            "top": null,
            "visibility": null,
            "width": null
          }
        },
        "f5884e69ca024b33b32e12e665c84e20": {
          "model_module": "@jupyter-widgets/controls",
          "model_name": "ProgressStyleModel",
          "model_module_version": "1.5.0",
          "state": {
            "_model_module": "@jupyter-widgets/controls",
            "_model_module_version": "1.5.0",
            "_model_name": "ProgressStyleModel",
            "_view_count": null,
            "_view_module": "@jupyter-widgets/base",
            "_view_module_version": "1.2.0",
            "_view_name": "StyleView",
            "bar_color": null,
            "description_width": ""
          }
        },
        "b8ca68e9624c423cada94896989e2320": {
          "model_module": "@jupyter-widgets/base",
          "model_name": "LayoutModel",
          "model_module_version": "1.2.0",
          "state": {
            "_model_module": "@jupyter-widgets/base",
            "_model_module_version": "1.2.0",
            "_model_name": "LayoutModel",
            "_view_count": null,
            "_view_module": "@jupyter-widgets/base",
            "_view_module_version": "1.2.0",
            "_view_name": "LayoutView",
            "align_content": null,
            "align_items": null,
            "align_self": null,
            "border": null,
            "bottom": null,
            "display": null,
            "flex": null,
            "flex_flow": null,
            "grid_area": null,
            "grid_auto_columns": null,
            "grid_auto_flow": null,
            "grid_auto_rows": null,
            "grid_column": null,
            "grid_gap": null,
            "grid_row": null,
            "grid_template_areas": null,
            "grid_template_columns": null,
            "grid_template_rows": null,
            "height": null,
            "justify_content": null,
            "justify_items": null,
            "left": null,
            "margin": null,
            "max_height": null,
            "max_width": null,
            "min_height": null,
            "min_width": null,
            "object_fit": null,
            "object_position": null,
            "order": null,
            "overflow": null,
            "overflow_x": null,
            "overflow_y": null,
            "padding": null,
            "right": null,
            "top": null,
            "visibility": null,
            "width": null
          }
        },
        "b8f704e15df34b9c8bee9598a0762966": {
          "model_module": "@jupyter-widgets/controls",
          "model_name": "DescriptionStyleModel",
          "model_module_version": "1.5.0",
          "state": {
            "_model_module": "@jupyter-widgets/controls",
            "_model_module_version": "1.5.0",
            "_model_name": "DescriptionStyleModel",
            "_view_count": null,
            "_view_module": "@jupyter-widgets/base",
            "_view_module_version": "1.2.0",
            "_view_name": "StyleView",
            "description_width": ""
          }
        }
      }
    }
  },
  "cells": [
    {
      "cell_type": "markdown",
      "source": [
        "# **Neural Bag of Words (NBoW) model for sentiment analysis**"
      ],
      "metadata": {
        "id": "2W8pfLIiDIbM"
      }
    },
    {
      "cell_type": "markdown",
      "source": [
        "## Import modules and packages\n",
        "Import all the necessary modules and packages necessary to build, train, and evaluate the model. Also, set random seeds so that the program can be run for multiple seeds to check how variant the model's performance is."
      ],
      "metadata": {
        "id": "hNUuoEuPDK9-"
      }
    },
    {
      "cell_type": "code",
      "source": [
        "!pip install -r requirements.txt\n",
        "\n",
        "import collections,os,random,time\n",
        "import matplotlib.pyplot as plt\n",
        "import numpy as np\n",
        "import datasets\n",
        "\n",
        "import tqdm\n",
        "import torch\n",
        "import torch.nn as nn\n",
        "import torch.optim as optim\n",
        "import torch.functional as F\n",
        "from torch.utils.data import Dataset\n",
        "import torchtext\n",
        "import torchtext.data as ttd\n",
        "import torchtext.vocab as ttv\n",
        "\n",
        "#Set the environment time\n",
        "os.environ[\"TZ\"]=\"US/Eastern\"\n",
        "time.tzset()\n",
        "\n",
        "#Set the seed\n",
        "sd=random.randint(0,50)\n",
        "np.random.seed(sd)\n",
        "torch.manual_seed(sd)\n",
        "torch.cuda.manual_seed(sd)\n",
        "torch.backends.cudnn.deterministic=True"
      ],
      "metadata": {
        "colab": {
          "base_uri": "https://localhost:8080/"
        },
        "id": "9pFpraf9DS9Z",
        "outputId": "20c6865c-e58d-4401-e318-ddde1efb109f"
      },
      "execution_count": 70,
      "outputs": [
        {
          "output_type": "stream",
          "name": "stdout",
          "text": [
            "Requirement already satisfied: torch in /usr/local/lib/python3.10/dist-packages (from -r requirements.txt (line 1)) (2.3.0+cu121)\n",
            "Requirement already satisfied: numpy in /usr/local/lib/python3.10/dist-packages (from -r requirements.txt (line 2)) (1.25.2)\n",
            "Requirement already satisfied: datasets in /usr/local/lib/python3.10/dist-packages (from -r requirements.txt (line 3)) (2.19.2)\n",
            "Requirement already satisfied: torchtext in /usr/local/lib/python3.10/dist-packages (from -r requirements.txt (line 4)) (0.18.0)\n",
            "Requirement already satisfied: tqdm in /usr/local/lib/python3.10/dist-packages (from -r requirements.txt (line 5)) (4.66.4)\n",
            "Requirement already satisfied: matplotlib in /usr/local/lib/python3.10/dist-packages (from -r requirements.txt (line 6)) (3.7.1)\n",
            "Requirement already satisfied: filelock in /usr/local/lib/python3.10/dist-packages (from torch->-r requirements.txt (line 1)) (3.14.0)\n",
            "Requirement already satisfied: typing-extensions>=4.8.0 in /usr/local/lib/python3.10/dist-packages (from torch->-r requirements.txt (line 1)) (4.12.1)\n",
            "Requirement already satisfied: sympy in /usr/local/lib/python3.10/dist-packages (from torch->-r requirements.txt (line 1)) (1.12.1)\n",
            "Requirement already satisfied: networkx in /usr/local/lib/python3.10/dist-packages (from torch->-r requirements.txt (line 1)) (3.3)\n",
            "Requirement already satisfied: jinja2 in /usr/local/lib/python3.10/dist-packages (from torch->-r requirements.txt (line 1)) (3.1.4)\n",
            "Requirement already satisfied: fsspec in /usr/local/lib/python3.10/dist-packages (from torch->-r requirements.txt (line 1)) (2023.6.0)\n",
            "Requirement already satisfied: nvidia-cuda-nvrtc-cu12==12.1.105 in /usr/local/lib/python3.10/dist-packages (from torch->-r requirements.txt (line 1)) (12.1.105)\n",
            "Requirement already satisfied: nvidia-cuda-runtime-cu12==12.1.105 in /usr/local/lib/python3.10/dist-packages (from torch->-r requirements.txt (line 1)) (12.1.105)\n",
            "Requirement already satisfied: nvidia-cuda-cupti-cu12==12.1.105 in /usr/local/lib/python3.10/dist-packages (from torch->-r requirements.txt (line 1)) (12.1.105)\n",
            "Requirement already satisfied: nvidia-cudnn-cu12==8.9.2.26 in /usr/local/lib/python3.10/dist-packages (from torch->-r requirements.txt (line 1)) (8.9.2.26)\n",
            "Requirement already satisfied: nvidia-cublas-cu12==12.1.3.1 in /usr/local/lib/python3.10/dist-packages (from torch->-r requirements.txt (line 1)) (12.1.3.1)\n",
            "Requirement already satisfied: nvidia-cufft-cu12==11.0.2.54 in /usr/local/lib/python3.10/dist-packages (from torch->-r requirements.txt (line 1)) (11.0.2.54)\n",
            "Requirement already satisfied: nvidia-curand-cu12==10.3.2.106 in /usr/local/lib/python3.10/dist-packages (from torch->-r requirements.txt (line 1)) (10.3.2.106)\n",
            "Requirement already satisfied: nvidia-cusolver-cu12==11.4.5.107 in /usr/local/lib/python3.10/dist-packages (from torch->-r requirements.txt (line 1)) (11.4.5.107)\n",
            "Requirement already satisfied: nvidia-cusparse-cu12==12.1.0.106 in /usr/local/lib/python3.10/dist-packages (from torch->-r requirements.txt (line 1)) (12.1.0.106)\n",
            "Requirement already satisfied: nvidia-nccl-cu12==2.20.5 in /usr/local/lib/python3.10/dist-packages (from torch->-r requirements.txt (line 1)) (2.20.5)\n",
            "Requirement already satisfied: nvidia-nvtx-cu12==12.1.105 in /usr/local/lib/python3.10/dist-packages (from torch->-r requirements.txt (line 1)) (12.1.105)\n",
            "Requirement already satisfied: triton==2.3.0 in /usr/local/lib/python3.10/dist-packages (from torch->-r requirements.txt (line 1)) (2.3.0)\n",
            "Requirement already satisfied: nvidia-nvjitlink-cu12 in /usr/local/lib/python3.10/dist-packages (from nvidia-cusolver-cu12==11.4.5.107->torch->-r requirements.txt (line 1)) (12.5.40)\n",
            "Requirement already satisfied: pyarrow>=12.0.0 in /usr/local/lib/python3.10/dist-packages (from datasets->-r requirements.txt (line 3)) (14.0.2)\n",
            "Requirement already satisfied: pyarrow-hotfix in /usr/local/lib/python3.10/dist-packages (from datasets->-r requirements.txt (line 3)) (0.6)\n",
            "Requirement already satisfied: dill<0.3.9,>=0.3.0 in /usr/local/lib/python3.10/dist-packages (from datasets->-r requirements.txt (line 3)) (0.3.8)\n",
            "Requirement already satisfied: pandas in /usr/local/lib/python3.10/dist-packages (from datasets->-r requirements.txt (line 3)) (2.0.3)\n",
            "Requirement already satisfied: requests>=2.32.1 in /usr/local/lib/python3.10/dist-packages (from datasets->-r requirements.txt (line 3)) (2.32.3)\n",
            "Requirement already satisfied: xxhash in /usr/local/lib/python3.10/dist-packages (from datasets->-r requirements.txt (line 3)) (3.4.1)\n",
            "Requirement already satisfied: multiprocess in /usr/local/lib/python3.10/dist-packages (from datasets->-r requirements.txt (line 3)) (0.70.16)\n",
            "Requirement already satisfied: aiohttp in /usr/local/lib/python3.10/dist-packages (from datasets->-r requirements.txt (line 3)) (3.9.5)\n",
            "Requirement already satisfied: huggingface-hub>=0.21.2 in /usr/local/lib/python3.10/dist-packages (from datasets->-r requirements.txt (line 3)) (0.23.2)\n",
            "Requirement already satisfied: packaging in /usr/local/lib/python3.10/dist-packages (from datasets->-r requirements.txt (line 3)) (24.0)\n",
            "Requirement already satisfied: pyyaml>=5.1 in /usr/local/lib/python3.10/dist-packages (from datasets->-r requirements.txt (line 3)) (6.0.1)\n",
            "Requirement already satisfied: contourpy>=1.0.1 in /usr/local/lib/python3.10/dist-packages (from matplotlib->-r requirements.txt (line 6)) (1.2.1)\n",
            "Requirement already satisfied: cycler>=0.10 in /usr/local/lib/python3.10/dist-packages (from matplotlib->-r requirements.txt (line 6)) (0.12.1)\n",
            "Requirement already satisfied: fonttools>=4.22.0 in /usr/local/lib/python3.10/dist-packages (from matplotlib->-r requirements.txt (line 6)) (4.53.0)\n",
            "Requirement already satisfied: kiwisolver>=1.0.1 in /usr/local/lib/python3.10/dist-packages (from matplotlib->-r requirements.txt (line 6)) (1.4.5)\n",
            "Requirement already satisfied: pillow>=6.2.0 in /usr/local/lib/python3.10/dist-packages (from matplotlib->-r requirements.txt (line 6)) (9.4.0)\n",
            "Requirement already satisfied: pyparsing>=2.3.1 in /usr/local/lib/python3.10/dist-packages (from matplotlib->-r requirements.txt (line 6)) (3.1.2)\n",
            "Requirement already satisfied: python-dateutil>=2.7 in /usr/local/lib/python3.10/dist-packages (from matplotlib->-r requirements.txt (line 6)) (2.8.2)\n",
            "Requirement already satisfied: aiosignal>=1.1.2 in /usr/local/lib/python3.10/dist-packages (from aiohttp->datasets->-r requirements.txt (line 3)) (1.3.1)\n",
            "Requirement already satisfied: attrs>=17.3.0 in /usr/local/lib/python3.10/dist-packages (from aiohttp->datasets->-r requirements.txt (line 3)) (23.2.0)\n",
            "Requirement already satisfied: frozenlist>=1.1.1 in /usr/local/lib/python3.10/dist-packages (from aiohttp->datasets->-r requirements.txt (line 3)) (1.4.1)\n",
            "Requirement already satisfied: multidict<7.0,>=4.5 in /usr/local/lib/python3.10/dist-packages (from aiohttp->datasets->-r requirements.txt (line 3)) (6.0.5)\n",
            "Requirement already satisfied: yarl<2.0,>=1.0 in /usr/local/lib/python3.10/dist-packages (from aiohttp->datasets->-r requirements.txt (line 3)) (1.9.4)\n",
            "Requirement already satisfied: async-timeout<5.0,>=4.0 in /usr/local/lib/python3.10/dist-packages (from aiohttp->datasets->-r requirements.txt (line 3)) (4.0.3)\n",
            "Requirement already satisfied: six>=1.5 in /usr/local/lib/python3.10/dist-packages (from python-dateutil>=2.7->matplotlib->-r requirements.txt (line 6)) (1.16.0)\n",
            "Requirement already satisfied: charset-normalizer<4,>=2 in /usr/local/lib/python3.10/dist-packages (from requests>=2.32.1->datasets->-r requirements.txt (line 3)) (3.3.2)\n",
            "Requirement already satisfied: idna<4,>=2.5 in /usr/local/lib/python3.10/dist-packages (from requests>=2.32.1->datasets->-r requirements.txt (line 3)) (3.7)\n",
            "Requirement already satisfied: urllib3<3,>=1.21.1 in /usr/local/lib/python3.10/dist-packages (from requests>=2.32.1->datasets->-r requirements.txt (line 3)) (2.0.7)\n",
            "Requirement already satisfied: certifi>=2017.4.17 in /usr/local/lib/python3.10/dist-packages (from requests>=2.32.1->datasets->-r requirements.txt (line 3)) (2024.6.2)\n",
            "Requirement already satisfied: MarkupSafe>=2.0 in /usr/local/lib/python3.10/dist-packages (from jinja2->torch->-r requirements.txt (line 1)) (2.1.5)\n",
            "Requirement already satisfied: pytz>=2020.1 in /usr/local/lib/python3.10/dist-packages (from pandas->datasets->-r requirements.txt (line 3)) (2023.4)\n",
            "Requirement already satisfied: tzdata>=2022.1 in /usr/local/lib/python3.10/dist-packages (from pandas->datasets->-r requirements.txt (line 3)) (2024.1)\n",
            "Requirement already satisfied: mpmath<1.4.0,>=1.1.0 in /usr/local/lib/python3.10/dist-packages (from sympy->torch->-r requirements.txt (line 1)) (1.3.0)\n"
          ]
        }
      ]
    },
    {
      "cell_type": "markdown",
      "source": [
        "## IMDb dataset\n",
        "The IMDb dataset from HuggingFace will be used for model development."
      ],
      "metadata": {
        "id": "TYBaL4GeAiz4"
      }
    },
    {
      "cell_type": "markdown",
      "source": [
        "### Define the dataset\n",
        "Download the 'train' and 'test' splits of the dataset, and inspect its characteristics."
      ],
      "metadata": {
        "id": "V7D8r-yhAr9s"
      }
    },
    {
      "cell_type": "code",
      "source": [
        "#Download the 'train' and the 'test' splits of the IMDb dataset\n",
        "trSet,tsSet=datasets.load_dataset('imdb',split=['train','test'])\n",
        "print('The respective sizes of the training and the testing datasets are {} and {} respectively. \\nThe sentiment class labels are {}.'.format(trSet.num_rows,tsSet.num_rows,trSet.features['label']))\n",
        "print('A sample picked from any dataset would look as shown below:\\n\\n{}'.format(trSet[0]))"
      ],
      "metadata": {
        "id": "wB-wtCVoDxhI",
        "colab": {
          "base_uri": "https://localhost:8080/"
        },
        "outputId": "d4eec3a1-4194-4036-cbaf-2a47faec0d20"
      },
      "execution_count": 55,
      "outputs": [
        {
          "output_type": "stream",
          "name": "stdout",
          "text": [
            "The respective sizes of the training and the testing datasets are 25000 and 25000 respectively. \n",
            "The sentiment class labels are ClassLabel(names=['neg', 'pos'], id=None).\n",
            "A sample picked from any dataset would look as shown below:\n",
            "\n",
            "{'text': 'I rented I AM CURIOUS-YELLOW from my video store because of all the controversy that surrounded it when it was first released in 1967. I also heard that at first it was seized by U.S. customs if it ever tried to enter this country, therefore being a fan of films considered \"controversial\" I really had to see this for myself.<br /><br />The plot is centered around a young Swedish drama student named Lena who wants to learn everything she can about life. In particular she wants to focus her attentions to making some sort of documentary on what the average Swede thought about certain political issues such as the Vietnam War and race issues in the United States. In between asking politicians and ordinary denizens of Stockholm about their opinions on politics, she has sex with her drama teacher, classmates, and married men.<br /><br />What kills me about I AM CURIOUS-YELLOW is that 40 years ago, this was considered pornographic. Really, the sex and nudity scenes are few and far between, even then it\\'s not shot like some cheaply made porno. While my countrymen mind find it shocking, in reality sex and nudity are a major staple in Swedish cinema. Even Ingmar Bergman, arguably their answer to good old boy John Ford, had sex scenes in his films.<br /><br />I do commend the filmmakers for the fact that any sex shown in the film is shown for artistic purposes rather than just to shock people and make money to be shown in pornographic theaters in America. I AM CURIOUS-YELLOW is a good film for anyone wanting to study the meat and potatoes (no pun intended) of Swedish cinema. But really, this film doesn\\'t have much of a plot.', 'label': 0}\n"
          ]
        }
      ]
    },
    {
      "cell_type": "markdown",
      "source": [
        "### Tokenization\n",
        "Convert the datasets from collections of strings to collections of numbers so that it is possible for any machine learning model to process them."
      ],
      "metadata": {
        "id": "CYyZQ2N1Au5U"
      }
    },
    {
      "cell_type": "code",
      "source": [
        "#The function that performs tokenization on a dataset\n",
        "def tokenize(dataset,tokenizer,maxLength):\n",
        "    tokens=tokenizer(dataset[\"text\"])[:maxLength]\n",
        "    return {'tokens':tokens}\n",
        "\n",
        "#Define the tokenizer and carry out tokenization\n",
        "maxLength=256       #maximum length of each token\n",
        "tokenizer=ttd.utils.get_tokenizer('basic_english')\n",
        "print('Tokenizing the training dataset...')\n",
        "trSet=trSet.map(tokenize,fn_kwargs={'tokenizer':tokenizer,'maxLength':maxLength})\n",
        "print('Tokenizing the testing dataset...')\n",
        "tsSet=tsSet.map(tokenize,fn_kwargs={'tokenizer':tokenizer,'maxLength':maxLength})\n",
        "print('\\nThe contents of the tokenized datasets are as follows:\\n{}.'.format(trSet))\n",
        "print('\\n\\nA sample from the tokenized dataset would look as shown below:\\n\\n1. Text:\\n{}'.format(trSet[0]['text']))\n",
        "print('\\n2. Label:\\n{}'.format(trSet[0]['label']))\n",
        "print('\\n3. Tokens:\\n{}'.format(trSet[0]['tokens']))"
      ],
      "metadata": {
        "colab": {
          "base_uri": "https://localhost:8080/"
        },
        "id": "Rba-nvV4AxdZ",
        "outputId": "d36ea176-ae35-46d1-c6aa-bbe3d8cd8e93"
      },
      "execution_count": 56,
      "outputs": [
        {
          "output_type": "stream",
          "name": "stdout",
          "text": [
            "Tokenizing the training dataset...\n",
            "Tokenizing the testing dataset...\n",
            "\n",
            "The contents of the tokenized datasets are as follows:\n",
            "Dataset({\n",
            "    features: ['text', 'label', 'tokens'],\n",
            "    num_rows: 25000\n",
            "}).\n",
            "\n",
            "\n",
            "A sample from the tokenized dataset would look as shown below:\n",
            "\n",
            "1. Text:\n",
            "I rented I AM CURIOUS-YELLOW from my video store because of all the controversy that surrounded it when it was first released in 1967. I also heard that at first it was seized by U.S. customs if it ever tried to enter this country, therefore being a fan of films considered \"controversial\" I really had to see this for myself.<br /><br />The plot is centered around a young Swedish drama student named Lena who wants to learn everything she can about life. In particular she wants to focus her attentions to making some sort of documentary on what the average Swede thought about certain political issues such as the Vietnam War and race issues in the United States. In between asking politicians and ordinary denizens of Stockholm about their opinions on politics, she has sex with her drama teacher, classmates, and married men.<br /><br />What kills me about I AM CURIOUS-YELLOW is that 40 years ago, this was considered pornographic. Really, the sex and nudity scenes are few and far between, even then it's not shot like some cheaply made porno. While my countrymen mind find it shocking, in reality sex and nudity are a major staple in Swedish cinema. Even Ingmar Bergman, arguably their answer to good old boy John Ford, had sex scenes in his films.<br /><br />I do commend the filmmakers for the fact that any sex shown in the film is shown for artistic purposes rather than just to shock people and make money to be shown in pornographic theaters in America. I AM CURIOUS-YELLOW is a good film for anyone wanting to study the meat and potatoes (no pun intended) of Swedish cinema. But really, this film doesn't have much of a plot.\n",
            "\n",
            "2. Label:\n",
            "0\n",
            "\n",
            "3. Tokens:\n",
            "['i', 'rented', 'i', 'am', 'curious-yellow', 'from', 'my', 'video', 'store', 'because', 'of', 'all', 'the', 'controversy', 'that', 'surrounded', 'it', 'when', 'it', 'was', 'first', 'released', 'in', '1967', '.', 'i', 'also', 'heard', 'that', 'at', 'first', 'it', 'was', 'seized', 'by', 'u', '.', 's', '.', 'customs', 'if', 'it', 'ever', 'tried', 'to', 'enter', 'this', 'country', ',', 'therefore', 'being', 'a', 'fan', 'of', 'films', 'considered', 'controversial', 'i', 'really', 'had', 'to', 'see', 'this', 'for', 'myself', '.', 'the', 'plot', 'is', 'centered', 'around', 'a', 'young', 'swedish', 'drama', 'student', 'named', 'lena', 'who', 'wants', 'to', 'learn', 'everything', 'she', 'can', 'about', 'life', '.', 'in', 'particular', 'she', 'wants', 'to', 'focus', 'her', 'attentions', 'to', 'making', 'some', 'sort', 'of', 'documentary', 'on', 'what', 'the', 'average', 'swede', 'thought', 'about', 'certain', 'political', 'issues', 'such', 'as', 'the', 'vietnam', 'war', 'and', 'race', 'issues', 'in', 'the', 'united', 'states', '.', 'in', 'between', 'asking', 'politicians', 'and', 'ordinary', 'denizens', 'of', 'stockholm', 'about', 'their', 'opinions', 'on', 'politics', ',', 'she', 'has', 'sex', 'with', 'her', 'drama', 'teacher', ',', 'classmates', ',', 'and', 'married', 'men', '.', 'what', 'kills', 'me', 'about', 'i', 'am', 'curious-yellow', 'is', 'that', '40', 'years', 'ago', ',', 'this', 'was', 'considered', 'pornographic', '.', 'really', ',', 'the', 'sex', 'and', 'nudity', 'scenes', 'are', 'few', 'and', 'far', 'between', ',', 'even', 'then', 'it', \"'\", 's', 'not', 'shot', 'like', 'some', 'cheaply', 'made', 'porno', '.', 'while', 'my', 'countrymen', 'mind', 'find', 'it', 'shocking', ',', 'in', 'reality', 'sex', 'and', 'nudity', 'are', 'a', 'major', 'staple', 'in', 'swedish', 'cinema', '.', 'even', 'ingmar', 'bergman', ',', 'arguably', 'their', 'answer', 'to', 'good', 'old', 'boy', 'john', 'ford', ',', 'had', 'sex', 'scenes', 'in', 'his', 'films', '.', 'i', 'do', 'commend', 'the', 'filmmakers', 'for', 'the', 'fact', 'that', 'any', 'sex', 'shown', 'in', 'the', 'film', 'is']\n"
          ]
        }
      ]
    },
    {
      "cell_type": "markdown",
      "source": [
        "### Validation dataset\n",
        "Set aside a portion of the tokenized training dataset as the validation dataset."
      ],
      "metadata": {
        "id": "vCJsYHhIA0r_"
      }
    },
    {
      "cell_type": "code",
      "source": [
        "valRatio=0.25\n",
        "tempSet=trSet.train_test_split(test_size=valRatio)\n",
        "trSet=tempSet['train']\n",
        "valSet=tempSet['test']\n",
        "print('The respective final sizes of the training, the validation, and the testing datasets are: {}, {}, and {} respectively.'.format(len(trSet),len(valSet),len(tsSet)))"
      ],
      "metadata": {
        "colab": {
          "base_uri": "https://localhost:8080/"
        },
        "id": "yBoqkFitA1Tp",
        "outputId": "808df8f1-c058-42f5-9b99-ae4036b59d06"
      },
      "execution_count": 57,
      "outputs": [
        {
          "output_type": "stream",
          "name": "stdout",
          "text": [
            "The respective final sizes of the training, the validation, and the testing datasets are: 18750, 6250, and 25000 respectively.\n"
          ]
        }
      ]
    },
    {
      "cell_type": "markdown",
      "source": [
        "### Vocabulary\n",
        "Convert the tokens into one-hot representations by defining a minimum threshold frequency of occurence for each token and the unknown and the padding tokens."
      ],
      "metadata": {
        "id": "uuGnRziIA4Uh"
      }
    },
    {
      "cell_type": "code",
      "source": [
        "#Define the vocabulary\n",
        "threshold=5                 #minimum frequency of occurence for a token to be assigned a one-hot representation\n",
        "spclTokens=['<unk>','<pad>']#to represent tokens with frequency<threshold and for padding to make all sentences have the same lengths\n",
        "vocabulary=ttv.build_vocab_from_iterator(trSet['tokens'],min_freq=threshold,specials=spclTokens)\n",
        "print('The number of tokens in the vocabulary is {}.'.format(len(vocabulary)))\n",
        "\n",
        "#Indices of the special tokens in the vocabulary\n",
        "idxUnk,idxPad=vocabulary['<unk>'],vocabulary['<pad>']\n",
        "vocabulary.set_default_index(idxUnk)#set '<unk>' as the default token for any new words encounterd. Otherwise, new words will raise an error"
      ],
      "metadata": {
        "colab": {
          "base_uri": "https://localhost:8080/"
        },
        "id": "M0AMVjYbA4wl",
        "outputId": "443805a2-c4f9-4648-e74a-650ab982b7ce"
      },
      "execution_count": 58,
      "outputs": [
        {
          "output_type": "stream",
          "name": "stdout",
          "text": [
            "The number of tokens in the vocabulary is 21547.\n"
          ]
        }
      ]
    },
    {
      "cell_type": "markdown",
      "source": [
        "### Numerize the vocabulary\n",
        "Convert the tokens into a numerical format so that they can be processed by neural networks."
      ],
      "metadata": {
        "id": "_s-swQUDISY9"
      }
    },
    {
      "cell_type": "code",
      "source": [
        "#The function that numerizes the tokens in a dataset\n",
        "def numerize(dataset,vocabulary):\n",
        "  indices=vocabulary.lookup_indices(dataset['tokens'])\n",
        "  return {'indices':indices}\n",
        "\n",
        "#Numerize the datasets\n",
        "print('Numerizing the training dataset...')\n",
        "trSet=trSet.map(numerize,fn_kwargs={'vocabulary':vocabulary})\n",
        "print('Numerizing the validation dataset...')\n",
        "valSet=valSet.map(numerize,fn_kwargs={'vocabulary':vocabulary})\n",
        "print('Numerizing the testing dataset...')\n",
        "tsSet=tsSet.map(numerize,fn_kwargs={'vocabulary':vocabulary})\n",
        "print('\\nThe contents of the numerized datasets are as follows:\\n{}.'.format(trSet))\n",
        "print('\\n\\nA sample from the numerized dataset would look as shown below:\\n\\n1. Text:\\n{}'.format(trSet[0]['text']))\n",
        "print('\\n2. Label:\\n{}'.format(trSet[0]['label']))\n",
        "print('\\n3. Tokens:\\n{}'.format(trSet[0]['tokens']))\n",
        "print('\\n4. Indices:\\n{}'.format(trSet[0]['indices']))\n",
        "\n",
        "#Convert the datasets to tensors after retaining only 'label' and 'indices'\n",
        "trSet=trSet.with_format(type=\"torch\",columns=['indices','label'])\n",
        "valSet=valSet.with_format(type=\"torch\",columns=['indices','label'])\n",
        "tsSet=tsSet.with_format(type=\"torch\",columns=['indices','label'])\n",
        "print('\\nThe numerized datasets\\' contents after their conversion to tensors are as follows:\\n{}.'.format(trSet))\n",
        "print('\\n\\nA sample from a dataset tensor would look as shown below:\\n\\n1. Label:\\n{}'.format(trSet[0]['label']))\n",
        "print('\\n2. Indices:\\n{}'.format(trSet[0]['indices']))"
      ],
      "metadata": {
        "colab": {
          "base_uri": "https://localhost:8080/",
          "height": 1000,
          "referenced_widgets": [
            "e0d0ef2614e946abadc9096f5cc8f11f",
            "fab78180d5d04692bd55319cc1b71048",
            "05b7fbfc9fd04625891f90638a2c6e92",
            "fbbd3ae4674d4f2781a0721448eada3b",
            "3968ca16123941b18b2fa71a50999634",
            "c3a8b5268fa643da9c8c592e8b09b376",
            "d6466a52d2204a0da5375ac7fab3195b",
            "b3ad5a39878a4d99bc468c44e5b08282",
            "a8a2a1ac2f6f4b098a7031036d5ba205",
            "aaf481fc7b434e2f9f1901501570fe10",
            "f82202d6deb94da6ba5f301137a45567",
            "c02a6ad99eef43028e499f39b9beb522",
            "5a3e586e42e54c2684500d63633ecff1",
            "d4b62104ba2149059087f6a67bdd003f",
            "7e04c8ee43c548968f1347f550d8d9d0",
            "b4dcaff3a72d40f29b5ab93b1a7d1b9e",
            "2826fccc049140d7989c8b210aea54e2",
            "ac492017752e47f7b37dccdc78186cce",
            "aec0a845cbbc45078d7b06934d440018",
            "0166922b4a8e4ccaa1ad19dc325b5fe3",
            "f7d387e8d18f404a9d942e436549202c",
            "27a24abbdb624b0faf71ad0b5a1f47d3",
            "ee5688d5d29b413998bc7a98007b04a7",
            "e925d92c13f44e6684bb11717b4a1c7d",
            "6f69d5e192b64878b2ccf65bb3e1459f",
            "ab07007b6adc4232b22550766702a448",
            "4eb15ef944a747ed8061a98405e71dab",
            "5b3298f8fc424ab89bef0e41e45b872c",
            "93a6df3215ce410e9c159faa9809db44",
            "aa3d9f0ca92942fca7a0d9c5b9a97803",
            "f5884e69ca024b33b32e12e665c84e20",
            "b8ca68e9624c423cada94896989e2320",
            "b8f704e15df34b9c8bee9598a0762966"
          ]
        },
        "id": "jURmuKEvEp5p",
        "outputId": "25087b4d-ea88-4564-8042-abfd71c30eb1"
      },
      "execution_count": 59,
      "outputs": [
        {
          "output_type": "stream",
          "name": "stdout",
          "text": [
            "Numerizing the training dataset...\n"
          ]
        },
        {
          "output_type": "display_data",
          "data": {
            "text/plain": [
              "Map:   0%|          | 0/18750 [00:00<?, ? examples/s]"
            ],
            "application/vnd.jupyter.widget-view+json": {
              "version_major": 2,
              "version_minor": 0,
              "model_id": "e0d0ef2614e946abadc9096f5cc8f11f"
            }
          },
          "metadata": {}
        },
        {
          "output_type": "stream",
          "name": "stdout",
          "text": [
            "Numerizing the validation dataset...\n"
          ]
        },
        {
          "output_type": "display_data",
          "data": {
            "text/plain": [
              "Map:   0%|          | 0/6250 [00:00<?, ? examples/s]"
            ],
            "application/vnd.jupyter.widget-view+json": {
              "version_major": 2,
              "version_minor": 0,
              "model_id": "c02a6ad99eef43028e499f39b9beb522"
            }
          },
          "metadata": {}
        },
        {
          "output_type": "stream",
          "name": "stdout",
          "text": [
            "Numerizing the testing dataset...\n"
          ]
        },
        {
          "output_type": "display_data",
          "data": {
            "text/plain": [
              "Map:   0%|          | 0/25000 [00:00<?, ? examples/s]"
            ],
            "application/vnd.jupyter.widget-view+json": {
              "version_major": 2,
              "version_minor": 0,
              "model_id": "ee5688d5d29b413998bc7a98007b04a7"
            }
          },
          "metadata": {}
        },
        {
          "output_type": "stream",
          "name": "stdout",
          "text": [
            "\n",
            "The contents of the numerized datasets are as follows:\n",
            "Dataset({\n",
            "    features: ['text', 'label', 'tokens', 'indices'],\n",
            "    num_rows: 18750\n",
            "}).\n",
            "\n",
            "\n",
            "A sample from the numerized dataset would look as shown below:\n",
            "\n",
            "1. Text:\n",
            "Spend your time any other way, even housework is better than this movie. The jokes aren't funny, the fun rhymes that are Dr. Seus aren't there. A very lousy way to waste an evening. My kids 4-16 laughed a little at the beginning the younger ones got bored with it and left to play Barbies and the older ones left to play ps2 and surf the net. My wife left and did dishes. So I finished it alone. It was the worst \"kids\" movie I have seen. If you want to watch a fun kids movie watch Shrek 2, that movie is fun for kids and their parents. AVOID THIS MOVIE. It isn't funny, isn't cute, the cat's makeup is about the only good thing in it and you can see that on the disc label.\n",
            "\n",
            "2. Label:\n",
            "0\n",
            "\n",
            "3. Tokens:\n",
            "['spend', 'your', 'time', 'any', 'other', 'way', ',', 'even', 'housework', 'is', 'better', 'than', 'this', 'movie', '.', 'the', 'jokes', 'aren', \"'\", 't', 'funny', ',', 'the', 'fun', 'rhymes', 'that', 'are', 'dr', '.', 'seus', 'aren', \"'\", 't', 'there', '.', 'a', 'very', 'lousy', 'way', 'to', 'waste', 'an', 'evening', '.', 'my', 'kids', '4-16', 'laughed', 'a', 'little', 'at', 'the', 'beginning', 'the', 'younger', 'ones', 'got', 'bored', 'with', 'it', 'and', 'left', 'to', 'play', 'barbies', 'and', 'the', 'older', 'ones', 'left', 'to', 'play', 'ps2', 'and', 'surf', 'the', 'net', '.', 'my', 'wife', 'left', 'and', 'did', 'dishes', '.', 'so', 'i', 'finished', 'it', 'alone', '.', 'it', 'was', 'the', 'worst', 'kids', 'movie', 'i', 'have', 'seen', '.', 'if', 'you', 'want', 'to', 'watch', 'a', 'fun', 'kids', 'movie', 'watch', 'shrek', '2', ',', 'that', 'movie', 'is', 'fun', 'for', 'kids', 'and', 'their', 'parents', '.', 'avoid', 'this', 'movie', '.', 'it', 'isn', \"'\", 't', 'funny', ',', 'isn', \"'\", 't', 'cute', ',', 'the', 'cat', \"'\", 's', 'makeup', 'is', 'about', 'the', 'only', 'good', 'thing', 'in', 'it', 'and', 'you', 'can', 'see', 'that', 'on', 'the', 'disc', 'label', '.']\n",
            "\n",
            "4. Indices:\n",
            "[1082, 133, 65, 112, 90, 102, 4, 67, 0, 10, 131, 83, 14, 18, 3, 2, 580, 745, 9, 28, 158, 4, 2, 249, 11065, 15, 30, 829, 3, 0, 745, 9, 28, 46, 3, 5, 58, 2047, 102, 8, 394, 41, 2184, 3, 61, 330, 0, 1257, 5, 127, 38, 2, 438, 2, 1177, 688, 182, 991, 20, 11, 6, 329, 8, 306, 0, 6, 2, 909, 688, 329, 8, 306, 18743, 6, 7671, 2, 5418, 3, 61, 322, 329, 6, 125, 16481, 3, 43, 12, 1614, 11, 601, 3, 11, 17, 2, 218, 330, 18, 12, 31, 108, 3, 52, 26, 194, 8, 111, 5, 249, 330, 18, 111, 9385, 264, 4, 15, 18, 10, 249, 21, 330, 6, 77, 737, 3, 781, 14, 18, 3, 11, 239, 9, 28, 158, 4, 239, 9, 28, 981, 4, 2, 1034, 9, 16, 2561, 10, 47, 2, 72, 57, 161, 13, 11, 6, 26, 59, 73, 15, 27, 2, 4109, 5315, 3]\n",
            "\n",
            "The numerized datasets' contents after their conversion to tensors are as follows:\n",
            "Dataset({\n",
            "    features: ['text', 'label', 'tokens', 'indices'],\n",
            "    num_rows: 18750\n",
            "}).\n",
            "\n",
            "\n",
            "A sample from a dataset tensor would look as shown below:\n",
            "\n",
            "1. Label:\n",
            "0\n",
            "\n",
            "2. Indices:\n",
            "tensor([ 1082,   133,    65,   112,    90,   102,     4,    67,     0,    10,\n",
            "          131,    83,    14,    18,     3,     2,   580,   745,     9,    28,\n",
            "          158,     4,     2,   249, 11065,    15,    30,   829,     3,     0,\n",
            "          745,     9,    28,    46,     3,     5,    58,  2047,   102,     8,\n",
            "          394,    41,  2184,     3,    61,   330,     0,  1257,     5,   127,\n",
            "           38,     2,   438,     2,  1177,   688,   182,   991,    20,    11,\n",
            "            6,   329,     8,   306,     0,     6,     2,   909,   688,   329,\n",
            "            8,   306, 18743,     6,  7671,     2,  5418,     3,    61,   322,\n",
            "          329,     6,   125, 16481,     3,    43,    12,  1614,    11,   601,\n",
            "            3,    11,    17,     2,   218,   330,    18,    12,    31,   108,\n",
            "            3,    52,    26,   194,     8,   111,     5,   249,   330,    18,\n",
            "          111,  9385,   264,     4,    15,    18,    10,   249,    21,   330,\n",
            "            6,    77,   737,     3,   781,    14,    18,     3,    11,   239,\n",
            "            9,    28,   158,     4,   239,     9,    28,   981,     4,     2,\n",
            "         1034,     9,    16,  2561,    10,    47,     2,    72,    57,   161,\n",
            "           13,    11,     6,    26,    59,    73,    15,    27,     2,  4109,\n",
            "         5315,     3])\n"
          ]
        }
      ]
    },
    {
      "cell_type": "markdown",
      "source": [
        "### Data loader"
      ],
      "metadata": {
        "id": "wgWMCj-BNg5m"
      }
    },
    {
      "cell_type": "code",
      "source": [
        "#The class prepares batches of data that can be iterated over by the data loader.\n",
        "#The batch is prepared by collating a group of data samples in the function\n",
        "#'collate'. The function also pads the shorter sequences in the batch with '<pad>'\n",
        "#to make their lengths equal to that of the bacth's longest sequence. This\n",
        "#ensures that the neural network model's I/P dimension remains fixed.\n",
        "class sentimentDataset(Dataset):\n",
        "  def __init__(self,dataset,batchSize,idxPad,shuffle=False):\n",
        "    self.dataset,self.batchSize=dataset,batchSize\n",
        "    self.idxPad=idxPad\n",
        "    self.shuffle=False\n",
        "\n",
        "  def collate(self,batch):\n",
        "    batchLabels=[sample['label'] for sample in batch]\n",
        "    batchIndices=[sample['indices'] for sample in batch]\n",
        "    batchLabels=torch.stack(batchLabels)\n",
        "    batchIndices=nn.utils.rnn.pad_sequence(batchIndices,padding_value=self.idxPad,batch_first=True)\n",
        "    print('Batch size is {} and {}.'.format(batchIndices.shape,batchLabels.shape))\n",
        "    return {'indices':batchIndices,'label':batchLabels}\n",
        "\n",
        "  def loadData(self):\n",
        "    dataLoader=torch.utils.data.DataLoader(dataset=self.dataset,batch_size=self.batchSize,collate_fn=self.collate,shuffle=self.shuffle)\n",
        "    return dataLoader\n",
        "\n",
        "def dataIterators(set,dataset,params):\n",
        "    if set=='train':obj=sentimentDataset(dataset,params['batchSize'],params['padIndex'],shuffle=False)\n",
        "    elif set=='validate':obj=sentimentDataset(dataset,params['batchSize'],params['padIndex'],shuffle=False)\n",
        "    elif set=='test':obj=sentimentDataset(dataset,params['batchSize'],params['padIndex'],shuffle=False)\n",
        "    return obj.loadData()"
      ],
      "metadata": {
        "id": "nIqB2EVdDgQO"
      },
      "execution_count": 80,
      "outputs": []
    },
    {
      "cell_type": "markdown",
      "source": [
        "## NBoW model for sentiment classification\n",
        "The sentiment classification model will be an NBoW with an architecture as defined below:"
      ],
      "metadata": {
        "id": "iCqpAjqK-0Ww"
      }
    },
    {
      "cell_type": "code",
      "source": [
        "class nbow(nn.Module):\n",
        "  #Initializes the neural bag of words class\n",
        "  def __init__(self,vocabularySize,embDim,opDim,idxPad):\n",
        "    super(nbow,self).__init__()\n",
        "    self.embed=nn.Embedding(vocabularySize,embDim,padding_idx=idxPad)\n",
        "    self.linear=nn.Linear(embDim,opDim)\n",
        "\n",
        "  #Forward propagates a batch of size [batchSize,sequenceLength] through the network\n",
        "  def forward(self,x):\n",
        "    x1=self.embed(x)              #size is [batchSize,sequenceLength,embDim]\n",
        "    x1Pooled=x1.mean(dim=1)       #size is [batchSize,embDim]\n",
        "    labelHat=self.linear(x1Pooled)#prediction's size is [batchSize,opDim]\n",
        "    return labelHat"
      ],
      "metadata": {
        "id": "FB9SalbL_GPY"
      },
      "execution_count": 81,
      "outputs": []
    },
    {
      "cell_type": "markdown",
      "source": [
        "## Model training and evaluation\n",
        "The functions that train, validate, and evaluate the NBoW model are defined below."
      ],
      "metadata": {
        "id": "1q_ofjiqVJxt"
      }
    },
    {
      "cell_type": "code",
      "source": [
        "#This function trains and validates the model\n",
        "def train(vocabulary,trDataLoader,valDataLoader,params):\n",
        "  #Define the model and initialize its embedding layer's weights with pretrained\n",
        "  #weights from Glove\n",
        "  model=nbow(params['vocabSize'],params['embDim'],params['opDim'],params['padIndex']).to(params['device'])\n",
        "  vectors=torchtext.vocab.GloVe()      #initializing embedded layer with pretrained weights from Glove\n",
        "  temp=vocabulary.get_itos()           #vocabulary tokens represented as a list\n",
        "  pretrainEmb=vectors.get_vecs_by_tokens(temp)\n",
        "  model.embed.weight.data=pretrainEmb#replace embedding layer's initial random weights with pretrained weights\n",
        "  #Define the cost-function and the optimizer\n",
        "  optimizer=optim.Adam(model.parameters(),lr=params['alpha'])\n",
        "  costFun=nn.CrossEntropyLoss().to(params['device'])\n",
        "  #Start training the model\n",
        "  metrics=collections.defaultdict(list)\n",
        "  model.train()                        #configure the model for training\n",
        "  for epoch in range(params['epochs']):#loop for epochs\n",
        "    trLosses,trAccuracies=[],[]\n",
        "    #Loop over each training batch\n",
        "    for dataBatch in tqdm.tqdm(trDataLoader,desc='Model training in progress...'):\n",
        "      ids=dataBatch['indices'].to(params['device'])\n",
        "      labels=dataBatch['label'].to(params['device'])\n",
        "      #Forward propagation\n",
        "      labelsHat=model(ids)\n",
        "      loss=costFun(labelsHat,labels)\n",
        "      accuracy=getAccuracy(labelsHat,labels)\n",
        "      #Backpropagation\n",
        "      optimizer.zero_grad()            #initialize all gradients to zero\n",
        "      loss.backward()\n",
        "      optimizer.step()\n",
        "      #Update the losses\n",
        "      trLosses.append(loss.item())\n",
        "      trAccuracies.append(accuracy.item())\n",
        "    metrics['train_accs'].append(np.mean(trAccuracies))\n",
        "    metrics['train_losses'].append(np.mean(trLosses))\n",
        "    #Validate the model after each epoch\n",
        "    bestValLoss=float('inf')\n",
        "    model.eval()                       #configure the model for evaluation\n",
        "    valLosses,valAccuracies=[],[]\n",
        "    with torch.no_grad():              #backpropagation not required\n",
        "      for dataBatch in tqdm.tqdm(valDataLoader,desc='Model validation in progress...'):\n",
        "        ids=dataBatch['indices'].to(params['device'])\n",
        "        labels=dataBatch['label'].to(params['device'])\n",
        "        #Forward propagation\n",
        "        labelsHat=model(ids)\n",
        "        loss=costFun(labelsHat,labels)\n",
        "        accuracy=getAccuracy(labelsHat,labels)\n",
        "        #Update the losses\n",
        "        valLosses.append(loss.item())\n",
        "        valAccuracies.append(accuracy.item())\n",
        "    metrics['valid_accs'].append(np.mean(valAccuracies))\n",
        "    metrics['valid_losses'].append(np.mean(valLosses))\n",
        "    if np.mean(valLosses)<bestValLoss:\n",
        "      bestValLoss=np.mean(valLosses)\n",
        "      torch.save(model.state_dict(),'nbow.pt')\n",
        "    print(f'Epoch: {epoch}')\n",
        "    print(f'Training loss: {np.mean(trLosses):.3f}, Training accuracy: {np.mean(trAccuracies):.3f}')\n",
        "    print(f'Validation loss: {np.mean(valLosses):.3f}, Validation accuracy: {np.mean(valAccuracies):.3f}\\n\\n')\n",
        "  return model,costFun,metrics\n",
        "\n",
        "#This function evaluates the model\n",
        "def evaluate(model,tsDataLoader,costFun,params):\n",
        "  model.eval()                         #configure the model for evaluation\n",
        "  tsLosses,tsAccuracies=[],[]\n",
        "  with torch.no_grad():                #backpropagation not required\n",
        "    for dataBatch in tqdm.tqdm(tsDataLoader,desc='Model evaluation in progress...'):\n",
        "      ids=dataBatch['indices'].to(params['device'])\n",
        "      labels=dataBatch['label'].to(params['device'])\n",
        "      #Forward propagation\n",
        "      labelsHat=model(ids)\n",
        "      loss=costFun(labelsHat,labels)\n",
        "      accuracy=getAccuracy(labelsHat,labels)\n",
        "      #Update the losses\n",
        "      tsLosses.append(loss.item())\n",
        "      tsAccuracies.append(accuracy.item())\n",
        "  return np.mean(tsLosses),np.mean(tsAccuracies)\n",
        "\n",
        "#This function computes the accuracies of prediction for a given batch of data\n",
        "def getAccuracy(yHat,y):\n",
        "  batchSize,_=yHat.shape\n",
        "  labelsHat=yHat.argmax(dim=-1)        #predicted class labels\n",
        "  TP=labelsHat.eq(y).sum()             #true positives\n",
        "  return (TP/batchSize)"
      ],
      "metadata": {
        "id": "HzNxulOWVVft"
      },
      "execution_count": 82,
      "outputs": []
    },
    {
      "cell_type": "markdown",
      "source": [
        "## Main function"
      ],
      "metadata": {
        "id": "tOz6CgBY4t6A"
      }
    },
    {
      "cell_type": "code",
      "source": [
        "if __name__=='__main__':\n",
        "    device=torch.device('cuda' if torch.cuda.is_available() else 'cpu')\n",
        "    device=torch.device('cpu')\n",
        "    params={'device':device,\n",
        "            'epochs':10,\n",
        "            'batchSize':512,\n",
        "            'alpha':1e-3,\n",
        "            'vocabSize':len(vocabulary),\n",
        "            'embDim':300, #pretraining embedded layer with Glove that has a default dimension of 300\n",
        "            'opDim':len(trSet.unique('label')),\n",
        "            'padIndex':idxPad,\n",
        "            'unknownIndex':idxUnk}\n",
        "    trIterator=dataIterators('train',trSet,params)\n",
        "    valIterator=dataIterators('validate',valSet,params)\n",
        "    tsIterator=dataIterators('test',tsSet,params)\n",
        "    #Train the NBoW model\n",
        "    model,costFun,metrics=train(vocabulary,trIterator,valIterator,params)\n",
        "    print('Model training complete, and the model has {} learnable parameters.\\n\\n'.format(sum(weight.numel() for weight in model.parameters() if weight.requires_grad==True)))\n",
        "    #Plot the learning curves\n",
        "    figure1=plt.figure(figsize=(10,6))\n",
        "    axis=figure1.add_subplot(1,1,1)\n",
        "    axis.plot(metrics['train_losses'],label='Training loss')\n",
        "    axis.plot(metrics['valid_losses'], label='Validation loss')\n",
        "    axis.set_xticks(range(params['epochs']))\n",
        "    axis.set_title('Loss v/s epoch')\n",
        "    axis.set_xlabel('Epoch')\n",
        "    axis.set_ylabel('Loss')\n",
        "    axis.legend()\n",
        "    axis.grid()\n",
        "    figure2=plt.figure(figsize=(10,6))\n",
        "    axis=figure2.add_subplot(1,1,1)\n",
        "    axis.plot(metrics['train_accs'], label='Training accuracy')\n",
        "    axis.plot(metrics['valid_accs'], label='Validation accuracy')\n",
        "    axis.set_xticks(range(params['epochs']))\n",
        "    axis.set_title('Accuracy v/s epoch')\n",
        "    axis.set_ylabel('Accuracy')\n",
        "    axis.set_xlabel('Epoch')\n",
        "    axis.legend()\n",
        "    axis.grid()\n",
        "    #Evaluate the NBoW model\n",
        "    model.load_state_dict(torch.load('nbow.pt'))#equate model weights to that of the one with the best validation results\n",
        "    loss,accuracy=evaluate(model,tsIterator,costFun,params)\n",
        "    print(f'Testing loss: {loss:.3f}, Testing accuracy: {accuracy:.3f}')"
      ],
      "metadata": {
        "colab": {
          "base_uri": "https://localhost:8080/",
          "height": 1000
        },
        "id": "OPyQCV5_4usO",
        "outputId": "a991ad9a-f75b-494c-d83e-4b3dab6c51d6"
      },
      "execution_count": 83,
      "outputs": [
        {
          "output_type": "stream",
          "name": "stderr",
          "text": [
            "Model training in progress...:   3%|▎         | 1/37 [00:00<00:04,  7.50it/s]"
          ]
        },
        {
          "output_type": "stream",
          "name": "stdout",
          "text": [
            "Batch size is torch.Size([512, 256]) and torch.Size([512]).\n",
            "Batch size is torch.Size([512, 256]) and torch.Size([512]).\n"
          ]
        },
        {
          "output_type": "stream",
          "name": "stderr",
          "text": [
            "Model training in progress...:   8%|▊         | 3/37 [00:00<00:04,  7.93it/s]"
          ]
        },
        {
          "output_type": "stream",
          "name": "stdout",
          "text": [
            "Batch size is torch.Size([512, 256]) and torch.Size([512]).\n",
            "Batch size is torch.Size([512, 256]) and torch.Size([512]).\n"
          ]
        },
        {
          "output_type": "stream",
          "name": "stderr",
          "text": [
            "Model training in progress...:  14%|█▎        | 5/37 [00:00<00:03,  8.09it/s]"
          ]
        },
        {
          "output_type": "stream",
          "name": "stdout",
          "text": [
            "Batch size is torch.Size([512, 256]) and torch.Size([512]).\n",
            "Batch size is torch.Size([512, 256]) and torch.Size([512]).\n"
          ]
        },
        {
          "output_type": "stream",
          "name": "stderr",
          "text": [
            "Model training in progress...:  19%|█▉        | 7/37 [00:00<00:03,  8.24it/s]"
          ]
        },
        {
          "output_type": "stream",
          "name": "stdout",
          "text": [
            "Batch size is torch.Size([512, 256]) and torch.Size([512]).\n",
            "Batch size is torch.Size([512, 256]) and torch.Size([512]).\n"
          ]
        },
        {
          "output_type": "stream",
          "name": "stderr",
          "text": [
            "Model training in progress...:  24%|██▍       | 9/37 [00:01<00:03,  8.37it/s]"
          ]
        },
        {
          "output_type": "stream",
          "name": "stdout",
          "text": [
            "Batch size is torch.Size([512, 256]) and torch.Size([512]).\n",
            "Batch size is torch.Size([512, 256]) and torch.Size([512]).\n"
          ]
        },
        {
          "output_type": "stream",
          "name": "stderr",
          "text": [
            "Model training in progress...:  30%|██▉       | 11/37 [00:01<00:03,  8.16it/s]"
          ]
        },
        {
          "output_type": "stream",
          "name": "stdout",
          "text": [
            "Batch size is torch.Size([512, 256]) and torch.Size([512]).\n",
            "Batch size is torch.Size([512, 256]) and torch.Size([512]).\n"
          ]
        },
        {
          "output_type": "stream",
          "name": "stderr",
          "text": [
            "Model training in progress...:  35%|███▌      | 13/37 [00:01<00:02,  8.35it/s]"
          ]
        },
        {
          "output_type": "stream",
          "name": "stdout",
          "text": [
            "Batch size is torch.Size([512, 256]) and torch.Size([512]).\n",
            "Batch size is torch.Size([512, 256]) and torch.Size([512]).\n"
          ]
        },
        {
          "output_type": "stream",
          "name": "stderr",
          "text": [
            "Model training in progress...:  41%|████      | 15/37 [00:01<00:02,  8.09it/s]"
          ]
        },
        {
          "output_type": "stream",
          "name": "stdout",
          "text": [
            "Batch size is torch.Size([512, 256]) and torch.Size([512]).\n",
            "Batch size is torch.Size([512, 256]) and torch.Size([512]).\n"
          ]
        },
        {
          "output_type": "stream",
          "name": "stderr",
          "text": [
            "Model training in progress...:  46%|████▌     | 17/37 [00:02<00:02,  7.26it/s]"
          ]
        },
        {
          "output_type": "stream",
          "name": "stdout",
          "text": [
            "Batch size is torch.Size([512, 256]) and torch.Size([512]).\n",
            "Batch size is torch.Size([512, 256]) and torch.Size([512]).\n"
          ]
        },
        {
          "output_type": "stream",
          "name": "stderr",
          "text": [
            "Model training in progress...:  51%|█████▏    | 19/37 [00:02<00:02,  6.88it/s]"
          ]
        },
        {
          "output_type": "stream",
          "name": "stdout",
          "text": [
            "Batch size is torch.Size([512, 256]) and torch.Size([512]).\n",
            "Batch size is torch.Size([512, 256]) and torch.Size([512]).\n"
          ]
        },
        {
          "output_type": "stream",
          "name": "stderr",
          "text": [
            "Model training in progress...:  57%|█████▋    | 21/37 [00:02<00:02,  6.67it/s]"
          ]
        },
        {
          "output_type": "stream",
          "name": "stdout",
          "text": [
            "Batch size is torch.Size([512, 256]) and torch.Size([512]).\n",
            "Batch size is torch.Size([512, 256]) and torch.Size([512]).\n"
          ]
        },
        {
          "output_type": "stream",
          "name": "stderr",
          "text": [
            "Model training in progress...:  62%|██████▏   | 23/37 [00:03<00:02,  6.57it/s]"
          ]
        },
        {
          "output_type": "stream",
          "name": "stdout",
          "text": [
            "Batch size is torch.Size([512, 256]) and torch.Size([512]).\n",
            "Batch size is torch.Size([512, 256]) and torch.Size([512]).\n"
          ]
        },
        {
          "output_type": "stream",
          "name": "stderr",
          "text": [
            "Model training in progress...:  68%|██████▊   | 25/37 [00:03<00:01,  6.86it/s]"
          ]
        },
        {
          "output_type": "stream",
          "name": "stdout",
          "text": [
            "Batch size is torch.Size([512, 256]) and torch.Size([512]).\n",
            "Batch size is torch.Size([512, 256]) and torch.Size([512]).\n"
          ]
        },
        {
          "output_type": "stream",
          "name": "stderr",
          "text": [
            "Model training in progress...:  73%|███████▎  | 27/37 [00:03<00:01,  7.58it/s]"
          ]
        },
        {
          "output_type": "stream",
          "name": "stdout",
          "text": [
            "Batch size is torch.Size([512, 256]) and torch.Size([512]).\n",
            "Batch size is torch.Size([512, 256]) and torch.Size([512]).\n"
          ]
        },
        {
          "output_type": "stream",
          "name": "stderr",
          "text": [
            "Model training in progress...:  78%|███████▊  | 29/37 [00:03<00:00,  8.07it/s]"
          ]
        },
        {
          "output_type": "stream",
          "name": "stdout",
          "text": [
            "Batch size is torch.Size([512, 256]) and torch.Size([512]).\n",
            "Batch size is torch.Size([512, 256]) and torch.Size([512]).\n"
          ]
        },
        {
          "output_type": "stream",
          "name": "stderr",
          "text": [
            "Model training in progress...:  84%|████████▍ | 31/37 [00:04<00:00,  8.26it/s]"
          ]
        },
        {
          "output_type": "stream",
          "name": "stdout",
          "text": [
            "Batch size is torch.Size([512, 256]) and torch.Size([512]).\n",
            "Batch size is torch.Size([512, 256]) and torch.Size([512]).\n"
          ]
        },
        {
          "output_type": "stream",
          "name": "stderr",
          "text": [
            "Model training in progress...:  89%|████████▉ | 33/37 [00:04<00:00,  8.36it/s]"
          ]
        },
        {
          "output_type": "stream",
          "name": "stdout",
          "text": [
            "Batch size is torch.Size([512, 256]) and torch.Size([512]).\n",
            "Batch size is torch.Size([512, 256]) and torch.Size([512]).\n"
          ]
        },
        {
          "output_type": "stream",
          "name": "stderr",
          "text": [
            "Model training in progress...:  95%|█████████▍| 35/37 [00:04<00:00,  8.41it/s]"
          ]
        },
        {
          "output_type": "stream",
          "name": "stdout",
          "text": [
            "Batch size is torch.Size([512, 256]) and torch.Size([512]).\n",
            "Batch size is torch.Size([512, 256]) and torch.Size([512]).\n"
          ]
        },
        {
          "output_type": "stream",
          "name": "stderr",
          "text": [
            "Model training in progress...: 100%|██████████| 37/37 [00:04<00:00,  7.83it/s]\n"
          ]
        },
        {
          "output_type": "stream",
          "name": "stdout",
          "text": [
            "Batch size is torch.Size([318, 256]) and torch.Size([318]).\n"
          ]
        },
        {
          "output_type": "stream",
          "name": "stderr",
          "text": [
            "\rModel validation in progress...:   0%|          | 0/13 [00:00<?, ?it/s]"
          ]
        },
        {
          "output_type": "stream",
          "name": "stdout",
          "text": [
            "Batch size is torch.Size([512, 256]) and torch.Size([512]).\n",
            "Batch size is torch.Size([512, 256]) and torch.Size([512]).\n"
          ]
        },
        {
          "output_type": "stream",
          "name": "stderr",
          "text": [
            "\rModel validation in progress...:  15%|█▌        | 2/13 [00:00<00:00, 14.94it/s]"
          ]
        },
        {
          "output_type": "stream",
          "name": "stdout",
          "text": [
            "Batch size is torch.Size([512, 256]) and torch.Size([512]).\n",
            "Batch size is torch.Size([512, 256]) and torch.Size([512]).\n"
          ]
        },
        {
          "output_type": "stream",
          "name": "stderr",
          "text": [
            "\rModel validation in progress...:  31%|███       | 4/13 [00:00<00:00, 16.45it/s]"
          ]
        },
        {
          "output_type": "stream",
          "name": "stdout",
          "text": [
            "Batch size is torch.Size([512, 256]) and torch.Size([512]).\n",
            "Batch size is torch.Size([512, 256]) and torch.Size([512]).\n"
          ]
        },
        {
          "output_type": "stream",
          "name": "stderr",
          "text": [
            "\rModel validation in progress...:  46%|████▌     | 6/13 [00:00<00:00, 16.84it/s]"
          ]
        },
        {
          "output_type": "stream",
          "name": "stdout",
          "text": [
            "Batch size is torch.Size([512, 256]) and torch.Size([512]).\n",
            "Batch size is torch.Size([512, 256]) and torch.Size([512]).\n"
          ]
        },
        {
          "output_type": "stream",
          "name": "stderr",
          "text": [
            "\rModel validation in progress...:  62%|██████▏   | 8/13 [00:00<00:00, 16.96it/s]"
          ]
        },
        {
          "output_type": "stream",
          "name": "stdout",
          "text": [
            "Batch size is torch.Size([512, 256]) and torch.Size([512]).\n",
            "Batch size is torch.Size([512, 256]) and torch.Size([512]).\n"
          ]
        },
        {
          "output_type": "stream",
          "name": "stderr",
          "text": [
            "\rModel validation in progress...:  77%|███████▋  | 10/13 [00:00<00:00, 16.98it/s]"
          ]
        },
        {
          "output_type": "stream",
          "name": "stdout",
          "text": [
            "Batch size is torch.Size([512, 256]) and torch.Size([512]).\n",
            "Batch size is torch.Size([512, 256]) and torch.Size([512]).\n"
          ]
        },
        {
          "output_type": "stream",
          "name": "stderr",
          "text": [
            "Model validation in progress...: 100%|██████████| 13/13 [00:00<00:00, 17.89it/s]\n"
          ]
        },
        {
          "output_type": "stream",
          "name": "stdout",
          "text": [
            "Batch size is torch.Size([106, 256]) and torch.Size([106]).\n",
            "Epoch: 0\n",
            "Training loss: 0.677, Training accuracy: 0.641\n",
            "Validation loss: 0.659, Validation accuracy: 0.711\n",
            "\n",
            "\n"
          ]
        },
        {
          "output_type": "stream",
          "name": "stderr",
          "text": [
            "\rModel training in progress...:   0%|          | 0/37 [00:00<?, ?it/s]"
          ]
        },
        {
          "output_type": "stream",
          "name": "stdout",
          "text": [
            "Batch size is torch.Size([512, 256]) and torch.Size([512]).\n"
          ]
        },
        {
          "output_type": "stream",
          "name": "stderr",
          "text": [
            "\rModel training in progress...:   3%|▎         | 1/37 [00:00<00:04,  8.47it/s]"
          ]
        },
        {
          "output_type": "stream",
          "name": "stdout",
          "text": [
            "Batch size is torch.Size([512, 256]) and torch.Size([512]).\n"
          ]
        },
        {
          "output_type": "stream",
          "name": "stderr",
          "text": [
            "\rModel training in progress...:   5%|▌         | 2/37 [00:00<00:04,  8.38it/s]"
          ]
        },
        {
          "output_type": "stream",
          "name": "stdout",
          "text": [
            "Batch size is torch.Size([512, 256]) and torch.Size([512]).\n"
          ]
        },
        {
          "output_type": "stream",
          "name": "stderr",
          "text": [
            "\rModel training in progress...:   8%|▊         | 3/37 [00:00<00:04,  8.35it/s]"
          ]
        },
        {
          "output_type": "stream",
          "name": "stdout",
          "text": [
            "Batch size is torch.Size([512, 256]) and torch.Size([512]).\n"
          ]
        },
        {
          "output_type": "stream",
          "name": "stderr",
          "text": [
            "\rModel training in progress...:  11%|█         | 4/37 [00:00<00:03,  8.28it/s]"
          ]
        },
        {
          "output_type": "stream",
          "name": "stdout",
          "text": [
            "Batch size is torch.Size([512, 256]) and torch.Size([512]).\n"
          ]
        },
        {
          "output_type": "stream",
          "name": "stderr",
          "text": [
            "\rModel training in progress...:  14%|█▎        | 5/37 [00:00<00:03,  8.26it/s]"
          ]
        },
        {
          "output_type": "stream",
          "name": "stdout",
          "text": [
            "Batch size is torch.Size([512, 256]) and torch.Size([512]).\n"
          ]
        },
        {
          "output_type": "stream",
          "name": "stderr",
          "text": [
            "\rModel training in progress...:  16%|█▌        | 6/37 [00:00<00:03,  8.28it/s]"
          ]
        },
        {
          "output_type": "stream",
          "name": "stdout",
          "text": [
            "Batch size is torch.Size([512, 256]) and torch.Size([512]).\n"
          ]
        },
        {
          "output_type": "stream",
          "name": "stderr",
          "text": [
            "\rModel training in progress...:  19%|█▉        | 7/37 [00:00<00:03,  8.30it/s]"
          ]
        },
        {
          "output_type": "stream",
          "name": "stdout",
          "text": [
            "Batch size is torch.Size([512, 256]) and torch.Size([512]).\n"
          ]
        },
        {
          "output_type": "stream",
          "name": "stderr",
          "text": [
            "\rModel training in progress...:  22%|██▏       | 8/37 [00:00<00:03,  8.14it/s]"
          ]
        },
        {
          "output_type": "stream",
          "name": "stdout",
          "text": [
            "Batch size is torch.Size([512, 256]) and torch.Size([512]).\n"
          ]
        },
        {
          "output_type": "stream",
          "name": "stderr",
          "text": [
            "\rModel training in progress...:  24%|██▍       | 9/37 [00:01<00:03,  8.19it/s]"
          ]
        },
        {
          "output_type": "stream",
          "name": "stdout",
          "text": [
            "Batch size is torch.Size([512, 256]) and torch.Size([512]).\n"
          ]
        },
        {
          "output_type": "stream",
          "name": "stderr",
          "text": [
            "\rModel training in progress...:  27%|██▋       | 10/37 [00:01<00:03,  8.22it/s]"
          ]
        },
        {
          "output_type": "stream",
          "name": "stdout",
          "text": [
            "Batch size is torch.Size([512, 256]) and torch.Size([512]).\n"
          ]
        },
        {
          "output_type": "stream",
          "name": "stderr",
          "text": [
            "\rModel training in progress...:  30%|██▉       | 11/37 [00:01<00:03,  8.24it/s]"
          ]
        },
        {
          "output_type": "stream",
          "name": "stdout",
          "text": [
            "Batch size is torch.Size([512, 256]) and torch.Size([512]).\n"
          ]
        },
        {
          "output_type": "stream",
          "name": "stderr",
          "text": [
            "\rModel training in progress...:  32%|███▏      | 12/37 [00:01<00:03,  8.15it/s]"
          ]
        },
        {
          "output_type": "stream",
          "name": "stdout",
          "text": [
            "Batch size is torch.Size([512, 256]) and torch.Size([512]).\n"
          ]
        },
        {
          "output_type": "stream",
          "name": "stderr",
          "text": [
            "\rModel training in progress...:  35%|███▌      | 13/37 [00:01<00:02,  8.18it/s]"
          ]
        },
        {
          "output_type": "stream",
          "name": "stdout",
          "text": [
            "Batch size is torch.Size([512, 256]) and torch.Size([512]).\n"
          ]
        },
        {
          "output_type": "stream",
          "name": "stderr",
          "text": [
            "\rModel training in progress...:  38%|███▊      | 14/37 [00:01<00:02,  8.25it/s]"
          ]
        },
        {
          "output_type": "stream",
          "name": "stdout",
          "text": [
            "Batch size is torch.Size([512, 256]) and torch.Size([512]).\n"
          ]
        },
        {
          "output_type": "stream",
          "name": "stderr",
          "text": [
            "\rModel training in progress...:  41%|████      | 15/37 [00:01<00:02,  8.14it/s]"
          ]
        },
        {
          "output_type": "stream",
          "name": "stdout",
          "text": [
            "Batch size is torch.Size([512, 256]) and torch.Size([512]).\n"
          ]
        },
        {
          "output_type": "stream",
          "name": "stderr",
          "text": [
            "\rModel training in progress...:  43%|████▎     | 16/37 [00:01<00:02,  8.21it/s]"
          ]
        },
        {
          "output_type": "stream",
          "name": "stdout",
          "text": [
            "Batch size is torch.Size([512, 256]) and torch.Size([512]).\n"
          ]
        },
        {
          "output_type": "stream",
          "name": "stderr",
          "text": [
            "\rModel training in progress...:  46%|████▌     | 17/37 [00:02<00:02,  8.23it/s]"
          ]
        },
        {
          "output_type": "stream",
          "name": "stdout",
          "text": [
            "Batch size is torch.Size([512, 256]) and torch.Size([512]).\n"
          ]
        },
        {
          "output_type": "stream",
          "name": "stderr",
          "text": [
            "\rModel training in progress...:  49%|████▊     | 18/37 [00:02<00:02,  8.27it/s]"
          ]
        },
        {
          "output_type": "stream",
          "name": "stdout",
          "text": [
            "Batch size is torch.Size([512, 256]) and torch.Size([512]).\n"
          ]
        },
        {
          "output_type": "stream",
          "name": "stderr",
          "text": [
            "\rModel training in progress...:  51%|█████▏    | 19/37 [00:02<00:02,  8.11it/s]"
          ]
        },
        {
          "output_type": "stream",
          "name": "stdout",
          "text": [
            "Batch size is torch.Size([512, 256]) and torch.Size([512]).\n"
          ]
        },
        {
          "output_type": "stream",
          "name": "stderr",
          "text": [
            "\rModel training in progress...:  54%|█████▍    | 20/37 [00:02<00:02,  8.14it/s]"
          ]
        },
        {
          "output_type": "stream",
          "name": "stdout",
          "text": [
            "Batch size is torch.Size([512, 256]) and torch.Size([512]).\n"
          ]
        },
        {
          "output_type": "stream",
          "name": "stderr",
          "text": [
            "\rModel training in progress...:  57%|█████▋    | 21/37 [00:02<00:01,  8.19it/s]"
          ]
        },
        {
          "output_type": "stream",
          "name": "stdout",
          "text": [
            "Batch size is torch.Size([512, 256]) and torch.Size([512]).\n"
          ]
        },
        {
          "output_type": "stream",
          "name": "stderr",
          "text": [
            "\rModel training in progress...:  59%|█████▉    | 22/37 [00:02<00:01,  8.26it/s]"
          ]
        },
        {
          "output_type": "stream",
          "name": "stdout",
          "text": [
            "Batch size is torch.Size([512, 256]) and torch.Size([512]).\n"
          ]
        },
        {
          "output_type": "stream",
          "name": "stderr",
          "text": [
            "\rModel training in progress...:  62%|██████▏   | 23/37 [00:02<00:01,  8.29it/s]"
          ]
        },
        {
          "output_type": "stream",
          "name": "stdout",
          "text": [
            "Batch size is torch.Size([512, 256]) and torch.Size([512]).\n"
          ]
        },
        {
          "output_type": "stream",
          "name": "stderr",
          "text": [
            "\rModel training in progress...:  65%|██████▍   | 24/37 [00:02<00:01,  8.14it/s]"
          ]
        },
        {
          "output_type": "stream",
          "name": "stdout",
          "text": [
            "Batch size is torch.Size([512, 256]) and torch.Size([512]).\n"
          ]
        },
        {
          "output_type": "stream",
          "name": "stderr",
          "text": [
            "\rModel training in progress...:  68%|██████▊   | 25/37 [00:03<00:01,  8.19it/s]"
          ]
        },
        {
          "output_type": "stream",
          "name": "stdout",
          "text": [
            "Batch size is torch.Size([512, 256]) and torch.Size([512]).\n"
          ]
        },
        {
          "output_type": "stream",
          "name": "stderr",
          "text": [
            "\rModel training in progress...:  70%|███████   | 26/37 [00:03<00:01,  8.25it/s]"
          ]
        },
        {
          "output_type": "stream",
          "name": "stdout",
          "text": [
            "Batch size is torch.Size([512, 256]) and torch.Size([512]).\n"
          ]
        },
        {
          "output_type": "stream",
          "name": "stderr",
          "text": [
            "\rModel training in progress...:  73%|███████▎  | 27/37 [00:03<00:01,  8.34it/s]"
          ]
        },
        {
          "output_type": "stream",
          "name": "stdout",
          "text": [
            "Batch size is torch.Size([512, 256]) and torch.Size([512]).\n"
          ]
        },
        {
          "output_type": "stream",
          "name": "stderr",
          "text": [
            "\rModel training in progress...:  76%|███████▌  | 28/37 [00:03<00:01,  8.37it/s]"
          ]
        },
        {
          "output_type": "stream",
          "name": "stdout",
          "text": [
            "Batch size is torch.Size([512, 256]) and torch.Size([512]).\n"
          ]
        },
        {
          "output_type": "stream",
          "name": "stderr",
          "text": [
            "\rModel training in progress...:  78%|███████▊  | 29/37 [00:03<00:00,  8.33it/s]"
          ]
        },
        {
          "output_type": "stream",
          "name": "stdout",
          "text": [
            "Batch size is torch.Size([512, 256]) and torch.Size([512]).\n"
          ]
        },
        {
          "output_type": "stream",
          "name": "stderr",
          "text": [
            "\rModel training in progress...:  81%|████████  | 30/37 [00:03<00:00,  8.39it/s]"
          ]
        },
        {
          "output_type": "stream",
          "name": "stdout",
          "text": [
            "Batch size is torch.Size([512, 256]) and torch.Size([512]).\n"
          ]
        },
        {
          "output_type": "stream",
          "name": "stderr",
          "text": [
            "\rModel training in progress...:  84%|████████▍ | 31/37 [00:03<00:00,  8.36it/s]"
          ]
        },
        {
          "output_type": "stream",
          "name": "stdout",
          "text": [
            "Batch size is torch.Size([512, 256]) and torch.Size([512]).\n"
          ]
        },
        {
          "output_type": "stream",
          "name": "stderr",
          "text": [
            "\rModel training in progress...:  86%|████████▋ | 32/37 [00:03<00:00,  8.38it/s]"
          ]
        },
        {
          "output_type": "stream",
          "name": "stdout",
          "text": [
            "Batch size is torch.Size([512, 256]) and torch.Size([512]).\n"
          ]
        },
        {
          "output_type": "stream",
          "name": "stderr",
          "text": [
            "\rModel training in progress...:  89%|████████▉ | 33/37 [00:03<00:00,  8.40it/s]"
          ]
        },
        {
          "output_type": "stream",
          "name": "stdout",
          "text": [
            "Batch size is torch.Size([512, 256]) and torch.Size([512]).\n"
          ]
        },
        {
          "output_type": "stream",
          "name": "stderr",
          "text": [
            "\rModel training in progress...:  92%|█████████▏| 34/37 [00:04<00:00,  8.36it/s]"
          ]
        },
        {
          "output_type": "stream",
          "name": "stdout",
          "text": [
            "Batch size is torch.Size([512, 256]) and torch.Size([512]).\n"
          ]
        },
        {
          "output_type": "stream",
          "name": "stderr",
          "text": [
            "\rModel training in progress...:  95%|█████████▍| 35/37 [00:04<00:00,  8.37it/s]"
          ]
        },
        {
          "output_type": "stream",
          "name": "stdout",
          "text": [
            "Batch size is torch.Size([512, 256]) and torch.Size([512]).\n"
          ]
        },
        {
          "output_type": "stream",
          "name": "stderr",
          "text": [
            "Model training in progress...: 100%|██████████| 37/37 [00:04<00:00,  8.33it/s]\n"
          ]
        },
        {
          "output_type": "stream",
          "name": "stdout",
          "text": [
            "Batch size is torch.Size([318, 256]) and torch.Size([318]).\n"
          ]
        },
        {
          "output_type": "stream",
          "name": "stderr",
          "text": [
            "\rModel validation in progress...:   0%|          | 0/13 [00:00<?, ?it/s]"
          ]
        },
        {
          "output_type": "stream",
          "name": "stdout",
          "text": [
            "Batch size is torch.Size([512, 256]) and torch.Size([512]).\n",
            "Batch size is torch.Size([512, 256]) and torch.Size([512]).\n"
          ]
        },
        {
          "output_type": "stream",
          "name": "stderr",
          "text": [
            "\rModel validation in progress...:  15%|█▌        | 2/13 [00:00<00:00, 15.05it/s]"
          ]
        },
        {
          "output_type": "stream",
          "name": "stdout",
          "text": [
            "Batch size is torch.Size([512, 256]) and torch.Size([512]).\n",
            "Batch size is torch.Size([512, 256]) and torch.Size([512]).\n"
          ]
        },
        {
          "output_type": "stream",
          "name": "stderr",
          "text": [
            "\rModel validation in progress...:  31%|███       | 4/13 [00:00<00:00, 16.36it/s]"
          ]
        },
        {
          "output_type": "stream",
          "name": "stdout",
          "text": [
            "Batch size is torch.Size([512, 256]) and torch.Size([512]).\n",
            "Batch size is torch.Size([512, 256]) and torch.Size([512]).\n"
          ]
        },
        {
          "output_type": "stream",
          "name": "stderr",
          "text": [
            "\rModel validation in progress...:  46%|████▌     | 6/13 [00:00<00:00, 16.68it/s]"
          ]
        },
        {
          "output_type": "stream",
          "name": "stdout",
          "text": [
            "Batch size is torch.Size([512, 256]) and torch.Size([512]).\n",
            "Batch size is torch.Size([512, 256]) and torch.Size([512]).\n"
          ]
        },
        {
          "output_type": "stream",
          "name": "stderr",
          "text": [
            "\rModel validation in progress...:  62%|██████▏   | 8/13 [00:00<00:00, 16.86it/s]"
          ]
        },
        {
          "output_type": "stream",
          "name": "stdout",
          "text": [
            "Batch size is torch.Size([512, 256]) and torch.Size([512]).\n",
            "Batch size is torch.Size([512, 256]) and torch.Size([512]).\n"
          ]
        },
        {
          "output_type": "stream",
          "name": "stderr",
          "text": [
            "\rModel validation in progress...:  77%|███████▋  | 10/13 [00:00<00:00, 17.00it/s]"
          ]
        },
        {
          "output_type": "stream",
          "name": "stdout",
          "text": [
            "Batch size is torch.Size([512, 256]) and torch.Size([512]).\n",
            "Batch size is torch.Size([512, 256]) and torch.Size([512]).\n"
          ]
        },
        {
          "output_type": "stream",
          "name": "stderr",
          "text": [
            "Model validation in progress...: 100%|██████████| 13/13 [00:00<00:00, 17.80it/s]\n"
          ]
        },
        {
          "output_type": "stream",
          "name": "stdout",
          "text": [
            "Batch size is torch.Size([106, 256]) and torch.Size([106]).\n",
            "Epoch: 1\n",
            "Training loss: 0.636, Training accuracy: 0.728\n",
            "Validation loss: 0.610, Validation accuracy: 0.747\n",
            "\n",
            "\n"
          ]
        },
        {
          "output_type": "stream",
          "name": "stderr",
          "text": [
            "\rModel training in progress...:   0%|          | 0/37 [00:00<?, ?it/s]"
          ]
        },
        {
          "output_type": "stream",
          "name": "stdout",
          "text": [
            "Batch size is torch.Size([512, 256]) and torch.Size([512]).\n"
          ]
        },
        {
          "output_type": "stream",
          "name": "stderr",
          "text": [
            "\rModel training in progress...:   3%|▎         | 1/37 [00:00<00:04,  7.90it/s]"
          ]
        },
        {
          "output_type": "stream",
          "name": "stdout",
          "text": [
            "Batch size is torch.Size([512, 256]) and torch.Size([512]).\n"
          ]
        },
        {
          "output_type": "stream",
          "name": "stderr",
          "text": [
            "\rModel training in progress...:   5%|▌         | 2/37 [00:00<00:04,  8.19it/s]"
          ]
        },
        {
          "output_type": "stream",
          "name": "stdout",
          "text": [
            "Batch size is torch.Size([512, 256]) and torch.Size([512]).\n"
          ]
        },
        {
          "output_type": "stream",
          "name": "stderr",
          "text": [
            "\rModel training in progress...:   8%|▊         | 3/37 [00:00<00:04,  8.32it/s]"
          ]
        },
        {
          "output_type": "stream",
          "name": "stdout",
          "text": [
            "Batch size is torch.Size([512, 256]) and torch.Size([512]).\n"
          ]
        },
        {
          "output_type": "stream",
          "name": "stderr",
          "text": [
            "\rModel training in progress...:  11%|█         | 4/37 [00:00<00:03,  8.29it/s]"
          ]
        },
        {
          "output_type": "stream",
          "name": "stdout",
          "text": [
            "Batch size is torch.Size([512, 256]) and torch.Size([512]).\n"
          ]
        },
        {
          "output_type": "stream",
          "name": "stderr",
          "text": [
            "\rModel training in progress...:  14%|█▎        | 5/37 [00:00<00:03,  8.32it/s]"
          ]
        },
        {
          "output_type": "stream",
          "name": "stdout",
          "text": [
            "Batch size is torch.Size([512, 256]) and torch.Size([512]).\n"
          ]
        },
        {
          "output_type": "stream",
          "name": "stderr",
          "text": [
            "\rModel training in progress...:  16%|█▌        | 6/37 [00:00<00:03,  8.36it/s]"
          ]
        },
        {
          "output_type": "stream",
          "name": "stdout",
          "text": [
            "Batch size is torch.Size([512, 256]) and torch.Size([512]).\n"
          ]
        },
        {
          "output_type": "stream",
          "name": "stderr",
          "text": [
            "\rModel training in progress...:  19%|█▉        | 7/37 [00:00<00:03,  8.37it/s]"
          ]
        },
        {
          "output_type": "stream",
          "name": "stdout",
          "text": [
            "Batch size is torch.Size([512, 256]) and torch.Size([512]).\n"
          ]
        },
        {
          "output_type": "stream",
          "name": "stderr",
          "text": [
            "\rModel training in progress...:  22%|██▏       | 8/37 [00:00<00:03,  8.42it/s]"
          ]
        },
        {
          "output_type": "stream",
          "name": "stdout",
          "text": [
            "Batch size is torch.Size([512, 256]) and torch.Size([512]).\n"
          ]
        },
        {
          "output_type": "stream",
          "name": "stderr",
          "text": [
            "\rModel training in progress...:  24%|██▍       | 9/37 [00:01<00:03,  8.45it/s]"
          ]
        },
        {
          "output_type": "stream",
          "name": "stdout",
          "text": [
            "Batch size is torch.Size([512, 256]) and torch.Size([512]).\n"
          ]
        },
        {
          "output_type": "stream",
          "name": "stderr",
          "text": [
            "\rModel training in progress...:  27%|██▋       | 10/37 [00:01<00:03,  8.48it/s]"
          ]
        },
        {
          "output_type": "stream",
          "name": "stdout",
          "text": [
            "Batch size is torch.Size([512, 256]) and torch.Size([512]).\n"
          ]
        },
        {
          "output_type": "stream",
          "name": "stderr",
          "text": [
            "\rModel training in progress...:  30%|██▉       | 11/37 [00:01<00:03,  8.42it/s]"
          ]
        },
        {
          "output_type": "stream",
          "name": "stdout",
          "text": [
            "Batch size is torch.Size([512, 256]) and torch.Size([512]).\n"
          ]
        },
        {
          "output_type": "stream",
          "name": "stderr",
          "text": [
            "\rModel training in progress...:  32%|███▏      | 12/37 [00:01<00:02,  8.42it/s]"
          ]
        },
        {
          "output_type": "stream",
          "name": "stdout",
          "text": [
            "Batch size is torch.Size([512, 256]) and torch.Size([512]).\n"
          ]
        },
        {
          "output_type": "stream",
          "name": "stderr",
          "text": [
            "\rModel training in progress...:  35%|███▌      | 13/37 [00:01<00:02,  8.43it/s]"
          ]
        },
        {
          "output_type": "stream",
          "name": "stdout",
          "text": [
            "Batch size is torch.Size([512, 256]) and torch.Size([512]).\n"
          ]
        },
        {
          "output_type": "stream",
          "name": "stderr",
          "text": [
            "\rModel training in progress...:  38%|███▊      | 14/37 [00:01<00:02,  8.29it/s]"
          ]
        },
        {
          "output_type": "stream",
          "name": "stdout",
          "text": [
            "Batch size is torch.Size([512, 256]) and torch.Size([512]).\n"
          ]
        },
        {
          "output_type": "stream",
          "name": "stderr",
          "text": [
            "\rModel training in progress...:  41%|████      | 15/37 [00:01<00:02,  8.31it/s]"
          ]
        },
        {
          "output_type": "stream",
          "name": "stdout",
          "text": [
            "Batch size is torch.Size([512, 256]) and torch.Size([512]).\n"
          ]
        },
        {
          "output_type": "stream",
          "name": "stderr",
          "text": [
            "\rModel training in progress...:  43%|████▎     | 16/37 [00:01<00:02,  8.32it/s]"
          ]
        },
        {
          "output_type": "stream",
          "name": "stdout",
          "text": [
            "Batch size is torch.Size([512, 256]) and torch.Size([512]).\n"
          ]
        },
        {
          "output_type": "stream",
          "name": "stderr",
          "text": [
            "\rModel training in progress...:  46%|████▌     | 17/37 [00:02<00:02,  8.35it/s]"
          ]
        },
        {
          "output_type": "stream",
          "name": "stdout",
          "text": [
            "Batch size is torch.Size([512, 256]) and torch.Size([512]).\n"
          ]
        },
        {
          "output_type": "stream",
          "name": "stderr",
          "text": [
            "\rModel training in progress...:  49%|████▊     | 18/37 [00:02<00:02,  8.32it/s]"
          ]
        },
        {
          "output_type": "stream",
          "name": "stdout",
          "text": [
            "Batch size is torch.Size([512, 256]) and torch.Size([512]).\n"
          ]
        },
        {
          "output_type": "stream",
          "name": "stderr",
          "text": [
            "\rModel training in progress...:  51%|█████▏    | 19/37 [00:02<00:02,  8.33it/s]"
          ]
        },
        {
          "output_type": "stream",
          "name": "stdout",
          "text": [
            "Batch size is torch.Size([512, 256]) and torch.Size([512]).\n"
          ]
        },
        {
          "output_type": "stream",
          "name": "stderr",
          "text": [
            "\rModel training in progress...:  54%|█████▍    | 20/37 [00:02<00:02,  8.29it/s]"
          ]
        },
        {
          "output_type": "stream",
          "name": "stdout",
          "text": [
            "Batch size is torch.Size([512, 256]) and torch.Size([512]).\n"
          ]
        },
        {
          "output_type": "stream",
          "name": "stderr",
          "text": [
            "\rModel training in progress...:  57%|█████▋    | 21/37 [00:02<00:01,  8.24it/s]"
          ]
        },
        {
          "output_type": "stream",
          "name": "stdout",
          "text": [
            "Batch size is torch.Size([512, 256]) and torch.Size([512]).\n"
          ]
        },
        {
          "output_type": "stream",
          "name": "stderr",
          "text": [
            "\rModel training in progress...:  59%|█████▉    | 22/37 [00:02<00:01,  8.04it/s]"
          ]
        },
        {
          "output_type": "stream",
          "name": "stdout",
          "text": [
            "Batch size is torch.Size([512, 256]) and torch.Size([512]).\n"
          ]
        },
        {
          "output_type": "stream",
          "name": "stderr",
          "text": [
            "\rModel training in progress...:  62%|██████▏   | 23/37 [00:02<00:01,  7.47it/s]"
          ]
        },
        {
          "output_type": "stream",
          "name": "stdout",
          "text": [
            "Batch size is torch.Size([512, 256]) and torch.Size([512]).\n"
          ]
        },
        {
          "output_type": "stream",
          "name": "stderr",
          "text": [
            "\rModel training in progress...:  65%|██████▍   | 24/37 [00:02<00:01,  7.14it/s]"
          ]
        },
        {
          "output_type": "stream",
          "name": "stdout",
          "text": [
            "Batch size is torch.Size([512, 256]) and torch.Size([512]).\n"
          ]
        },
        {
          "output_type": "stream",
          "name": "stderr",
          "text": [
            "\rModel training in progress...:  68%|██████▊   | 25/37 [00:03<00:01,  6.93it/s]"
          ]
        },
        {
          "output_type": "stream",
          "name": "stdout",
          "text": [
            "Batch size is torch.Size([512, 256]) and torch.Size([512]).\n"
          ]
        },
        {
          "output_type": "stream",
          "name": "stderr",
          "text": [
            "\rModel training in progress...:  70%|███████   | 26/37 [00:03<00:01,  6.81it/s]"
          ]
        },
        {
          "output_type": "stream",
          "name": "stdout",
          "text": [
            "Batch size is torch.Size([512, 256]) and torch.Size([512]).\n"
          ]
        },
        {
          "output_type": "stream",
          "name": "stderr",
          "text": [
            "\rModel training in progress...:  73%|███████▎  | 27/37 [00:03<00:01,  6.83it/s]"
          ]
        },
        {
          "output_type": "stream",
          "name": "stdout",
          "text": [
            "Batch size is torch.Size([512, 256]) and torch.Size([512]).\n"
          ]
        },
        {
          "output_type": "stream",
          "name": "stderr",
          "text": [
            "\rModel training in progress...:  76%|███████▌  | 28/37 [00:03<00:01,  6.83it/s]"
          ]
        },
        {
          "output_type": "stream",
          "name": "stdout",
          "text": [
            "Batch size is torch.Size([512, 256]) and torch.Size([512]).\n"
          ]
        },
        {
          "output_type": "stream",
          "name": "stderr",
          "text": [
            "\rModel training in progress...:  78%|███████▊  | 29/37 [00:03<00:01,  6.87it/s]"
          ]
        },
        {
          "output_type": "stream",
          "name": "stdout",
          "text": [
            "Batch size is torch.Size([512, 256]) and torch.Size([512]).\n"
          ]
        },
        {
          "output_type": "stream",
          "name": "stderr",
          "text": [
            "\rModel training in progress...:  81%|████████  | 30/37 [00:03<00:01,  6.72it/s]"
          ]
        },
        {
          "output_type": "stream",
          "name": "stdout",
          "text": [
            "Batch size is torch.Size([512, 256]) and torch.Size([512]).\n"
          ]
        },
        {
          "output_type": "stream",
          "name": "stderr",
          "text": [
            "\rModel training in progress...:  84%|████████▍ | 31/37 [00:04<00:00,  6.74it/s]"
          ]
        },
        {
          "output_type": "stream",
          "name": "stdout",
          "text": [
            "Batch size is torch.Size([512, 256]) and torch.Size([512]).\n"
          ]
        },
        {
          "output_type": "stream",
          "name": "stderr",
          "text": [
            "\rModel training in progress...:  86%|████████▋ | 32/37 [00:04<00:00,  7.14it/s]"
          ]
        },
        {
          "output_type": "stream",
          "name": "stdout",
          "text": [
            "Batch size is torch.Size([512, 256]) and torch.Size([512]).\n"
          ]
        },
        {
          "output_type": "stream",
          "name": "stderr",
          "text": [
            "\rModel training in progress...:  89%|████████▉ | 33/37 [00:04<00:00,  7.48it/s]"
          ]
        },
        {
          "output_type": "stream",
          "name": "stdout",
          "text": [
            "Batch size is torch.Size([512, 256]) and torch.Size([512]).\n"
          ]
        },
        {
          "output_type": "stream",
          "name": "stderr",
          "text": [
            "\rModel training in progress...:  92%|█████████▏| 34/37 [00:04<00:00,  7.52it/s]"
          ]
        },
        {
          "output_type": "stream",
          "name": "stdout",
          "text": [
            "Batch size is torch.Size([512, 256]) and torch.Size([512]).\n"
          ]
        },
        {
          "output_type": "stream",
          "name": "stderr",
          "text": [
            "\rModel training in progress...:  95%|█████████▍| 35/37 [00:04<00:00,  7.57it/s]"
          ]
        },
        {
          "output_type": "stream",
          "name": "stdout",
          "text": [
            "Batch size is torch.Size([512, 256]) and torch.Size([512]).\n"
          ]
        },
        {
          "output_type": "stream",
          "name": "stderr",
          "text": [
            "Model training in progress...: 100%|██████████| 37/37 [00:04<00:00,  7.86it/s]\n"
          ]
        },
        {
          "output_type": "stream",
          "name": "stdout",
          "text": [
            "Batch size is torch.Size([318, 256]) and torch.Size([318]).\n"
          ]
        },
        {
          "output_type": "stream",
          "name": "stderr",
          "text": [
            "Model validation in progress...:  15%|█▌        | 2/13 [00:00<00:00, 16.57it/s]"
          ]
        },
        {
          "output_type": "stream",
          "name": "stdout",
          "text": [
            "Batch size is torch.Size([512, 256]) and torch.Size([512]).\n",
            "Batch size is torch.Size([512, 256]) and torch.Size([512]).\n",
            "Batch size is torch.Size([512, 256]) and torch.Size([512]).\n",
            "Batch size is torch.Size([512, 256]) and torch.Size([512]).\n"
          ]
        },
        {
          "output_type": "stream",
          "name": "stderr",
          "text": [
            "\rModel validation in progress...:  31%|███       | 4/13 [00:00<00:00, 16.87it/s]"
          ]
        },
        {
          "output_type": "stream",
          "name": "stdout",
          "text": [
            "Batch size is torch.Size([512, 256]) and torch.Size([512]).\n",
            "Batch size is torch.Size([512, 256]) and torch.Size([512]).\n"
          ]
        },
        {
          "output_type": "stream",
          "name": "stderr",
          "text": [
            "\rModel validation in progress...:  46%|████▌     | 6/13 [00:00<00:00, 17.26it/s]"
          ]
        },
        {
          "output_type": "stream",
          "name": "stdout",
          "text": [
            "Batch size is torch.Size([512, 256]) and torch.Size([512]).\n",
            "Batch size is torch.Size([512, 256]) and torch.Size([512]).\n"
          ]
        },
        {
          "output_type": "stream",
          "name": "stderr",
          "text": [
            "\rModel validation in progress...:  62%|██████▏   | 8/13 [00:00<00:00, 17.14it/s]"
          ]
        },
        {
          "output_type": "stream",
          "name": "stdout",
          "text": [
            "Batch size is torch.Size([512, 256]) and torch.Size([512]).\n",
            "Batch size is torch.Size([512, 256]) and torch.Size([512]).\n"
          ]
        },
        {
          "output_type": "stream",
          "name": "stderr",
          "text": [
            "\rModel validation in progress...:  77%|███████▋  | 10/13 [00:00<00:00, 17.15it/s]"
          ]
        },
        {
          "output_type": "stream",
          "name": "stdout",
          "text": [
            "Batch size is torch.Size([512, 256]) and torch.Size([512]).\n",
            "Batch size is torch.Size([512, 256]) and torch.Size([512]).\n"
          ]
        },
        {
          "output_type": "stream",
          "name": "stderr",
          "text": [
            "Model validation in progress...: 100%|██████████| 13/13 [00:00<00:00, 18.16it/s]\n"
          ]
        },
        {
          "output_type": "stream",
          "name": "stdout",
          "text": [
            "Batch size is torch.Size([106, 256]) and torch.Size([106]).\n",
            "Epoch: 2\n",
            "Training loss: 0.575, Training accuracy: 0.772\n",
            "Validation loss: 0.547, Validation accuracy: 0.783\n",
            "\n",
            "\n"
          ]
        },
        {
          "output_type": "stream",
          "name": "stderr",
          "text": [
            "\rModel training in progress...:   0%|          | 0/37 [00:00<?, ?it/s]"
          ]
        },
        {
          "output_type": "stream",
          "name": "stdout",
          "text": [
            "Batch size is torch.Size([512, 256]) and torch.Size([512]).\n"
          ]
        },
        {
          "output_type": "stream",
          "name": "stderr",
          "text": [
            "\rModel training in progress...:   3%|▎         | 1/37 [00:00<00:04,  8.43it/s]"
          ]
        },
        {
          "output_type": "stream",
          "name": "stdout",
          "text": [
            "Batch size is torch.Size([512, 256]) and torch.Size([512]).\n"
          ]
        },
        {
          "output_type": "stream",
          "name": "stderr",
          "text": [
            "\rModel training in progress...:   5%|▌         | 2/37 [00:00<00:04,  8.35it/s]"
          ]
        },
        {
          "output_type": "stream",
          "name": "stdout",
          "text": [
            "Batch size is torch.Size([512, 256]) and torch.Size([512]).\n"
          ]
        },
        {
          "output_type": "stream",
          "name": "stderr",
          "text": [
            "\rModel training in progress...:   8%|▊         | 3/37 [00:00<00:04,  8.34it/s]"
          ]
        },
        {
          "output_type": "stream",
          "name": "stdout",
          "text": [
            "Batch size is torch.Size([512, 256]) and torch.Size([512]).\n"
          ]
        },
        {
          "output_type": "stream",
          "name": "stderr",
          "text": [
            "\rModel training in progress...:  11%|█         | 4/37 [00:00<00:03,  8.38it/s]"
          ]
        },
        {
          "output_type": "stream",
          "name": "stdout",
          "text": [
            "Batch size is torch.Size([512, 256]) and torch.Size([512]).\n"
          ]
        },
        {
          "output_type": "stream",
          "name": "stderr",
          "text": [
            "\rModel training in progress...:  14%|█▎        | 5/37 [00:00<00:03,  8.38it/s]"
          ]
        },
        {
          "output_type": "stream",
          "name": "stdout",
          "text": [
            "Batch size is torch.Size([512, 256]) and torch.Size([512]).\n"
          ]
        },
        {
          "output_type": "stream",
          "name": "stderr",
          "text": [
            "\rModel training in progress...:  16%|█▌        | 6/37 [00:00<00:03,  8.37it/s]"
          ]
        },
        {
          "output_type": "stream",
          "name": "stdout",
          "text": [
            "Batch size is torch.Size([512, 256]) and torch.Size([512]).\n"
          ]
        },
        {
          "output_type": "stream",
          "name": "stderr",
          "text": [
            "\rModel training in progress...:  19%|█▉        | 7/37 [00:00<00:03,  8.38it/s]"
          ]
        },
        {
          "output_type": "stream",
          "name": "stdout",
          "text": [
            "Batch size is torch.Size([512, 256]) and torch.Size([512]).\n"
          ]
        },
        {
          "output_type": "stream",
          "name": "stderr",
          "text": [
            "\rModel training in progress...:  22%|██▏       | 8/37 [00:00<00:03,  8.27it/s]"
          ]
        },
        {
          "output_type": "stream",
          "name": "stdout",
          "text": [
            "Batch size is torch.Size([512, 256]) and torch.Size([512]).\n"
          ]
        },
        {
          "output_type": "stream",
          "name": "stderr",
          "text": [
            "\rModel training in progress...:  24%|██▍       | 9/37 [00:01<00:03,  8.26it/s]"
          ]
        },
        {
          "output_type": "stream",
          "name": "stdout",
          "text": [
            "Batch size is torch.Size([512, 256]) and torch.Size([512]).\n"
          ]
        },
        {
          "output_type": "stream",
          "name": "stderr",
          "text": [
            "\rModel training in progress...:  27%|██▋       | 10/37 [00:01<00:03,  8.27it/s]"
          ]
        },
        {
          "output_type": "stream",
          "name": "stdout",
          "text": [
            "Batch size is torch.Size([512, 256]) and torch.Size([512]).\n"
          ]
        },
        {
          "output_type": "stream",
          "name": "stderr",
          "text": [
            "\rModel training in progress...:  30%|██▉       | 11/37 [00:01<00:03,  8.30it/s]"
          ]
        },
        {
          "output_type": "stream",
          "name": "stdout",
          "text": [
            "Batch size is torch.Size([512, 256]) and torch.Size([512]).\n"
          ]
        },
        {
          "output_type": "stream",
          "name": "stderr",
          "text": [
            "\rModel training in progress...:  32%|███▏      | 12/37 [00:01<00:03,  8.31it/s]"
          ]
        },
        {
          "output_type": "stream",
          "name": "stdout",
          "text": [
            "Batch size is torch.Size([512, 256]) and torch.Size([512]).\n"
          ]
        },
        {
          "output_type": "stream",
          "name": "stderr",
          "text": [
            "\rModel training in progress...:  35%|███▌      | 13/37 [00:01<00:02,  8.30it/s]"
          ]
        },
        {
          "output_type": "stream",
          "name": "stdout",
          "text": [
            "Batch size is torch.Size([512, 256]) and torch.Size([512]).\n"
          ]
        },
        {
          "output_type": "stream",
          "name": "stderr",
          "text": [
            "\rModel training in progress...:  38%|███▊      | 14/37 [00:01<00:02,  8.30it/s]"
          ]
        },
        {
          "output_type": "stream",
          "name": "stdout",
          "text": [
            "Batch size is torch.Size([512, 256]) and torch.Size([512]).\n"
          ]
        },
        {
          "output_type": "stream",
          "name": "stderr",
          "text": [
            "\rModel training in progress...:  41%|████      | 15/37 [00:01<00:02,  8.27it/s]"
          ]
        },
        {
          "output_type": "stream",
          "name": "stdout",
          "text": [
            "Batch size is torch.Size([512, 256]) and torch.Size([512]).\n"
          ]
        },
        {
          "output_type": "stream",
          "name": "stderr",
          "text": [
            "\rModel training in progress...:  43%|████▎     | 16/37 [00:01<00:02,  8.26it/s]"
          ]
        },
        {
          "output_type": "stream",
          "name": "stdout",
          "text": [
            "Batch size is torch.Size([512, 256]) and torch.Size([512]).\n"
          ]
        },
        {
          "output_type": "stream",
          "name": "stderr",
          "text": [
            "\rModel training in progress...:  46%|████▌     | 17/37 [00:02<00:02,  8.28it/s]"
          ]
        },
        {
          "output_type": "stream",
          "name": "stdout",
          "text": [
            "Batch size is torch.Size([512, 256]) and torch.Size([512]).\n"
          ]
        },
        {
          "output_type": "stream",
          "name": "stderr",
          "text": [
            "\rModel training in progress...:  49%|████▊     | 18/37 [00:02<00:02,  8.27it/s]"
          ]
        },
        {
          "output_type": "stream",
          "name": "stdout",
          "text": [
            "Batch size is torch.Size([512, 256]) and torch.Size([512]).\n"
          ]
        },
        {
          "output_type": "stream",
          "name": "stderr",
          "text": [
            "\rModel training in progress...:  51%|█████▏    | 19/37 [00:02<00:02,  8.26it/s]"
          ]
        },
        {
          "output_type": "stream",
          "name": "stdout",
          "text": [
            "Batch size is torch.Size([512, 256]) and torch.Size([512]).\n"
          ]
        },
        {
          "output_type": "stream",
          "name": "stderr",
          "text": [
            "\rModel training in progress...:  54%|█████▍    | 20/37 [00:02<00:02,  8.26it/s]"
          ]
        },
        {
          "output_type": "stream",
          "name": "stdout",
          "text": [
            "Batch size is torch.Size([512, 256]) and torch.Size([512]).\n"
          ]
        },
        {
          "output_type": "stream",
          "name": "stderr",
          "text": [
            "\rModel training in progress...:  57%|█████▋    | 21/37 [00:02<00:01,  8.30it/s]"
          ]
        },
        {
          "output_type": "stream",
          "name": "stdout",
          "text": [
            "Batch size is torch.Size([512, 256]) and torch.Size([512]).\n"
          ]
        },
        {
          "output_type": "stream",
          "name": "stderr",
          "text": [
            "\rModel training in progress...:  59%|█████▉    | 22/37 [00:02<00:01,  8.31it/s]"
          ]
        },
        {
          "output_type": "stream",
          "name": "stdout",
          "text": [
            "Batch size is torch.Size([512, 256]) and torch.Size([512]).\n"
          ]
        },
        {
          "output_type": "stream",
          "name": "stderr",
          "text": [
            "\rModel training in progress...:  62%|██████▏   | 23/37 [00:02<00:01,  8.31it/s]"
          ]
        },
        {
          "output_type": "stream",
          "name": "stdout",
          "text": [
            "Batch size is torch.Size([512, 256]) and torch.Size([512]).\n"
          ]
        },
        {
          "output_type": "stream",
          "name": "stderr",
          "text": [
            "\rModel training in progress...:  65%|██████▍   | 24/37 [00:02<00:01,  8.33it/s]"
          ]
        },
        {
          "output_type": "stream",
          "name": "stdout",
          "text": [
            "Batch size is torch.Size([512, 256]) and torch.Size([512]).\n"
          ]
        },
        {
          "output_type": "stream",
          "name": "stderr",
          "text": [
            "\rModel training in progress...:  68%|██████▊   | 25/37 [00:03<00:01,  8.19it/s]"
          ]
        },
        {
          "output_type": "stream",
          "name": "stdout",
          "text": [
            "Batch size is torch.Size([512, 256]) and torch.Size([512]).\n"
          ]
        },
        {
          "output_type": "stream",
          "name": "stderr",
          "text": [
            "\rModel training in progress...:  70%|███████   | 26/37 [00:03<00:01,  8.29it/s]"
          ]
        },
        {
          "output_type": "stream",
          "name": "stdout",
          "text": [
            "Batch size is torch.Size([512, 256]) and torch.Size([512]).\n"
          ]
        },
        {
          "output_type": "stream",
          "name": "stderr",
          "text": [
            "\rModel training in progress...:  73%|███████▎  | 27/37 [00:03<00:01,  8.31it/s]"
          ]
        },
        {
          "output_type": "stream",
          "name": "stdout",
          "text": [
            "Batch size is torch.Size([512, 256]) and torch.Size([512]).\n"
          ]
        },
        {
          "output_type": "stream",
          "name": "stderr",
          "text": [
            "\rModel training in progress...:  76%|███████▌  | 28/37 [00:03<00:01,  8.30it/s]"
          ]
        },
        {
          "output_type": "stream",
          "name": "stdout",
          "text": [
            "Batch size is torch.Size([512, 256]) and torch.Size([512]).\n"
          ]
        },
        {
          "output_type": "stream",
          "name": "stderr",
          "text": [
            "\rModel training in progress...:  78%|███████▊  | 29/37 [00:03<00:00,  8.34it/s]"
          ]
        },
        {
          "output_type": "stream",
          "name": "stdout",
          "text": [
            "Batch size is torch.Size([512, 256]) and torch.Size([512]).\n"
          ]
        },
        {
          "output_type": "stream",
          "name": "stderr",
          "text": [
            "\rModel training in progress...:  81%|████████  | 30/37 [00:03<00:00,  8.35it/s]"
          ]
        },
        {
          "output_type": "stream",
          "name": "stdout",
          "text": [
            "Batch size is torch.Size([512, 256]) and torch.Size([512]).\n"
          ]
        },
        {
          "output_type": "stream",
          "name": "stderr",
          "text": [
            "\rModel training in progress...:  84%|████████▍ | 31/37 [00:03<00:00,  8.36it/s]"
          ]
        },
        {
          "output_type": "stream",
          "name": "stdout",
          "text": [
            "Batch size is torch.Size([512, 256]) and torch.Size([512]).\n"
          ]
        },
        {
          "output_type": "stream",
          "name": "stderr",
          "text": [
            "\rModel training in progress...:  86%|████████▋ | 32/37 [00:03<00:00,  8.37it/s]"
          ]
        },
        {
          "output_type": "stream",
          "name": "stdout",
          "text": [
            "Batch size is torch.Size([512, 256]) and torch.Size([512]).\n"
          ]
        },
        {
          "output_type": "stream",
          "name": "stderr",
          "text": [
            "\rModel training in progress...:  89%|████████▉ | 33/37 [00:03<00:00,  8.36it/s]"
          ]
        },
        {
          "output_type": "stream",
          "name": "stdout",
          "text": [
            "Batch size is torch.Size([512, 256]) and torch.Size([512]).\n"
          ]
        },
        {
          "output_type": "stream",
          "name": "stderr",
          "text": [
            "\rModel training in progress...:  92%|█████████▏| 34/37 [00:04<00:00,  8.33it/s]"
          ]
        },
        {
          "output_type": "stream",
          "name": "stdout",
          "text": [
            "Batch size is torch.Size([512, 256]) and torch.Size([512]).\n"
          ]
        },
        {
          "output_type": "stream",
          "name": "stderr",
          "text": [
            "\rModel training in progress...:  95%|█████████▍| 35/37 [00:04<00:00,  8.32it/s]"
          ]
        },
        {
          "output_type": "stream",
          "name": "stdout",
          "text": [
            "Batch size is torch.Size([512, 256]) and torch.Size([512]).\n"
          ]
        },
        {
          "output_type": "stream",
          "name": "stderr",
          "text": [
            "Model training in progress...: 100%|██████████| 37/37 [00:04<00:00,  8.39it/s]\n"
          ]
        },
        {
          "output_type": "stream",
          "name": "stdout",
          "text": [
            "Batch size is torch.Size([318, 256]) and torch.Size([318]).\n"
          ]
        },
        {
          "output_type": "stream",
          "name": "stderr",
          "text": [
            "Model validation in progress...:  15%|█▌        | 2/13 [00:00<00:00, 15.60it/s]"
          ]
        },
        {
          "output_type": "stream",
          "name": "stdout",
          "text": [
            "Batch size is torch.Size([512, 256]) and torch.Size([512]).\n",
            "Batch size is torch.Size([512, 256]) and torch.Size([512]).\n",
            "Batch size is torch.Size([512, 256]) and torch.Size([512]).\n",
            "Batch size is torch.Size([512, 256]) and torch.Size([512]).\n"
          ]
        },
        {
          "output_type": "stream",
          "name": "stderr",
          "text": [
            "\rModel validation in progress...:  31%|███       | 4/13 [00:00<00:00, 16.60it/s]"
          ]
        },
        {
          "output_type": "stream",
          "name": "stdout",
          "text": [
            "Batch size is torch.Size([512, 256]) and torch.Size([512]).\n",
            "Batch size is torch.Size([512, 256]) and torch.Size([512]).\n"
          ]
        },
        {
          "output_type": "stream",
          "name": "stderr",
          "text": [
            "\rModel validation in progress...:  46%|████▌     | 6/13 [00:00<00:00, 16.84it/s]"
          ]
        },
        {
          "output_type": "stream",
          "name": "stdout",
          "text": [
            "Batch size is torch.Size([512, 256]) and torch.Size([512]).\n",
            "Batch size is torch.Size([512, 256]) and torch.Size([512]).\n"
          ]
        },
        {
          "output_type": "stream",
          "name": "stderr",
          "text": [
            "\rModel validation in progress...:  62%|██████▏   | 8/13 [00:00<00:00, 17.02it/s]"
          ]
        },
        {
          "output_type": "stream",
          "name": "stdout",
          "text": [
            "Batch size is torch.Size([512, 256]) and torch.Size([512]).\n",
            "Batch size is torch.Size([512, 256]) and torch.Size([512]).\n"
          ]
        },
        {
          "output_type": "stream",
          "name": "stderr",
          "text": [
            "\rModel validation in progress...:  77%|███████▋  | 10/13 [00:00<00:00, 16.94it/s]"
          ]
        },
        {
          "output_type": "stream",
          "name": "stdout",
          "text": [
            "Batch size is torch.Size([512, 256]) and torch.Size([512]).\n",
            "Batch size is torch.Size([512, 256]) and torch.Size([512]).\n"
          ]
        },
        {
          "output_type": "stream",
          "name": "stderr",
          "text": [
            "Model validation in progress...: 100%|██████████| 13/13 [00:00<00:00, 17.84it/s]\n"
          ]
        },
        {
          "output_type": "stream",
          "name": "stdout",
          "text": [
            "Batch size is torch.Size([106, 256]) and torch.Size([106]).\n",
            "Epoch: 3\n",
            "Training loss: 0.503, Training accuracy: 0.815\n",
            "Validation loss: 0.484, Validation accuracy: 0.817\n",
            "\n",
            "\n"
          ]
        },
        {
          "output_type": "stream",
          "name": "stderr",
          "text": [
            "\rModel training in progress...:   0%|          | 0/37 [00:00<?, ?it/s]"
          ]
        },
        {
          "output_type": "stream",
          "name": "stdout",
          "text": [
            "Batch size is torch.Size([512, 256]) and torch.Size([512]).\n"
          ]
        },
        {
          "output_type": "stream",
          "name": "stderr",
          "text": [
            "\rModel training in progress...:   3%|▎         | 1/37 [00:00<00:04,  7.79it/s]"
          ]
        },
        {
          "output_type": "stream",
          "name": "stdout",
          "text": [
            "Batch size is torch.Size([512, 256]) and torch.Size([512]).\n"
          ]
        },
        {
          "output_type": "stream",
          "name": "stderr",
          "text": [
            "\rModel training in progress...:   5%|▌         | 2/37 [00:00<00:04,  8.16it/s]"
          ]
        },
        {
          "output_type": "stream",
          "name": "stdout",
          "text": [
            "Batch size is torch.Size([512, 256]) and torch.Size([512]).\n"
          ]
        },
        {
          "output_type": "stream",
          "name": "stderr",
          "text": [
            "\rModel training in progress...:   8%|▊         | 3/37 [00:00<00:04,  8.27it/s]"
          ]
        },
        {
          "output_type": "stream",
          "name": "stdout",
          "text": [
            "Batch size is torch.Size([512, 256]) and torch.Size([512]).\n"
          ]
        },
        {
          "output_type": "stream",
          "name": "stderr",
          "text": [
            "\rModel training in progress...:  11%|█         | 4/37 [00:00<00:03,  8.36it/s]"
          ]
        },
        {
          "output_type": "stream",
          "name": "stdout",
          "text": [
            "Batch size is torch.Size([512, 256]) and torch.Size([512]).\n"
          ]
        },
        {
          "output_type": "stream",
          "name": "stderr",
          "text": [
            "\rModel training in progress...:  14%|█▎        | 5/37 [00:00<00:03,  8.34it/s]"
          ]
        },
        {
          "output_type": "stream",
          "name": "stdout",
          "text": [
            "Batch size is torch.Size([512, 256]) and torch.Size([512]).\n"
          ]
        },
        {
          "output_type": "stream",
          "name": "stderr",
          "text": [
            "\rModel training in progress...:  16%|█▌        | 6/37 [00:00<00:03,  8.33it/s]"
          ]
        },
        {
          "output_type": "stream",
          "name": "stdout",
          "text": [
            "Batch size is torch.Size([512, 256]) and torch.Size([512]).\n"
          ]
        },
        {
          "output_type": "stream",
          "name": "stderr",
          "text": [
            "\rModel training in progress...:  19%|█▉        | 7/37 [00:00<00:03,  8.24it/s]"
          ]
        },
        {
          "output_type": "stream",
          "name": "stdout",
          "text": [
            "Batch size is torch.Size([512, 256]) and torch.Size([512]).\n"
          ]
        },
        {
          "output_type": "stream",
          "name": "stderr",
          "text": [
            "\rModel training in progress...:  22%|██▏       | 8/37 [00:00<00:03,  8.30it/s]"
          ]
        },
        {
          "output_type": "stream",
          "name": "stdout",
          "text": [
            "Batch size is torch.Size([512, 256]) and torch.Size([512]).\n"
          ]
        },
        {
          "output_type": "stream",
          "name": "stderr",
          "text": [
            "\rModel training in progress...:  24%|██▍       | 9/37 [00:01<00:03,  8.12it/s]"
          ]
        },
        {
          "output_type": "stream",
          "name": "stdout",
          "text": [
            "Batch size is torch.Size([512, 256]) and torch.Size([512]).\n"
          ]
        },
        {
          "output_type": "stream",
          "name": "stderr",
          "text": [
            "\rModel training in progress...:  27%|██▋       | 10/37 [00:01<00:03,  8.22it/s]"
          ]
        },
        {
          "output_type": "stream",
          "name": "stdout",
          "text": [
            "Batch size is torch.Size([512, 256]) and torch.Size([512]).\n"
          ]
        },
        {
          "output_type": "stream",
          "name": "stderr",
          "text": [
            "\rModel training in progress...:  30%|██▉       | 11/37 [00:01<00:03,  8.27it/s]"
          ]
        },
        {
          "output_type": "stream",
          "name": "stdout",
          "text": [
            "Batch size is torch.Size([512, 256]) and torch.Size([512]).\n"
          ]
        },
        {
          "output_type": "stream",
          "name": "stderr",
          "text": [
            "\rModel training in progress...:  32%|███▏      | 12/37 [00:01<00:03,  8.19it/s]"
          ]
        },
        {
          "output_type": "stream",
          "name": "stdout",
          "text": [
            "Batch size is torch.Size([512, 256]) and torch.Size([512]).\n"
          ]
        },
        {
          "output_type": "stream",
          "name": "stderr",
          "text": [
            "\rModel training in progress...:  35%|███▌      | 13/37 [00:01<00:02,  8.10it/s]"
          ]
        },
        {
          "output_type": "stream",
          "name": "stdout",
          "text": [
            "Batch size is torch.Size([512, 256]) and torch.Size([512]).\n"
          ]
        },
        {
          "output_type": "stream",
          "name": "stderr",
          "text": [
            "\rModel training in progress...:  38%|███▊      | 14/37 [00:01<00:02,  8.21it/s]"
          ]
        },
        {
          "output_type": "stream",
          "name": "stdout",
          "text": [
            "Batch size is torch.Size([512, 256]) and torch.Size([512]).\n"
          ]
        },
        {
          "output_type": "stream",
          "name": "stderr",
          "text": [
            "\rModel training in progress...:  41%|████      | 15/37 [00:01<00:02,  8.24it/s]"
          ]
        },
        {
          "output_type": "stream",
          "name": "stdout",
          "text": [
            "Batch size is torch.Size([512, 256]) and torch.Size([512]).\n"
          ]
        },
        {
          "output_type": "stream",
          "name": "stderr",
          "text": [
            "\rModel training in progress...:  43%|████▎     | 16/37 [00:01<00:02,  8.24it/s]"
          ]
        },
        {
          "output_type": "stream",
          "name": "stdout",
          "text": [
            "Batch size is torch.Size([512, 256]) and torch.Size([512]).\n"
          ]
        },
        {
          "output_type": "stream",
          "name": "stderr",
          "text": [
            "\rModel training in progress...:  46%|████▌     | 17/37 [00:02<00:02,  8.25it/s]"
          ]
        },
        {
          "output_type": "stream",
          "name": "stdout",
          "text": [
            "Batch size is torch.Size([512, 256]) and torch.Size([512]).\n"
          ]
        },
        {
          "output_type": "stream",
          "name": "stderr",
          "text": [
            "\rModel training in progress...:  49%|████▊     | 18/37 [00:02<00:02,  8.29it/s]"
          ]
        },
        {
          "output_type": "stream",
          "name": "stdout",
          "text": [
            "Batch size is torch.Size([512, 256]) and torch.Size([512]).\n"
          ]
        },
        {
          "output_type": "stream",
          "name": "stderr",
          "text": [
            "\rModel training in progress...:  51%|█████▏    | 19/37 [00:02<00:02,  8.33it/s]"
          ]
        },
        {
          "output_type": "stream",
          "name": "stdout",
          "text": [
            "Batch size is torch.Size([512, 256]) and torch.Size([512]).\n"
          ]
        },
        {
          "output_type": "stream",
          "name": "stderr",
          "text": [
            "\rModel training in progress...:  54%|█████▍    | 20/37 [00:02<00:02,  8.36it/s]"
          ]
        },
        {
          "output_type": "stream",
          "name": "stdout",
          "text": [
            "Batch size is torch.Size([512, 256]) and torch.Size([512]).\n"
          ]
        },
        {
          "output_type": "stream",
          "name": "stderr",
          "text": [
            "\rModel training in progress...:  57%|█████▋    | 21/37 [00:02<00:01,  8.39it/s]"
          ]
        },
        {
          "output_type": "stream",
          "name": "stdout",
          "text": [
            "Batch size is torch.Size([512, 256]) and torch.Size([512]).\n"
          ]
        },
        {
          "output_type": "stream",
          "name": "stderr",
          "text": [
            "\rModel training in progress...:  59%|█████▉    | 22/37 [00:02<00:01,  8.40it/s]"
          ]
        },
        {
          "output_type": "stream",
          "name": "stdout",
          "text": [
            "Batch size is torch.Size([512, 256]) and torch.Size([512]).\n"
          ]
        },
        {
          "output_type": "stream",
          "name": "stderr",
          "text": [
            "\rModel training in progress...:  62%|██████▏   | 23/37 [00:02<00:01,  8.37it/s]"
          ]
        },
        {
          "output_type": "stream",
          "name": "stdout",
          "text": [
            "Batch size is torch.Size([512, 256]) and torch.Size([512]).\n"
          ]
        },
        {
          "output_type": "stream",
          "name": "stderr",
          "text": [
            "\rModel training in progress...:  65%|██████▍   | 24/37 [00:02<00:01,  8.30it/s]"
          ]
        },
        {
          "output_type": "stream",
          "name": "stdout",
          "text": [
            "Batch size is torch.Size([512, 256]) and torch.Size([512]).\n"
          ]
        },
        {
          "output_type": "stream",
          "name": "stderr",
          "text": [
            "\rModel training in progress...:  68%|██████▊   | 25/37 [00:03<00:01,  8.32it/s]"
          ]
        },
        {
          "output_type": "stream",
          "name": "stdout",
          "text": [
            "Batch size is torch.Size([512, 256]) and torch.Size([512]).\n"
          ]
        },
        {
          "output_type": "stream",
          "name": "stderr",
          "text": [
            "\rModel training in progress...:  70%|███████   | 26/37 [00:03<00:01,  8.33it/s]"
          ]
        },
        {
          "output_type": "stream",
          "name": "stdout",
          "text": [
            "Batch size is torch.Size([512, 256]) and torch.Size([512]).\n"
          ]
        },
        {
          "output_type": "stream",
          "name": "stderr",
          "text": [
            "\rModel training in progress...:  73%|███████▎  | 27/37 [00:03<00:01,  8.34it/s]"
          ]
        },
        {
          "output_type": "stream",
          "name": "stdout",
          "text": [
            "Batch size is torch.Size([512, 256]) and torch.Size([512]).\n"
          ]
        },
        {
          "output_type": "stream",
          "name": "stderr",
          "text": [
            "\rModel training in progress...:  76%|███████▌  | 28/37 [00:03<00:01,  8.01it/s]"
          ]
        },
        {
          "output_type": "stream",
          "name": "stdout",
          "text": [
            "Batch size is torch.Size([512, 256]) and torch.Size([512]).\n"
          ]
        },
        {
          "output_type": "stream",
          "name": "stderr",
          "text": [
            "\rModel training in progress...:  78%|███████▊  | 29/37 [00:03<00:01,  7.93it/s]"
          ]
        },
        {
          "output_type": "stream",
          "name": "stdout",
          "text": [
            "Batch size is torch.Size([512, 256]) and torch.Size([512]).\n"
          ]
        },
        {
          "output_type": "stream",
          "name": "stderr",
          "text": [
            "\rModel training in progress...:  81%|████████  | 30/37 [00:03<00:00,  7.41it/s]"
          ]
        },
        {
          "output_type": "stream",
          "name": "stdout",
          "text": [
            "Batch size is torch.Size([512, 256]) and torch.Size([512]).\n"
          ]
        },
        {
          "output_type": "stream",
          "name": "stderr",
          "text": [
            "\rModel training in progress...:  84%|████████▍ | 31/37 [00:03<00:00,  7.27it/s]"
          ]
        },
        {
          "output_type": "stream",
          "name": "stdout",
          "text": [
            "Batch size is torch.Size([512, 256]) and torch.Size([512]).\n"
          ]
        },
        {
          "output_type": "stream",
          "name": "stderr",
          "text": [
            "\rModel training in progress...:  86%|████████▋ | 32/37 [00:03<00:00,  7.32it/s]"
          ]
        },
        {
          "output_type": "stream",
          "name": "stdout",
          "text": [
            "Batch size is torch.Size([512, 256]) and torch.Size([512]).\n"
          ]
        },
        {
          "output_type": "stream",
          "name": "stderr",
          "text": [
            "\rModel training in progress...:  89%|████████▉ | 33/37 [00:04<00:00,  7.43it/s]"
          ]
        },
        {
          "output_type": "stream",
          "name": "stdout",
          "text": [
            "Batch size is torch.Size([512, 256]) and torch.Size([512]).\n"
          ]
        },
        {
          "output_type": "stream",
          "name": "stderr",
          "text": [
            "\rModel training in progress...:  92%|█████████▏| 34/37 [00:04<00:00,  7.30it/s]"
          ]
        },
        {
          "output_type": "stream",
          "name": "stdout",
          "text": [
            "Batch size is torch.Size([512, 256]) and torch.Size([512]).\n"
          ]
        },
        {
          "output_type": "stream",
          "name": "stderr",
          "text": [
            "\rModel training in progress...:  95%|█████████▍| 35/37 [00:04<00:00,  7.11it/s]"
          ]
        },
        {
          "output_type": "stream",
          "name": "stdout",
          "text": [
            "Batch size is torch.Size([512, 256]) and torch.Size([512]).\n"
          ]
        },
        {
          "output_type": "stream",
          "name": "stderr",
          "text": [
            "\rModel training in progress...:  97%|█████████▋| 36/37 [00:04<00:00,  7.04it/s]"
          ]
        },
        {
          "output_type": "stream",
          "name": "stdout",
          "text": [
            "Batch size is torch.Size([318, 256]) and torch.Size([318]).\n"
          ]
        },
        {
          "output_type": "stream",
          "name": "stderr",
          "text": [
            "Model training in progress...: 100%|██████████| 37/37 [00:04<00:00,  7.98it/s]\n",
            "Model validation in progress...:   0%|          | 0/13 [00:00<?, ?it/s]"
          ]
        },
        {
          "output_type": "stream",
          "name": "stdout",
          "text": [
            "Batch size is torch.Size([512, 256]) and torch.Size([512]).\n",
            "Batch size is torch.Size([512, 256]) and torch.Size([512]).\n"
          ]
        },
        {
          "output_type": "stream",
          "name": "stderr",
          "text": [
            "\rModel validation in progress...:  15%|█▌        | 2/13 [00:00<00:00, 13.77it/s]"
          ]
        },
        {
          "output_type": "stream",
          "name": "stdout",
          "text": [
            "Batch size is torch.Size([512, 256]) and torch.Size([512]).\n"
          ]
        },
        {
          "output_type": "stream",
          "name": "stderr",
          "text": [
            "\rModel validation in progress...:  31%|███       | 4/13 [00:00<00:00, 13.73it/s]"
          ]
        },
        {
          "output_type": "stream",
          "name": "stdout",
          "text": [
            "Batch size is torch.Size([512, 256]) and torch.Size([512]).\n",
            "Batch size is torch.Size([512, 256]) and torch.Size([512]).\n",
            "Batch size is torch.Size([512, 256]) and torch.Size([512]).\n"
          ]
        },
        {
          "output_type": "stream",
          "name": "stderr",
          "text": [
            "\rModel validation in progress...:  46%|████▌     | 6/13 [00:00<00:00, 15.23it/s]"
          ]
        },
        {
          "output_type": "stream",
          "name": "stdout",
          "text": [
            "Batch size is torch.Size([512, 256]) and torch.Size([512]).\n"
          ]
        },
        {
          "output_type": "stream",
          "name": "stderr",
          "text": [
            "\rModel validation in progress...:  62%|██████▏   | 8/13 [00:00<00:00, 16.06it/s]"
          ]
        },
        {
          "output_type": "stream",
          "name": "stdout",
          "text": [
            "Batch size is torch.Size([512, 256]) and torch.Size([512]).\n",
            "Batch size is torch.Size([512, 256]) and torch.Size([512]).\n",
            "Batch size is torch.Size([512, 256]) and torch.Size([512]).\n"
          ]
        },
        {
          "output_type": "stream",
          "name": "stderr",
          "text": [
            "\rModel validation in progress...:  77%|███████▋  | 10/13 [00:00<00:00, 16.62it/s]"
          ]
        },
        {
          "output_type": "stream",
          "name": "stdout",
          "text": [
            "Batch size is torch.Size([512, 256]) and torch.Size([512]).\n"
          ]
        },
        {
          "output_type": "stream",
          "name": "stderr",
          "text": [
            "Model validation in progress...: 100%|██████████| 13/13 [00:00<00:00, 16.76it/s]\n"
          ]
        },
        {
          "output_type": "stream",
          "name": "stdout",
          "text": [
            "Batch size is torch.Size([512, 256]) and torch.Size([512]).\n",
            "Batch size is torch.Size([106, 256]) and torch.Size([106]).\n",
            "Epoch: 4\n",
            "Training loss: 0.437, Training accuracy: 0.850\n",
            "Validation loss: 0.432, Validation accuracy: 0.841\n",
            "\n",
            "\n"
          ]
        },
        {
          "output_type": "stream",
          "name": "stderr",
          "text": [
            "\rModel training in progress...:   0%|          | 0/37 [00:00<?, ?it/s]"
          ]
        },
        {
          "output_type": "stream",
          "name": "stdout",
          "text": [
            "Batch size is torch.Size([512, 256]) and torch.Size([512]).\n"
          ]
        },
        {
          "output_type": "stream",
          "name": "stderr",
          "text": [
            "\rModel training in progress...:   3%|▎         | 1/37 [00:00<00:04,  8.59it/s]"
          ]
        },
        {
          "output_type": "stream",
          "name": "stdout",
          "text": [
            "Batch size is torch.Size([512, 256]) and torch.Size([512]).\n"
          ]
        },
        {
          "output_type": "stream",
          "name": "stderr",
          "text": [
            "\rModel training in progress...:   5%|▌         | 2/37 [00:00<00:04,  8.36it/s]"
          ]
        },
        {
          "output_type": "stream",
          "name": "stdout",
          "text": [
            "Batch size is torch.Size([512, 256]) and torch.Size([512]).\n"
          ]
        },
        {
          "output_type": "stream",
          "name": "stderr",
          "text": [
            "\rModel training in progress...:   8%|▊         | 3/37 [00:00<00:04,  8.34it/s]"
          ]
        },
        {
          "output_type": "stream",
          "name": "stdout",
          "text": [
            "Batch size is torch.Size([512, 256]) and torch.Size([512]).\n"
          ]
        },
        {
          "output_type": "stream",
          "name": "stderr",
          "text": [
            "\rModel training in progress...:  11%|█         | 4/37 [00:00<00:03,  8.32it/s]"
          ]
        },
        {
          "output_type": "stream",
          "name": "stdout",
          "text": [
            "Batch size is torch.Size([512, 256]) and torch.Size([512]).\n"
          ]
        },
        {
          "output_type": "stream",
          "name": "stderr",
          "text": [
            "\rModel training in progress...:  14%|█▎        | 5/37 [00:00<00:03,  8.35it/s]"
          ]
        },
        {
          "output_type": "stream",
          "name": "stdout",
          "text": [
            "Batch size is torch.Size([512, 256]) and torch.Size([512]).\n"
          ]
        },
        {
          "output_type": "stream",
          "name": "stderr",
          "text": [
            "\rModel training in progress...:  16%|█▌        | 6/37 [00:00<00:03,  8.37it/s]"
          ]
        },
        {
          "output_type": "stream",
          "name": "stdout",
          "text": [
            "Batch size is torch.Size([512, 256]) and torch.Size([512]).\n"
          ]
        },
        {
          "output_type": "stream",
          "name": "stderr",
          "text": [
            "\rModel training in progress...:  19%|█▉        | 7/37 [00:00<00:03,  8.39it/s]"
          ]
        },
        {
          "output_type": "stream",
          "name": "stdout",
          "text": [
            "Batch size is torch.Size([512, 256]) and torch.Size([512]).\n"
          ]
        },
        {
          "output_type": "stream",
          "name": "stderr",
          "text": [
            "\rModel training in progress...:  22%|██▏       | 8/37 [00:00<00:03,  8.41it/s]"
          ]
        },
        {
          "output_type": "stream",
          "name": "stdout",
          "text": [
            "Batch size is torch.Size([512, 256]) and torch.Size([512]).\n"
          ]
        },
        {
          "output_type": "stream",
          "name": "stderr",
          "text": [
            "\rModel training in progress...:  24%|██▍       | 9/37 [00:01<00:03,  8.45it/s]"
          ]
        },
        {
          "output_type": "stream",
          "name": "stdout",
          "text": [
            "Batch size is torch.Size([512, 256]) and torch.Size([512]).\n"
          ]
        },
        {
          "output_type": "stream",
          "name": "stderr",
          "text": [
            "\rModel training in progress...:  27%|██▋       | 10/37 [00:01<00:03,  8.43it/s]"
          ]
        },
        {
          "output_type": "stream",
          "name": "stdout",
          "text": [
            "Batch size is torch.Size([512, 256]) and torch.Size([512]).\n"
          ]
        },
        {
          "output_type": "stream",
          "name": "stderr",
          "text": [
            "\rModel training in progress...:  30%|██▉       | 11/37 [00:01<00:03,  8.19it/s]"
          ]
        },
        {
          "output_type": "stream",
          "name": "stdout",
          "text": [
            "Batch size is torch.Size([512, 256]) and torch.Size([512]).\n"
          ]
        },
        {
          "output_type": "stream",
          "name": "stderr",
          "text": [
            "\rModel training in progress...:  32%|███▏      | 12/37 [00:01<00:03,  8.25it/s]"
          ]
        },
        {
          "output_type": "stream",
          "name": "stdout",
          "text": [
            "Batch size is torch.Size([512, 256]) and torch.Size([512]).\n"
          ]
        },
        {
          "output_type": "stream",
          "name": "stderr",
          "text": [
            "\rModel training in progress...:  35%|███▌      | 13/37 [00:01<00:03,  7.97it/s]"
          ]
        },
        {
          "output_type": "stream",
          "name": "stdout",
          "text": [
            "Batch size is torch.Size([512, 256]) and torch.Size([512]).\n"
          ]
        },
        {
          "output_type": "stream",
          "name": "stderr",
          "text": [
            "\rModel training in progress...:  38%|███▊      | 14/37 [00:01<00:02,  8.08it/s]"
          ]
        },
        {
          "output_type": "stream",
          "name": "stdout",
          "text": [
            "Batch size is torch.Size([512, 256]) and torch.Size([512]).\n"
          ]
        },
        {
          "output_type": "stream",
          "name": "stderr",
          "text": [
            "\rModel training in progress...:  41%|████      | 15/37 [00:01<00:02,  8.20it/s]"
          ]
        },
        {
          "output_type": "stream",
          "name": "stdout",
          "text": [
            "Batch size is torch.Size([512, 256]) and torch.Size([512]).\n"
          ]
        },
        {
          "output_type": "stream",
          "name": "stderr",
          "text": [
            "\rModel training in progress...:  43%|████▎     | 16/37 [00:01<00:02,  8.28it/s]"
          ]
        },
        {
          "output_type": "stream",
          "name": "stdout",
          "text": [
            "Batch size is torch.Size([512, 256]) and torch.Size([512]).\n"
          ]
        },
        {
          "output_type": "stream",
          "name": "stderr",
          "text": [
            "\rModel training in progress...:  46%|████▌     | 17/37 [00:02<00:02,  8.29it/s]"
          ]
        },
        {
          "output_type": "stream",
          "name": "stdout",
          "text": [
            "Batch size is torch.Size([512, 256]) and torch.Size([512]).\n"
          ]
        },
        {
          "output_type": "stream",
          "name": "stderr",
          "text": [
            "\rModel training in progress...:  49%|████▊     | 18/37 [00:02<00:02,  8.21it/s]"
          ]
        },
        {
          "output_type": "stream",
          "name": "stdout",
          "text": [
            "Batch size is torch.Size([512, 256]) and torch.Size([512]).\n"
          ]
        },
        {
          "output_type": "stream",
          "name": "stderr",
          "text": [
            "\rModel training in progress...:  51%|█████▏    | 19/37 [00:02<00:02,  8.25it/s]"
          ]
        },
        {
          "output_type": "stream",
          "name": "stdout",
          "text": [
            "Batch size is torch.Size([512, 256]) and torch.Size([512]).\n"
          ]
        },
        {
          "output_type": "stream",
          "name": "stderr",
          "text": [
            "\rModel training in progress...:  54%|█████▍    | 20/37 [00:02<00:02,  8.25it/s]"
          ]
        },
        {
          "output_type": "stream",
          "name": "stdout",
          "text": [
            "Batch size is torch.Size([512, 256]) and torch.Size([512]).\n"
          ]
        },
        {
          "output_type": "stream",
          "name": "stderr",
          "text": [
            "\rModel training in progress...:  57%|█████▋    | 21/37 [00:02<00:01,  8.27it/s]"
          ]
        },
        {
          "output_type": "stream",
          "name": "stdout",
          "text": [
            "Batch size is torch.Size([512, 256]) and torch.Size([512]).\n"
          ]
        },
        {
          "output_type": "stream",
          "name": "stderr",
          "text": [
            "\rModel training in progress...:  59%|█████▉    | 22/37 [00:02<00:01,  8.27it/s]"
          ]
        },
        {
          "output_type": "stream",
          "name": "stdout",
          "text": [
            "Batch size is torch.Size([512, 256]) and torch.Size([512]).\n"
          ]
        },
        {
          "output_type": "stream",
          "name": "stderr",
          "text": [
            "\rModel training in progress...:  62%|██████▏   | 23/37 [00:02<00:01,  8.25it/s]"
          ]
        },
        {
          "output_type": "stream",
          "name": "stdout",
          "text": [
            "Batch size is torch.Size([512, 256]) and torch.Size([512]).\n"
          ]
        },
        {
          "output_type": "stream",
          "name": "stderr",
          "text": [
            "\rModel training in progress...:  65%|██████▍   | 24/37 [00:02<00:01,  8.27it/s]"
          ]
        },
        {
          "output_type": "stream",
          "name": "stdout",
          "text": [
            "Batch size is torch.Size([512, 256]) and torch.Size([512]).\n"
          ]
        },
        {
          "output_type": "stream",
          "name": "stderr",
          "text": [
            "\rModel training in progress...:  68%|██████▊   | 25/37 [00:03<00:01,  8.30it/s]"
          ]
        },
        {
          "output_type": "stream",
          "name": "stdout",
          "text": [
            "Batch size is torch.Size([512, 256]) and torch.Size([512]).\n"
          ]
        },
        {
          "output_type": "stream",
          "name": "stderr",
          "text": [
            "\rModel training in progress...:  70%|███████   | 26/37 [00:03<00:01,  8.32it/s]"
          ]
        },
        {
          "output_type": "stream",
          "name": "stdout",
          "text": [
            "Batch size is torch.Size([512, 256]) and torch.Size([512]).\n"
          ]
        },
        {
          "output_type": "stream",
          "name": "stderr",
          "text": [
            "\rModel training in progress...:  73%|███████▎  | 27/37 [00:03<00:01,  8.33it/s]"
          ]
        },
        {
          "output_type": "stream",
          "name": "stdout",
          "text": [
            "Batch size is torch.Size([512, 256]) and torch.Size([512]).\n"
          ]
        },
        {
          "output_type": "stream",
          "name": "stderr",
          "text": [
            "\rModel training in progress...:  76%|███████▌  | 28/37 [00:03<00:01,  8.22it/s]"
          ]
        },
        {
          "output_type": "stream",
          "name": "stdout",
          "text": [
            "Batch size is torch.Size([512, 256]) and torch.Size([512]).\n"
          ]
        },
        {
          "output_type": "stream",
          "name": "stderr",
          "text": [
            "\rModel training in progress...:  78%|███████▊  | 29/37 [00:03<00:00,  8.23it/s]"
          ]
        },
        {
          "output_type": "stream",
          "name": "stdout",
          "text": [
            "Batch size is torch.Size([512, 256]) and torch.Size([512]).\n"
          ]
        },
        {
          "output_type": "stream",
          "name": "stderr",
          "text": [
            "\rModel training in progress...:  81%|████████  | 30/37 [00:03<00:00,  8.06it/s]"
          ]
        },
        {
          "output_type": "stream",
          "name": "stdout",
          "text": [
            "Batch size is torch.Size([512, 256]) and torch.Size([512]).\n"
          ]
        },
        {
          "output_type": "stream",
          "name": "stderr",
          "text": [
            "\rModel training in progress...:  84%|████████▍ | 31/37 [00:03<00:00,  8.12it/s]"
          ]
        },
        {
          "output_type": "stream",
          "name": "stdout",
          "text": [
            "Batch size is torch.Size([512, 256]) and torch.Size([512]).\n"
          ]
        },
        {
          "output_type": "stream",
          "name": "stderr",
          "text": [
            "\rModel training in progress...:  86%|████████▋ | 32/37 [00:03<00:00,  8.19it/s]"
          ]
        },
        {
          "output_type": "stream",
          "name": "stdout",
          "text": [
            "Batch size is torch.Size([512, 256]) and torch.Size([512]).\n"
          ]
        },
        {
          "output_type": "stream",
          "name": "stderr",
          "text": [
            "\rModel training in progress...:  89%|████████▉ | 33/37 [00:03<00:00,  8.24it/s]"
          ]
        },
        {
          "output_type": "stream",
          "name": "stdout",
          "text": [
            "Batch size is torch.Size([512, 256]) and torch.Size([512]).\n"
          ]
        },
        {
          "output_type": "stream",
          "name": "stderr",
          "text": [
            "\rModel training in progress...:  92%|█████████▏| 34/37 [00:04<00:00,  8.27it/s]"
          ]
        },
        {
          "output_type": "stream",
          "name": "stdout",
          "text": [
            "Batch size is torch.Size([512, 256]) and torch.Size([512]).\n"
          ]
        },
        {
          "output_type": "stream",
          "name": "stderr",
          "text": [
            "\rModel training in progress...:  95%|█████████▍| 35/37 [00:04<00:00,  8.28it/s]"
          ]
        },
        {
          "output_type": "stream",
          "name": "stdout",
          "text": [
            "Batch size is torch.Size([512, 256]) and torch.Size([512]).\n"
          ]
        },
        {
          "output_type": "stream",
          "name": "stderr",
          "text": [
            "Model training in progress...: 100%|██████████| 37/37 [00:04<00:00,  8.34it/s]\n"
          ]
        },
        {
          "output_type": "stream",
          "name": "stdout",
          "text": [
            "Batch size is torch.Size([318, 256]) and torch.Size([318]).\n"
          ]
        },
        {
          "output_type": "stream",
          "name": "stderr",
          "text": [
            "\rModel validation in progress...:   0%|          | 0/13 [00:00<?, ?it/s]"
          ]
        },
        {
          "output_type": "stream",
          "name": "stdout",
          "text": [
            "Batch size is torch.Size([512, 256]) and torch.Size([512]).\n",
            "Batch size is torch.Size([512, 256]) and torch.Size([512]).\n"
          ]
        },
        {
          "output_type": "stream",
          "name": "stderr",
          "text": [
            "\rModel validation in progress...:  15%|█▌        | 2/13 [00:00<00:00, 14.22it/s]"
          ]
        },
        {
          "output_type": "stream",
          "name": "stdout",
          "text": [
            "Batch size is torch.Size([512, 256]) and torch.Size([512]).\n",
            "Batch size is torch.Size([512, 256]) and torch.Size([512]).\n"
          ]
        },
        {
          "output_type": "stream",
          "name": "stderr",
          "text": [
            "\rModel validation in progress...:  31%|███       | 4/13 [00:00<00:00, 16.06it/s]"
          ]
        },
        {
          "output_type": "stream",
          "name": "stdout",
          "text": [
            "Batch size is torch.Size([512, 256]) and torch.Size([512]).\n",
            "Batch size is torch.Size([512, 256]) and torch.Size([512]).\n"
          ]
        },
        {
          "output_type": "stream",
          "name": "stderr",
          "text": [
            "\rModel validation in progress...:  46%|████▌     | 6/13 [00:00<00:00, 16.74it/s]"
          ]
        },
        {
          "output_type": "stream",
          "name": "stdout",
          "text": [
            "Batch size is torch.Size([512, 256]) and torch.Size([512]).\n",
            "Batch size is torch.Size([512, 256]) and torch.Size([512]).\n"
          ]
        },
        {
          "output_type": "stream",
          "name": "stderr",
          "text": [
            "\rModel validation in progress...:  62%|██████▏   | 8/13 [00:00<00:00, 17.01it/s]"
          ]
        },
        {
          "output_type": "stream",
          "name": "stdout",
          "text": [
            "Batch size is torch.Size([512, 256]) and torch.Size([512]).\n",
            "Batch size is torch.Size([512, 256]) and torch.Size([512]).\n"
          ]
        },
        {
          "output_type": "stream",
          "name": "stderr",
          "text": [
            "\rModel validation in progress...:  77%|███████▋  | 10/13 [00:00<00:00, 17.32it/s]"
          ]
        },
        {
          "output_type": "stream",
          "name": "stdout",
          "text": [
            "Batch size is torch.Size([512, 256]) and torch.Size([512]).\n",
            "Batch size is torch.Size([512, 256]) and torch.Size([512]).\n"
          ]
        },
        {
          "output_type": "stream",
          "name": "stderr",
          "text": [
            "Model validation in progress...: 100%|██████████| 13/13 [00:00<00:00, 18.11it/s]\n"
          ]
        },
        {
          "output_type": "stream",
          "name": "stdout",
          "text": [
            "Batch size is torch.Size([106, 256]) and torch.Size([106]).\n",
            "Epoch: 5\n",
            "Training loss: 0.382, Training accuracy: 0.871\n",
            "Validation loss: 0.394, Validation accuracy: 0.854\n",
            "\n",
            "\n"
          ]
        },
        {
          "output_type": "stream",
          "name": "stderr",
          "text": [
            "\rModel training in progress...:   0%|          | 0/37 [00:00<?, ?it/s]"
          ]
        },
        {
          "output_type": "stream",
          "name": "stdout",
          "text": [
            "Batch size is torch.Size([512, 256]) and torch.Size([512]).\n"
          ]
        },
        {
          "output_type": "stream",
          "name": "stderr",
          "text": [
            "\rModel training in progress...:   3%|▎         | 1/37 [00:00<00:04,  7.63it/s]"
          ]
        },
        {
          "output_type": "stream",
          "name": "stdout",
          "text": [
            "Batch size is torch.Size([512, 256]) and torch.Size([512]).\n"
          ]
        },
        {
          "output_type": "stream",
          "name": "stderr",
          "text": [
            "\rModel training in progress...:   5%|▌         | 2/37 [00:00<00:04,  8.04it/s]"
          ]
        },
        {
          "output_type": "stream",
          "name": "stdout",
          "text": [
            "Batch size is torch.Size([512, 256]) and torch.Size([512]).\n"
          ]
        },
        {
          "output_type": "stream",
          "name": "stderr",
          "text": [
            "\rModel training in progress...:   8%|▊         | 3/37 [00:00<00:04,  8.14it/s]"
          ]
        },
        {
          "output_type": "stream",
          "name": "stdout",
          "text": [
            "Batch size is torch.Size([512, 256]) and torch.Size([512]).\n"
          ]
        },
        {
          "output_type": "stream",
          "name": "stderr",
          "text": [
            "\rModel training in progress...:  11%|█         | 4/37 [00:00<00:04,  8.03it/s]"
          ]
        },
        {
          "output_type": "stream",
          "name": "stdout",
          "text": [
            "Batch size is torch.Size([512, 256]) and torch.Size([512]).\n"
          ]
        },
        {
          "output_type": "stream",
          "name": "stderr",
          "text": [
            "\rModel training in progress...:  14%|█▎        | 5/37 [00:00<00:03,  8.12it/s]"
          ]
        },
        {
          "output_type": "stream",
          "name": "stdout",
          "text": [
            "Batch size is torch.Size([512, 256]) and torch.Size([512]).\n"
          ]
        },
        {
          "output_type": "stream",
          "name": "stderr",
          "text": [
            "\rModel training in progress...:  16%|█▌        | 6/37 [00:00<00:03,  8.14it/s]"
          ]
        },
        {
          "output_type": "stream",
          "name": "stdout",
          "text": [
            "Batch size is torch.Size([512, 256]) and torch.Size([512]).\n"
          ]
        },
        {
          "output_type": "stream",
          "name": "stderr",
          "text": [
            "\rModel training in progress...:  19%|█▉        | 7/37 [00:00<00:03,  8.22it/s]"
          ]
        },
        {
          "output_type": "stream",
          "name": "stdout",
          "text": [
            "Batch size is torch.Size([512, 256]) and torch.Size([512]).\n"
          ]
        },
        {
          "output_type": "stream",
          "name": "stderr",
          "text": [
            "\rModel training in progress...:  22%|██▏       | 8/37 [00:00<00:03,  8.26it/s]"
          ]
        },
        {
          "output_type": "stream",
          "name": "stdout",
          "text": [
            "Batch size is torch.Size([512, 256]) and torch.Size([512]).\n"
          ]
        },
        {
          "output_type": "stream",
          "name": "stderr",
          "text": [
            "\rModel training in progress...:  24%|██▍       | 9/37 [00:01<00:03,  8.04it/s]"
          ]
        },
        {
          "output_type": "stream",
          "name": "stdout",
          "text": [
            "Batch size is torch.Size([512, 256]) and torch.Size([512]).\n"
          ]
        },
        {
          "output_type": "stream",
          "name": "stderr",
          "text": [
            "\rModel training in progress...:  27%|██▋       | 10/37 [00:01<00:03,  8.16it/s]"
          ]
        },
        {
          "output_type": "stream",
          "name": "stdout",
          "text": [
            "Batch size is torch.Size([512, 256]) and torch.Size([512]).\n"
          ]
        },
        {
          "output_type": "stream",
          "name": "stderr",
          "text": [
            "\rModel training in progress...:  30%|██▉       | 11/37 [00:01<00:03,  8.13it/s]"
          ]
        },
        {
          "output_type": "stream",
          "name": "stdout",
          "text": [
            "Batch size is torch.Size([512, 256]) and torch.Size([512]).\n"
          ]
        },
        {
          "output_type": "stream",
          "name": "stderr",
          "text": [
            "\rModel training in progress...:  32%|███▏      | 12/37 [00:01<00:03,  8.00it/s]"
          ]
        },
        {
          "output_type": "stream",
          "name": "stdout",
          "text": [
            "Batch size is torch.Size([512, 256]) and torch.Size([512]).\n"
          ]
        },
        {
          "output_type": "stream",
          "name": "stderr",
          "text": [
            "\rModel training in progress...:  35%|███▌      | 13/37 [00:01<00:02,  8.16it/s]"
          ]
        },
        {
          "output_type": "stream",
          "name": "stdout",
          "text": [
            "Batch size is torch.Size([512, 256]) and torch.Size([512]).\n"
          ]
        },
        {
          "output_type": "stream",
          "name": "stderr",
          "text": [
            "\rModel training in progress...:  38%|███▊      | 14/37 [00:01<00:02,  8.27it/s]"
          ]
        },
        {
          "output_type": "stream",
          "name": "stdout",
          "text": [
            "Batch size is torch.Size([512, 256]) and torch.Size([512]).\n"
          ]
        },
        {
          "output_type": "stream",
          "name": "stderr",
          "text": [
            "\rModel training in progress...:  41%|████      | 15/37 [00:01<00:02,  8.34it/s]"
          ]
        },
        {
          "output_type": "stream",
          "name": "stdout",
          "text": [
            "Batch size is torch.Size([512, 256]) and torch.Size([512]).\n"
          ]
        },
        {
          "output_type": "stream",
          "name": "stderr",
          "text": [
            "\rModel training in progress...:  43%|████▎     | 16/37 [00:01<00:02,  8.32it/s]"
          ]
        },
        {
          "output_type": "stream",
          "name": "stdout",
          "text": [
            "Batch size is torch.Size([512, 256]) and torch.Size([512]).\n"
          ]
        },
        {
          "output_type": "stream",
          "name": "stderr",
          "text": [
            "\rModel training in progress...:  46%|████▌     | 17/37 [00:02<00:02,  8.32it/s]"
          ]
        },
        {
          "output_type": "stream",
          "name": "stdout",
          "text": [
            "Batch size is torch.Size([512, 256]) and torch.Size([512]).\n"
          ]
        },
        {
          "output_type": "stream",
          "name": "stderr",
          "text": [
            "\rModel training in progress...:  49%|████▊     | 18/37 [00:02<00:02,  8.28it/s]"
          ]
        },
        {
          "output_type": "stream",
          "name": "stdout",
          "text": [
            "Batch size is torch.Size([512, 256]) and torch.Size([512]).\n"
          ]
        },
        {
          "output_type": "stream",
          "name": "stderr",
          "text": [
            "\rModel training in progress...:  51%|█████▏    | 19/37 [00:02<00:02,  8.28it/s]"
          ]
        },
        {
          "output_type": "stream",
          "name": "stdout",
          "text": [
            "Batch size is torch.Size([512, 256]) and torch.Size([512]).\n"
          ]
        },
        {
          "output_type": "stream",
          "name": "stderr",
          "text": [
            "\rModel training in progress...:  54%|█████▍    | 20/37 [00:02<00:02,  8.21it/s]"
          ]
        },
        {
          "output_type": "stream",
          "name": "stdout",
          "text": [
            "Batch size is torch.Size([512, 256]) and torch.Size([512]).\n"
          ]
        },
        {
          "output_type": "stream",
          "name": "stderr",
          "text": [
            "\rModel training in progress...:  57%|█████▋    | 21/37 [00:02<00:01,  8.28it/s]"
          ]
        },
        {
          "output_type": "stream",
          "name": "stdout",
          "text": [
            "Batch size is torch.Size([512, 256]) and torch.Size([512]).\n"
          ]
        },
        {
          "output_type": "stream",
          "name": "stderr",
          "text": [
            "\rModel training in progress...:  59%|█████▉    | 22/37 [00:02<00:01,  8.32it/s]"
          ]
        },
        {
          "output_type": "stream",
          "name": "stdout",
          "text": [
            "Batch size is torch.Size([512, 256]) and torch.Size([512]).\n"
          ]
        },
        {
          "output_type": "stream",
          "name": "stderr",
          "text": [
            "\rModel training in progress...:  62%|██████▏   | 23/37 [00:02<00:01,  8.32it/s]"
          ]
        },
        {
          "output_type": "stream",
          "name": "stdout",
          "text": [
            "Batch size is torch.Size([512, 256]) and torch.Size([512]).\n"
          ]
        },
        {
          "output_type": "stream",
          "name": "stderr",
          "text": [
            "\rModel training in progress...:  65%|██████▍   | 24/37 [00:02<00:01,  8.35it/s]"
          ]
        },
        {
          "output_type": "stream",
          "name": "stdout",
          "text": [
            "Batch size is torch.Size([512, 256]) and torch.Size([512]).\n"
          ]
        },
        {
          "output_type": "stream",
          "name": "stderr",
          "text": [
            "\rModel training in progress...:  68%|██████▊   | 25/37 [00:03<00:01,  8.36it/s]"
          ]
        },
        {
          "output_type": "stream",
          "name": "stdout",
          "text": [
            "Batch size is torch.Size([512, 256]) and torch.Size([512]).\n"
          ]
        },
        {
          "output_type": "stream",
          "name": "stderr",
          "text": [
            "\rModel training in progress...:  70%|███████   | 26/37 [00:03<00:01,  8.32it/s]"
          ]
        },
        {
          "output_type": "stream",
          "name": "stdout",
          "text": [
            "Batch size is torch.Size([512, 256]) and torch.Size([512]).\n"
          ]
        },
        {
          "output_type": "stream",
          "name": "stderr",
          "text": [
            "\rModel training in progress...:  73%|███████▎  | 27/37 [00:03<00:01,  8.31it/s]"
          ]
        },
        {
          "output_type": "stream",
          "name": "stdout",
          "text": [
            "Batch size is torch.Size([512, 256]) and torch.Size([512]).\n"
          ]
        },
        {
          "output_type": "stream",
          "name": "stderr",
          "text": [
            "\rModel training in progress...:  76%|███████▌  | 28/37 [00:03<00:01,  8.30it/s]"
          ]
        },
        {
          "output_type": "stream",
          "name": "stdout",
          "text": [
            "Batch size is torch.Size([512, 256]) and torch.Size([512]).\n"
          ]
        },
        {
          "output_type": "stream",
          "name": "stderr",
          "text": [
            "\rModel training in progress...:  78%|███████▊  | 29/37 [00:03<00:00,  8.30it/s]"
          ]
        },
        {
          "output_type": "stream",
          "name": "stdout",
          "text": [
            "Batch size is torch.Size([512, 256]) and torch.Size([512]).\n"
          ]
        },
        {
          "output_type": "stream",
          "name": "stderr",
          "text": [
            "\rModel training in progress...:  81%|████████  | 30/37 [00:03<00:00,  8.31it/s]"
          ]
        },
        {
          "output_type": "stream",
          "name": "stdout",
          "text": [
            "Batch size is torch.Size([512, 256]) and torch.Size([512]).\n"
          ]
        },
        {
          "output_type": "stream",
          "name": "stderr",
          "text": [
            "Model training in progress...:  86%|████████▋ | 32/37 [00:04<00:00,  5.61it/s]"
          ]
        },
        {
          "output_type": "stream",
          "name": "stdout",
          "text": [
            "Batch size is torch.Size([512, 256]) and torch.Size([512]).\n",
            "Batch size is torch.Size([512, 256]) and torch.Size([512]).\n"
          ]
        },
        {
          "output_type": "stream",
          "name": "stderr",
          "text": [
            "Model training in progress...:  92%|█████████▏| 34/37 [00:04<00:00,  6.45it/s]"
          ]
        },
        {
          "output_type": "stream",
          "name": "stdout",
          "text": [
            "Batch size is torch.Size([512, 256]) and torch.Size([512]).\n",
            "Batch size is torch.Size([512, 256]) and torch.Size([512]).\n"
          ]
        },
        {
          "output_type": "stream",
          "name": "stderr",
          "text": [
            "Model training in progress...:  97%|█████████▋| 36/37 [00:04<00:00,  6.51it/s]"
          ]
        },
        {
          "output_type": "stream",
          "name": "stdout",
          "text": [
            "Batch size is torch.Size([512, 256]) and torch.Size([512]).\n",
            "Batch size is torch.Size([318, 256]) and torch.Size([318]).\n"
          ]
        },
        {
          "output_type": "stream",
          "name": "stderr",
          "text": [
            "Model training in progress...: 100%|██████████| 37/37 [00:04<00:00,  7.81it/s]\n",
            "Model validation in progress...:  15%|█▌        | 2/13 [00:00<00:00, 14.34it/s]"
          ]
        },
        {
          "output_type": "stream",
          "name": "stdout",
          "text": [
            "Batch size is torch.Size([512, 256]) and torch.Size([512]).\n",
            "Batch size is torch.Size([512, 256]) and torch.Size([512]).\n",
            "Batch size is torch.Size([512, 256]) and torch.Size([512]).\n"
          ]
        },
        {
          "output_type": "stream",
          "name": "stderr",
          "text": [
            "Model validation in progress...:  46%|████▌     | 6/13 [00:00<00:00, 13.92it/s]"
          ]
        },
        {
          "output_type": "stream",
          "name": "stdout",
          "text": [
            "Batch size is torch.Size([512, 256]) and torch.Size([512]).\n",
            "Batch size is torch.Size([512, 256]) and torch.Size([512]).\n",
            "Batch size is torch.Size([512, 256]) and torch.Size([512]).\n"
          ]
        },
        {
          "output_type": "stream",
          "name": "stderr",
          "text": [
            "\rModel validation in progress...:  62%|██████▏   | 8/13 [00:00<00:00, 13.73it/s]"
          ]
        },
        {
          "output_type": "stream",
          "name": "stdout",
          "text": [
            "Batch size is torch.Size([512, 256]) and torch.Size([512]).\n",
            "Batch size is torch.Size([512, 256]) and torch.Size([512]).\n",
            "Batch size is torch.Size([512, 256]) and torch.Size([512]).\n"
          ]
        },
        {
          "output_type": "stream",
          "name": "stderr",
          "text": [
            "\rModel validation in progress...:  77%|███████▋  | 10/13 [00:00<00:00, 13.00it/s]"
          ]
        },
        {
          "output_type": "stream",
          "name": "stdout",
          "text": [
            "Batch size is torch.Size([512, 256]) and torch.Size([512]).\n",
            "Batch size is torch.Size([512, 256]) and torch.Size([512]).\n",
            "Batch size is torch.Size([512, 256]) and torch.Size([512]).\n"
          ]
        },
        {
          "output_type": "stream",
          "name": "stderr",
          "text": [
            "Model validation in progress...: 100%|██████████| 13/13 [00:00<00:00, 14.26it/s]\n"
          ]
        },
        {
          "output_type": "stream",
          "name": "stdout",
          "text": [
            "Batch size is torch.Size([106, 256]) and torch.Size([106]).\n",
            "Epoch: 6\n",
            "Training loss: 0.340, Training accuracy: 0.885\n",
            "Validation loss: 0.366, Validation accuracy: 0.863\n",
            "\n",
            "\n"
          ]
        },
        {
          "output_type": "stream",
          "name": "stderr",
          "text": [
            "Model training in progress...:   3%|▎         | 1/37 [00:00<00:05,  7.11it/s]"
          ]
        },
        {
          "output_type": "stream",
          "name": "stdout",
          "text": [
            "Batch size is torch.Size([512, 256]) and torch.Size([512]).\n",
            "Batch size is torch.Size([512, 256]) and torch.Size([512]).\n"
          ]
        },
        {
          "output_type": "stream",
          "name": "stderr",
          "text": [
            "\rModel training in progress...:   5%|▌         | 2/37 [00:00<00:04,  7.69it/s]"
          ]
        },
        {
          "output_type": "stream",
          "name": "stdout",
          "text": [
            "Batch size is torch.Size([512, 256]) and torch.Size([512]).\n"
          ]
        },
        {
          "output_type": "stream",
          "name": "stderr",
          "text": [
            "\rModel training in progress...:   8%|▊         | 3/37 [00:00<00:04,  7.96it/s]"
          ]
        },
        {
          "output_type": "stream",
          "name": "stdout",
          "text": [
            "Batch size is torch.Size([512, 256]) and torch.Size([512]).\n"
          ]
        },
        {
          "output_type": "stream",
          "name": "stderr",
          "text": [
            "\rModel training in progress...:  11%|█         | 4/37 [00:00<00:04,  7.83it/s]"
          ]
        },
        {
          "output_type": "stream",
          "name": "stdout",
          "text": [
            "Batch size is torch.Size([512, 256]) and torch.Size([512]).\n"
          ]
        },
        {
          "output_type": "stream",
          "name": "stderr",
          "text": [
            "\rModel training in progress...:  14%|█▎        | 5/37 [00:00<00:04,  7.99it/s]"
          ]
        },
        {
          "output_type": "stream",
          "name": "stdout",
          "text": [
            "Batch size is torch.Size([512, 256]) and torch.Size([512]).\n"
          ]
        },
        {
          "output_type": "stream",
          "name": "stderr",
          "text": [
            "\rModel training in progress...:  16%|█▌        | 6/37 [00:00<00:03,  8.08it/s]"
          ]
        },
        {
          "output_type": "stream",
          "name": "stdout",
          "text": [
            "Batch size is torch.Size([512, 256]) and torch.Size([512]).\n"
          ]
        },
        {
          "output_type": "stream",
          "name": "stderr",
          "text": [
            "\rModel training in progress...:  19%|█▉        | 7/37 [00:00<00:03,  8.08it/s]"
          ]
        },
        {
          "output_type": "stream",
          "name": "stdout",
          "text": [
            "Batch size is torch.Size([512, 256]) and torch.Size([512]).\n"
          ]
        },
        {
          "output_type": "stream",
          "name": "stderr",
          "text": [
            "\rModel training in progress...:  22%|██▏       | 8/37 [00:01<00:03,  8.15it/s]"
          ]
        },
        {
          "output_type": "stream",
          "name": "stdout",
          "text": [
            "Batch size is torch.Size([512, 256]) and torch.Size([512]).\n"
          ]
        },
        {
          "output_type": "stream",
          "name": "stderr",
          "text": [
            "\rModel training in progress...:  24%|██▍       | 9/37 [00:01<00:03,  8.21it/s]"
          ]
        },
        {
          "output_type": "stream",
          "name": "stdout",
          "text": [
            "Batch size is torch.Size([512, 256]) and torch.Size([512]).\n"
          ]
        },
        {
          "output_type": "stream",
          "name": "stderr",
          "text": [
            "\rModel training in progress...:  27%|██▋       | 10/37 [00:01<00:03,  8.25it/s]"
          ]
        },
        {
          "output_type": "stream",
          "name": "stdout",
          "text": [
            "Batch size is torch.Size([512, 256]) and torch.Size([512]).\n"
          ]
        },
        {
          "output_type": "stream",
          "name": "stderr",
          "text": [
            "\rModel training in progress...:  30%|██▉       | 11/37 [00:01<00:03,  8.27it/s]"
          ]
        },
        {
          "output_type": "stream",
          "name": "stdout",
          "text": [
            "Batch size is torch.Size([512, 256]) and torch.Size([512]).\n"
          ]
        },
        {
          "output_type": "stream",
          "name": "stderr",
          "text": [
            "\rModel training in progress...:  32%|███▏      | 12/37 [00:01<00:03,  8.29it/s]"
          ]
        },
        {
          "output_type": "stream",
          "name": "stdout",
          "text": [
            "Batch size is torch.Size([512, 256]) and torch.Size([512]).\n"
          ]
        },
        {
          "output_type": "stream",
          "name": "stderr",
          "text": [
            "\rModel training in progress...:  35%|███▌      | 13/37 [00:01<00:02,  8.29it/s]"
          ]
        },
        {
          "output_type": "stream",
          "name": "stdout",
          "text": [
            "Batch size is torch.Size([512, 256]) and torch.Size([512]).\n"
          ]
        },
        {
          "output_type": "stream",
          "name": "stderr",
          "text": [
            "\rModel training in progress...:  38%|███▊      | 14/37 [00:01<00:02,  8.28it/s]"
          ]
        },
        {
          "output_type": "stream",
          "name": "stdout",
          "text": [
            "Batch size is torch.Size([512, 256]) and torch.Size([512]).\n"
          ]
        },
        {
          "output_type": "stream",
          "name": "stderr",
          "text": [
            "\rModel training in progress...:  41%|████      | 15/37 [00:01<00:02,  8.10it/s]"
          ]
        },
        {
          "output_type": "stream",
          "name": "stdout",
          "text": [
            "Batch size is torch.Size([512, 256]) and torch.Size([512]).\n"
          ]
        },
        {
          "output_type": "stream",
          "name": "stderr",
          "text": [
            "\rModel training in progress...:  43%|████▎     | 16/37 [00:01<00:02,  8.14it/s]"
          ]
        },
        {
          "output_type": "stream",
          "name": "stdout",
          "text": [
            "Batch size is torch.Size([512, 256]) and torch.Size([512]).\n"
          ]
        },
        {
          "output_type": "stream",
          "name": "stderr",
          "text": [
            "\rModel training in progress...:  46%|████▌     | 17/37 [00:02<00:02,  8.21it/s]"
          ]
        },
        {
          "output_type": "stream",
          "name": "stdout",
          "text": [
            "Batch size is torch.Size([512, 256]) and torch.Size([512]).\n"
          ]
        },
        {
          "output_type": "stream",
          "name": "stderr",
          "text": [
            "\rModel training in progress...:  49%|████▊     | 18/37 [00:02<00:02,  8.25it/s]"
          ]
        },
        {
          "output_type": "stream",
          "name": "stdout",
          "text": [
            "Batch size is torch.Size([512, 256]) and torch.Size([512]).\n"
          ]
        },
        {
          "output_type": "stream",
          "name": "stderr",
          "text": [
            "\rModel training in progress...:  51%|█████▏    | 19/37 [00:02<00:02,  8.29it/s]"
          ]
        },
        {
          "output_type": "stream",
          "name": "stdout",
          "text": [
            "Batch size is torch.Size([512, 256]) and torch.Size([512]).\n"
          ]
        },
        {
          "output_type": "stream",
          "name": "stderr",
          "text": [
            "\rModel training in progress...:  54%|█████▍    | 20/37 [00:02<00:02,  8.27it/s]"
          ]
        },
        {
          "output_type": "stream",
          "name": "stdout",
          "text": [
            "Batch size is torch.Size([512, 256]) and torch.Size([512]).\n"
          ]
        },
        {
          "output_type": "stream",
          "name": "stderr",
          "text": [
            "\rModel training in progress...:  57%|█████▋    | 21/37 [00:02<00:01,  8.09it/s]"
          ]
        },
        {
          "output_type": "stream",
          "name": "stdout",
          "text": [
            "Batch size is torch.Size([512, 256]) and torch.Size([512]).\n"
          ]
        },
        {
          "output_type": "stream",
          "name": "stderr",
          "text": [
            "\rModel training in progress...:  59%|█████▉    | 22/37 [00:02<00:01,  7.97it/s]"
          ]
        },
        {
          "output_type": "stream",
          "name": "stdout",
          "text": [
            "Batch size is torch.Size([512, 256]) and torch.Size([512]).\n"
          ]
        },
        {
          "output_type": "stream",
          "name": "stderr",
          "text": [
            "\rModel training in progress...:  62%|██████▏   | 23/37 [00:02<00:01,  8.01it/s]"
          ]
        },
        {
          "output_type": "stream",
          "name": "stdout",
          "text": [
            "Batch size is torch.Size([512, 256]) and torch.Size([512]).\n"
          ]
        },
        {
          "output_type": "stream",
          "name": "stderr",
          "text": [
            "\rModel training in progress...:  65%|██████▍   | 24/37 [00:02<00:01,  8.06it/s]"
          ]
        },
        {
          "output_type": "stream",
          "name": "stdout",
          "text": [
            "Batch size is torch.Size([512, 256]) and torch.Size([512]).\n"
          ]
        },
        {
          "output_type": "stream",
          "name": "stderr",
          "text": [
            "\rModel training in progress...:  68%|██████▊   | 25/37 [00:03<00:01,  8.06it/s]"
          ]
        },
        {
          "output_type": "stream",
          "name": "stdout",
          "text": [
            "Batch size is torch.Size([512, 256]) and torch.Size([512]).\n"
          ]
        },
        {
          "output_type": "stream",
          "name": "stderr",
          "text": [
            "\rModel training in progress...:  70%|███████   | 26/37 [00:03<00:01,  8.03it/s]"
          ]
        },
        {
          "output_type": "stream",
          "name": "stdout",
          "text": [
            "Batch size is torch.Size([512, 256]) and torch.Size([512]).\n"
          ]
        },
        {
          "output_type": "stream",
          "name": "stderr",
          "text": [
            "\rModel training in progress...:  73%|███████▎  | 27/37 [00:03<00:01,  8.08it/s]"
          ]
        },
        {
          "output_type": "stream",
          "name": "stdout",
          "text": [
            "Batch size is torch.Size([512, 256]) and torch.Size([512]).\n"
          ]
        },
        {
          "output_type": "stream",
          "name": "stderr",
          "text": [
            "\rModel training in progress...:  76%|███████▌  | 28/37 [00:03<00:01,  8.14it/s]"
          ]
        },
        {
          "output_type": "stream",
          "name": "stdout",
          "text": [
            "Batch size is torch.Size([512, 256]) and torch.Size([512]).\n"
          ]
        },
        {
          "output_type": "stream",
          "name": "stderr",
          "text": [
            "\rModel training in progress...:  78%|███████▊  | 29/37 [00:03<00:00,  8.21it/s]"
          ]
        },
        {
          "output_type": "stream",
          "name": "stdout",
          "text": [
            "Batch size is torch.Size([512, 256]) and torch.Size([512]).\n"
          ]
        },
        {
          "output_type": "stream",
          "name": "stderr",
          "text": [
            "\rModel training in progress...:  81%|████████  | 30/37 [00:03<00:00,  8.21it/s]"
          ]
        },
        {
          "output_type": "stream",
          "name": "stdout",
          "text": [
            "Batch size is torch.Size([512, 256]) and torch.Size([512]).\n"
          ]
        },
        {
          "output_type": "stream",
          "name": "stderr",
          "text": [
            "\rModel training in progress...:  84%|████████▍ | 31/37 [00:03<00:00,  8.24it/s]"
          ]
        },
        {
          "output_type": "stream",
          "name": "stdout",
          "text": [
            "Batch size is torch.Size([512, 256]) and torch.Size([512]).\n"
          ]
        },
        {
          "output_type": "stream",
          "name": "stderr",
          "text": [
            "\rModel training in progress...:  86%|████████▋ | 32/37 [00:03<00:00,  8.24it/s]"
          ]
        },
        {
          "output_type": "stream",
          "name": "stdout",
          "text": [
            "Batch size is torch.Size([512, 256]) and torch.Size([512]).\n"
          ]
        },
        {
          "output_type": "stream",
          "name": "stderr",
          "text": [
            "\rModel training in progress...:  89%|████████▉ | 33/37 [00:04<00:00,  8.26it/s]"
          ]
        },
        {
          "output_type": "stream",
          "name": "stdout",
          "text": [
            "Batch size is torch.Size([512, 256]) and torch.Size([512]).\n"
          ]
        },
        {
          "output_type": "stream",
          "name": "stderr",
          "text": [
            "\rModel training in progress...:  92%|█████████▏| 34/37 [00:04<00:00,  8.31it/s]"
          ]
        },
        {
          "output_type": "stream",
          "name": "stdout",
          "text": [
            "Batch size is torch.Size([512, 256]) and torch.Size([512]).\n"
          ]
        },
        {
          "output_type": "stream",
          "name": "stderr",
          "text": [
            "\rModel training in progress...:  95%|█████████▍| 35/37 [00:04<00:00,  8.28it/s]"
          ]
        },
        {
          "output_type": "stream",
          "name": "stdout",
          "text": [
            "Batch size is torch.Size([512, 256]) and torch.Size([512]).\n"
          ]
        },
        {
          "output_type": "stream",
          "name": "stderr",
          "text": [
            "Model training in progress...: 100%|██████████| 37/37 [00:04<00:00,  8.23it/s]\n"
          ]
        },
        {
          "output_type": "stream",
          "name": "stdout",
          "text": [
            "Batch size is torch.Size([318, 256]) and torch.Size([318]).\n"
          ]
        },
        {
          "output_type": "stream",
          "name": "stderr",
          "text": [
            "Model validation in progress...:  15%|█▌        | 2/13 [00:00<00:00, 17.27it/s]"
          ]
        },
        {
          "output_type": "stream",
          "name": "stdout",
          "text": [
            "Batch size is torch.Size([512, 256]) and torch.Size([512]).\n",
            "Batch size is torch.Size([512, 256]) and torch.Size([512]).\n",
            "Batch size is torch.Size([512, 256]) and torch.Size([512]).\n",
            "Batch size is torch.Size([512, 256]) and torch.Size([512]).\n"
          ]
        },
        {
          "output_type": "stream",
          "name": "stderr",
          "text": [
            "\rModel validation in progress...:  31%|███       | 4/13 [00:00<00:00, 16.00it/s]"
          ]
        },
        {
          "output_type": "stream",
          "name": "stdout",
          "text": [
            "Batch size is torch.Size([512, 256]) and torch.Size([512]).\n",
            "Batch size is torch.Size([512, 256]) and torch.Size([512]).\n"
          ]
        },
        {
          "output_type": "stream",
          "name": "stderr",
          "text": [
            "\rModel validation in progress...:  46%|████▌     | 6/13 [00:00<00:00, 16.32it/s]"
          ]
        },
        {
          "output_type": "stream",
          "name": "stdout",
          "text": [
            "Batch size is torch.Size([512, 256]) and torch.Size([512]).\n",
            "Batch size is torch.Size([512, 256]) and torch.Size([512]).\n"
          ]
        },
        {
          "output_type": "stream",
          "name": "stderr",
          "text": [
            "\rModel validation in progress...:  62%|██████▏   | 8/13 [00:00<00:00, 16.66it/s]"
          ]
        },
        {
          "output_type": "stream",
          "name": "stdout",
          "text": [
            "Batch size is torch.Size([512, 256]) and torch.Size([512]).\n",
            "Batch size is torch.Size([512, 256]) and torch.Size([512]).\n"
          ]
        },
        {
          "output_type": "stream",
          "name": "stderr",
          "text": [
            "\rModel validation in progress...:  77%|███████▋  | 10/13 [00:00<00:00, 16.92it/s]"
          ]
        },
        {
          "output_type": "stream",
          "name": "stdout",
          "text": [
            "Batch size is torch.Size([512, 256]) and torch.Size([512]).\n",
            "Batch size is torch.Size([512, 256]) and torch.Size([512]).\n"
          ]
        },
        {
          "output_type": "stream",
          "name": "stderr",
          "text": [
            "Model validation in progress...: 100%|██████████| 13/13 [00:00<00:00, 17.92it/s]\n"
          ]
        },
        {
          "output_type": "stream",
          "name": "stdout",
          "text": [
            "Batch size is torch.Size([106, 256]) and torch.Size([106]).\n",
            "Epoch: 7\n",
            "Training loss: 0.307, Training accuracy: 0.896\n",
            "Validation loss: 0.345, Validation accuracy: 0.867\n",
            "\n",
            "\n"
          ]
        },
        {
          "output_type": "stream",
          "name": "stderr",
          "text": [
            "\rModel training in progress...:   0%|          | 0/37 [00:00<?, ?it/s]"
          ]
        },
        {
          "output_type": "stream",
          "name": "stdout",
          "text": [
            "Batch size is torch.Size([512, 256]) and torch.Size([512]).\n"
          ]
        },
        {
          "output_type": "stream",
          "name": "stderr",
          "text": [
            "\rModel training in progress...:   3%|▎         | 1/37 [00:00<00:04,  8.21it/s]"
          ]
        },
        {
          "output_type": "stream",
          "name": "stdout",
          "text": [
            "Batch size is torch.Size([512, 256]) and torch.Size([512]).\n"
          ]
        },
        {
          "output_type": "stream",
          "name": "stderr",
          "text": [
            "\rModel training in progress...:   5%|▌         | 2/37 [00:00<00:04,  8.21it/s]"
          ]
        },
        {
          "output_type": "stream",
          "name": "stdout",
          "text": [
            "Batch size is torch.Size([512, 256]) and torch.Size([512]).\n"
          ]
        },
        {
          "output_type": "stream",
          "name": "stderr",
          "text": [
            "\rModel training in progress...:   8%|▊         | 3/37 [00:00<00:04,  8.24it/s]"
          ]
        },
        {
          "output_type": "stream",
          "name": "stdout",
          "text": [
            "Batch size is torch.Size([512, 256]) and torch.Size([512]).\n"
          ]
        },
        {
          "output_type": "stream",
          "name": "stderr",
          "text": [
            "\rModel training in progress...:  11%|█         | 4/37 [00:00<00:04,  8.24it/s]"
          ]
        },
        {
          "output_type": "stream",
          "name": "stdout",
          "text": [
            "Batch size is torch.Size([512, 256]) and torch.Size([512]).\n"
          ]
        },
        {
          "output_type": "stream",
          "name": "stderr",
          "text": [
            "\rModel training in progress...:  14%|█▎        | 5/37 [00:00<00:03,  8.17it/s]"
          ]
        },
        {
          "output_type": "stream",
          "name": "stdout",
          "text": [
            "Batch size is torch.Size([512, 256]) and torch.Size([512]).\n"
          ]
        },
        {
          "output_type": "stream",
          "name": "stderr",
          "text": [
            "\rModel training in progress...:  16%|█▌        | 6/37 [00:00<00:03,  8.25it/s]"
          ]
        },
        {
          "output_type": "stream",
          "name": "stdout",
          "text": [
            "Batch size is torch.Size([512, 256]) and torch.Size([512]).\n"
          ]
        },
        {
          "output_type": "stream",
          "name": "stderr",
          "text": [
            "\rModel training in progress...:  19%|█▉        | 7/37 [00:00<00:03,  8.30it/s]"
          ]
        },
        {
          "output_type": "stream",
          "name": "stdout",
          "text": [
            "Batch size is torch.Size([512, 256]) and torch.Size([512]).\n"
          ]
        },
        {
          "output_type": "stream",
          "name": "stderr",
          "text": [
            "\rModel training in progress...:  22%|██▏       | 8/37 [00:00<00:03,  8.31it/s]"
          ]
        },
        {
          "output_type": "stream",
          "name": "stdout",
          "text": [
            "Batch size is torch.Size([512, 256]) and torch.Size([512]).\n"
          ]
        },
        {
          "output_type": "stream",
          "name": "stderr",
          "text": [
            "\rModel training in progress...:  24%|██▍       | 9/37 [00:01<00:03,  8.32it/s]"
          ]
        },
        {
          "output_type": "stream",
          "name": "stdout",
          "text": [
            "Batch size is torch.Size([512, 256]) and torch.Size([512]).\n"
          ]
        },
        {
          "output_type": "stream",
          "name": "stderr",
          "text": [
            "\rModel training in progress...:  27%|██▋       | 10/37 [00:01<00:03,  8.31it/s]"
          ]
        },
        {
          "output_type": "stream",
          "name": "stdout",
          "text": [
            "Batch size is torch.Size([512, 256]) and torch.Size([512]).\n"
          ]
        },
        {
          "output_type": "stream",
          "name": "stderr",
          "text": [
            "\rModel training in progress...:  30%|██▉       | 11/37 [00:01<00:03,  8.29it/s]"
          ]
        },
        {
          "output_type": "stream",
          "name": "stdout",
          "text": [
            "Batch size is torch.Size([512, 256]) and torch.Size([512]).\n"
          ]
        },
        {
          "output_type": "stream",
          "name": "stderr",
          "text": [
            "\rModel training in progress...:  32%|███▏      | 12/37 [00:01<00:03,  8.26it/s]"
          ]
        },
        {
          "output_type": "stream",
          "name": "stdout",
          "text": [
            "Batch size is torch.Size([512, 256]) and torch.Size([512]).\n"
          ]
        },
        {
          "output_type": "stream",
          "name": "stderr",
          "text": [
            "\rModel training in progress...:  35%|███▌      | 13/37 [00:01<00:02,  8.25it/s]"
          ]
        },
        {
          "output_type": "stream",
          "name": "stdout",
          "text": [
            "Batch size is torch.Size([512, 256]) and torch.Size([512]).\n"
          ]
        },
        {
          "output_type": "stream",
          "name": "stderr",
          "text": [
            "\rModel training in progress...:  38%|███▊      | 14/37 [00:01<00:02,  8.15it/s]"
          ]
        },
        {
          "output_type": "stream",
          "name": "stdout",
          "text": [
            "Batch size is torch.Size([512, 256]) and torch.Size([512]).\n"
          ]
        },
        {
          "output_type": "stream",
          "name": "stderr",
          "text": [
            "\rModel training in progress...:  41%|████      | 15/37 [00:01<00:02,  8.20it/s]"
          ]
        },
        {
          "output_type": "stream",
          "name": "stdout",
          "text": [
            "Batch size is torch.Size([512, 256]) and torch.Size([512]).\n"
          ]
        },
        {
          "output_type": "stream",
          "name": "stderr",
          "text": [
            "\rModel training in progress...:  43%|████▎     | 16/37 [00:01<00:02,  8.20it/s]"
          ]
        },
        {
          "output_type": "stream",
          "name": "stdout",
          "text": [
            "Batch size is torch.Size([512, 256]) and torch.Size([512]).\n"
          ]
        },
        {
          "output_type": "stream",
          "name": "stderr",
          "text": [
            "\rModel training in progress...:  46%|████▌     | 17/37 [00:02<00:02,  8.21it/s]"
          ]
        },
        {
          "output_type": "stream",
          "name": "stdout",
          "text": [
            "Batch size is torch.Size([512, 256]) and torch.Size([512]).\n"
          ]
        },
        {
          "output_type": "stream",
          "name": "stderr",
          "text": [
            "\rModel training in progress...:  49%|████▊     | 18/37 [00:02<00:02,  8.22it/s]"
          ]
        },
        {
          "output_type": "stream",
          "name": "stdout",
          "text": [
            "Batch size is torch.Size([512, 256]) and torch.Size([512]).\n"
          ]
        },
        {
          "output_type": "stream",
          "name": "stderr",
          "text": [
            "\rModel training in progress...:  51%|█████▏    | 19/37 [00:02<00:02,  8.23it/s]"
          ]
        },
        {
          "output_type": "stream",
          "name": "stdout",
          "text": [
            "Batch size is torch.Size([512, 256]) and torch.Size([512]).\n"
          ]
        },
        {
          "output_type": "stream",
          "name": "stderr",
          "text": [
            "\rModel training in progress...:  54%|█████▍    | 20/37 [00:02<00:02,  8.22it/s]"
          ]
        },
        {
          "output_type": "stream",
          "name": "stdout",
          "text": [
            "Batch size is torch.Size([512, 256]) and torch.Size([512]).\n"
          ]
        },
        {
          "output_type": "stream",
          "name": "stderr",
          "text": [
            "\rModel training in progress...:  57%|█████▋    | 21/37 [00:02<00:01,  8.25it/s]"
          ]
        },
        {
          "output_type": "stream",
          "name": "stdout",
          "text": [
            "Batch size is torch.Size([512, 256]) and torch.Size([512]).\n"
          ]
        },
        {
          "output_type": "stream",
          "name": "stderr",
          "text": [
            "\rModel training in progress...:  59%|█████▉    | 22/37 [00:02<00:01,  8.23it/s]"
          ]
        },
        {
          "output_type": "stream",
          "name": "stdout",
          "text": [
            "Batch size is torch.Size([512, 256]) and torch.Size([512]).\n"
          ]
        },
        {
          "output_type": "stream",
          "name": "stderr",
          "text": [
            "\rModel training in progress...:  62%|██████▏   | 23/37 [00:02<00:01,  8.28it/s]"
          ]
        },
        {
          "output_type": "stream",
          "name": "stdout",
          "text": [
            "Batch size is torch.Size([512, 256]) and torch.Size([512]).\n"
          ]
        },
        {
          "output_type": "stream",
          "name": "stderr",
          "text": [
            "\rModel training in progress...:  65%|██████▍   | 24/37 [00:02<00:01,  8.24it/s]"
          ]
        },
        {
          "output_type": "stream",
          "name": "stdout",
          "text": [
            "Batch size is torch.Size([512, 256]) and torch.Size([512]).\n"
          ]
        },
        {
          "output_type": "stream",
          "name": "stderr",
          "text": [
            "\rModel training in progress...:  68%|██████▊   | 25/37 [00:03<00:01,  8.25it/s]"
          ]
        },
        {
          "output_type": "stream",
          "name": "stdout",
          "text": [
            "Batch size is torch.Size([512, 256]) and torch.Size([512]).\n"
          ]
        },
        {
          "output_type": "stream",
          "name": "stderr",
          "text": [
            "\rModel training in progress...:  70%|███████   | 26/37 [00:03<00:01,  8.25it/s]"
          ]
        },
        {
          "output_type": "stream",
          "name": "stdout",
          "text": [
            "Batch size is torch.Size([512, 256]) and torch.Size([512]).\n"
          ]
        },
        {
          "output_type": "stream",
          "name": "stderr",
          "text": [
            "\rModel training in progress...:  73%|███████▎  | 27/37 [00:03<00:01,  8.25it/s]"
          ]
        },
        {
          "output_type": "stream",
          "name": "stdout",
          "text": [
            "Batch size is torch.Size([512, 256]) and torch.Size([512]).\n"
          ]
        },
        {
          "output_type": "stream",
          "name": "stderr",
          "text": [
            "\rModel training in progress...:  76%|███████▌  | 28/37 [00:03<00:01,  8.28it/s]"
          ]
        },
        {
          "output_type": "stream",
          "name": "stdout",
          "text": [
            "Batch size is torch.Size([512, 256]) and torch.Size([512]).\n"
          ]
        },
        {
          "output_type": "stream",
          "name": "stderr",
          "text": [
            "\rModel training in progress...:  78%|███████▊  | 29/37 [00:03<00:00,  8.37it/s]"
          ]
        },
        {
          "output_type": "stream",
          "name": "stdout",
          "text": [
            "Batch size is torch.Size([512, 256]) and torch.Size([512]).\n"
          ]
        },
        {
          "output_type": "stream",
          "name": "stderr",
          "text": [
            "\rModel training in progress...:  81%|████████  | 30/37 [00:03<00:00,  8.35it/s]"
          ]
        },
        {
          "output_type": "stream",
          "name": "stdout",
          "text": [
            "Batch size is torch.Size([512, 256]) and torch.Size([512]).\n"
          ]
        },
        {
          "output_type": "stream",
          "name": "stderr",
          "text": [
            "\rModel training in progress...:  84%|████████▍ | 31/37 [00:03<00:00,  8.10it/s]"
          ]
        },
        {
          "output_type": "stream",
          "name": "stdout",
          "text": [
            "Batch size is torch.Size([512, 256]) and torch.Size([512]).\n"
          ]
        },
        {
          "output_type": "stream",
          "name": "stderr",
          "text": [
            "\rModel training in progress...:  86%|████████▋ | 32/37 [00:03<00:00,  8.06it/s]"
          ]
        },
        {
          "output_type": "stream",
          "name": "stdout",
          "text": [
            "Batch size is torch.Size([512, 256]) and torch.Size([512]).\n"
          ]
        },
        {
          "output_type": "stream",
          "name": "stderr",
          "text": [
            "\rModel training in progress...:  89%|████████▉ | 33/37 [00:04<00:00,  8.12it/s]"
          ]
        },
        {
          "output_type": "stream",
          "name": "stdout",
          "text": [
            "Batch size is torch.Size([512, 256]) and torch.Size([512]).\n"
          ]
        },
        {
          "output_type": "stream",
          "name": "stderr",
          "text": [
            "\rModel training in progress...:  92%|█████████▏| 34/37 [00:04<00:00,  8.16it/s]"
          ]
        },
        {
          "output_type": "stream",
          "name": "stdout",
          "text": [
            "Batch size is torch.Size([512, 256]) and torch.Size([512]).\n"
          ]
        },
        {
          "output_type": "stream",
          "name": "stderr",
          "text": [
            "\rModel training in progress...:  95%|█████████▍| 35/37 [00:04<00:00,  8.19it/s]"
          ]
        },
        {
          "output_type": "stream",
          "name": "stdout",
          "text": [
            "Batch size is torch.Size([512, 256]) and torch.Size([512]).\n"
          ]
        },
        {
          "output_type": "stream",
          "name": "stderr",
          "text": [
            "Model training in progress...: 100%|██████████| 37/37 [00:04<00:00,  8.30it/s]\n"
          ]
        },
        {
          "output_type": "stream",
          "name": "stdout",
          "text": [
            "Batch size is torch.Size([318, 256]) and torch.Size([318]).\n"
          ]
        },
        {
          "output_type": "stream",
          "name": "stderr",
          "text": [
            "\rModel validation in progress...:   0%|          | 0/13 [00:00<?, ?it/s]"
          ]
        },
        {
          "output_type": "stream",
          "name": "stdout",
          "text": [
            "Batch size is torch.Size([512, 256]) and torch.Size([512]).\n",
            "Batch size is torch.Size([512, 256]) and torch.Size([512]).\n"
          ]
        },
        {
          "output_type": "stream",
          "name": "stderr",
          "text": [
            "\rModel validation in progress...:  15%|█▌        | 2/13 [00:00<00:00, 15.33it/s]"
          ]
        },
        {
          "output_type": "stream",
          "name": "stdout",
          "text": [
            "Batch size is torch.Size([512, 256]) and torch.Size([512]).\n",
            "Batch size is torch.Size([512, 256]) and torch.Size([512]).\n"
          ]
        },
        {
          "output_type": "stream",
          "name": "stderr",
          "text": [
            "\rModel validation in progress...:  31%|███       | 4/13 [00:00<00:00, 15.49it/s]"
          ]
        },
        {
          "output_type": "stream",
          "name": "stdout",
          "text": [
            "Batch size is torch.Size([512, 256]) and torch.Size([512]).\n",
            "Batch size is torch.Size([512, 256]) and torch.Size([512]).\n"
          ]
        },
        {
          "output_type": "stream",
          "name": "stderr",
          "text": [
            "\rModel validation in progress...:  46%|████▌     | 6/13 [00:00<00:00, 15.43it/s]"
          ]
        },
        {
          "output_type": "stream",
          "name": "stdout",
          "text": [
            "Batch size is torch.Size([512, 256]) and torch.Size([512]).\n"
          ]
        },
        {
          "output_type": "stream",
          "name": "stderr",
          "text": [
            "\rModel validation in progress...:  62%|██████▏   | 8/13 [00:00<00:00, 14.56it/s]"
          ]
        },
        {
          "output_type": "stream",
          "name": "stdout",
          "text": [
            "Batch size is torch.Size([512, 256]) and torch.Size([512]).\n",
            "Batch size is torch.Size([512, 256]) and torch.Size([512]).\n",
            "Batch size is torch.Size([512, 256]) and torch.Size([512]).\n"
          ]
        },
        {
          "output_type": "stream",
          "name": "stderr",
          "text": [
            "\rModel validation in progress...:  77%|███████▋  | 10/13 [00:00<00:00, 14.03it/s]"
          ]
        },
        {
          "output_type": "stream",
          "name": "stdout",
          "text": [
            "Batch size is torch.Size([512, 256]) and torch.Size([512]).\n",
            "Batch size is torch.Size([512, 256]) and torch.Size([512]).\n"
          ]
        },
        {
          "output_type": "stream",
          "name": "stderr",
          "text": [
            "Model validation in progress...: 100%|██████████| 13/13 [00:00<00:00, 15.23it/s]\n"
          ]
        },
        {
          "output_type": "stream",
          "name": "stdout",
          "text": [
            "Batch size is torch.Size([106, 256]) and torch.Size([106]).\n",
            "Epoch: 8\n",
            "Training loss: 0.280, Training accuracy: 0.907\n",
            "Validation loss: 0.330, Validation accuracy: 0.871\n",
            "\n",
            "\n"
          ]
        },
        {
          "output_type": "stream",
          "name": "stderr",
          "text": [
            "\rModel training in progress...:   0%|          | 0/37 [00:00<?, ?it/s]"
          ]
        },
        {
          "output_type": "stream",
          "name": "stdout",
          "text": [
            "Batch size is torch.Size([512, 256]) and torch.Size([512]).\n"
          ]
        },
        {
          "output_type": "stream",
          "name": "stderr",
          "text": [
            "\rModel training in progress...:   3%|▎         | 1/37 [00:00<00:05,  6.74it/s]"
          ]
        },
        {
          "output_type": "stream",
          "name": "stdout",
          "text": [
            "Batch size is torch.Size([512, 256]) and torch.Size([512]).\n"
          ]
        },
        {
          "output_type": "stream",
          "name": "stderr",
          "text": [
            "\rModel training in progress...:   5%|▌         | 2/37 [00:00<00:05,  6.61it/s]"
          ]
        },
        {
          "output_type": "stream",
          "name": "stdout",
          "text": [
            "Batch size is torch.Size([512, 256]) and torch.Size([512]).\n"
          ]
        },
        {
          "output_type": "stream",
          "name": "stderr",
          "text": [
            "\rModel training in progress...:   8%|▊         | 3/37 [00:00<00:05,  6.78it/s]"
          ]
        },
        {
          "output_type": "stream",
          "name": "stdout",
          "text": [
            "Batch size is torch.Size([512, 256]) and torch.Size([512]).\n"
          ]
        },
        {
          "output_type": "stream",
          "name": "stderr",
          "text": [
            "\rModel training in progress...:  11%|█         | 4/37 [00:00<00:04,  6.76it/s]"
          ]
        },
        {
          "output_type": "stream",
          "name": "stdout",
          "text": [
            "Batch size is torch.Size([512, 256]) and torch.Size([512]).\n"
          ]
        },
        {
          "output_type": "stream",
          "name": "stderr",
          "text": [
            "\rModel training in progress...:  14%|█▎        | 5/37 [00:00<00:04,  6.63it/s]"
          ]
        },
        {
          "output_type": "stream",
          "name": "stdout",
          "text": [
            "Batch size is torch.Size([512, 256]) and torch.Size([512]).\n"
          ]
        },
        {
          "output_type": "stream",
          "name": "stderr",
          "text": [
            "\rModel training in progress...:  16%|█▌        | 6/37 [00:00<00:04,  6.58it/s]"
          ]
        },
        {
          "output_type": "stream",
          "name": "stdout",
          "text": [
            "Batch size is torch.Size([512, 256]) and torch.Size([512]).\n"
          ]
        },
        {
          "output_type": "stream",
          "name": "stderr",
          "text": [
            "\rModel training in progress...:  19%|█▉        | 7/37 [00:01<00:04,  6.74it/s]"
          ]
        },
        {
          "output_type": "stream",
          "name": "stdout",
          "text": [
            "Batch size is torch.Size([512, 256]) and torch.Size([512]).\n"
          ]
        },
        {
          "output_type": "stream",
          "name": "stderr",
          "text": [
            "\rModel training in progress...:  22%|██▏       | 8/37 [00:01<00:04,  7.17it/s]"
          ]
        },
        {
          "output_type": "stream",
          "name": "stdout",
          "text": [
            "Batch size is torch.Size([512, 256]) and torch.Size([512]).\n"
          ]
        },
        {
          "output_type": "stream",
          "name": "stderr",
          "text": [
            "\rModel training in progress...:  24%|██▍       | 9/37 [00:01<00:03,  7.46it/s]"
          ]
        },
        {
          "output_type": "stream",
          "name": "stdout",
          "text": [
            "Batch size is torch.Size([512, 256]) and torch.Size([512]).\n"
          ]
        },
        {
          "output_type": "stream",
          "name": "stderr",
          "text": [
            "\rModel training in progress...:  27%|██▋       | 10/37 [00:01<00:03,  7.60it/s]"
          ]
        },
        {
          "output_type": "stream",
          "name": "stdout",
          "text": [
            "Batch size is torch.Size([512, 256]) and torch.Size([512]).\n"
          ]
        },
        {
          "output_type": "stream",
          "name": "stderr",
          "text": [
            "\rModel training in progress...:  30%|██▉       | 11/37 [00:01<00:03,  7.76it/s]"
          ]
        },
        {
          "output_type": "stream",
          "name": "stdout",
          "text": [
            "Batch size is torch.Size([512, 256]) and torch.Size([512]).\n"
          ]
        },
        {
          "output_type": "stream",
          "name": "stderr",
          "text": [
            "\rModel training in progress...:  32%|███▏      | 12/37 [00:01<00:03,  7.68it/s]"
          ]
        },
        {
          "output_type": "stream",
          "name": "stdout",
          "text": [
            "Batch size is torch.Size([512, 256]) and torch.Size([512]).\n"
          ]
        },
        {
          "output_type": "stream",
          "name": "stderr",
          "text": [
            "\rModel training in progress...:  35%|███▌      | 13/37 [00:01<00:03,  7.85it/s]"
          ]
        },
        {
          "output_type": "stream",
          "name": "stdout",
          "text": [
            "Batch size is torch.Size([512, 256]) and torch.Size([512]).\n"
          ]
        },
        {
          "output_type": "stream",
          "name": "stderr",
          "text": [
            "\rModel training in progress...:  38%|███▊      | 14/37 [00:01<00:02,  7.89it/s]"
          ]
        },
        {
          "output_type": "stream",
          "name": "stdout",
          "text": [
            "Batch size is torch.Size([512, 256]) and torch.Size([512]).\n"
          ]
        },
        {
          "output_type": "stream",
          "name": "stderr",
          "text": [
            "\rModel training in progress...:  41%|████      | 15/37 [00:02<00:02,  7.85it/s]"
          ]
        },
        {
          "output_type": "stream",
          "name": "stdout",
          "text": [
            "Batch size is torch.Size([512, 256]) and torch.Size([512]).\n"
          ]
        },
        {
          "output_type": "stream",
          "name": "stderr",
          "text": [
            "\rModel training in progress...:  43%|████▎     | 16/37 [00:02<00:02,  7.87it/s]"
          ]
        },
        {
          "output_type": "stream",
          "name": "stdout",
          "text": [
            "Batch size is torch.Size([512, 256]) and torch.Size([512]).\n"
          ]
        },
        {
          "output_type": "stream",
          "name": "stderr",
          "text": [
            "\rModel training in progress...:  46%|████▌     | 17/37 [00:02<00:02,  8.00it/s]"
          ]
        },
        {
          "output_type": "stream",
          "name": "stdout",
          "text": [
            "Batch size is torch.Size([512, 256]) and torch.Size([512]).\n"
          ]
        },
        {
          "output_type": "stream",
          "name": "stderr",
          "text": [
            "\rModel training in progress...:  49%|████▊     | 18/37 [00:02<00:02,  7.93it/s]"
          ]
        },
        {
          "output_type": "stream",
          "name": "stdout",
          "text": [
            "Batch size is torch.Size([512, 256]) and torch.Size([512]).\n"
          ]
        },
        {
          "output_type": "stream",
          "name": "stderr",
          "text": [
            "\rModel training in progress...:  51%|█████▏    | 19/37 [00:02<00:02,  8.03it/s]"
          ]
        },
        {
          "output_type": "stream",
          "name": "stdout",
          "text": [
            "Batch size is torch.Size([512, 256]) and torch.Size([512]).\n"
          ]
        },
        {
          "output_type": "stream",
          "name": "stderr",
          "text": [
            "\rModel training in progress...:  54%|█████▍    | 20/37 [00:02<00:02,  8.15it/s]"
          ]
        },
        {
          "output_type": "stream",
          "name": "stdout",
          "text": [
            "Batch size is torch.Size([512, 256]) and torch.Size([512]).\n"
          ]
        },
        {
          "output_type": "stream",
          "name": "stderr",
          "text": [
            "\rModel training in progress...:  57%|█████▋    | 21/37 [00:02<00:01,  8.15it/s]"
          ]
        },
        {
          "output_type": "stream",
          "name": "stdout",
          "text": [
            "Batch size is torch.Size([512, 256]) and torch.Size([512]).\n"
          ]
        },
        {
          "output_type": "stream",
          "name": "stderr",
          "text": [
            "\rModel training in progress...:  59%|█████▉    | 22/37 [00:02<00:01,  8.19it/s]"
          ]
        },
        {
          "output_type": "stream",
          "name": "stdout",
          "text": [
            "Batch size is torch.Size([512, 256]) and torch.Size([512]).\n"
          ]
        },
        {
          "output_type": "stream",
          "name": "stderr",
          "text": [
            "\rModel training in progress...:  62%|██████▏   | 23/37 [00:03<00:01,  8.23it/s]"
          ]
        },
        {
          "output_type": "stream",
          "name": "stdout",
          "text": [
            "Batch size is torch.Size([512, 256]) and torch.Size([512]).\n"
          ]
        },
        {
          "output_type": "stream",
          "name": "stderr",
          "text": [
            "\rModel training in progress...:  65%|██████▍   | 24/37 [00:03<00:01,  8.24it/s]"
          ]
        },
        {
          "output_type": "stream",
          "name": "stdout",
          "text": [
            "Batch size is torch.Size([512, 256]) and torch.Size([512]).\n"
          ]
        },
        {
          "output_type": "stream",
          "name": "stderr",
          "text": [
            "\rModel training in progress...:  68%|██████▊   | 25/37 [00:03<00:01,  8.24it/s]"
          ]
        },
        {
          "output_type": "stream",
          "name": "stdout",
          "text": [
            "Batch size is torch.Size([512, 256]) and torch.Size([512]).\n"
          ]
        },
        {
          "output_type": "stream",
          "name": "stderr",
          "text": [
            "\rModel training in progress...:  70%|███████   | 26/37 [00:03<00:01,  8.25it/s]"
          ]
        },
        {
          "output_type": "stream",
          "name": "stdout",
          "text": [
            "Batch size is torch.Size([512, 256]) and torch.Size([512]).\n"
          ]
        },
        {
          "output_type": "stream",
          "name": "stderr",
          "text": [
            "\rModel training in progress...:  73%|███████▎  | 27/37 [00:03<00:01,  8.26it/s]"
          ]
        },
        {
          "output_type": "stream",
          "name": "stdout",
          "text": [
            "Batch size is torch.Size([512, 256]) and torch.Size([512]).\n"
          ]
        },
        {
          "output_type": "stream",
          "name": "stderr",
          "text": [
            "\rModel training in progress...:  76%|███████▌  | 28/37 [00:03<00:01,  8.30it/s]"
          ]
        },
        {
          "output_type": "stream",
          "name": "stdout",
          "text": [
            "Batch size is torch.Size([512, 256]) and torch.Size([512]).\n"
          ]
        },
        {
          "output_type": "stream",
          "name": "stderr",
          "text": [
            "\rModel training in progress...:  78%|███████▊  | 29/37 [00:03<00:00,  8.30it/s]"
          ]
        },
        {
          "output_type": "stream",
          "name": "stdout",
          "text": [
            "Batch size is torch.Size([512, 256]) and torch.Size([512]).\n"
          ]
        },
        {
          "output_type": "stream",
          "name": "stderr",
          "text": [
            "\rModel training in progress...:  81%|████████  | 30/37 [00:03<00:00,  8.29it/s]"
          ]
        },
        {
          "output_type": "stream",
          "name": "stdout",
          "text": [
            "Batch size is torch.Size([512, 256]) and torch.Size([512]).\n"
          ]
        },
        {
          "output_type": "stream",
          "name": "stderr",
          "text": [
            "\rModel training in progress...:  84%|████████▍ | 31/37 [00:03<00:00,  8.26it/s]"
          ]
        },
        {
          "output_type": "stream",
          "name": "stdout",
          "text": [
            "Batch size is torch.Size([512, 256]) and torch.Size([512]).\n"
          ]
        },
        {
          "output_type": "stream",
          "name": "stderr",
          "text": [
            "\rModel training in progress...:  86%|████████▋ | 32/37 [00:04<00:00,  8.23it/s]"
          ]
        },
        {
          "output_type": "stream",
          "name": "stdout",
          "text": [
            "Batch size is torch.Size([512, 256]) and torch.Size([512]).\n"
          ]
        },
        {
          "output_type": "stream",
          "name": "stderr",
          "text": [
            "\rModel training in progress...:  89%|████████▉ | 33/37 [00:04<00:00,  8.23it/s]"
          ]
        },
        {
          "output_type": "stream",
          "name": "stdout",
          "text": [
            "Batch size is torch.Size([512, 256]) and torch.Size([512]).\n"
          ]
        },
        {
          "output_type": "stream",
          "name": "stderr",
          "text": [
            "\rModel training in progress...:  92%|█████████▏| 34/37 [00:04<00:00,  8.23it/s]"
          ]
        },
        {
          "output_type": "stream",
          "name": "stdout",
          "text": [
            "Batch size is torch.Size([512, 256]) and torch.Size([512]).\n"
          ]
        },
        {
          "output_type": "stream",
          "name": "stderr",
          "text": [
            "\rModel training in progress...:  95%|█████████▍| 35/37 [00:04<00:00,  8.12it/s]"
          ]
        },
        {
          "output_type": "stream",
          "name": "stdout",
          "text": [
            "Batch size is torch.Size([512, 256]) and torch.Size([512]).\n"
          ]
        },
        {
          "output_type": "stream",
          "name": "stderr",
          "text": [
            "Model training in progress...: 100%|██████████| 37/37 [00:04<00:00,  7.90it/s]\n"
          ]
        },
        {
          "output_type": "stream",
          "name": "stdout",
          "text": [
            "Batch size is torch.Size([318, 256]) and torch.Size([318]).\n"
          ]
        },
        {
          "output_type": "stream",
          "name": "stderr",
          "text": [
            "Model validation in progress...:  15%|█▌        | 2/13 [00:00<00:00, 17.01it/s]"
          ]
        },
        {
          "output_type": "stream",
          "name": "stdout",
          "text": [
            "Batch size is torch.Size([512, 256]) and torch.Size([512]).\n",
            "Batch size is torch.Size([512, 256]) and torch.Size([512]).\n",
            "Batch size is torch.Size([512, 256]) and torch.Size([512]).\n",
            "Batch size is torch.Size([512, 256]) and torch.Size([512]).\n"
          ]
        },
        {
          "output_type": "stream",
          "name": "stderr",
          "text": [
            "\rModel validation in progress...:  31%|███       | 4/13 [00:00<00:00, 17.03it/s]"
          ]
        },
        {
          "output_type": "stream",
          "name": "stdout",
          "text": [
            "Batch size is torch.Size([512, 256]) and torch.Size([512]).\n",
            "Batch size is torch.Size([512, 256]) and torch.Size([512]).\n"
          ]
        },
        {
          "output_type": "stream",
          "name": "stderr",
          "text": [
            "\rModel validation in progress...:  46%|████▌     | 6/13 [00:00<00:00, 16.51it/s]"
          ]
        },
        {
          "output_type": "stream",
          "name": "stdout",
          "text": [
            "Batch size is torch.Size([512, 256]) and torch.Size([512]).\n",
            "Batch size is torch.Size([512, 256]) and torch.Size([512]).\n"
          ]
        },
        {
          "output_type": "stream",
          "name": "stderr",
          "text": [
            "\rModel validation in progress...:  62%|██████▏   | 8/13 [00:00<00:00, 16.74it/s]"
          ]
        },
        {
          "output_type": "stream",
          "name": "stdout",
          "text": [
            "Batch size is torch.Size([512, 256]) and torch.Size([512]).\n",
            "Batch size is torch.Size([512, 256]) and torch.Size([512]).\n"
          ]
        },
        {
          "output_type": "stream",
          "name": "stderr",
          "text": [
            "\rModel validation in progress...:  77%|███████▋  | 10/13 [00:00<00:00, 16.79it/s]"
          ]
        },
        {
          "output_type": "stream",
          "name": "stdout",
          "text": [
            "Batch size is torch.Size([512, 256]) and torch.Size([512]).\n",
            "Batch size is torch.Size([512, 256]) and torch.Size([512]).\n"
          ]
        },
        {
          "output_type": "stream",
          "name": "stderr",
          "text": [
            "Model validation in progress...: 100%|██████████| 13/13 [00:00<00:00, 17.93it/s]\n"
          ]
        },
        {
          "output_type": "stream",
          "name": "stdout",
          "text": [
            "Batch size is torch.Size([106, 256]) and torch.Size([106]).\n",
            "Epoch: 9\n",
            "Training loss: 0.257, Training accuracy: 0.916\n",
            "Validation loss: 0.318, Validation accuracy: 0.877\n",
            "\n",
            "\n",
            "Model training complete, and the model has 6464702 learnable parameters.\n",
            "\n",
            "\n"
          ]
        },
        {
          "output_type": "stream",
          "name": "stderr",
          "text": [
            "\rModel evaluation in progress...:   0%|          | 0/49 [00:00<?, ?it/s]"
          ]
        },
        {
          "output_type": "stream",
          "name": "stdout",
          "text": [
            "Batch size is torch.Size([512, 256]) and torch.Size([512]).\n",
            "Batch size is torch.Size([512, 256]) and torch.Size([512]).\n"
          ]
        },
        {
          "output_type": "stream",
          "name": "stderr",
          "text": [
            "\rModel evaluation in progress...:   4%|▍         | 2/49 [00:00<00:03, 14.70it/s]"
          ]
        },
        {
          "output_type": "stream",
          "name": "stdout",
          "text": [
            "Batch size is torch.Size([512, 256]) and torch.Size([512]).\n"
          ]
        },
        {
          "output_type": "stream",
          "name": "stderr",
          "text": [
            "\rModel evaluation in progress...:   8%|▊         | 4/49 [00:00<00:03, 14.81it/s]"
          ]
        },
        {
          "output_type": "stream",
          "name": "stdout",
          "text": [
            "Batch size is torch.Size([512, 256]) and torch.Size([512]).\n",
            "Batch size is torch.Size([512, 256]) and torch.Size([512]).\n",
            "Batch size is torch.Size([512, 256]) and torch.Size([512]).\n"
          ]
        },
        {
          "output_type": "stream",
          "name": "stderr",
          "text": [
            "\rModel evaluation in progress...:  12%|█▏        | 6/49 [00:00<00:02, 15.42it/s]"
          ]
        },
        {
          "output_type": "stream",
          "name": "stdout",
          "text": [
            "Batch size is torch.Size([512, 256]) and torch.Size([512]).\n"
          ]
        },
        {
          "output_type": "stream",
          "name": "stderr",
          "text": [
            "\rModel evaluation in progress...:  16%|█▋        | 8/49 [00:00<00:02, 15.69it/s]"
          ]
        },
        {
          "output_type": "stream",
          "name": "stdout",
          "text": [
            "Batch size is torch.Size([512, 256]) and torch.Size([512]).\n",
            "Batch size is torch.Size([512, 256]) and torch.Size([512]).\n",
            "Batch size is torch.Size([512, 256]) and torch.Size([512]).\n"
          ]
        },
        {
          "output_type": "stream",
          "name": "stderr",
          "text": [
            "\rModel evaluation in progress...:  20%|██        | 10/49 [00:00<00:02, 15.93it/s]"
          ]
        },
        {
          "output_type": "stream",
          "name": "stdout",
          "text": [
            "Batch size is torch.Size([512, 256]) and torch.Size([512]).\n"
          ]
        },
        {
          "output_type": "stream",
          "name": "stderr",
          "text": [
            "\rModel evaluation in progress...:  24%|██▍       | 12/49 [00:00<00:02, 15.96it/s]"
          ]
        },
        {
          "output_type": "stream",
          "name": "stdout",
          "text": [
            "Batch size is torch.Size([512, 256]) and torch.Size([512]).\n",
            "Batch size is torch.Size([512, 256]) and torch.Size([512]).\n",
            "Batch size is torch.Size([512, 256]) and torch.Size([512]).\n"
          ]
        },
        {
          "output_type": "stream",
          "name": "stderr",
          "text": [
            "\rModel evaluation in progress...:  29%|██▊       | 14/49 [00:00<00:02, 15.98it/s]"
          ]
        },
        {
          "output_type": "stream",
          "name": "stdout",
          "text": [
            "Batch size is torch.Size([512, 256]) and torch.Size([512]).\n"
          ]
        },
        {
          "output_type": "stream",
          "name": "stderr",
          "text": [
            "\rModel evaluation in progress...:  33%|███▎      | 16/49 [00:01<00:02, 15.92it/s]"
          ]
        },
        {
          "output_type": "stream",
          "name": "stdout",
          "text": [
            "Batch size is torch.Size([512, 256]) and torch.Size([512]).\n",
            "Batch size is torch.Size([512, 256]) and torch.Size([512]).\n",
            "Batch size is torch.Size([512, 256]) and torch.Size([512]).\n"
          ]
        },
        {
          "output_type": "stream",
          "name": "stderr",
          "text": [
            "\rModel evaluation in progress...:  37%|███▋      | 18/49 [00:01<00:01, 16.02it/s]"
          ]
        },
        {
          "output_type": "stream",
          "name": "stdout",
          "text": [
            "Batch size is torch.Size([512, 256]) and torch.Size([512]).\n"
          ]
        },
        {
          "output_type": "stream",
          "name": "stderr",
          "text": [
            "\rModel evaluation in progress...:  41%|████      | 20/49 [00:01<00:01, 16.03it/s]"
          ]
        },
        {
          "output_type": "stream",
          "name": "stdout",
          "text": [
            "Batch size is torch.Size([512, 256]) and torch.Size([512]).\n",
            "Batch size is torch.Size([512, 256]) and torch.Size([512]).\n",
            "Batch size is torch.Size([512, 256]) and torch.Size([512]).\n"
          ]
        },
        {
          "output_type": "stream",
          "name": "stderr",
          "text": [
            "\rModel evaluation in progress...:  45%|████▍     | 22/49 [00:01<00:01, 16.10it/s]"
          ]
        },
        {
          "output_type": "stream",
          "name": "stdout",
          "text": [
            "Batch size is torch.Size([512, 256]) and torch.Size([512]).\n"
          ]
        },
        {
          "output_type": "stream",
          "name": "stderr",
          "text": [
            "\rModel evaluation in progress...:  49%|████▉     | 24/49 [00:01<00:01, 16.13it/s]"
          ]
        },
        {
          "output_type": "stream",
          "name": "stdout",
          "text": [
            "Batch size is torch.Size([512, 256]) and torch.Size([512]).\n",
            "Batch size is torch.Size([512, 256]) and torch.Size([512]).\n",
            "Batch size is torch.Size([512, 256]) and torch.Size([512]).\n"
          ]
        },
        {
          "output_type": "stream",
          "name": "stderr",
          "text": [
            "\rModel evaluation in progress...:  53%|█████▎    | 26/49 [00:01<00:01, 15.80it/s]"
          ]
        },
        {
          "output_type": "stream",
          "name": "stdout",
          "text": [
            "Batch size is torch.Size([512, 256]) and torch.Size([512]).\n"
          ]
        },
        {
          "output_type": "stream",
          "name": "stderr",
          "text": [
            "\rModel evaluation in progress...:  57%|█████▋    | 28/49 [00:01<00:01, 15.86it/s]"
          ]
        },
        {
          "output_type": "stream",
          "name": "stdout",
          "text": [
            "Batch size is torch.Size([512, 256]) and torch.Size([512]).\n",
            "Batch size is torch.Size([512, 256]) and torch.Size([512]).\n",
            "Batch size is torch.Size([512, 256]) and torch.Size([512]).\n"
          ]
        },
        {
          "output_type": "stream",
          "name": "stderr",
          "text": [
            "\rModel evaluation in progress...:  61%|██████    | 30/49 [00:01<00:01, 15.97it/s]"
          ]
        },
        {
          "output_type": "stream",
          "name": "stdout",
          "text": [
            "Batch size is torch.Size([512, 256]) and torch.Size([512]).\n"
          ]
        },
        {
          "output_type": "stream",
          "name": "stderr",
          "text": [
            "\rModel evaluation in progress...:  65%|██████▌   | 32/49 [00:02<00:01, 16.04it/s]"
          ]
        },
        {
          "output_type": "stream",
          "name": "stdout",
          "text": [
            "Batch size is torch.Size([512, 256]) and torch.Size([512]).\n",
            "Batch size is torch.Size([512, 256]) and torch.Size([512]).\n",
            "Batch size is torch.Size([512, 256]) and torch.Size([512]).\n"
          ]
        },
        {
          "output_type": "stream",
          "name": "stderr",
          "text": [
            "\rModel evaluation in progress...:  69%|██████▉   | 34/49 [00:02<00:00, 15.63it/s]"
          ]
        },
        {
          "output_type": "stream",
          "name": "stdout",
          "text": [
            "Batch size is torch.Size([512, 256]) and torch.Size([512]).\n"
          ]
        },
        {
          "output_type": "stream",
          "name": "stderr",
          "text": [
            "\rModel evaluation in progress...:  73%|███████▎  | 36/49 [00:02<00:00, 15.85it/s]"
          ]
        },
        {
          "output_type": "stream",
          "name": "stdout",
          "text": [
            "Batch size is torch.Size([512, 256]) and torch.Size([512]).\n",
            "Batch size is torch.Size([512, 256]) and torch.Size([512]).\n",
            "Batch size is torch.Size([512, 256]) and torch.Size([512]).\n"
          ]
        },
        {
          "output_type": "stream",
          "name": "stderr",
          "text": [
            "\rModel evaluation in progress...:  78%|███████▊  | 38/49 [00:02<00:00, 15.96it/s]"
          ]
        },
        {
          "output_type": "stream",
          "name": "stdout",
          "text": [
            "Batch size is torch.Size([512, 256]) and torch.Size([512]).\n"
          ]
        },
        {
          "output_type": "stream",
          "name": "stderr",
          "text": [
            "\rModel evaluation in progress...:  82%|████████▏ | 40/49 [00:02<00:00, 16.07it/s]"
          ]
        },
        {
          "output_type": "stream",
          "name": "stdout",
          "text": [
            "Batch size is torch.Size([512, 256]) and torch.Size([512]).\n",
            "Batch size is torch.Size([512, 256]) and torch.Size([512]).\n",
            "Batch size is torch.Size([512, 256]) and torch.Size([512]).\n"
          ]
        },
        {
          "output_type": "stream",
          "name": "stderr",
          "text": [
            "\rModel evaluation in progress...:  86%|████████▌ | 42/49 [00:02<00:00, 16.21it/s]"
          ]
        },
        {
          "output_type": "stream",
          "name": "stdout",
          "text": [
            "Batch size is torch.Size([512, 256]) and torch.Size([512]).\n"
          ]
        },
        {
          "output_type": "stream",
          "name": "stderr",
          "text": [
            "\rModel evaluation in progress...:  90%|████████▉ | 44/49 [00:02<00:00, 16.13it/s]"
          ]
        },
        {
          "output_type": "stream",
          "name": "stdout",
          "text": [
            "Batch size is torch.Size([512, 256]) and torch.Size([512]).\n",
            "Batch size is torch.Size([512, 256]) and torch.Size([512]).\n",
            "Batch size is torch.Size([512, 256]) and torch.Size([512]).\n"
          ]
        },
        {
          "output_type": "stream",
          "name": "stderr",
          "text": [
            "\rModel evaluation in progress...:  94%|█████████▍| 46/49 [00:02<00:00, 16.20it/s]"
          ]
        },
        {
          "output_type": "stream",
          "name": "stdout",
          "text": [
            "Batch size is torch.Size([512, 256]) and torch.Size([512]).\n"
          ]
        },
        {
          "output_type": "stream",
          "name": "stderr",
          "text": [
            "Model evaluation in progress...: 100%|██████████| 49/49 [00:03<00:00, 15.99it/s]\n"
          ]
        },
        {
          "output_type": "stream",
          "name": "stdout",
          "text": [
            "Batch size is torch.Size([512, 256]) and torch.Size([512]).\n",
            "Batch size is torch.Size([424, 256]) and torch.Size([424]).\n",
            "Testing loss: 0.351, Testing accuracy: 0.858\n"
          ]
        },
        {
          "output_type": "display_data",
          "data": {
            "text/plain": [
              "<Figure size 1000x600 with 1 Axes>"
            ],
            "image/png": "[encoded data removed]"
          },
          "metadata": {}
        },
        {
          "output_type": "display_data",
          "data": {
            "text/plain": [
              "<Figure size 1000x600 with 1 Axes>"
            ],
            "image/png": "[encoded data removed]"
          },
          "metadata": {}
        }
      ]
    }
  ]
}