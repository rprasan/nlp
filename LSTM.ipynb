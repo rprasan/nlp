{
  "nbformat": 4,
  "nbformat_minor": 0,
  "metadata": {
    "colab": {
      "provenance": [],
      "machine_shape": "hm",
      "gpuType": "T4"
    },
    "kernelspec": {
      "name": "python3",
      "display_name": "Python 3"
    },
    "language_info": {
      "name": "python"
    },
    "accelerator": "GPU",
    "widgets": {
      "application/vnd.jupyter.widget-state+json": {
        "3c06ad4ed4ca47a2aec2ab82266e794a": {
          "model_module": "@jupyter-widgets/controls",
          "model_name": "HBoxModel",
          "model_module_version": "1.5.0",
          "state": {
            "_dom_classes": [],
            "_model_module": "@jupyter-widgets/controls",
            "_model_module_version": "1.5.0",
            "_model_name": "HBoxModel",
            "_view_count": null,
            "_view_module": "@jupyter-widgets/controls",
            "_view_module_version": "1.5.0",
            "_view_name": "HBoxView",
            "box_style": "",
            "children": [
              "IPY_MODEL_4b6b04c69b0741b285ef59c3e6b003e3",
              "IPY_MODEL_60fe4eb6d8f64882a7b515ebe68a2ec3",
              "IPY_MODEL_ecedf72b22434ec384bf91b3b01ec567"
            ],
            "layout": "IPY_MODEL_498c93a3ae5f47649b8e99fd2734543d"
          }
        },
        "4b6b04c69b0741b285ef59c3e6b003e3": {
          "model_module": "@jupyter-widgets/controls",
          "model_name": "HTMLModel",
          "model_module_version": "1.5.0",
          "state": {
            "_dom_classes": [],
            "_model_module": "@jupyter-widgets/controls",
            "_model_module_version": "1.5.0",
            "_model_name": "HTMLModel",
            "_view_count": null,
            "_view_module": "@jupyter-widgets/controls",
            "_view_module_version": "1.5.0",
            "_view_name": "HTMLView",
            "description": "",
            "description_tooltip": null,
            "layout": "IPY_MODEL_e993b5aa2fe3490388d6154ea2728d3c",
            "placeholder": "​",
            "style": "IPY_MODEL_518ffc7056b24810925aa4130e75b84d",
            "value": "Downloading readme: 100%"
          }
        },
        "60fe4eb6d8f64882a7b515ebe68a2ec3": {
          "model_module": "@jupyter-widgets/controls",
          "model_name": "FloatProgressModel",
          "model_module_version": "1.5.0",
          "state": {
            "_dom_classes": [],
            "_model_module": "@jupyter-widgets/controls",
            "_model_module_version": "1.5.0",
            "_model_name": "FloatProgressModel",
            "_view_count": null,
            "_view_module": "@jupyter-widgets/controls",
            "_view_module_version": "1.5.0",
            "_view_name": "ProgressView",
            "bar_style": "success",
            "description": "",
            "description_tooltip": null,
            "layout": "IPY_MODEL_b39f4d182337419a8bc48016c78a5479",
            "max": 7809,
            "min": 0,
            "orientation": "horizontal",
            "style": "IPY_MODEL_3968bba9eac04bfea0b5fabf67aef326",
            "value": 7809
          }
        },
        "ecedf72b22434ec384bf91b3b01ec567": {
          "model_module": "@jupyter-widgets/controls",
          "model_name": "HTMLModel",
          "model_module_version": "1.5.0",
          "state": {
            "_dom_classes": [],
            "_model_module": "@jupyter-widgets/controls",
            "_model_module_version": "1.5.0",
            "_model_name": "HTMLModel",
            "_view_count": null,
            "_view_module": "@jupyter-widgets/controls",
            "_view_module_version": "1.5.0",
            "_view_name": "HTMLView",
            "description": "",
            "description_tooltip": null,
            "layout": "IPY_MODEL_ac9c1f121ab448f49c48382160aa1253",
            "placeholder": "​",
            "style": "IPY_MODEL_fa10391a17264aab91218717ae48a3c4",
            "value": " 7.81k/7.81k [00:00&lt;00:00, 706kB/s]"
          }
        },
        "498c93a3ae5f47649b8e99fd2734543d": {
          "model_module": "@jupyter-widgets/base",
          "model_name": "LayoutModel",
          "model_module_version": "1.2.0",
          "state": {
            "_model_module": "@jupyter-widgets/base",
            "_model_module_version": "1.2.0",
            "_model_name": "LayoutModel",
            "_view_count": null,
            "_view_module": "@jupyter-widgets/base",
            "_view_module_version": "1.2.0",
            "_view_name": "LayoutView",
            "align_content": null,
            "align_items": null,
            "align_self": null,
            "border": null,
            "bottom": null,
            "display": null,
            "flex": null,
            "flex_flow": null,
            "grid_area": null,
            "grid_auto_columns": null,
            "grid_auto_flow": null,
            "grid_auto_rows": null,
            "grid_column": null,
            "grid_gap": null,
            "grid_row": null,
            "grid_template_areas": null,
            "grid_template_columns": null,
            "grid_template_rows": null,
            "height": null,
            "justify_content": null,
            "justify_items": null,
            "left": null,
            "margin": null,
            "max_height": null,
            "max_width": null,
            "min_height": null,
            "min_width": null,
            "object_fit": null,
            "object_position": null,
            "order": null,
            "overflow": null,
            "overflow_x": null,
            "overflow_y": null,
            "padding": null,
            "right": null,
            "top": null,
            "visibility": null,
            "width": null
          }
        },
        "e993b5aa2fe3490388d6154ea2728d3c": {
          "model_module": "@jupyter-widgets/base",
          "model_name": "LayoutModel",
          "model_module_version": "1.2.0",
          "state": {
            "_model_module": "@jupyter-widgets/base",
            "_model_module_version": "1.2.0",
            "_model_name": "LayoutModel",
            "_view_count": null,
            "_view_module": "@jupyter-widgets/base",
            "_view_module_version": "1.2.0",
            "_view_name": "LayoutView",
            "align_content": null,
            "align_items": null,
            "align_self": null,
            "border": null,
            "bottom": null,
            "display": null,
            "flex": null,
            "flex_flow": null,
            "grid_area": null,
            "grid_auto_columns": null,
            "grid_auto_flow": null,
            "grid_auto_rows": null,
            "grid_column": null,
            "grid_gap": null,
            "grid_row": null,
            "grid_template_areas": null,
            "grid_template_columns": null,
            "grid_template_rows": null,
            "height": null,
            "justify_content": null,
            "justify_items": null,
            "left": null,
            "margin": null,
            "max_height": null,
            "max_width": null,
            "min_height": null,
            "min_width": null,
            "object_fit": null,
            "object_position": null,
            "order": null,
            "overflow": null,
            "overflow_x": null,
            "overflow_y": null,
            "padding": null,
            "right": null,
            "top": null,
            "visibility": null,
            "width": null
          }
        },
        "518ffc7056b24810925aa4130e75b84d": {
          "model_module": "@jupyter-widgets/controls",
          "model_name": "DescriptionStyleModel",
          "model_module_version": "1.5.0",
          "state": {
            "_model_module": "@jupyter-widgets/controls",
            "_model_module_version": "1.5.0",
            "_model_name": "DescriptionStyleModel",
            "_view_count": null,
            "_view_module": "@jupyter-widgets/base",
            "_view_module_version": "1.2.0",
            "_view_name": "StyleView",
            "description_width": ""
          }
        },
        "b39f4d182337419a8bc48016c78a5479": {
          "model_module": "@jupyter-widgets/base",
          "model_name": "LayoutModel",
          "model_module_version": "1.2.0",
          "state": {
            "_model_module": "@jupyter-widgets/base",
            "_model_module_version": "1.2.0",
            "_model_name": "LayoutModel",
            "_view_count": null,
            "_view_module": "@jupyter-widgets/base",
            "_view_module_version": "1.2.0",
            "_view_name": "LayoutView",
            "align_content": null,
            "align_items": null,
            "align_self": null,
            "border": null,
            "bottom": null,
            "display": null,
            "flex": null,
            "flex_flow": null,
            "grid_area": null,
            "grid_auto_columns": null,
            "grid_auto_flow": null,
            "grid_auto_rows": null,
            "grid_column": null,
            "grid_gap": null,
            "grid_row": null,
            "grid_template_areas": null,
            "grid_template_columns": null,
            "grid_template_rows": null,
            "height": null,
            "justify_content": null,
            "justify_items": null,
            "left": null,
            "margin": null,
            "max_height": null,
            "max_width": null,
            "min_height": null,
            "min_width": null,
            "object_fit": null,
            "object_position": null,
            "order": null,
            "overflow": null,
            "overflow_x": null,
            "overflow_y": null,
            "padding": null,
            "right": null,
            "top": null,
            "visibility": null,
            "width": null
          }
        },
        "3968bba9eac04bfea0b5fabf67aef326": {
          "model_module": "@jupyter-widgets/controls",
          "model_name": "ProgressStyleModel",
          "model_module_version": "1.5.0",
          "state": {
            "_model_module": "@jupyter-widgets/controls",
            "_model_module_version": "1.5.0",
            "_model_name": "ProgressStyleModel",
            "_view_count": null,
            "_view_module": "@jupyter-widgets/base",
            "_view_module_version": "1.2.0",
            "_view_name": "StyleView",
            "bar_color": null,
            "description_width": ""
          }
        },
        "ac9c1f121ab448f49c48382160aa1253": {
          "model_module": "@jupyter-widgets/base",
          "model_name": "LayoutModel",
          "model_module_version": "1.2.0",
          "state": {
            "_model_module": "@jupyter-widgets/base",
            "_model_module_version": "1.2.0",
            "_model_name": "LayoutModel",
            "_view_count": null,
            "_view_module": "@jupyter-widgets/base",
            "_view_module_version": "1.2.0",
            "_view_name": "LayoutView",
            "align_content": null,
            "align_items": null,
            "align_self": null,
            "border": null,
            "bottom": null,
            "display": null,
            "flex": null,
            "flex_flow": null,
            "grid_area": null,
            "grid_auto_columns": null,
            "grid_auto_flow": null,
            "grid_auto_rows": null,
            "grid_column": null,
            "grid_gap": null,
            "grid_row": null,
            "grid_template_areas": null,
            "grid_template_columns": null,
            "grid_template_rows": null,
            "height": null,
            "justify_content": null,
            "justify_items": null,
            "left": null,
            "margin": null,
            "max_height": null,
            "max_width": null,
            "min_height": null,
            "min_width": null,
            "object_fit": null,
            "object_position": null,
            "order": null,
            "overflow": null,
            "overflow_x": null,
            "overflow_y": null,
            "padding": null,
            "right": null,
            "top": null,
            "visibility": null,
            "width": null
          }
        },
        "fa10391a17264aab91218717ae48a3c4": {
          "model_module": "@jupyter-widgets/controls",
          "model_name": "DescriptionStyleModel",
          "model_module_version": "1.5.0",
          "state": {
            "_model_module": "@jupyter-widgets/controls",
            "_model_module_version": "1.5.0",
            "_model_name": "DescriptionStyleModel",
            "_view_count": null,
            "_view_module": "@jupyter-widgets/base",
            "_view_module_version": "1.2.0",
            "_view_name": "StyleView",
            "description_width": ""
          }
        },
        "f830dd6d70804823bba2aff11af7f837": {
          "model_module": "@jupyter-widgets/controls",
          "model_name": "HBoxModel",
          "model_module_version": "1.5.0",
          "state": {
            "_dom_classes": [],
            "_model_module": "@jupyter-widgets/controls",
            "_model_module_version": "1.5.0",
            "_model_name": "HBoxModel",
            "_view_count": null,
            "_view_module": "@jupyter-widgets/controls",
            "_view_module_version": "1.5.0",
            "_view_name": "HBoxView",
            "box_style": "",
            "children": [
              "IPY_MODEL_91f63051f0244dfbac1a15c92d10419f",
              "IPY_MODEL_95e644eda2234a35a9e8229556b84bda",
              "IPY_MODEL_2457266f290042bb8399f3cc69e4b24e"
            ],
            "layout": "IPY_MODEL_de63bcc75053437b9887ba5064f186a0"
          }
        },
        "91f63051f0244dfbac1a15c92d10419f": {
          "model_module": "@jupyter-widgets/controls",
          "model_name": "HTMLModel",
          "model_module_version": "1.5.0",
          "state": {
            "_dom_classes": [],
            "_model_module": "@jupyter-widgets/controls",
            "_model_module_version": "1.5.0",
            "_model_name": "HTMLModel",
            "_view_count": null,
            "_view_module": "@jupyter-widgets/controls",
            "_view_module_version": "1.5.0",
            "_view_name": "HTMLView",
            "description": "",
            "description_tooltip": null,
            "layout": "IPY_MODEL_cb49770a534b4a3e997540d08753af6b",
            "placeholder": "​",
            "style": "IPY_MODEL_c23db8a62d3744fdbdd6c963d81a0663",
            "value": "Downloading data: 100%"
          }
        },
        "95e644eda2234a35a9e8229556b84bda": {
          "model_module": "@jupyter-widgets/controls",
          "model_name": "FloatProgressModel",
          "model_module_version": "1.5.0",
          "state": {
            "_dom_classes": [],
            "_model_module": "@jupyter-widgets/controls",
            "_model_module_version": "1.5.0",
            "_model_name": "FloatProgressModel",
            "_view_count": null,
            "_view_module": "@jupyter-widgets/controls",
            "_view_module_version": "1.5.0",
            "_view_name": "ProgressView",
            "bar_style": "success",
            "description": "",
            "description_tooltip": null,
            "layout": "IPY_MODEL_358a3f61cbfe408ea3627f2e68ba6e07",
            "max": 20979968,
            "min": 0,
            "orientation": "horizontal",
            "style": "IPY_MODEL_460bf03b6db745808459863741510111",
            "value": 20979968
          }
        },
        "2457266f290042bb8399f3cc69e4b24e": {
          "model_module": "@jupyter-widgets/controls",
          "model_name": "HTMLModel",
          "model_module_version": "1.5.0",
          "state": {
            "_dom_classes": [],
            "_model_module": "@jupyter-widgets/controls",
            "_model_module_version": "1.5.0",
            "_model_name": "HTMLModel",
            "_view_count": null,
            "_view_module": "@jupyter-widgets/controls",
            "_view_module_version": "1.5.0",
            "_view_name": "HTMLView",
            "description": "",
            "description_tooltip": null,
            "layout": "IPY_MODEL_8de10d99ec4b4fb490fae170c5a34a6d",
            "placeholder": "​",
            "style": "IPY_MODEL_c40ab762fdc4410f829463ec152d9dc7",
            "value": " 21.0M/21.0M [00:00&lt;00:00, 31.5MB/s]"
          }
        },
        "de63bcc75053437b9887ba5064f186a0": {
          "model_module": "@jupyter-widgets/base",
          "model_name": "LayoutModel",
          "model_module_version": "1.2.0",
          "state": {
            "_model_module": "@jupyter-widgets/base",
            "_model_module_version": "1.2.0",
            "_model_name": "LayoutModel",
            "_view_count": null,
            "_view_module": "@jupyter-widgets/base",
            "_view_module_version": "1.2.0",
            "_view_name": "LayoutView",
            "align_content": null,
            "align_items": null,
            "align_self": null,
            "border": null,
            "bottom": null,
            "display": null,
            "flex": null,
            "flex_flow": null,
            "grid_area": null,
            "grid_auto_columns": null,
            "grid_auto_flow": null,
            "grid_auto_rows": null,
            "grid_column": null,
            "grid_gap": null,
            "grid_row": null,
            "grid_template_areas": null,
            "grid_template_columns": null,
            "grid_template_rows": null,
            "height": null,
            "justify_content": null,
            "justify_items": null,
            "left": null,
            "margin": null,
            "max_height": null,
            "max_width": null,
            "min_height": null,
            "min_width": null,
            "object_fit": null,
            "object_position": null,
            "order": null,
            "overflow": null,
            "overflow_x": null,
            "overflow_y": null,
            "padding": null,
            "right": null,
            "top": null,
            "visibility": null,
            "width": null
          }
        },
        "cb49770a534b4a3e997540d08753af6b": {
          "model_module": "@jupyter-widgets/base",
          "model_name": "LayoutModel",
          "model_module_version": "1.2.0",
          "state": {
            "_model_module": "@jupyter-widgets/base",
            "_model_module_version": "1.2.0",
            "_model_name": "LayoutModel",
            "_view_count": null,
            "_view_module": "@jupyter-widgets/base",
            "_view_module_version": "1.2.0",
            "_view_name": "LayoutView",
            "align_content": null,
            "align_items": null,
            "align_self": null,
            "border": null,
            "bottom": null,
            "display": null,
            "flex": null,
            "flex_flow": null,
            "grid_area": null,
            "grid_auto_columns": null,
            "grid_auto_flow": null,
            "grid_auto_rows": null,
            "grid_column": null,
            "grid_gap": null,
            "grid_row": null,
            "grid_template_areas": null,
            "grid_template_columns": null,
            "grid_template_rows": null,
            "height": null,
            "justify_content": null,
            "justify_items": null,
            "left": null,
            "margin": null,
            "max_height": null,
            "max_width": null,
            "min_height": null,
            "min_width": null,
            "object_fit": null,
            "object_position": null,
            "order": null,
            "overflow": null,
            "overflow_x": null,
            "overflow_y": null,
            "padding": null,
            "right": null,
            "top": null,
            "visibility": null,
            "width": null
          }
        },
        "c23db8a62d3744fdbdd6c963d81a0663": {
          "model_module": "@jupyter-widgets/controls",
          "model_name": "DescriptionStyleModel",
          "model_module_version": "1.5.0",
          "state": {
            "_model_module": "@jupyter-widgets/controls",
            "_model_module_version": "1.5.0",
            "_model_name": "DescriptionStyleModel",
            "_view_count": null,
            "_view_module": "@jupyter-widgets/base",
            "_view_module_version": "1.2.0",
            "_view_name": "StyleView",
            "description_width": ""
          }
        },
        "358a3f61cbfe408ea3627f2e68ba6e07": {
          "model_module": "@jupyter-widgets/base",
          "model_name": "LayoutModel",
          "model_module_version": "1.2.0",
          "state": {
            "_model_module": "@jupyter-widgets/base",
            "_model_module_version": "1.2.0",
            "_model_name": "LayoutModel",
            "_view_count": null,
            "_view_module": "@jupyter-widgets/base",
            "_view_module_version": "1.2.0",
            "_view_name": "LayoutView",
            "align_content": null,
            "align_items": null,
            "align_self": null,
            "border": null,
            "bottom": null,
            "display": null,
            "flex": null,
            "flex_flow": null,
            "grid_area": null,
            "grid_auto_columns": null,
            "grid_auto_flow": null,
            "grid_auto_rows": null,
            "grid_column": null,
            "grid_gap": null,
            "grid_row": null,
            "grid_template_areas": null,
            "grid_template_columns": null,
            "grid_template_rows": null,
            "height": null,
            "justify_content": null,
            "justify_items": null,
            "left": null,
            "margin": null,
            "max_height": null,
            "max_width": null,
            "min_height": null,
            "min_width": null,
            "object_fit": null,
            "object_position": null,
            "order": null,
            "overflow": null,
            "overflow_x": null,
            "overflow_y": null,
            "padding": null,
            "right": null,
            "top": null,
            "visibility": null,
            "width": null
          }
        },
        "460bf03b6db745808459863741510111": {
          "model_module": "@jupyter-widgets/controls",
          "model_name": "ProgressStyleModel",
          "model_module_version": "1.5.0",
          "state": {
            "_model_module": "@jupyter-widgets/controls",
            "_model_module_version": "1.5.0",
            "_model_name": "ProgressStyleModel",
            "_view_count": null,
            "_view_module": "@jupyter-widgets/base",
            "_view_module_version": "1.2.0",
            "_view_name": "StyleView",
            "bar_color": null,
            "description_width": ""
          }
        },
        "8de10d99ec4b4fb490fae170c5a34a6d": {
          "model_module": "@jupyter-widgets/base",
          "model_name": "LayoutModel",
          "model_module_version": "1.2.0",
          "state": {
            "_model_module": "@jupyter-widgets/base",
            "_model_module_version": "1.2.0",
            "_model_name": "LayoutModel",
            "_view_count": null,
            "_view_module": "@jupyter-widgets/base",
            "_view_module_version": "1.2.0",
            "_view_name": "LayoutView",
            "align_content": null,
            "align_items": null,
            "align_self": null,
            "border": null,
            "bottom": null,
            "display": null,
            "flex": null,
            "flex_flow": null,
            "grid_area": null,
            "grid_auto_columns": null,
            "grid_auto_flow": null,
            "grid_auto_rows": null,
            "grid_column": null,
            "grid_gap": null,
            "grid_row": null,
            "grid_template_areas": null,
            "grid_template_columns": null,
            "grid_template_rows": null,
            "height": null,
            "justify_content": null,
            "justify_items": null,
            "left": null,
            "margin": null,
            "max_height": null,
            "max_width": null,
            "min_height": null,
            "min_width": null,
            "object_fit": null,
            "object_position": null,
            "order": null,
            "overflow": null,
            "overflow_x": null,
            "overflow_y": null,
            "padding": null,
            "right": null,
            "top": null,
            "visibility": null,
            "width": null
          }
        },
        "c40ab762fdc4410f829463ec152d9dc7": {
          "model_module": "@jupyter-widgets/controls",
          "model_name": "DescriptionStyleModel",
          "model_module_version": "1.5.0",
          "state": {
            "_model_module": "@jupyter-widgets/controls",
            "_model_module_version": "1.5.0",
            "_model_name": "DescriptionStyleModel",
            "_view_count": null,
            "_view_module": "@jupyter-widgets/base",
            "_view_module_version": "1.2.0",
            "_view_name": "StyleView",
            "description_width": ""
          }
        },
        "03e2d451b20f48dc8c9179f40966c994": {
          "model_module": "@jupyter-widgets/controls",
          "model_name": "HBoxModel",
          "model_module_version": "1.5.0",
          "state": {
            "_dom_classes": [],
            "_model_module": "@jupyter-widgets/controls",
            "_model_module_version": "1.5.0",
            "_model_name": "HBoxModel",
            "_view_count": null,
            "_view_module": "@jupyter-widgets/controls",
            "_view_module_version": "1.5.0",
            "_view_name": "HBoxView",
            "box_style": "",
            "children": [
              "IPY_MODEL_3b815e36ab6c4254a3b3b1320d42d952",
              "IPY_MODEL_006dee3c0497437aba4a02b4ff55a237",
              "IPY_MODEL_d5acdafac9d0404c842539fe07aa8515"
            ],
            "layout": "IPY_MODEL_a1579cf457014bd4863b0f30babc0928"
          }
        },
        "3b815e36ab6c4254a3b3b1320d42d952": {
          "model_module": "@jupyter-widgets/controls",
          "model_name": "HTMLModel",
          "model_module_version": "1.5.0",
          "state": {
            "_dom_classes": [],
            "_model_module": "@jupyter-widgets/controls",
            "_model_module_version": "1.5.0",
            "_model_name": "HTMLModel",
            "_view_count": null,
            "_view_module": "@jupyter-widgets/controls",
            "_view_module_version": "1.5.0",
            "_view_name": "HTMLView",
            "description": "",
            "description_tooltip": null,
            "layout": "IPY_MODEL_416e554ac4b34319bd592492524df33c",
            "placeholder": "​",
            "style": "IPY_MODEL_8a18d380938345d29f96c0ee3a83774f",
            "value": "Downloading data: 100%"
          }
        },
        "006dee3c0497437aba4a02b4ff55a237": {
          "model_module": "@jupyter-widgets/controls",
          "model_name": "FloatProgressModel",
          "model_module_version": "1.5.0",
          "state": {
            "_dom_classes": [],
            "_model_module": "@jupyter-widgets/controls",
            "_model_module_version": "1.5.0",
            "_model_name": "FloatProgressModel",
            "_view_count": null,
            "_view_module": "@jupyter-widgets/controls",
            "_view_module_version": "1.5.0",
            "_view_name": "ProgressView",
            "bar_style": "success",
            "description": "",
            "description_tooltip": null,
            "layout": "IPY_MODEL_82ada12316d044ffbed8eb65d09c8e10",
            "max": 20470363,
            "min": 0,
            "orientation": "horizontal",
            "style": "IPY_MODEL_d75b4d9beac94f5a85e91e9e7e7b38c7",
            "value": 20470363
          }
        },
        "d5acdafac9d0404c842539fe07aa8515": {
          "model_module": "@jupyter-widgets/controls",
          "model_name": "HTMLModel",
          "model_module_version": "1.5.0",
          "state": {
            "_dom_classes": [],
            "_model_module": "@jupyter-widgets/controls",
            "_model_module_version": "1.5.0",
            "_model_name": "HTMLModel",
            "_view_count": null,
            "_view_module": "@jupyter-widgets/controls",
            "_view_module_version": "1.5.0",
            "_view_name": "HTMLView",
            "description": "",
            "description_tooltip": null,
            "layout": "IPY_MODEL_1c13a722a25e49789ce850042bf8583e",
            "placeholder": "​",
            "style": "IPY_MODEL_04f588fed77746a4a9a4970728c18159",
            "value": " 20.5M/20.5M [00:00&lt;00:00, 41.2MB/s]"
          }
        },
        "a1579cf457014bd4863b0f30babc0928": {
          "model_module": "@jupyter-widgets/base",
          "model_name": "LayoutModel",
          "model_module_version": "1.2.0",
          "state": {
            "_model_module": "@jupyter-widgets/base",
            "_model_module_version": "1.2.0",
            "_model_name": "LayoutModel",
            "_view_count": null,
            "_view_module": "@jupyter-widgets/base",
            "_view_module_version": "1.2.0",
            "_view_name": "LayoutView",
            "align_content": null,
            "align_items": null,
            "align_self": null,
            "border": null,
            "bottom": null,
            "display": null,
            "flex": null,
            "flex_flow": null,
            "grid_area": null,
            "grid_auto_columns": null,
            "grid_auto_flow": null,
            "grid_auto_rows": null,
            "grid_column": null,
            "grid_gap": null,
            "grid_row": null,
            "grid_template_areas": null,
            "grid_template_columns": null,
            "grid_template_rows": null,
            "height": null,
            "justify_content": null,
            "justify_items": null,
            "left": null,
            "margin": null,
            "max_height": null,
            "max_width": null,
            "min_height": null,
            "min_width": null,
            "object_fit": null,
            "object_position": null,
            "order": null,
            "overflow": null,
            "overflow_x": null,
            "overflow_y": null,
            "padding": null,
            "right": null,
            "top": null,
            "visibility": null,
            "width": null
          }
        },
        "416e554ac4b34319bd592492524df33c": {
          "model_module": "@jupyter-widgets/base",
          "model_name": "LayoutModel",
          "model_module_version": "1.2.0",
          "state": {
            "_model_module": "@jupyter-widgets/base",
            "_model_module_version": "1.2.0",
            "_model_name": "LayoutModel",
            "_view_count": null,
            "_view_module": "@jupyter-widgets/base",
            "_view_module_version": "1.2.0",
            "_view_name": "LayoutView",
            "align_content": null,
            "align_items": null,
            "align_self": null,
            "border": null,
            "bottom": null,
            "display": null,
            "flex": null,
            "flex_flow": null,
            "grid_area": null,
            "grid_auto_columns": null,
            "grid_auto_flow": null,
            "grid_auto_rows": null,
            "grid_column": null,
            "grid_gap": null,
            "grid_row": null,
            "grid_template_areas": null,
            "grid_template_columns": null,
            "grid_template_rows": null,
            "height": null,
            "justify_content": null,
            "justify_items": null,
            "left": null,
            "margin": null,
            "max_height": null,
            "max_width": null,
            "min_height": null,
            "min_width": null,
            "object_fit": null,
            "object_position": null,
            "order": null,
            "overflow": null,
            "overflow_x": null,
            "overflow_y": null,
            "padding": null,
            "right": null,
            "top": null,
            "visibility": null,
            "width": null
          }
        },
        "8a18d380938345d29f96c0ee3a83774f": {
          "model_module": "@jupyter-widgets/controls",
          "model_name": "DescriptionStyleModel",
          "model_module_version": "1.5.0",
          "state": {
            "_model_module": "@jupyter-widgets/controls",
            "_model_module_version": "1.5.0",
            "_model_name": "DescriptionStyleModel",
            "_view_count": null,
            "_view_module": "@jupyter-widgets/base",
            "_view_module_version": "1.2.0",
            "_view_name": "StyleView",
            "description_width": ""
          }
        },
        "82ada12316d044ffbed8eb65d09c8e10": {
          "model_module": "@jupyter-widgets/base",
          "model_name": "LayoutModel",
          "model_module_version": "1.2.0",
          "state": {
            "_model_module": "@jupyter-widgets/base",
            "_model_module_version": "1.2.0",
            "_model_name": "LayoutModel",
            "_view_count": null,
            "_view_module": "@jupyter-widgets/base",
            "_view_module_version": "1.2.0",
            "_view_name": "LayoutView",
            "align_content": null,
            "align_items": null,
            "align_self": null,
            "border": null,
            "bottom": null,
            "display": null,
            "flex": null,
            "flex_flow": null,
            "grid_area": null,
            "grid_auto_columns": null,
            "grid_auto_flow": null,
            "grid_auto_rows": null,
            "grid_column": null,
            "grid_gap": null,
            "grid_row": null,
            "grid_template_areas": null,
            "grid_template_columns": null,
            "grid_template_rows": null,
            "height": null,
            "justify_content": null,
            "justify_items": null,
            "left": null,
            "margin": null,
            "max_height": null,
            "max_width": null,
            "min_height": null,
            "min_width": null,
            "object_fit": null,
            "object_position": null,
            "order": null,
            "overflow": null,
            "overflow_x": null,
            "overflow_y": null,
            "padding": null,
            "right": null,
            "top": null,
            "visibility": null,
            "width": null
          }
        },
        "d75b4d9beac94f5a85e91e9e7e7b38c7": {
          "model_module": "@jupyter-widgets/controls",
          "model_name": "ProgressStyleModel",
          "model_module_version": "1.5.0",
          "state": {
            "_model_module": "@jupyter-widgets/controls",
            "_model_module_version": "1.5.0",
            "_model_name": "ProgressStyleModel",
            "_view_count": null,
            "_view_module": "@jupyter-widgets/base",
            "_view_module_version": "1.2.0",
            "_view_name": "StyleView",
            "bar_color": null,
            "description_width": ""
          }
        },
        "1c13a722a25e49789ce850042bf8583e": {
          "model_module": "@jupyter-widgets/base",
          "model_name": "LayoutModel",
          "model_module_version": "1.2.0",
          "state": {
            "_model_module": "@jupyter-widgets/base",
            "_model_module_version": "1.2.0",
            "_model_name": "LayoutModel",
            "_view_count": null,
            "_view_module": "@jupyter-widgets/base",
            "_view_module_version": "1.2.0",
            "_view_name": "LayoutView",
            "align_content": null,
            "align_items": null,
            "align_self": null,
            "border": null,
            "bottom": null,
            "display": null,
            "flex": null,
            "flex_flow": null,
            "grid_area": null,
            "grid_auto_columns": null,
            "grid_auto_flow": null,
            "grid_auto_rows": null,
            "grid_column": null,
            "grid_gap": null,
            "grid_row": null,
            "grid_template_areas": null,
            "grid_template_columns": null,
            "grid_template_rows": null,
            "height": null,
            "justify_content": null,
            "justify_items": null,
            "left": null,
            "margin": null,
            "max_height": null,
            "max_width": null,
            "min_height": null,
            "min_width": null,
            "object_fit": null,
            "object_position": null,
            "order": null,
            "overflow": null,
            "overflow_x": null,
            "overflow_y": null,
            "padding": null,
            "right": null,
            "top": null,
            "visibility": null,
            "width": null
          }
        },
        "04f588fed77746a4a9a4970728c18159": {
          "model_module": "@jupyter-widgets/controls",
          "model_name": "DescriptionStyleModel",
          "model_module_version": "1.5.0",
          "state": {
            "_model_module": "@jupyter-widgets/controls",
            "_model_module_version": "1.5.0",
            "_model_name": "DescriptionStyleModel",
            "_view_count": null,
            "_view_module": "@jupyter-widgets/base",
            "_view_module_version": "1.2.0",
            "_view_name": "StyleView",
            "description_width": ""
          }
        },
        "d95ccf4fdaa642d39fb5dffae78f361f": {
          "model_module": "@jupyter-widgets/controls",
          "model_name": "HBoxModel",
          "model_module_version": "1.5.0",
          "state": {
            "_dom_classes": [],
            "_model_module": "@jupyter-widgets/controls",
            "_model_module_version": "1.5.0",
            "_model_name": "HBoxModel",
            "_view_count": null,
            "_view_module": "@jupyter-widgets/controls",
            "_view_module_version": "1.5.0",
            "_view_name": "HBoxView",
            "box_style": "",
            "children": [
              "IPY_MODEL_8126f43a8b3448b9a7d36148a6069f3b",
              "IPY_MODEL_3f7549df9788474e85bcbb0b40d688a7",
              "IPY_MODEL_109a86d97d3f42f88092991cfc92a7f1"
            ],
            "layout": "IPY_MODEL_39a675ed6a3b455d9b66a68a97aa7ea1"
          }
        },
        "8126f43a8b3448b9a7d36148a6069f3b": {
          "model_module": "@jupyter-widgets/controls",
          "model_name": "HTMLModel",
          "model_module_version": "1.5.0",
          "state": {
            "_dom_classes": [],
            "_model_module": "@jupyter-widgets/controls",
            "_model_module_version": "1.5.0",
            "_model_name": "HTMLModel",
            "_view_count": null,
            "_view_module": "@jupyter-widgets/controls",
            "_view_module_version": "1.5.0",
            "_view_name": "HTMLView",
            "description": "",
            "description_tooltip": null,
            "layout": "IPY_MODEL_15ceb1dd31c742868c94eea738bb88af",
            "placeholder": "​",
            "style": "IPY_MODEL_f844f40265834c6da1d2db6fc4a04f7b",
            "value": "Downloading data: 100%"
          }
        },
        "3f7549df9788474e85bcbb0b40d688a7": {
          "model_module": "@jupyter-widgets/controls",
          "model_name": "FloatProgressModel",
          "model_module_version": "1.5.0",
          "state": {
            "_dom_classes": [],
            "_model_module": "@jupyter-widgets/controls",
            "_model_module_version": "1.5.0",
            "_model_name": "FloatProgressModel",
            "_view_count": null,
            "_view_module": "@jupyter-widgets/controls",
            "_view_module_version": "1.5.0",
            "_view_name": "ProgressView",
            "bar_style": "success",
            "description": "",
            "description_tooltip": null,
            "layout": "IPY_MODEL_54e44d14db3b4b4c9ceea445e734e9fd",
            "max": 41996509,
            "min": 0,
            "orientation": "horizontal",
            "style": "IPY_MODEL_c07a1c65e8004e7d809e003152ba38a5",
            "value": 41996509
          }
        },
        "109a86d97d3f42f88092991cfc92a7f1": {
          "model_module": "@jupyter-widgets/controls",
          "model_name": "HTMLModel",
          "model_module_version": "1.5.0",
          "state": {
            "_dom_classes": [],
            "_model_module": "@jupyter-widgets/controls",
            "_model_module_version": "1.5.0",
            "_model_name": "HTMLModel",
            "_view_count": null,
            "_view_module": "@jupyter-widgets/controls",
            "_view_module_version": "1.5.0",
            "_view_name": "HTMLView",
            "description": "",
            "description_tooltip": null,
            "layout": "IPY_MODEL_52e347c85cfc46a4a684720f6042a191",
            "placeholder": "​",
            "style": "IPY_MODEL_b1e41ac1b1e441098501a6b5b7dec7aa",
            "value": " 42.0M/42.0M [00:00&lt;00:00, 41.5MB/s]"
          }
        },
        "39a675ed6a3b455d9b66a68a97aa7ea1": {
          "model_module": "@jupyter-widgets/base",
          "model_name": "LayoutModel",
          "model_module_version": "1.2.0",
          "state": {
            "_model_module": "@jupyter-widgets/base",
            "_model_module_version": "1.2.0",
            "_model_name": "LayoutModel",
            "_view_count": null,
            "_view_module": "@jupyter-widgets/base",
            "_view_module_version": "1.2.0",
            "_view_name": "LayoutView",
            "align_content": null,
            "align_items": null,
            "align_self": null,
            "border": null,
            "bottom": null,
            "display": null,
            "flex": null,
            "flex_flow": null,
            "grid_area": null,
            "grid_auto_columns": null,
            "grid_auto_flow": null,
            "grid_auto_rows": null,
            "grid_column": null,
            "grid_gap": null,
            "grid_row": null,
            "grid_template_areas": null,
            "grid_template_columns": null,
            "grid_template_rows": null,
            "height": null,
            "justify_content": null,
            "justify_items": null,
            "left": null,
            "margin": null,
            "max_height": null,
            "max_width": null,
            "min_height": null,
            "min_width": null,
            "object_fit": null,
            "object_position": null,
            "order": null,
            "overflow": null,
            "overflow_x": null,
            "overflow_y": null,
            "padding": null,
            "right": null,
            "top": null,
            "visibility": null,
            "width": null
          }
        },
        "15ceb1dd31c742868c94eea738bb88af": {
          "model_module": "@jupyter-widgets/base",
          "model_name": "LayoutModel",
          "model_module_version": "1.2.0",
          "state": {
            "_model_module": "@jupyter-widgets/base",
            "_model_module_version": "1.2.0",
            "_model_name": "LayoutModel",
            "_view_count": null,
            "_view_module": "@jupyter-widgets/base",
            "_view_module_version": "1.2.0",
            "_view_name": "LayoutView",
            "align_content": null,
            "align_items": null,
            "align_self": null,
            "border": null,
            "bottom": null,
            "display": null,
            "flex": null,
            "flex_flow": null,
            "grid_area": null,
            "grid_auto_columns": null,
            "grid_auto_flow": null,
            "grid_auto_rows": null,
            "grid_column": null,
            "grid_gap": null,
            "grid_row": null,
            "grid_template_areas": null,
            "grid_template_columns": null,
            "grid_template_rows": null,
            "height": null,
            "justify_content": null,
            "justify_items": null,
            "left": null,
            "margin": null,
            "max_height": null,
            "max_width": null,
            "min_height": null,
            "min_width": null,
            "object_fit": null,
            "object_position": null,
            "order": null,
            "overflow": null,
            "overflow_x": null,
            "overflow_y": null,
            "padding": null,
            "right": null,
            "top": null,
            "visibility": null,
            "width": null
          }
        },
        "f844f40265834c6da1d2db6fc4a04f7b": {
          "model_module": "@jupyter-widgets/controls",
          "model_name": "DescriptionStyleModel",
          "model_module_version": "1.5.0",
          "state": {
            "_model_module": "@jupyter-widgets/controls",
            "_model_module_version": "1.5.0",
            "_model_name": "DescriptionStyleModel",
            "_view_count": null,
            "_view_module": "@jupyter-widgets/base",
            "_view_module_version": "1.2.0",
            "_view_name": "StyleView",
            "description_width": ""
          }
        },
        "54e44d14db3b4b4c9ceea445e734e9fd": {
          "model_module": "@jupyter-widgets/base",
          "model_name": "LayoutModel",
          "model_module_version": "1.2.0",
          "state": {
            "_model_module": "@jupyter-widgets/base",
            "_model_module_version": "1.2.0",
            "_model_name": "LayoutModel",
            "_view_count": null,
            "_view_module": "@jupyter-widgets/base",
            "_view_module_version": "1.2.0",
            "_view_name": "LayoutView",
            "align_content": null,
            "align_items": null,
            "align_self": null,
            "border": null,
            "bottom": null,
            "display": null,
            "flex": null,
            "flex_flow": null,
            "grid_area": null,
            "grid_auto_columns": null,
            "grid_auto_flow": null,
            "grid_auto_rows": null,
            "grid_column": null,
            "grid_gap": null,
            "grid_row": null,
            "grid_template_areas": null,
            "grid_template_columns": null,
            "grid_template_rows": null,
            "height": null,
            "justify_content": null,
            "justify_items": null,
            "left": null,
            "margin": null,
            "max_height": null,
            "max_width": null,
            "min_height": null,
            "min_width": null,
            "object_fit": null,
            "object_position": null,
            "order": null,
            "overflow": null,
            "overflow_x": null,
            "overflow_y": null,
            "padding": null,
            "right": null,
            "top": null,
            "visibility": null,
            "width": null
          }
        },
        "c07a1c65e8004e7d809e003152ba38a5": {
          "model_module": "@jupyter-widgets/controls",
          "model_name": "ProgressStyleModel",
          "model_module_version": "1.5.0",
          "state": {
            "_model_module": "@jupyter-widgets/controls",
            "_model_module_version": "1.5.0",
            "_model_name": "ProgressStyleModel",
            "_view_count": null,
            "_view_module": "@jupyter-widgets/base",
            "_view_module_version": "1.2.0",
            "_view_name": "StyleView",
            "bar_color": null,
            "description_width": ""
          }
        },
        "52e347c85cfc46a4a684720f6042a191": {
          "model_module": "@jupyter-widgets/base",
          "model_name": "LayoutModel",
          "model_module_version": "1.2.0",
          "state": {
            "_model_module": "@jupyter-widgets/base",
            "_model_module_version": "1.2.0",
            "_model_name": "LayoutModel",
            "_view_count": null,
            "_view_module": "@jupyter-widgets/base",
            "_view_module_version": "1.2.0",
            "_view_name": "LayoutView",
            "align_content": null,
            "align_items": null,
            "align_self": null,
            "border": null,
            "bottom": null,
            "display": null,
            "flex": null,
            "flex_flow": null,
            "grid_area": null,
            "grid_auto_columns": null,
            "grid_auto_flow": null,
            "grid_auto_rows": null,
            "grid_column": null,
            "grid_gap": null,
            "grid_row": null,
            "grid_template_areas": null,
            "grid_template_columns": null,
            "grid_template_rows": null,
            "height": null,
            "justify_content": null,
            "justify_items": null,
            "left": null,
            "margin": null,
            "max_height": null,
            "max_width": null,
            "min_height": null,
            "min_width": null,
            "object_fit": null,
            "object_position": null,
            "order": null,
            "overflow": null,
            "overflow_x": null,
            "overflow_y": null,
            "padding": null,
            "right": null,
            "top": null,
            "visibility": null,
            "width": null
          }
        },
        "b1e41ac1b1e441098501a6b5b7dec7aa": {
          "model_module": "@jupyter-widgets/controls",
          "model_name": "DescriptionStyleModel",
          "model_module_version": "1.5.0",
          "state": {
            "_model_module": "@jupyter-widgets/controls",
            "_model_module_version": "1.5.0",
            "_model_name": "DescriptionStyleModel",
            "_view_count": null,
            "_view_module": "@jupyter-widgets/base",
            "_view_module_version": "1.2.0",
            "_view_name": "StyleView",
            "description_width": ""
          }
        },
        "6d965241fc3d4de4931651f1ddb4b173": {
          "model_module": "@jupyter-widgets/controls",
          "model_name": "HBoxModel",
          "model_module_version": "1.5.0",
          "state": {
            "_dom_classes": [],
            "_model_module": "@jupyter-widgets/controls",
            "_model_module_version": "1.5.0",
            "_model_name": "HBoxModel",
            "_view_count": null,
            "_view_module": "@jupyter-widgets/controls",
            "_view_module_version": "1.5.0",
            "_view_name": "HBoxView",
            "box_style": "",
            "children": [
              "IPY_MODEL_0356a9ebdcab42cf8c8b478c60fa9529",
              "IPY_MODEL_42e339acd0df45659f2e8108fd52cdb1",
              "IPY_MODEL_4b96083078b0491088c517bcbdbd61d0"
            ],
            "layout": "IPY_MODEL_1f671f326039419a99eb3b54b43d7d79"
          }
        },
        "0356a9ebdcab42cf8c8b478c60fa9529": {
          "model_module": "@jupyter-widgets/controls",
          "model_name": "HTMLModel",
          "model_module_version": "1.5.0",
          "state": {
            "_dom_classes": [],
            "_model_module": "@jupyter-widgets/controls",
            "_model_module_version": "1.5.0",
            "_model_name": "HTMLModel",
            "_view_count": null,
            "_view_module": "@jupyter-widgets/controls",
            "_view_module_version": "1.5.0",
            "_view_name": "HTMLView",
            "description": "",
            "description_tooltip": null,
            "layout": "IPY_MODEL_fce8a3f8fe7b4234b8c5558ab85c9a52",
            "placeholder": "​",
            "style": "IPY_MODEL_fbf9912b3fde49938d0033fa36829c2b",
            "value": "Generating train split: 100%"
          }
        },
        "42e339acd0df45659f2e8108fd52cdb1": {
          "model_module": "@jupyter-widgets/controls",
          "model_name": "FloatProgressModel",
          "model_module_version": "1.5.0",
          "state": {
            "_dom_classes": [],
            "_model_module": "@jupyter-widgets/controls",
            "_model_module_version": "1.5.0",
            "_model_name": "FloatProgressModel",
            "_view_count": null,
            "_view_module": "@jupyter-widgets/controls",
            "_view_module_version": "1.5.0",
            "_view_name": "ProgressView",
            "bar_style": "success",
            "description": "",
            "description_tooltip": null,
            "layout": "IPY_MODEL_9a3b1f094f6f49ceb16fd9ab66291e9b",
            "max": 25000,
            "min": 0,
            "orientation": "horizontal",
            "style": "IPY_MODEL_a358c25dfa7547e4ad8595f1af654c3c",
            "value": 25000
          }
        },
        "4b96083078b0491088c517bcbdbd61d0": {
          "model_module": "@jupyter-widgets/controls",
          "model_name": "HTMLModel",
          "model_module_version": "1.5.0",
          "state": {
            "_dom_classes": [],
            "_model_module": "@jupyter-widgets/controls",
            "_model_module_version": "1.5.0",
            "_model_name": "HTMLModel",
            "_view_count": null,
            "_view_module": "@jupyter-widgets/controls",
            "_view_module_version": "1.5.0",
            "_view_name": "HTMLView",
            "description": "",
            "description_tooltip": null,
            "layout": "IPY_MODEL_f0883797509e46f9bf796d0a2557b5ad",
            "placeholder": "​",
            "style": "IPY_MODEL_5765c85d352345fc9aa0dab18cd79244",
            "value": " 25000/25000 [00:00&lt;00:00, 135696.00 examples/s]"
          }
        },
        "1f671f326039419a99eb3b54b43d7d79": {
          "model_module": "@jupyter-widgets/base",
          "model_name": "LayoutModel",
          "model_module_version": "1.2.0",
          "state": {
            "_model_module": "@jupyter-widgets/base",
            "_model_module_version": "1.2.0",
            "_model_name": "LayoutModel",
            "_view_count": null,
            "_view_module": "@jupyter-widgets/base",
            "_view_module_version": "1.2.0",
            "_view_name": "LayoutView",
            "align_content": null,
            "align_items": null,
            "align_self": null,
            "border": null,
            "bottom": null,
            "display": null,
            "flex": null,
            "flex_flow": null,
            "grid_area": null,
            "grid_auto_columns": null,
            "grid_auto_flow": null,
            "grid_auto_rows": null,
            "grid_column": null,
            "grid_gap": null,
            "grid_row": null,
            "grid_template_areas": null,
            "grid_template_columns": null,
            "grid_template_rows": null,
            "height": null,
            "justify_content": null,
            "justify_items": null,
            "left": null,
            "margin": null,
            "max_height": null,
            "max_width": null,
            "min_height": null,
            "min_width": null,
            "object_fit": null,
            "object_position": null,
            "order": null,
            "overflow": null,
            "overflow_x": null,
            "overflow_y": null,
            "padding": null,
            "right": null,
            "top": null,
            "visibility": null,
            "width": null
          }
        },
        "fce8a3f8fe7b4234b8c5558ab85c9a52": {
          "model_module": "@jupyter-widgets/base",
          "model_name": "LayoutModel",
          "model_module_version": "1.2.0",
          "state": {
            "_model_module": "@jupyter-widgets/base",
            "_model_module_version": "1.2.0",
            "_model_name": "LayoutModel",
            "_view_count": null,
            "_view_module": "@jupyter-widgets/base",
            "_view_module_version": "1.2.0",
            "_view_name": "LayoutView",
            "align_content": null,
            "align_items": null,
            "align_self": null,
            "border": null,
            "bottom": null,
            "display": null,
            "flex": null,
            "flex_flow": null,
            "grid_area": null,
            "grid_auto_columns": null,
            "grid_auto_flow": null,
            "grid_auto_rows": null,
            "grid_column": null,
            "grid_gap": null,
            "grid_row": null,
            "grid_template_areas": null,
            "grid_template_columns": null,
            "grid_template_rows": null,
            "height": null,
            "justify_content": null,
            "justify_items": null,
            "left": null,
            "margin": null,
            "max_height": null,
            "max_width": null,
            "min_height": null,
            "min_width": null,
            "object_fit": null,
            "object_position": null,
            "order": null,
            "overflow": null,
            "overflow_x": null,
            "overflow_y": null,
            "padding": null,
            "right": null,
            "top": null,
            "visibility": null,
            "width": null
          }
        },
        "fbf9912b3fde49938d0033fa36829c2b": {
          "model_module": "@jupyter-widgets/controls",
          "model_name": "DescriptionStyleModel",
          "model_module_version": "1.5.0",
          "state": {
            "_model_module": "@jupyter-widgets/controls",
            "_model_module_version": "1.5.0",
            "_model_name": "DescriptionStyleModel",
            "_view_count": null,
            "_view_module": "@jupyter-widgets/base",
            "_view_module_version": "1.2.0",
            "_view_name": "StyleView",
            "description_width": ""
          }
        },
        "9a3b1f094f6f49ceb16fd9ab66291e9b": {
          "model_module": "@jupyter-widgets/base",
          "model_name": "LayoutModel",
          "model_module_version": "1.2.0",
          "state": {
            "_model_module": "@jupyter-widgets/base",
            "_model_module_version": "1.2.0",
            "_model_name": "LayoutModel",
            "_view_count": null,
            "_view_module": "@jupyter-widgets/base",
            "_view_module_version": "1.2.0",
            "_view_name": "LayoutView",
            "align_content": null,
            "align_items": null,
            "align_self": null,
            "border": null,
            "bottom": null,
            "display": null,
            "flex": null,
            "flex_flow": null,
            "grid_area": null,
            "grid_auto_columns": null,
            "grid_auto_flow": null,
            "grid_auto_rows": null,
            "grid_column": null,
            "grid_gap": null,
            "grid_row": null,
            "grid_template_areas": null,
            "grid_template_columns": null,
            "grid_template_rows": null,
            "height": null,
            "justify_content": null,
            "justify_items": null,
            "left": null,
            "margin": null,
            "max_height": null,
            "max_width": null,
            "min_height": null,
            "min_width": null,
            "object_fit": null,
            "object_position": null,
            "order": null,
            "overflow": null,
            "overflow_x": null,
            "overflow_y": null,
            "padding": null,
            "right": null,
            "top": null,
            "visibility": null,
            "width": null
          }
        },
        "a358c25dfa7547e4ad8595f1af654c3c": {
          "model_module": "@jupyter-widgets/controls",
          "model_name": "ProgressStyleModel",
          "model_module_version": "1.5.0",
          "state": {
            "_model_module": "@jupyter-widgets/controls",
            "_model_module_version": "1.5.0",
            "_model_name": "ProgressStyleModel",
            "_view_count": null,
            "_view_module": "@jupyter-widgets/base",
            "_view_module_version": "1.2.0",
            "_view_name": "StyleView",
            "bar_color": null,
            "description_width": ""
          }
        },
        "f0883797509e46f9bf796d0a2557b5ad": {
          "model_module": "@jupyter-widgets/base",
          "model_name": "LayoutModel",
          "model_module_version": "1.2.0",
          "state": {
            "_model_module": "@jupyter-widgets/base",
            "_model_module_version": "1.2.0",
            "_model_name": "LayoutModel",
            "_view_count": null,
            "_view_module": "@jupyter-widgets/base",
            "_view_module_version": "1.2.0",
            "_view_name": "LayoutView",
            "align_content": null,
            "align_items": null,
            "align_self": null,
            "border": null,
            "bottom": null,
            "display": null,
            "flex": null,
            "flex_flow": null,
            "grid_area": null,
            "grid_auto_columns": null,
            "grid_auto_flow": null,
            "grid_auto_rows": null,
            "grid_column": null,
            "grid_gap": null,
            "grid_row": null,
            "grid_template_areas": null,
            "grid_template_columns": null,
            "grid_template_rows": null,
            "height": null,
            "justify_content": null,
            "justify_items": null,
            "left": null,
            "margin": null,
            "max_height": null,
            "max_width": null,
            "min_height": null,
            "min_width": null,
            "object_fit": null,
            "object_position": null,
            "order": null,
            "overflow": null,
            "overflow_x": null,
            "overflow_y": null,
            "padding": null,
            "right": null,
            "top": null,
            "visibility": null,
            "width": null
          }
        },
        "5765c85d352345fc9aa0dab18cd79244": {
          "model_module": "@jupyter-widgets/controls",
          "model_name": "DescriptionStyleModel",
          "model_module_version": "1.5.0",
          "state": {
            "_model_module": "@jupyter-widgets/controls",
            "_model_module_version": "1.5.0",
            "_model_name": "DescriptionStyleModel",
            "_view_count": null,
            "_view_module": "@jupyter-widgets/base",
            "_view_module_version": "1.2.0",
            "_view_name": "StyleView",
            "description_width": ""
          }
        },
        "055809209df140af8646dc1c64bc5eaf": {
          "model_module": "@jupyter-widgets/controls",
          "model_name": "HBoxModel",
          "model_module_version": "1.5.0",
          "state": {
            "_dom_classes": [],
            "_model_module": "@jupyter-widgets/controls",
            "_model_module_version": "1.5.0",
            "_model_name": "HBoxModel",
            "_view_count": null,
            "_view_module": "@jupyter-widgets/controls",
            "_view_module_version": "1.5.0",
            "_view_name": "HBoxView",
            "box_style": "",
            "children": [
              "IPY_MODEL_3fede6852657453384aee9210c6acfd0",
              "IPY_MODEL_9d971dce5b584059a1204a61f3140aa1",
              "IPY_MODEL_cfc98331951c462580c39704eac63cdc"
            ],
            "layout": "IPY_MODEL_830afbb27ff54ee2afc33f32202aeffb"
          }
        },
        "3fede6852657453384aee9210c6acfd0": {
          "model_module": "@jupyter-widgets/controls",
          "model_name": "HTMLModel",
          "model_module_version": "1.5.0",
          "state": {
            "_dom_classes": [],
            "_model_module": "@jupyter-widgets/controls",
            "_model_module_version": "1.5.0",
            "_model_name": "HTMLModel",
            "_view_count": null,
            "_view_module": "@jupyter-widgets/controls",
            "_view_module_version": "1.5.0",
            "_view_name": "HTMLView",
            "description": "",
            "description_tooltip": null,
            "layout": "IPY_MODEL_8173948e6c174a18a3414900068d0428",
            "placeholder": "​",
            "style": "IPY_MODEL_3433c972fe9c458192e15218b31b2164",
            "value": "Generating test split: 100%"
          }
        },
        "9d971dce5b584059a1204a61f3140aa1": {
          "model_module": "@jupyter-widgets/controls",
          "model_name": "FloatProgressModel",
          "model_module_version": "1.5.0",
          "state": {
            "_dom_classes": [],
            "_model_module": "@jupyter-widgets/controls",
            "_model_module_version": "1.5.0",
            "_model_name": "FloatProgressModel",
            "_view_count": null,
            "_view_module": "@jupyter-widgets/controls",
            "_view_module_version": "1.5.0",
            "_view_name": "ProgressView",
            "bar_style": "success",
            "description": "",
            "description_tooltip": null,
            "layout": "IPY_MODEL_d0f5c694891146fe848fce7d2bdf7efa",
            "max": 25000,
            "min": 0,
            "orientation": "horizontal",
            "style": "IPY_MODEL_154d8c48441b415487e264bca8354ef6",
            "value": 25000
          }
        },
        "cfc98331951c462580c39704eac63cdc": {
          "model_module": "@jupyter-widgets/controls",
          "model_name": "HTMLModel",
          "model_module_version": "1.5.0",
          "state": {
            "_dom_classes": [],
            "_model_module": "@jupyter-widgets/controls",
            "_model_module_version": "1.5.0",
            "_model_name": "HTMLModel",
            "_view_count": null,
            "_view_module": "@jupyter-widgets/controls",
            "_view_module_version": "1.5.0",
            "_view_name": "HTMLView",
            "description": "",
            "description_tooltip": null,
            "layout": "IPY_MODEL_fef11f4228cf49f88a9e3765a9cba710",
            "placeholder": "​",
            "style": "IPY_MODEL_324cd7648bd943a2896480da1f991063",
            "value": " 25000/25000 [00:00&lt;00:00, 164131.21 examples/s]"
          }
        },
        "830afbb27ff54ee2afc33f32202aeffb": {
          "model_module": "@jupyter-widgets/base",
          "model_name": "LayoutModel",
          "model_module_version": "1.2.0",
          "state": {
            "_model_module": "@jupyter-widgets/base",
            "_model_module_version": "1.2.0",
            "_model_name": "LayoutModel",
            "_view_count": null,
            "_view_module": "@jupyter-widgets/base",
            "_view_module_version": "1.2.0",
            "_view_name": "LayoutView",
            "align_content": null,
            "align_items": null,
            "align_self": null,
            "border": null,
            "bottom": null,
            "display": null,
            "flex": null,
            "flex_flow": null,
            "grid_area": null,
            "grid_auto_columns": null,
            "grid_auto_flow": null,
            "grid_auto_rows": null,
            "grid_column": null,
            "grid_gap": null,
            "grid_row": null,
            "grid_template_areas": null,
            "grid_template_columns": null,
            "grid_template_rows": null,
            "height": null,
            "justify_content": null,
            "justify_items": null,
            "left": null,
            "margin": null,
            "max_height": null,
            "max_width": null,
            "min_height": null,
            "min_width": null,
            "object_fit": null,
            "object_position": null,
            "order": null,
            "overflow": null,
            "overflow_x": null,
            "overflow_y": null,
            "padding": null,
            "right": null,
            "top": null,
            "visibility": null,
            "width": null
          }
        },
        "8173948e6c174a18a3414900068d0428": {
          "model_module": "@jupyter-widgets/base",
          "model_name": "LayoutModel",
          "model_module_version": "1.2.0",
          "state": {
            "_model_module": "@jupyter-widgets/base",
            "_model_module_version": "1.2.0",
            "_model_name": "LayoutModel",
            "_view_count": null,
            "_view_module": "@jupyter-widgets/base",
            "_view_module_version": "1.2.0",
            "_view_name": "LayoutView",
            "align_content": null,
            "align_items": null,
            "align_self": null,
            "border": null,
            "bottom": null,
            "display": null,
            "flex": null,
            "flex_flow": null,
            "grid_area": null,
            "grid_auto_columns": null,
            "grid_auto_flow": null,
            "grid_auto_rows": null,
            "grid_column": null,
            "grid_gap": null,
            "grid_row": null,
            "grid_template_areas": null,
            "grid_template_columns": null,
            "grid_template_rows": null,
            "height": null,
            "justify_content": null,
            "justify_items": null,
            "left": null,
            "margin": null,
            "max_height": null,
            "max_width": null,
            "min_height": null,
            "min_width": null,
            "object_fit": null,
            "object_position": null,
            "order": null,
            "overflow": null,
            "overflow_x": null,
            "overflow_y": null,
            "padding": null,
            "right": null,
            "top": null,
            "visibility": null,
            "width": null
          }
        },
        "3433c972fe9c458192e15218b31b2164": {
          "model_module": "@jupyter-widgets/controls",
          "model_name": "DescriptionStyleModel",
          "model_module_version": "1.5.0",
          "state": {
            "_model_module": "@jupyter-widgets/controls",
            "_model_module_version": "1.5.0",
            "_model_name": "DescriptionStyleModel",
            "_view_count": null,
            "_view_module": "@jupyter-widgets/base",
            "_view_module_version": "1.2.0",
            "_view_name": "StyleView",
            "description_width": ""
          }
        },
        "d0f5c694891146fe848fce7d2bdf7efa": {
          "model_module": "@jupyter-widgets/base",
          "model_name": "LayoutModel",
          "model_module_version": "1.2.0",
          "state": {
            "_model_module": "@jupyter-widgets/base",
            "_model_module_version": "1.2.0",
            "_model_name": "LayoutModel",
            "_view_count": null,
            "_view_module": "@jupyter-widgets/base",
            "_view_module_version": "1.2.0",
            "_view_name": "LayoutView",
            "align_content": null,
            "align_items": null,
            "align_self": null,
            "border": null,
            "bottom": null,
            "display": null,
            "flex": null,
            "flex_flow": null,
            "grid_area": null,
            "grid_auto_columns": null,
            "grid_auto_flow": null,
            "grid_auto_rows": null,
            "grid_column": null,
            "grid_gap": null,
            "grid_row": null,
            "grid_template_areas": null,
            "grid_template_columns": null,
            "grid_template_rows": null,
            "height": null,
            "justify_content": null,
            "justify_items": null,
            "left": null,
            "margin": null,
            "max_height": null,
            "max_width": null,
            "min_height": null,
            "min_width": null,
            "object_fit": null,
            "object_position": null,
            "order": null,
            "overflow": null,
            "overflow_x": null,
            "overflow_y": null,
            "padding": null,
            "right": null,
            "top": null,
            "visibility": null,
            "width": null
          }
        },
        "154d8c48441b415487e264bca8354ef6": {
          "model_module": "@jupyter-widgets/controls",
          "model_name": "ProgressStyleModel",
          "model_module_version": "1.5.0",
          "state": {
            "_model_module": "@jupyter-widgets/controls",
            "_model_module_version": "1.5.0",
            "_model_name": "ProgressStyleModel",
            "_view_count": null,
            "_view_module": "@jupyter-widgets/base",
            "_view_module_version": "1.2.0",
            "_view_name": "StyleView",
            "bar_color": null,
            "description_width": ""
          }
        },
        "fef11f4228cf49f88a9e3765a9cba710": {
          "model_module": "@jupyter-widgets/base",
          "model_name": "LayoutModel",
          "model_module_version": "1.2.0",
          "state": {
            "_model_module": "@jupyter-widgets/base",
            "_model_module_version": "1.2.0",
            "_model_name": "LayoutModel",
            "_view_count": null,
            "_view_module": "@jupyter-widgets/base",
            "_view_module_version": "1.2.0",
            "_view_name": "LayoutView",
            "align_content": null,
            "align_items": null,
            "align_self": null,
            "border": null,
            "bottom": null,
            "display": null,
            "flex": null,
            "flex_flow": null,
            "grid_area": null,
            "grid_auto_columns": null,
            "grid_auto_flow": null,
            "grid_auto_rows": null,
            "grid_column": null,
            "grid_gap": null,
            "grid_row": null,
            "grid_template_areas": null,
            "grid_template_columns": null,
            "grid_template_rows": null,
            "height": null,
            "justify_content": null,
            "justify_items": null,
            "left": null,
            "margin": null,
            "max_height": null,
            "max_width": null,
            "min_height": null,
            "min_width": null,
            "object_fit": null,
            "object_position": null,
            "order": null,
            "overflow": null,
            "overflow_x": null,
            "overflow_y": null,
            "padding": null,
            "right": null,
            "top": null,
            "visibility": null,
            "width": null
          }
        },
        "324cd7648bd943a2896480da1f991063": {
          "model_module": "@jupyter-widgets/controls",
          "model_name": "DescriptionStyleModel",
          "model_module_version": "1.5.0",
          "state": {
            "_model_module": "@jupyter-widgets/controls",
            "_model_module_version": "1.5.0",
            "_model_name": "DescriptionStyleModel",
            "_view_count": null,
            "_view_module": "@jupyter-widgets/base",
            "_view_module_version": "1.2.0",
            "_view_name": "StyleView",
            "description_width": ""
          }
        },
        "8915c847d8f2491b88d83316cfeb8b6f": {
          "model_module": "@jupyter-widgets/controls",
          "model_name": "HBoxModel",
          "model_module_version": "1.5.0",
          "state": {
            "_dom_classes": [],
            "_model_module": "@jupyter-widgets/controls",
            "_model_module_version": "1.5.0",
            "_model_name": "HBoxModel",
            "_view_count": null,
            "_view_module": "@jupyter-widgets/controls",
            "_view_module_version": "1.5.0",
            "_view_name": "HBoxView",
            "box_style": "",
            "children": [
              "IPY_MODEL_ad6040bb5bc04cd889a60c1b3b0a6dc2",
              "IPY_MODEL_9dd172e935c04618bc38fd5721430ca1",
              "IPY_MODEL_f0e53919d4f04951aa4c8c1776abcbcf"
            ],
            "layout": "IPY_MODEL_c89301bdbb5c44f1962309ccbb419251"
          }
        },
        "ad6040bb5bc04cd889a60c1b3b0a6dc2": {
          "model_module": "@jupyter-widgets/controls",
          "model_name": "HTMLModel",
          "model_module_version": "1.5.0",
          "state": {
            "_dom_classes": [],
            "_model_module": "@jupyter-widgets/controls",
            "_model_module_version": "1.5.0",
            "_model_name": "HTMLModel",
            "_view_count": null,
            "_view_module": "@jupyter-widgets/controls",
            "_view_module_version": "1.5.0",
            "_view_name": "HTMLView",
            "description": "",
            "description_tooltip": null,
            "layout": "IPY_MODEL_d8075fd69ef04d2fbed3355e2cd9b5f1",
            "placeholder": "​",
            "style": "IPY_MODEL_0e9865c2eaa445ad8bfc9be4597e44ca",
            "value": "Generating unsupervised split: 100%"
          }
        },
        "9dd172e935c04618bc38fd5721430ca1": {
          "model_module": "@jupyter-widgets/controls",
          "model_name": "FloatProgressModel",
          "model_module_version": "1.5.0",
          "state": {
            "_dom_classes": [],
            "_model_module": "@jupyter-widgets/controls",
            "_model_module_version": "1.5.0",
            "_model_name": "FloatProgressModel",
            "_view_count": null,
            "_view_module": "@jupyter-widgets/controls",
            "_view_module_version": "1.5.0",
            "_view_name": "ProgressView",
            "bar_style": "success",
            "description": "",
            "description_tooltip": null,
            "layout": "IPY_MODEL_827adef273424408b860fa597a59c5cd",
            "max": 50000,
            "min": 0,
            "orientation": "horizontal",
            "style": "IPY_MODEL_5a507d0658344843802b3f0ae7dceee2",
            "value": 50000
          }
        },
        "f0e53919d4f04951aa4c8c1776abcbcf": {
          "model_module": "@jupyter-widgets/controls",
          "model_name": "HTMLModel",
          "model_module_version": "1.5.0",
          "state": {
            "_dom_classes": [],
            "_model_module": "@jupyter-widgets/controls",
            "_model_module_version": "1.5.0",
            "_model_name": "HTMLModel",
            "_view_count": null,
            "_view_module": "@jupyter-widgets/controls",
            "_view_module_version": "1.5.0",
            "_view_name": "HTMLView",
            "description": "",
            "description_tooltip": null,
            "layout": "IPY_MODEL_5b64d0acb1214df5a03c5bee6547459a",
            "placeholder": "​",
            "style": "IPY_MODEL_5704a18a6bd94346bb2cc841c5248de2",
            "value": " 50000/50000 [00:00&lt;00:00, 171801.27 examples/s]"
          }
        },
        "c89301bdbb5c44f1962309ccbb419251": {
          "model_module": "@jupyter-widgets/base",
          "model_name": "LayoutModel",
          "model_module_version": "1.2.0",
          "state": {
            "_model_module": "@jupyter-widgets/base",
            "_model_module_version": "1.2.0",
            "_model_name": "LayoutModel",
            "_view_count": null,
            "_view_module": "@jupyter-widgets/base",
            "_view_module_version": "1.2.0",
            "_view_name": "LayoutView",
            "align_content": null,
            "align_items": null,
            "align_self": null,
            "border": null,
            "bottom": null,
            "display": null,
            "flex": null,
            "flex_flow": null,
            "grid_area": null,
            "grid_auto_columns": null,
            "grid_auto_flow": null,
            "grid_auto_rows": null,
            "grid_column": null,
            "grid_gap": null,
            "grid_row": null,
            "grid_template_areas": null,
            "grid_template_columns": null,
            "grid_template_rows": null,
            "height": null,
            "justify_content": null,
            "justify_items": null,
            "left": null,
            "margin": null,
            "max_height": null,
            "max_width": null,
            "min_height": null,
            "min_width": null,
            "object_fit": null,
            "object_position": null,
            "order": null,
            "overflow": null,
            "overflow_x": null,
            "overflow_y": null,
            "padding": null,
            "right": null,
            "top": null,
            "visibility": null,
            "width": null
          }
        },
        "d8075fd69ef04d2fbed3355e2cd9b5f1": {
          "model_module": "@jupyter-widgets/base",
          "model_name": "LayoutModel",
          "model_module_version": "1.2.0",
          "state": {
            "_model_module": "@jupyter-widgets/base",
            "_model_module_version": "1.2.0",
            "_model_name": "LayoutModel",
            "_view_count": null,
            "_view_module": "@jupyter-widgets/base",
            "_view_module_version": "1.2.0",
            "_view_name": "LayoutView",
            "align_content": null,
            "align_items": null,
            "align_self": null,
            "border": null,
            "bottom": null,
            "display": null,
            "flex": null,
            "flex_flow": null,
            "grid_area": null,
            "grid_auto_columns": null,
            "grid_auto_flow": null,
            "grid_auto_rows": null,
            "grid_column": null,
            "grid_gap": null,
            "grid_row": null,
            "grid_template_areas": null,
            "grid_template_columns": null,
            "grid_template_rows": null,
            "height": null,
            "justify_content": null,
            "justify_items": null,
            "left": null,
            "margin": null,
            "max_height": null,
            "max_width": null,
            "min_height": null,
            "min_width": null,
            "object_fit": null,
            "object_position": null,
            "order": null,
            "overflow": null,
            "overflow_x": null,
            "overflow_y": null,
            "padding": null,
            "right": null,
            "top": null,
            "visibility": null,
            "width": null
          }
        },
        "0e9865c2eaa445ad8bfc9be4597e44ca": {
          "model_module": "@jupyter-widgets/controls",
          "model_name": "DescriptionStyleModel",
          "model_module_version": "1.5.0",
          "state": {
            "_model_module": "@jupyter-widgets/controls",
            "_model_module_version": "1.5.0",
            "_model_name": "DescriptionStyleModel",
            "_view_count": null,
            "_view_module": "@jupyter-widgets/base",
            "_view_module_version": "1.2.0",
            "_view_name": "StyleView",
            "description_width": ""
          }
        },
        "827adef273424408b860fa597a59c5cd": {
          "model_module": "@jupyter-widgets/base",
          "model_name": "LayoutModel",
          "model_module_version": "1.2.0",
          "state": {
            "_model_module": "@jupyter-widgets/base",
            "_model_module_version": "1.2.0",
            "_model_name": "LayoutModel",
            "_view_count": null,
            "_view_module": "@jupyter-widgets/base",
            "_view_module_version": "1.2.0",
            "_view_name": "LayoutView",
            "align_content": null,
            "align_items": null,
            "align_self": null,
            "border": null,
            "bottom": null,
            "display": null,
            "flex": null,
            "flex_flow": null,
            "grid_area": null,
            "grid_auto_columns": null,
            "grid_auto_flow": null,
            "grid_auto_rows": null,
            "grid_column": null,
            "grid_gap": null,
            "grid_row": null,
            "grid_template_areas": null,
            "grid_template_columns": null,
            "grid_template_rows": null,
            "height": null,
            "justify_content": null,
            "justify_items": null,
            "left": null,
            "margin": null,
            "max_height": null,
            "max_width": null,
            "min_height": null,
            "min_width": null,
            "object_fit": null,
            "object_position": null,
            "order": null,
            "overflow": null,
            "overflow_x": null,
            "overflow_y": null,
            "padding": null,
            "right": null,
            "top": null,
            "visibility": null,
            "width": null
          }
        },
        "5a507d0658344843802b3f0ae7dceee2": {
          "model_module": "@jupyter-widgets/controls",
          "model_name": "ProgressStyleModel",
          "model_module_version": "1.5.0",
          "state": {
            "_model_module": "@jupyter-widgets/controls",
            "_model_module_version": "1.5.0",
            "_model_name": "ProgressStyleModel",
            "_view_count": null,
            "_view_module": "@jupyter-widgets/base",
            "_view_module_version": "1.2.0",
            "_view_name": "StyleView",
            "bar_color": null,
            "description_width": ""
          }
        },
        "5b64d0acb1214df5a03c5bee6547459a": {
          "model_module": "@jupyter-widgets/base",
          "model_name": "LayoutModel",
          "model_module_version": "1.2.0",
          "state": {
            "_model_module": "@jupyter-widgets/base",
            "_model_module_version": "1.2.0",
            "_model_name": "LayoutModel",
            "_view_count": null,
            "_view_module": "@jupyter-widgets/base",
            "_view_module_version": "1.2.0",
            "_view_name": "LayoutView",
            "align_content": null,
            "align_items": null,
            "align_self": null,
            "border": null,
            "bottom": null,
            "display": null,
            "flex": null,
            "flex_flow": null,
            "grid_area": null,
            "grid_auto_columns": null,
            "grid_auto_flow": null,
            "grid_auto_rows": null,
            "grid_column": null,
            "grid_gap": null,
            "grid_row": null,
            "grid_template_areas": null,
            "grid_template_columns": null,
            "grid_template_rows": null,
            "height": null,
            "justify_content": null,
            "justify_items": null,
            "left": null,
            "margin": null,
            "max_height": null,
            "max_width": null,
            "min_height": null,
            "min_width": null,
            "object_fit": null,
            "object_position": null,
            "order": null,
            "overflow": null,
            "overflow_x": null,
            "overflow_y": null,
            "padding": null,
            "right": null,
            "top": null,
            "visibility": null,
            "width": null
          }
        },
        "5704a18a6bd94346bb2cc841c5248de2": {
          "model_module": "@jupyter-widgets/controls",
          "model_name": "DescriptionStyleModel",
          "model_module_version": "1.5.0",
          "state": {
            "_model_module": "@jupyter-widgets/controls",
            "_model_module_version": "1.5.0",
            "_model_name": "DescriptionStyleModel",
            "_view_count": null,
            "_view_module": "@jupyter-widgets/base",
            "_view_module_version": "1.2.0",
            "_view_name": "StyleView",
            "description_width": ""
          }
        },
        "4b0cae21e8e04e46a5c3a2c98f8262a1": {
          "model_module": "@jupyter-widgets/controls",
          "model_name": "HBoxModel",
          "model_module_version": "1.5.0",
          "state": {
            "_dom_classes": [],
            "_model_module": "@jupyter-widgets/controls",
            "_model_module_version": "1.5.0",
            "_model_name": "HBoxModel",
            "_view_count": null,
            "_view_module": "@jupyter-widgets/controls",
            "_view_module_version": "1.5.0",
            "_view_name": "HBoxView",
            "box_style": "",
            "children": [
              "IPY_MODEL_b18ea807e6324b0faad232122f88a2a9",
              "IPY_MODEL_cf34948c3ffe4994838f22c7f68299ed",
              "IPY_MODEL_800d8a9e028149ee872f9736a9bc25b4"
            ],
            "layout": "IPY_MODEL_58594a1a503f4537b3644e49ef87bb99"
          }
        },
        "b18ea807e6324b0faad232122f88a2a9": {
          "model_module": "@jupyter-widgets/controls",
          "model_name": "HTMLModel",
          "model_module_version": "1.5.0",
          "state": {
            "_dom_classes": [],
            "_model_module": "@jupyter-widgets/controls",
            "_model_module_version": "1.5.0",
            "_model_name": "HTMLModel",
            "_view_count": null,
            "_view_module": "@jupyter-widgets/controls",
            "_view_module_version": "1.5.0",
            "_view_name": "HTMLView",
            "description": "",
            "description_tooltip": null,
            "layout": "IPY_MODEL_89bf71e2445a461b85ace625267cedff",
            "placeholder": "​",
            "style": "IPY_MODEL_21f79c531df549969c85a17eb1119775",
            "value": "Map: 100%"
          }
        },
        "cf34948c3ffe4994838f22c7f68299ed": {
          "model_module": "@jupyter-widgets/controls",
          "model_name": "FloatProgressModel",
          "model_module_version": "1.5.0",
          "state": {
            "_dom_classes": [],
            "_model_module": "@jupyter-widgets/controls",
            "_model_module_version": "1.5.0",
            "_model_name": "FloatProgressModel",
            "_view_count": null,
            "_view_module": "@jupyter-widgets/controls",
            "_view_module_version": "1.5.0",
            "_view_name": "ProgressView",
            "bar_style": "success",
            "description": "",
            "description_tooltip": null,
            "layout": "IPY_MODEL_f6403d9240464d9aad37fb5b2ae99e78",
            "max": 25000,
            "min": 0,
            "orientation": "horizontal",
            "style": "IPY_MODEL_65b834320c024541b320d0b0c6bd8a00",
            "value": 25000
          }
        },
        "800d8a9e028149ee872f9736a9bc25b4": {
          "model_module": "@jupyter-widgets/controls",
          "model_name": "HTMLModel",
          "model_module_version": "1.5.0",
          "state": {
            "_dom_classes": [],
            "_model_module": "@jupyter-widgets/controls",
            "_model_module_version": "1.5.0",
            "_model_name": "HTMLModel",
            "_view_count": null,
            "_view_module": "@jupyter-widgets/controls",
            "_view_module_version": "1.5.0",
            "_view_name": "HTMLView",
            "description": "",
            "description_tooltip": null,
            "layout": "IPY_MODEL_f7bc650796a941748867b9fc942867c1",
            "placeholder": "​",
            "style": "IPY_MODEL_0b7978d121224973bf33841e7d0d8584",
            "value": " 25000/25000 [00:05&lt;00:00, 4996.15 examples/s]"
          }
        },
        "58594a1a503f4537b3644e49ef87bb99": {
          "model_module": "@jupyter-widgets/base",
          "model_name": "LayoutModel",
          "model_module_version": "1.2.0",
          "state": {
            "_model_module": "@jupyter-widgets/base",
            "_model_module_version": "1.2.0",
            "_model_name": "LayoutModel",
            "_view_count": null,
            "_view_module": "@jupyter-widgets/base",
            "_view_module_version": "1.2.0",
            "_view_name": "LayoutView",
            "align_content": null,
            "align_items": null,
            "align_self": null,
            "border": null,
            "bottom": null,
            "display": null,
            "flex": null,
            "flex_flow": null,
            "grid_area": null,
            "grid_auto_columns": null,
            "grid_auto_flow": null,
            "grid_auto_rows": null,
            "grid_column": null,
            "grid_gap": null,
            "grid_row": null,
            "grid_template_areas": null,
            "grid_template_columns": null,
            "grid_template_rows": null,
            "height": null,
            "justify_content": null,
            "justify_items": null,
            "left": null,
            "margin": null,
            "max_height": null,
            "max_width": null,
            "min_height": null,
            "min_width": null,
            "object_fit": null,
            "object_position": null,
            "order": null,
            "overflow": null,
            "overflow_x": null,
            "overflow_y": null,
            "padding": null,
            "right": null,
            "top": null,
            "visibility": null,
            "width": null
          }
        },
        "89bf71e2445a461b85ace625267cedff": {
          "model_module": "@jupyter-widgets/base",
          "model_name": "LayoutModel",
          "model_module_version": "1.2.0",
          "state": {
            "_model_module": "@jupyter-widgets/base",
            "_model_module_version": "1.2.0",
            "_model_name": "LayoutModel",
            "_view_count": null,
            "_view_module": "@jupyter-widgets/base",
            "_view_module_version": "1.2.0",
            "_view_name": "LayoutView",
            "align_content": null,
            "align_items": null,
            "align_self": null,
            "border": null,
            "bottom": null,
            "display": null,
            "flex": null,
            "flex_flow": null,
            "grid_area": null,
            "grid_auto_columns": null,
            "grid_auto_flow": null,
            "grid_auto_rows": null,
            "grid_column": null,
            "grid_gap": null,
            "grid_row": null,
            "grid_template_areas": null,
            "grid_template_columns": null,
            "grid_template_rows": null,
            "height": null,
            "justify_content": null,
            "justify_items": null,
            "left": null,
            "margin": null,
            "max_height": null,
            "max_width": null,
            "min_height": null,
            "min_width": null,
            "object_fit": null,
            "object_position": null,
            "order": null,
            "overflow": null,
            "overflow_x": null,
            "overflow_y": null,
            "padding": null,
            "right": null,
            "top": null,
            "visibility": null,
            "width": null
          }
        },
        "21f79c531df549969c85a17eb1119775": {
          "model_module": "@jupyter-widgets/controls",
          "model_name": "DescriptionStyleModel",
          "model_module_version": "1.5.0",
          "state": {
            "_model_module": "@jupyter-widgets/controls",
            "_model_module_version": "1.5.0",
            "_model_name": "DescriptionStyleModel",
            "_view_count": null,
            "_view_module": "@jupyter-widgets/base",
            "_view_module_version": "1.2.0",
            "_view_name": "StyleView",
            "description_width": ""
          }
        },
        "f6403d9240464d9aad37fb5b2ae99e78": {
          "model_module": "@jupyter-widgets/base",
          "model_name": "LayoutModel",
          "model_module_version": "1.2.0",
          "state": {
            "_model_module": "@jupyter-widgets/base",
            "_model_module_version": "1.2.0",
            "_model_name": "LayoutModel",
            "_view_count": null,
            "_view_module": "@jupyter-widgets/base",
            "_view_module_version": "1.2.0",
            "_view_name": "LayoutView",
            "align_content": null,
            "align_items": null,
            "align_self": null,
            "border": null,
            "bottom": null,
            "display": null,
            "flex": null,
            "flex_flow": null,
            "grid_area": null,
            "grid_auto_columns": null,
            "grid_auto_flow": null,
            "grid_auto_rows": null,
            "grid_column": null,
            "grid_gap": null,
            "grid_row": null,
            "grid_template_areas": null,
            "grid_template_columns": null,
            "grid_template_rows": null,
            "height": null,
            "justify_content": null,
            "justify_items": null,
            "left": null,
            "margin": null,
            "max_height": null,
            "max_width": null,
            "min_height": null,
            "min_width": null,
            "object_fit": null,
            "object_position": null,
            "order": null,
            "overflow": null,
            "overflow_x": null,
            "overflow_y": null,
            "padding": null,
            "right": null,
            "top": null,
            "visibility": null,
            "width": null
          }
        },
        "65b834320c024541b320d0b0c6bd8a00": {
          "model_module": "@jupyter-widgets/controls",
          "model_name": "ProgressStyleModel",
          "model_module_version": "1.5.0",
          "state": {
            "_model_module": "@jupyter-widgets/controls",
            "_model_module_version": "1.5.0",
            "_model_name": "ProgressStyleModel",
            "_view_count": null,
            "_view_module": "@jupyter-widgets/base",
            "_view_module_version": "1.2.0",
            "_view_name": "StyleView",
            "bar_color": null,
            "description_width": ""
          }
        },
        "f7bc650796a941748867b9fc942867c1": {
          "model_module": "@jupyter-widgets/base",
          "model_name": "LayoutModel",
          "model_module_version": "1.2.0",
          "state": {
            "_model_module": "@jupyter-widgets/base",
            "_model_module_version": "1.2.0",
            "_model_name": "LayoutModel",
            "_view_count": null,
            "_view_module": "@jupyter-widgets/base",
            "_view_module_version": "1.2.0",
            "_view_name": "LayoutView",
            "align_content": null,
            "align_items": null,
            "align_self": null,
            "border": null,
            "bottom": null,
            "display": null,
            "flex": null,
            "flex_flow": null,
            "grid_area": null,
            "grid_auto_columns": null,
            "grid_auto_flow": null,
            "grid_auto_rows": null,
            "grid_column": null,
            "grid_gap": null,
            "grid_row": null,
            "grid_template_areas": null,
            "grid_template_columns": null,
            "grid_template_rows": null,
            "height": null,
            "justify_content": null,
            "justify_items": null,
            "left": null,
            "margin": null,
            "max_height": null,
            "max_width": null,
            "min_height": null,
            "min_width": null,
            "object_fit": null,
            "object_position": null,
            "order": null,
            "overflow": null,
            "overflow_x": null,
            "overflow_y": null,
            "padding": null,
            "right": null,
            "top": null,
            "visibility": null,
            "width": null
          }
        },
        "0b7978d121224973bf33841e7d0d8584": {
          "model_module": "@jupyter-widgets/controls",
          "model_name": "DescriptionStyleModel",
          "model_module_version": "1.5.0",
          "state": {
            "_model_module": "@jupyter-widgets/controls",
            "_model_module_version": "1.5.0",
            "_model_name": "DescriptionStyleModel",
            "_view_count": null,
            "_view_module": "@jupyter-widgets/base",
            "_view_module_version": "1.2.0",
            "_view_name": "StyleView",
            "description_width": ""
          }
        },
        "a1c5d5ed649d4f268942e1ec37508bca": {
          "model_module": "@jupyter-widgets/controls",
          "model_name": "HBoxModel",
          "model_module_version": "1.5.0",
          "state": {
            "_dom_classes": [],
            "_model_module": "@jupyter-widgets/controls",
            "_model_module_version": "1.5.0",
            "_model_name": "HBoxModel",
            "_view_count": null,
            "_view_module": "@jupyter-widgets/controls",
            "_view_module_version": "1.5.0",
            "_view_name": "HBoxView",
            "box_style": "",
            "children": [
              "IPY_MODEL_af17a07bf01444d28026401a1baf0bfe",
              "IPY_MODEL_b4a2d1393751499986af2832ad91c713",
              "IPY_MODEL_c3349766d59b46d996298f0f30998d38"
            ],
            "layout": "IPY_MODEL_d8961e305d7b4637aac83663a4bb9aea"
          }
        },
        "af17a07bf01444d28026401a1baf0bfe": {
          "model_module": "@jupyter-widgets/controls",
          "model_name": "HTMLModel",
          "model_module_version": "1.5.0",
          "state": {
            "_dom_classes": [],
            "_model_module": "@jupyter-widgets/controls",
            "_model_module_version": "1.5.0",
            "_model_name": "HTMLModel",
            "_view_count": null,
            "_view_module": "@jupyter-widgets/controls",
            "_view_module_version": "1.5.0",
            "_view_name": "HTMLView",
            "description": "",
            "description_tooltip": null,
            "layout": "IPY_MODEL_284e91c26dcd4005b738caa34d7cabda",
            "placeholder": "​",
            "style": "IPY_MODEL_7f5f455512ac44c3ba90f7dd8b17cd07",
            "value": "Map: 100%"
          }
        },
        "b4a2d1393751499986af2832ad91c713": {
          "model_module": "@jupyter-widgets/controls",
          "model_name": "FloatProgressModel",
          "model_module_version": "1.5.0",
          "state": {
            "_dom_classes": [],
            "_model_module": "@jupyter-widgets/controls",
            "_model_module_version": "1.5.0",
            "_model_name": "FloatProgressModel",
            "_view_count": null,
            "_view_module": "@jupyter-widgets/controls",
            "_view_module_version": "1.5.0",
            "_view_name": "ProgressView",
            "bar_style": "success",
            "description": "",
            "description_tooltip": null,
            "layout": "IPY_MODEL_d59e9de0d7d94a64a097966725e9b34e",
            "max": 25000,
            "min": 0,
            "orientation": "horizontal",
            "style": "IPY_MODEL_9b6828a2c79c40a1a83c738555dedd58",
            "value": 25000
          }
        },
        "c3349766d59b46d996298f0f30998d38": {
          "model_module": "@jupyter-widgets/controls",
          "model_name": "HTMLModel",
          "model_module_version": "1.5.0",
          "state": {
            "_dom_classes": [],
            "_model_module": "@jupyter-widgets/controls",
            "_model_module_version": "1.5.0",
            "_model_name": "HTMLModel",
            "_view_count": null,
            "_view_module": "@jupyter-widgets/controls",
            "_view_module_version": "1.5.0",
            "_view_name": "HTMLView",
            "description": "",
            "description_tooltip": null,
            "layout": "IPY_MODEL_e26c5105e1a2477785979a0e8dd9c104",
            "placeholder": "​",
            "style": "IPY_MODEL_ca8380ec6b7346da95c5abe382a41056",
            "value": " 25000/25000 [00:05&lt;00:00, 5111.48 examples/s]"
          }
        },
        "d8961e305d7b4637aac83663a4bb9aea": {
          "model_module": "@jupyter-widgets/base",
          "model_name": "LayoutModel",
          "model_module_version": "1.2.0",
          "state": {
            "_model_module": "@jupyter-widgets/base",
            "_model_module_version": "1.2.0",
            "_model_name": "LayoutModel",
            "_view_count": null,
            "_view_module": "@jupyter-widgets/base",
            "_view_module_version": "1.2.0",
            "_view_name": "LayoutView",
            "align_content": null,
            "align_items": null,
            "align_self": null,
            "border": null,
            "bottom": null,
            "display": null,
            "flex": null,
            "flex_flow": null,
            "grid_area": null,
            "grid_auto_columns": null,
            "grid_auto_flow": null,
            "grid_auto_rows": null,
            "grid_column": null,
            "grid_gap": null,
            "grid_row": null,
            "grid_template_areas": null,
            "grid_template_columns": null,
            "grid_template_rows": null,
            "height": null,
            "justify_content": null,
            "justify_items": null,
            "left": null,
            "margin": null,
            "max_height": null,
            "max_width": null,
            "min_height": null,
            "min_width": null,
            "object_fit": null,
            "object_position": null,
            "order": null,
            "overflow": null,
            "overflow_x": null,
            "overflow_y": null,
            "padding": null,
            "right": null,
            "top": null,
            "visibility": null,
            "width": null
          }
        },
        "284e91c26dcd4005b738caa34d7cabda": {
          "model_module": "@jupyter-widgets/base",
          "model_name": "LayoutModel",
          "model_module_version": "1.2.0",
          "state": {
            "_model_module": "@jupyter-widgets/base",
            "_model_module_version": "1.2.0",
            "_model_name": "LayoutModel",
            "_view_count": null,
            "_view_module": "@jupyter-widgets/base",
            "_view_module_version": "1.2.0",
            "_view_name": "LayoutView",
            "align_content": null,
            "align_items": null,
            "align_self": null,
            "border": null,
            "bottom": null,
            "display": null,
            "flex": null,
            "flex_flow": null,
            "grid_area": null,
            "grid_auto_columns": null,
            "grid_auto_flow": null,
            "grid_auto_rows": null,
            "grid_column": null,
            "grid_gap": null,
            "grid_row": null,
            "grid_template_areas": null,
            "grid_template_columns": null,
            "grid_template_rows": null,
            "height": null,
            "justify_content": null,
            "justify_items": null,
            "left": null,
            "margin": null,
            "max_height": null,
            "max_width": null,
            "min_height": null,
            "min_width": null,
            "object_fit": null,
            "object_position": null,
            "order": null,
            "overflow": null,
            "overflow_x": null,
            "overflow_y": null,
            "padding": null,
            "right": null,
            "top": null,
            "visibility": null,
            "width": null
          }
        },
        "7f5f455512ac44c3ba90f7dd8b17cd07": {
          "model_module": "@jupyter-widgets/controls",
          "model_name": "DescriptionStyleModel",
          "model_module_version": "1.5.0",
          "state": {
            "_model_module": "@jupyter-widgets/controls",
            "_model_module_version": "1.5.0",
            "_model_name": "DescriptionStyleModel",
            "_view_count": null,
            "_view_module": "@jupyter-widgets/base",
            "_view_module_version": "1.2.0",
            "_view_name": "StyleView",
            "description_width": ""
          }
        },
        "d59e9de0d7d94a64a097966725e9b34e": {
          "model_module": "@jupyter-widgets/base",
          "model_name": "LayoutModel",
          "model_module_version": "1.2.0",
          "state": {
            "_model_module": "@jupyter-widgets/base",
            "_model_module_version": "1.2.0",
            "_model_name": "LayoutModel",
            "_view_count": null,
            "_view_module": "@jupyter-widgets/base",
            "_view_module_version": "1.2.0",
            "_view_name": "LayoutView",
            "align_content": null,
            "align_items": null,
            "align_self": null,
            "border": null,
            "bottom": null,
            "display": null,
            "flex": null,
            "flex_flow": null,
            "grid_area": null,
            "grid_auto_columns": null,
            "grid_auto_flow": null,
            "grid_auto_rows": null,
            "grid_column": null,
            "grid_gap": null,
            "grid_row": null,
            "grid_template_areas": null,
            "grid_template_columns": null,
            "grid_template_rows": null,
            "height": null,
            "justify_content": null,
            "justify_items": null,
            "left": null,
            "margin": null,
            "max_height": null,
            "max_width": null,
            "min_height": null,
            "min_width": null,
            "object_fit": null,
            "object_position": null,
            "order": null,
            "overflow": null,
            "overflow_x": null,
            "overflow_y": null,
            "padding": null,
            "right": null,
            "top": null,
            "visibility": null,
            "width": null
          }
        },
        "9b6828a2c79c40a1a83c738555dedd58": {
          "model_module": "@jupyter-widgets/controls",
          "model_name": "ProgressStyleModel",
          "model_module_version": "1.5.0",
          "state": {
            "_model_module": "@jupyter-widgets/controls",
            "_model_module_version": "1.5.0",
            "_model_name": "ProgressStyleModel",
            "_view_count": null,
            "_view_module": "@jupyter-widgets/base",
            "_view_module_version": "1.2.0",
            "_view_name": "StyleView",
            "bar_color": null,
            "description_width": ""
          }
        },
        "e26c5105e1a2477785979a0e8dd9c104": {
          "model_module": "@jupyter-widgets/base",
          "model_name": "LayoutModel",
          "model_module_version": "1.2.0",
          "state": {
            "_model_module": "@jupyter-widgets/base",
            "_model_module_version": "1.2.0",
            "_model_name": "LayoutModel",
            "_view_count": null,
            "_view_module": "@jupyter-widgets/base",
            "_view_module_version": "1.2.0",
            "_view_name": "LayoutView",
            "align_content": null,
            "align_items": null,
            "align_self": null,
            "border": null,
            "bottom": null,
            "display": null,
            "flex": null,
            "flex_flow": null,
            "grid_area": null,
            "grid_auto_columns": null,
            "grid_auto_flow": null,
            "grid_auto_rows": null,
            "grid_column": null,
            "grid_gap": null,
            "grid_row": null,
            "grid_template_areas": null,
            "grid_template_columns": null,
            "grid_template_rows": null,
            "height": null,
            "justify_content": null,
            "justify_items": null,
            "left": null,
            "margin": null,
            "max_height": null,
            "max_width": null,
            "min_height": null,
            "min_width": null,
            "object_fit": null,
            "object_position": null,
            "order": null,
            "overflow": null,
            "overflow_x": null,
            "overflow_y": null,
            "padding": null,
            "right": null,
            "top": null,
            "visibility": null,
            "width": null
          }
        },
        "ca8380ec6b7346da95c5abe382a41056": {
          "model_module": "@jupyter-widgets/controls",
          "model_name": "DescriptionStyleModel",
          "model_module_version": "1.5.0",
          "state": {
            "_model_module": "@jupyter-widgets/controls",
            "_model_module_version": "1.5.0",
            "_model_name": "DescriptionStyleModel",
            "_view_count": null,
            "_view_module": "@jupyter-widgets/base",
            "_view_module_version": "1.2.0",
            "_view_name": "StyleView",
            "description_width": ""
          }
        },
        "b984f9e4bd25462586439bf1985c0df5": {
          "model_module": "@jupyter-widgets/controls",
          "model_name": "HBoxModel",
          "model_module_version": "1.5.0",
          "state": {
            "_dom_classes": [],
            "_model_module": "@jupyter-widgets/controls",
            "_model_module_version": "1.5.0",
            "_model_name": "HBoxModel",
            "_view_count": null,
            "_view_module": "@jupyter-widgets/controls",
            "_view_module_version": "1.5.0",
            "_view_name": "HBoxView",
            "box_style": "",
            "children": [
              "IPY_MODEL_d295574b1b624f02b11b0a1325689613",
              "IPY_MODEL_993b51a22ea14a4db8d7ef81dc472069",
              "IPY_MODEL_0ed39f5c768245d2a75eb9d88a22de0d"
            ],
            "layout": "IPY_MODEL_097eef53b0ae4b65b48b2f77ef8e22a7"
          }
        },
        "d295574b1b624f02b11b0a1325689613": {
          "model_module": "@jupyter-widgets/controls",
          "model_name": "HTMLModel",
          "model_module_version": "1.5.0",
          "state": {
            "_dom_classes": [],
            "_model_module": "@jupyter-widgets/controls",
            "_model_module_version": "1.5.0",
            "_model_name": "HTMLModel",
            "_view_count": null,
            "_view_module": "@jupyter-widgets/controls",
            "_view_module_version": "1.5.0",
            "_view_name": "HTMLView",
            "description": "",
            "description_tooltip": null,
            "layout": "IPY_MODEL_030cbfe2e68a4d23940a61e31a51f144",
            "placeholder": "​",
            "style": "IPY_MODEL_7f0c3c3c1321487e8093f255e8f041a8",
            "value": "Map: 100%"
          }
        },
        "993b51a22ea14a4db8d7ef81dc472069": {
          "model_module": "@jupyter-widgets/controls",
          "model_name": "FloatProgressModel",
          "model_module_version": "1.5.0",
          "state": {
            "_dom_classes": [],
            "_model_module": "@jupyter-widgets/controls",
            "_model_module_version": "1.5.0",
            "_model_name": "FloatProgressModel",
            "_view_count": null,
            "_view_module": "@jupyter-widgets/controls",
            "_view_module_version": "1.5.0",
            "_view_name": "ProgressView",
            "bar_style": "success",
            "description": "",
            "description_tooltip": null,
            "layout": "IPY_MODEL_aeed3cf50c494962a14f71fade1cd678",
            "max": 18750,
            "min": 0,
            "orientation": "horizontal",
            "style": "IPY_MODEL_512224e3c48343b0b84f6eb28379ffbf",
            "value": 18750
          }
        },
        "0ed39f5c768245d2a75eb9d88a22de0d": {
          "model_module": "@jupyter-widgets/controls",
          "model_name": "HTMLModel",
          "model_module_version": "1.5.0",
          "state": {
            "_dom_classes": [],
            "_model_module": "@jupyter-widgets/controls",
            "_model_module_version": "1.5.0",
            "_model_name": "HTMLModel",
            "_view_count": null,
            "_view_module": "@jupyter-widgets/controls",
            "_view_module_version": "1.5.0",
            "_view_name": "HTMLView",
            "description": "",
            "description_tooltip": null,
            "layout": "IPY_MODEL_d6bdd6047afd496489637caf6d75c971",
            "placeholder": "​",
            "style": "IPY_MODEL_64eebb9885d143eb9e82d36e16d68ca9",
            "value": " 18750/18750 [00:06&lt;00:00, 2308.39 examples/s]"
          }
        },
        "097eef53b0ae4b65b48b2f77ef8e22a7": {
          "model_module": "@jupyter-widgets/base",
          "model_name": "LayoutModel",
          "model_module_version": "1.2.0",
          "state": {
            "_model_module": "@jupyter-widgets/base",
            "_model_module_version": "1.2.0",
            "_model_name": "LayoutModel",
            "_view_count": null,
            "_view_module": "@jupyter-widgets/base",
            "_view_module_version": "1.2.0",
            "_view_name": "LayoutView",
            "align_content": null,
            "align_items": null,
            "align_self": null,
            "border": null,
            "bottom": null,
            "display": null,
            "flex": null,
            "flex_flow": null,
            "grid_area": null,
            "grid_auto_columns": null,
            "grid_auto_flow": null,
            "grid_auto_rows": null,
            "grid_column": null,
            "grid_gap": null,
            "grid_row": null,
            "grid_template_areas": null,
            "grid_template_columns": null,
            "grid_template_rows": null,
            "height": null,
            "justify_content": null,
            "justify_items": null,
            "left": null,
            "margin": null,
            "max_height": null,
            "max_width": null,
            "min_height": null,
            "min_width": null,
            "object_fit": null,
            "object_position": null,
            "order": null,
            "overflow": null,
            "overflow_x": null,
            "overflow_y": null,
            "padding": null,
            "right": null,
            "top": null,
            "visibility": null,
            "width": null
          }
        },
        "030cbfe2e68a4d23940a61e31a51f144": {
          "model_module": "@jupyter-widgets/base",
          "model_name": "LayoutModel",
          "model_module_version": "1.2.0",
          "state": {
            "_model_module": "@jupyter-widgets/base",
            "_model_module_version": "1.2.0",
            "_model_name": "LayoutModel",
            "_view_count": null,
            "_view_module": "@jupyter-widgets/base",
            "_view_module_version": "1.2.0",
            "_view_name": "LayoutView",
            "align_content": null,
            "align_items": null,
            "align_self": null,
            "border": null,
            "bottom": null,
            "display": null,
            "flex": null,
            "flex_flow": null,
            "grid_area": null,
            "grid_auto_columns": null,
            "grid_auto_flow": null,
            "grid_auto_rows": null,
            "grid_column": null,
            "grid_gap": null,
            "grid_row": null,
            "grid_template_areas": null,
            "grid_template_columns": null,
            "grid_template_rows": null,
            "height": null,
            "justify_content": null,
            "justify_items": null,
            "left": null,
            "margin": null,
            "max_height": null,
            "max_width": null,
            "min_height": null,
            "min_width": null,
            "object_fit": null,
            "object_position": null,
            "order": null,
            "overflow": null,
            "overflow_x": null,
            "overflow_y": null,
            "padding": null,
            "right": null,
            "top": null,
            "visibility": null,
            "width": null
          }
        },
        "7f0c3c3c1321487e8093f255e8f041a8": {
          "model_module": "@jupyter-widgets/controls",
          "model_name": "DescriptionStyleModel",
          "model_module_version": "1.5.0",
          "state": {
            "_model_module": "@jupyter-widgets/controls",
            "_model_module_version": "1.5.0",
            "_model_name": "DescriptionStyleModel",
            "_view_count": null,
            "_view_module": "@jupyter-widgets/base",
            "_view_module_version": "1.2.0",
            "_view_name": "StyleView",
            "description_width": ""
          }
        },
        "aeed3cf50c494962a14f71fade1cd678": {
          "model_module": "@jupyter-widgets/base",
          "model_name": "LayoutModel",
          "model_module_version": "1.2.0",
          "state": {
            "_model_module": "@jupyter-widgets/base",
            "_model_module_version": "1.2.0",
            "_model_name": "LayoutModel",
            "_view_count": null,
            "_view_module": "@jupyter-widgets/base",
            "_view_module_version": "1.2.0",
            "_view_name": "LayoutView",
            "align_content": null,
            "align_items": null,
            "align_self": null,
            "border": null,
            "bottom": null,
            "display": null,
            "flex": null,
            "flex_flow": null,
            "grid_area": null,
            "grid_auto_columns": null,
            "grid_auto_flow": null,
            "grid_auto_rows": null,
            "grid_column": null,
            "grid_gap": null,
            "grid_row": null,
            "grid_template_areas": null,
            "grid_template_columns": null,
            "grid_template_rows": null,
            "height": null,
            "justify_content": null,
            "justify_items": null,
            "left": null,
            "margin": null,
            "max_height": null,
            "max_width": null,
            "min_height": null,
            "min_width": null,
            "object_fit": null,
            "object_position": null,
            "order": null,
            "overflow": null,
            "overflow_x": null,
            "overflow_y": null,
            "padding": null,
            "right": null,
            "top": null,
            "visibility": null,
            "width": null
          }
        },
        "512224e3c48343b0b84f6eb28379ffbf": {
          "model_module": "@jupyter-widgets/controls",
          "model_name": "ProgressStyleModel",
          "model_module_version": "1.5.0",
          "state": {
            "_model_module": "@jupyter-widgets/controls",
            "_model_module_version": "1.5.0",
            "_model_name": "ProgressStyleModel",
            "_view_count": null,
            "_view_module": "@jupyter-widgets/base",
            "_view_module_version": "1.2.0",
            "_view_name": "StyleView",
            "bar_color": null,
            "description_width": ""
          }
        },
        "d6bdd6047afd496489637caf6d75c971": {
          "model_module": "@jupyter-widgets/base",
          "model_name": "LayoutModel",
          "model_module_version": "1.2.0",
          "state": {
            "_model_module": "@jupyter-widgets/base",
            "_model_module_version": "1.2.0",
            "_model_name": "LayoutModel",
            "_view_count": null,
            "_view_module": "@jupyter-widgets/base",
            "_view_module_version": "1.2.0",
            "_view_name": "LayoutView",
            "align_content": null,
            "align_items": null,
            "align_self": null,
            "border": null,
            "bottom": null,
            "display": null,
            "flex": null,
            "flex_flow": null,
            "grid_area": null,
            "grid_auto_columns": null,
            "grid_auto_flow": null,
            "grid_auto_rows": null,
            "grid_column": null,
            "grid_gap": null,
            "grid_row": null,
            "grid_template_areas": null,
            "grid_template_columns": null,
            "grid_template_rows": null,
            "height": null,
            "justify_content": null,
            "justify_items": null,
            "left": null,
            "margin": null,
            "max_height": null,
            "max_width": null,
            "min_height": null,
            "min_width": null,
            "object_fit": null,
            "object_position": null,
            "order": null,
            "overflow": null,
            "overflow_x": null,
            "overflow_y": null,
            "padding": null,
            "right": null,
            "top": null,
            "visibility": null,
            "width": null
          }
        },
        "64eebb9885d143eb9e82d36e16d68ca9": {
          "model_module": "@jupyter-widgets/controls",
          "model_name": "DescriptionStyleModel",
          "model_module_version": "1.5.0",
          "state": {
            "_model_module": "@jupyter-widgets/controls",
            "_model_module_version": "1.5.0",
            "_model_name": "DescriptionStyleModel",
            "_view_count": null,
            "_view_module": "@jupyter-widgets/base",
            "_view_module_version": "1.2.0",
            "_view_name": "StyleView",
            "description_width": ""
          }
        },
        "98bd5e40cbe74c3a82c75b1478215e51": {
          "model_module": "@jupyter-widgets/controls",
          "model_name": "HBoxModel",
          "model_module_version": "1.5.0",
          "state": {
            "_dom_classes": [],
            "_model_module": "@jupyter-widgets/controls",
            "_model_module_version": "1.5.0",
            "_model_name": "HBoxModel",
            "_view_count": null,
            "_view_module": "@jupyter-widgets/controls",
            "_view_module_version": "1.5.0",
            "_view_name": "HBoxView",
            "box_style": "",
            "children": [
              "IPY_MODEL_f0332fa4ba5f46f18cd5440f44a88b0a",
              "IPY_MODEL_06f9e6252c9d4e67b065f6a3e524bda6",
              "IPY_MODEL_26361441d8b54aa3b15390ee10d608b8"
            ],
            "layout": "IPY_MODEL_9630f68b61d849e49fb921f13817260e"
          }
        },
        "f0332fa4ba5f46f18cd5440f44a88b0a": {
          "model_module": "@jupyter-widgets/controls",
          "model_name": "HTMLModel",
          "model_module_version": "1.5.0",
          "state": {
            "_dom_classes": [],
            "_model_module": "@jupyter-widgets/controls",
            "_model_module_version": "1.5.0",
            "_model_name": "HTMLModel",
            "_view_count": null,
            "_view_module": "@jupyter-widgets/controls",
            "_view_module_version": "1.5.0",
            "_view_name": "HTMLView",
            "description": "",
            "description_tooltip": null,
            "layout": "IPY_MODEL_e15c275a8d9c4013a53a7aa5af7967e7",
            "placeholder": "​",
            "style": "IPY_MODEL_1e000a9221c44755ad0382d1c6c341d9",
            "value": "Map: 100%"
          }
        },
        "06f9e6252c9d4e67b065f6a3e524bda6": {
          "model_module": "@jupyter-widgets/controls",
          "model_name": "FloatProgressModel",
          "model_module_version": "1.5.0",
          "state": {
            "_dom_classes": [],
            "_model_module": "@jupyter-widgets/controls",
            "_model_module_version": "1.5.0",
            "_model_name": "FloatProgressModel",
            "_view_count": null,
            "_view_module": "@jupyter-widgets/controls",
            "_view_module_version": "1.5.0",
            "_view_name": "ProgressView",
            "bar_style": "success",
            "description": "",
            "description_tooltip": null,
            "layout": "IPY_MODEL_a57a6e2eab5846c58ce4eccafeb7f763",
            "max": 6250,
            "min": 0,
            "orientation": "horizontal",
            "style": "IPY_MODEL_10584d3df0804fdc9bacfb1252944c39",
            "value": 6250
          }
        },
        "26361441d8b54aa3b15390ee10d608b8": {
          "model_module": "@jupyter-widgets/controls",
          "model_name": "HTMLModel",
          "model_module_version": "1.5.0",
          "state": {
            "_dom_classes": [],
            "_model_module": "@jupyter-widgets/controls",
            "_model_module_version": "1.5.0",
            "_model_name": "HTMLModel",
            "_view_count": null,
            "_view_module": "@jupyter-widgets/controls",
            "_view_module_version": "1.5.0",
            "_view_name": "HTMLView",
            "description": "",
            "description_tooltip": null,
            "layout": "IPY_MODEL_80c96dc8ad454856ab3c56e41e7c8cea",
            "placeholder": "​",
            "style": "IPY_MODEL_c53d5f9645f340e3b6fcbdad5a6c9fc1",
            "value": " 6250/6250 [00:02&lt;00:00, 2499.20 examples/s]"
          }
        },
        "9630f68b61d849e49fb921f13817260e": {
          "model_module": "@jupyter-widgets/base",
          "model_name": "LayoutModel",
          "model_module_version": "1.2.0",
          "state": {
            "_model_module": "@jupyter-widgets/base",
            "_model_module_version": "1.2.0",
            "_model_name": "LayoutModel",
            "_view_count": null,
            "_view_module": "@jupyter-widgets/base",
            "_view_module_version": "1.2.0",
            "_view_name": "LayoutView",
            "align_content": null,
            "align_items": null,
            "align_self": null,
            "border": null,
            "bottom": null,
            "display": null,
            "flex": null,
            "flex_flow": null,
            "grid_area": null,
            "grid_auto_columns": null,
            "grid_auto_flow": null,
            "grid_auto_rows": null,
            "grid_column": null,
            "grid_gap": null,
            "grid_row": null,
            "grid_template_areas": null,
            "grid_template_columns": null,
            "grid_template_rows": null,
            "height": null,
            "justify_content": null,
            "justify_items": null,
            "left": null,
            "margin": null,
            "max_height": null,
            "max_width": null,
            "min_height": null,
            "min_width": null,
            "object_fit": null,
            "object_position": null,
            "order": null,
            "overflow": null,
            "overflow_x": null,
            "overflow_y": null,
            "padding": null,
            "right": null,
            "top": null,
            "visibility": null,
            "width": null
          }
        },
        "e15c275a8d9c4013a53a7aa5af7967e7": {
          "model_module": "@jupyter-widgets/base",
          "model_name": "LayoutModel",
          "model_module_version": "1.2.0",
          "state": {
            "_model_module": "@jupyter-widgets/base",
            "_model_module_version": "1.2.0",
            "_model_name": "LayoutModel",
            "_view_count": null,
            "_view_module": "@jupyter-widgets/base",
            "_view_module_version": "1.2.0",
            "_view_name": "LayoutView",
            "align_content": null,
            "align_items": null,
            "align_self": null,
            "border": null,
            "bottom": null,
            "display": null,
            "flex": null,
            "flex_flow": null,
            "grid_area": null,
            "grid_auto_columns": null,
            "grid_auto_flow": null,
            "grid_auto_rows": null,
            "grid_column": null,
            "grid_gap": null,
            "grid_row": null,
            "grid_template_areas": null,
            "grid_template_columns": null,
            "grid_template_rows": null,
            "height": null,
            "justify_content": null,
            "justify_items": null,
            "left": null,
            "margin": null,
            "max_height": null,
            "max_width": null,
            "min_height": null,
            "min_width": null,
            "object_fit": null,
            "object_position": null,
            "order": null,
            "overflow": null,
            "overflow_x": null,
            "overflow_y": null,
            "padding": null,
            "right": null,
            "top": null,
            "visibility": null,
            "width": null
          }
        },
        "1e000a9221c44755ad0382d1c6c341d9": {
          "model_module": "@jupyter-widgets/controls",
          "model_name": "DescriptionStyleModel",
          "model_module_version": "1.5.0",
          "state": {
            "_model_module": "@jupyter-widgets/controls",
            "_model_module_version": "1.5.0",
            "_model_name": "DescriptionStyleModel",
            "_view_count": null,
            "_view_module": "@jupyter-widgets/base",
            "_view_module_version": "1.2.0",
            "_view_name": "StyleView",
            "description_width": ""
          }
        },
        "a57a6e2eab5846c58ce4eccafeb7f763": {
          "model_module": "@jupyter-widgets/base",
          "model_name": "LayoutModel",
          "model_module_version": "1.2.0",
          "state": {
            "_model_module": "@jupyter-widgets/base",
            "_model_module_version": "1.2.0",
            "_model_name": "LayoutModel",
            "_view_count": null,
            "_view_module": "@jupyter-widgets/base",
            "_view_module_version": "1.2.0",
            "_view_name": "LayoutView",
            "align_content": null,
            "align_items": null,
            "align_self": null,
            "border": null,
            "bottom": null,
            "display": null,
            "flex": null,
            "flex_flow": null,
            "grid_area": null,
            "grid_auto_columns": null,
            "grid_auto_flow": null,
            "grid_auto_rows": null,
            "grid_column": null,
            "grid_gap": null,
            "grid_row": null,
            "grid_template_areas": null,
            "grid_template_columns": null,
            "grid_template_rows": null,
            "height": null,
            "justify_content": null,
            "justify_items": null,
            "left": null,
            "margin": null,
            "max_height": null,
            "max_width": null,
            "min_height": null,
            "min_width": null,
            "object_fit": null,
            "object_position": null,
            "order": null,
            "overflow": null,
            "overflow_x": null,
            "overflow_y": null,
            "padding": null,
            "right": null,
            "top": null,
            "visibility": null,
            "width": null
          }
        },
        "10584d3df0804fdc9bacfb1252944c39": {
          "model_module": "@jupyter-widgets/controls",
          "model_name": "ProgressStyleModel",
          "model_module_version": "1.5.0",
          "state": {
            "_model_module": "@jupyter-widgets/controls",
            "_model_module_version": "1.5.0",
            "_model_name": "ProgressStyleModel",
            "_view_count": null,
            "_view_module": "@jupyter-widgets/base",
            "_view_module_version": "1.2.0",
            "_view_name": "StyleView",
            "bar_color": null,
            "description_width": ""
          }
        },
        "80c96dc8ad454856ab3c56e41e7c8cea": {
          "model_module": "@jupyter-widgets/base",
          "model_name": "LayoutModel",
          "model_module_version": "1.2.0",
          "state": {
            "_model_module": "@jupyter-widgets/base",
            "_model_module_version": "1.2.0",
            "_model_name": "LayoutModel",
            "_view_count": null,
            "_view_module": "@jupyter-widgets/base",
            "_view_module_version": "1.2.0",
            "_view_name": "LayoutView",
            "align_content": null,
            "align_items": null,
            "align_self": null,
            "border": null,
            "bottom": null,
            "display": null,
            "flex": null,
            "flex_flow": null,
            "grid_area": null,
            "grid_auto_columns": null,
            "grid_auto_flow": null,
            "grid_auto_rows": null,
            "grid_column": null,
            "grid_gap": null,
            "grid_row": null,
            "grid_template_areas": null,
            "grid_template_columns": null,
            "grid_template_rows": null,
            "height": null,
            "justify_content": null,
            "justify_items": null,
            "left": null,
            "margin": null,
            "max_height": null,
            "max_width": null,
            "min_height": null,
            "min_width": null,
            "object_fit": null,
            "object_position": null,
            "order": null,
            "overflow": null,
            "overflow_x": null,
            "overflow_y": null,
            "padding": null,
            "right": null,
            "top": null,
            "visibility": null,
            "width": null
          }
        },
        "c53d5f9645f340e3b6fcbdad5a6c9fc1": {
          "model_module": "@jupyter-widgets/controls",
          "model_name": "DescriptionStyleModel",
          "model_module_version": "1.5.0",
          "state": {
            "_model_module": "@jupyter-widgets/controls",
            "_model_module_version": "1.5.0",
            "_model_name": "DescriptionStyleModel",
            "_view_count": null,
            "_view_module": "@jupyter-widgets/base",
            "_view_module_version": "1.2.0",
            "_view_name": "StyleView",
            "description_width": ""
          }
        },
        "36b9df826905409381b332318faee08c": {
          "model_module": "@jupyter-widgets/controls",
          "model_name": "HBoxModel",
          "model_module_version": "1.5.0",
          "state": {
            "_dom_classes": [],
            "_model_module": "@jupyter-widgets/controls",
            "_model_module_version": "1.5.0",
            "_model_name": "HBoxModel",
            "_view_count": null,
            "_view_module": "@jupyter-widgets/controls",
            "_view_module_version": "1.5.0",
            "_view_name": "HBoxView",
            "box_style": "",
            "children": [
              "IPY_MODEL_487c38a9bf8f4075a4c8a6c39e668c97",
              "IPY_MODEL_f5fa7f77159d41f9a9e1abeb2d1a75b5",
              "IPY_MODEL_f98843297a0440b79efc3338ba5891f6"
            ],
            "layout": "IPY_MODEL_47d9db93ad014d45898ee2975dd4eba5"
          }
        },
        "487c38a9bf8f4075a4c8a6c39e668c97": {
          "model_module": "@jupyter-widgets/controls",
          "model_name": "HTMLModel",
          "model_module_version": "1.5.0",
          "state": {
            "_dom_classes": [],
            "_model_module": "@jupyter-widgets/controls",
            "_model_module_version": "1.5.0",
            "_model_name": "HTMLModel",
            "_view_count": null,
            "_view_module": "@jupyter-widgets/controls",
            "_view_module_version": "1.5.0",
            "_view_name": "HTMLView",
            "description": "",
            "description_tooltip": null,
            "layout": "IPY_MODEL_e0a88d44749344da8fb87254dee4f0c7",
            "placeholder": "​",
            "style": "IPY_MODEL_96479eb21231470ead0a85bf26af42ff",
            "value": "Map: 100%"
          }
        },
        "f5fa7f77159d41f9a9e1abeb2d1a75b5": {
          "model_module": "@jupyter-widgets/controls",
          "model_name": "FloatProgressModel",
          "model_module_version": "1.5.0",
          "state": {
            "_dom_classes": [],
            "_model_module": "@jupyter-widgets/controls",
            "_model_module_version": "1.5.0",
            "_model_name": "FloatProgressModel",
            "_view_count": null,
            "_view_module": "@jupyter-widgets/controls",
            "_view_module_version": "1.5.0",
            "_view_name": "ProgressView",
            "bar_style": "success",
            "description": "",
            "description_tooltip": null,
            "layout": "IPY_MODEL_f72070f269e34888bf68b1835ccf5816",
            "max": 25000,
            "min": 0,
            "orientation": "horizontal",
            "style": "IPY_MODEL_6e3ca29f847c44e3a53143ac89aee003",
            "value": 25000
          }
        },
        "f98843297a0440b79efc3338ba5891f6": {
          "model_module": "@jupyter-widgets/controls",
          "model_name": "HTMLModel",
          "model_module_version": "1.5.0",
          "state": {
            "_dom_classes": [],
            "_model_module": "@jupyter-widgets/controls",
            "_model_module_version": "1.5.0",
            "_model_name": "HTMLModel",
            "_view_count": null,
            "_view_module": "@jupyter-widgets/controls",
            "_view_module_version": "1.5.0",
            "_view_name": "HTMLView",
            "description": "",
            "description_tooltip": null,
            "layout": "IPY_MODEL_d8c8dc3f5f56425fb8a6da7f19bc9fad",
            "placeholder": "​",
            "style": "IPY_MODEL_c045492f07ba4614ac613110d82edf49",
            "value": " 25000/25000 [00:07&lt;00:00, 3449.80 examples/s]"
          }
        },
        "47d9db93ad014d45898ee2975dd4eba5": {
          "model_module": "@jupyter-widgets/base",
          "model_name": "LayoutModel",
          "model_module_version": "1.2.0",
          "state": {
            "_model_module": "@jupyter-widgets/base",
            "_model_module_version": "1.2.0",
            "_model_name": "LayoutModel",
            "_view_count": null,
            "_view_module": "@jupyter-widgets/base",
            "_view_module_version": "1.2.0",
            "_view_name": "LayoutView",
            "align_content": null,
            "align_items": null,
            "align_self": null,
            "border": null,
            "bottom": null,
            "display": null,
            "flex": null,
            "flex_flow": null,
            "grid_area": null,
            "grid_auto_columns": null,
            "grid_auto_flow": null,
            "grid_auto_rows": null,
            "grid_column": null,
            "grid_gap": null,
            "grid_row": null,
            "grid_template_areas": null,
            "grid_template_columns": null,
            "grid_template_rows": null,
            "height": null,
            "justify_content": null,
            "justify_items": null,
            "left": null,
            "margin": null,
            "max_height": null,
            "max_width": null,
            "min_height": null,
            "min_width": null,
            "object_fit": null,
            "object_position": null,
            "order": null,
            "overflow": null,
            "overflow_x": null,
            "overflow_y": null,
            "padding": null,
            "right": null,
            "top": null,
            "visibility": null,
            "width": null
          }
        },
        "e0a88d44749344da8fb87254dee4f0c7": {
          "model_module": "@jupyter-widgets/base",
          "model_name": "LayoutModel",
          "model_module_version": "1.2.0",
          "state": {
            "_model_module": "@jupyter-widgets/base",
            "_model_module_version": "1.2.0",
            "_model_name": "LayoutModel",
            "_view_count": null,
            "_view_module": "@jupyter-widgets/base",
            "_view_module_version": "1.2.0",
            "_view_name": "LayoutView",
            "align_content": null,
            "align_items": null,
            "align_self": null,
            "border": null,
            "bottom": null,
            "display": null,
            "flex": null,
            "flex_flow": null,
            "grid_area": null,
            "grid_auto_columns": null,
            "grid_auto_flow": null,
            "grid_auto_rows": null,
            "grid_column": null,
            "grid_gap": null,
            "grid_row": null,
            "grid_template_areas": null,
            "grid_template_columns": null,
            "grid_template_rows": null,
            "height": null,
            "justify_content": null,
            "justify_items": null,
            "left": null,
            "margin": null,
            "max_height": null,
            "max_width": null,
            "min_height": null,
            "min_width": null,
            "object_fit": null,
            "object_position": null,
            "order": null,
            "overflow": null,
            "overflow_x": null,
            "overflow_y": null,
            "padding": null,
            "right": null,
            "top": null,
            "visibility": null,
            "width": null
          }
        },
        "96479eb21231470ead0a85bf26af42ff": {
          "model_module": "@jupyter-widgets/controls",
          "model_name": "DescriptionStyleModel",
          "model_module_version": "1.5.0",
          "state": {
            "_model_module": "@jupyter-widgets/controls",
            "_model_module_version": "1.5.0",
            "_model_name": "DescriptionStyleModel",
            "_view_count": null,
            "_view_module": "@jupyter-widgets/base",
            "_view_module_version": "1.2.0",
            "_view_name": "StyleView",
            "description_width": ""
          }
        },
        "f72070f269e34888bf68b1835ccf5816": {
          "model_module": "@jupyter-widgets/base",
          "model_name": "LayoutModel",
          "model_module_version": "1.2.0",
          "state": {
            "_model_module": "@jupyter-widgets/base",
            "_model_module_version": "1.2.0",
            "_model_name": "LayoutModel",
            "_view_count": null,
            "_view_module": "@jupyter-widgets/base",
            "_view_module_version": "1.2.0",
            "_view_name": "LayoutView",
            "align_content": null,
            "align_items": null,
            "align_self": null,
            "border": null,
            "bottom": null,
            "display": null,
            "flex": null,
            "flex_flow": null,
            "grid_area": null,
            "grid_auto_columns": null,
            "grid_auto_flow": null,
            "grid_auto_rows": null,
            "grid_column": null,
            "grid_gap": null,
            "grid_row": null,
            "grid_template_areas": null,
            "grid_template_columns": null,
            "grid_template_rows": null,
            "height": null,
            "justify_content": null,
            "justify_items": null,
            "left": null,
            "margin": null,
            "max_height": null,
            "max_width": null,
            "min_height": null,
            "min_width": null,
            "object_fit": null,
            "object_position": null,
            "order": null,
            "overflow": null,
            "overflow_x": null,
            "overflow_y": null,
            "padding": null,
            "right": null,
            "top": null,
            "visibility": null,
            "width": null
          }
        },
        "6e3ca29f847c44e3a53143ac89aee003": {
          "model_module": "@jupyter-widgets/controls",
          "model_name": "ProgressStyleModel",
          "model_module_version": "1.5.0",
          "state": {
            "_model_module": "@jupyter-widgets/controls",
            "_model_module_version": "1.5.0",
            "_model_name": "ProgressStyleModel",
            "_view_count": null,
            "_view_module": "@jupyter-widgets/base",
            "_view_module_version": "1.2.0",
            "_view_name": "StyleView",
            "bar_color": null,
            "description_width": ""
          }
        },
        "d8c8dc3f5f56425fb8a6da7f19bc9fad": {
          "model_module": "@jupyter-widgets/base",
          "model_name": "LayoutModel",
          "model_module_version": "1.2.0",
          "state": {
            "_model_module": "@jupyter-widgets/base",
            "_model_module_version": "1.2.0",
            "_model_name": "LayoutModel",
            "_view_count": null,
            "_view_module": "@jupyter-widgets/base",
            "_view_module_version": "1.2.0",
            "_view_name": "LayoutView",
            "align_content": null,
            "align_items": null,
            "align_self": null,
            "border": null,
            "bottom": null,
            "display": null,
            "flex": null,
            "flex_flow": null,
            "grid_area": null,
            "grid_auto_columns": null,
            "grid_auto_flow": null,
            "grid_auto_rows": null,
            "grid_column": null,
            "grid_gap": null,
            "grid_row": null,
            "grid_template_areas": null,
            "grid_template_columns": null,
            "grid_template_rows": null,
            "height": null,
            "justify_content": null,
            "justify_items": null,
            "left": null,
            "margin": null,
            "max_height": null,
            "max_width": null,
            "min_height": null,
            "min_width": null,
            "object_fit": null,
            "object_position": null,
            "order": null,
            "overflow": null,
            "overflow_x": null,
            "overflow_y": null,
            "padding": null,
            "right": null,
            "top": null,
            "visibility": null,
            "width": null
          }
        },
        "c045492f07ba4614ac613110d82edf49": {
          "model_module": "@jupyter-widgets/controls",
          "model_name": "DescriptionStyleModel",
          "model_module_version": "1.5.0",
          "state": {
            "_model_module": "@jupyter-widgets/controls",
            "_model_module_version": "1.5.0",
            "_model_name": "DescriptionStyleModel",
            "_view_count": null,
            "_view_module": "@jupyter-widgets/base",
            "_view_module_version": "1.2.0",
            "_view_name": "StyleView",
            "description_width": ""
          }
        }
      }
    }
  },
  "cells": [
    {
      "cell_type": "markdown",
      "source": [
        "# **LSTM model for sentiment analysis**"
      ],
      "metadata": {
        "id": "M7hGqqYuGgtY"
      }
    },
    {
      "cell_type": "markdown",
      "source": [
        "## Import modules and packages\n",
        "Import all the necessary modules and packages necessary to build, train, and evaluate the model. Also, set random seeds so that the program can be run for multiple seeds to check how variant the model's performance is."
      ],
      "metadata": {
        "id": "fiNJ-G4iGhl1"
      }
    },
    {
      "cell_type": "code",
      "source": [
        "!pip install -r requirements.txt\n",
        "\n",
        "import collections,os,random,time\n",
        "import matplotlib.pyplot as plt\n",
        "import numpy as np\n",
        "import datasets\n",
        "\n",
        "import tqdm\n",
        "import torch\n",
        "import torch.nn as nn\n",
        "import torch.optim as optim\n",
        "import torch.functional as F\n",
        "from torch.utils.data import Dataset\n",
        "import torchtext\n",
        "import torchtext.data as ttd\n",
        "import torchtext.vocab as ttv\n",
        "\n",
        "#Set the environment time\n",
        "os.environ['TZ']='US/Central'\n",
        "time.tzset()\n",
        "\n",
        "#Set the seed\n",
        "sd=random.randint(0,50)\n",
        "np.random.seed(sd)\n",
        "torch.manual_seed(sd)\n",
        "torch.cuda.manual_seed(sd)\n",
        "torch.backends.cudnn.deterministic=True\n",
        "\n",
        "#Print current time\n",
        "print('\\n\\nProgram execution started on: {}'.format(time.ctime()))"
      ],
      "metadata": {
        "colab": {
          "base_uri": "https://localhost:8080/"
        },
        "id": "ESj-dzt4GoEw",
        "outputId": "3d6147cf-e630-4043-d1e3-1296b2026b31"
      },
      "execution_count": 1,
      "outputs": [
        {
          "output_type": "stream",
          "name": "stdout",
          "text": [
            "Requirement already satisfied: torch in /usr/local/lib/python3.10/dist-packages (from -r requirements.txt (line 1)) (2.3.0+cu121)\n",
            "Requirement already satisfied: numpy in /usr/local/lib/python3.10/dist-packages (from -r requirements.txt (line 2)) (1.25.2)\n",
            "Collecting datasets (from -r requirements.txt (line 3))\n",
            "  Downloading datasets-2.20.0-py3-none-any.whl (547 kB)\n",
            "\u001b[2K     \u001b[90m━━━━━━━━━━━━━━━━━━━━━━━━━━━━━━━━━━━━━━━━\u001b[0m \u001b[32m547.8/547.8 kB\u001b[0m \u001b[31m8.3 MB/s\u001b[0m eta \u001b[36m0:00:00\u001b[0m\n",
            "\u001b[?25hRequirement already satisfied: torchtext in /usr/local/lib/python3.10/dist-packages (from -r requirements.txt (line 4)) (0.18.0)\n",
            "Requirement already satisfied: tqdm in /usr/local/lib/python3.10/dist-packages (from -r requirements.txt (line 5)) (4.66.4)\n",
            "Requirement already satisfied: matplotlib in /usr/local/lib/python3.10/dist-packages (from -r requirements.txt (line 6)) (3.7.1)\n",
            "Requirement already satisfied: filelock in /usr/local/lib/python3.10/dist-packages (from torch->-r requirements.txt (line 1)) (3.15.3)\n",
            "Requirement already satisfied: typing-extensions>=4.8.0 in /usr/local/lib/python3.10/dist-packages (from torch->-r requirements.txt (line 1)) (4.12.2)\n",
            "Requirement already satisfied: sympy in /usr/local/lib/python3.10/dist-packages (from torch->-r requirements.txt (line 1)) (1.12.1)\n",
            "Requirement already satisfied: networkx in /usr/local/lib/python3.10/dist-packages (from torch->-r requirements.txt (line 1)) (3.3)\n",
            "Requirement already satisfied: jinja2 in /usr/local/lib/python3.10/dist-packages (from torch->-r requirements.txt (line 1)) (3.1.4)\n",
            "Requirement already satisfied: fsspec in /usr/local/lib/python3.10/dist-packages (from torch->-r requirements.txt (line 1)) (2023.6.0)\n",
            "Collecting nvidia-cuda-nvrtc-cu12==12.1.105 (from torch->-r requirements.txt (line 1))\n",
            "  Using cached nvidia_cuda_nvrtc_cu12-12.1.105-py3-none-manylinux1_x86_64.whl (23.7 MB)\n",
            "Collecting nvidia-cuda-runtime-cu12==12.1.105 (from torch->-r requirements.txt (line 1))\n",
            "  Using cached nvidia_cuda_runtime_cu12-12.1.105-py3-none-manylinux1_x86_64.whl (823 kB)\n",
            "Collecting nvidia-cuda-cupti-cu12==12.1.105 (from torch->-r requirements.txt (line 1))\n",
            "  Using cached nvidia_cuda_cupti_cu12-12.1.105-py3-none-manylinux1_x86_64.whl (14.1 MB)\n",
            "Collecting nvidia-cudnn-cu12==8.9.2.26 (from torch->-r requirements.txt (line 1))\n",
            "  Using cached nvidia_cudnn_cu12-8.9.2.26-py3-none-manylinux1_x86_64.whl (731.7 MB)\n",
            "Collecting nvidia-cublas-cu12==12.1.3.1 (from torch->-r requirements.txt (line 1))\n",
            "  Using cached nvidia_cublas_cu12-12.1.3.1-py3-none-manylinux1_x86_64.whl (410.6 MB)\n",
            "Collecting nvidia-cufft-cu12==11.0.2.54 (from torch->-r requirements.txt (line 1))\n",
            "  Using cached nvidia_cufft_cu12-11.0.2.54-py3-none-manylinux1_x86_64.whl (121.6 MB)\n",
            "Collecting nvidia-curand-cu12==10.3.2.106 (from torch->-r requirements.txt (line 1))\n",
            "  Using cached nvidia_curand_cu12-10.3.2.106-py3-none-manylinux1_x86_64.whl (56.5 MB)\n",
            "Collecting nvidia-cusolver-cu12==11.4.5.107 (from torch->-r requirements.txt (line 1))\n",
            "  Using cached nvidia_cusolver_cu12-11.4.5.107-py3-none-manylinux1_x86_64.whl (124.2 MB)\n",
            "Collecting nvidia-cusparse-cu12==12.1.0.106 (from torch->-r requirements.txt (line 1))\n",
            "  Using cached nvidia_cusparse_cu12-12.1.0.106-py3-none-manylinux1_x86_64.whl (196.0 MB)\n",
            "Collecting nvidia-nccl-cu12==2.20.5 (from torch->-r requirements.txt (line 1))\n",
            "  Using cached nvidia_nccl_cu12-2.20.5-py3-none-manylinux2014_x86_64.whl (176.2 MB)\n",
            "Collecting nvidia-nvtx-cu12==12.1.105 (from torch->-r requirements.txt (line 1))\n",
            "  Using cached nvidia_nvtx_cu12-12.1.105-py3-none-manylinux1_x86_64.whl (99 kB)\n",
            "Requirement already satisfied: triton==2.3.0 in /usr/local/lib/python3.10/dist-packages (from torch->-r requirements.txt (line 1)) (2.3.0)\n",
            "Collecting nvidia-nvjitlink-cu12 (from nvidia-cusolver-cu12==11.4.5.107->torch->-r requirements.txt (line 1))\n",
            "  Downloading nvidia_nvjitlink_cu12-12.5.40-py3-none-manylinux2014_x86_64.whl (21.3 MB)\n",
            "\u001b[2K     \u001b[90m━━━━━━━━━━━━━━━━━━━━━━━━━━━━━━━━━━━━━━━━\u001b[0m \u001b[32m21.3/21.3 MB\u001b[0m \u001b[31m67.6 MB/s\u001b[0m eta \u001b[36m0:00:00\u001b[0m\n",
            "\u001b[?25hCollecting pyarrow>=15.0.0 (from datasets->-r requirements.txt (line 3))\n",
            "  Downloading pyarrow-16.1.0-cp310-cp310-manylinux_2_28_x86_64.whl (40.8 MB)\n",
            "\u001b[2K     \u001b[90m━━━━━━━━━━━━━━━━━━━━━━━━━━━━━━━━━━━━━━━━\u001b[0m \u001b[32m40.8/40.8 MB\u001b[0m \u001b[31m43.3 MB/s\u001b[0m eta \u001b[36m0:00:00\u001b[0m\n",
            "\u001b[?25hRequirement already satisfied: pyarrow-hotfix in /usr/local/lib/python3.10/dist-packages (from datasets->-r requirements.txt (line 3)) (0.6)\n",
            "Collecting dill<0.3.9,>=0.3.0 (from datasets->-r requirements.txt (line 3))\n",
            "  Downloading dill-0.3.8-py3-none-any.whl (116 kB)\n",
            "\u001b[2K     \u001b[90m━━━━━━━━━━━━━━━━━━━━━━━━━━━━━━━━━━━━━━━━\u001b[0m \u001b[32m116.3/116.3 kB\u001b[0m \u001b[31m16.7 MB/s\u001b[0m eta \u001b[36m0:00:00\u001b[0m\n",
            "\u001b[?25hRequirement already satisfied: pandas in /usr/local/lib/python3.10/dist-packages (from datasets->-r requirements.txt (line 3)) (2.0.3)\n",
            "Collecting requests>=2.32.2 (from datasets->-r requirements.txt (line 3))\n",
            "  Downloading requests-2.32.3-py3-none-any.whl (64 kB)\n",
            "\u001b[2K     \u001b[90m━━━━━━━━━━━━━━━━━━━━━━━━━━━━━━━━━━━━━━━━\u001b[0m \u001b[32m64.9/64.9 kB\u001b[0m \u001b[31m9.0 MB/s\u001b[0m eta \u001b[36m0:00:00\u001b[0m\n",
            "\u001b[?25hCollecting xxhash (from datasets->-r requirements.txt (line 3))\n",
            "  Downloading xxhash-3.4.1-cp310-cp310-manylinux_2_17_x86_64.manylinux2014_x86_64.whl (194 kB)\n",
            "\u001b[2K     \u001b[90m━━━━━━━━━━━━━━━━━━━━━━━━━━━━━━━━━━━━━━━━\u001b[0m \u001b[32m194.1/194.1 kB\u001b[0m \u001b[31m30.4 MB/s\u001b[0m eta \u001b[36m0:00:00\u001b[0m\n",
            "\u001b[?25hCollecting multiprocess (from datasets->-r requirements.txt (line 3))\n",
            "  Downloading multiprocess-0.70.16-py310-none-any.whl (134 kB)\n",
            "\u001b[2K     \u001b[90m━━━━━━━━━━━━━━━━━━━━━━━━━━━━━━━━━━━━━━━━\u001b[0m \u001b[32m134.8/134.8 kB\u001b[0m \u001b[31m21.3 MB/s\u001b[0m eta \u001b[36m0:00:00\u001b[0m\n",
            "\u001b[?25hRequirement already satisfied: aiohttp in /usr/local/lib/python3.10/dist-packages (from datasets->-r requirements.txt (line 3)) (3.9.5)\n",
            "Requirement already satisfied: huggingface-hub>=0.21.2 in /usr/local/lib/python3.10/dist-packages (from datasets->-r requirements.txt (line 3)) (0.23.4)\n",
            "Requirement already satisfied: packaging in /usr/local/lib/python3.10/dist-packages (from datasets->-r requirements.txt (line 3)) (24.1)\n",
            "Requirement already satisfied: pyyaml>=5.1 in /usr/local/lib/python3.10/dist-packages (from datasets->-r requirements.txt (line 3)) (6.0.1)\n",
            "Requirement already satisfied: contourpy>=1.0.1 in /usr/local/lib/python3.10/dist-packages (from matplotlib->-r requirements.txt (line 6)) (1.2.1)\n",
            "Requirement already satisfied: cycler>=0.10 in /usr/local/lib/python3.10/dist-packages (from matplotlib->-r requirements.txt (line 6)) (0.12.1)\n",
            "Requirement already satisfied: fonttools>=4.22.0 in /usr/local/lib/python3.10/dist-packages (from matplotlib->-r requirements.txt (line 6)) (4.53.0)\n",
            "Requirement already satisfied: kiwisolver>=1.0.1 in /usr/local/lib/python3.10/dist-packages (from matplotlib->-r requirements.txt (line 6)) (1.4.5)\n",
            "Requirement already satisfied: pillow>=6.2.0 in /usr/local/lib/python3.10/dist-packages (from matplotlib->-r requirements.txt (line 6)) (9.4.0)\n",
            "Requirement already satisfied: pyparsing>=2.3.1 in /usr/local/lib/python3.10/dist-packages (from matplotlib->-r requirements.txt (line 6)) (3.1.2)\n",
            "Requirement already satisfied: python-dateutil>=2.7 in /usr/local/lib/python3.10/dist-packages (from matplotlib->-r requirements.txt (line 6)) (2.8.2)\n",
            "Requirement already satisfied: aiosignal>=1.1.2 in /usr/local/lib/python3.10/dist-packages (from aiohttp->datasets->-r requirements.txt (line 3)) (1.3.1)\n",
            "Requirement already satisfied: attrs>=17.3.0 in /usr/local/lib/python3.10/dist-packages (from aiohttp->datasets->-r requirements.txt (line 3)) (23.2.0)\n",
            "Requirement already satisfied: frozenlist>=1.1.1 in /usr/local/lib/python3.10/dist-packages (from aiohttp->datasets->-r requirements.txt (line 3)) (1.4.1)\n",
            "Requirement already satisfied: multidict<7.0,>=4.5 in /usr/local/lib/python3.10/dist-packages (from aiohttp->datasets->-r requirements.txt (line 3)) (6.0.5)\n",
            "Requirement already satisfied: yarl<2.0,>=1.0 in /usr/local/lib/python3.10/dist-packages (from aiohttp->datasets->-r requirements.txt (line 3)) (1.9.4)\n",
            "Requirement already satisfied: async-timeout<5.0,>=4.0 in /usr/local/lib/python3.10/dist-packages (from aiohttp->datasets->-r requirements.txt (line 3)) (4.0.3)\n",
            "Requirement already satisfied: six>=1.5 in /usr/local/lib/python3.10/dist-packages (from python-dateutil>=2.7->matplotlib->-r requirements.txt (line 6)) (1.16.0)\n",
            "Requirement already satisfied: charset-normalizer<4,>=2 in /usr/local/lib/python3.10/dist-packages (from requests>=2.32.2->datasets->-r requirements.txt (line 3)) (3.3.2)\n",
            "Requirement already satisfied: idna<4,>=2.5 in /usr/local/lib/python3.10/dist-packages (from requests>=2.32.2->datasets->-r requirements.txt (line 3)) (3.7)\n",
            "Requirement already satisfied: urllib3<3,>=1.21.1 in /usr/local/lib/python3.10/dist-packages (from requests>=2.32.2->datasets->-r requirements.txt (line 3)) (2.0.7)\n",
            "Requirement already satisfied: certifi>=2017.4.17 in /usr/local/lib/python3.10/dist-packages (from requests>=2.32.2->datasets->-r requirements.txt (line 3)) (2024.6.2)\n",
            "Requirement already satisfied: MarkupSafe>=2.0 in /usr/local/lib/python3.10/dist-packages (from jinja2->torch->-r requirements.txt (line 1)) (2.1.5)\n",
            "Requirement already satisfied: pytz>=2020.1 in /usr/local/lib/python3.10/dist-packages (from pandas->datasets->-r requirements.txt (line 3)) (2023.4)\n",
            "Requirement already satisfied: tzdata>=2022.1 in /usr/local/lib/python3.10/dist-packages (from pandas->datasets->-r requirements.txt (line 3)) (2024.1)\n",
            "Requirement already satisfied: mpmath<1.4.0,>=1.1.0 in /usr/local/lib/python3.10/dist-packages (from sympy->torch->-r requirements.txt (line 1)) (1.3.0)\n",
            "Installing collected packages: xxhash, requests, pyarrow, nvidia-nvtx-cu12, nvidia-nvjitlink-cu12, nvidia-nccl-cu12, nvidia-curand-cu12, nvidia-cufft-cu12, nvidia-cuda-runtime-cu12, nvidia-cuda-nvrtc-cu12, nvidia-cuda-cupti-cu12, nvidia-cublas-cu12, dill, nvidia-cusparse-cu12, nvidia-cudnn-cu12, multiprocess, nvidia-cusolver-cu12, datasets\n",
            "  Attempting uninstall: requests\n",
            "    Found existing installation: requests 2.31.0\n",
            "    Uninstalling requests-2.31.0:\n",
            "      Successfully uninstalled requests-2.31.0\n",
            "  Attempting uninstall: pyarrow\n",
            "    Found existing installation: pyarrow 14.0.2\n",
            "    Uninstalling pyarrow-14.0.2:\n",
            "      Successfully uninstalled pyarrow-14.0.2\n",
            "\u001b[31mERROR: pip's dependency resolver does not currently take into account all the packages that are installed. This behaviour is the source of the following dependency conflicts.\n",
            "cudf-cu12 24.4.1 requires pyarrow<15.0.0a0,>=14.0.1, but you have pyarrow 16.1.0 which is incompatible.\n",
            "google-colab 1.0.0 requires requests==2.31.0, but you have requests 2.32.3 which is incompatible.\n",
            "ibis-framework 8.0.0 requires pyarrow<16,>=2, but you have pyarrow 16.1.0 which is incompatible.\u001b[0m\u001b[31m\n",
            "\u001b[0mSuccessfully installed datasets-2.20.0 dill-0.3.8 multiprocess-0.70.16 nvidia-cublas-cu12-12.1.3.1 nvidia-cuda-cupti-cu12-12.1.105 nvidia-cuda-nvrtc-cu12-12.1.105 nvidia-cuda-runtime-cu12-12.1.105 nvidia-cudnn-cu12-8.9.2.26 nvidia-cufft-cu12-11.0.2.54 nvidia-curand-cu12-10.3.2.106 nvidia-cusolver-cu12-11.4.5.107 nvidia-cusparse-cu12-12.1.0.106 nvidia-nccl-cu12-2.20.5 nvidia-nvjitlink-cu12-12.5.40 nvidia-nvtx-cu12-12.1.105 pyarrow-16.1.0 requests-2.32.3 xxhash-3.4.1\n",
            "\n",
            "\n",
            "Program execution started on: Mon Jun 24 13:18:05 2024\n"
          ]
        },
        {
          "output_type": "stream",
          "name": "stderr",
          "text": [
            "/usr/local/lib/python3.10/dist-packages/torchtext/data/__init__.py:4: UserWarning: \n",
            "/!\\ IMPORTANT WARNING ABOUT TORCHTEXT STATUS /!\\ \n",
            "Torchtext is deprecated and the last released version will be 0.18 (this one). You can silence this warning by calling the following at the beginnign of your scripts: `import torchtext; torchtext.disable_torchtext_deprecation_warning()`\n",
            "  warnings.warn(torchtext._TORCHTEXT_DEPRECATION_MSG)\n",
            "/usr/local/lib/python3.10/dist-packages/torchtext/vocab/__init__.py:4: UserWarning: \n",
            "/!\\ IMPORTANT WARNING ABOUT TORCHTEXT STATUS /!\\ \n",
            "Torchtext is deprecated and the last released version will be 0.18 (this one). You can silence this warning by calling the following at the beginnign of your scripts: `import torchtext; torchtext.disable_torchtext_deprecation_warning()`\n",
            "  warnings.warn(torchtext._TORCHTEXT_DEPRECATION_MSG)\n",
            "/usr/local/lib/python3.10/dist-packages/torchtext/utils.py:4: UserWarning: \n",
            "/!\\ IMPORTANT WARNING ABOUT TORCHTEXT STATUS /!\\ \n",
            "Torchtext is deprecated and the last released version will be 0.18 (this one). You can silence this warning by calling the following at the beginnign of your scripts: `import torchtext; torchtext.disable_torchtext_deprecation_warning()`\n",
            "  warnings.warn(torchtext._TORCHTEXT_DEPRECATION_MSG)\n"
          ]
        }
      ]
    },
    {
      "cell_type": "markdown",
      "source": [
        "## IMDb dataset\n",
        "The IMDb dataset from HuggingFace will be used for model development."
      ],
      "metadata": {
        "id": "xvLKdfCfG32A"
      }
    },
    {
      "cell_type": "markdown",
      "source": [
        "### Define the dataset\n",
        "Download the 'train' and 'test' splits of the dataset, and inspect its characteristics."
      ],
      "metadata": {
        "id": "PCzsZIRgG4RJ"
      }
    },
    {
      "cell_type": "code",
      "source": [
        "#Download the 'train' and the 'test' splits of the IMDb dataset\n",
        "trSet,tsSet=datasets.load_dataset('imdb',split=['train','test'])\n",
        "print('The respective sizes of the training and the testing datasets are {} and {} respectively. \\nThe sentiment class labels are {}.'.format(trSet.num_rows,tsSet.num_rows,trSet.features['label']))\n",
        "print('A sample picked from any dataset would look as shown below:\\n\\n{}'.format(trSet[0]))"
      ],
      "metadata": {
        "colab": {
          "base_uri": "https://localhost:8080/",
          "height": 452,
          "referenced_widgets": [
            "3c06ad4ed4ca47a2aec2ab82266e794a",
            "4b6b04c69b0741b285ef59c3e6b003e3",
            "60fe4eb6d8f64882a7b515ebe68a2ec3",
            "ecedf72b22434ec384bf91b3b01ec567",
            "498c93a3ae5f47649b8e99fd2734543d",
            "e993b5aa2fe3490388d6154ea2728d3c",
            "518ffc7056b24810925aa4130e75b84d",
            "b39f4d182337419a8bc48016c78a5479",
            "3968bba9eac04bfea0b5fabf67aef326",
            "ac9c1f121ab448f49c48382160aa1253",
            "fa10391a17264aab91218717ae48a3c4",
            "f830dd6d70804823bba2aff11af7f837",
            "91f63051f0244dfbac1a15c92d10419f",
            "95e644eda2234a35a9e8229556b84bda",
            "2457266f290042bb8399f3cc69e4b24e",
            "de63bcc75053437b9887ba5064f186a0",
            "cb49770a534b4a3e997540d08753af6b",
            "c23db8a62d3744fdbdd6c963d81a0663",
            "358a3f61cbfe408ea3627f2e68ba6e07",
            "460bf03b6db745808459863741510111",
            "8de10d99ec4b4fb490fae170c5a34a6d",
            "c40ab762fdc4410f829463ec152d9dc7",
            "03e2d451b20f48dc8c9179f40966c994",
            "3b815e36ab6c4254a3b3b1320d42d952",
            "006dee3c0497437aba4a02b4ff55a237",
            "d5acdafac9d0404c842539fe07aa8515",
            "a1579cf457014bd4863b0f30babc0928",
            "416e554ac4b34319bd592492524df33c",
            "8a18d380938345d29f96c0ee3a83774f",
            "82ada12316d044ffbed8eb65d09c8e10",
            "d75b4d9beac94f5a85e91e9e7e7b38c7",
            "1c13a722a25e49789ce850042bf8583e",
            "04f588fed77746a4a9a4970728c18159",
            "d95ccf4fdaa642d39fb5dffae78f361f",
            "8126f43a8b3448b9a7d36148a6069f3b",
            "3f7549df9788474e85bcbb0b40d688a7",
            "109a86d97d3f42f88092991cfc92a7f1",
            "39a675ed6a3b455d9b66a68a97aa7ea1",
            "15ceb1dd31c742868c94eea738bb88af",
            "f844f40265834c6da1d2db6fc4a04f7b",
            "54e44d14db3b4b4c9ceea445e734e9fd",
            "c07a1c65e8004e7d809e003152ba38a5",
            "52e347c85cfc46a4a684720f6042a191",
            "b1e41ac1b1e441098501a6b5b7dec7aa",
            "6d965241fc3d4de4931651f1ddb4b173",
            "0356a9ebdcab42cf8c8b478c60fa9529",
            "42e339acd0df45659f2e8108fd52cdb1",
            "4b96083078b0491088c517bcbdbd61d0",
            "1f671f326039419a99eb3b54b43d7d79",
            "fce8a3f8fe7b4234b8c5558ab85c9a52",
            "fbf9912b3fde49938d0033fa36829c2b",
            "9a3b1f094f6f49ceb16fd9ab66291e9b",
            "a358c25dfa7547e4ad8595f1af654c3c",
            "f0883797509e46f9bf796d0a2557b5ad",
            "5765c85d352345fc9aa0dab18cd79244",
            "055809209df140af8646dc1c64bc5eaf",
            "3fede6852657453384aee9210c6acfd0",
            "9d971dce5b584059a1204a61f3140aa1",
            "cfc98331951c462580c39704eac63cdc",
            "830afbb27ff54ee2afc33f32202aeffb",
            "8173948e6c174a18a3414900068d0428",
            "3433c972fe9c458192e15218b31b2164",
            "d0f5c694891146fe848fce7d2bdf7efa",
            "154d8c48441b415487e264bca8354ef6",
            "fef11f4228cf49f88a9e3765a9cba710",
            "324cd7648bd943a2896480da1f991063",
            "8915c847d8f2491b88d83316cfeb8b6f",
            "ad6040bb5bc04cd889a60c1b3b0a6dc2",
            "9dd172e935c04618bc38fd5721430ca1",
            "f0e53919d4f04951aa4c8c1776abcbcf",
            "c89301bdbb5c44f1962309ccbb419251",
            "d8075fd69ef04d2fbed3355e2cd9b5f1",
            "0e9865c2eaa445ad8bfc9be4597e44ca",
            "827adef273424408b860fa597a59c5cd",
            "5a507d0658344843802b3f0ae7dceee2",
            "5b64d0acb1214df5a03c5bee6547459a",
            "5704a18a6bd94346bb2cc841c5248de2"
          ]
        },
        "id": "gC6I-Q_cHLZp",
        "outputId": "1db787d0-c856-40f0-aaec-3083c885dd13"
      },
      "execution_count": 2,
      "outputs": [
        {
          "output_type": "stream",
          "name": "stderr",
          "text": [
            "/usr/local/lib/python3.10/dist-packages/huggingface_hub/utils/_token.py:89: UserWarning: \n",
            "The secret `HF_TOKEN` does not exist in your Colab secrets.\n",
            "To authenticate with the Hugging Face Hub, create a token in your settings tab (https://huggingface.co/settings/tokens), set it as secret in your Google Colab and restart your session.\n",
            "You will be able to reuse this secret in all of your notebooks.\n",
            "Please note that authentication is recommended but still optional to access public models or datasets.\n",
            "  warnings.warn(\n"
          ]
        },
        {
          "output_type": "display_data",
          "data": {
            "text/plain": [
              "Downloading readme:   0%|          | 0.00/7.81k [00:00<?, ?B/s]"
            ],
            "application/vnd.jupyter.widget-view+json": {
              "version_major": 2,
              "version_minor": 0,
              "model_id": "3c06ad4ed4ca47a2aec2ab82266e794a"
            }
          },
          "metadata": {}
        },
        {
          "output_type": "display_data",
          "data": {
            "text/plain": [
              "Downloading data:   0%|          | 0.00/21.0M [00:00<?, ?B/s]"
            ],
            "application/vnd.jupyter.widget-view+json": {
              "version_major": 2,
              "version_minor": 0,
              "model_id": "f830dd6d70804823bba2aff11af7f837"
            }
          },
          "metadata": {}
        },
        {
          "output_type": "display_data",
          "data": {
            "text/plain": [
              "Downloading data:   0%|          | 0.00/20.5M [00:00<?, ?B/s]"
            ],
            "application/vnd.jupyter.widget-view+json": {
              "version_major": 2,
              "version_minor": 0,
              "model_id": "03e2d451b20f48dc8c9179f40966c994"
            }
          },
          "metadata": {}
        },
        {
          "output_type": "display_data",
          "data": {
            "text/plain": [
              "Downloading data:   0%|          | 0.00/42.0M [00:00<?, ?B/s]"
            ],
            "application/vnd.jupyter.widget-view+json": {
              "version_major": 2,
              "version_minor": 0,
              "model_id": "d95ccf4fdaa642d39fb5dffae78f361f"
            }
          },
          "metadata": {}
        },
        {
          "output_type": "display_data",
          "data": {
            "text/plain": [
              "Generating train split:   0%|          | 0/25000 [00:00<?, ? examples/s]"
            ],
            "application/vnd.jupyter.widget-view+json": {
              "version_major": 2,
              "version_minor": 0,
              "model_id": "6d965241fc3d4de4931651f1ddb4b173"
            }
          },
          "metadata": {}
        },
        {
          "output_type": "display_data",
          "data": {
            "text/plain": [
              "Generating test split:   0%|          | 0/25000 [00:00<?, ? examples/s]"
            ],
            "application/vnd.jupyter.widget-view+json": {
              "version_major": 2,
              "version_minor": 0,
              "model_id": "055809209df140af8646dc1c64bc5eaf"
            }
          },
          "metadata": {}
        },
        {
          "output_type": "display_data",
          "data": {
            "text/plain": [
              "Generating unsupervised split:   0%|          | 0/50000 [00:00<?, ? examples/s]"
            ],
            "application/vnd.jupyter.widget-view+json": {
              "version_major": 2,
              "version_minor": 0,
              "model_id": "8915c847d8f2491b88d83316cfeb8b6f"
            }
          },
          "metadata": {}
        },
        {
          "output_type": "stream",
          "name": "stdout",
          "text": [
            "The respective sizes of the training and the testing datasets are 25000 and 25000 respectively. \n",
            "The sentiment class labels are ClassLabel(names=['neg', 'pos'], id=None).\n",
            "A sample picked from any dataset would look as shown below:\n",
            "\n",
            "{'text': 'I rented I AM CURIOUS-YELLOW from my video store because of all the controversy that surrounded it when it was first released in 1967. I also heard that at first it was seized by U.S. customs if it ever tried to enter this country, therefore being a fan of films considered \"controversial\" I really had to see this for myself.<br /><br />The plot is centered around a young Swedish drama student named Lena who wants to learn everything she can about life. In particular she wants to focus her attentions to making some sort of documentary on what the average Swede thought about certain political issues such as the Vietnam War and race issues in the United States. In between asking politicians and ordinary denizens of Stockholm about their opinions on politics, she has sex with her drama teacher, classmates, and married men.<br /><br />What kills me about I AM CURIOUS-YELLOW is that 40 years ago, this was considered pornographic. Really, the sex and nudity scenes are few and far between, even then it\\'s not shot like some cheaply made porno. While my countrymen mind find it shocking, in reality sex and nudity are a major staple in Swedish cinema. Even Ingmar Bergman, arguably their answer to good old boy John Ford, had sex scenes in his films.<br /><br />I do commend the filmmakers for the fact that any sex shown in the film is shown for artistic purposes rather than just to shock people and make money to be shown in pornographic theaters in America. I AM CURIOUS-YELLOW is a good film for anyone wanting to study the meat and potatoes (no pun intended) of Swedish cinema. But really, this film doesn\\'t have much of a plot.', 'label': 0}\n"
          ]
        }
      ]
    },
    {
      "cell_type": "markdown",
      "source": [
        "### Tokenization\n",
        "Convert the datasets from collections of strings to collections of numbers so that it is possible for any machine learning model to process them."
      ],
      "metadata": {
        "id": "3MGp1bTqik67"
      }
    },
    {
      "cell_type": "code",
      "source": [
        "#The function that tokenizes the dataset\n",
        "def tokenize(dataset,tokenizer,maxLength):\n",
        "  tokens=tokenizer(dataset['text'])[:maxLength]\n",
        "  length=len(tokens)\n",
        "  return {'tokens':tokens,'lengths':length}\n",
        "\n",
        "#Define the tokenizer and perform tokenization\n",
        "maxLength=256       #maximum length of each token\n",
        "tokenizer=ttd.utils.get_tokenizer('basic_english')\n",
        "print('Tokenizing the training dataset...')\n",
        "trSet=trSet.map(tokenize,fn_kwargs={'tokenizer':tokenizer,'maxLength':maxLength})\n",
        "print('Tokenizing the testing dataset...')\n",
        "tsSet=tsSet.map(tokenize,fn_kwargs={'tokenizer':tokenizer,'maxLength':maxLength})\n",
        "print('\\nThe contents of the tokenized datasets are as follows:\\n{}'.format(trSet))\n",
        "print('\\n\\nA sample from the tokenized dataset would look as shown below:\\n\\n1. Text:\\n{}'.format(trSet[0]['text']))\n",
        "print('\\n2. Label:\\n{}'.format(trSet[0]['label']))\n",
        "print('\\n3. Tokens:\\n{}'.format(trSet[0]['tokens']))\n",
        "print('\\n4. Tokens:\\n{}'.format(trSet[0]['lengths']))"
      ],
      "metadata": {
        "colab": {
          "base_uri": "https://localhost:8080/",
          "height": 500,
          "referenced_widgets": [
            "4b0cae21e8e04e46a5c3a2c98f8262a1",
            "b18ea807e6324b0faad232122f88a2a9",
            "cf34948c3ffe4994838f22c7f68299ed",
            "800d8a9e028149ee872f9736a9bc25b4",
            "58594a1a503f4537b3644e49ef87bb99",
            "89bf71e2445a461b85ace625267cedff",
            "21f79c531df549969c85a17eb1119775",
            "f6403d9240464d9aad37fb5b2ae99e78",
            "65b834320c024541b320d0b0c6bd8a00",
            "f7bc650796a941748867b9fc942867c1",
            "0b7978d121224973bf33841e7d0d8584",
            "a1c5d5ed649d4f268942e1ec37508bca",
            "af17a07bf01444d28026401a1baf0bfe",
            "b4a2d1393751499986af2832ad91c713",
            "c3349766d59b46d996298f0f30998d38",
            "d8961e305d7b4637aac83663a4bb9aea",
            "284e91c26dcd4005b738caa34d7cabda",
            "7f5f455512ac44c3ba90f7dd8b17cd07",
            "d59e9de0d7d94a64a097966725e9b34e",
            "9b6828a2c79c40a1a83c738555dedd58",
            "e26c5105e1a2477785979a0e8dd9c104",
            "ca8380ec6b7346da95c5abe382a41056"
          ]
        },
        "id": "K23MOclril9v",
        "outputId": "0b2ffe72-715a-421a-c96e-19dd958ba323"
      },
      "execution_count": 3,
      "outputs": [
        {
          "output_type": "stream",
          "name": "stdout",
          "text": [
            "Tokenizing the training dataset...\n"
          ]
        },
        {
          "output_type": "display_data",
          "data": {
            "text/plain": [
              "Map:   0%|          | 0/25000 [00:00<?, ? examples/s]"
            ],
            "application/vnd.jupyter.widget-view+json": {
              "version_major": 2,
              "version_minor": 0,
              "model_id": "4b0cae21e8e04e46a5c3a2c98f8262a1"
            }
          },
          "metadata": {}
        },
        {
          "output_type": "stream",
          "name": "stdout",
          "text": [
            "Tokenizing the testing dataset...\n"
          ]
        },
        {
          "output_type": "display_data",
          "data": {
            "text/plain": [
              "Map:   0%|          | 0/25000 [00:00<?, ? examples/s]"
            ],
            "application/vnd.jupyter.widget-view+json": {
              "version_major": 2,
              "version_minor": 0,
              "model_id": "a1c5d5ed649d4f268942e1ec37508bca"
            }
          },
          "metadata": {}
        },
        {
          "output_type": "stream",
          "name": "stdout",
          "text": [
            "\n",
            "The contents of the tokenized datasets are as follows:\n",
            "Dataset({\n",
            "    features: ['text', 'label', 'tokens', 'lengths'],\n",
            "    num_rows: 25000\n",
            "})\n",
            "\n",
            "\n",
            "A sample from the tokenized dataset would look as shown below:\n",
            "\n",
            "1. Text:\n",
            "I rented I AM CURIOUS-YELLOW from my video store because of all the controversy that surrounded it when it was first released in 1967. I also heard that at first it was seized by U.S. customs if it ever tried to enter this country, therefore being a fan of films considered \"controversial\" I really had to see this for myself.<br /><br />The plot is centered around a young Swedish drama student named Lena who wants to learn everything she can about life. In particular she wants to focus her attentions to making some sort of documentary on what the average Swede thought about certain political issues such as the Vietnam War and race issues in the United States. In between asking politicians and ordinary denizens of Stockholm about their opinions on politics, she has sex with her drama teacher, classmates, and married men.<br /><br />What kills me about I AM CURIOUS-YELLOW is that 40 years ago, this was considered pornographic. Really, the sex and nudity scenes are few and far between, even then it's not shot like some cheaply made porno. While my countrymen mind find it shocking, in reality sex and nudity are a major staple in Swedish cinema. Even Ingmar Bergman, arguably their answer to good old boy John Ford, had sex scenes in his films.<br /><br />I do commend the filmmakers for the fact that any sex shown in the film is shown for artistic purposes rather than just to shock people and make money to be shown in pornographic theaters in America. I AM CURIOUS-YELLOW is a good film for anyone wanting to study the meat and potatoes (no pun intended) of Swedish cinema. But really, this film doesn't have much of a plot.\n",
            "\n",
            "2. Label:\n",
            "0\n",
            "\n",
            "3. Tokens:\n",
            "['i', 'rented', 'i', 'am', 'curious-yellow', 'from', 'my', 'video', 'store', 'because', 'of', 'all', 'the', 'controversy', 'that', 'surrounded', 'it', 'when', 'it', 'was', 'first', 'released', 'in', '1967', '.', 'i', 'also', 'heard', 'that', 'at', 'first', 'it', 'was', 'seized', 'by', 'u', '.', 's', '.', 'customs', 'if', 'it', 'ever', 'tried', 'to', 'enter', 'this', 'country', ',', 'therefore', 'being', 'a', 'fan', 'of', 'films', 'considered', 'controversial', 'i', 'really', 'had', 'to', 'see', 'this', 'for', 'myself', '.', 'the', 'plot', 'is', 'centered', 'around', 'a', 'young', 'swedish', 'drama', 'student', 'named', 'lena', 'who', 'wants', 'to', 'learn', 'everything', 'she', 'can', 'about', 'life', '.', 'in', 'particular', 'she', 'wants', 'to', 'focus', 'her', 'attentions', 'to', 'making', 'some', 'sort', 'of', 'documentary', 'on', 'what', 'the', 'average', 'swede', 'thought', 'about', 'certain', 'political', 'issues', 'such', 'as', 'the', 'vietnam', 'war', 'and', 'race', 'issues', 'in', 'the', 'united', 'states', '.', 'in', 'between', 'asking', 'politicians', 'and', 'ordinary', 'denizens', 'of', 'stockholm', 'about', 'their', 'opinions', 'on', 'politics', ',', 'she', 'has', 'sex', 'with', 'her', 'drama', 'teacher', ',', 'classmates', ',', 'and', 'married', 'men', '.', 'what', 'kills', 'me', 'about', 'i', 'am', 'curious-yellow', 'is', 'that', '40', 'years', 'ago', ',', 'this', 'was', 'considered', 'pornographic', '.', 'really', ',', 'the', 'sex', 'and', 'nudity', 'scenes', 'are', 'few', 'and', 'far', 'between', ',', 'even', 'then', 'it', \"'\", 's', 'not', 'shot', 'like', 'some', 'cheaply', 'made', 'porno', '.', 'while', 'my', 'countrymen', 'mind', 'find', 'it', 'shocking', ',', 'in', 'reality', 'sex', 'and', 'nudity', 'are', 'a', 'major', 'staple', 'in', 'swedish', 'cinema', '.', 'even', 'ingmar', 'bergman', ',', 'arguably', 'their', 'answer', 'to', 'good', 'old', 'boy', 'john', 'ford', ',', 'had', 'sex', 'scenes', 'in', 'his', 'films', '.', 'i', 'do', 'commend', 'the', 'filmmakers', 'for', 'the', 'fact', 'that', 'any', 'sex', 'shown', 'in', 'the', 'film', 'is']\n",
            "\n",
            "4. Tokens:\n",
            "256\n"
          ]
        }
      ]
    },
    {
      "cell_type": "markdown",
      "source": [
        "### Validation dataset\n",
        "Set aside a portion of the tokenized training dataset as the validation dataset."
      ],
      "metadata": {
        "id": "3z7chJSMksIi"
      }
    },
    {
      "cell_type": "code",
      "source": [
        "valRatio=0.25\n",
        "tempSet=trSet.train_test_split(test_size=valRatio)\n",
        "trSet=tempSet['train']\n",
        "valSet=tempSet['test']\n",
        "print('The respective final sizes of the training, the validation, and the testing datasets are:{}, {}, and {} respectively.'.format(len(trSet),len(valSet),len(tsSet)))"
      ],
      "metadata": {
        "colab": {
          "base_uri": "https://localhost:8080/"
        },
        "id": "ItcXkNgZksyB",
        "outputId": "1fa315a8-5e5b-4bc3-bd43-1284aa1f3c7a"
      },
      "execution_count": 4,
      "outputs": [
        {
          "output_type": "stream",
          "name": "stdout",
          "text": [
            "The respective final sizes of the training, the validation, and the testing datasets are:18750, 6250, and 25000 respectively.\n"
          ]
        }
      ]
    },
    {
      "cell_type": "markdown",
      "source": [
        "### Vocabulary\n",
        "Convert the tokens into one-hot representations by defining a minimum threshold frequency of occurence for each token and the unknown and the padding tokens."
      ],
      "metadata": {
        "id": "_WP2ETJau00P"
      }
    },
    {
      "cell_type": "code",
      "source": [
        "#Define the vocabulary\n",
        "threshold=5                 #minimum frequency of occurence for a token to be assigned a one-hot representation\n",
        "spclTokens=['<unk>','<pad>']#to represent tokens with frequency<threshold and for padding to make all sentences have the same lengths\n",
        "vocabulary=ttv.build_vocab_from_iterator(trSet['tokens'],min_freq=threshold,specials=spclTokens)\n",
        "print('The number of tokens in the vocabulary is {}.'.format(len(vocabulary)))##tokens forming the vocabulary after eliminating tokens with frequency<'threshold'\n",
        "\n",
        "#Indices of the special tokens in the vocabulary\n",
        "idxUnk,idxPad=vocabulary['<unk>'],vocabulary['<pad>']\n",
        "vocabulary.set_default_index(idxUnk)#set '<unk>' as the default token for any new words encounterd. Otherwise, new words will raise an error"
      ],
      "metadata": {
        "colab": {
          "base_uri": "https://localhost:8080/"
        },
        "id": "E5YJ8LOZu3qd",
        "outputId": "123e5a83-c644-4d28-8b42-b2bc8fcdc72b"
      },
      "execution_count": 5,
      "outputs": [
        {
          "output_type": "stream",
          "name": "stdout",
          "text": [
            "The number of tokens in the vocabulary is 21528.\n"
          ]
        }
      ]
    },
    {
      "cell_type": "markdown",
      "source": [
        "### Numerize the vocabulary\n",
        "Convert the tokens into a numerical format so that they can be processed by neural networks."
      ],
      "metadata": {
        "id": "4lsORSBowQ8z"
      }
    },
    {
      "cell_type": "code",
      "source": [
        "#The function that numerizes the tokenized dataset\n",
        "def numerize(dataset,vocabulary):\n",
        "  indices=vocabulary.lookup_indices(dataset['tokens'])\n",
        "  return {'indices':indices}\n",
        "\n",
        "#Numerize the datasets\n",
        "print('Numerizing the training dataset...')\n",
        "trSet=trSet.map(numerize,fn_kwargs={'vocabulary':vocabulary})\n",
        "print('Numerizing the validation dataset...')\n",
        "valSet=valSet.map(numerize,fn_kwargs={'vocabulary':vocabulary})\n",
        "print('Numerizing the testing dataset...')\n",
        "tsSet=tsSet.map(numerize,fn_kwargs={'vocabulary':vocabulary})\n",
        "print('The contents of the numerized datasets are as follows:\\n{}.'.format(trSet))\n",
        "print('\\n\\nA sample from the numerized dataset would look as shown below:\\n\\n1. Text:\\n{}'.format(trSet[0]['text']))\n",
        "print('\\n2. Label:\\n{}'.format(trSet[0]['label']))\n",
        "print('\\n3. Tokens:\\n{}'.format(trSet[0]['tokens']))\n",
        "print('\\n4. Length:\\n{}'.format(trSet[0]['lengths']))\n",
        "print('\\n5. Indices:\\n{}'.format(trSet[0]['indices']))\n",
        "\n",
        "#Convert the datasets to tensors after retaining only 'label' and 'indices'\n",
        "trSet=trSet.with_format(type='torch',columns=['indices','label','lengths'])\n",
        "valSet=valSet.with_format(type='torch',columns=['indices','label','lengths'])\n",
        "trSet=tsSet.with_format(type='torch',columns=['indices','label','lengths'])\n",
        "print('\\nThe numerized datasets\\' contents after their conversion to tensors are as follows:\\n{}.'.format(trSet))\n",
        "print('\\n\\nA sample from a dataset tensor would look as shown below:\\n\\n1. Label:\\n{}'.format(trSet[0]['label']))\n",
        "print('\\n2. Length:\\n{}'.format(trSet[0]['lengths']))\n",
        "print('\\n3. Indices:\\n{}'.format(trSet[0]['indices']))"
      ],
      "metadata": {
        "colab": {
          "base_uri": "https://localhost:8080/",
          "height": 1000,
          "referenced_widgets": [
            "b984f9e4bd25462586439bf1985c0df5",
            "d295574b1b624f02b11b0a1325689613",
            "993b51a22ea14a4db8d7ef81dc472069",
            "0ed39f5c768245d2a75eb9d88a22de0d",
            "097eef53b0ae4b65b48b2f77ef8e22a7",
            "030cbfe2e68a4d23940a61e31a51f144",
            "7f0c3c3c1321487e8093f255e8f041a8",
            "aeed3cf50c494962a14f71fade1cd678",
            "512224e3c48343b0b84f6eb28379ffbf",
            "d6bdd6047afd496489637caf6d75c971",
            "64eebb9885d143eb9e82d36e16d68ca9",
            "98bd5e40cbe74c3a82c75b1478215e51",
            "f0332fa4ba5f46f18cd5440f44a88b0a",
            "06f9e6252c9d4e67b065f6a3e524bda6",
            "26361441d8b54aa3b15390ee10d608b8",
            "9630f68b61d849e49fb921f13817260e",
            "e15c275a8d9c4013a53a7aa5af7967e7",
            "1e000a9221c44755ad0382d1c6c341d9",
            "a57a6e2eab5846c58ce4eccafeb7f763",
            "10584d3df0804fdc9bacfb1252944c39",
            "80c96dc8ad454856ab3c56e41e7c8cea",
            "c53d5f9645f340e3b6fcbdad5a6c9fc1",
            "36b9df826905409381b332318faee08c",
            "487c38a9bf8f4075a4c8a6c39e668c97",
            "f5fa7f77159d41f9a9e1abeb2d1a75b5",
            "f98843297a0440b79efc3338ba5891f6",
            "47d9db93ad014d45898ee2975dd4eba5",
            "e0a88d44749344da8fb87254dee4f0c7",
            "96479eb21231470ead0a85bf26af42ff",
            "f72070f269e34888bf68b1835ccf5816",
            "6e3ca29f847c44e3a53143ac89aee003",
            "d8c8dc3f5f56425fb8a6da7f19bc9fad",
            "c045492f07ba4614ac613110d82edf49"
          ]
        },
        "id": "q0EwB5PdwSrq",
        "outputId": "48a0e2ae-65d3-4076-b933-33b381f0b11b"
      },
      "execution_count": 6,
      "outputs": [
        {
          "output_type": "stream",
          "name": "stdout",
          "text": [
            "Numerizing the training dataset...\n"
          ]
        },
        {
          "output_type": "display_data",
          "data": {
            "text/plain": [
              "Map:   0%|          | 0/18750 [00:00<?, ? examples/s]"
            ],
            "application/vnd.jupyter.widget-view+json": {
              "version_major": 2,
              "version_minor": 0,
              "model_id": "b984f9e4bd25462586439bf1985c0df5"
            }
          },
          "metadata": {}
        },
        {
          "output_type": "stream",
          "name": "stdout",
          "text": [
            "Numerizing the validation dataset...\n"
          ]
        },
        {
          "output_type": "display_data",
          "data": {
            "text/plain": [
              "Map:   0%|          | 0/6250 [00:00<?, ? examples/s]"
            ],
            "application/vnd.jupyter.widget-view+json": {
              "version_major": 2,
              "version_minor": 0,
              "model_id": "98bd5e40cbe74c3a82c75b1478215e51"
            }
          },
          "metadata": {}
        },
        {
          "output_type": "stream",
          "name": "stdout",
          "text": [
            "Numerizing the testing dataset...\n"
          ]
        },
        {
          "output_type": "display_data",
          "data": {
            "text/plain": [
              "Map:   0%|          | 0/25000 [00:00<?, ? examples/s]"
            ],
            "application/vnd.jupyter.widget-view+json": {
              "version_major": 2,
              "version_minor": 0,
              "model_id": "36b9df826905409381b332318faee08c"
            }
          },
          "metadata": {}
        },
        {
          "output_type": "stream",
          "name": "stdout",
          "text": [
            "The contents of the numerized datasets are as follows:\n",
            "Dataset({\n",
            "    features: ['text', 'label', 'tokens', 'lengths', 'indices'],\n",
            "    num_rows: 18750\n",
            "}).\n",
            "\n",
            "\n",
            "A sample from the numerized dataset would look as shown below:\n",
            "\n",
            "1. Text:\n",
            "Ella was excellent, Franchot was unavoidably over-the-top (But he played similar parts in other films such as \"The Man on the Eiffel Tower\") and Alan was nearly non-existent but the film certainly \"thrilled\".<br /><br />*mild spoiler ahead*: I wonder how many times Elisha Cook got strangled in his films but I seem to recall various other examples. I will avoid naming the murderer but I think it's necessarily obvious because of the plot \"thriller\" demands.<br /><br />A very well-done but dated film noire (for example: everyone smoked like crazy and the police were really stock characters. And no dead bodies were ever shown, unlike today's gore fests.) done in the familiar short-scene tableaux format of the period.<br /><br />8 out of 10.\n",
            "\n",
            "2. Label:\n",
            "1\n",
            "\n",
            "3. Tokens:\n",
            "['ella', 'was', 'excellent', ',', 'franchot', 'was', 'unavoidably', 'over-the-top', '(', 'but', 'he', 'played', 'similar', 'parts', 'in', 'other', 'films', 'such', 'as', 'the', 'man', 'on', 'the', 'eiffel', 'tower', ')', 'and', 'alan', 'was', 'nearly', 'non-existent', 'but', 'the', 'film', 'certainly', 'thrilled', '.', '*mild', 'spoiler', 'ahead*', 'i', 'wonder', 'how', 'many', 'times', 'elisha', 'cook', 'got', 'strangled', 'in', 'his', 'films', 'but', 'i', 'seem', 'to', 'recall', 'various', 'other', 'examples', '.', 'i', 'will', 'avoid', 'naming', 'the', 'murderer', 'but', 'i', 'think', 'it', \"'\", 's', 'necessarily', 'obvious', 'because', 'of', 'the', 'plot', 'thriller', 'demands', '.', 'a', 'very', 'well-done', 'but', 'dated', 'film', 'noire', '(', 'for', 'example', 'everyone', 'smoked', 'like', 'crazy', 'and', 'the', 'police', 'were', 'really', 'stock', 'characters', '.', 'and', 'no', 'dead', 'bodies', 'were', 'ever', 'shown', ',', 'unlike', 'today', \"'\", 's', 'gore', 'fests', '.', ')', 'done', 'in', 'the', 'familiar', 'short-scene', 'tableaux', 'format', 'of', 'the', 'period', '.', '8', 'out', 'of', '10', '.']\n",
            "\n",
            "4. Length:\n",
            "136\n",
            "\n",
            "5. Indices:\n",
            "[9593, 17, 299, 4, 10900, 17, 0, 2672, 25, 22, 33, 268, 714, 501, 13, 90, 116, 144, 19, 2, 138, 27, 2, 0, 7471, 24, 6, 1552, 17, 771, 3542, 22, 2, 23, 461, 5122, 3, 0, 1593, 0, 12, 567, 91, 117, 204, 9592, 3148, 184, 17349, 13, 32, 116, 22, 12, 319, 8, 1969, 1023, 90, 2761, 3, 12, 94, 782, 11016, 2, 3009, 22, 12, 109, 11, 9, 16, 2803, 598, 89, 7, 2, 112, 672, 3981, 3, 5, 58, 5524, 22, 1809, 23, 14617, 25, 21, 488, 287, 19006, 45, 909, 6, 2, 601, 76, 68, 1996, 114, 3, 6, 67, 382, 2510, 76, 122, 619, 4, 977, 502, 9, 16, 657, 0, 3, 24, 230, 13, 2, 1030, 0, 21258, 2622, 7, 2, 802, 3, 1006, 53, 7, 301, 3]\n",
            "\n",
            "The numerized datasets' contents after their conversion to tensors are as follows:\n",
            "Dataset({\n",
            "    features: ['text', 'label', 'tokens', 'lengths', 'indices'],\n",
            "    num_rows: 25000\n",
            "}).\n",
            "\n",
            "\n",
            "A sample from a dataset tensor would look as shown below:\n",
            "\n",
            "1. Label:\n",
            "0\n",
            "\n",
            "2. Length:\n",
            "256\n",
            "\n",
            "3. Indices:\n",
            "tensor([   12,   118,  1013,     6,   219,  1804,     8,   279,    70,    20,\n",
            "            5,   172,     3,  1013,     0,    30,   581,     0,     4, 14932,\n",
            "            6,  7204,     3,    12,   750,     8,    45,    14,     4,    12,\n",
            "           68,   126,     4,    22,    11,    10,     8,    56,   239,  1013,\n",
            "           19, 12473,   570,    10,     8,   340,  1902,    25,     2,   192,\n",
            "           24,     3,   720,     0,     4,   732,  3365,   688,     4,  4250,\n",
            "         3572,     4,  4145,    15,   169,     9,    28,  1116,     2,   970,\n",
            "            4,     6,  2146,  4310,   114,   549,    35,  2971,    20,     5,\n",
            "            9,  1013,     9,   937,     3,    25,    12,     9,   147,   256,\n",
            "           46,    30,   155,     7,    26,    53,    46,    42,   109, 12473,\n",
            "          570,    10,    56,  1013,   239,     3,    11,     9,    16,    29,\n",
            "            3,    11,     9,    16,  2686,     6,  7713,     3,    24,   146,\n",
            "          198,   809,   253,    45,  1488,     6,   124,   932,     4,  1013,\n",
            "           10,     5,   534,    15,   133,    29,   206,   430,   583,    25,\n",
            "        19653,     3,   340,  1902,    24,     3,    11,   223,  1667,   729,\n",
            "         1399,     4,   263,    29,    19,     5,   614,  4689,     3,    11,\n",
            "            9,    16,    68,   850,     8,   479,    47,     2,   114,   136,\n",
            "           19,    39,    30,    29,   351,  5938,     4,    48,   975,     5,\n",
            "         4554,     7,   127,     3,    77,  1832,     6,  3953,    30,  1481,\n",
            "            6,   667,     4,   415,  1336,     8,   115,     3,     2,  1323,\n",
            "            7,   702,   130,    11,     9,    16,  1764,    19,    39,    31,\n",
            "            8,   218,   137,  1937, 14743,     9,    16,   702,     3,     3,\n",
            "            3,   962,    80,    69,    29,  1821,   145,     3, 14743,     9,\n",
            "           16, 13200,   208,    35,  1639,    13,    77, 11558,    19,    14,\n",
            "          742,     4,   732,     4,   796,  2122,    25,   145,    11,   216,\n",
            "        12432,  2051,    68,   971,    14,   354])\n"
          ]
        }
      ]
    },
    {
      "cell_type": "markdown",
      "source": [
        "### Data loader"
      ],
      "metadata": {
        "id": "bhDCGSLS24wL"
      }
    },
    {
      "cell_type": "code",
      "source": [
        "#The class prepares batches of data that can be iterated over by the data loader.\n",
        "#The batch is prepared by collating a group of data samples in the function\n",
        "#'collate'. The function also pads the shorter sequences in the batch with '<pad>'\n",
        "#to make their lengths equal to that of the batch's longest sequence. This\n",
        "#ensures that the neural network model's I/P dimension remains fixed.\n",
        "class sentimentDataset(Dataset):\n",
        "  def __init__(self,dataset,batchSize,idxPad,shuffle=False):\n",
        "    self.dataset,self.batchSize=dataset,batchSize\n",
        "    self.idxPad=idxPad\n",
        "    self.shuffle=shuffle\n",
        "\n",
        "  def collate(self,batch):\n",
        "    batchLabels=[sample['label'] for sample in batch]\n",
        "    batchLengths=[sample['lengths'] for sample in batch]\n",
        "    batchIndices=[sample['indices'] for sample in batch]\n",
        "    batchLabels=torch.stack(batchLabels)\n",
        "    batchLengths=torch.stack(batchLengths)\n",
        "    batchIndices=nn.utils.rnn.pad_sequence(batchIndices,padding_value=self.idxPad,batch_first=True)\n",
        "    print('Batch size is {} and {}.'.format(batchLabels.shape,batchLengths.shape,batchIndices.shape))\n",
        "    return {'label':batchLabels,'lengths':batchLengths,'indices':batchIndices}\n",
        "\n",
        "  def loadData(self):\n",
        "    dataLoader=torch.utils.data.DataLoader(dataset=self.dataset,batch_size=self.batchSize,collate_fn=self.collate,shuffle=self.shuffle)\n",
        "    return dataLoader\n",
        "\n",
        "def dataIterators(set,dataset,params):\n",
        "  if set=='train':obj=sentimentDataset(dataset,params['batchSize'],params['padIndex'],shuffle=True)\n",
        "  elif set=='validate':obj=sentimentDataset(dataset,params['batchSize'],params['padIndex'],shuffle=False)\n",
        "  elif set=='test':obj=sentimentDataset(dataset,params['batchSize'],params['padIndex'],shuffle=False)\n",
        "  return obj.loadData()"
      ],
      "metadata": {
        "id": "Zrx3Q2Ri25QB"
      },
      "execution_count": 7,
      "outputs": []
    },
    {
      "cell_type": "markdown",
      "source": [
        "## LSTM model for sentiment classification\n",
        "The sentiment classification model will be an LSTM with an architecture as defined below:"
      ],
      "metadata": {
        "id": "XxQucVv1EfXn"
      }
    },
    {
      "cell_type": "code",
      "source": [
        "class lstm(nn.Module):\n",
        "  #Initializes the LSTM class\n",
        "  def __init__(self,vocabularySize,embDim,hiddenDim,opDim,L,bi,rate,idxPad):\n",
        "    super(lstm,self).__init__()\n",
        "    self.embed=nn.Embedding(vocabularySize,embDim,padding_idx=idxPad)\n",
        "    self.lstm=nn.LSTM(embDim,hiddenDim,L,bidirectional=bi,dropout=rate,batch_first=True)\n",
        "    self.linear=nn.Linear(hiddenDim*2 if bi else hiddenDim,opDim)\n",
        "    self.dropout=nn.Dropout(rate)\n",
        "\n",
        "  #Forward propagates a batch of IDs (denoted by 'x') of size\n",
        "  #[batchSize,sequenceLength] and  lengths (denoted by 'lengths') of size\n",
        "  #[batchSize] through the network\n",
        "  def forward(self,x,lengths):\n",
        "    x1=self.dropout(self.embed(x))                    #size is [batchSize,sequenceLength,embDim]\n",
        "    packedEmbedded=nn.utils.rnn.pack_padded_sequence(x1,lengths,batch_first=True,enforce_sorted=False)#pack zero-padded batch of samples for computational efficiency\n",
        "    #Output sizes of the LSTM layer are:\n",
        "    #1. 'packedOP': O/P for all time-steps with size [batchSize,sequenceLength,hiddenDim*nDim], where 'nDim'=2 for bidirectional and 1 otherwise\n",
        "    #2. #h: O/P for the last time-step with size [L*nDim,batchSize,hiddenDim]\n",
        "    #3. #c: cell-state for the last time-step with size [L*nDim,batchSize,hiddenDim]\n",
        "    packedOP,(h,c)=self.lstm(packedEmbedded)\n",
        "    OP,lnOP=nn.utils.rnn.pad_packed_sequence(packedOP)#inverse operation of packing; OP's size is [batchSize,sequenceLength,hiddenDim*nDim]\n",
        "    if self.lstm.bidirectional:\n",
        "      h=self.dropout(torch.cat([h[-1],h[-2]],dim=-1)) #size is [batchSize,hiddenDim*2]; 'nDim'=2 since bidirectional\n",
        "    else:\n",
        "      h=self.dropout(h[-1])                           #size is [batchSize,hiddenDim]; 'nDim'=1 since unidirectional\n",
        "    labelsHat=self.linear(h)\n",
        "    return labelsHat                                  #prediction's size is [batchSize,opDim]"
      ],
      "metadata": {
        "id": "pvpPzVXoEglX"
      },
      "execution_count": 8,
      "outputs": []
    },
    {
      "cell_type": "markdown",
      "source": [
        "## Model training and evaluation\n",
        "The functions that train, validate, and evaluate the LSTM model are defined below."
      ],
      "metadata": {
        "id": "OHXZ-FUb9cc9"
      }
    },
    {
      "cell_type": "code",
      "source": [
        "#This function trains and validates the model\n",
        "def train(vocabulary,trDataLoader,valDataLoader,params):\n",
        "  #Define the model and initialize its weights\n",
        "  model=lstm(params['vocabularySize'],params['embDim'],params['hiddenDim'],params['opDim'],params['lstmLayers'],params['bi'],params['rate'],params['padIndex'])\n",
        "  model.apply(initWeights)\n",
        "  #Initialize embedding layer's weights with pretrained weights from Glove\n",
        "  vectors=torchtext.vocab.GloVe()          #initializing embedded layer with pretrained weights from Glove\n",
        "  temp=vocabulary.get_itos()               #vocabulary tokens represented as a list\n",
        "  pretrainEmb=vectors.get_vecs_by_tokens(temp)\n",
        "  model.embed.weight.data=pretrainEmb      #replace embedding layer's initial random weights with pretrained weights\n",
        "  #Define the cost-function and the optimizer\n",
        "  optimizer=optim.Adam(model.parameters(),lr=params['alpha'])\n",
        "  costFun=nn.CrossEntropyLoss().to(params['device'])\n",
        "  #Start training the model\n",
        "  metrics=collections.defaultdict(list)\n",
        "  bestValLoss=float(\"inf\")\n",
        "  earlyCounter,tolerance=0,3               #for early stopping\n",
        "  model.to(params['device'])               #move the model to the GPU\n",
        "  model.train()                            #configure the model for training\n",
        "  for epoch in range(params['epochs']):    #loop for epochs\n",
        "    model.train()                          #configure the model for training\n",
        "    trLosses,trAccuracies=[],[]\n",
        "    #Loop over each training batch\n",
        "    for dataBatch in tqdm.tqdm(trDataLoader,desc='Model training in progress...'):\n",
        "      labels=dataBatch['label'].to(params['device'])\n",
        "      lengths=dataBatch['lengths']\n",
        "      indices=dataBatch['indices'].to(params['device'])\n",
        "      #Forward propagation\n",
        "      labelsHat=model(indices,lengths)\n",
        "      loss=costFun(labelsHat,labels)\n",
        "      accuracy=getAccuracy(labelsHat,labels)\n",
        "      #Backpropagation\n",
        "      optimizer.zero_grad()                #initialize all gradients to zero\n",
        "      loss.backward()\n",
        "      optimizer.step()\n",
        "      #Update the losses\n",
        "      trLosses.append(loss.item())\n",
        "      trAccuracies.append(accuracy.item())\n",
        "    metrics[\"train_losses\"].append(np.mean(trLosses))\n",
        "    metrics[\"train_accs\"].append(np.mean(trAccuracies))\n",
        "    #Validate the model after each epoch\n",
        "    model.eval()\n",
        "    valLosses,valAccuracies=[],[]\n",
        "    with torch.no_grad():                  #backpropagation not required\n",
        "      for dataBatch in tqdm.tqdm(valDataLoader,desc='Model validation in progress...'):\n",
        "        labels=dataBatch['label'].to(params['device'])\n",
        "        lengths=dataBatch['lengths']\n",
        "        indices=dataBatch['indices'].to(params['device'])\n",
        "        #Forward propagation\n",
        "        labelsHat=model(indices,lengths)\n",
        "        loss=costFun(labelsHat,labels)\n",
        "        accuracy=getAccuracy(labelsHat,labels)\n",
        "        #Update the losses\n",
        "        valLosses.append(loss.item())\n",
        "        valAccuracies.append(accuracy.item())\n",
        "    metrics[\"valid_losses\"].append(np.mean(valLosses))\n",
        "    metrics[\"valid_accs\"].append(np.mean(valAccuracies))\n",
        "    if np.mean(valLosses)<bestValLoss:\n",
        "      bestValLoss=np.mean(valLosses)\n",
        "      torch.save(model.state_dict(),'lstm.pt')\n",
        "    print(f'Epoch: {epoch}')\n",
        "    print(f'Training loss: {np.mean(trLosses):.3f},Training accuracy: {np.mean(trAccuracies):.3f}')\n",
        "    print(f'Validation loss: {np.mean(valLosses):.3f},Validation accuracy: {np.mean(valAccuracies):.3f}\\n\\n')\n",
        "    #Check if training must be stopped early\n",
        "    earlyCounter=earlyStopping(earlyCounter,np.mean(trLosses),np.mean(valLosses))\n",
        "    if earlyCounter>=tolerance:\n",
        "      print('\\n\\nModel training stopping early...')\n",
        "      break\n",
        "  return model,costFun,metrics\n",
        "\n",
        "#This function evaluates the model\n",
        "def evaluate(model,tsDataLoader,costFun,params):\n",
        "  model.eval()                           #configure the model for evaluation\n",
        "  tsLosses,tsAccuracies=[],[]\n",
        "  with torch.no_grad():                  #backpropagation not required\n",
        "    for dataBatch in tqdm.tqdm(tsDataLoader,desc='Model evaluation in progress...'):\n",
        "      labels=dataBatch['label'].to(params['device'])\n",
        "      lengths=dataBatch['lengths']\n",
        "      indices=dataBatch['indices'].to(params['device'])\n",
        "      #Forward propagation\n",
        "      labelsHat=model(indices,lengths)\n",
        "      loss=costFun(labelsHat,labels)\n",
        "      accuracy=getAccuracy(labelsHat,labels)\n",
        "      #Update the losses\n",
        "      tsLosses.append(loss.item())\n",
        "      tsAccuracies.append(accuracy.item())\n",
        "  return np.mean(tsLosses),np.mean(tsAccuracies)\n",
        "\n",
        "#This function initializes the network weights\n",
        "def initWeights(model):\n",
        "  if isinstance(model,nn.Linear):\n",
        "    nn.init.xavier_normal_(model.weight) #Xavier initialization for linear layer weights\n",
        "    nn.init.zeros_(model.bias)           #initialize all bias weights to zeros\n",
        "  elif isinstance(model,nn.LSTM):\n",
        "    for layer,weights in model.named_parameters():\n",
        "      if 'weight' in layer:\n",
        "        nn.init.orthogonal_(weights)     #Orthogonal initialization for LSTM layer weights\n",
        "      elif 'bias' in layer:\n",
        "        nn.init.zeros_(weights)          #initialize all bias weights to zeros\n",
        "\n",
        "#This function computes the accuracies of predictions for a given batch of data\n",
        "def getAccuracy(yHat,y):\n",
        "  batchSize,_=yHat.shape\n",
        "  labelsHat=yHat.argmax(dim=-1)          #predicted class labels\n",
        "  TP=labelsHat.eq(y).sum()               #true positives\n",
        "  return TP/batchSize\n",
        "\n",
        "#This function implements early stopping to prevent overifitting\n",
        "def earlyStopping(counter,trLoss,valLoss,delta=0.1,tolerance=3):\n",
        "  if (valLoss-trLoss)>delta:counter+=1\n",
        "  else:counter=0\n",
        "  return counter"
      ],
      "metadata": {
        "id": "Zb2bDN9o9cj8"
      },
      "execution_count": 61,
      "outputs": []
    },
    {
      "cell_type": "markdown",
      "source": [
        "## Main function"
      ],
      "metadata": {
        "id": "jXqEw9toHSEB"
      }
    },
    {
      "cell_type": "code",
      "source": [
        "if __name__=='__main__':\n",
        "  device=torch.device('cuda' if torch.cuda.is_available() else 'cpu')\n",
        "  #device=torch.device('cpu')\n",
        "  params={'device':device,\n",
        "          'epochs':15,\n",
        "          'batchSize':512,\n",
        "          'alpha':5e-4,\n",
        "          'vocabularySize':len(vocabulary),\n",
        "          'embDim':300,\n",
        "          'hiddenDim':300,\n",
        "          'lstmLayers':2,\n",
        "          'bi':True,                          #whether bidirectional LSTM or not\n",
        "          'opDim':len(trSet.unique('label')), #as there are two label classes - positive and negative - this is 2\n",
        "          'rate':0.5,                         #drop-out rate\n",
        "          'padIndex':idxPad,\n",
        "          'unknownIndex':idxUnk\n",
        "          }\n",
        "  #Data iterators\n",
        "  trIterator=dataIterators('train',trSet,params)\n",
        "  valIterator=dataIterators('validate',valSet,params)\n",
        "  tsIterator=dataIterators('test',tsSet,params)\n",
        "  #Train the LSTM model\n",
        "  model,costFun,metrics=train(vocabulary,trIterator,valIterator,params)\n",
        "  print('Model training complete, and the model has {} learnable parameters.\\n\\n'.format(sum(weight.numel() for weight in model.parameters() if weight.requires_grad==True)))\n",
        "  #Plot the learning curves\n",
        "  figure1=plt.figure(figsize=(10,6))\n",
        "  axis=figure1.add_subplot(1,1,1)\n",
        "  axis.plot(metrics['train_losses'],label='Training loss')\n",
        "  axis.plot(metrics['valid_losses'], label='Validation loss')\n",
        "  axis.set_xticks(range(params['epochs']))\n",
        "  axis.set_title('Loss v/s epoch')\n",
        "  axis.set_xlabel('Epoch')\n",
        "  axis.set_ylabel('Loss')\n",
        "  axis.legend()\n",
        "  axis.grid()\n",
        "  figure2=plt.figure(figsize=(10,6))\n",
        "  axis=figure2.add_subplot(1,1,1)\n",
        "  axis.plot(metrics['train_accs'], label='Training accuracy')\n",
        "  axis.plot(metrics['valid_accs'], label='Validation accuracy')\n",
        "  axis.set_xticks(range(params['epochs']))\n",
        "  axis.set_title('Accuracy v/s epoch')\n",
        "  axis.set_ylabel('Accuracy')\n",
        "  axis.set_xlabel('Epoch')\n",
        "  axis.legend()\n",
        "  axis.grid()"
      ],
      "metadata": {
        "colab": {
          "base_uri": "https://localhost:8080/",
          "height": 1000
        },
        "id": "PChbp2bCGPXq",
        "outputId": "c272ad89-8587-4c3a-b07f-4fdaa002edd8"
      },
      "execution_count": 62,
      "outputs": [
        {
          "output_type": "stream",
          "name": "stderr",
          "text": [
            "\rModel training in progress...:   0%|          | 0/49 [00:00<?, ?it/s]"
          ]
        },
        {
          "output_type": "stream",
          "name": "stdout",
          "text": [
            "Batch size is torch.Size([512]) and torch.Size([512]).\n"
          ]
        },
        {
          "output_type": "stream",
          "name": "stderr",
          "text": [
            "\rModel training in progress...:   2%|▏         | 1/49 [00:00<00:42,  1.13it/s]"
          ]
        },
        {
          "output_type": "stream",
          "name": "stdout",
          "text": [
            "Batch size is torch.Size([512]) and torch.Size([512]).\n"
          ]
        },
        {
          "output_type": "stream",
          "name": "stderr",
          "text": [
            "\rModel training in progress...:   4%|▍         | 2/49 [00:01<00:39,  1.19it/s]"
          ]
        },
        {
          "output_type": "stream",
          "name": "stdout",
          "text": [
            "Batch size is torch.Size([512]) and torch.Size([512]).\n"
          ]
        },
        {
          "output_type": "stream",
          "name": "stderr",
          "text": [
            "\rModel training in progress...:   6%|▌         | 3/49 [00:02<00:38,  1.21it/s]"
          ]
        },
        {
          "output_type": "stream",
          "name": "stdout",
          "text": [
            "Batch size is torch.Size([512]) and torch.Size([512]).\n"
          ]
        },
        {
          "output_type": "stream",
          "name": "stderr",
          "text": [
            "\rModel training in progress...:   8%|▊         | 4/49 [00:03<00:36,  1.22it/s]"
          ]
        },
        {
          "output_type": "stream",
          "name": "stdout",
          "text": [
            "Batch size is torch.Size([512]) and torch.Size([512]).\n"
          ]
        },
        {
          "output_type": "stream",
          "name": "stderr",
          "text": [
            "\rModel training in progress...:  10%|█         | 5/49 [00:04<00:35,  1.23it/s]"
          ]
        },
        {
          "output_type": "stream",
          "name": "stdout",
          "text": [
            "Batch size is torch.Size([512]) and torch.Size([512]).\n"
          ]
        },
        {
          "output_type": "stream",
          "name": "stderr",
          "text": [
            "\rModel training in progress...:  12%|█▏        | 6/49 [00:04<00:34,  1.23it/s]"
          ]
        },
        {
          "output_type": "stream",
          "name": "stdout",
          "text": [
            "Batch size is torch.Size([512]) and torch.Size([512]).\n"
          ]
        },
        {
          "output_type": "stream",
          "name": "stderr",
          "text": [
            "\rModel training in progress...:  14%|█▍        | 7/49 [00:05<00:34,  1.22it/s]"
          ]
        },
        {
          "output_type": "stream",
          "name": "stdout",
          "text": [
            "Batch size is torch.Size([512]) and torch.Size([512]).\n"
          ]
        },
        {
          "output_type": "stream",
          "name": "stderr",
          "text": [
            "\rModel training in progress...:  16%|█▋        | 8/49 [00:06<00:33,  1.22it/s]"
          ]
        },
        {
          "output_type": "stream",
          "name": "stdout",
          "text": [
            "Batch size is torch.Size([512]) and torch.Size([512]).\n"
          ]
        },
        {
          "output_type": "stream",
          "name": "stderr",
          "text": [
            "\rModel training in progress...:  18%|█▊        | 9/49 [00:07<00:33,  1.21it/s]"
          ]
        },
        {
          "output_type": "stream",
          "name": "stdout",
          "text": [
            "Batch size is torch.Size([512]) and torch.Size([512]).\n"
          ]
        },
        {
          "output_type": "stream",
          "name": "stderr",
          "text": [
            "\rModel training in progress...:  20%|██        | 10/49 [00:08<00:32,  1.21it/s]"
          ]
        },
        {
          "output_type": "stream",
          "name": "stdout",
          "text": [
            "Batch size is torch.Size([512]) and torch.Size([512]).\n"
          ]
        },
        {
          "output_type": "stream",
          "name": "stderr",
          "text": [
            "\rModel training in progress...:  22%|██▏       | 11/49 [00:09<00:31,  1.21it/s]"
          ]
        },
        {
          "output_type": "stream",
          "name": "stdout",
          "text": [
            "Batch size is torch.Size([512]) and torch.Size([512]).\n"
          ]
        },
        {
          "output_type": "stream",
          "name": "stderr",
          "text": [
            "\rModel training in progress...:  24%|██▍       | 12/49 [00:09<00:30,  1.21it/s]"
          ]
        },
        {
          "output_type": "stream",
          "name": "stdout",
          "text": [
            "Batch size is torch.Size([512]) and torch.Size([512]).\n"
          ]
        },
        {
          "output_type": "stream",
          "name": "stderr",
          "text": [
            "\rModel training in progress...:  27%|██▋       | 13/49 [00:10<00:29,  1.21it/s]"
          ]
        },
        {
          "output_type": "stream",
          "name": "stdout",
          "text": [
            "Batch size is torch.Size([512]) and torch.Size([512]).\n"
          ]
        },
        {
          "output_type": "stream",
          "name": "stderr",
          "text": [
            "\rModel training in progress...:  29%|██▊       | 14/49 [00:11<00:29,  1.20it/s]"
          ]
        },
        {
          "output_type": "stream",
          "name": "stdout",
          "text": [
            "Batch size is torch.Size([512]) and torch.Size([512]).\n"
          ]
        },
        {
          "output_type": "stream",
          "name": "stderr",
          "text": [
            "\rModel training in progress...:  31%|███       | 15/49 [00:12<00:28,  1.20it/s]"
          ]
        },
        {
          "output_type": "stream",
          "name": "stdout",
          "text": [
            "Batch size is torch.Size([512]) and torch.Size([512]).\n"
          ]
        },
        {
          "output_type": "stream",
          "name": "stderr",
          "text": [
            "\rModel training in progress...:  33%|███▎      | 16/49 [00:13<00:27,  1.21it/s]"
          ]
        },
        {
          "output_type": "stream",
          "name": "stdout",
          "text": [
            "Batch size is torch.Size([512]) and torch.Size([512]).\n"
          ]
        },
        {
          "output_type": "stream",
          "name": "stderr",
          "text": [
            "\rModel training in progress...:  35%|███▍      | 17/49 [00:14<00:26,  1.19it/s]"
          ]
        },
        {
          "output_type": "stream",
          "name": "stdout",
          "text": [
            "Batch size is torch.Size([512]) and torch.Size([512]).\n"
          ]
        },
        {
          "output_type": "stream",
          "name": "stderr",
          "text": [
            "\rModel training in progress...:  37%|███▋      | 18/49 [00:14<00:25,  1.19it/s]"
          ]
        },
        {
          "output_type": "stream",
          "name": "stdout",
          "text": [
            "Batch size is torch.Size([512]) and torch.Size([512]).\n"
          ]
        },
        {
          "output_type": "stream",
          "name": "stderr",
          "text": [
            "\rModel training in progress...:  39%|███▉      | 19/49 [00:15<00:25,  1.20it/s]"
          ]
        },
        {
          "output_type": "stream",
          "name": "stdout",
          "text": [
            "Batch size is torch.Size([512]) and torch.Size([512]).\n"
          ]
        },
        {
          "output_type": "stream",
          "name": "stderr",
          "text": [
            "\rModel training in progress...:  41%|████      | 20/49 [00:16<00:24,  1.19it/s]"
          ]
        },
        {
          "output_type": "stream",
          "name": "stdout",
          "text": [
            "Batch size is torch.Size([512]) and torch.Size([512]).\n"
          ]
        },
        {
          "output_type": "stream",
          "name": "stderr",
          "text": [
            "\rModel training in progress...:  43%|████▎     | 21/49 [00:17<00:23,  1.19it/s]"
          ]
        },
        {
          "output_type": "stream",
          "name": "stdout",
          "text": [
            "Batch size is torch.Size([512]) and torch.Size([512]).\n"
          ]
        },
        {
          "output_type": "stream",
          "name": "stderr",
          "text": [
            "\rModel training in progress...:  45%|████▍     | 22/49 [00:18<00:22,  1.19it/s]"
          ]
        },
        {
          "output_type": "stream",
          "name": "stdout",
          "text": [
            "Batch size is torch.Size([512]) and torch.Size([512]).\n"
          ]
        },
        {
          "output_type": "stream",
          "name": "stderr",
          "text": [
            "\rModel training in progress...:  47%|████▋     | 23/49 [00:19<00:21,  1.18it/s]"
          ]
        },
        {
          "output_type": "stream",
          "name": "stdout",
          "text": [
            "Batch size is torch.Size([512]) and torch.Size([512]).\n"
          ]
        },
        {
          "output_type": "stream",
          "name": "stderr",
          "text": [
            "\rModel training in progress...:  49%|████▉     | 24/49 [00:19<00:21,  1.18it/s]"
          ]
        },
        {
          "output_type": "stream",
          "name": "stdout",
          "text": [
            "Batch size is torch.Size([512]) and torch.Size([512]).\n"
          ]
        },
        {
          "output_type": "stream",
          "name": "stderr",
          "text": [
            "\rModel training in progress...:  51%|█████     | 25/49 [00:20<00:20,  1.17it/s]"
          ]
        },
        {
          "output_type": "stream",
          "name": "stdout",
          "text": [
            "Batch size is torch.Size([512]) and torch.Size([512]).\n"
          ]
        },
        {
          "output_type": "stream",
          "name": "stderr",
          "text": [
            "\rModel training in progress...:  53%|█████▎    | 26/49 [00:21<00:19,  1.17it/s]"
          ]
        },
        {
          "output_type": "stream",
          "name": "stdout",
          "text": [
            "Batch size is torch.Size([512]) and torch.Size([512]).\n"
          ]
        },
        {
          "output_type": "stream",
          "name": "stderr",
          "text": [
            "\rModel training in progress...:  55%|█████▌    | 27/49 [00:22<00:18,  1.16it/s]"
          ]
        },
        {
          "output_type": "stream",
          "name": "stdout",
          "text": [
            "Batch size is torch.Size([512]) and torch.Size([512]).\n"
          ]
        },
        {
          "output_type": "stream",
          "name": "stderr",
          "text": [
            "\rModel training in progress...:  57%|█████▋    | 28/49 [00:23<00:18,  1.16it/s]"
          ]
        },
        {
          "output_type": "stream",
          "name": "stdout",
          "text": [
            "Batch size is torch.Size([512]) and torch.Size([512]).\n"
          ]
        },
        {
          "output_type": "stream",
          "name": "stderr",
          "text": [
            "\rModel training in progress...:  59%|█████▉    | 29/49 [00:24<00:17,  1.16it/s]"
          ]
        },
        {
          "output_type": "stream",
          "name": "stdout",
          "text": [
            "Batch size is torch.Size([512]) and torch.Size([512]).\n"
          ]
        },
        {
          "output_type": "stream",
          "name": "stderr",
          "text": [
            "\rModel training in progress...:  61%|██████    | 30/49 [00:25<00:16,  1.15it/s]"
          ]
        },
        {
          "output_type": "stream",
          "name": "stdout",
          "text": [
            "Batch size is torch.Size([512]) and torch.Size([512]).\n"
          ]
        },
        {
          "output_type": "stream",
          "name": "stderr",
          "text": [
            "\rModel training in progress...:  63%|██████▎   | 31/49 [00:26<00:15,  1.16it/s]"
          ]
        },
        {
          "output_type": "stream",
          "name": "stdout",
          "text": [
            "Batch size is torch.Size([512]) and torch.Size([512]).\n"
          ]
        },
        {
          "output_type": "stream",
          "name": "stderr",
          "text": [
            "\rModel training in progress...:  65%|██████▌   | 32/49 [00:26<00:14,  1.16it/s]"
          ]
        },
        {
          "output_type": "stream",
          "name": "stdout",
          "text": [
            "Batch size is torch.Size([512]) and torch.Size([512]).\n"
          ]
        },
        {
          "output_type": "stream",
          "name": "stderr",
          "text": [
            "\rModel training in progress...:  67%|██████▋   | 33/49 [00:27<00:13,  1.15it/s]"
          ]
        },
        {
          "output_type": "stream",
          "name": "stdout",
          "text": [
            "Batch size is torch.Size([512]) and torch.Size([512]).\n"
          ]
        },
        {
          "output_type": "stream",
          "name": "stderr",
          "text": [
            "\rModel training in progress...:  69%|██████▉   | 34/49 [00:28<00:13,  1.15it/s]"
          ]
        },
        {
          "output_type": "stream",
          "name": "stdout",
          "text": [
            "Batch size is torch.Size([512]) and torch.Size([512]).\n"
          ]
        },
        {
          "output_type": "stream",
          "name": "stderr",
          "text": [
            "\rModel training in progress...:  71%|███████▏  | 35/49 [00:29<00:12,  1.16it/s]"
          ]
        },
        {
          "output_type": "stream",
          "name": "stdout",
          "text": [
            "Batch size is torch.Size([512]) and torch.Size([512]).\n"
          ]
        },
        {
          "output_type": "stream",
          "name": "stderr",
          "text": [
            "\rModel training in progress...:  73%|███████▎  | 36/49 [00:30<00:11,  1.16it/s]"
          ]
        },
        {
          "output_type": "stream",
          "name": "stdout",
          "text": [
            "Batch size is torch.Size([512]) and torch.Size([512]).\n"
          ]
        },
        {
          "output_type": "stream",
          "name": "stderr",
          "text": [
            "\rModel training in progress...:  76%|███████▌  | 37/49 [00:31<00:10,  1.15it/s]"
          ]
        },
        {
          "output_type": "stream",
          "name": "stdout",
          "text": [
            "Batch size is torch.Size([512]) and torch.Size([512]).\n"
          ]
        },
        {
          "output_type": "stream",
          "name": "stderr",
          "text": [
            "\rModel training in progress...:  78%|███████▊  | 38/49 [00:32<00:09,  1.15it/s]"
          ]
        },
        {
          "output_type": "stream",
          "name": "stdout",
          "text": [
            "Batch size is torch.Size([512]) and torch.Size([512]).\n"
          ]
        },
        {
          "output_type": "stream",
          "name": "stderr",
          "text": [
            "\rModel training in progress...:  80%|███████▉  | 39/49 [00:32<00:08,  1.16it/s]"
          ]
        },
        {
          "output_type": "stream",
          "name": "stdout",
          "text": [
            "Batch size is torch.Size([512]) and torch.Size([512]).\n"
          ]
        },
        {
          "output_type": "stream",
          "name": "stderr",
          "text": [
            "\rModel training in progress...:  82%|████████▏ | 40/49 [00:33<00:07,  1.15it/s]"
          ]
        },
        {
          "output_type": "stream",
          "name": "stdout",
          "text": [
            "Batch size is torch.Size([512]) and torch.Size([512]).\n"
          ]
        },
        {
          "output_type": "stream",
          "name": "stderr",
          "text": [
            "\rModel training in progress...:  84%|████████▎ | 41/49 [00:34<00:06,  1.16it/s]"
          ]
        },
        {
          "output_type": "stream",
          "name": "stdout",
          "text": [
            "Batch size is torch.Size([512]) and torch.Size([512]).\n"
          ]
        },
        {
          "output_type": "stream",
          "name": "stderr",
          "text": [
            "\rModel training in progress...:  86%|████████▌ | 42/49 [00:35<00:06,  1.15it/s]"
          ]
        },
        {
          "output_type": "stream",
          "name": "stdout",
          "text": [
            "Batch size is torch.Size([512]) and torch.Size([512]).\n"
          ]
        },
        {
          "output_type": "stream",
          "name": "stderr",
          "text": [
            "\rModel training in progress...:  88%|████████▊ | 43/49 [00:36<00:05,  1.14it/s]"
          ]
        },
        {
          "output_type": "stream",
          "name": "stdout",
          "text": [
            "Batch size is torch.Size([512]) and torch.Size([512]).\n"
          ]
        },
        {
          "output_type": "stream",
          "name": "stderr",
          "text": [
            "\rModel training in progress...:  90%|████████▉ | 44/49 [00:37<00:04,  1.14it/s]"
          ]
        },
        {
          "output_type": "stream",
          "name": "stdout",
          "text": [
            "Batch size is torch.Size([512]) and torch.Size([512]).\n"
          ]
        },
        {
          "output_type": "stream",
          "name": "stderr",
          "text": [
            "\rModel training in progress...:  92%|█████████▏| 45/49 [00:38<00:03,  1.14it/s]"
          ]
        },
        {
          "output_type": "stream",
          "name": "stdout",
          "text": [
            "Batch size is torch.Size([512]) and torch.Size([512]).\n"
          ]
        },
        {
          "output_type": "stream",
          "name": "stderr",
          "text": [
            "\rModel training in progress...:  94%|█████████▍| 46/49 [00:39<00:02,  1.13it/s]"
          ]
        },
        {
          "output_type": "stream",
          "name": "stdout",
          "text": [
            "Batch size is torch.Size([512]) and torch.Size([512]).\n"
          ]
        },
        {
          "output_type": "stream",
          "name": "stderr",
          "text": [
            "\rModel training in progress...:  96%|█████████▌| 47/49 [00:40<00:01,  1.14it/s]"
          ]
        },
        {
          "output_type": "stream",
          "name": "stdout",
          "text": [
            "Batch size is torch.Size([512]) and torch.Size([512]).\n"
          ]
        },
        {
          "output_type": "stream",
          "name": "stderr",
          "text": [
            "\rModel training in progress...:  98%|█████████▊| 48/49 [00:40<00:00,  1.14it/s]"
          ]
        },
        {
          "output_type": "stream",
          "name": "stdout",
          "text": [
            "Batch size is torch.Size([424]) and torch.Size([424]).\n"
          ]
        },
        {
          "output_type": "stream",
          "name": "stderr",
          "text": [
            "Model training in progress...: 100%|██████████| 49/49 [00:41<00:00,  1.18it/s]\n",
            "Model validation in progress...:   0%|          | 0/13 [00:00<?, ?it/s]"
          ]
        },
        {
          "output_type": "stream",
          "name": "stdout",
          "text": [
            "Batch size is torch.Size([512]) and torch.Size([512]).\n"
          ]
        },
        {
          "output_type": "stream",
          "name": "stderr",
          "text": [
            "\rModel validation in progress...:   8%|▊         | 1/13 [00:00<00:03,  3.66it/s]"
          ]
        },
        {
          "output_type": "stream",
          "name": "stdout",
          "text": [
            "Batch size is torch.Size([512]) and torch.Size([512]).\n"
          ]
        },
        {
          "output_type": "stream",
          "name": "stderr",
          "text": [
            "\rModel validation in progress...:  15%|█▌        | 2/13 [00:00<00:03,  3.61it/s]"
          ]
        },
        {
          "output_type": "stream",
          "name": "stdout",
          "text": [
            "Batch size is torch.Size([512]) and torch.Size([512]).\n"
          ]
        },
        {
          "output_type": "stream",
          "name": "stderr",
          "text": [
            "\rModel validation in progress...:  23%|██▎       | 3/13 [00:00<00:02,  3.57it/s]"
          ]
        },
        {
          "output_type": "stream",
          "name": "stdout",
          "text": [
            "Batch size is torch.Size([512]) and torch.Size([512]).\n"
          ]
        },
        {
          "output_type": "stream",
          "name": "stderr",
          "text": [
            "\rModel validation in progress...:  31%|███       | 4/13 [00:01<00:02,  3.50it/s]"
          ]
        },
        {
          "output_type": "stream",
          "name": "stdout",
          "text": [
            "Batch size is torch.Size([512]) and torch.Size([512]).\n"
          ]
        },
        {
          "output_type": "stream",
          "name": "stderr",
          "text": [
            "\rModel validation in progress...:  38%|███▊      | 5/13 [00:01<00:02,  3.50it/s]"
          ]
        },
        {
          "output_type": "stream",
          "name": "stdout",
          "text": [
            "Batch size is torch.Size([512]) and torch.Size([512]).\n"
          ]
        },
        {
          "output_type": "stream",
          "name": "stderr",
          "text": [
            "\rModel validation in progress...:  46%|████▌     | 6/13 [00:01<00:01,  3.55it/s]"
          ]
        },
        {
          "output_type": "stream",
          "name": "stdout",
          "text": [
            "Batch size is torch.Size([512]) and torch.Size([512]).\n"
          ]
        },
        {
          "output_type": "stream",
          "name": "stderr",
          "text": [
            "\rModel validation in progress...:  54%|█████▍    | 7/13 [00:01<00:01,  3.52it/s]"
          ]
        },
        {
          "output_type": "stream",
          "name": "stdout",
          "text": [
            "Batch size is torch.Size([512]) and torch.Size([512]).\n"
          ]
        },
        {
          "output_type": "stream",
          "name": "stderr",
          "text": [
            "\rModel validation in progress...:  62%|██████▏   | 8/13 [00:02<00:01,  3.51it/s]"
          ]
        },
        {
          "output_type": "stream",
          "name": "stdout",
          "text": [
            "Batch size is torch.Size([512]) and torch.Size([512]).\n"
          ]
        },
        {
          "output_type": "stream",
          "name": "stderr",
          "text": [
            "\rModel validation in progress...:  69%|██████▉   | 9/13 [00:02<00:01,  3.48it/s]"
          ]
        },
        {
          "output_type": "stream",
          "name": "stdout",
          "text": [
            "Batch size is torch.Size([512]) and torch.Size([512]).\n"
          ]
        },
        {
          "output_type": "stream",
          "name": "stderr",
          "text": [
            "\rModel validation in progress...:  77%|███████▋  | 10/13 [00:02<00:00,  3.52it/s]"
          ]
        },
        {
          "output_type": "stream",
          "name": "stdout",
          "text": [
            "Batch size is torch.Size([512]) and torch.Size([512]).\n"
          ]
        },
        {
          "output_type": "stream",
          "name": "stderr",
          "text": [
            "\rModel validation in progress...:  85%|████████▍ | 11/13 [00:03<00:00,  3.50it/s]"
          ]
        },
        {
          "output_type": "stream",
          "name": "stdout",
          "text": [
            "Batch size is torch.Size([512]) and torch.Size([512]).\n"
          ]
        },
        {
          "output_type": "stream",
          "name": "stderr",
          "text": [
            "Model validation in progress...: 100%|██████████| 13/13 [00:03<00:00,  3.72it/s]\n"
          ]
        },
        {
          "output_type": "stream",
          "name": "stdout",
          "text": [
            "Batch size is torch.Size([106]) and torch.Size([106]).\n",
            "Epoch: 0\n",
            "Training loss: 0.618,Training accuracy: 0.649\n",
            "Validation loss: 0.583,Validation accuracy: 0.667\n",
            "\n",
            "\n"
          ]
        },
        {
          "output_type": "stream",
          "name": "stderr",
          "text": [
            "\rModel training in progress...:   0%|          | 0/49 [00:00<?, ?it/s]"
          ]
        },
        {
          "output_type": "stream",
          "name": "stdout",
          "text": [
            "Batch size is torch.Size([512]) and torch.Size([512]).\n"
          ]
        },
        {
          "output_type": "stream",
          "name": "stderr",
          "text": [
            "\rModel training in progress...:   2%|▏         | 1/49 [00:00<00:41,  1.17it/s]"
          ]
        },
        {
          "output_type": "stream",
          "name": "stdout",
          "text": [
            "Batch size is torch.Size([512]) and torch.Size([512]).\n"
          ]
        },
        {
          "output_type": "stream",
          "name": "stderr",
          "text": [
            "\rModel training in progress...:   4%|▍         | 2/49 [00:01<00:41,  1.13it/s]"
          ]
        },
        {
          "output_type": "stream",
          "name": "stdout",
          "text": [
            "Batch size is torch.Size([512]) and torch.Size([512]).\n"
          ]
        },
        {
          "output_type": "stream",
          "name": "stderr",
          "text": [
            "\rModel training in progress...:   6%|▌         | 3/49 [00:02<00:40,  1.13it/s]"
          ]
        },
        {
          "output_type": "stream",
          "name": "stdout",
          "text": [
            "Batch size is torch.Size([512]) and torch.Size([512]).\n"
          ]
        },
        {
          "output_type": "stream",
          "name": "stderr",
          "text": [
            "\rModel training in progress...:   8%|▊         | 4/49 [00:03<00:40,  1.12it/s]"
          ]
        },
        {
          "output_type": "stream",
          "name": "stdout",
          "text": [
            "Batch size is torch.Size([512]) and torch.Size([512]).\n"
          ]
        },
        {
          "output_type": "stream",
          "name": "stderr",
          "text": [
            "\rModel training in progress...:  10%|█         | 5/49 [00:04<00:39,  1.11it/s]"
          ]
        },
        {
          "output_type": "stream",
          "name": "stdout",
          "text": [
            "Batch size is torch.Size([512]) and torch.Size([512]).\n"
          ]
        },
        {
          "output_type": "stream",
          "name": "stderr",
          "text": [
            "\rModel training in progress...:  12%|█▏        | 6/49 [00:05<00:38,  1.12it/s]"
          ]
        },
        {
          "output_type": "stream",
          "name": "stdout",
          "text": [
            "Batch size is torch.Size([512]) and torch.Size([512]).\n"
          ]
        },
        {
          "output_type": "stream",
          "name": "stderr",
          "text": [
            "\rModel training in progress...:  14%|█▍        | 7/49 [00:06<00:37,  1.11it/s]"
          ]
        },
        {
          "output_type": "stream",
          "name": "stdout",
          "text": [
            "Batch size is torch.Size([512]) and torch.Size([512]).\n"
          ]
        },
        {
          "output_type": "stream",
          "name": "stderr",
          "text": [
            "\rModel training in progress...:  16%|█▋        | 8/49 [00:07<00:36,  1.11it/s]"
          ]
        },
        {
          "output_type": "stream",
          "name": "stdout",
          "text": [
            "Batch size is torch.Size([512]) and torch.Size([512]).\n"
          ]
        },
        {
          "output_type": "stream",
          "name": "stderr",
          "text": [
            "\rModel training in progress...:  18%|█▊        | 9/49 [00:08<00:35,  1.12it/s]"
          ]
        },
        {
          "output_type": "stream",
          "name": "stdout",
          "text": [
            "Batch size is torch.Size([512]) and torch.Size([512]).\n"
          ]
        },
        {
          "output_type": "stream",
          "name": "stderr",
          "text": [
            "\rModel training in progress...:  20%|██        | 10/49 [00:08<00:35,  1.11it/s]"
          ]
        },
        {
          "output_type": "stream",
          "name": "stdout",
          "text": [
            "Batch size is torch.Size([512]) and torch.Size([512]).\n"
          ]
        },
        {
          "output_type": "stream",
          "name": "stderr",
          "text": [
            "\rModel training in progress...:  22%|██▏       | 11/49 [00:09<00:34,  1.11it/s]"
          ]
        },
        {
          "output_type": "stream",
          "name": "stdout",
          "text": [
            "Batch size is torch.Size([512]) and torch.Size([512]).\n"
          ]
        },
        {
          "output_type": "stream",
          "name": "stderr",
          "text": [
            "\rModel training in progress...:  24%|██▍       | 12/49 [00:10<00:33,  1.10it/s]"
          ]
        },
        {
          "output_type": "stream",
          "name": "stdout",
          "text": [
            "Batch size is torch.Size([512]) and torch.Size([512]).\n"
          ]
        },
        {
          "output_type": "stream",
          "name": "stderr",
          "text": [
            "\rModel training in progress...:  27%|██▋       | 13/49 [00:11<00:32,  1.10it/s]"
          ]
        },
        {
          "output_type": "stream",
          "name": "stdout",
          "text": [
            "Batch size is torch.Size([512]) and torch.Size([512]).\n"
          ]
        },
        {
          "output_type": "stream",
          "name": "stderr",
          "text": [
            "\rModel training in progress...:  29%|██▊       | 14/49 [00:12<00:31,  1.10it/s]"
          ]
        },
        {
          "output_type": "stream",
          "name": "stdout",
          "text": [
            "Batch size is torch.Size([512]) and torch.Size([512]).\n"
          ]
        },
        {
          "output_type": "stream",
          "name": "stderr",
          "text": [
            "\rModel training in progress...:  31%|███       | 15/49 [00:13<00:30,  1.11it/s]"
          ]
        },
        {
          "output_type": "stream",
          "name": "stdout",
          "text": [
            "Batch size is torch.Size([512]) and torch.Size([512]).\n"
          ]
        },
        {
          "output_type": "stream",
          "name": "stderr",
          "text": [
            "\rModel training in progress...:  33%|███▎      | 16/49 [00:14<00:29,  1.11it/s]"
          ]
        },
        {
          "output_type": "stream",
          "name": "stdout",
          "text": [
            "Batch size is torch.Size([512]) and torch.Size([512]).\n"
          ]
        },
        {
          "output_type": "stream",
          "name": "stderr",
          "text": [
            "\rModel training in progress...:  35%|███▍      | 17/49 [00:15<00:29,  1.10it/s]"
          ]
        },
        {
          "output_type": "stream",
          "name": "stdout",
          "text": [
            "Batch size is torch.Size([512]) and torch.Size([512]).\n"
          ]
        },
        {
          "output_type": "stream",
          "name": "stderr",
          "text": [
            "\rModel training in progress...:  37%|███▋      | 18/49 [00:16<00:28,  1.10it/s]"
          ]
        },
        {
          "output_type": "stream",
          "name": "stdout",
          "text": [
            "Batch size is torch.Size([512]) and torch.Size([512]).\n"
          ]
        },
        {
          "output_type": "stream",
          "name": "stderr",
          "text": [
            "\rModel training in progress...:  39%|███▉      | 19/49 [00:17<00:26,  1.12it/s]"
          ]
        },
        {
          "output_type": "stream",
          "name": "stdout",
          "text": [
            "Batch size is torch.Size([512]) and torch.Size([512]).\n"
          ]
        },
        {
          "output_type": "stream",
          "name": "stderr",
          "text": [
            "\rModel training in progress...:  41%|████      | 20/49 [00:17<00:26,  1.11it/s]"
          ]
        },
        {
          "output_type": "stream",
          "name": "stdout",
          "text": [
            "Batch size is torch.Size([512]) and torch.Size([512]).\n"
          ]
        },
        {
          "output_type": "stream",
          "name": "stderr",
          "text": [
            "\rModel training in progress...:  43%|████▎     | 21/49 [00:18<00:25,  1.11it/s]"
          ]
        },
        {
          "output_type": "stream",
          "name": "stdout",
          "text": [
            "Batch size is torch.Size([512]) and torch.Size([512]).\n"
          ]
        },
        {
          "output_type": "stream",
          "name": "stderr",
          "text": [
            "\rModel training in progress...:  45%|████▍     | 22/49 [00:19<00:24,  1.11it/s]"
          ]
        },
        {
          "output_type": "stream",
          "name": "stdout",
          "text": [
            "Batch size is torch.Size([512]) and torch.Size([512]).\n"
          ]
        },
        {
          "output_type": "stream",
          "name": "stderr",
          "text": [
            "\rModel training in progress...:  47%|████▋     | 23/49 [00:20<00:23,  1.11it/s]"
          ]
        },
        {
          "output_type": "stream",
          "name": "stdout",
          "text": [
            "Batch size is torch.Size([512]) and torch.Size([512]).\n"
          ]
        },
        {
          "output_type": "stream",
          "name": "stderr",
          "text": [
            "\rModel training in progress...:  49%|████▉     | 24/49 [00:21<00:22,  1.12it/s]"
          ]
        },
        {
          "output_type": "stream",
          "name": "stdout",
          "text": [
            "Batch size is torch.Size([512]) and torch.Size([512]).\n"
          ]
        },
        {
          "output_type": "stream",
          "name": "stderr",
          "text": [
            "\rModel training in progress...:  51%|█████     | 25/49 [00:22<00:21,  1.12it/s]"
          ]
        },
        {
          "output_type": "stream",
          "name": "stdout",
          "text": [
            "Batch size is torch.Size([512]) and torch.Size([512]).\n"
          ]
        },
        {
          "output_type": "stream",
          "name": "stderr",
          "text": [
            "\rModel training in progress...:  53%|█████▎    | 26/49 [00:23<00:20,  1.11it/s]"
          ]
        },
        {
          "output_type": "stream",
          "name": "stdout",
          "text": [
            "Batch size is torch.Size([512]) and torch.Size([512]).\n"
          ]
        },
        {
          "output_type": "stream",
          "name": "stderr",
          "text": [
            "\rModel training in progress...:  55%|█████▌    | 27/49 [00:24<00:19,  1.11it/s]"
          ]
        },
        {
          "output_type": "stream",
          "name": "stdout",
          "text": [
            "Batch size is torch.Size([512]) and torch.Size([512]).\n"
          ]
        },
        {
          "output_type": "stream",
          "name": "stderr",
          "text": [
            "\rModel training in progress...:  57%|█████▋    | 28/49 [00:25<00:18,  1.11it/s]"
          ]
        },
        {
          "output_type": "stream",
          "name": "stdout",
          "text": [
            "Batch size is torch.Size([512]) and torch.Size([512]).\n"
          ]
        },
        {
          "output_type": "stream",
          "name": "stderr",
          "text": [
            "\rModel training in progress...:  59%|█████▉    | 29/49 [00:26<00:17,  1.13it/s]"
          ]
        },
        {
          "output_type": "stream",
          "name": "stdout",
          "text": [
            "Batch size is torch.Size([512]) and torch.Size([512]).\n"
          ]
        },
        {
          "output_type": "stream",
          "name": "stderr",
          "text": [
            "\rModel training in progress...:  61%|██████    | 30/49 [00:26<00:16,  1.13it/s]"
          ]
        },
        {
          "output_type": "stream",
          "name": "stdout",
          "text": [
            "Batch size is torch.Size([512]) and torch.Size([512]).\n"
          ]
        },
        {
          "output_type": "stream",
          "name": "stderr",
          "text": [
            "\rModel training in progress...:  63%|██████▎   | 31/49 [00:27<00:15,  1.13it/s]"
          ]
        },
        {
          "output_type": "stream",
          "name": "stdout",
          "text": [
            "Batch size is torch.Size([512]) and torch.Size([512]).\n"
          ]
        },
        {
          "output_type": "stream",
          "name": "stderr",
          "text": [
            "\rModel training in progress...:  65%|██████▌   | 32/49 [00:28<00:15,  1.13it/s]"
          ]
        },
        {
          "output_type": "stream",
          "name": "stdout",
          "text": [
            "Batch size is torch.Size([512]) and torch.Size([512]).\n"
          ]
        },
        {
          "output_type": "stream",
          "name": "stderr",
          "text": [
            "\rModel training in progress...:  67%|██████▋   | 33/49 [00:29<00:14,  1.13it/s]"
          ]
        },
        {
          "output_type": "stream",
          "name": "stdout",
          "text": [
            "Batch size is torch.Size([512]) and torch.Size([512]).\n"
          ]
        },
        {
          "output_type": "stream",
          "name": "stderr",
          "text": [
            "\rModel training in progress...:  69%|██████▉   | 34/49 [00:30<00:13,  1.13it/s]"
          ]
        },
        {
          "output_type": "stream",
          "name": "stdout",
          "text": [
            "Batch size is torch.Size([512]) and torch.Size([512]).\n"
          ]
        },
        {
          "output_type": "stream",
          "name": "stderr",
          "text": [
            "\rModel training in progress...:  71%|███████▏  | 35/49 [00:31<00:12,  1.13it/s]"
          ]
        },
        {
          "output_type": "stream",
          "name": "stdout",
          "text": [
            "Batch size is torch.Size([512]) and torch.Size([512]).\n"
          ]
        },
        {
          "output_type": "stream",
          "name": "stderr",
          "text": [
            "\rModel training in progress...:  73%|███████▎  | 36/49 [00:32<00:11,  1.13it/s]"
          ]
        },
        {
          "output_type": "stream",
          "name": "stdout",
          "text": [
            "Batch size is torch.Size([512]) and torch.Size([512]).\n"
          ]
        },
        {
          "output_type": "stream",
          "name": "stderr",
          "text": [
            "\rModel training in progress...:  76%|███████▌  | 37/49 [00:33<00:10,  1.14it/s]"
          ]
        },
        {
          "output_type": "stream",
          "name": "stdout",
          "text": [
            "Batch size is torch.Size([512]) and torch.Size([512]).\n"
          ]
        },
        {
          "output_type": "stream",
          "name": "stderr",
          "text": [
            "\rModel training in progress...:  78%|███████▊  | 38/49 [00:33<00:09,  1.14it/s]"
          ]
        },
        {
          "output_type": "stream",
          "name": "stdout",
          "text": [
            "Batch size is torch.Size([512]) and torch.Size([512]).\n"
          ]
        },
        {
          "output_type": "stream",
          "name": "stderr",
          "text": [
            "\rModel training in progress...:  80%|███████▉  | 39/49 [00:34<00:08,  1.14it/s]"
          ]
        },
        {
          "output_type": "stream",
          "name": "stdout",
          "text": [
            "Batch size is torch.Size([512]) and torch.Size([512]).\n"
          ]
        },
        {
          "output_type": "stream",
          "name": "stderr",
          "text": [
            "\rModel training in progress...:  82%|████████▏ | 40/49 [00:35<00:07,  1.13it/s]"
          ]
        },
        {
          "output_type": "stream",
          "name": "stdout",
          "text": [
            "Batch size is torch.Size([512]) and torch.Size([512]).\n"
          ]
        },
        {
          "output_type": "stream",
          "name": "stderr",
          "text": [
            "\rModel training in progress...:  84%|████████▎ | 41/49 [00:36<00:07,  1.14it/s]"
          ]
        },
        {
          "output_type": "stream",
          "name": "stdout",
          "text": [
            "Batch size is torch.Size([512]) and torch.Size([512]).\n"
          ]
        },
        {
          "output_type": "stream",
          "name": "stderr",
          "text": [
            "\rModel training in progress...:  86%|████████▌ | 42/49 [00:37<00:06,  1.13it/s]"
          ]
        },
        {
          "output_type": "stream",
          "name": "stdout",
          "text": [
            "Batch size is torch.Size([512]) and torch.Size([512]).\n"
          ]
        },
        {
          "output_type": "stream",
          "name": "stderr",
          "text": [
            "\rModel training in progress...:  88%|████████▊ | 43/49 [00:38<00:05,  1.13it/s]"
          ]
        },
        {
          "output_type": "stream",
          "name": "stdout",
          "text": [
            "Batch size is torch.Size([512]) and torch.Size([512]).\n"
          ]
        },
        {
          "output_type": "stream",
          "name": "stderr",
          "text": [
            "\rModel training in progress...:  90%|████████▉ | 44/49 [00:39<00:04,  1.15it/s]"
          ]
        },
        {
          "output_type": "stream",
          "name": "stdout",
          "text": [
            "Batch size is torch.Size([512]) and torch.Size([512]).\n"
          ]
        },
        {
          "output_type": "stream",
          "name": "stderr",
          "text": [
            "\rModel training in progress...:  92%|█████████▏| 45/49 [00:40<00:03,  1.15it/s]"
          ]
        },
        {
          "output_type": "stream",
          "name": "stdout",
          "text": [
            "Batch size is torch.Size([512]) and torch.Size([512]).\n"
          ]
        },
        {
          "output_type": "stream",
          "name": "stderr",
          "text": [
            "\rModel training in progress...:  94%|█████████▍| 46/49 [00:40<00:02,  1.15it/s]"
          ]
        },
        {
          "output_type": "stream",
          "name": "stdout",
          "text": [
            "Batch size is torch.Size([512]) and torch.Size([512]).\n"
          ]
        },
        {
          "output_type": "stream",
          "name": "stderr",
          "text": [
            "\rModel training in progress...:  96%|█████████▌| 47/49 [00:41<00:01,  1.14it/s]"
          ]
        },
        {
          "output_type": "stream",
          "name": "stdout",
          "text": [
            "Batch size is torch.Size([512]) and torch.Size([512]).\n"
          ]
        },
        {
          "output_type": "stream",
          "name": "stderr",
          "text": [
            "\rModel training in progress...:  98%|█████████▊| 48/49 [00:42<00:00,  1.14it/s]"
          ]
        },
        {
          "output_type": "stream",
          "name": "stdout",
          "text": [
            "Batch size is torch.Size([424]) and torch.Size([424]).\n"
          ]
        },
        {
          "output_type": "stream",
          "name": "stderr",
          "text": [
            "Model training in progress...: 100%|██████████| 49/49 [00:43<00:00,  1.13it/s]\n",
            "Model validation in progress...:   0%|          | 0/13 [00:00<?, ?it/s]"
          ]
        },
        {
          "output_type": "stream",
          "name": "stdout",
          "text": [
            "Batch size is torch.Size([512]) and torch.Size([512]).\n"
          ]
        },
        {
          "output_type": "stream",
          "name": "stderr",
          "text": [
            "\rModel validation in progress...:   8%|▊         | 1/13 [00:00<00:03,  3.65it/s]"
          ]
        },
        {
          "output_type": "stream",
          "name": "stdout",
          "text": [
            "Batch size is torch.Size([512]) and torch.Size([512]).\n"
          ]
        },
        {
          "output_type": "stream",
          "name": "stderr",
          "text": [
            "\rModel validation in progress...:  15%|█▌        | 2/13 [00:00<00:03,  3.60it/s]"
          ]
        },
        {
          "output_type": "stream",
          "name": "stdout",
          "text": [
            "Batch size is torch.Size([512]) and torch.Size([512]).\n"
          ]
        },
        {
          "output_type": "stream",
          "name": "stderr",
          "text": [
            "\rModel validation in progress...:  23%|██▎       | 3/13 [00:00<00:02,  3.58it/s]"
          ]
        },
        {
          "output_type": "stream",
          "name": "stdout",
          "text": [
            "Batch size is torch.Size([512]) and torch.Size([512]).\n"
          ]
        },
        {
          "output_type": "stream",
          "name": "stderr",
          "text": [
            "\rModel validation in progress...:  31%|███       | 4/13 [00:01<00:02,  3.47it/s]"
          ]
        },
        {
          "output_type": "stream",
          "name": "stdout",
          "text": [
            "Batch size is torch.Size([512]) and torch.Size([512]).\n"
          ]
        },
        {
          "output_type": "stream",
          "name": "stderr",
          "text": [
            "\rModel validation in progress...:  38%|███▊      | 5/13 [00:01<00:02,  3.47it/s]"
          ]
        },
        {
          "output_type": "stream",
          "name": "stdout",
          "text": [
            "Batch size is torch.Size([512]) and torch.Size([512]).\n"
          ]
        },
        {
          "output_type": "stream",
          "name": "stderr",
          "text": [
            "\rModel validation in progress...:  46%|████▌     | 6/13 [00:01<00:01,  3.52it/s]"
          ]
        },
        {
          "output_type": "stream",
          "name": "stdout",
          "text": [
            "Batch size is torch.Size([512]) and torch.Size([512]).\n"
          ]
        },
        {
          "output_type": "stream",
          "name": "stderr",
          "text": [
            "\rModel validation in progress...:  54%|█████▍    | 7/13 [00:01<00:01,  3.50it/s]"
          ]
        },
        {
          "output_type": "stream",
          "name": "stdout",
          "text": [
            "Batch size is torch.Size([512]) and torch.Size([512]).\n"
          ]
        },
        {
          "output_type": "stream",
          "name": "stderr",
          "text": [
            "\rModel validation in progress...:  62%|██████▏   | 8/13 [00:02<00:01,  3.48it/s]"
          ]
        },
        {
          "output_type": "stream",
          "name": "stdout",
          "text": [
            "Batch size is torch.Size([512]) and torch.Size([512]).\n"
          ]
        },
        {
          "output_type": "stream",
          "name": "stderr",
          "text": [
            "\rModel validation in progress...:  69%|██████▉   | 9/13 [00:02<00:01,  3.46it/s]"
          ]
        },
        {
          "output_type": "stream",
          "name": "stdout",
          "text": [
            "Batch size is torch.Size([512]) and torch.Size([512]).\n"
          ]
        },
        {
          "output_type": "stream",
          "name": "stderr",
          "text": [
            "\rModel validation in progress...:  77%|███████▋  | 10/13 [00:02<00:00,  3.53it/s]"
          ]
        },
        {
          "output_type": "stream",
          "name": "stdout",
          "text": [
            "Batch size is torch.Size([512]) and torch.Size([512]).\n"
          ]
        },
        {
          "output_type": "stream",
          "name": "stderr",
          "text": [
            "\rModel validation in progress...:  85%|████████▍ | 11/13 [00:03<00:00,  3.52it/s]"
          ]
        },
        {
          "output_type": "stream",
          "name": "stdout",
          "text": [
            "Batch size is torch.Size([512]) and torch.Size([512]).\n"
          ]
        },
        {
          "output_type": "stream",
          "name": "stderr",
          "text": [
            "Model validation in progress...: 100%|██████████| 13/13 [00:03<00:00,  3.71it/s]\n"
          ]
        },
        {
          "output_type": "stream",
          "name": "stdout",
          "text": [
            "Batch size is torch.Size([106]) and torch.Size([106]).\n",
            "Epoch: 1\n",
            "Training loss: 0.474,Training accuracy: 0.774\n",
            "Validation loss: 0.523,Validation accuracy: 0.734\n",
            "\n",
            "\n"
          ]
        },
        {
          "output_type": "stream",
          "name": "stderr",
          "text": [
            "\rModel training in progress...:   0%|          | 0/49 [00:00<?, ?it/s]"
          ]
        },
        {
          "output_type": "stream",
          "name": "stdout",
          "text": [
            "Batch size is torch.Size([512]) and torch.Size([512]).\n"
          ]
        },
        {
          "output_type": "stream",
          "name": "stderr",
          "text": [
            "\rModel training in progress...:   2%|▏         | 1/49 [00:00<00:40,  1.18it/s]"
          ]
        },
        {
          "output_type": "stream",
          "name": "stdout",
          "text": [
            "Batch size is torch.Size([512]) and torch.Size([512]).\n"
          ]
        },
        {
          "output_type": "stream",
          "name": "stderr",
          "text": [
            "\rModel training in progress...:   4%|▍         | 2/49 [00:01<00:40,  1.16it/s]"
          ]
        },
        {
          "output_type": "stream",
          "name": "stdout",
          "text": [
            "Batch size is torch.Size([512]) and torch.Size([512]).\n"
          ]
        },
        {
          "output_type": "stream",
          "name": "stderr",
          "text": [
            "\rModel training in progress...:   6%|▌         | 3/49 [00:02<00:40,  1.15it/s]"
          ]
        },
        {
          "output_type": "stream",
          "name": "stdout",
          "text": [
            "Batch size is torch.Size([512]) and torch.Size([512]).\n"
          ]
        },
        {
          "output_type": "stream",
          "name": "stderr",
          "text": [
            "\rModel training in progress...:   8%|▊         | 4/49 [00:03<00:39,  1.14it/s]"
          ]
        },
        {
          "output_type": "stream",
          "name": "stdout",
          "text": [
            "Batch size is torch.Size([512]) and torch.Size([512]).\n"
          ]
        },
        {
          "output_type": "stream",
          "name": "stderr",
          "text": [
            "\rModel training in progress...:  10%|█         | 5/49 [00:04<00:38,  1.13it/s]"
          ]
        },
        {
          "output_type": "stream",
          "name": "stdout",
          "text": [
            "Batch size is torch.Size([512]) and torch.Size([512]).\n"
          ]
        },
        {
          "output_type": "stream",
          "name": "stderr",
          "text": [
            "\rModel training in progress...:  12%|█▏        | 6/49 [00:05<00:37,  1.13it/s]"
          ]
        },
        {
          "output_type": "stream",
          "name": "stdout",
          "text": [
            "Batch size is torch.Size([512]) and torch.Size([512]).\n"
          ]
        },
        {
          "output_type": "stream",
          "name": "stderr",
          "text": [
            "\rModel training in progress...:  14%|█▍        | 7/49 [00:06<00:36,  1.15it/s]"
          ]
        },
        {
          "output_type": "stream",
          "name": "stdout",
          "text": [
            "Batch size is torch.Size([512]) and torch.Size([512]).\n"
          ]
        },
        {
          "output_type": "stream",
          "name": "stderr",
          "text": [
            "\rModel training in progress...:  16%|█▋        | 8/49 [00:06<00:35,  1.15it/s]"
          ]
        },
        {
          "output_type": "stream",
          "name": "stdout",
          "text": [
            "Batch size is torch.Size([512]) and torch.Size([512]).\n"
          ]
        },
        {
          "output_type": "stream",
          "name": "stderr",
          "text": [
            "\rModel training in progress...:  18%|█▊        | 9/49 [00:07<00:34,  1.15it/s]"
          ]
        },
        {
          "output_type": "stream",
          "name": "stdout",
          "text": [
            "Batch size is torch.Size([512]) and torch.Size([512]).\n"
          ]
        },
        {
          "output_type": "stream",
          "name": "stderr",
          "text": [
            "\rModel training in progress...:  20%|██        | 10/49 [00:08<00:33,  1.15it/s]"
          ]
        },
        {
          "output_type": "stream",
          "name": "stdout",
          "text": [
            "Batch size is torch.Size([512]) and torch.Size([512]).\n"
          ]
        },
        {
          "output_type": "stream",
          "name": "stderr",
          "text": [
            "\rModel training in progress...:  22%|██▏       | 11/49 [00:09<00:33,  1.15it/s]"
          ]
        },
        {
          "output_type": "stream",
          "name": "stdout",
          "text": [
            "Batch size is torch.Size([512]) and torch.Size([512]).\n"
          ]
        },
        {
          "output_type": "stream",
          "name": "stderr",
          "text": [
            "\rModel training in progress...:  24%|██▍       | 12/49 [00:10<00:32,  1.15it/s]"
          ]
        },
        {
          "output_type": "stream",
          "name": "stdout",
          "text": [
            "Batch size is torch.Size([512]) and torch.Size([512]).\n"
          ]
        },
        {
          "output_type": "stream",
          "name": "stderr",
          "text": [
            "\rModel training in progress...:  27%|██▋       | 13/49 [00:11<00:31,  1.15it/s]"
          ]
        },
        {
          "output_type": "stream",
          "name": "stdout",
          "text": [
            "Batch size is torch.Size([512]) and torch.Size([512]).\n"
          ]
        },
        {
          "output_type": "stream",
          "name": "stderr",
          "text": [
            "\rModel training in progress...:  29%|██▊       | 14/49 [00:12<00:30,  1.14it/s]"
          ]
        },
        {
          "output_type": "stream",
          "name": "stdout",
          "text": [
            "Batch size is torch.Size([512]) and torch.Size([512]).\n"
          ]
        },
        {
          "output_type": "stream",
          "name": "stderr",
          "text": [
            "\rModel training in progress...:  31%|███       | 15/49 [00:13<00:29,  1.15it/s]"
          ]
        },
        {
          "output_type": "stream",
          "name": "stdout",
          "text": [
            "Batch size is torch.Size([512]) and torch.Size([512]).\n"
          ]
        },
        {
          "output_type": "stream",
          "name": "stderr",
          "text": [
            "\rModel training in progress...:  33%|███▎      | 16/49 [00:13<00:28,  1.14it/s]"
          ]
        },
        {
          "output_type": "stream",
          "name": "stdout",
          "text": [
            "Batch size is torch.Size([512]) and torch.Size([512]).\n"
          ]
        },
        {
          "output_type": "stream",
          "name": "stderr",
          "text": [
            "\rModel training in progress...:  35%|███▍      | 17/49 [00:14<00:28,  1.14it/s]"
          ]
        },
        {
          "output_type": "stream",
          "name": "stdout",
          "text": [
            "Batch size is torch.Size([512]) and torch.Size([512]).\n"
          ]
        },
        {
          "output_type": "stream",
          "name": "stderr",
          "text": [
            "\rModel training in progress...:  37%|███▋      | 18/49 [00:15<00:27,  1.14it/s]"
          ]
        },
        {
          "output_type": "stream",
          "name": "stdout",
          "text": [
            "Batch size is torch.Size([512]) and torch.Size([512]).\n"
          ]
        },
        {
          "output_type": "stream",
          "name": "stderr",
          "text": [
            "\rModel training in progress...:  39%|███▉      | 19/49 [00:16<00:26,  1.14it/s]"
          ]
        },
        {
          "output_type": "stream",
          "name": "stdout",
          "text": [
            "Batch size is torch.Size([512]) and torch.Size([512]).\n"
          ]
        },
        {
          "output_type": "stream",
          "name": "stderr",
          "text": [
            "\rModel training in progress...:  41%|████      | 20/49 [00:17<00:25,  1.15it/s]"
          ]
        },
        {
          "output_type": "stream",
          "name": "stdout",
          "text": [
            "Batch size is torch.Size([512]) and torch.Size([512]).\n"
          ]
        },
        {
          "output_type": "stream",
          "name": "stderr",
          "text": [
            "\rModel training in progress...:  43%|████▎     | 21/49 [00:18<00:24,  1.15it/s]"
          ]
        },
        {
          "output_type": "stream",
          "name": "stdout",
          "text": [
            "Batch size is torch.Size([512]) and torch.Size([512]).\n"
          ]
        },
        {
          "output_type": "stream",
          "name": "stderr",
          "text": [
            "\rModel training in progress...:  45%|████▍     | 22/49 [00:19<00:23,  1.15it/s]"
          ]
        },
        {
          "output_type": "stream",
          "name": "stdout",
          "text": [
            "Batch size is torch.Size([512]) and torch.Size([512]).\n"
          ]
        },
        {
          "output_type": "stream",
          "name": "stderr",
          "text": [
            "\rModel training in progress...:  47%|████▋     | 23/49 [00:20<00:22,  1.14it/s]"
          ]
        },
        {
          "output_type": "stream",
          "name": "stdout",
          "text": [
            "Batch size is torch.Size([512]) and torch.Size([512]).\n"
          ]
        },
        {
          "output_type": "stream",
          "name": "stderr",
          "text": [
            "\rModel training in progress...:  49%|████▉     | 24/49 [00:20<00:21,  1.15it/s]"
          ]
        },
        {
          "output_type": "stream",
          "name": "stdout",
          "text": [
            "Batch size is torch.Size([512]) and torch.Size([512]).\n"
          ]
        },
        {
          "output_type": "stream",
          "name": "stderr",
          "text": [
            "\rModel training in progress...:  51%|█████     | 25/49 [00:21<00:20,  1.15it/s]"
          ]
        },
        {
          "output_type": "stream",
          "name": "stdout",
          "text": [
            "Batch size is torch.Size([512]) and torch.Size([512]).\n"
          ]
        },
        {
          "output_type": "stream",
          "name": "stderr",
          "text": [
            "\rModel training in progress...:  53%|█████▎    | 26/49 [00:22<00:21,  1.07it/s]"
          ]
        },
        {
          "output_type": "stream",
          "name": "stdout",
          "text": [
            "Batch size is torch.Size([512]) and torch.Size([512]).\n"
          ]
        },
        {
          "output_type": "stream",
          "name": "stderr",
          "text": [
            "\rModel training in progress...:  55%|█████▌    | 27/49 [00:23<00:20,  1.09it/s]"
          ]
        },
        {
          "output_type": "stream",
          "name": "stdout",
          "text": [
            "Batch size is torch.Size([512]) and torch.Size([512]).\n"
          ]
        },
        {
          "output_type": "stream",
          "name": "stderr",
          "text": [
            "\rModel training in progress...:  57%|█████▋    | 28/49 [00:24<00:19,  1.10it/s]"
          ]
        },
        {
          "output_type": "stream",
          "name": "stdout",
          "text": [
            "Batch size is torch.Size([512]) and torch.Size([512]).\n"
          ]
        },
        {
          "output_type": "stream",
          "name": "stderr",
          "text": [
            "\rModel training in progress...:  59%|█████▉    | 29/49 [00:25<00:17,  1.12it/s]"
          ]
        },
        {
          "output_type": "stream",
          "name": "stdout",
          "text": [
            "Batch size is torch.Size([512]) and torch.Size([512]).\n"
          ]
        },
        {
          "output_type": "stream",
          "name": "stderr",
          "text": [
            "\rModel training in progress...:  61%|██████    | 30/49 [00:26<00:16,  1.13it/s]"
          ]
        },
        {
          "output_type": "stream",
          "name": "stdout",
          "text": [
            "Batch size is torch.Size([512]) and torch.Size([512]).\n"
          ]
        },
        {
          "output_type": "stream",
          "name": "stderr",
          "text": [
            "\rModel training in progress...:  63%|██████▎   | 31/49 [00:27<00:15,  1.13it/s]"
          ]
        },
        {
          "output_type": "stream",
          "name": "stdout",
          "text": [
            "Batch size is torch.Size([512]) and torch.Size([512]).\n"
          ]
        },
        {
          "output_type": "stream",
          "name": "stderr",
          "text": [
            "\rModel training in progress...:  65%|██████▌   | 32/49 [00:28<00:14,  1.13it/s]"
          ]
        },
        {
          "output_type": "stream",
          "name": "stdout",
          "text": [
            "Batch size is torch.Size([512]) and torch.Size([512]).\n"
          ]
        },
        {
          "output_type": "stream",
          "name": "stderr",
          "text": [
            "\rModel training in progress...:  67%|██████▋   | 33/49 [00:29<00:14,  1.14it/s]"
          ]
        },
        {
          "output_type": "stream",
          "name": "stdout",
          "text": [
            "Batch size is torch.Size([512]) and torch.Size([512]).\n"
          ]
        },
        {
          "output_type": "stream",
          "name": "stderr",
          "text": [
            "\rModel training in progress...:  69%|██████▉   | 34/49 [00:29<00:13,  1.14it/s]"
          ]
        },
        {
          "output_type": "stream",
          "name": "stdout",
          "text": [
            "Batch size is torch.Size([512]) and torch.Size([512]).\n"
          ]
        },
        {
          "output_type": "stream",
          "name": "stderr",
          "text": [
            "\rModel training in progress...:  71%|███████▏  | 35/49 [00:30<00:12,  1.14it/s]"
          ]
        },
        {
          "output_type": "stream",
          "name": "stdout",
          "text": [
            "Batch size is torch.Size([512]) and torch.Size([512]).\n"
          ]
        },
        {
          "output_type": "stream",
          "name": "stderr",
          "text": [
            "\rModel training in progress...:  73%|███████▎  | 36/49 [00:31<00:11,  1.13it/s]"
          ]
        },
        {
          "output_type": "stream",
          "name": "stdout",
          "text": [
            "Batch size is torch.Size([512]) and torch.Size([512]).\n"
          ]
        },
        {
          "output_type": "stream",
          "name": "stderr",
          "text": [
            "\rModel training in progress...:  76%|███████▌  | 37/49 [00:32<00:10,  1.14it/s]"
          ]
        },
        {
          "output_type": "stream",
          "name": "stdout",
          "text": [
            "Batch size is torch.Size([512]) and torch.Size([512]).\n"
          ]
        },
        {
          "output_type": "stream",
          "name": "stderr",
          "text": [
            "\rModel training in progress...:  78%|███████▊  | 38/49 [00:33<00:09,  1.14it/s]"
          ]
        },
        {
          "output_type": "stream",
          "name": "stdout",
          "text": [
            "Batch size is torch.Size([512]) and torch.Size([512]).\n"
          ]
        },
        {
          "output_type": "stream",
          "name": "stderr",
          "text": [
            "\rModel training in progress...:  80%|███████▉  | 39/49 [00:34<00:08,  1.14it/s]"
          ]
        },
        {
          "output_type": "stream",
          "name": "stdout",
          "text": [
            "Batch size is torch.Size([512]) and torch.Size([512]).\n"
          ]
        },
        {
          "output_type": "stream",
          "name": "stderr",
          "text": [
            "\rModel training in progress...:  82%|████████▏ | 40/49 [00:35<00:07,  1.14it/s]"
          ]
        },
        {
          "output_type": "stream",
          "name": "stdout",
          "text": [
            "Batch size is torch.Size([512]) and torch.Size([512]).\n"
          ]
        },
        {
          "output_type": "stream",
          "name": "stderr",
          "text": [
            "\rModel training in progress...:  84%|████████▎ | 41/49 [00:36<00:07,  1.13it/s]"
          ]
        },
        {
          "output_type": "stream",
          "name": "stdout",
          "text": [
            "Batch size is torch.Size([512]) and torch.Size([512]).\n"
          ]
        },
        {
          "output_type": "stream",
          "name": "stderr",
          "text": [
            "\rModel training in progress...:  86%|████████▌ | 42/49 [00:36<00:06,  1.13it/s]"
          ]
        },
        {
          "output_type": "stream",
          "name": "stdout",
          "text": [
            "Batch size is torch.Size([512]) and torch.Size([512]).\n"
          ]
        },
        {
          "output_type": "stream",
          "name": "stderr",
          "text": [
            "\rModel training in progress...:  88%|████████▊ | 43/49 [00:37<00:05,  1.13it/s]"
          ]
        },
        {
          "output_type": "stream",
          "name": "stdout",
          "text": [
            "Batch size is torch.Size([512]) and torch.Size([512]).\n"
          ]
        },
        {
          "output_type": "stream",
          "name": "stderr",
          "text": [
            "\rModel training in progress...:  90%|████████▉ | 44/49 [00:38<00:04,  1.13it/s]"
          ]
        },
        {
          "output_type": "stream",
          "name": "stdout",
          "text": [
            "Batch size is torch.Size([512]) and torch.Size([512]).\n"
          ]
        },
        {
          "output_type": "stream",
          "name": "stderr",
          "text": [
            "\rModel training in progress...:  92%|█████████▏| 45/49 [00:39<00:03,  1.13it/s]"
          ]
        },
        {
          "output_type": "stream",
          "name": "stdout",
          "text": [
            "Batch size is torch.Size([512]) and torch.Size([512]).\n"
          ]
        },
        {
          "output_type": "stream",
          "name": "stderr",
          "text": [
            "\rModel training in progress...:  94%|█████████▍| 46/49 [00:40<00:02,  1.14it/s]"
          ]
        },
        {
          "output_type": "stream",
          "name": "stdout",
          "text": [
            "Batch size is torch.Size([512]) and torch.Size([512]).\n"
          ]
        },
        {
          "output_type": "stream",
          "name": "stderr",
          "text": [
            "\rModel training in progress...:  96%|█████████▌| 47/49 [00:41<00:01,  1.12it/s]"
          ]
        },
        {
          "output_type": "stream",
          "name": "stdout",
          "text": [
            "Batch size is torch.Size([512]) and torch.Size([512]).\n"
          ]
        },
        {
          "output_type": "stream",
          "name": "stderr",
          "text": [
            "\rModel training in progress...:  98%|█████████▊| 48/49 [00:42<00:00,  1.12it/s]"
          ]
        },
        {
          "output_type": "stream",
          "name": "stdout",
          "text": [
            "Batch size is torch.Size([424]) and torch.Size([424]).\n"
          ]
        },
        {
          "output_type": "stream",
          "name": "stderr",
          "text": [
            "Model training in progress...: 100%|██████████| 49/49 [00:43<00:00,  1.14it/s]\n",
            "Model validation in progress...:   0%|          | 0/13 [00:00<?, ?it/s]"
          ]
        },
        {
          "output_type": "stream",
          "name": "stdout",
          "text": [
            "Batch size is torch.Size([512]) and torch.Size([512]).\n"
          ]
        },
        {
          "output_type": "stream",
          "name": "stderr",
          "text": [
            "\rModel validation in progress...:   8%|▊         | 1/13 [00:00<00:03,  3.44it/s]"
          ]
        },
        {
          "output_type": "stream",
          "name": "stdout",
          "text": [
            "Batch size is torch.Size([512]) and torch.Size([512]).\n"
          ]
        },
        {
          "output_type": "stream",
          "name": "stderr",
          "text": [
            "\rModel validation in progress...:  15%|█▌        | 2/13 [00:00<00:03,  3.51it/s]"
          ]
        },
        {
          "output_type": "stream",
          "name": "stdout",
          "text": [
            "Batch size is torch.Size([512]) and torch.Size([512]).\n"
          ]
        },
        {
          "output_type": "stream",
          "name": "stderr",
          "text": [
            "\rModel validation in progress...:  23%|██▎       | 3/13 [00:00<00:02,  3.50it/s]"
          ]
        },
        {
          "output_type": "stream",
          "name": "stdout",
          "text": [
            "Batch size is torch.Size([512]) and torch.Size([512]).\n"
          ]
        },
        {
          "output_type": "stream",
          "name": "stderr",
          "text": [
            "\rModel validation in progress...:  31%|███       | 4/13 [00:01<00:02,  3.47it/s]"
          ]
        },
        {
          "output_type": "stream",
          "name": "stdout",
          "text": [
            "Batch size is torch.Size([512]) and torch.Size([512]).\n"
          ]
        },
        {
          "output_type": "stream",
          "name": "stderr",
          "text": [
            "\rModel validation in progress...:  38%|███▊      | 5/13 [00:01<00:02,  3.46it/s]"
          ]
        },
        {
          "output_type": "stream",
          "name": "stdout",
          "text": [
            "Batch size is torch.Size([512]) and torch.Size([512]).\n"
          ]
        },
        {
          "output_type": "stream",
          "name": "stderr",
          "text": [
            "\rModel validation in progress...:  46%|████▌     | 6/13 [00:01<00:01,  3.52it/s]"
          ]
        },
        {
          "output_type": "stream",
          "name": "stdout",
          "text": [
            "Batch size is torch.Size([512]) and torch.Size([512]).\n"
          ]
        },
        {
          "output_type": "stream",
          "name": "stderr",
          "text": [
            "\rModel validation in progress...:  54%|█████▍    | 7/13 [00:02<00:01,  3.49it/s]"
          ]
        },
        {
          "output_type": "stream",
          "name": "stdout",
          "text": [
            "Batch size is torch.Size([512]) and torch.Size([512]).\n"
          ]
        },
        {
          "output_type": "stream",
          "name": "stderr",
          "text": [
            "\rModel validation in progress...:  62%|██████▏   | 8/13 [00:02<00:01,  3.48it/s]"
          ]
        },
        {
          "output_type": "stream",
          "name": "stdout",
          "text": [
            "Batch size is torch.Size([512]) and torch.Size([512]).\n"
          ]
        },
        {
          "output_type": "stream",
          "name": "stderr",
          "text": [
            "\rModel validation in progress...:  69%|██████▉   | 9/13 [00:02<00:01,  3.47it/s]"
          ]
        },
        {
          "output_type": "stream",
          "name": "stdout",
          "text": [
            "Batch size is torch.Size([512]) and torch.Size([512]).\n"
          ]
        },
        {
          "output_type": "stream",
          "name": "stderr",
          "text": [
            "\rModel validation in progress...:  77%|███████▋  | 10/13 [00:02<00:00,  3.52it/s]"
          ]
        },
        {
          "output_type": "stream",
          "name": "stdout",
          "text": [
            "Batch size is torch.Size([512]) and torch.Size([512]).\n"
          ]
        },
        {
          "output_type": "stream",
          "name": "stderr",
          "text": [
            "\rModel validation in progress...:  85%|████████▍ | 11/13 [00:03<00:00,  3.52it/s]"
          ]
        },
        {
          "output_type": "stream",
          "name": "stdout",
          "text": [
            "Batch size is torch.Size([512]) and torch.Size([512]).\n"
          ]
        },
        {
          "output_type": "stream",
          "name": "stderr",
          "text": [
            "Model validation in progress...: 100%|██████████| 13/13 [00:03<00:00,  3.70it/s]\n"
          ]
        },
        {
          "output_type": "stream",
          "name": "stdout",
          "text": [
            "Batch size is torch.Size([106]) and torch.Size([106]).\n",
            "Epoch: 2\n",
            "Training loss: 0.444,Training accuracy: 0.797\n",
            "Validation loss: 0.419,Validation accuracy: 0.830\n",
            "\n",
            "\n"
          ]
        },
        {
          "output_type": "stream",
          "name": "stderr",
          "text": [
            "\rModel training in progress...:   0%|          | 0/49 [00:00<?, ?it/s]"
          ]
        },
        {
          "output_type": "stream",
          "name": "stdout",
          "text": [
            "Batch size is torch.Size([512]) and torch.Size([512]).\n"
          ]
        },
        {
          "output_type": "stream",
          "name": "stderr",
          "text": [
            "\rModel training in progress...:   2%|▏         | 1/49 [00:00<00:41,  1.15it/s]"
          ]
        },
        {
          "output_type": "stream",
          "name": "stdout",
          "text": [
            "Batch size is torch.Size([512]) and torch.Size([512]).\n"
          ]
        },
        {
          "output_type": "stream",
          "name": "stderr",
          "text": [
            "\rModel training in progress...:   4%|▍         | 2/49 [00:01<00:40,  1.15it/s]"
          ]
        },
        {
          "output_type": "stream",
          "name": "stdout",
          "text": [
            "Batch size is torch.Size([512]) and torch.Size([512]).\n"
          ]
        },
        {
          "output_type": "stream",
          "name": "stderr",
          "text": [
            "\rModel training in progress...:   6%|▌         | 3/49 [00:02<00:40,  1.14it/s]"
          ]
        },
        {
          "output_type": "stream",
          "name": "stdout",
          "text": [
            "Batch size is torch.Size([512]) and torch.Size([512]).\n"
          ]
        },
        {
          "output_type": "stream",
          "name": "stderr",
          "text": [
            "\rModel training in progress...:   8%|▊         | 4/49 [00:03<00:39,  1.13it/s]"
          ]
        },
        {
          "output_type": "stream",
          "name": "stdout",
          "text": [
            "Batch size is torch.Size([512]) and torch.Size([512]).\n"
          ]
        },
        {
          "output_type": "stream",
          "name": "stderr",
          "text": [
            "\rModel training in progress...:  10%|█         | 5/49 [00:04<00:38,  1.13it/s]"
          ]
        },
        {
          "output_type": "stream",
          "name": "stdout",
          "text": [
            "Batch size is torch.Size([512]) and torch.Size([512]).\n"
          ]
        },
        {
          "output_type": "stream",
          "name": "stderr",
          "text": [
            "\rModel training in progress...:  12%|█▏        | 6/49 [00:05<00:38,  1.13it/s]"
          ]
        },
        {
          "output_type": "stream",
          "name": "stdout",
          "text": [
            "Batch size is torch.Size([512]) and torch.Size([512]).\n"
          ]
        },
        {
          "output_type": "stream",
          "name": "stderr",
          "text": [
            "\rModel training in progress...:  14%|█▍        | 7/49 [00:06<00:36,  1.14it/s]"
          ]
        },
        {
          "output_type": "stream",
          "name": "stdout",
          "text": [
            "Batch size is torch.Size([512]) and torch.Size([512]).\n"
          ]
        },
        {
          "output_type": "stream",
          "name": "stderr",
          "text": [
            "\rModel training in progress...:  16%|█▋        | 8/49 [00:07<00:36,  1.13it/s]"
          ]
        },
        {
          "output_type": "stream",
          "name": "stdout",
          "text": [
            "Batch size is torch.Size([512]) and torch.Size([512]).\n"
          ]
        },
        {
          "output_type": "stream",
          "name": "stderr",
          "text": [
            "\rModel training in progress...:  18%|█▊        | 9/49 [00:07<00:35,  1.13it/s]"
          ]
        },
        {
          "output_type": "stream",
          "name": "stdout",
          "text": [
            "Batch size is torch.Size([512]) and torch.Size([512]).\n"
          ]
        },
        {
          "output_type": "stream",
          "name": "stderr",
          "text": [
            "\rModel training in progress...:  20%|██        | 10/49 [00:08<00:34,  1.13it/s]"
          ]
        },
        {
          "output_type": "stream",
          "name": "stdout",
          "text": [
            "Batch size is torch.Size([512]) and torch.Size([512]).\n"
          ]
        },
        {
          "output_type": "stream",
          "name": "stderr",
          "text": [
            "\rModel training in progress...:  22%|██▏       | 11/49 [00:09<00:33,  1.13it/s]"
          ]
        },
        {
          "output_type": "stream",
          "name": "stdout",
          "text": [
            "Batch size is torch.Size([512]) and torch.Size([512]).\n"
          ]
        },
        {
          "output_type": "stream",
          "name": "stderr",
          "text": [
            "\rModel training in progress...:  24%|██▍       | 12/49 [00:10<00:32,  1.13it/s]"
          ]
        },
        {
          "output_type": "stream",
          "name": "stdout",
          "text": [
            "Batch size is torch.Size([512]) and torch.Size([512]).\n"
          ]
        },
        {
          "output_type": "stream",
          "name": "stderr",
          "text": [
            "\rModel training in progress...:  27%|██▋       | 13/49 [00:11<00:31,  1.13it/s]"
          ]
        },
        {
          "output_type": "stream",
          "name": "stdout",
          "text": [
            "Batch size is torch.Size([512]) and torch.Size([512]).\n"
          ]
        },
        {
          "output_type": "stream",
          "name": "stderr",
          "text": [
            "\rModel training in progress...:  29%|██▊       | 14/49 [00:12<00:30,  1.13it/s]"
          ]
        },
        {
          "output_type": "stream",
          "name": "stdout",
          "text": [
            "Batch size is torch.Size([512]) and torch.Size([512]).\n"
          ]
        },
        {
          "output_type": "stream",
          "name": "stderr",
          "text": [
            "\rModel training in progress...:  31%|███       | 15/49 [00:13<00:30,  1.12it/s]"
          ]
        },
        {
          "output_type": "stream",
          "name": "stdout",
          "text": [
            "Batch size is torch.Size([512]) and torch.Size([512]).\n"
          ]
        },
        {
          "output_type": "stream",
          "name": "stderr",
          "text": [
            "\rModel training in progress...:  33%|███▎      | 16/49 [00:14<00:29,  1.13it/s]"
          ]
        },
        {
          "output_type": "stream",
          "name": "stdout",
          "text": [
            "Batch size is torch.Size([512]) and torch.Size([512]).\n"
          ]
        },
        {
          "output_type": "stream",
          "name": "stderr",
          "text": [
            "\rModel training in progress...:  35%|███▍      | 17/49 [00:15<00:28,  1.14it/s]"
          ]
        },
        {
          "output_type": "stream",
          "name": "stdout",
          "text": [
            "Batch size is torch.Size([512]) and torch.Size([512]).\n"
          ]
        },
        {
          "output_type": "stream",
          "name": "stderr",
          "text": [
            "\rModel training in progress...:  37%|███▋      | 18/49 [00:15<00:27,  1.14it/s]"
          ]
        },
        {
          "output_type": "stream",
          "name": "stdout",
          "text": [
            "Batch size is torch.Size([512]) and torch.Size([512]).\n"
          ]
        },
        {
          "output_type": "stream",
          "name": "stderr",
          "text": [
            "\rModel training in progress...:  39%|███▉      | 19/49 [00:16<00:26,  1.13it/s]"
          ]
        },
        {
          "output_type": "stream",
          "name": "stdout",
          "text": [
            "Batch size is torch.Size([512]) and torch.Size([512]).\n"
          ]
        },
        {
          "output_type": "stream",
          "name": "stderr",
          "text": [
            "\rModel training in progress...:  41%|████      | 20/49 [00:17<00:25,  1.12it/s]"
          ]
        },
        {
          "output_type": "stream",
          "name": "stdout",
          "text": [
            "Batch size is torch.Size([512]) and torch.Size([512]).\n"
          ]
        },
        {
          "output_type": "stream",
          "name": "stderr",
          "text": [
            "\rModel training in progress...:  43%|████▎     | 21/49 [00:18<00:25,  1.11it/s]"
          ]
        },
        {
          "output_type": "stream",
          "name": "stdout",
          "text": [
            "Batch size is torch.Size([512]) and torch.Size([512]).\n"
          ]
        },
        {
          "output_type": "stream",
          "name": "stderr",
          "text": [
            "\rModel training in progress...:  45%|████▍     | 22/49 [00:19<00:24,  1.12it/s]"
          ]
        },
        {
          "output_type": "stream",
          "name": "stdout",
          "text": [
            "Batch size is torch.Size([512]) and torch.Size([512]).\n"
          ]
        },
        {
          "output_type": "stream",
          "name": "stderr",
          "text": [
            "\rModel training in progress...:  47%|████▋     | 23/49 [00:20<00:23,  1.13it/s]"
          ]
        },
        {
          "output_type": "stream",
          "name": "stdout",
          "text": [
            "Batch size is torch.Size([512]) and torch.Size([512]).\n"
          ]
        },
        {
          "output_type": "stream",
          "name": "stderr",
          "text": [
            "\rModel training in progress...:  49%|████▉     | 24/49 [00:21<00:22,  1.13it/s]"
          ]
        },
        {
          "output_type": "stream",
          "name": "stdout",
          "text": [
            "Batch size is torch.Size([512]) and torch.Size([512]).\n"
          ]
        },
        {
          "output_type": "stream",
          "name": "stderr",
          "text": [
            "\rModel training in progress...:  51%|█████     | 25/49 [00:22<00:21,  1.13it/s]"
          ]
        },
        {
          "output_type": "stream",
          "name": "stdout",
          "text": [
            "Batch size is torch.Size([512]) and torch.Size([512]).\n"
          ]
        },
        {
          "output_type": "stream",
          "name": "stderr",
          "text": [
            "\rModel training in progress...:  53%|█████▎    | 26/49 [00:23<00:20,  1.12it/s]"
          ]
        },
        {
          "output_type": "stream",
          "name": "stdout",
          "text": [
            "Batch size is torch.Size([512]) and torch.Size([512]).\n"
          ]
        },
        {
          "output_type": "stream",
          "name": "stderr",
          "text": [
            "\rModel training in progress...:  55%|█████▌    | 27/49 [00:23<00:19,  1.12it/s]"
          ]
        },
        {
          "output_type": "stream",
          "name": "stdout",
          "text": [
            "Batch size is torch.Size([512]) and torch.Size([512]).\n"
          ]
        },
        {
          "output_type": "stream",
          "name": "stderr",
          "text": [
            "\rModel training in progress...:  57%|█████▋    | 28/49 [00:24<00:18,  1.12it/s]"
          ]
        },
        {
          "output_type": "stream",
          "name": "stdout",
          "text": [
            "Batch size is torch.Size([512]) and torch.Size([512]).\n"
          ]
        },
        {
          "output_type": "stream",
          "name": "stderr",
          "text": [
            "\rModel training in progress...:  59%|█████▉    | 29/49 [00:25<00:17,  1.12it/s]"
          ]
        },
        {
          "output_type": "stream",
          "name": "stdout",
          "text": [
            "Batch size is torch.Size([512]) and torch.Size([512]).\n"
          ]
        },
        {
          "output_type": "stream",
          "name": "stderr",
          "text": [
            "\rModel training in progress...:  61%|██████    | 30/49 [00:26<00:16,  1.12it/s]"
          ]
        },
        {
          "output_type": "stream",
          "name": "stdout",
          "text": [
            "Batch size is torch.Size([512]) and torch.Size([512]).\n"
          ]
        },
        {
          "output_type": "stream",
          "name": "stderr",
          "text": [
            "\rModel training in progress...:  63%|██████▎   | 31/49 [00:27<00:16,  1.12it/s]"
          ]
        },
        {
          "output_type": "stream",
          "name": "stdout",
          "text": [
            "Batch size is torch.Size([512]) and torch.Size([512]).\n"
          ]
        },
        {
          "output_type": "stream",
          "name": "stderr",
          "text": [
            "\rModel training in progress...:  65%|██████▌   | 32/49 [00:28<00:15,  1.13it/s]"
          ]
        },
        {
          "output_type": "stream",
          "name": "stdout",
          "text": [
            "Batch size is torch.Size([512]) and torch.Size([512]).\n"
          ]
        },
        {
          "output_type": "stream",
          "name": "stderr",
          "text": [
            "\rModel training in progress...:  67%|██████▋   | 33/49 [00:29<00:14,  1.13it/s]"
          ]
        },
        {
          "output_type": "stream",
          "name": "stdout",
          "text": [
            "Batch size is torch.Size([512]) and torch.Size([512]).\n"
          ]
        },
        {
          "output_type": "stream",
          "name": "stderr",
          "text": [
            "\rModel training in progress...:  69%|██████▉   | 34/49 [00:30<00:13,  1.14it/s]"
          ]
        },
        {
          "output_type": "stream",
          "name": "stdout",
          "text": [
            "Batch size is torch.Size([512]) and torch.Size([512]).\n"
          ]
        },
        {
          "output_type": "stream",
          "name": "stderr",
          "text": [
            "\rModel training in progress...:  71%|███████▏  | 35/49 [00:30<00:12,  1.14it/s]"
          ]
        },
        {
          "output_type": "stream",
          "name": "stdout",
          "text": [
            "Batch size is torch.Size([512]) and torch.Size([512]).\n"
          ]
        },
        {
          "output_type": "stream",
          "name": "stderr",
          "text": [
            "\rModel training in progress...:  73%|███████▎  | 36/49 [00:31<00:11,  1.12it/s]"
          ]
        },
        {
          "output_type": "stream",
          "name": "stdout",
          "text": [
            "Batch size is torch.Size([512]) and torch.Size([512]).\n"
          ]
        },
        {
          "output_type": "stream",
          "name": "stderr",
          "text": [
            "\rModel training in progress...:  76%|███████▌  | 37/49 [00:32<00:10,  1.13it/s]"
          ]
        },
        {
          "output_type": "stream",
          "name": "stdout",
          "text": [
            "Batch size is torch.Size([512]) and torch.Size([512]).\n"
          ]
        },
        {
          "output_type": "stream",
          "name": "stderr",
          "text": [
            "\rModel training in progress...:  78%|███████▊  | 38/49 [00:33<00:09,  1.13it/s]"
          ]
        },
        {
          "output_type": "stream",
          "name": "stdout",
          "text": [
            "Batch size is torch.Size([512]) and torch.Size([512]).\n"
          ]
        },
        {
          "output_type": "stream",
          "name": "stderr",
          "text": [
            "\rModel training in progress...:  80%|███████▉  | 39/49 [00:34<00:08,  1.13it/s]"
          ]
        },
        {
          "output_type": "stream",
          "name": "stdout",
          "text": [
            "Batch size is torch.Size([512]) and torch.Size([512]).\n"
          ]
        },
        {
          "output_type": "stream",
          "name": "stderr",
          "text": [
            "\rModel training in progress...:  82%|████████▏ | 40/49 [00:35<00:07,  1.13it/s]"
          ]
        },
        {
          "output_type": "stream",
          "name": "stdout",
          "text": [
            "Batch size is torch.Size([512]) and torch.Size([512]).\n"
          ]
        },
        {
          "output_type": "stream",
          "name": "stderr",
          "text": [
            "\rModel training in progress...:  84%|████████▎ | 41/49 [00:36<00:06,  1.14it/s]"
          ]
        },
        {
          "output_type": "stream",
          "name": "stdout",
          "text": [
            "Batch size is torch.Size([512]) and torch.Size([512]).\n"
          ]
        },
        {
          "output_type": "stream",
          "name": "stderr",
          "text": [
            "\rModel training in progress...:  86%|████████▌ | 42/49 [00:37<00:06,  1.14it/s]"
          ]
        },
        {
          "output_type": "stream",
          "name": "stdout",
          "text": [
            "Batch size is torch.Size([512]) and torch.Size([512]).\n"
          ]
        },
        {
          "output_type": "stream",
          "name": "stderr",
          "text": [
            "\rModel training in progress...:  88%|████████▊ | 43/49 [00:38<00:05,  1.14it/s]"
          ]
        },
        {
          "output_type": "stream",
          "name": "stdout",
          "text": [
            "Batch size is torch.Size([512]) and torch.Size([512]).\n"
          ]
        },
        {
          "output_type": "stream",
          "name": "stderr",
          "text": [
            "\rModel training in progress...:  90%|████████▉ | 44/49 [00:38<00:04,  1.14it/s]"
          ]
        },
        {
          "output_type": "stream",
          "name": "stdout",
          "text": [
            "Batch size is torch.Size([512]) and torch.Size([512]).\n"
          ]
        },
        {
          "output_type": "stream",
          "name": "stderr",
          "text": [
            "\rModel training in progress...:  92%|█████████▏| 45/49 [00:39<00:03,  1.14it/s]"
          ]
        },
        {
          "output_type": "stream",
          "name": "stdout",
          "text": [
            "Batch size is torch.Size([512]) and torch.Size([512]).\n"
          ]
        },
        {
          "output_type": "stream",
          "name": "stderr",
          "text": [
            "\rModel training in progress...:  94%|█████████▍| 46/49 [00:40<00:02,  1.14it/s]"
          ]
        },
        {
          "output_type": "stream",
          "name": "stdout",
          "text": [
            "Batch size is torch.Size([512]) and torch.Size([512]).\n"
          ]
        },
        {
          "output_type": "stream",
          "name": "stderr",
          "text": [
            "\rModel training in progress...:  96%|█████████▌| 47/49 [00:41<00:01,  1.12it/s]"
          ]
        },
        {
          "output_type": "stream",
          "name": "stdout",
          "text": [
            "Batch size is torch.Size([512]) and torch.Size([512]).\n"
          ]
        },
        {
          "output_type": "stream",
          "name": "stderr",
          "text": [
            "\rModel training in progress...:  98%|█████████▊| 48/49 [00:42<00:00,  1.14it/s]"
          ]
        },
        {
          "output_type": "stream",
          "name": "stdout",
          "text": [
            "Batch size is torch.Size([424]) and torch.Size([424]).\n"
          ]
        },
        {
          "output_type": "stream",
          "name": "stderr",
          "text": [
            "Model training in progress...: 100%|██████████| 49/49 [00:43<00:00,  1.13it/s]\n",
            "Model validation in progress...:   0%|          | 0/13 [00:00<?, ?it/s]"
          ]
        },
        {
          "output_type": "stream",
          "name": "stdout",
          "text": [
            "Batch size is torch.Size([512]) and torch.Size([512]).\n"
          ]
        },
        {
          "output_type": "stream",
          "name": "stderr",
          "text": [
            "\rModel validation in progress...:   8%|▊         | 1/13 [00:00<00:03,  3.60it/s]"
          ]
        },
        {
          "output_type": "stream",
          "name": "stdout",
          "text": [
            "Batch size is torch.Size([512]) and torch.Size([512]).\n"
          ]
        },
        {
          "output_type": "stream",
          "name": "stderr",
          "text": [
            "\rModel validation in progress...:  15%|█▌        | 2/13 [00:00<00:03,  3.57it/s]"
          ]
        },
        {
          "output_type": "stream",
          "name": "stdout",
          "text": [
            "Batch size is torch.Size([512]) and torch.Size([512]).\n"
          ]
        },
        {
          "output_type": "stream",
          "name": "stderr",
          "text": [
            "\rModel validation in progress...:  23%|██▎       | 3/13 [00:00<00:02,  3.56it/s]"
          ]
        },
        {
          "output_type": "stream",
          "name": "stdout",
          "text": [
            "Batch size is torch.Size([512]) and torch.Size([512]).\n"
          ]
        },
        {
          "output_type": "stream",
          "name": "stderr",
          "text": [
            "\rModel validation in progress...:  31%|███       | 4/13 [00:01<00:02,  3.53it/s]"
          ]
        },
        {
          "output_type": "stream",
          "name": "stdout",
          "text": [
            "Batch size is torch.Size([512]) and torch.Size([512]).\n"
          ]
        },
        {
          "output_type": "stream",
          "name": "stderr",
          "text": [
            "\rModel validation in progress...:  38%|███▊      | 5/13 [00:01<00:02,  3.51it/s]"
          ]
        },
        {
          "output_type": "stream",
          "name": "stdout",
          "text": [
            "Batch size is torch.Size([512]) and torch.Size([512]).\n"
          ]
        },
        {
          "output_type": "stream",
          "name": "stderr",
          "text": [
            "\rModel validation in progress...:  46%|████▌     | 6/13 [00:01<00:01,  3.55it/s]"
          ]
        },
        {
          "output_type": "stream",
          "name": "stdout",
          "text": [
            "Batch size is torch.Size([512]) and torch.Size([512]).\n"
          ]
        },
        {
          "output_type": "stream",
          "name": "stderr",
          "text": [
            "\rModel validation in progress...:  54%|█████▍    | 7/13 [00:01<00:01,  3.52it/s]"
          ]
        },
        {
          "output_type": "stream",
          "name": "stdout",
          "text": [
            "Batch size is torch.Size([512]) and torch.Size([512]).\n"
          ]
        },
        {
          "output_type": "stream",
          "name": "stderr",
          "text": [
            "\rModel validation in progress...:  62%|██████▏   | 8/13 [00:02<00:01,  3.52it/s]"
          ]
        },
        {
          "output_type": "stream",
          "name": "stdout",
          "text": [
            "Batch size is torch.Size([512]) and torch.Size([512]).\n"
          ]
        },
        {
          "output_type": "stream",
          "name": "stderr",
          "text": [
            "\rModel validation in progress...:  69%|██████▉   | 9/13 [00:02<00:01,  3.48it/s]"
          ]
        },
        {
          "output_type": "stream",
          "name": "stdout",
          "text": [
            "Batch size is torch.Size([512]) and torch.Size([512]).\n"
          ]
        },
        {
          "output_type": "stream",
          "name": "stderr",
          "text": [
            "\rModel validation in progress...:  77%|███████▋  | 10/13 [00:02<00:00,  3.53it/s]"
          ]
        },
        {
          "output_type": "stream",
          "name": "stdout",
          "text": [
            "Batch size is torch.Size([512]) and torch.Size([512]).\n"
          ]
        },
        {
          "output_type": "stream",
          "name": "stderr",
          "text": [
            "\rModel validation in progress...:  85%|████████▍ | 11/13 [00:03<00:00,  3.55it/s]"
          ]
        },
        {
          "output_type": "stream",
          "name": "stdout",
          "text": [
            "Batch size is torch.Size([512]) and torch.Size([512]).\n"
          ]
        },
        {
          "output_type": "stream",
          "name": "stderr",
          "text": [
            "Model validation in progress...: 100%|██████████| 13/13 [00:03<00:00,  3.74it/s]\n"
          ]
        },
        {
          "output_type": "stream",
          "name": "stdout",
          "text": [
            "Batch size is torch.Size([106]) and torch.Size([106]).\n",
            "Epoch: 3\n",
            "Training loss: 0.347,Training accuracy: 0.849\n",
            "Validation loss: 0.365,Validation accuracy: 0.852\n",
            "\n",
            "\n"
          ]
        },
        {
          "output_type": "stream",
          "name": "stderr",
          "text": [
            "\rModel training in progress...:   0%|          | 0/49 [00:00<?, ?it/s]"
          ]
        },
        {
          "output_type": "stream",
          "name": "stdout",
          "text": [
            "Batch size is torch.Size([512]) and torch.Size([512]).\n"
          ]
        },
        {
          "output_type": "stream",
          "name": "stderr",
          "text": [
            "\rModel training in progress...:   2%|▏         | 1/49 [00:00<00:40,  1.17it/s]"
          ]
        },
        {
          "output_type": "stream",
          "name": "stdout",
          "text": [
            "Batch size is torch.Size([512]) and torch.Size([512]).\n"
          ]
        },
        {
          "output_type": "stream",
          "name": "stderr",
          "text": [
            "\rModel training in progress...:   4%|▍         | 2/49 [00:01<00:40,  1.15it/s]"
          ]
        },
        {
          "output_type": "stream",
          "name": "stdout",
          "text": [
            "Batch size is torch.Size([512]) and torch.Size([512]).\n"
          ]
        },
        {
          "output_type": "stream",
          "name": "stderr",
          "text": [
            "\rModel training in progress...:   6%|▌         | 3/49 [00:02<00:40,  1.14it/s]"
          ]
        },
        {
          "output_type": "stream",
          "name": "stdout",
          "text": [
            "Batch size is torch.Size([512]) and torch.Size([512]).\n"
          ]
        },
        {
          "output_type": "stream",
          "name": "stderr",
          "text": [
            "\rModel training in progress...:   8%|▊         | 4/49 [00:03<00:39,  1.13it/s]"
          ]
        },
        {
          "output_type": "stream",
          "name": "stdout",
          "text": [
            "Batch size is torch.Size([512]) and torch.Size([512]).\n"
          ]
        },
        {
          "output_type": "stream",
          "name": "stderr",
          "text": [
            "\rModel training in progress...:  10%|█         | 5/49 [00:04<00:38,  1.13it/s]"
          ]
        },
        {
          "output_type": "stream",
          "name": "stdout",
          "text": [
            "Batch size is torch.Size([512]) and torch.Size([512]).\n"
          ]
        },
        {
          "output_type": "stream",
          "name": "stderr",
          "text": [
            "\rModel training in progress...:  12%|█▏        | 6/49 [00:05<00:38,  1.13it/s]"
          ]
        },
        {
          "output_type": "stream",
          "name": "stdout",
          "text": [
            "Batch size is torch.Size([512]) and torch.Size([512]).\n"
          ]
        },
        {
          "output_type": "stream",
          "name": "stderr",
          "text": [
            "\rModel training in progress...:  14%|█▍        | 7/49 [00:06<00:37,  1.13it/s]"
          ]
        },
        {
          "output_type": "stream",
          "name": "stdout",
          "text": [
            "Batch size is torch.Size([512]) and torch.Size([512]).\n"
          ]
        },
        {
          "output_type": "stream",
          "name": "stderr",
          "text": [
            "\rModel training in progress...:  16%|█▋        | 8/49 [00:07<00:36,  1.13it/s]"
          ]
        },
        {
          "output_type": "stream",
          "name": "stdout",
          "text": [
            "Batch size is torch.Size([512]) and torch.Size([512]).\n"
          ]
        },
        {
          "output_type": "stream",
          "name": "stderr",
          "text": [
            "\rModel training in progress...:  18%|█▊        | 9/49 [00:07<00:35,  1.13it/s]"
          ]
        },
        {
          "output_type": "stream",
          "name": "stdout",
          "text": [
            "Batch size is torch.Size([512]) and torch.Size([512]).\n"
          ]
        },
        {
          "output_type": "stream",
          "name": "stderr",
          "text": [
            "\rModel training in progress...:  20%|██        | 10/49 [00:08<00:34,  1.14it/s]"
          ]
        },
        {
          "output_type": "stream",
          "name": "stdout",
          "text": [
            "Batch size is torch.Size([512]) and torch.Size([512]).\n"
          ]
        },
        {
          "output_type": "stream",
          "name": "stderr",
          "text": [
            "\rModel training in progress...:  22%|██▏       | 11/49 [00:09<00:33,  1.13it/s]"
          ]
        },
        {
          "output_type": "stream",
          "name": "stdout",
          "text": [
            "Batch size is torch.Size([512]) and torch.Size([512]).\n"
          ]
        },
        {
          "output_type": "stream",
          "name": "stderr",
          "text": [
            "\rModel training in progress...:  24%|██▍       | 12/49 [00:10<00:32,  1.13it/s]"
          ]
        },
        {
          "output_type": "stream",
          "name": "stdout",
          "text": [
            "Batch size is torch.Size([512]) and torch.Size([512]).\n"
          ]
        },
        {
          "output_type": "stream",
          "name": "stderr",
          "text": [
            "\rModel training in progress...:  27%|██▋       | 13/49 [00:11<00:31,  1.13it/s]"
          ]
        },
        {
          "output_type": "stream",
          "name": "stdout",
          "text": [
            "Batch size is torch.Size([512]) and torch.Size([512]).\n"
          ]
        },
        {
          "output_type": "stream",
          "name": "stderr",
          "text": [
            "\rModel training in progress...:  29%|██▊       | 14/49 [00:12<00:30,  1.13it/s]"
          ]
        },
        {
          "output_type": "stream",
          "name": "stdout",
          "text": [
            "Batch size is torch.Size([512]) and torch.Size([512]).\n"
          ]
        },
        {
          "output_type": "stream",
          "name": "stderr",
          "text": [
            "\rModel training in progress...:  31%|███       | 15/49 [00:13<00:30,  1.13it/s]"
          ]
        },
        {
          "output_type": "stream",
          "name": "stdout",
          "text": [
            "Batch size is torch.Size([512]) and torch.Size([512]).\n"
          ]
        },
        {
          "output_type": "stream",
          "name": "stderr",
          "text": [
            "\rModel training in progress...:  33%|███▎      | 16/49 [00:14<00:29,  1.13it/s]"
          ]
        },
        {
          "output_type": "stream",
          "name": "stdout",
          "text": [
            "Batch size is torch.Size([512]) and torch.Size([512]).\n"
          ]
        },
        {
          "output_type": "stream",
          "name": "stderr",
          "text": [
            "\rModel training in progress...:  35%|███▍      | 17/49 [00:15<00:28,  1.13it/s]"
          ]
        },
        {
          "output_type": "stream",
          "name": "stdout",
          "text": [
            "Batch size is torch.Size([512]) and torch.Size([512]).\n"
          ]
        },
        {
          "output_type": "stream",
          "name": "stderr",
          "text": [
            "\rModel training in progress...:  37%|███▋      | 18/49 [00:15<00:27,  1.13it/s]"
          ]
        },
        {
          "output_type": "stream",
          "name": "stdout",
          "text": [
            "Batch size is torch.Size([512]) and torch.Size([512]).\n"
          ]
        },
        {
          "output_type": "stream",
          "name": "stderr",
          "text": [
            "\rModel training in progress...:  39%|███▉      | 19/49 [00:16<00:26,  1.13it/s]"
          ]
        },
        {
          "output_type": "stream",
          "name": "stdout",
          "text": [
            "Batch size is torch.Size([512]) and torch.Size([512]).\n"
          ]
        },
        {
          "output_type": "stream",
          "name": "stderr",
          "text": [
            "\rModel training in progress...:  41%|████      | 20/49 [00:17<00:25,  1.13it/s]"
          ]
        },
        {
          "output_type": "stream",
          "name": "stdout",
          "text": [
            "Batch size is torch.Size([512]) and torch.Size([512]).\n"
          ]
        },
        {
          "output_type": "stream",
          "name": "stderr",
          "text": [
            "\rModel training in progress...:  43%|████▎     | 21/49 [00:18<00:24,  1.13it/s]"
          ]
        },
        {
          "output_type": "stream",
          "name": "stdout",
          "text": [
            "Batch size is torch.Size([512]) and torch.Size([512]).\n"
          ]
        },
        {
          "output_type": "stream",
          "name": "stderr",
          "text": [
            "\rModel training in progress...:  45%|████▍     | 22/49 [00:19<00:23,  1.15it/s]"
          ]
        },
        {
          "output_type": "stream",
          "name": "stdout",
          "text": [
            "Batch size is torch.Size([512]) and torch.Size([512]).\n"
          ]
        },
        {
          "output_type": "stream",
          "name": "stderr",
          "text": [
            "\rModel training in progress...:  47%|████▋     | 23/49 [00:20<00:22,  1.14it/s]"
          ]
        },
        {
          "output_type": "stream",
          "name": "stdout",
          "text": [
            "Batch size is torch.Size([512]) and torch.Size([512]).\n"
          ]
        },
        {
          "output_type": "stream",
          "name": "stderr",
          "text": [
            "\rModel training in progress...:  49%|████▉     | 24/49 [00:21<00:22,  1.13it/s]"
          ]
        },
        {
          "output_type": "stream",
          "name": "stdout",
          "text": [
            "Batch size is torch.Size([512]) and torch.Size([512]).\n"
          ]
        },
        {
          "output_type": "stream",
          "name": "stderr",
          "text": [
            "\rModel training in progress...:  51%|█████     | 25/49 [00:22<00:21,  1.13it/s]"
          ]
        },
        {
          "output_type": "stream",
          "name": "stdout",
          "text": [
            "Batch size is torch.Size([512]) and torch.Size([512]).\n"
          ]
        },
        {
          "output_type": "stream",
          "name": "stderr",
          "text": [
            "\rModel training in progress...:  53%|█████▎    | 26/49 [00:22<00:20,  1.13it/s]"
          ]
        },
        {
          "output_type": "stream",
          "name": "stdout",
          "text": [
            "Batch size is torch.Size([512]) and torch.Size([512]).\n"
          ]
        },
        {
          "output_type": "stream",
          "name": "stderr",
          "text": [
            "\rModel training in progress...:  55%|█████▌    | 27/49 [00:23<00:19,  1.14it/s]"
          ]
        },
        {
          "output_type": "stream",
          "name": "stdout",
          "text": [
            "Batch size is torch.Size([512]) and torch.Size([512]).\n"
          ]
        },
        {
          "output_type": "stream",
          "name": "stderr",
          "text": [
            "\rModel training in progress...:  57%|█████▋    | 28/49 [00:24<00:18,  1.14it/s]"
          ]
        },
        {
          "output_type": "stream",
          "name": "stdout",
          "text": [
            "Batch size is torch.Size([512]) and torch.Size([512]).\n"
          ]
        },
        {
          "output_type": "stream",
          "name": "stderr",
          "text": [
            "\rModel training in progress...:  59%|█████▉    | 29/49 [00:25<00:17,  1.14it/s]"
          ]
        },
        {
          "output_type": "stream",
          "name": "stdout",
          "text": [
            "Batch size is torch.Size([512]) and torch.Size([512]).\n"
          ]
        },
        {
          "output_type": "stream",
          "name": "stderr",
          "text": [
            "\rModel training in progress...:  61%|██████    | 30/49 [00:26<00:16,  1.15it/s]"
          ]
        },
        {
          "output_type": "stream",
          "name": "stdout",
          "text": [
            "Batch size is torch.Size([512]) and torch.Size([512]).\n"
          ]
        },
        {
          "output_type": "stream",
          "name": "stderr",
          "text": [
            "\rModel training in progress...:  63%|██████▎   | 31/49 [00:27<00:15,  1.14it/s]"
          ]
        },
        {
          "output_type": "stream",
          "name": "stdout",
          "text": [
            "Batch size is torch.Size([512]) and torch.Size([512]).\n"
          ]
        },
        {
          "output_type": "stream",
          "name": "stderr",
          "text": [
            "\rModel training in progress...:  65%|██████▌   | 32/49 [00:28<00:15,  1.13it/s]"
          ]
        },
        {
          "output_type": "stream",
          "name": "stdout",
          "text": [
            "Batch size is torch.Size([512]) and torch.Size([512]).\n"
          ]
        },
        {
          "output_type": "stream",
          "name": "stderr",
          "text": [
            "\rModel training in progress...:  67%|██████▋   | 33/49 [00:29<00:14,  1.12it/s]"
          ]
        },
        {
          "output_type": "stream",
          "name": "stdout",
          "text": [
            "Batch size is torch.Size([512]) and torch.Size([512]).\n"
          ]
        },
        {
          "output_type": "stream",
          "name": "stderr",
          "text": [
            "\rModel training in progress...:  69%|██████▉   | 34/49 [00:29<00:13,  1.13it/s]"
          ]
        },
        {
          "output_type": "stream",
          "name": "stdout",
          "text": [
            "Batch size is torch.Size([512]) and torch.Size([512]).\n"
          ]
        },
        {
          "output_type": "stream",
          "name": "stderr",
          "text": [
            "\rModel training in progress...:  71%|███████▏  | 35/49 [00:30<00:12,  1.13it/s]"
          ]
        },
        {
          "output_type": "stream",
          "name": "stdout",
          "text": [
            "Batch size is torch.Size([512]) and torch.Size([512]).\n"
          ]
        },
        {
          "output_type": "stream",
          "name": "stderr",
          "text": [
            "\rModel training in progress...:  73%|███████▎  | 36/49 [00:31<00:11,  1.13it/s]"
          ]
        },
        {
          "output_type": "stream",
          "name": "stdout",
          "text": [
            "Batch size is torch.Size([512]) and torch.Size([512]).\n"
          ]
        },
        {
          "output_type": "stream",
          "name": "stderr",
          "text": [
            "\rModel training in progress...:  76%|███████▌  | 37/49 [00:32<00:10,  1.13it/s]"
          ]
        },
        {
          "output_type": "stream",
          "name": "stdout",
          "text": [
            "Batch size is torch.Size([512]) and torch.Size([512]).\n"
          ]
        },
        {
          "output_type": "stream",
          "name": "stderr",
          "text": [
            "\rModel training in progress...:  78%|███████▊  | 38/49 [00:33<00:09,  1.15it/s]"
          ]
        },
        {
          "output_type": "stream",
          "name": "stdout",
          "text": [
            "Batch size is torch.Size([512]) and torch.Size([512]).\n"
          ]
        },
        {
          "output_type": "stream",
          "name": "stderr",
          "text": [
            "\rModel training in progress...:  80%|███████▉  | 39/49 [00:34<00:08,  1.15it/s]"
          ]
        },
        {
          "output_type": "stream",
          "name": "stdout",
          "text": [
            "Batch size is torch.Size([512]) and torch.Size([512]).\n"
          ]
        },
        {
          "output_type": "stream",
          "name": "stderr",
          "text": [
            "\rModel training in progress...:  82%|████████▏ | 40/49 [00:35<00:07,  1.14it/s]"
          ]
        },
        {
          "output_type": "stream",
          "name": "stdout",
          "text": [
            "Batch size is torch.Size([512]) and torch.Size([512]).\n"
          ]
        },
        {
          "output_type": "stream",
          "name": "stderr",
          "text": [
            "\rModel training in progress...:  84%|████████▎ | 41/49 [00:36<00:07,  1.13it/s]"
          ]
        },
        {
          "output_type": "stream",
          "name": "stdout",
          "text": [
            "Batch size is torch.Size([512]) and torch.Size([512]).\n"
          ]
        },
        {
          "output_type": "stream",
          "name": "stderr",
          "text": [
            "\rModel training in progress...:  86%|████████▌ | 42/49 [00:37<00:06,  1.13it/s]"
          ]
        },
        {
          "output_type": "stream",
          "name": "stdout",
          "text": [
            "Batch size is torch.Size([512]) and torch.Size([512]).\n"
          ]
        },
        {
          "output_type": "stream",
          "name": "stderr",
          "text": [
            "\rModel training in progress...:  88%|████████▊ | 43/49 [00:37<00:05,  1.13it/s]"
          ]
        },
        {
          "output_type": "stream",
          "name": "stdout",
          "text": [
            "Batch size is torch.Size([512]) and torch.Size([512]).\n"
          ]
        },
        {
          "output_type": "stream",
          "name": "stderr",
          "text": [
            "\rModel training in progress...:  90%|████████▉ | 44/49 [00:38<00:04,  1.14it/s]"
          ]
        },
        {
          "output_type": "stream",
          "name": "stdout",
          "text": [
            "Batch size is torch.Size([512]) and torch.Size([512]).\n"
          ]
        },
        {
          "output_type": "stream",
          "name": "stderr",
          "text": [
            "\rModel training in progress...:  92%|█████████▏| 45/49 [00:39<00:03,  1.13it/s]"
          ]
        },
        {
          "output_type": "stream",
          "name": "stdout",
          "text": [
            "Batch size is torch.Size([512]) and torch.Size([512]).\n"
          ]
        },
        {
          "output_type": "stream",
          "name": "stderr",
          "text": [
            "\rModel training in progress...:  94%|█████████▍| 46/49 [00:40<00:02,  1.13it/s]"
          ]
        },
        {
          "output_type": "stream",
          "name": "stdout",
          "text": [
            "Batch size is torch.Size([512]) and torch.Size([512]).\n"
          ]
        },
        {
          "output_type": "stream",
          "name": "stderr",
          "text": [
            "\rModel training in progress...:  96%|█████████▌| 47/49 [00:41<00:01,  1.12it/s]"
          ]
        },
        {
          "output_type": "stream",
          "name": "stdout",
          "text": [
            "Batch size is torch.Size([512]) and torch.Size([512]).\n"
          ]
        },
        {
          "output_type": "stream",
          "name": "stderr",
          "text": [
            "\rModel training in progress...:  98%|█████████▊| 48/49 [00:42<00:00,  1.13it/s]"
          ]
        },
        {
          "output_type": "stream",
          "name": "stdout",
          "text": [
            "Batch size is torch.Size([424]) and torch.Size([424]).\n"
          ]
        },
        {
          "output_type": "stream",
          "name": "stderr",
          "text": [
            "Model training in progress...: 100%|██████████| 49/49 [00:43<00:00,  1.14it/s]\n",
            "Model validation in progress...:   0%|          | 0/13 [00:00<?, ?it/s]"
          ]
        },
        {
          "output_type": "stream",
          "name": "stdout",
          "text": [
            "Batch size is torch.Size([512]) and torch.Size([512]).\n"
          ]
        },
        {
          "output_type": "stream",
          "name": "stderr",
          "text": [
            "\rModel validation in progress...:   8%|▊         | 1/13 [00:00<00:03,  3.55it/s]"
          ]
        },
        {
          "output_type": "stream",
          "name": "stdout",
          "text": [
            "Batch size is torch.Size([512]) and torch.Size([512]).\n"
          ]
        },
        {
          "output_type": "stream",
          "name": "stderr",
          "text": [
            "\rModel validation in progress...:  15%|█▌        | 2/13 [00:00<00:03,  3.56it/s]"
          ]
        },
        {
          "output_type": "stream",
          "name": "stdout",
          "text": [
            "Batch size is torch.Size([512]) and torch.Size([512]).\n"
          ]
        },
        {
          "output_type": "stream",
          "name": "stderr",
          "text": [
            "\rModel validation in progress...:  23%|██▎       | 3/13 [00:00<00:02,  3.54it/s]"
          ]
        },
        {
          "output_type": "stream",
          "name": "stdout",
          "text": [
            "Batch size is torch.Size([512]) and torch.Size([512]).\n"
          ]
        },
        {
          "output_type": "stream",
          "name": "stderr",
          "text": [
            "\rModel validation in progress...:  31%|███       | 4/13 [00:01<00:02,  3.51it/s]"
          ]
        },
        {
          "output_type": "stream",
          "name": "stdout",
          "text": [
            "Batch size is torch.Size([512]) and torch.Size([512]).\n"
          ]
        },
        {
          "output_type": "stream",
          "name": "stderr",
          "text": [
            "\rModel validation in progress...:  38%|███▊      | 5/13 [00:01<00:02,  3.47it/s]"
          ]
        },
        {
          "output_type": "stream",
          "name": "stdout",
          "text": [
            "Batch size is torch.Size([512]) and torch.Size([512]).\n"
          ]
        },
        {
          "output_type": "stream",
          "name": "stderr",
          "text": [
            "\rModel validation in progress...:  46%|████▌     | 6/13 [00:01<00:01,  3.54it/s]"
          ]
        },
        {
          "output_type": "stream",
          "name": "stdout",
          "text": [
            "Batch size is torch.Size([512]) and torch.Size([512]).\n"
          ]
        },
        {
          "output_type": "stream",
          "name": "stderr",
          "text": [
            "\rModel validation in progress...:  54%|█████▍    | 7/13 [00:01<00:01,  3.48it/s]"
          ]
        },
        {
          "output_type": "stream",
          "name": "stdout",
          "text": [
            "Batch size is torch.Size([512]) and torch.Size([512]).\n"
          ]
        },
        {
          "output_type": "stream",
          "name": "stderr",
          "text": [
            "\rModel validation in progress...:  62%|██████▏   | 8/13 [00:02<00:01,  3.51it/s]"
          ]
        },
        {
          "output_type": "stream",
          "name": "stdout",
          "text": [
            "Batch size is torch.Size([512]) and torch.Size([512]).\n"
          ]
        },
        {
          "output_type": "stream",
          "name": "stderr",
          "text": [
            "\rModel validation in progress...:  69%|██████▉   | 9/13 [00:02<00:01,  3.48it/s]"
          ]
        },
        {
          "output_type": "stream",
          "name": "stdout",
          "text": [
            "Batch size is torch.Size([512]) and torch.Size([512]).\n"
          ]
        },
        {
          "output_type": "stream",
          "name": "stderr",
          "text": [
            "\rModel validation in progress...:  77%|███████▋  | 10/13 [00:02<00:00,  3.54it/s]"
          ]
        },
        {
          "output_type": "stream",
          "name": "stdout",
          "text": [
            "Batch size is torch.Size([512]) and torch.Size([512]).\n"
          ]
        },
        {
          "output_type": "stream",
          "name": "stderr",
          "text": [
            "\rModel validation in progress...:  85%|████████▍ | 11/13 [00:03<00:00,  3.56it/s]"
          ]
        },
        {
          "output_type": "stream",
          "name": "stdout",
          "text": [
            "Batch size is torch.Size([512]) and torch.Size([512]).\n"
          ]
        },
        {
          "output_type": "stream",
          "name": "stderr",
          "text": [
            "Model validation in progress...: 100%|██████████| 13/13 [00:03<00:00,  3.72it/s]\n"
          ]
        },
        {
          "output_type": "stream",
          "name": "stdout",
          "text": [
            "Batch size is torch.Size([106]) and torch.Size([106]).\n",
            "Epoch: 4\n",
            "Training loss: 0.307,Training accuracy: 0.871\n",
            "Validation loss: 0.328,Validation accuracy: 0.861\n",
            "\n",
            "\n"
          ]
        },
        {
          "output_type": "stream",
          "name": "stderr",
          "text": [
            "\rModel training in progress...:   0%|          | 0/49 [00:00<?, ?it/s]"
          ]
        },
        {
          "output_type": "stream",
          "name": "stdout",
          "text": [
            "Batch size is torch.Size([512]) and torch.Size([512]).\n"
          ]
        },
        {
          "output_type": "stream",
          "name": "stderr",
          "text": [
            "\rModel training in progress...:   2%|▏         | 1/49 [00:00<00:40,  1.18it/s]"
          ]
        },
        {
          "output_type": "stream",
          "name": "stdout",
          "text": [
            "Batch size is torch.Size([512]) and torch.Size([512]).\n"
          ]
        },
        {
          "output_type": "stream",
          "name": "stderr",
          "text": [
            "\rModel training in progress...:   4%|▍         | 2/49 [00:01<00:40,  1.15it/s]"
          ]
        },
        {
          "output_type": "stream",
          "name": "stdout",
          "text": [
            "Batch size is torch.Size([512]) and torch.Size([512]).\n"
          ]
        },
        {
          "output_type": "stream",
          "name": "stderr",
          "text": [
            "\rModel training in progress...:   6%|▌         | 3/49 [00:02<00:40,  1.14it/s]"
          ]
        },
        {
          "output_type": "stream",
          "name": "stdout",
          "text": [
            "Batch size is torch.Size([512]) and torch.Size([512]).\n"
          ]
        },
        {
          "output_type": "stream",
          "name": "stderr",
          "text": [
            "\rModel training in progress...:   8%|▊         | 4/49 [00:03<00:39,  1.13it/s]"
          ]
        },
        {
          "output_type": "stream",
          "name": "stdout",
          "text": [
            "Batch size is torch.Size([512]) and torch.Size([512]).\n"
          ]
        },
        {
          "output_type": "stream",
          "name": "stderr",
          "text": [
            "\rModel training in progress...:  10%|█         | 5/49 [00:04<00:39,  1.12it/s]"
          ]
        },
        {
          "output_type": "stream",
          "name": "stdout",
          "text": [
            "Batch size is torch.Size([512]) and torch.Size([512]).\n"
          ]
        },
        {
          "output_type": "stream",
          "name": "stderr",
          "text": [
            "\rModel training in progress...:  12%|█▏        | 6/49 [00:05<00:38,  1.13it/s]"
          ]
        },
        {
          "output_type": "stream",
          "name": "stdout",
          "text": [
            "Batch size is torch.Size([512]) and torch.Size([512]).\n"
          ]
        },
        {
          "output_type": "stream",
          "name": "stderr",
          "text": [
            "\rModel training in progress...:  14%|█▍        | 7/49 [00:06<00:37,  1.13it/s]"
          ]
        },
        {
          "output_type": "stream",
          "name": "stdout",
          "text": [
            "Batch size is torch.Size([512]) and torch.Size([512]).\n"
          ]
        },
        {
          "output_type": "stream",
          "name": "stderr",
          "text": [
            "\rModel training in progress...:  16%|█▋        | 8/49 [00:07<00:36,  1.13it/s]"
          ]
        },
        {
          "output_type": "stream",
          "name": "stdout",
          "text": [
            "Batch size is torch.Size([512]) and torch.Size([512]).\n"
          ]
        },
        {
          "output_type": "stream",
          "name": "stderr",
          "text": [
            "\rModel training in progress...:  18%|█▊        | 9/49 [00:07<00:35,  1.13it/s]"
          ]
        },
        {
          "output_type": "stream",
          "name": "stdout",
          "text": [
            "Batch size is torch.Size([512]) and torch.Size([512]).\n"
          ]
        },
        {
          "output_type": "stream",
          "name": "stderr",
          "text": [
            "\rModel training in progress...:  20%|██        | 10/49 [00:08<00:34,  1.14it/s]"
          ]
        },
        {
          "output_type": "stream",
          "name": "stdout",
          "text": [
            "Batch size is torch.Size([512]) and torch.Size([512]).\n"
          ]
        },
        {
          "output_type": "stream",
          "name": "stderr",
          "text": [
            "\rModel training in progress...:  22%|██▏       | 11/49 [00:09<00:33,  1.14it/s]"
          ]
        },
        {
          "output_type": "stream",
          "name": "stdout",
          "text": [
            "Batch size is torch.Size([512]) and torch.Size([512]).\n"
          ]
        },
        {
          "output_type": "stream",
          "name": "stderr",
          "text": [
            "\rModel training in progress...:  24%|██▍       | 12/49 [00:10<00:32,  1.13it/s]"
          ]
        },
        {
          "output_type": "stream",
          "name": "stdout",
          "text": [
            "Batch size is torch.Size([512]) and torch.Size([512]).\n"
          ]
        },
        {
          "output_type": "stream",
          "name": "stderr",
          "text": [
            "\rModel training in progress...:  27%|██▋       | 13/49 [00:11<00:31,  1.13it/s]"
          ]
        },
        {
          "output_type": "stream",
          "name": "stdout",
          "text": [
            "Batch size is torch.Size([512]) and torch.Size([512]).\n"
          ]
        },
        {
          "output_type": "stream",
          "name": "stderr",
          "text": [
            "\rModel training in progress...:  29%|██▊       | 14/49 [00:12<00:31,  1.13it/s]"
          ]
        },
        {
          "output_type": "stream",
          "name": "stdout",
          "text": [
            "Batch size is torch.Size([512]) and torch.Size([512]).\n"
          ]
        },
        {
          "output_type": "stream",
          "name": "stderr",
          "text": [
            "\rModel training in progress...:  31%|███       | 15/49 [00:13<00:30,  1.12it/s]"
          ]
        },
        {
          "output_type": "stream",
          "name": "stdout",
          "text": [
            "Batch size is torch.Size([512]) and torch.Size([512]).\n"
          ]
        },
        {
          "output_type": "stream",
          "name": "stderr",
          "text": [
            "\rModel training in progress...:  33%|███▎      | 16/49 [00:14<00:29,  1.11it/s]"
          ]
        },
        {
          "output_type": "stream",
          "name": "stdout",
          "text": [
            "Batch size is torch.Size([512]) and torch.Size([512]).\n"
          ]
        },
        {
          "output_type": "stream",
          "name": "stderr",
          "text": [
            "\rModel training in progress...:  35%|███▍      | 17/49 [00:15<00:28,  1.12it/s]"
          ]
        },
        {
          "output_type": "stream",
          "name": "stdout",
          "text": [
            "Batch size is torch.Size([512]) and torch.Size([512]).\n"
          ]
        },
        {
          "output_type": "stream",
          "name": "stderr",
          "text": [
            "\rModel training in progress...:  37%|███▋      | 18/49 [00:15<00:27,  1.13it/s]"
          ]
        },
        {
          "output_type": "stream",
          "name": "stdout",
          "text": [
            "Batch size is torch.Size([512]) and torch.Size([512]).\n"
          ]
        },
        {
          "output_type": "stream",
          "name": "stderr",
          "text": [
            "\rModel training in progress...:  39%|███▉      | 19/49 [00:16<00:26,  1.12it/s]"
          ]
        },
        {
          "output_type": "stream",
          "name": "stdout",
          "text": [
            "Batch size is torch.Size([512]) and torch.Size([512]).\n"
          ]
        },
        {
          "output_type": "stream",
          "name": "stderr",
          "text": [
            "\rModel training in progress...:  41%|████      | 20/49 [00:17<00:25,  1.13it/s]"
          ]
        },
        {
          "output_type": "stream",
          "name": "stdout",
          "text": [
            "Batch size is torch.Size([512]) and torch.Size([512]).\n"
          ]
        },
        {
          "output_type": "stream",
          "name": "stderr",
          "text": [
            "\rModel training in progress...:  43%|████▎     | 21/49 [00:18<00:24,  1.13it/s]"
          ]
        },
        {
          "output_type": "stream",
          "name": "stdout",
          "text": [
            "Batch size is torch.Size([512]) and torch.Size([512]).\n"
          ]
        },
        {
          "output_type": "stream",
          "name": "stderr",
          "text": [
            "\rModel training in progress...:  45%|████▍     | 22/49 [00:19<00:23,  1.13it/s]"
          ]
        },
        {
          "output_type": "stream",
          "name": "stdout",
          "text": [
            "Batch size is torch.Size([512]) and torch.Size([512]).\n"
          ]
        },
        {
          "output_type": "stream",
          "name": "stderr",
          "text": [
            "\rModel training in progress...:  47%|████▋     | 23/49 [00:20<00:23,  1.13it/s]"
          ]
        },
        {
          "output_type": "stream",
          "name": "stdout",
          "text": [
            "Batch size is torch.Size([512]) and torch.Size([512]).\n"
          ]
        },
        {
          "output_type": "stream",
          "name": "stderr",
          "text": [
            "\rModel training in progress...:  49%|████▉     | 24/49 [00:21<00:22,  1.12it/s]"
          ]
        },
        {
          "output_type": "stream",
          "name": "stdout",
          "text": [
            "Batch size is torch.Size([512]) and torch.Size([512]).\n"
          ]
        },
        {
          "output_type": "stream",
          "name": "stderr",
          "text": [
            "\rModel training in progress...:  51%|█████     | 25/49 [00:22<00:21,  1.12it/s]"
          ]
        },
        {
          "output_type": "stream",
          "name": "stdout",
          "text": [
            "Batch size is torch.Size([512]) and torch.Size([512]).\n"
          ]
        },
        {
          "output_type": "stream",
          "name": "stderr",
          "text": [
            "\rModel training in progress...:  53%|█████▎    | 26/49 [00:23<00:20,  1.13it/s]"
          ]
        },
        {
          "output_type": "stream",
          "name": "stdout",
          "text": [
            "Batch size is torch.Size([512]) and torch.Size([512]).\n"
          ]
        },
        {
          "output_type": "stream",
          "name": "stderr",
          "text": [
            "\rModel training in progress...:  55%|█████▌    | 27/49 [00:23<00:19,  1.13it/s]"
          ]
        },
        {
          "output_type": "stream",
          "name": "stdout",
          "text": [
            "Batch size is torch.Size([512]) and torch.Size([512]).\n"
          ]
        },
        {
          "output_type": "stream",
          "name": "stderr",
          "text": [
            "\rModel training in progress...:  57%|█████▋    | 28/49 [00:24<00:18,  1.13it/s]"
          ]
        },
        {
          "output_type": "stream",
          "name": "stdout",
          "text": [
            "Batch size is torch.Size([512]) and torch.Size([512]).\n"
          ]
        },
        {
          "output_type": "stream",
          "name": "stderr",
          "text": [
            "\rModel training in progress...:  59%|█████▉    | 29/49 [00:25<00:17,  1.14it/s]"
          ]
        },
        {
          "output_type": "stream",
          "name": "stdout",
          "text": [
            "Batch size is torch.Size([512]) and torch.Size([512]).\n"
          ]
        },
        {
          "output_type": "stream",
          "name": "stderr",
          "text": [
            "\rModel training in progress...:  61%|██████    | 30/49 [00:26<00:16,  1.14it/s]"
          ]
        },
        {
          "output_type": "stream",
          "name": "stdout",
          "text": [
            "Batch size is torch.Size([512]) and torch.Size([512]).\n"
          ]
        },
        {
          "output_type": "stream",
          "name": "stderr",
          "text": [
            "\rModel training in progress...:  63%|██████▎   | 31/49 [00:27<00:15,  1.13it/s]"
          ]
        },
        {
          "output_type": "stream",
          "name": "stdout",
          "text": [
            "Batch size is torch.Size([512]) and torch.Size([512]).\n"
          ]
        },
        {
          "output_type": "stream",
          "name": "stderr",
          "text": [
            "\rModel training in progress...:  65%|██████▌   | 32/49 [00:28<00:15,  1.13it/s]"
          ]
        },
        {
          "output_type": "stream",
          "name": "stdout",
          "text": [
            "Batch size is torch.Size([512]) and torch.Size([512]).\n"
          ]
        },
        {
          "output_type": "stream",
          "name": "stderr",
          "text": [
            "\rModel training in progress...:  67%|██████▋   | 33/49 [00:29<00:14,  1.13it/s]"
          ]
        },
        {
          "output_type": "stream",
          "name": "stdout",
          "text": [
            "Batch size is torch.Size([512]) and torch.Size([512]).\n"
          ]
        },
        {
          "output_type": "stream",
          "name": "stderr",
          "text": [
            "\rModel training in progress...:  69%|██████▉   | 34/49 [00:30<00:13,  1.14it/s]"
          ]
        },
        {
          "output_type": "stream",
          "name": "stdout",
          "text": [
            "Batch size is torch.Size([512]) and torch.Size([512]).\n"
          ]
        },
        {
          "output_type": "stream",
          "name": "stderr",
          "text": [
            "\rModel training in progress...:  71%|███████▏  | 35/49 [00:30<00:12,  1.14it/s]"
          ]
        },
        {
          "output_type": "stream",
          "name": "stdout",
          "text": [
            "Batch size is torch.Size([512]) and torch.Size([512]).\n"
          ]
        },
        {
          "output_type": "stream",
          "name": "stderr",
          "text": [
            "\rModel training in progress...:  73%|███████▎  | 36/49 [00:31<00:11,  1.14it/s]"
          ]
        },
        {
          "output_type": "stream",
          "name": "stdout",
          "text": [
            "Batch size is torch.Size([512]) and torch.Size([512]).\n"
          ]
        },
        {
          "output_type": "stream",
          "name": "stderr",
          "text": [
            "\rModel training in progress...:  76%|███████▌  | 37/49 [00:32<00:10,  1.13it/s]"
          ]
        },
        {
          "output_type": "stream",
          "name": "stdout",
          "text": [
            "Batch size is torch.Size([512]) and torch.Size([512]).\n"
          ]
        },
        {
          "output_type": "stream",
          "name": "stderr",
          "text": [
            "\rModel training in progress...:  78%|███████▊  | 38/49 [00:33<00:09,  1.13it/s]"
          ]
        },
        {
          "output_type": "stream",
          "name": "stdout",
          "text": [
            "Batch size is torch.Size([512]) and torch.Size([512]).\n"
          ]
        },
        {
          "output_type": "stream",
          "name": "stderr",
          "text": [
            "\rModel training in progress...:  80%|███████▉  | 39/49 [00:34<00:08,  1.13it/s]"
          ]
        },
        {
          "output_type": "stream",
          "name": "stdout",
          "text": [
            "Batch size is torch.Size([512]) and torch.Size([512]).\n"
          ]
        },
        {
          "output_type": "stream",
          "name": "stderr",
          "text": [
            "\rModel training in progress...:  82%|████████▏ | 40/49 [00:35<00:07,  1.13it/s]"
          ]
        },
        {
          "output_type": "stream",
          "name": "stdout",
          "text": [
            "Batch size is torch.Size([512]) and torch.Size([512]).\n"
          ]
        },
        {
          "output_type": "stream",
          "name": "stderr",
          "text": [
            "\rModel training in progress...:  84%|████████▎ | 41/49 [00:36<00:07,  1.13it/s]"
          ]
        },
        {
          "output_type": "stream",
          "name": "stdout",
          "text": [
            "Batch size is torch.Size([512]) and torch.Size([512]).\n"
          ]
        },
        {
          "output_type": "stream",
          "name": "stderr",
          "text": [
            "\rModel training in progress...:  86%|████████▌ | 42/49 [00:37<00:06,  1.14it/s]"
          ]
        },
        {
          "output_type": "stream",
          "name": "stdout",
          "text": [
            "Batch size is torch.Size([512]) and torch.Size([512]).\n"
          ]
        },
        {
          "output_type": "stream",
          "name": "stderr",
          "text": [
            "\rModel training in progress...:  88%|████████▊ | 43/49 [00:38<00:05,  1.14it/s]"
          ]
        },
        {
          "output_type": "stream",
          "name": "stdout",
          "text": [
            "Batch size is torch.Size([512]) and torch.Size([512]).\n"
          ]
        },
        {
          "output_type": "stream",
          "name": "stderr",
          "text": [
            "\rModel training in progress...:  90%|████████▉ | 44/49 [00:38<00:04,  1.13it/s]"
          ]
        },
        {
          "output_type": "stream",
          "name": "stdout",
          "text": [
            "Batch size is torch.Size([512]) and torch.Size([512]).\n"
          ]
        },
        {
          "output_type": "stream",
          "name": "stderr",
          "text": [
            "\rModel training in progress...:  92%|█████████▏| 45/49 [00:39<00:03,  1.13it/s]"
          ]
        },
        {
          "output_type": "stream",
          "name": "stdout",
          "text": [
            "Batch size is torch.Size([512]) and torch.Size([512]).\n"
          ]
        },
        {
          "output_type": "stream",
          "name": "stderr",
          "text": [
            "\rModel training in progress...:  94%|█████████▍| 46/49 [00:40<00:02,  1.12it/s]"
          ]
        },
        {
          "output_type": "stream",
          "name": "stdout",
          "text": [
            "Batch size is torch.Size([512]) and torch.Size([512]).\n"
          ]
        },
        {
          "output_type": "stream",
          "name": "stderr",
          "text": [
            "\rModel training in progress...:  96%|█████████▌| 47/49 [00:41<00:01,  1.12it/s]"
          ]
        },
        {
          "output_type": "stream",
          "name": "stdout",
          "text": [
            "Batch size is torch.Size([512]) and torch.Size([512]).\n"
          ]
        },
        {
          "output_type": "stream",
          "name": "stderr",
          "text": [
            "\rModel training in progress...:  98%|█████████▊| 48/49 [00:42<00:00,  1.12it/s]"
          ]
        },
        {
          "output_type": "stream",
          "name": "stdout",
          "text": [
            "Batch size is torch.Size([424]) and torch.Size([424]).\n"
          ]
        },
        {
          "output_type": "stream",
          "name": "stderr",
          "text": [
            "Model training in progress...: 100%|██████████| 49/49 [00:43<00:00,  1.13it/s]\n",
            "Model validation in progress...:   0%|          | 0/13 [00:00<?, ?it/s]"
          ]
        },
        {
          "output_type": "stream",
          "name": "stdout",
          "text": [
            "Batch size is torch.Size([512]) and torch.Size([512]).\n"
          ]
        },
        {
          "output_type": "stream",
          "name": "stderr",
          "text": [
            "\rModel validation in progress...:   8%|▊         | 1/13 [00:00<00:03,  3.53it/s]"
          ]
        },
        {
          "output_type": "stream",
          "name": "stdout",
          "text": [
            "Batch size is torch.Size([512]) and torch.Size([512]).\n"
          ]
        },
        {
          "output_type": "stream",
          "name": "stderr",
          "text": [
            "\rModel validation in progress...:  15%|█▌        | 2/13 [00:00<00:03,  3.60it/s]"
          ]
        },
        {
          "output_type": "stream",
          "name": "stdout",
          "text": [
            "Batch size is torch.Size([512]) and torch.Size([512]).\n"
          ]
        },
        {
          "output_type": "stream",
          "name": "stderr",
          "text": [
            "\rModel validation in progress...:  23%|██▎       | 3/13 [00:00<00:02,  3.57it/s]"
          ]
        },
        {
          "output_type": "stream",
          "name": "stdout",
          "text": [
            "Batch size is torch.Size([512]) and torch.Size([512]).\n"
          ]
        },
        {
          "output_type": "stream",
          "name": "stderr",
          "text": [
            "\rModel validation in progress...:  31%|███       | 4/13 [00:01<00:02,  3.50it/s]"
          ]
        },
        {
          "output_type": "stream",
          "name": "stdout",
          "text": [
            "Batch size is torch.Size([512]) and torch.Size([512]).\n"
          ]
        },
        {
          "output_type": "stream",
          "name": "stderr",
          "text": [
            "\rModel validation in progress...:  38%|███▊      | 5/13 [00:01<00:02,  3.48it/s]"
          ]
        },
        {
          "output_type": "stream",
          "name": "stdout",
          "text": [
            "Batch size is torch.Size([512]) and torch.Size([512]).\n"
          ]
        },
        {
          "output_type": "stream",
          "name": "stderr",
          "text": [
            "\rModel validation in progress...:  46%|████▌     | 6/13 [00:01<00:01,  3.54it/s]"
          ]
        },
        {
          "output_type": "stream",
          "name": "stdout",
          "text": [
            "Batch size is torch.Size([512]) and torch.Size([512]).\n"
          ]
        },
        {
          "output_type": "stream",
          "name": "stderr",
          "text": [
            "\rModel validation in progress...:  54%|█████▍    | 7/13 [00:01<00:01,  3.51it/s]"
          ]
        },
        {
          "output_type": "stream",
          "name": "stdout",
          "text": [
            "Batch size is torch.Size([512]) and torch.Size([512]).\n"
          ]
        },
        {
          "output_type": "stream",
          "name": "stderr",
          "text": [
            "\rModel validation in progress...:  62%|██████▏   | 8/13 [00:02<00:01,  3.49it/s]"
          ]
        },
        {
          "output_type": "stream",
          "name": "stdout",
          "text": [
            "Batch size is torch.Size([512]) and torch.Size([512]).\n"
          ]
        },
        {
          "output_type": "stream",
          "name": "stderr",
          "text": [
            "\rModel validation in progress...:  69%|██████▉   | 9/13 [00:02<00:01,  3.47it/s]"
          ]
        },
        {
          "output_type": "stream",
          "name": "stdout",
          "text": [
            "Batch size is torch.Size([512]) and torch.Size([512]).\n"
          ]
        },
        {
          "output_type": "stream",
          "name": "stderr",
          "text": [
            "\rModel validation in progress...:  77%|███████▋  | 10/13 [00:02<00:00,  3.53it/s]"
          ]
        },
        {
          "output_type": "stream",
          "name": "stdout",
          "text": [
            "Batch size is torch.Size([512]) and torch.Size([512]).\n"
          ]
        },
        {
          "output_type": "stream",
          "name": "stderr",
          "text": [
            "\rModel validation in progress...:  85%|████████▍ | 11/13 [00:03<00:00,  3.53it/s]"
          ]
        },
        {
          "output_type": "stream",
          "name": "stdout",
          "text": [
            "Batch size is torch.Size([512]) and torch.Size([512]).\n"
          ]
        },
        {
          "output_type": "stream",
          "name": "stderr",
          "text": [
            "Model validation in progress...: 100%|██████████| 13/13 [00:03<00:00,  3.72it/s]\n"
          ]
        },
        {
          "output_type": "stream",
          "name": "stdout",
          "text": [
            "Batch size is torch.Size([106]) and torch.Size([106]).\n",
            "Epoch: 5\n",
            "Training loss: 0.308,Training accuracy: 0.871\n",
            "Validation loss: 0.344,Validation accuracy: 0.861\n",
            "\n",
            "\n"
          ]
        },
        {
          "output_type": "stream",
          "name": "stderr",
          "text": [
            "\rModel training in progress...:   0%|          | 0/49 [00:00<?, ?it/s]"
          ]
        },
        {
          "output_type": "stream",
          "name": "stdout",
          "text": [
            "Batch size is torch.Size([512]) and torch.Size([512]).\n"
          ]
        },
        {
          "output_type": "stream",
          "name": "stderr",
          "text": [
            "\rModel training in progress...:   2%|▏         | 1/49 [00:00<00:43,  1.10it/s]"
          ]
        },
        {
          "output_type": "stream",
          "name": "stdout",
          "text": [
            "Batch size is torch.Size([512]) and torch.Size([512]).\n"
          ]
        },
        {
          "output_type": "stream",
          "name": "stderr",
          "text": [
            "\rModel training in progress...:   4%|▍         | 2/49 [00:01<00:42,  1.10it/s]"
          ]
        },
        {
          "output_type": "stream",
          "name": "stdout",
          "text": [
            "Batch size is torch.Size([512]) and torch.Size([512]).\n"
          ]
        },
        {
          "output_type": "stream",
          "name": "stderr",
          "text": [
            "\rModel training in progress...:   6%|▌         | 3/49 [00:02<00:41,  1.11it/s]"
          ]
        },
        {
          "output_type": "stream",
          "name": "stdout",
          "text": [
            "Batch size is torch.Size([512]) and torch.Size([512]).\n"
          ]
        },
        {
          "output_type": "stream",
          "name": "stderr",
          "text": [
            "\rModel training in progress...:   8%|▊         | 4/49 [00:03<00:39,  1.13it/s]"
          ]
        },
        {
          "output_type": "stream",
          "name": "stdout",
          "text": [
            "Batch size is torch.Size([512]) and torch.Size([512]).\n"
          ]
        },
        {
          "output_type": "stream",
          "name": "stderr",
          "text": [
            "\rModel training in progress...:  10%|█         | 5/49 [00:04<00:39,  1.12it/s]"
          ]
        },
        {
          "output_type": "stream",
          "name": "stdout",
          "text": [
            "Batch size is torch.Size([512]) and torch.Size([512]).\n"
          ]
        },
        {
          "output_type": "stream",
          "name": "stderr",
          "text": [
            "\rModel training in progress...:  12%|█▏        | 6/49 [00:05<00:38,  1.12it/s]"
          ]
        },
        {
          "output_type": "stream",
          "name": "stdout",
          "text": [
            "Batch size is torch.Size([512]) and torch.Size([512]).\n"
          ]
        },
        {
          "output_type": "stream",
          "name": "stderr",
          "text": [
            "\rModel training in progress...:  14%|█▍        | 7/49 [00:06<00:37,  1.13it/s]"
          ]
        },
        {
          "output_type": "stream",
          "name": "stdout",
          "text": [
            "Batch size is torch.Size([512]) and torch.Size([512]).\n"
          ]
        },
        {
          "output_type": "stream",
          "name": "stderr",
          "text": [
            "\rModel training in progress...:  16%|█▋        | 8/49 [00:07<00:36,  1.12it/s]"
          ]
        },
        {
          "output_type": "stream",
          "name": "stdout",
          "text": [
            "Batch size is torch.Size([512]) and torch.Size([512]).\n"
          ]
        },
        {
          "output_type": "stream",
          "name": "stderr",
          "text": [
            "\rModel training in progress...:  18%|█▊        | 9/49 [00:07<00:35,  1.14it/s]"
          ]
        },
        {
          "output_type": "stream",
          "name": "stdout",
          "text": [
            "Batch size is torch.Size([512]) and torch.Size([512]).\n"
          ]
        },
        {
          "output_type": "stream",
          "name": "stderr",
          "text": [
            "\rModel training in progress...:  20%|██        | 10/49 [00:08<00:34,  1.13it/s]"
          ]
        },
        {
          "output_type": "stream",
          "name": "stdout",
          "text": [
            "Batch size is torch.Size([512]) and torch.Size([512]).\n"
          ]
        },
        {
          "output_type": "stream",
          "name": "stderr",
          "text": [
            "\rModel training in progress...:  22%|██▏       | 11/49 [00:09<00:33,  1.13it/s]"
          ]
        },
        {
          "output_type": "stream",
          "name": "stdout",
          "text": [
            "Batch size is torch.Size([512]) and torch.Size([512]).\n"
          ]
        },
        {
          "output_type": "stream",
          "name": "stderr",
          "text": [
            "\rModel training in progress...:  24%|██▍       | 12/49 [00:10<00:32,  1.13it/s]"
          ]
        },
        {
          "output_type": "stream",
          "name": "stdout",
          "text": [
            "Batch size is torch.Size([512]) and torch.Size([512]).\n"
          ]
        },
        {
          "output_type": "stream",
          "name": "stderr",
          "text": [
            "\rModel training in progress...:  27%|██▋       | 13/49 [00:11<00:31,  1.14it/s]"
          ]
        },
        {
          "output_type": "stream",
          "name": "stdout",
          "text": [
            "Batch size is torch.Size([512]) and torch.Size([512]).\n"
          ]
        },
        {
          "output_type": "stream",
          "name": "stderr",
          "text": [
            "\rModel training in progress...:  29%|██▊       | 14/49 [00:12<00:31,  1.12it/s]"
          ]
        },
        {
          "output_type": "stream",
          "name": "stdout",
          "text": [
            "Batch size is torch.Size([512]) and torch.Size([512]).\n"
          ]
        },
        {
          "output_type": "stream",
          "name": "stderr",
          "text": [
            "\rModel training in progress...:  31%|███       | 15/49 [00:13<00:30,  1.12it/s]"
          ]
        },
        {
          "output_type": "stream",
          "name": "stdout",
          "text": [
            "Batch size is torch.Size([512]) and torch.Size([512]).\n"
          ]
        },
        {
          "output_type": "stream",
          "name": "stderr",
          "text": [
            "\rModel training in progress...:  33%|███▎      | 16/49 [00:14<00:29,  1.13it/s]"
          ]
        },
        {
          "output_type": "stream",
          "name": "stdout",
          "text": [
            "Batch size is torch.Size([512]) and torch.Size([512]).\n"
          ]
        },
        {
          "output_type": "stream",
          "name": "stderr",
          "text": [
            "\rModel training in progress...:  35%|███▍      | 17/49 [00:15<00:28,  1.13it/s]"
          ]
        },
        {
          "output_type": "stream",
          "name": "stdout",
          "text": [
            "Batch size is torch.Size([512]) and torch.Size([512]).\n"
          ]
        },
        {
          "output_type": "stream",
          "name": "stderr",
          "text": [
            "\rModel training in progress...:  37%|███▋      | 18/49 [00:15<00:27,  1.13it/s]"
          ]
        },
        {
          "output_type": "stream",
          "name": "stdout",
          "text": [
            "Batch size is torch.Size([512]) and torch.Size([512]).\n"
          ]
        },
        {
          "output_type": "stream",
          "name": "stderr",
          "text": [
            "\rModel training in progress...:  39%|███▉      | 19/49 [00:16<00:26,  1.13it/s]"
          ]
        },
        {
          "output_type": "stream",
          "name": "stdout",
          "text": [
            "Batch size is torch.Size([512]) and torch.Size([512]).\n"
          ]
        },
        {
          "output_type": "stream",
          "name": "stderr",
          "text": [
            "\rModel training in progress...:  41%|████      | 20/49 [00:17<00:25,  1.13it/s]"
          ]
        },
        {
          "output_type": "stream",
          "name": "stdout",
          "text": [
            "Batch size is torch.Size([512]) and torch.Size([512]).\n"
          ]
        },
        {
          "output_type": "stream",
          "name": "stderr",
          "text": [
            "\rModel training in progress...:  43%|████▎     | 21/49 [00:18<00:24,  1.13it/s]"
          ]
        },
        {
          "output_type": "stream",
          "name": "stdout",
          "text": [
            "Batch size is torch.Size([512]) and torch.Size([512]).\n"
          ]
        },
        {
          "output_type": "stream",
          "name": "stderr",
          "text": [
            "\rModel training in progress...:  45%|████▍     | 22/49 [00:19<00:23,  1.13it/s]"
          ]
        },
        {
          "output_type": "stream",
          "name": "stdout",
          "text": [
            "Batch size is torch.Size([512]) and torch.Size([512]).\n"
          ]
        },
        {
          "output_type": "stream",
          "name": "stderr",
          "text": [
            "\rModel training in progress...:  47%|████▋     | 23/49 [00:20<00:23,  1.13it/s]"
          ]
        },
        {
          "output_type": "stream",
          "name": "stdout",
          "text": [
            "Batch size is torch.Size([512]) and torch.Size([512]).\n"
          ]
        },
        {
          "output_type": "stream",
          "name": "stderr",
          "text": [
            "\rModel training in progress...:  49%|████▉     | 24/49 [00:21<00:22,  1.13it/s]"
          ]
        },
        {
          "output_type": "stream",
          "name": "stdout",
          "text": [
            "Batch size is torch.Size([512]) and torch.Size([512]).\n"
          ]
        },
        {
          "output_type": "stream",
          "name": "stderr",
          "text": [
            "\rModel training in progress...:  51%|█████     | 25/49 [00:22<00:21,  1.11it/s]"
          ]
        },
        {
          "output_type": "stream",
          "name": "stdout",
          "text": [
            "Batch size is torch.Size([512]) and torch.Size([512]).\n"
          ]
        },
        {
          "output_type": "stream",
          "name": "stderr",
          "text": [
            "\rModel training in progress...:  53%|█████▎    | 26/49 [00:23<00:20,  1.13it/s]"
          ]
        },
        {
          "output_type": "stream",
          "name": "stdout",
          "text": [
            "Batch size is torch.Size([512]) and torch.Size([512]).\n"
          ]
        },
        {
          "output_type": "stream",
          "name": "stderr",
          "text": [
            "\rModel training in progress...:  55%|█████▌    | 27/49 [00:23<00:19,  1.13it/s]"
          ]
        },
        {
          "output_type": "stream",
          "name": "stdout",
          "text": [
            "Batch size is torch.Size([512]) and torch.Size([512]).\n"
          ]
        },
        {
          "output_type": "stream",
          "name": "stderr",
          "text": [
            "\rModel training in progress...:  57%|█████▋    | 28/49 [00:24<00:18,  1.13it/s]"
          ]
        },
        {
          "output_type": "stream",
          "name": "stdout",
          "text": [
            "Batch size is torch.Size([512]) and torch.Size([512]).\n"
          ]
        },
        {
          "output_type": "stream",
          "name": "stderr",
          "text": [
            "\rModel training in progress...:  59%|█████▉    | 29/49 [00:25<00:17,  1.13it/s]"
          ]
        },
        {
          "output_type": "stream",
          "name": "stdout",
          "text": [
            "Batch size is torch.Size([512]) and torch.Size([512]).\n"
          ]
        },
        {
          "output_type": "stream",
          "name": "stderr",
          "text": [
            "\rModel training in progress...:  61%|██████    | 30/49 [00:26<00:16,  1.13it/s]"
          ]
        },
        {
          "output_type": "stream",
          "name": "stdout",
          "text": [
            "Batch size is torch.Size([512]) and torch.Size([512]).\n"
          ]
        },
        {
          "output_type": "stream",
          "name": "stderr",
          "text": [
            "\rModel training in progress...:  63%|██████▎   | 31/49 [00:27<00:16,  1.12it/s]"
          ]
        },
        {
          "output_type": "stream",
          "name": "stdout",
          "text": [
            "Batch size is torch.Size([512]) and torch.Size([512]).\n"
          ]
        },
        {
          "output_type": "stream",
          "name": "stderr",
          "text": [
            "\rModel training in progress...:  65%|██████▌   | 32/49 [00:28<00:15,  1.13it/s]"
          ]
        },
        {
          "output_type": "stream",
          "name": "stdout",
          "text": [
            "Batch size is torch.Size([512]) and torch.Size([512]).\n"
          ]
        },
        {
          "output_type": "stream",
          "name": "stderr",
          "text": [
            "\rModel training in progress...:  67%|██████▋   | 33/49 [00:29<00:13,  1.15it/s]"
          ]
        },
        {
          "output_type": "stream",
          "name": "stdout",
          "text": [
            "Batch size is torch.Size([512]) and torch.Size([512]).\n"
          ]
        },
        {
          "output_type": "stream",
          "name": "stderr",
          "text": [
            "\rModel training in progress...:  69%|██████▉   | 34/49 [00:30<00:13,  1.14it/s]"
          ]
        },
        {
          "output_type": "stream",
          "name": "stdout",
          "text": [
            "Batch size is torch.Size([512]) and torch.Size([512]).\n"
          ]
        },
        {
          "output_type": "stream",
          "name": "stderr",
          "text": [
            "\rModel training in progress...:  71%|███████▏  | 35/49 [00:31<00:12,  1.13it/s]"
          ]
        },
        {
          "output_type": "stream",
          "name": "stdout",
          "text": [
            "Batch size is torch.Size([512]) and torch.Size([512]).\n"
          ]
        },
        {
          "output_type": "stream",
          "name": "stderr",
          "text": [
            "\rModel training in progress...:  73%|███████▎  | 36/49 [00:31<00:11,  1.13it/s]"
          ]
        },
        {
          "output_type": "stream",
          "name": "stdout",
          "text": [
            "Batch size is torch.Size([512]) and torch.Size([512]).\n"
          ]
        },
        {
          "output_type": "stream",
          "name": "stderr",
          "text": [
            "\rModel training in progress...:  76%|███████▌  | 37/49 [00:32<00:10,  1.13it/s]"
          ]
        },
        {
          "output_type": "stream",
          "name": "stdout",
          "text": [
            "Batch size is torch.Size([512]) and torch.Size([512]).\n"
          ]
        },
        {
          "output_type": "stream",
          "name": "stderr",
          "text": [
            "\rModel training in progress...:  78%|███████▊  | 38/49 [00:33<00:09,  1.13it/s]"
          ]
        },
        {
          "output_type": "stream",
          "name": "stdout",
          "text": [
            "Batch size is torch.Size([512]) and torch.Size([512]).\n"
          ]
        },
        {
          "output_type": "stream",
          "name": "stderr",
          "text": [
            "\rModel training in progress...:  80%|███████▉  | 39/49 [00:34<00:08,  1.13it/s]"
          ]
        },
        {
          "output_type": "stream",
          "name": "stdout",
          "text": [
            "Batch size is torch.Size([512]) and torch.Size([512]).\n"
          ]
        },
        {
          "output_type": "stream",
          "name": "stderr",
          "text": [
            "\rModel training in progress...:  82%|████████▏ | 40/49 [00:35<00:07,  1.13it/s]"
          ]
        },
        {
          "output_type": "stream",
          "name": "stdout",
          "text": [
            "Batch size is torch.Size([512]) and torch.Size([512]).\n"
          ]
        },
        {
          "output_type": "stream",
          "name": "stderr",
          "text": [
            "\rModel training in progress...:  84%|████████▎ | 41/49 [00:36<00:07,  1.13it/s]"
          ]
        },
        {
          "output_type": "stream",
          "name": "stdout",
          "text": [
            "Batch size is torch.Size([512]) and torch.Size([512]).\n"
          ]
        },
        {
          "output_type": "stream",
          "name": "stderr",
          "text": [
            "\rModel training in progress...:  86%|████████▌ | 42/49 [00:37<00:06,  1.13it/s]"
          ]
        },
        {
          "output_type": "stream",
          "name": "stdout",
          "text": [
            "Batch size is torch.Size([512]) and torch.Size([512]).\n"
          ]
        },
        {
          "output_type": "stream",
          "name": "stderr",
          "text": [
            "\rModel training in progress...:  88%|████████▊ | 43/49 [00:38<00:05,  1.13it/s]"
          ]
        },
        {
          "output_type": "stream",
          "name": "stdout",
          "text": [
            "Batch size is torch.Size([512]) and torch.Size([512]).\n"
          ]
        },
        {
          "output_type": "stream",
          "name": "stderr",
          "text": [
            "\rModel training in progress...:  90%|████████▉ | 44/49 [00:38<00:04,  1.13it/s]"
          ]
        },
        {
          "output_type": "stream",
          "name": "stdout",
          "text": [
            "Batch size is torch.Size([512]) and torch.Size([512]).\n"
          ]
        },
        {
          "output_type": "stream",
          "name": "stderr",
          "text": [
            "\rModel training in progress...:  92%|█████████▏| 45/49 [00:39<00:03,  1.13it/s]"
          ]
        },
        {
          "output_type": "stream",
          "name": "stdout",
          "text": [
            "Batch size is torch.Size([512]) and torch.Size([512]).\n"
          ]
        },
        {
          "output_type": "stream",
          "name": "stderr",
          "text": [
            "\rModel training in progress...:  94%|█████████▍| 46/49 [00:40<00:02,  1.14it/s]"
          ]
        },
        {
          "output_type": "stream",
          "name": "stdout",
          "text": [
            "Batch size is torch.Size([512]) and torch.Size([512]).\n"
          ]
        },
        {
          "output_type": "stream",
          "name": "stderr",
          "text": [
            "\rModel training in progress...:  96%|█████████▌| 47/49 [00:41<00:01,  1.13it/s]"
          ]
        },
        {
          "output_type": "stream",
          "name": "stdout",
          "text": [
            "Batch size is torch.Size([512]) and torch.Size([512]).\n"
          ]
        },
        {
          "output_type": "stream",
          "name": "stderr",
          "text": [
            "\rModel training in progress...:  98%|█████████▊| 48/49 [00:42<00:00,  1.14it/s]"
          ]
        },
        {
          "output_type": "stream",
          "name": "stdout",
          "text": [
            "Batch size is torch.Size([424]) and torch.Size([424]).\n"
          ]
        },
        {
          "output_type": "stream",
          "name": "stderr",
          "text": [
            "Model training in progress...: 100%|██████████| 49/49 [00:43<00:00,  1.13it/s]\n",
            "Model validation in progress...:   0%|          | 0/13 [00:00<?, ?it/s]"
          ]
        },
        {
          "output_type": "stream",
          "name": "stdout",
          "text": [
            "Batch size is torch.Size([512]) and torch.Size([512]).\n"
          ]
        },
        {
          "output_type": "stream",
          "name": "stderr",
          "text": [
            "\rModel validation in progress...:   8%|▊         | 1/13 [00:00<00:03,  3.60it/s]"
          ]
        },
        {
          "output_type": "stream",
          "name": "stdout",
          "text": [
            "Batch size is torch.Size([512]) and torch.Size([512]).\n"
          ]
        },
        {
          "output_type": "stream",
          "name": "stderr",
          "text": [
            "\rModel validation in progress...:  15%|█▌        | 2/13 [00:00<00:03,  3.56it/s]"
          ]
        },
        {
          "output_type": "stream",
          "name": "stdout",
          "text": [
            "Batch size is torch.Size([512]) and torch.Size([512]).\n"
          ]
        },
        {
          "output_type": "stream",
          "name": "stderr",
          "text": [
            "\rModel validation in progress...:  23%|██▎       | 3/13 [00:00<00:02,  3.55it/s]"
          ]
        },
        {
          "output_type": "stream",
          "name": "stdout",
          "text": [
            "Batch size is torch.Size([512]) and torch.Size([512]).\n"
          ]
        },
        {
          "output_type": "stream",
          "name": "stderr",
          "text": [
            "\rModel validation in progress...:  31%|███       | 4/13 [00:01<00:02,  3.52it/s]"
          ]
        },
        {
          "output_type": "stream",
          "name": "stdout",
          "text": [
            "Batch size is torch.Size([512]) and torch.Size([512]).\n"
          ]
        },
        {
          "output_type": "stream",
          "name": "stderr",
          "text": [
            "\rModel validation in progress...:  38%|███▊      | 5/13 [00:01<00:02,  3.50it/s]"
          ]
        },
        {
          "output_type": "stream",
          "name": "stdout",
          "text": [
            "Batch size is torch.Size([512]) and torch.Size([512]).\n"
          ]
        },
        {
          "output_type": "stream",
          "name": "stderr",
          "text": [
            "\rModel validation in progress...:  46%|████▌     | 6/13 [00:01<00:01,  3.53it/s]"
          ]
        },
        {
          "output_type": "stream",
          "name": "stdout",
          "text": [
            "Batch size is torch.Size([512]) and torch.Size([512]).\n"
          ]
        },
        {
          "output_type": "stream",
          "name": "stderr",
          "text": [
            "\rModel validation in progress...:  54%|█████▍    | 7/13 [00:01<00:01,  3.50it/s]"
          ]
        },
        {
          "output_type": "stream",
          "name": "stdout",
          "text": [
            "Batch size is torch.Size([512]) and torch.Size([512]).\n"
          ]
        },
        {
          "output_type": "stream",
          "name": "stderr",
          "text": [
            "\rModel validation in progress...:  62%|██████▏   | 8/13 [00:02<00:01,  3.49it/s]"
          ]
        },
        {
          "output_type": "stream",
          "name": "stdout",
          "text": [
            "Batch size is torch.Size([512]) and torch.Size([512]).\n"
          ]
        },
        {
          "output_type": "stream",
          "name": "stderr",
          "text": [
            "\rModel validation in progress...:  69%|██████▉   | 9/13 [00:02<00:01,  3.48it/s]"
          ]
        },
        {
          "output_type": "stream",
          "name": "stdout",
          "text": [
            "Batch size is torch.Size([512]) and torch.Size([512]).\n"
          ]
        },
        {
          "output_type": "stream",
          "name": "stderr",
          "text": [
            "\rModel validation in progress...:  77%|███████▋  | 10/13 [00:02<00:00,  3.54it/s]"
          ]
        },
        {
          "output_type": "stream",
          "name": "stdout",
          "text": [
            "Batch size is torch.Size([512]) and torch.Size([512]).\n"
          ]
        },
        {
          "output_type": "stream",
          "name": "stderr",
          "text": [
            "\rModel validation in progress...:  85%|████████▍ | 11/13 [00:03<00:00,  3.55it/s]"
          ]
        },
        {
          "output_type": "stream",
          "name": "stdout",
          "text": [
            "Batch size is torch.Size([512]) and torch.Size([512]).\n"
          ]
        },
        {
          "output_type": "stream",
          "name": "stderr",
          "text": [
            "Model validation in progress...: 100%|██████████| 13/13 [00:03<00:00,  3.72it/s]\n"
          ]
        },
        {
          "output_type": "stream",
          "name": "stdout",
          "text": [
            "Batch size is torch.Size([106]) and torch.Size([106]).\n",
            "Epoch: 6\n",
            "Training loss: 0.259,Training accuracy: 0.894\n",
            "Validation loss: 0.403,Validation accuracy: 0.863\n",
            "\n",
            "\n"
          ]
        },
        {
          "output_type": "stream",
          "name": "stderr",
          "text": [
            "\rModel training in progress...:   0%|          | 0/49 [00:00<?, ?it/s]"
          ]
        },
        {
          "output_type": "stream",
          "name": "stdout",
          "text": [
            "Batch size is torch.Size([512]) and torch.Size([512]).\n"
          ]
        },
        {
          "output_type": "stream",
          "name": "stderr",
          "text": [
            "\rModel training in progress...:   2%|▏         | 1/49 [00:00<00:43,  1.10it/s]"
          ]
        },
        {
          "output_type": "stream",
          "name": "stdout",
          "text": [
            "Batch size is torch.Size([512]) and torch.Size([512]).\n"
          ]
        },
        {
          "output_type": "stream",
          "name": "stderr",
          "text": [
            "\rModel training in progress...:   4%|▍         | 2/49 [00:01<00:42,  1.11it/s]"
          ]
        },
        {
          "output_type": "stream",
          "name": "stdout",
          "text": [
            "Batch size is torch.Size([512]) and torch.Size([512]).\n"
          ]
        },
        {
          "output_type": "stream",
          "name": "stderr",
          "text": [
            "\rModel training in progress...:   6%|▌         | 3/49 [00:02<00:41,  1.12it/s]"
          ]
        },
        {
          "output_type": "stream",
          "name": "stdout",
          "text": [
            "Batch size is torch.Size([512]) and torch.Size([512]).\n"
          ]
        },
        {
          "output_type": "stream",
          "name": "stderr",
          "text": [
            "\rModel training in progress...:   8%|▊         | 4/49 [00:03<00:40,  1.12it/s]"
          ]
        },
        {
          "output_type": "stream",
          "name": "stdout",
          "text": [
            "Batch size is torch.Size([512]) and torch.Size([512]).\n"
          ]
        },
        {
          "output_type": "stream",
          "name": "stderr",
          "text": [
            "\rModel training in progress...:  10%|█         | 5/49 [00:04<00:38,  1.14it/s]"
          ]
        },
        {
          "output_type": "stream",
          "name": "stdout",
          "text": [
            "Batch size is torch.Size([512]) and torch.Size([512]).\n"
          ]
        },
        {
          "output_type": "stream",
          "name": "stderr",
          "text": [
            "\rModel training in progress...:  12%|█▏        | 6/49 [00:05<00:37,  1.14it/s]"
          ]
        },
        {
          "output_type": "stream",
          "name": "stdout",
          "text": [
            "Batch size is torch.Size([512]) and torch.Size([512]).\n"
          ]
        },
        {
          "output_type": "stream",
          "name": "stderr",
          "text": [
            "\rModel training in progress...:  14%|█▍        | 7/49 [00:06<00:37,  1.13it/s]"
          ]
        },
        {
          "output_type": "stream",
          "name": "stdout",
          "text": [
            "Batch size is torch.Size([512]) and torch.Size([512]).\n"
          ]
        },
        {
          "output_type": "stream",
          "name": "stderr",
          "text": [
            "\rModel training in progress...:  16%|█▋        | 8/49 [00:07<00:36,  1.12it/s]"
          ]
        },
        {
          "output_type": "stream",
          "name": "stdout",
          "text": [
            "Batch size is torch.Size([512]) and torch.Size([512]).\n"
          ]
        },
        {
          "output_type": "stream",
          "name": "stderr",
          "text": [
            "\rModel training in progress...:  18%|█▊        | 9/49 [00:07<00:35,  1.13it/s]"
          ]
        },
        {
          "output_type": "stream",
          "name": "stdout",
          "text": [
            "Batch size is torch.Size([512]) and torch.Size([512]).\n"
          ]
        },
        {
          "output_type": "stream",
          "name": "stderr",
          "text": [
            "\rModel training in progress...:  20%|██        | 10/49 [00:08<00:34,  1.13it/s]"
          ]
        },
        {
          "output_type": "stream",
          "name": "stdout",
          "text": [
            "Batch size is torch.Size([512]) and torch.Size([512]).\n"
          ]
        },
        {
          "output_type": "stream",
          "name": "stderr",
          "text": [
            "\rModel training in progress...:  22%|██▏       | 11/49 [00:09<00:33,  1.13it/s]"
          ]
        },
        {
          "output_type": "stream",
          "name": "stdout",
          "text": [
            "Batch size is torch.Size([512]) and torch.Size([512]).\n"
          ]
        },
        {
          "output_type": "stream",
          "name": "stderr",
          "text": [
            "\rModel training in progress...:  24%|██▍       | 12/49 [00:10<00:32,  1.13it/s]"
          ]
        },
        {
          "output_type": "stream",
          "name": "stdout",
          "text": [
            "Batch size is torch.Size([512]) and torch.Size([512]).\n"
          ]
        },
        {
          "output_type": "stream",
          "name": "stderr",
          "text": [
            "\rModel training in progress...:  27%|██▋       | 13/49 [00:11<00:32,  1.12it/s]"
          ]
        },
        {
          "output_type": "stream",
          "name": "stdout",
          "text": [
            "Batch size is torch.Size([512]) and torch.Size([512]).\n"
          ]
        },
        {
          "output_type": "stream",
          "name": "stderr",
          "text": [
            "\rModel training in progress...:  29%|██▊       | 14/49 [00:12<00:31,  1.12it/s]"
          ]
        },
        {
          "output_type": "stream",
          "name": "stdout",
          "text": [
            "Batch size is torch.Size([512]) and torch.Size([512]).\n"
          ]
        },
        {
          "output_type": "stream",
          "name": "stderr",
          "text": [
            "\rModel training in progress...:  31%|███       | 15/49 [00:13<00:30,  1.12it/s]"
          ]
        },
        {
          "output_type": "stream",
          "name": "stdout",
          "text": [
            "Batch size is torch.Size([512]) and torch.Size([512]).\n"
          ]
        },
        {
          "output_type": "stream",
          "name": "stderr",
          "text": [
            "\rModel training in progress...:  33%|███▎      | 16/49 [00:14<00:29,  1.11it/s]"
          ]
        },
        {
          "output_type": "stream",
          "name": "stdout",
          "text": [
            "Batch size is torch.Size([512]) and torch.Size([512]).\n"
          ]
        },
        {
          "output_type": "stream",
          "name": "stderr",
          "text": [
            "\rModel training in progress...:  35%|███▍      | 17/49 [00:15<00:28,  1.13it/s]"
          ]
        },
        {
          "output_type": "stream",
          "name": "stdout",
          "text": [
            "Batch size is torch.Size([512]) and torch.Size([512]).\n"
          ]
        },
        {
          "output_type": "stream",
          "name": "stderr",
          "text": [
            "\rModel training in progress...:  37%|███▋      | 18/49 [00:15<00:27,  1.13it/s]"
          ]
        },
        {
          "output_type": "stream",
          "name": "stdout",
          "text": [
            "Batch size is torch.Size([512]) and torch.Size([512]).\n"
          ]
        },
        {
          "output_type": "stream",
          "name": "stderr",
          "text": [
            "\rModel training in progress...:  39%|███▉      | 19/49 [00:16<00:26,  1.12it/s]"
          ]
        },
        {
          "output_type": "stream",
          "name": "stdout",
          "text": [
            "Batch size is torch.Size([512]) and torch.Size([512]).\n"
          ]
        },
        {
          "output_type": "stream",
          "name": "stderr",
          "text": [
            "\rModel training in progress...:  41%|████      | 20/49 [00:17<00:25,  1.12it/s]"
          ]
        },
        {
          "output_type": "stream",
          "name": "stdout",
          "text": [
            "Batch size is torch.Size([512]) and torch.Size([512]).\n"
          ]
        },
        {
          "output_type": "stream",
          "name": "stderr",
          "text": [
            "\rModel training in progress...:  43%|████▎     | 21/49 [00:18<00:24,  1.13it/s]"
          ]
        },
        {
          "output_type": "stream",
          "name": "stdout",
          "text": [
            "Batch size is torch.Size([512]) and torch.Size([512]).\n"
          ]
        },
        {
          "output_type": "stream",
          "name": "stderr",
          "text": [
            "\rModel training in progress...:  45%|████▍     | 22/49 [00:19<00:23,  1.13it/s]"
          ]
        },
        {
          "output_type": "stream",
          "name": "stdout",
          "text": [
            "Batch size is torch.Size([512]) and torch.Size([512]).\n"
          ]
        },
        {
          "output_type": "stream",
          "name": "stderr",
          "text": [
            "\rModel training in progress...:  47%|████▋     | 23/49 [00:20<00:22,  1.14it/s]"
          ]
        },
        {
          "output_type": "stream",
          "name": "stdout",
          "text": [
            "Batch size is torch.Size([512]) and torch.Size([512]).\n"
          ]
        },
        {
          "output_type": "stream",
          "name": "stderr",
          "text": [
            "\rModel training in progress...:  49%|████▉     | 24/49 [00:21<00:22,  1.13it/s]"
          ]
        },
        {
          "output_type": "stream",
          "name": "stdout",
          "text": [
            "Batch size is torch.Size([512]) and torch.Size([512]).\n"
          ]
        },
        {
          "output_type": "stream",
          "name": "stderr",
          "text": [
            "\rModel training in progress...:  51%|█████     | 25/49 [00:22<00:21,  1.14it/s]"
          ]
        },
        {
          "output_type": "stream",
          "name": "stdout",
          "text": [
            "Batch size is torch.Size([512]) and torch.Size([512]).\n"
          ]
        },
        {
          "output_type": "stream",
          "name": "stderr",
          "text": [
            "\rModel training in progress...:  53%|█████▎    | 26/49 [00:23<00:20,  1.12it/s]"
          ]
        },
        {
          "output_type": "stream",
          "name": "stdout",
          "text": [
            "Batch size is torch.Size([512]) and torch.Size([512]).\n"
          ]
        },
        {
          "output_type": "stream",
          "name": "stderr",
          "text": [
            "\rModel training in progress...:  55%|█████▌    | 27/49 [00:23<00:19,  1.12it/s]"
          ]
        },
        {
          "output_type": "stream",
          "name": "stdout",
          "text": [
            "Batch size is torch.Size([512]) and torch.Size([512]).\n"
          ]
        },
        {
          "output_type": "stream",
          "name": "stderr",
          "text": [
            "\rModel training in progress...:  57%|█████▋    | 28/49 [00:24<00:18,  1.13it/s]"
          ]
        },
        {
          "output_type": "stream",
          "name": "stdout",
          "text": [
            "Batch size is torch.Size([512]) and torch.Size([512]).\n"
          ]
        },
        {
          "output_type": "stream",
          "name": "stderr",
          "text": [
            "\rModel training in progress...:  59%|█████▉    | 29/49 [00:25<00:17,  1.13it/s]"
          ]
        },
        {
          "output_type": "stream",
          "name": "stdout",
          "text": [
            "Batch size is torch.Size([512]) and torch.Size([512]).\n"
          ]
        },
        {
          "output_type": "stream",
          "name": "stderr",
          "text": [
            "\rModel training in progress...:  61%|██████    | 30/49 [00:26<00:16,  1.13it/s]"
          ]
        },
        {
          "output_type": "stream",
          "name": "stdout",
          "text": [
            "Batch size is torch.Size([512]) and torch.Size([512]).\n"
          ]
        },
        {
          "output_type": "stream",
          "name": "stderr",
          "text": [
            "\rModel training in progress...:  63%|██████▎   | 31/49 [00:27<00:15,  1.13it/s]"
          ]
        },
        {
          "output_type": "stream",
          "name": "stdout",
          "text": [
            "Batch size is torch.Size([512]) and torch.Size([512]).\n"
          ]
        },
        {
          "output_type": "stream",
          "name": "stderr",
          "text": [
            "\rModel training in progress...:  65%|██████▌   | 32/49 [00:28<00:15,  1.12it/s]"
          ]
        },
        {
          "output_type": "stream",
          "name": "stdout",
          "text": [
            "Batch size is torch.Size([512]) and torch.Size([512]).\n"
          ]
        },
        {
          "output_type": "stream",
          "name": "stderr",
          "text": [
            "\rModel training in progress...:  67%|██████▋   | 33/49 [00:29<00:14,  1.13it/s]"
          ]
        },
        {
          "output_type": "stream",
          "name": "stdout",
          "text": [
            "Batch size is torch.Size([512]) and torch.Size([512]).\n"
          ]
        },
        {
          "output_type": "stream",
          "name": "stderr",
          "text": [
            "\rModel training in progress...:  69%|██████▉   | 34/49 [00:30<00:13,  1.14it/s]"
          ]
        },
        {
          "output_type": "stream",
          "name": "stdout",
          "text": [
            "Batch size is torch.Size([512]) and torch.Size([512]).\n"
          ]
        },
        {
          "output_type": "stream",
          "name": "stderr",
          "text": [
            "\rModel training in progress...:  71%|███████▏  | 35/49 [00:31<00:12,  1.14it/s]"
          ]
        },
        {
          "output_type": "stream",
          "name": "stdout",
          "text": [
            "Batch size is torch.Size([512]) and torch.Size([512]).\n"
          ]
        },
        {
          "output_type": "stream",
          "name": "stderr",
          "text": [
            "\rModel training in progress...:  73%|███████▎  | 36/49 [00:31<00:11,  1.14it/s]"
          ]
        },
        {
          "output_type": "stream",
          "name": "stdout",
          "text": [
            "Batch size is torch.Size([512]) and torch.Size([512]).\n"
          ]
        },
        {
          "output_type": "stream",
          "name": "stderr",
          "text": [
            "\rModel training in progress...:  76%|███████▌  | 37/49 [00:32<00:10,  1.13it/s]"
          ]
        },
        {
          "output_type": "stream",
          "name": "stdout",
          "text": [
            "Batch size is torch.Size([512]) and torch.Size([512]).\n"
          ]
        },
        {
          "output_type": "stream",
          "name": "stderr",
          "text": [
            "\rModel training in progress...:  78%|███████▊  | 38/49 [00:33<00:09,  1.14it/s]"
          ]
        },
        {
          "output_type": "stream",
          "name": "stdout",
          "text": [
            "Batch size is torch.Size([512]) and torch.Size([512]).\n"
          ]
        },
        {
          "output_type": "stream",
          "name": "stderr",
          "text": [
            "\rModel training in progress...:  80%|███████▉  | 39/49 [00:34<00:08,  1.13it/s]"
          ]
        },
        {
          "output_type": "stream",
          "name": "stdout",
          "text": [
            "Batch size is torch.Size([512]) and torch.Size([512]).\n"
          ]
        },
        {
          "output_type": "stream",
          "name": "stderr",
          "text": [
            "\rModel training in progress...:  82%|████████▏ | 40/49 [00:35<00:07,  1.13it/s]"
          ]
        },
        {
          "output_type": "stream",
          "name": "stdout",
          "text": [
            "Batch size is torch.Size([512]) and torch.Size([512]).\n"
          ]
        },
        {
          "output_type": "stream",
          "name": "stderr",
          "text": [
            "\rModel training in progress...:  84%|████████▎ | 41/49 [00:36<00:07,  1.13it/s]"
          ]
        },
        {
          "output_type": "stream",
          "name": "stdout",
          "text": [
            "Batch size is torch.Size([512]) and torch.Size([512]).\n"
          ]
        },
        {
          "output_type": "stream",
          "name": "stderr",
          "text": [
            "\rModel training in progress...:  86%|████████▌ | 42/49 [00:37<00:06,  1.13it/s]"
          ]
        },
        {
          "output_type": "stream",
          "name": "stdout",
          "text": [
            "Batch size is torch.Size([512]) and torch.Size([512]).\n"
          ]
        },
        {
          "output_type": "stream",
          "name": "stderr",
          "text": [
            "\rModel training in progress...:  88%|████████▊ | 43/49 [00:38<00:05,  1.13it/s]"
          ]
        },
        {
          "output_type": "stream",
          "name": "stdout",
          "text": [
            "Batch size is torch.Size([512]) and torch.Size([512]).\n"
          ]
        },
        {
          "output_type": "stream",
          "name": "stderr",
          "text": [
            "\rModel training in progress...:  90%|████████▉ | 44/49 [00:38<00:04,  1.13it/s]"
          ]
        },
        {
          "output_type": "stream",
          "name": "stdout",
          "text": [
            "Batch size is torch.Size([512]) and torch.Size([512]).\n"
          ]
        },
        {
          "output_type": "stream",
          "name": "stderr",
          "text": [
            "\rModel training in progress...:  92%|█████████▏| 45/49 [00:39<00:03,  1.12it/s]"
          ]
        },
        {
          "output_type": "stream",
          "name": "stdout",
          "text": [
            "Batch size is torch.Size([512]) and torch.Size([512]).\n"
          ]
        },
        {
          "output_type": "stream",
          "name": "stderr",
          "text": [
            "\rModel training in progress...:  94%|█████████▍| 46/49 [00:40<00:02,  1.13it/s]"
          ]
        },
        {
          "output_type": "stream",
          "name": "stdout",
          "text": [
            "Batch size is torch.Size([512]) and torch.Size([512]).\n"
          ]
        },
        {
          "output_type": "stream",
          "name": "stderr",
          "text": [
            "\rModel training in progress...:  96%|█████████▌| 47/49 [00:41<00:01,  1.13it/s]"
          ]
        },
        {
          "output_type": "stream",
          "name": "stdout",
          "text": [
            "Batch size is torch.Size([512]) and torch.Size([512]).\n"
          ]
        },
        {
          "output_type": "stream",
          "name": "stderr",
          "text": [
            "\rModel training in progress...:  98%|█████████▊| 48/49 [00:42<00:00,  1.13it/s]"
          ]
        },
        {
          "output_type": "stream",
          "name": "stdout",
          "text": [
            "Batch size is torch.Size([424]) and torch.Size([424]).\n"
          ]
        },
        {
          "output_type": "stream",
          "name": "stderr",
          "text": [
            "Model training in progress...: 100%|██████████| 49/49 [00:43<00:00,  1.13it/s]\n",
            "Model validation in progress...:   0%|          | 0/13 [00:00<?, ?it/s]"
          ]
        },
        {
          "output_type": "stream",
          "name": "stdout",
          "text": [
            "Batch size is torch.Size([512]) and torch.Size([512]).\n"
          ]
        },
        {
          "output_type": "stream",
          "name": "stderr",
          "text": [
            "\rModel validation in progress...:   8%|▊         | 1/13 [00:00<00:03,  3.59it/s]"
          ]
        },
        {
          "output_type": "stream",
          "name": "stdout",
          "text": [
            "Batch size is torch.Size([512]) and torch.Size([512]).\n"
          ]
        },
        {
          "output_type": "stream",
          "name": "stderr",
          "text": [
            "\rModel validation in progress...:  15%|█▌        | 2/13 [00:00<00:03,  3.54it/s]"
          ]
        },
        {
          "output_type": "stream",
          "name": "stdout",
          "text": [
            "Batch size is torch.Size([512]) and torch.Size([512]).\n"
          ]
        },
        {
          "output_type": "stream",
          "name": "stderr",
          "text": [
            "\rModel validation in progress...:  23%|██▎       | 3/13 [00:00<00:02,  3.53it/s]"
          ]
        },
        {
          "output_type": "stream",
          "name": "stdout",
          "text": [
            "Batch size is torch.Size([512]) and torch.Size([512]).\n"
          ]
        },
        {
          "output_type": "stream",
          "name": "stderr",
          "text": [
            "\rModel validation in progress...:  31%|███       | 4/13 [00:01<00:02,  3.50it/s]"
          ]
        },
        {
          "output_type": "stream",
          "name": "stdout",
          "text": [
            "Batch size is torch.Size([512]) and torch.Size([512]).\n"
          ]
        },
        {
          "output_type": "stream",
          "name": "stderr",
          "text": [
            "\rModel validation in progress...:  38%|███▊      | 5/13 [00:01<00:02,  3.48it/s]"
          ]
        },
        {
          "output_type": "stream",
          "name": "stdout",
          "text": [
            "Batch size is torch.Size([512]) and torch.Size([512]).\n"
          ]
        },
        {
          "output_type": "stream",
          "name": "stderr",
          "text": [
            "\rModel validation in progress...:  46%|████▌     | 6/13 [00:01<00:01,  3.54it/s]"
          ]
        },
        {
          "output_type": "stream",
          "name": "stdout",
          "text": [
            "Batch size is torch.Size([512]) and torch.Size([512]).\n"
          ]
        },
        {
          "output_type": "stream",
          "name": "stderr",
          "text": [
            "\rModel validation in progress...:  54%|█████▍    | 7/13 [00:01<00:01,  3.49it/s]"
          ]
        },
        {
          "output_type": "stream",
          "name": "stdout",
          "text": [
            "Batch size is torch.Size([512]) and torch.Size([512]).\n"
          ]
        },
        {
          "output_type": "stream",
          "name": "stderr",
          "text": [
            "\rModel validation in progress...:  62%|██████▏   | 8/13 [00:02<00:01,  3.48it/s]"
          ]
        },
        {
          "output_type": "stream",
          "name": "stdout",
          "text": [
            "Batch size is torch.Size([512]) and torch.Size([512]).\n"
          ]
        },
        {
          "output_type": "stream",
          "name": "stderr",
          "text": [
            "\rModel validation in progress...:  69%|██████▉   | 9/13 [00:02<00:01,  3.43it/s]"
          ]
        },
        {
          "output_type": "stream",
          "name": "stdout",
          "text": [
            "Batch size is torch.Size([512]) and torch.Size([512]).\n"
          ]
        },
        {
          "output_type": "stream",
          "name": "stderr",
          "text": [
            "\rModel validation in progress...:  77%|███████▋  | 10/13 [00:02<00:00,  3.48it/s]"
          ]
        },
        {
          "output_type": "stream",
          "name": "stdout",
          "text": [
            "Batch size is torch.Size([512]) and torch.Size([512]).\n"
          ]
        },
        {
          "output_type": "stream",
          "name": "stderr",
          "text": [
            "\rModel validation in progress...:  85%|████████▍ | 11/13 [00:03<00:00,  3.50it/s]"
          ]
        },
        {
          "output_type": "stream",
          "name": "stdout",
          "text": [
            "Batch size is torch.Size([512]) and torch.Size([512]).\n"
          ]
        },
        {
          "output_type": "stream",
          "name": "stderr",
          "text": [
            "Model validation in progress...: 100%|██████████| 13/13 [00:03<00:00,  3.70it/s]\n"
          ]
        },
        {
          "output_type": "stream",
          "name": "stdout",
          "text": [
            "Batch size is torch.Size([106]) and torch.Size([106]).\n",
            "Epoch: 7\n",
            "Training loss: 0.238,Training accuracy: 0.906\n",
            "Validation loss: 0.436,Validation accuracy: 0.862\n",
            "\n",
            "\n"
          ]
        },
        {
          "output_type": "stream",
          "name": "stderr",
          "text": [
            "\rModel training in progress...:   0%|          | 0/49 [00:00<?, ?it/s]"
          ]
        },
        {
          "output_type": "stream",
          "name": "stdout",
          "text": [
            "Batch size is torch.Size([512]) and torch.Size([512]).\n"
          ]
        },
        {
          "output_type": "stream",
          "name": "stderr",
          "text": [
            "\rModel training in progress...:   2%|▏         | 1/49 [00:00<00:43,  1.09it/s]"
          ]
        },
        {
          "output_type": "stream",
          "name": "stdout",
          "text": [
            "Batch size is torch.Size([512]) and torch.Size([512]).\n"
          ]
        },
        {
          "output_type": "stream",
          "name": "stderr",
          "text": [
            "\rModel training in progress...:   4%|▍         | 2/49 [00:01<00:42,  1.11it/s]"
          ]
        },
        {
          "output_type": "stream",
          "name": "stdout",
          "text": [
            "Batch size is torch.Size([512]) and torch.Size([512]).\n"
          ]
        },
        {
          "output_type": "stream",
          "name": "stderr",
          "text": [
            "\rModel training in progress...:   6%|▌         | 3/49 [00:02<00:40,  1.13it/s]"
          ]
        },
        {
          "output_type": "stream",
          "name": "stdout",
          "text": [
            "Batch size is torch.Size([512]) and torch.Size([512]).\n"
          ]
        },
        {
          "output_type": "stream",
          "name": "stderr",
          "text": [
            "\rModel training in progress...:   8%|▊         | 4/49 [00:03<00:39,  1.13it/s]"
          ]
        },
        {
          "output_type": "stream",
          "name": "stdout",
          "text": [
            "Batch size is torch.Size([512]) and torch.Size([512]).\n"
          ]
        },
        {
          "output_type": "stream",
          "name": "stderr",
          "text": [
            "\rModel training in progress...:  10%|█         | 5/49 [00:04<00:38,  1.13it/s]"
          ]
        },
        {
          "output_type": "stream",
          "name": "stdout",
          "text": [
            "Batch size is torch.Size([512]) and torch.Size([512]).\n"
          ]
        },
        {
          "output_type": "stream",
          "name": "stderr",
          "text": [
            "\rModel training in progress...:  12%|█▏        | 6/49 [00:05<00:37,  1.14it/s]"
          ]
        },
        {
          "output_type": "stream",
          "name": "stdout",
          "text": [
            "Batch size is torch.Size([512]) and torch.Size([512]).\n"
          ]
        },
        {
          "output_type": "stream",
          "name": "stderr",
          "text": [
            "\rModel training in progress...:  14%|█▍        | 7/49 [00:06<00:37,  1.13it/s]"
          ]
        },
        {
          "output_type": "stream",
          "name": "stdout",
          "text": [
            "Batch size is torch.Size([512]) and torch.Size([512]).\n"
          ]
        },
        {
          "output_type": "stream",
          "name": "stderr",
          "text": [
            "\rModel training in progress...:  16%|█▋        | 8/49 [00:07<00:36,  1.13it/s]"
          ]
        },
        {
          "output_type": "stream",
          "name": "stdout",
          "text": [
            "Batch size is torch.Size([512]) and torch.Size([512]).\n"
          ]
        },
        {
          "output_type": "stream",
          "name": "stderr",
          "text": [
            "\rModel training in progress...:  18%|█▊        | 9/49 [00:07<00:35,  1.13it/s]"
          ]
        },
        {
          "output_type": "stream",
          "name": "stdout",
          "text": [
            "Batch size is torch.Size([512]) and torch.Size([512]).\n"
          ]
        },
        {
          "output_type": "stream",
          "name": "stderr",
          "text": [
            "\rModel training in progress...:  20%|██        | 10/49 [00:08<00:34,  1.13it/s]"
          ]
        },
        {
          "output_type": "stream",
          "name": "stdout",
          "text": [
            "Batch size is torch.Size([512]) and torch.Size([512]).\n"
          ]
        },
        {
          "output_type": "stream",
          "name": "stderr",
          "text": [
            "\rModel training in progress...:  22%|██▏       | 11/49 [00:09<00:33,  1.12it/s]"
          ]
        },
        {
          "output_type": "stream",
          "name": "stdout",
          "text": [
            "Batch size is torch.Size([512]) and torch.Size([512]).\n"
          ]
        },
        {
          "output_type": "stream",
          "name": "stderr",
          "text": [
            "\rModel training in progress...:  24%|██▍       | 12/49 [00:10<00:32,  1.13it/s]"
          ]
        },
        {
          "output_type": "stream",
          "name": "stdout",
          "text": [
            "Batch size is torch.Size([512]) and torch.Size([512]).\n"
          ]
        },
        {
          "output_type": "stream",
          "name": "stderr",
          "text": [
            "\rModel training in progress...:  27%|██▋       | 13/49 [00:11<00:31,  1.13it/s]"
          ]
        },
        {
          "output_type": "stream",
          "name": "stdout",
          "text": [
            "Batch size is torch.Size([512]) and torch.Size([512]).\n"
          ]
        },
        {
          "output_type": "stream",
          "name": "stderr",
          "text": [
            "\rModel training in progress...:  29%|██▊       | 14/49 [00:12<00:31,  1.12it/s]"
          ]
        },
        {
          "output_type": "stream",
          "name": "stdout",
          "text": [
            "Batch size is torch.Size([512]) and torch.Size([512]).\n"
          ]
        },
        {
          "output_type": "stream",
          "name": "stderr",
          "text": [
            "\rModel training in progress...:  31%|███       | 15/49 [00:13<00:30,  1.11it/s]"
          ]
        },
        {
          "output_type": "stream",
          "name": "stdout",
          "text": [
            "Batch size is torch.Size([512]) and torch.Size([512]).\n"
          ]
        },
        {
          "output_type": "stream",
          "name": "stderr",
          "text": [
            "\rModel training in progress...:  33%|███▎      | 16/49 [00:14<00:29,  1.12it/s]"
          ]
        },
        {
          "output_type": "stream",
          "name": "stdout",
          "text": [
            "Batch size is torch.Size([512]) and torch.Size([512]).\n"
          ]
        },
        {
          "output_type": "stream",
          "name": "stderr",
          "text": [
            "\rModel training in progress...:  35%|███▍      | 17/49 [00:15<00:28,  1.12it/s]"
          ]
        },
        {
          "output_type": "stream",
          "name": "stdout",
          "text": [
            "Batch size is torch.Size([512]) and torch.Size([512]).\n"
          ]
        },
        {
          "output_type": "stream",
          "name": "stderr",
          "text": [
            "\rModel training in progress...:  37%|███▋      | 18/49 [00:15<00:27,  1.12it/s]"
          ]
        },
        {
          "output_type": "stream",
          "name": "stdout",
          "text": [
            "Batch size is torch.Size([512]) and torch.Size([512]).\n"
          ]
        },
        {
          "output_type": "stream",
          "name": "stderr",
          "text": [
            "\rModel training in progress...:  39%|███▉      | 19/49 [00:16<00:26,  1.12it/s]"
          ]
        },
        {
          "output_type": "stream",
          "name": "stdout",
          "text": [
            "Batch size is torch.Size([512]) and torch.Size([512]).\n"
          ]
        },
        {
          "output_type": "stream",
          "name": "stderr",
          "text": [
            "\rModel training in progress...:  41%|████      | 20/49 [00:17<00:25,  1.12it/s]"
          ]
        },
        {
          "output_type": "stream",
          "name": "stdout",
          "text": [
            "Batch size is torch.Size([512]) and torch.Size([512]).\n"
          ]
        },
        {
          "output_type": "stream",
          "name": "stderr",
          "text": [
            "\rModel training in progress...:  43%|████▎     | 21/49 [00:18<00:24,  1.13it/s]"
          ]
        },
        {
          "output_type": "stream",
          "name": "stdout",
          "text": [
            "Batch size is torch.Size([512]) and torch.Size([512]).\n"
          ]
        },
        {
          "output_type": "stream",
          "name": "stderr",
          "text": [
            "\rModel training in progress...:  45%|████▍     | 22/49 [00:19<00:23,  1.13it/s]"
          ]
        },
        {
          "output_type": "stream",
          "name": "stdout",
          "text": [
            "Batch size is torch.Size([512]) and torch.Size([512]).\n"
          ]
        },
        {
          "output_type": "stream",
          "name": "stderr",
          "text": [
            "\rModel training in progress...:  47%|████▋     | 23/49 [00:20<00:22,  1.13it/s]"
          ]
        },
        {
          "output_type": "stream",
          "name": "stdout",
          "text": [
            "Batch size is torch.Size([512]) and torch.Size([512]).\n"
          ]
        },
        {
          "output_type": "stream",
          "name": "stderr",
          "text": [
            "\rModel training in progress...:  49%|████▉     | 24/49 [00:21<00:22,  1.13it/s]"
          ]
        },
        {
          "output_type": "stream",
          "name": "stdout",
          "text": [
            "Batch size is torch.Size([512]) and torch.Size([512]).\n"
          ]
        },
        {
          "output_type": "stream",
          "name": "stderr",
          "text": [
            "\rModel training in progress...:  51%|█████     | 25/49 [00:22<00:21,  1.13it/s]"
          ]
        },
        {
          "output_type": "stream",
          "name": "stdout",
          "text": [
            "Batch size is torch.Size([512]) and torch.Size([512]).\n"
          ]
        },
        {
          "output_type": "stream",
          "name": "stderr",
          "text": [
            "\rModel training in progress...:  53%|█████▎    | 26/49 [00:23<00:20,  1.12it/s]"
          ]
        },
        {
          "output_type": "stream",
          "name": "stdout",
          "text": [
            "Batch size is torch.Size([512]) and torch.Size([512]).\n"
          ]
        },
        {
          "output_type": "stream",
          "name": "stderr",
          "text": [
            "\rModel training in progress...:  55%|█████▌    | 27/49 [00:23<00:19,  1.13it/s]"
          ]
        },
        {
          "output_type": "stream",
          "name": "stdout",
          "text": [
            "Batch size is torch.Size([512]) and torch.Size([512]).\n"
          ]
        },
        {
          "output_type": "stream",
          "name": "stderr",
          "text": [
            "\rModel training in progress...:  57%|█████▋    | 28/49 [00:24<00:18,  1.13it/s]"
          ]
        },
        {
          "output_type": "stream",
          "name": "stdout",
          "text": [
            "Batch size is torch.Size([512]) and torch.Size([512]).\n"
          ]
        },
        {
          "output_type": "stream",
          "name": "stderr",
          "text": [
            "\rModel training in progress...:  59%|█████▉    | 29/49 [00:25<00:17,  1.12it/s]"
          ]
        },
        {
          "output_type": "stream",
          "name": "stdout",
          "text": [
            "Batch size is torch.Size([512]) and torch.Size([512]).\n"
          ]
        },
        {
          "output_type": "stream",
          "name": "stderr",
          "text": [
            "\rModel training in progress...:  61%|██████    | 30/49 [00:26<00:16,  1.12it/s]"
          ]
        },
        {
          "output_type": "stream",
          "name": "stdout",
          "text": [
            "Batch size is torch.Size([512]) and torch.Size([512]).\n"
          ]
        },
        {
          "output_type": "stream",
          "name": "stderr",
          "text": [
            "\rModel training in progress...:  63%|██████▎   | 31/49 [00:27<00:15,  1.13it/s]"
          ]
        },
        {
          "output_type": "stream",
          "name": "stdout",
          "text": [
            "Batch size is torch.Size([512]) and torch.Size([512]).\n"
          ]
        },
        {
          "output_type": "stream",
          "name": "stderr",
          "text": [
            "\rModel training in progress...:  65%|██████▌   | 32/49 [00:28<00:15,  1.12it/s]"
          ]
        },
        {
          "output_type": "stream",
          "name": "stdout",
          "text": [
            "Batch size is torch.Size([512]) and torch.Size([512]).\n"
          ]
        },
        {
          "output_type": "stream",
          "name": "stderr",
          "text": [
            "\rModel training in progress...:  67%|██████▋   | 33/49 [00:29<00:14,  1.14it/s]"
          ]
        },
        {
          "output_type": "stream",
          "name": "stdout",
          "text": [
            "Batch size is torch.Size([512]) and torch.Size([512]).\n"
          ]
        },
        {
          "output_type": "stream",
          "name": "stderr",
          "text": [
            "\rModel training in progress...:  69%|██████▉   | 34/49 [00:30<00:13,  1.13it/s]"
          ]
        },
        {
          "output_type": "stream",
          "name": "stdout",
          "text": [
            "Batch size is torch.Size([512]) and torch.Size([512]).\n"
          ]
        },
        {
          "output_type": "stream",
          "name": "stderr",
          "text": [
            "\rModel training in progress...:  71%|███████▏  | 35/49 [00:31<00:12,  1.12it/s]"
          ]
        },
        {
          "output_type": "stream",
          "name": "stdout",
          "text": [
            "Batch size is torch.Size([512]) and torch.Size([512]).\n"
          ]
        },
        {
          "output_type": "stream",
          "name": "stderr",
          "text": [
            "\rModel training in progress...:  73%|███████▎  | 36/49 [00:31<00:11,  1.12it/s]"
          ]
        },
        {
          "output_type": "stream",
          "name": "stdout",
          "text": [
            "Batch size is torch.Size([512]) and torch.Size([512]).\n"
          ]
        },
        {
          "output_type": "stream",
          "name": "stderr",
          "text": [
            "\rModel training in progress...:  76%|███████▌  | 37/49 [00:32<00:10,  1.12it/s]"
          ]
        },
        {
          "output_type": "stream",
          "name": "stdout",
          "text": [
            "Batch size is torch.Size([512]) and torch.Size([512]).\n"
          ]
        },
        {
          "output_type": "stream",
          "name": "stderr",
          "text": [
            "\rModel training in progress...:  78%|███████▊  | 38/49 [00:33<00:09,  1.12it/s]"
          ]
        },
        {
          "output_type": "stream",
          "name": "stdout",
          "text": [
            "Batch size is torch.Size([512]) and torch.Size([512]).\n"
          ]
        },
        {
          "output_type": "stream",
          "name": "stderr",
          "text": [
            "\rModel training in progress...:  80%|███████▉  | 39/49 [00:34<00:08,  1.12it/s]"
          ]
        },
        {
          "output_type": "stream",
          "name": "stdout",
          "text": [
            "Batch size is torch.Size([512]) and torch.Size([512]).\n"
          ]
        },
        {
          "output_type": "stream",
          "name": "stderr",
          "text": [
            "\rModel training in progress...:  82%|████████▏ | 40/49 [00:35<00:08,  1.12it/s]"
          ]
        },
        {
          "output_type": "stream",
          "name": "stdout",
          "text": [
            "Batch size is torch.Size([512]) and torch.Size([512]).\n"
          ]
        },
        {
          "output_type": "stream",
          "name": "stderr",
          "text": [
            "\rModel training in progress...:  84%|████████▎ | 41/49 [00:36<00:07,  1.11it/s]"
          ]
        },
        {
          "output_type": "stream",
          "name": "stdout",
          "text": [
            "Batch size is torch.Size([512]) and torch.Size([512]).\n"
          ]
        },
        {
          "output_type": "stream",
          "name": "stderr",
          "text": [
            "\rModel training in progress...:  86%|████████▌ | 42/49 [00:37<00:06,  1.12it/s]"
          ]
        },
        {
          "output_type": "stream",
          "name": "stdout",
          "text": [
            "Batch size is torch.Size([512]) and torch.Size([512]).\n"
          ]
        },
        {
          "output_type": "stream",
          "name": "stderr",
          "text": [
            "\rModel training in progress...:  88%|████████▊ | 43/49 [00:38<00:05,  1.14it/s]"
          ]
        },
        {
          "output_type": "stream",
          "name": "stdout",
          "text": [
            "Batch size is torch.Size([512]) and torch.Size([512]).\n"
          ]
        },
        {
          "output_type": "stream",
          "name": "stderr",
          "text": [
            "\rModel training in progress...:  90%|████████▉ | 44/49 [00:39<00:04,  1.13it/s]"
          ]
        },
        {
          "output_type": "stream",
          "name": "stdout",
          "text": [
            "Batch size is torch.Size([512]) and torch.Size([512]).\n"
          ]
        },
        {
          "output_type": "stream",
          "name": "stderr",
          "text": [
            "\rModel training in progress...:  92%|█████████▏| 45/49 [00:39<00:03,  1.13it/s]"
          ]
        },
        {
          "output_type": "stream",
          "name": "stdout",
          "text": [
            "Batch size is torch.Size([512]) and torch.Size([512]).\n"
          ]
        },
        {
          "output_type": "stream",
          "name": "stderr",
          "text": [
            "\rModel training in progress...:  94%|█████████▍| 46/49 [00:40<00:02,  1.13it/s]"
          ]
        },
        {
          "output_type": "stream",
          "name": "stdout",
          "text": [
            "Batch size is torch.Size([512]) and torch.Size([512]).\n"
          ]
        },
        {
          "output_type": "stream",
          "name": "stderr",
          "text": [
            "\rModel training in progress...:  96%|█████████▌| 47/49 [00:41<00:01,  1.13it/s]"
          ]
        },
        {
          "output_type": "stream",
          "name": "stdout",
          "text": [
            "Batch size is torch.Size([512]) and torch.Size([512]).\n"
          ]
        },
        {
          "output_type": "stream",
          "name": "stderr",
          "text": [
            "\rModel training in progress...:  98%|█████████▊| 48/49 [00:42<00:00,  1.12it/s]"
          ]
        },
        {
          "output_type": "stream",
          "name": "stdout",
          "text": [
            "Batch size is torch.Size([424]) and torch.Size([424]).\n"
          ]
        },
        {
          "output_type": "stream",
          "name": "stderr",
          "text": [
            "Model training in progress...: 100%|██████████| 49/49 [00:43<00:00,  1.13it/s]\n",
            "Model validation in progress...:   0%|          | 0/13 [00:00<?, ?it/s]"
          ]
        },
        {
          "output_type": "stream",
          "name": "stdout",
          "text": [
            "Batch size is torch.Size([512]) and torch.Size([512]).\n"
          ]
        },
        {
          "output_type": "stream",
          "name": "stderr",
          "text": [
            "\rModel validation in progress...:   8%|▊         | 1/13 [00:00<00:03,  3.52it/s]"
          ]
        },
        {
          "output_type": "stream",
          "name": "stdout",
          "text": [
            "Batch size is torch.Size([512]) and torch.Size([512]).\n"
          ]
        },
        {
          "output_type": "stream",
          "name": "stderr",
          "text": [
            "\rModel validation in progress...:  15%|█▌        | 2/13 [00:00<00:03,  3.54it/s]"
          ]
        },
        {
          "output_type": "stream",
          "name": "stdout",
          "text": [
            "Batch size is torch.Size([512]) and torch.Size([512]).\n"
          ]
        },
        {
          "output_type": "stream",
          "name": "stderr",
          "text": [
            "\rModel validation in progress...:  23%|██▎       | 3/13 [00:00<00:02,  3.49it/s]"
          ]
        },
        {
          "output_type": "stream",
          "name": "stdout",
          "text": [
            "Batch size is torch.Size([512]) and torch.Size([512]).\n"
          ]
        },
        {
          "output_type": "stream",
          "name": "stderr",
          "text": [
            "\rModel validation in progress...:  31%|███       | 4/13 [00:01<00:02,  3.45it/s]"
          ]
        },
        {
          "output_type": "stream",
          "name": "stdout",
          "text": [
            "Batch size is torch.Size([512]) and torch.Size([512]).\n"
          ]
        },
        {
          "output_type": "stream",
          "name": "stderr",
          "text": [
            "\rModel validation in progress...:  38%|███▊      | 5/13 [00:01<00:02,  3.46it/s]"
          ]
        },
        {
          "output_type": "stream",
          "name": "stdout",
          "text": [
            "Batch size is torch.Size([512]) and torch.Size([512]).\n"
          ]
        },
        {
          "output_type": "stream",
          "name": "stderr",
          "text": [
            "\rModel validation in progress...:  46%|████▌     | 6/13 [00:01<00:01,  3.53it/s]"
          ]
        },
        {
          "output_type": "stream",
          "name": "stdout",
          "text": [
            "Batch size is torch.Size([512]) and torch.Size([512]).\n"
          ]
        },
        {
          "output_type": "stream",
          "name": "stderr",
          "text": [
            "\rModel validation in progress...:  54%|█████▍    | 7/13 [00:02<00:01,  3.49it/s]"
          ]
        },
        {
          "output_type": "stream",
          "name": "stdout",
          "text": [
            "Batch size is torch.Size([512]) and torch.Size([512]).\n"
          ]
        },
        {
          "output_type": "stream",
          "name": "stderr",
          "text": [
            "\rModel validation in progress...:  62%|██████▏   | 8/13 [00:02<00:01,  3.48it/s]"
          ]
        },
        {
          "output_type": "stream",
          "name": "stdout",
          "text": [
            "Batch size is torch.Size([512]) and torch.Size([512]).\n"
          ]
        },
        {
          "output_type": "stream",
          "name": "stderr",
          "text": [
            "\rModel validation in progress...:  69%|██████▉   | 9/13 [00:02<00:01,  3.45it/s]"
          ]
        },
        {
          "output_type": "stream",
          "name": "stdout",
          "text": [
            "Batch size is torch.Size([512]) and torch.Size([512]).\n"
          ]
        },
        {
          "output_type": "stream",
          "name": "stderr",
          "text": [
            "\rModel validation in progress...:  77%|███████▋  | 10/13 [00:02<00:00,  3.52it/s]"
          ]
        },
        {
          "output_type": "stream",
          "name": "stdout",
          "text": [
            "Batch size is torch.Size([512]) and torch.Size([512]).\n"
          ]
        },
        {
          "output_type": "stream",
          "name": "stderr",
          "text": [
            "\rModel validation in progress...:  85%|████████▍ | 11/13 [00:03<00:00,  3.51it/s]"
          ]
        },
        {
          "output_type": "stream",
          "name": "stdout",
          "text": [
            "Batch size is torch.Size([512]) and torch.Size([512]).\n"
          ]
        },
        {
          "output_type": "stream",
          "name": "stderr",
          "text": [
            "Model validation in progress...: 100%|██████████| 13/13 [00:03<00:00,  3.70it/s]\n"
          ]
        },
        {
          "output_type": "stream",
          "name": "stdout",
          "text": [
            "Batch size is torch.Size([106]) and torch.Size([106]).\n",
            "Epoch: 8\n",
            "Training loss: 0.214,Training accuracy: 0.913\n",
            "Validation loss: 0.393,Validation accuracy: 0.871\n",
            "\n",
            "\n",
            "\n",
            "\n",
            "Model training stopping early...\n",
            "Model training complete, and the model has 10069202 learnable parameters.\n",
            "\n",
            "\n"
          ]
        },
        {
          "output_type": "display_data",
          "data": {
            "text/plain": [
              "<Figure size 1000x600 with 1 Axes>"
            ],
            "image/png": "[encoded data removed]"
          },
          "metadata": {}
        },
        {
          "output_type": "display_data",
          "data": {
            "text/plain": [
              "<Figure size 1000x600 with 1 Axes>"
            ],
            "image/png": "[encoded data removed]"
          },
          "metadata": {}
        }
      ]
    },
    {
      "cell_type": "code",
      "source": [
        "#Evaluate the LSTM model\n",
        "model.load_state_dict(torch.load('lstm.pt'))#equate model weights to that of the one with the best validation results\n",
        "loss,accuracy=evaluate(model,tsIterator,costFun,params)\n",
        "print(f'Testing loss: {loss:.3f},Testing accuracy: {accuracy:.3f}')"
      ],
      "metadata": {
        "id": "WOJQoc7UJ2Z9"
      },
      "execution_count": null,
      "outputs": []
    }
  ]
}